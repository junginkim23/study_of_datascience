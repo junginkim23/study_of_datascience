{
  "nbformat": 4,
  "nbformat_minor": 0,
  "metadata": {
    "colab": {
      "name": "n113a_data-manipulation.ipynb",
      "provenance": [],
      "collapsed_sections": []
    },
    "kernelspec": {
      "display_name": "Python 3",
      "language": "python",
      "name": "python3"
    },
    "language_info": {
      "codemirror_mode": {
        "name": "ipython",
        "version": 3
      },
      "file_extension": ".py",
      "mimetype": "text/x-python",
      "name": "python",
      "nbconvert_exporter": "python",
      "pygments_lexer": "ipython3",
      "version": "3.8.5"
    }
  },
  "cells": [
    {
      "cell_type": "markdown",
      "metadata": {
        "id": "pmU5YUal1eTZ"
      },
      "source": [
        "<img src='https://user-images.githubusercontent.com/6457691/89746244-a6e2a200-daf3-11ea-9314-7863d544d73c.png' width = '200' align = 'right'>\n",
        "\n",
        "## *DATA SCIENCE / SECTION 1 / SPRINT 1 / NOTE 3*\n",
        "\n",
        "# 📝 Assignment\n",
        "\n",
        "---\n",
        "\n",
        "## 1. Concat \n",
        "\n",
        "세션시간에 다뤘던 6개의 데이터를 1개로 합치세요.\n",
        "\n",
        "데이터를 불러오기 위하여 아래의 코드를 참조하세요.\n",
        "\n",
        "합쳐진 데이터의 이름은 `df`입니다.\n",
        "\n",
        "```python\n",
        "import pandas as pd\n",
        "\n",
        "urlhead = 'https://ds-lecture-data.s3.ap-northeast-2.amazonaws.com/stocks/'\n",
        "df1 = pd.read_csv(urlhead + '000080.csv') \n",
        "# '000890.csv'\n",
        "# '005300.csv'\n",
        "# '027740.csv'\n",
        "# '035810.csv'\n",
        "# '136480.csv'\n",
        "```\n",
        "\n",
        "\n",
        "\n",
        "단, 모든 feature, 모든 데이터에 대해서가 아닌\n",
        "\n",
        "- 매출액\n",
        "- 자산총계\n",
        "- EPS\n",
        "\n",
        "- 제일 최근 분기의 데이터\n",
        "\n",
        "에 대해서만 하면 됩니다.\n",
        "\n",
        "||매출액|자산총계|EPS(원)|종목명|\n",
        "|:-:|:-:|:-:|:-:|:-:|\n",
        "|2020/09|6,243|10,897|453|하이트진로|\n",
        "|...|...|...|...|...|\n",
        "|2020/09|2,613|2,695|62|하림|\n",
        "\n",
        "(첫부분은 값이 달라도 되며, 결과 shape는 6,4입니다.)\n",
        "\n",
        "힌트 : \n",
        "- 데이터를 transpose\n",
        "- column의 이름을 변경 및 설정\n",
        "- 데이터의 일부 feature 선택\n",
        "- `종목명`이라는 feature 지정\n",
        "- 이후 `concat`으로 합치기\n",
        "- 합친 이후의 index를 종목명으로 설정 및 drop\n",
        "\n",
        "이라는 단계를 거치면 될겁니다."
      ]
    },
    {
      "cell_type": "code",
      "metadata": {
        "id": "4iwcS2qTbpSQ"
      },
      "source": [
        "def str_to_int(x):\n",
        "  if x.replace(',',''):\n",
        "    x = x.replace(',','')\n",
        "  return int(x)"
      ],
      "execution_count": 5,
      "outputs": []
    },
    {
      "cell_type": "code",
      "metadata": {
        "id": "hwBYT8GWxMXU"
      },
      "source": [
        "import pandas as pd\n",
        " \n",
        "urlhead = 'https://ds-lecture-data.s3.ap-northeast-2.amazonaws.com/stocks/'\n",
        "\n",
        "def mydf(myurl):\n",
        "    df1 = pd.read_csv(urlhead + myurl).transpose()\n",
        "    new_header = df1.iloc[0] \n",
        "    df1 = df1[1:]\n",
        "    df1.columns = new_header\n",
        "    return df1[-1:][['매출액','자산총계','EPS(원)']]\n",
        "\n",
        "df3 = pd.DataFrame(\n",
        "    { '종목명': ['하이트진로', '보해양조', '롯데칠성', '마니커', '이지홀딩스', '하림']}\n",
        "     )\n",
        "\n",
        "df = pd.concat([mydf('000080.csv'),mydf('000890.csv'),mydf('005300.csv'),mydf('027740.csv'),mydf('035810.csv'),mydf('136480.csv')])\n",
        "df = df.reset_index()\n",
        "df = df.drop(df.columns[0],axis = 1)\n",
        "df = pd.concat([df3,df],axis = 1)\n",
        "df['매출액'] = df['매출액'].apply(str_to_int)\n",
        "df['자산총계'] = df['자산총계'].apply(str_to_int)\n",
        "df['EPS(원)'] = df['EPS(원)'].apply(str_to_int)"
      ],
      "execution_count": 6,
      "outputs": []
    },
    {
      "cell_type": "markdown",
      "metadata": {
        "id": "RsiWi4DuXPLP"
      },
      "source": [
        "## 2. Reshape \n",
        "\n",
        "방금 만든 데이터를 아래 예시와 같은 **tidy** 형태로 만드세요.\n",
        "\n",
        "이때 tidy 데이터의 이름은 `df_tidy` 입니다.\n",
        "\n",
        "|종목명|Feature|Value|\n",
        "|:-:|:-:|:-:|\n",
        "|하이트진로|매출액|6243|\n",
        "|보해양조|매출액|205|\n",
        "|롯데칠성|매출액|5980|\n",
        "|...|...|...|\n",
        "|마니커|EPS(원)|-61|\n",
        "|이지홀딩스|EPS(원)|1168|\n",
        "|하림|EPS(원)|62|\n",
        "\n",
        "이 후 아래의 코드를 정상적으로 실행했을때 나오는 box의 수를 `res`에 저장하세요.\n",
        "\n",
        "```python\n",
        "sns.boxplot(data = df_tidy, x = '종목명', y = 'value');\n",
        "```\n",
        "\n",
        "\n"
      ]
    },
    {
      "cell_type": "code",
      "metadata": {
        "colab": {
          "base_uri": "https://localhost:8080/"
        },
        "id": "wYV9GAwedLlj",
        "outputId": "c48e9a12-3da9-4523-8e18-865c61834ce4"
      },
      "source": [
        "!sudo apt-get install -y fonts-nanum\n",
        "!sudo fc-cache -fv\n",
        "!rm ~/.cache/matplotlib -rf"
      ],
      "execution_count": 9,
      "outputs": [
        {
          "output_type": "stream",
          "text": [
            "Reading package lists... Done\n",
            "Building dependency tree       \n",
            "Reading state information... Done\n",
            "The following package was automatically installed and is no longer required:\n",
            "  libnvidia-common-460\n",
            "Use 'sudo apt autoremove' to remove it.\n",
            "The following NEW packages will be installed:\n",
            "  fonts-nanum\n",
            "0 upgraded, 1 newly installed, 0 to remove and 34 not upgraded.\n",
            "Need to get 9,604 kB of archives.\n",
            "After this operation, 29.5 MB of additional disk space will be used.\n",
            "Get:1 http://archive.ubuntu.com/ubuntu bionic/universe amd64 fonts-nanum all 20170925-1 [9,604 kB]\n",
            "Fetched 9,604 kB in 1s (7,273 kB/s)\n",
            "debconf: unable to initialize frontend: Dialog\n",
            "debconf: (No usable dialog-like program is installed, so the dialog based frontend cannot be used. at /usr/share/perl5/Debconf/FrontEnd/Dialog.pm line 76, <> line 1.)\n",
            "debconf: falling back to frontend: Readline\n",
            "debconf: unable to initialize frontend: Readline\n",
            "debconf: (This frontend requires a controlling tty.)\n",
            "debconf: falling back to frontend: Teletype\n",
            "dpkg-preconfigure: unable to re-open stdin: \n",
            "Selecting previously unselected package fonts-nanum.\n",
            "(Reading database ... 160706 files and directories currently installed.)\n",
            "Preparing to unpack .../fonts-nanum_20170925-1_all.deb ...\n",
            "Unpacking fonts-nanum (20170925-1) ...\n",
            "Setting up fonts-nanum (20170925-1) ...\n",
            "Processing triggers for fontconfig (2.12.6-0ubuntu2) ...\n",
            "/usr/share/fonts: caching, new cache contents: 0 fonts, 1 dirs\n",
            "/usr/share/fonts/truetype: caching, new cache contents: 0 fonts, 3 dirs\n",
            "/usr/share/fonts/truetype/humor-sans: caching, new cache contents: 1 fonts, 0 dirs\n",
            "/usr/share/fonts/truetype/liberation: caching, new cache contents: 16 fonts, 0 dirs\n",
            "/usr/share/fonts/truetype/nanum: caching, new cache contents: 10 fonts, 0 dirs\n",
            "/usr/local/share/fonts: caching, new cache contents: 0 fonts, 0 dirs\n",
            "/root/.local/share/fonts: skipping, no such directory\n",
            "/root/.fonts: skipping, no such directory\n",
            "/var/cache/fontconfig: cleaning cache directory\n",
            "/root/.cache/fontconfig: not cleaning non-existent cache directory\n",
            "/root/.fontconfig: not cleaning non-existent cache directory\n",
            "fc-cache: succeeded\n"
          ],
          "name": "stdout"
        }
      ]
    },
    {
      "cell_type": "code",
      "metadata": {
        "id": "gACCr67CoUv0"
      },
      "source": [
        "df_tidy = df.melt(id_vars='종목명')\n",
        "df_tidy = df_tidy.rename(columns = {'variable':'Feature'})"
      ],
      "execution_count": 7,
      "outputs": []
    },
    {
      "cell_type": "code",
      "metadata": {
        "colab": {
          "base_uri": "https://localhost:8080/",
          "height": 279
        },
        "id": "Y-Sbz1by4LaC",
        "outputId": "f05a70d6-4889-495e-c96d-4795ee52dd49"
      },
      "source": [
        "import seaborn as sns\n",
        "import matplotlib.pyplot as plt\n",
        "\n",
        "plt.rc('font', family='NanumBarunGothic') \n",
        "sns.boxplot(data = df_tidy, x = '종목명', y = 'value');\n",
        "res = len(df_tidy['종목명'].unique()) "
      ],
      "execution_count": 8,
      "outputs": [
        {
          "output_type": "display_data",
          "data": {
            "image/png": "[encoded data removed]",
            "text/plain": [
              "<Figure size 432x288 with 1 Axes>"
            ]
          },
          "metadata": {
            "tags": [],
            "needs_background": "light"
          }
        }
      ]
    },
    {
      "cell_type": "markdown",
      "metadata": {
        "id": "8Yscu0NtMmRM"
      },
      "source": [
        "## 3. Merge & Join +\n",
        "\n",
        "pandas merge의 options중 how 에는 여러가지 옵션들이 있습니다.\n",
        "\n",
        "공식 레퍼런스를 검색, 참조하여\n",
        "\n",
        "아래 코드를 바탕으로 \n",
        "\n",
        "다음과 같은 결과물을 만드는 코드를 작성하세요\n",
        "\n",
        "변수의 이름은 `df2` 입니다.\n",
        "\n",
        "|key1|key2|A|B|C|D|\n",
        "|:-:|:-:|:-:|:-:|:-:|:-:|\n",
        "|K0|K0|A0|B0|C0|D0|\n",
        "|K0|K1|A1|B1|NaN|NaN|\n",
        "|K1|K0|A2|B2|C1|D1|\n",
        "|K1|K0|A2|B2|C2|D2|\n",
        "|K2|K1|A3|B3|NaN|NaN|\n",
        "\n",
        "\n",
        "\n"
      ]
    },
    {
      "cell_type": "code",
      "metadata": {
        "id": "DlrGYjByMvn6"
      },
      "source": [
        "import pandas as pd\n",
        "\n",
        "left = pd.DataFrame({'key1': ['K0', 'K0', 'K1', 'K2'],\n",
        "                     'key2': ['K0', 'K1', 'K0', 'K1'],\n",
        "                     'A': ['A0', 'A1', 'A2', 'A3'],\n",
        "                     'B': ['B0', 'B1', 'B2', 'B3']})\n",
        "\n",
        "right = pd.DataFrame({'key1': ['K0', 'K1', 'K1', 'K2'],\n",
        "                      'key2': ['K0', 'K0', 'K0', 'K0'],\n",
        "                      'C': ['C0', 'C1', 'C2', 'C3'],\n",
        "                      'D': ['D0', 'D1', 'D2', 'D3']})"
      ],
      "execution_count": 13,
      "outputs": []
    },
    {
      "cell_type": "code",
      "metadata": {
        "id": "kYSdC0HdeUEq"
      },
      "source": [
        "df2 = pd.merge(left,right, how = 'left', on=['key1','key2'])"
      ],
      "execution_count": 14,
      "outputs": []
    },
    {
      "cell_type": "code",
      "metadata": {
        "colab": {
          "base_uri": "https://localhost:8080/",
          "height": 195
        },
        "id": "0M7SwdIzeh-7",
        "outputId": "4cd48290-e012-4a5f-84d1-413b0ea27e6b"
      },
      "source": [
        "df2"
      ],
      "execution_count": 15,
      "outputs": [
        {
          "output_type": "execute_result",
          "data": {
            "text/html": [
              "<div>\n",
              "<style scoped>\n",
              "    .dataframe tbody tr th:only-of-type {\n",
              "        vertical-align: middle;\n",
              "    }\n",
              "\n",
              "    .dataframe tbody tr th {\n",
              "        vertical-align: top;\n",
              "    }\n",
              "\n",
              "    .dataframe thead th {\n",
              "        text-align: right;\n",
              "    }\n",
              "</style>\n",
              "<table border=\"1\" class=\"dataframe\">\n",
              "  <thead>\n",
              "    <tr style=\"text-align: right;\">\n",
              "      <th></th>\n",
              "      <th>key1</th>\n",
              "      <th>key2</th>\n",
              "      <th>A</th>\n",
              "      <th>B</th>\n",
              "      <th>C</th>\n",
              "      <th>D</th>\n",
              "    </tr>\n",
              "  </thead>\n",
              "  <tbody>\n",
              "    <tr>\n",
              "      <th>0</th>\n",
              "      <td>K0</td>\n",
              "      <td>K0</td>\n",
              "      <td>A0</td>\n",
              "      <td>B0</td>\n",
              "      <td>C0</td>\n",
              "      <td>D0</td>\n",
              "    </tr>\n",
              "    <tr>\n",
              "      <th>1</th>\n",
              "      <td>K0</td>\n",
              "      <td>K1</td>\n",
              "      <td>A1</td>\n",
              "      <td>B1</td>\n",
              "      <td>NaN</td>\n",
              "      <td>NaN</td>\n",
              "    </tr>\n",
              "    <tr>\n",
              "      <th>2</th>\n",
              "      <td>K1</td>\n",
              "      <td>K0</td>\n",
              "      <td>A2</td>\n",
              "      <td>B2</td>\n",
              "      <td>C1</td>\n",
              "      <td>D1</td>\n",
              "    </tr>\n",
              "    <tr>\n",
              "      <th>3</th>\n",
              "      <td>K1</td>\n",
              "      <td>K0</td>\n",
              "      <td>A2</td>\n",
              "      <td>B2</td>\n",
              "      <td>C2</td>\n",
              "      <td>D2</td>\n",
              "    </tr>\n",
              "    <tr>\n",
              "      <th>4</th>\n",
              "      <td>K2</td>\n",
              "      <td>K1</td>\n",
              "      <td>A3</td>\n",
              "      <td>B3</td>\n",
              "      <td>NaN</td>\n",
              "      <td>NaN</td>\n",
              "    </tr>\n",
              "  </tbody>\n",
              "</table>\n",
              "</div>"
            ],
            "text/plain": [
              "  key1 key2   A   B    C    D\n",
              "0   K0   K0  A0  B0   C0   D0\n",
              "1   K0   K1  A1  B1  NaN  NaN\n",
              "2   K1   K0  A2  B2   C1   D1\n",
              "3   K1   K0  A2  B2   C2   D2\n",
              "4   K2   K1  A3  B3  NaN  NaN"
            ]
          },
          "metadata": {
            "tags": []
          },
          "execution_count": 15
        }
      ]
    },
    {
      "cell_type": "markdown",
      "metadata": {
        "id": "en0Q_b5L4fxA"
      },
      "source": [
        "## Grading\n",
        "\n",
        "이전 과제를 완료했다면, 아래의 코드를 실행하세요. "
      ]
    },
    {
      "cell_type": "code",
      "metadata": {
        "id": "1k3zn-YV4fdg"
      },
      "source": [
        "import numpy as np\n",
        "\n",
        "def grade(df,df2, df_tidy, res):\n",
        "  score = 0\n",
        "  score += (df['매출액'][2] == 5980)\n",
        "  score += (df['자산총계'][3] == 1897)   \n",
        "  score += (df2.equals(pd.DataFrame({\n",
        "    'key1' : ['K0', 'K0', 'K1', 'K1', 'K2'],\n",
        "    'key2' : ['K0', 'K1', 'K0', 'K0', 'K1'],\n",
        "    'A' : ['A0', 'A1', 'A2', 'A2', 'A3'],\n",
        "    'B' : ['B0', 'B1', 'B2', 'B2', 'B3'],\n",
        "    'C' : ['C0', np.NaN, 'C1', 'C2', np.NaN],\n",
        "    'D' : ['D0', np.NaN, 'D1', 'D2', np.NaN],\n",
        "  }))) \n",
        "  score += (res == 6)\n",
        "  score += (round(df_tidy['value'].mean(), 3) == 7090.444)\n",
        "  return(score)"
      ],
      "execution_count": 12,
      "outputs": []
    },
    {
      "cell_type": "code",
      "metadata": {
        "id": "nj_RslFn4lCM",
        "colab": {
          "base_uri": "https://localhost:8080/"
        },
        "outputId": "d38bfc39-b44c-4a95-c016-88acd8b0c22b"
      },
      "source": [
        "grade(df, df2, df_tidy, res)"
      ],
      "execution_count": 16,
      "outputs": [
        {
          "output_type": "execute_result",
          "data": {
            "text/plain": [
              "5"
            ]
          },
          "metadata": {
            "tags": []
          },
          "execution_count": 16
        }
      ]
    },
    {
      "cell_type": "markdown",
      "metadata": {
        "id": "mnOuqL9K0dqh"
      },
      "source": [
        "## 🔥 도전과제"
      ]
    },
    {
      "cell_type": "markdown",
      "metadata": {
        "id": "GboSqR1qRoTO"
      },
      "source": [
        "아래 링크들을 참조하여, \n",
        "특정 테마별로 포함되어 있는 종목의 데이터를 직접 csv형태로 수집하고 (아래 적힌 3개씩)\n",
        "\n",
        "<https://finance.naver.com/sise/sise_group_detail.nhn?type=theme&no=408>\n",
        "\n",
        "<https://finance.naver.com/sise/sise_group_detail.nhn?type=theme&no=36>\n",
        "\n",
        "- 최종 분기에 해당하는 데이터\n",
        "\n",
        "- 테마별 평균 데이터를 결과물로 만드는 코드를 작성하세요.\n",
        "\n",
        "단, 모든 feature에 대해서가 아닌\n",
        "\n",
        "- 매출액\n",
        "- 자산총계\n",
        "- EPS\n",
        "\n",
        "에 대해서만 하면 됩니다.\n",
        "\n",
        "|종목명|매출액|자산총계|EPS|\n",
        "|:-:|:-:|:-:|:-:|\n",
        "|대한해운|...|...|...|...|\n",
        "|팬오션|...|...|...|...|\n",
        "|KSS해운|...|...|...|...|\n",
        "|세미콘라이트|...|...|...|...|\n",
        "|오성첨단소재|...|...|...|...|\n",
        "|에이아이비트|...|...|...|...|\n",
        "\n",
        "---\n",
        "\n",
        "|테마|매출액|자산총계|EPS|\n",
        "|:-:|:-:|:-:|:-:|\n",
        "|해운|...|...|...|\n",
        "|마리화나(대마)|...|...|...|\n",
        "\n",
        "이후 아래의 예시 처럼 seaborn을 사용하여 결과를 barplot으로 시각화하세요.\n",
        "\n",
        "단, 한글이 깨지는 에러를 여러분이 직접 고쳐야합니다."
      ]
    },
    {
      "cell_type": "code",
      "metadata": {
        "id": "B-QNMrVkYap4",
        "colab": {
          "base_uri": "https://localhost:8080/",
          "height": 106
        },
        "outputId": "12d9ff94-6584-4018-caa2-a7f93297fbb7"
      },
      "source": [
        "import pandas as pd\n",
        "import seaborn as sns\n",
        "\n",
        "dat = pd.DataFrame({\n",
        "    'name' : ['해운', '대마'],\n",
        "    'value' : [10000,5000]\n",
        "})\n",
        "\n",
        "dat"
      ],
      "execution_count": 18,
      "outputs": [
        {
          "output_type": "execute_result",
          "data": {
            "text/html": [
              "<div>\n",
              "<style scoped>\n",
              "    .dataframe tbody tr th:only-of-type {\n",
              "        vertical-align: middle;\n",
              "    }\n",
              "\n",
              "    .dataframe tbody tr th {\n",
              "        vertical-align: top;\n",
              "    }\n",
              "\n",
              "    .dataframe thead th {\n",
              "        text-align: right;\n",
              "    }\n",
              "</style>\n",
              "<table border=\"1\" class=\"dataframe\">\n",
              "  <thead>\n",
              "    <tr style=\"text-align: right;\">\n",
              "      <th></th>\n",
              "      <th>name</th>\n",
              "      <th>value</th>\n",
              "    </tr>\n",
              "  </thead>\n",
              "  <tbody>\n",
              "    <tr>\n",
              "      <th>0</th>\n",
              "      <td>해운</td>\n",
              "      <td>10000</td>\n",
              "    </tr>\n",
              "    <tr>\n",
              "      <th>1</th>\n",
              "      <td>대마</td>\n",
              "      <td>5000</td>\n",
              "    </tr>\n",
              "  </tbody>\n",
              "</table>\n",
              "</div>"
            ],
            "text/plain": [
              "  name  value\n",
              "0   해운  10000\n",
              "1   대마   5000"
            ]
          },
          "metadata": {
            "tags": []
          },
          "execution_count": 18
        }
      ]
    },
    {
      "cell_type": "code",
      "metadata": {
        "colab": {
          "base_uri": "https://localhost:8080/"
        },
        "id": "CVQjlMJKha1T",
        "outputId": "1379adcb-bcdc-49f2-c336-fe14b64a7ad1"
      },
      "source": [
        "import requests\n",
        "from bs4 import BeautifulSoup\n",
        "\n",
        "URL = \"https://finance.naver.com/item/main.nhn?code=039230\"\n",
        "\n",
        "Financial_Statements = requests.get(URL)\n",
        "html = Financial_Statements.text\n",
        "\n",
        "soup = BeautifulSoup(html, 'html.parser')\n",
        "\n",
        "finance_html = soup.select('div.section.cop_analysis div.sub_section')[0] \n",
        "#div.section.cop_analysis div.sub_section -> 개발자 도구를 사용해서 재무제표 정보가 어느 html요소로 구성되어 있는지 찾았고 왼쪽 요소임을 알 수 있었다.\n",
        "\n",
        "#재무제표 날짜 정보 추출\n",
        "th_data = [item.get_text().strip() for item in finance_html.select('thead th')] #BeaurifulSoup의 CSS selector 방식으로 해당 날짜 데이터들을 파이썬의 리스트 형식으로 모두 추출  \n",
        "annual_date = th_data[3:7]\n",
        "quarter_date = th_data[7:13]\n",
        "\n",
        "#주요재무정보의 각 정보 추출\n",
        "finance_index = [item.get_text().strip() for item in finance_html.select('th.h_th2')][:]\n",
        "print(finance_index)\n",
        "#재무제표의 데이터 추출 \n",
        "finance_data = [item.get_text().strip() for item in finance_html.select('td')]\n",
        "\n",
        "#넘파이로 데이터 변환\n",
        "import numpy as np\n",
        "\n",
        "#실제 재무제표 정보처럼 14*10의 크기로 재설정\n",
        "finance_data = np.array(finance_data)\n",
        "finance_data.resize(len(finance_index), 10)\n",
        "\n",
        "finance_date = annual_date + quarter_date\n",
        "# finance_date = quarter_date\n",
        "\n",
        "import pandas as pd\n",
        "finance = pd.DataFrame(data=finance_data[0:,0:], index=finance_index, columns=finance_date)\n",
        "\n",
        "annual_finance = finance.iloc[:, :4]\n",
        "quarter_finance = finance.iloc[:, 4:]\n",
        "\n",
        "quarter_finance = quarter_finance.drop(quarter_finance.columns[5],axis = 1)\n",
        "quarter_finance = quarter_finance[:13].transpose()\n"
      ],
      "execution_count": 65,
      "outputs": [
        {
          "output_type": "stream",
          "text": [
            "['주요재무정보', '최근 연간 실적', '최근 분기 실적', '매출액', '영업이익', '당기순이익', '영업이익률', '순이익률', 'ROE(지배주주)', '부채비율', '당좌비율', '유보율', 'EPS(원)', 'PER(배)', 'BPS(원)', 'PBR(배)', '주당배당금(원)', '시가배당률(%)', '배당성향(%)']\n"
          ],
          "name": "stdout"
        }
      ]
    },
    {
      "cell_type": "code",
      "metadata": {
        "colab": {
          "base_uri": "https://localhost:8080/",
          "height": 195
        },
        "id": "tX0oVfPqnr55",
        "outputId": "52651d04-dc70-402c-ecfe-bd6dcb9c96cd"
      },
      "source": [
        "# quarter_finance = quarter_finance[['매출액','자산총계','EPS(원)']]\n",
        "quarter_finance"
      ],
      "execution_count": 63,
      "outputs": [
        {
          "output_type": "execute_result",
          "data": {
            "text/html": [
              "<div>\n",
              "<style scoped>\n",
              "    .dataframe tbody tr th:only-of-type {\n",
              "        vertical-align: middle;\n",
              "    }\n",
              "\n",
              "    .dataframe tbody tr th {\n",
              "        vertical-align: top;\n",
              "    }\n",
              "\n",
              "    .dataframe thead th {\n",
              "        text-align: right;\n",
              "    }\n",
              "</style>\n",
              "<table border=\"1\" class=\"dataframe\">\n",
              "  <thead>\n",
              "    <tr style=\"text-align: right;\">\n",
              "      <th></th>\n",
              "      <th>매출액</th>\n",
              "      <th>영업이익</th>\n",
              "      <th>당기순이익</th>\n",
              "      <th>영업이익률</th>\n",
              "      <th>순이익률</th>\n",
              "      <th>ROE(지배주주)</th>\n",
              "      <th>부채비율</th>\n",
              "      <th>당좌비율</th>\n",
              "      <th>유보율</th>\n",
              "      <th>EPS(원)</th>\n",
              "      <th>PER(배)</th>\n",
              "      <th>BPS(원)</th>\n",
              "      <th>PBR(배)</th>\n",
              "    </tr>\n",
              "  </thead>\n",
              "  <tbody>\n",
              "    <tr>\n",
              "      <th>2019.12</th>\n",
              "      <td>90</td>\n",
              "      <td>17</td>\n",
              "      <td>-77</td>\n",
              "      <td>18.34</td>\n",
              "      <td>-85.23</td>\n",
              "      <td>-28.34</td>\n",
              "      <td>34.87</td>\n",
              "      <td>184.83</td>\n",
              "      <td>15.68</td>\n",
              "      <td>-223</td>\n",
              "      <td>-0.95</td>\n",
              "      <td>1,450</td>\n",
              "      <td>0.27</td>\n",
              "    </tr>\n",
              "    <tr>\n",
              "      <th>2020.03</th>\n",
              "      <td>91</td>\n",
              "      <td>1</td>\n",
              "      <td>22</td>\n",
              "      <td>0.97</td>\n",
              "      <td>23.87</td>\n",
              "      <td>-29.31</td>\n",
              "      <td>71.46</td>\n",
              "      <td>102.53</td>\n",
              "      <td>19.84</td>\n",
              "      <td>62</td>\n",
              "      <td>-0.40</td>\n",
              "      <td>1,513</td>\n",
              "      <td>0.12</td>\n",
              "    </tr>\n",
              "    <tr>\n",
              "      <th>2020.06</th>\n",
              "      <td>59</td>\n",
              "      <td>1</td>\n",
              "      <td>-4</td>\n",
              "      <td>1.81</td>\n",
              "      <td>-7.39</td>\n",
              "      <td>-13.94</td>\n",
              "      <td>27.56</td>\n",
              "      <td>247.49</td>\n",
              "      <td>19.01</td>\n",
              "      <td>-13</td>\n",
              "      <td>-0.85</td>\n",
              "      <td>1,500</td>\n",
              "      <td>0.12</td>\n",
              "    </tr>\n",
              "    <tr>\n",
              "      <th>2020.09</th>\n",
              "      <td>86</td>\n",
              "      <td>-11</td>\n",
              "      <td>-27</td>\n",
              "      <td>-12.66</td>\n",
              "      <td>-31.86</td>\n",
              "      <td>-16.25</td>\n",
              "      <td>24.44</td>\n",
              "      <td>251.87</td>\n",
              "      <td>13.03</td>\n",
              "      <td>-76</td>\n",
              "      <td>-0.73</td>\n",
              "      <td>1,426</td>\n",
              "      <td>0.13</td>\n",
              "    </tr>\n",
              "    <tr>\n",
              "      <th>2020.12</th>\n",
              "      <td>57</td>\n",
              "      <td>-28</td>\n",
              "      <td>-69</td>\n",
              "      <td>-49.35</td>\n",
              "      <td>-121.21</td>\n",
              "      <td>-16.41</td>\n",
              "      <td>28.41</td>\n",
              "      <td>210.82</td>\n",
              "      <td>0.56</td>\n",
              "      <td>-187</td>\n",
              "      <td>-0.82</td>\n",
              "      <td>1,230</td>\n",
              "      <td>0.15</td>\n",
              "    </tr>\n",
              "  </tbody>\n",
              "</table>\n",
              "</div>"
            ],
            "text/plain": [
              "        매출액 영업이익 당기순이익   영업이익률     순이익률  ...    유보율 EPS(원) PER(배) BPS(원) PBR(배)\n",
              "2019.12  90   17   -77   18.34   -85.23  ...  15.68   -223  -0.95  1,450   0.27\n",
              "2020.03  91    1    22    0.97    23.87  ...  19.84     62  -0.40  1,513   0.12\n",
              "2020.06  59    1    -4    1.81    -7.39  ...  19.01    -13  -0.85  1,500   0.12\n",
              "2020.09  86  -11   -27  -12.66   -31.86  ...  13.03    -76  -0.73  1,426   0.13\n",
              "2020.12  57  -28   -69  -49.35  -121.21  ...   0.56   -187  -0.82  1,230   0.15\n",
              "\n",
              "[5 rows x 13 columns]"
            ]
          },
          "metadata": {
            "tags": []
          },
          "execution_count": 63
        }
      ]
    },
    {
      "cell_type": "code",
      "metadata": {
        "id": "gAqW4e88Uw6W",
        "colab": {
          "base_uri": "https://localhost:8080/",
          "height": 551
        },
        "outputId": "42d5e94e-6501-4987-c742-e444cdd70622"
      },
      "source": [
        "sns.barplot(x = 'name', y = 'value', data = dat);"
      ],
      "execution_count": null,
      "outputs": [
        {
          "output_type": "stream",
          "text": [
            "/usr/local/lib/python3.6/dist-packages/matplotlib/backends/backend_agg.py:214: RuntimeWarning: Glyph 54644 missing from current font.\n",
            "  font.set_text(s, 0.0, flags=flags)\n",
            "/usr/local/lib/python3.6/dist-packages/matplotlib/backends/backend_agg.py:214: RuntimeWarning: Glyph 50868 missing from current font.\n",
            "  font.set_text(s, 0.0, flags=flags)\n",
            "/usr/local/lib/python3.6/dist-packages/matplotlib/backends/backend_agg.py:214: RuntimeWarning: Glyph 45824 missing from current font.\n",
            "  font.set_text(s, 0.0, flags=flags)\n",
            "/usr/local/lib/python3.6/dist-packages/matplotlib/backends/backend_agg.py:214: RuntimeWarning: Glyph 47560 missing from current font.\n",
            "  font.set_text(s, 0.0, flags=flags)\n",
            "/usr/local/lib/python3.6/dist-packages/matplotlib/backends/backend_agg.py:183: RuntimeWarning: Glyph 54644 missing from current font.\n",
            "  font.set_text(s, 0, flags=flags)\n",
            "/usr/local/lib/python3.6/dist-packages/matplotlib/backends/backend_agg.py:183: RuntimeWarning: Glyph 50868 missing from current font.\n",
            "  font.set_text(s, 0, flags=flags)\n",
            "/usr/local/lib/python3.6/dist-packages/matplotlib/backends/backend_agg.py:183: RuntimeWarning: Glyph 45824 missing from current font.\n",
            "  font.set_text(s, 0, flags=flags)\n",
            "/usr/local/lib/python3.6/dist-packages/matplotlib/backends/backend_agg.py:183: RuntimeWarning: Glyph 47560 missing from current font.\n",
            "  font.set_text(s, 0, flags=flags)\n"
          ],
          "name": "stderr"
        },
        {
          "output_type": "display_data",
          "data": {
            "image/png": "[encoded data removed]",
            "text/plain": [
              "<Figure size 432x288 with 1 Axes>"
            ]
          },
          "metadata": {
            "tags": [],
            "needs_background": "light"
          }
        }
      ]
    },
    {
      "cell_type": "code",
      "metadata": {
        "id": "oQAQ30DkY1DA"
      },
      "source": [
        ""
      ],
      "execution_count": null,
      "outputs": []
    }
  ]
}