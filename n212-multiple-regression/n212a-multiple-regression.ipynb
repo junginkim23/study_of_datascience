{
  "nbformat": 4,
  "nbformat_minor": 0,
  "metadata": {
    "kernelspec": {
      "display_name": "Python 3",
      "language": "python",
      "name": "python3"
    },
    "language_info": {
      "codemirror_mode": {
        "name": "ipython",
        "version": 3
      },
      "file_extension": ".py",
      "mimetype": "text/x-python",
      "name": "python",
      "nbconvert_exporter": "python",
      "pygments_lexer": "ipython3",
      "version": "3.7.7"
    },
    "colab": {
      "name": "n212a-multiple-regression.ipynb",
      "provenance": []
    },
    "widgets": {
      "application/vnd.jupyter.widget-state+json": {
        "6eba03f845bb4f1cbef4271f2c9136ee": {
          "model_module": "@jupyter-widgets/controls",
          "model_name": "HBoxModel",
          "state": {
            "_view_name": "HBoxView",
            "_dom_classes": [],
            "_model_name": "HBoxModel",
            "_view_module": "@jupyter-widgets/controls",
            "_model_module_version": "1.5.0",
            "_view_count": null,
            "_view_module_version": "1.5.0",
            "box_style": "",
            "layout": "IPY_MODEL_cc70ad07fdcb455294b445c7bfdeed1d",
            "_model_module": "@jupyter-widgets/controls",
            "children": [
              "IPY_MODEL_c0e9de8b0109459eb71d500925cffb49",
              "IPY_MODEL_44d9f00eccae4183bed048ea1698b001"
            ]
          }
        },
        "cc70ad07fdcb455294b445c7bfdeed1d": {
          "model_module": "@jupyter-widgets/base",
          "model_name": "LayoutModel",
          "state": {
            "_view_name": "LayoutView",
            "grid_template_rows": null,
            "right": null,
            "justify_content": null,
            "_view_module": "@jupyter-widgets/base",
            "overflow": null,
            "_model_module_version": "1.2.0",
            "_view_count": null,
            "flex_flow": null,
            "width": null,
            "min_width": null,
            "border": null,
            "align_items": null,
            "bottom": null,
            "_model_module": "@jupyter-widgets/base",
            "top": null,
            "grid_column": null,
            "overflow_y": null,
            "overflow_x": null,
            "grid_auto_flow": null,
            "grid_area": null,
            "grid_template_columns": null,
            "flex": null,
            "_model_name": "LayoutModel",
            "justify_items": null,
            "grid_row": null,
            "max_height": null,
            "align_content": null,
            "visibility": null,
            "align_self": null,
            "height": null,
            "min_height": null,
            "padding": null,
            "grid_auto_rows": null,
            "grid_gap": null,
            "max_width": null,
            "order": null,
            "_view_module_version": "1.2.0",
            "grid_template_areas": null,
            "object_position": null,
            "object_fit": null,
            "grid_auto_columns": null,
            "margin": null,
            "display": null,
            "left": null
          }
        },
        "c0e9de8b0109459eb71d500925cffb49": {
          "model_module": "@jupyter-widgets/controls",
          "model_name": "FloatProgressModel",
          "state": {
            "_view_name": "ProgressView",
            "style": "IPY_MODEL_7aa3cef1f2564283b0c60f5d1ee3dc4b",
            "_dom_classes": [],
            "description": "Generating Group Plots: 100%",
            "_model_name": "FloatProgressModel",
            "bar_style": "success",
            "max": 8,
            "_view_module": "@jupyter-widgets/controls",
            "_model_module_version": "1.5.0",
            "value": 8,
            "_view_count": null,
            "_view_module_version": "1.5.0",
            "orientation": "horizontal",
            "min": 0,
            "description_tooltip": null,
            "_model_module": "@jupyter-widgets/controls",
            "layout": "IPY_MODEL_be9353991d144f879f9db6fe1a6d7507"
          }
        },
        "44d9f00eccae4183bed048ea1698b001": {
          "model_module": "@jupyter-widgets/controls",
          "model_name": "HTMLModel",
          "state": {
            "_view_name": "HTMLView",
            "style": "IPY_MODEL_4192e1f9471b4ea3ba3dc89bd08b3f0d",
            "_dom_classes": [],
            "description": "",
            "_model_name": "HTMLModel",
            "placeholder": "​",
            "_view_module": "@jupyter-widgets/controls",
            "_model_module_version": "1.5.0",
            "value": " 8/8 [00:01&lt;00:00,  7.45it/s]",
            "_view_count": null,
            "_view_module_version": "1.5.0",
            "description_tooltip": null,
            "_model_module": "@jupyter-widgets/controls",
            "layout": "IPY_MODEL_8c590524e07f4143b97c7aee961252d5"
          }
        },
        "7aa3cef1f2564283b0c60f5d1ee3dc4b": {
          "model_module": "@jupyter-widgets/controls",
          "model_name": "ProgressStyleModel",
          "state": {
            "_view_name": "StyleView",
            "_model_name": "ProgressStyleModel",
            "description_width": "initial",
            "_view_module": "@jupyter-widgets/base",
            "_model_module_version": "1.5.0",
            "_view_count": null,
            "_view_module_version": "1.2.0",
            "bar_color": null,
            "_model_module": "@jupyter-widgets/controls"
          }
        },
        "be9353991d144f879f9db6fe1a6d7507": {
          "model_module": "@jupyter-widgets/base",
          "model_name": "LayoutModel",
          "state": {
            "_view_name": "LayoutView",
            "grid_template_rows": null,
            "right": null,
            "justify_content": null,
            "_view_module": "@jupyter-widgets/base",
            "overflow": null,
            "_model_module_version": "1.2.0",
            "_view_count": null,
            "flex_flow": null,
            "width": null,
            "min_width": null,
            "border": null,
            "align_items": null,
            "bottom": null,
            "_model_module": "@jupyter-widgets/base",
            "top": null,
            "grid_column": null,
            "overflow_y": null,
            "overflow_x": null,
            "grid_auto_flow": null,
            "grid_area": null,
            "grid_template_columns": null,
            "flex": null,
            "_model_name": "LayoutModel",
            "justify_items": null,
            "grid_row": null,
            "max_height": null,
            "align_content": null,
            "visibility": null,
            "align_self": null,
            "height": null,
            "min_height": null,
            "padding": null,
            "grid_auto_rows": null,
            "grid_gap": null,
            "max_width": null,
            "order": null,
            "_view_module_version": "1.2.0",
            "grid_template_areas": null,
            "object_position": null,
            "object_fit": null,
            "grid_auto_columns": null,
            "margin": null,
            "display": null,
            "left": null
          }
        },
        "4192e1f9471b4ea3ba3dc89bd08b3f0d": {
          "model_module": "@jupyter-widgets/controls",
          "model_name": "DescriptionStyleModel",
          "state": {
            "_view_name": "StyleView",
            "_model_name": "DescriptionStyleModel",
            "description_width": "",
            "_view_module": "@jupyter-widgets/base",
            "_model_module_version": "1.5.0",
            "_view_count": null,
            "_view_module_version": "1.2.0",
            "_model_module": "@jupyter-widgets/controls"
          }
        },
        "8c590524e07f4143b97c7aee961252d5": {
          "model_module": "@jupyter-widgets/base",
          "model_name": "LayoutModel",
          "state": {
            "_view_name": "LayoutView",
            "grid_template_rows": null,
            "right": null,
            "justify_content": null,
            "_view_module": "@jupyter-widgets/base",
            "overflow": null,
            "_model_module_version": "1.2.0",
            "_view_count": null,
            "flex_flow": null,
            "width": null,
            "min_width": null,
            "border": null,
            "align_items": null,
            "bottom": null,
            "_model_module": "@jupyter-widgets/base",
            "top": null,
            "grid_column": null,
            "overflow_y": null,
            "overflow_x": null,
            "grid_auto_flow": null,
            "grid_area": null,
            "grid_template_columns": null,
            "flex": null,
            "_model_name": "LayoutModel",
            "justify_items": null,
            "grid_row": null,
            "max_height": null,
            "align_content": null,
            "visibility": null,
            "align_self": null,
            "height": null,
            "min_height": null,
            "padding": null,
            "grid_auto_rows": null,
            "grid_gap": null,
            "max_width": null,
            "order": null,
            "_view_module_version": "1.2.0",
            "grid_template_areas": null,
            "object_position": null,
            "object_fit": null,
            "grid_auto_columns": null,
            "margin": null,
            "display": null,
            "left": null
          }
        }
      }
    }
  },
  "cells": [
    {
      "cell_type": "markdown",
      "metadata": {
        "id": "XEwFpsGwN8yz"
      },
      "source": [
        "<img align=\"right\" src=\"https://ds-cs-images.s3.ap-northeast-2.amazonaws.com/Codestates_Fulllogo_Color.png\" width=100>\n",
        "\n",
        "## *DATA SCIENCE / SECTION 2 / SPRINT 1 / NOTE 2*\n",
        "\n",
        "# 📝 Assignment\n",
        "---"
      ]
    },
    {
      "cell_type": "markdown",
      "metadata": {
        "id": "7IXUfiQ2UKj6"
      },
      "source": [
        "# 다중선형회귀(Multiple Linear Regression)\n",
        "\n",
        "이번 과제에서도 n211 과제 에서 다루었던 housing price dataset을 가지고 배운 내용을 연습해 보겠습니다.\n",
        "다음 링크에서 다운로드 받아 사용해 주세요. [House Sales in King County, USA](https://www.kaggle.com/harlfoxem/housesalesprediction)"
      ]
    },
    {
      "cell_type": "code",
      "metadata": {
        "id": "4ACty3XEN8y2"
      },
      "source": [
        "# 데이터는 캐글에서 받으셔도 되고 이 링크에서 불러와도 됩니다.\n",
        "import pandas as pd\n",
        "df = pd.read_csv('https://ds-lecture-data.s3.ap-northeast-2.amazonaws.com/kc_house_data/kc_house_data.csv')\n"
      ],
      "execution_count": 100,
      "outputs": []
    },
    {
      "cell_type": "code",
      "metadata": {
        "colab": {
          "base_uri": "https://localhost:8080/"
        },
        "id": "1l1u8k-YN8y2",
        "outputId": "399e7524-f91c-4df2-d705-0a1cffc73db9"
      },
      "source": [
        "df.columns"
      ],
      "execution_count": 101,
      "outputs": [
        {
          "output_type": "execute_result",
          "data": {
            "text/plain": [
              "Index(['id', 'date', 'price', 'bedrooms', 'bathrooms', 'sqft_living',\n",
              "       'sqft_lot', 'floors', 'waterfront', 'view', 'condition', 'grade',\n",
              "       'sqft_above', 'sqft_basement', 'yr_built', 'yr_renovated', 'zipcode',\n",
              "       'lat', 'long', 'sqft_living15', 'sqft_lot15'],\n",
              "      dtype='object')"
            ]
          },
          "metadata": {
            "tags": []
          },
          "execution_count": 101
        }
      ]
    },
    {
      "cell_type": "markdown",
      "metadata": {
        "id": "mRZbtpBXN8y3"
      },
      "source": [
        "### 1) 데이터는 May 2014 ~ May 2015 의 2년치 데이터입니다. 2015-01-01 부터 큰 날짜의 데이터는 테스트, 그 이외의 데이터는 훈련 데이터셋으로 나누어 주세요\n",
        "- **훈련데이터 샘플의 갯수를 과제 제출폼에 제출하세요.**"
      ]
    },
    {
      "cell_type": "code",
      "metadata": {
        "colab": {
          "base_uri": "https://localhost:8080/"
        },
        "id": "2mhGx-PBN8y3",
        "outputId": "00c9defc-0d26-44a5-9002-168a73f24abf"
      },
      "source": [
        "from pandas import to_datetime\n",
        "\n",
        "# 데이터 샘플 개수 파악 \n",
        "print(df.shape)\n",
        "\n",
        "# 기준 날짜 데이터 \n",
        "compare_date = to_datetime('2015-01-01')\n",
        "\n",
        "# date를 datetime 형으로 변환, 새로운 컬럼 생성\n",
        "df['new_date'] = df['date'].apply(to_datetime)\n",
        "\n",
        "# test data\n",
        "test = df[df['new_date']>=compare_date]\n",
        "\n",
        "# train data \n",
        "train = df.drop(test.index)\n",
        "\n",
        "print(test.shape, train.shape)"
      ],
      "execution_count": 102,
      "outputs": [
        {
          "output_type": "stream",
          "text": [
            "(21613, 21)\n",
            "(6980, 22) (14633, 22)\n"
          ],
          "name": "stdout"
        }
      ]
    },
    {
      "cell_type": "markdown",
      "metadata": {
        "id": "S2TQ9EYpN8y3"
      },
      "source": [
        "### 2) 두 특성(bathrooms, sqft_living)을 사용해서 다중선형회귀 모델을 만들어 보세요\n",
        "- 학습시 Parameters는 모두 기본값으로 합니다.\n",
        "- **테스트세트의 MAE 값을 과제 제출폼에 제출하세요.**"
      ]
    },
    {
      "cell_type": "code",
      "metadata": {
        "colab": {
          "base_uri": "https://localhost:8080/"
        },
        "id": "iv3-1swzRJa9",
        "outputId": "8635899f-dca5-4718-dc1a-19518c5278f0"
      },
      "source": [
        "from sklearn.linear_model import LinearRegression\n",
        "from sklearn.metrics import mean_absolute_error\n",
        "\n",
        "# 다중선형회귀 모델 객체 생성\n",
        "model = LinearRegression()\n",
        "\n",
        "feature = ['sqft_living','bathrooms']\n",
        "\n",
        "# train & test data \n",
        "X_train = train[feature]\n",
        "X_test = test[feature]\n",
        "\n",
        "target = 'price'\n",
        "y_train = train[target]\n",
        "y_test = test[target]\n",
        "\n",
        "# model fit \n",
        "model.fit(X_train,y_train)\n",
        "\n",
        "# train data predict\n",
        "y_tpred = model.predict(X_train)\n",
        "mae = mean_absolute_error(y_train, y_tpred)\n",
        "print(f'훈련 에러: {mae:.2f}')  #mae:.2f 소수점 둘째자리까지 표현할 때 이렇게!\n",
        "\n",
        "# test data predict\n",
        "y_epred = model.predict(X_test)\n",
        "mae = mean_absolute_error(y_test, y_epred)\n",
        "print(f'테스트 에러: {mae:.2f}')"
      ],
      "execution_count": 103,
      "outputs": [
        {
          "output_type": "stream",
          "text": [
            "훈련 에러: 170777.34\n",
            "테스트 에러: 179252.53\n"
          ],
          "name": "stdout"
        }
      ]
    },
    {
      "cell_type": "markdown",
      "metadata": {
        "id": "vYD5MsZRN8y5"
      },
      "source": [
        "### 3) 모델의 회귀계수(coefficients)와 절편(intercept)을 확인해 보세요.\n",
        "- **sqft_living의 회귀계수를 과제 제출폼에 제출하세요.**"
      ]
    },
    {
      "cell_type": "code",
      "metadata": {
        "colab": {
          "base_uri": "https://localhost:8080/"
        },
        "id": "m8ZmlrEeN8y6",
        "outputId": "0452c651-8bdb-43be-d076-417e15b5d2bd"
      },
      "source": [
        "# 회귀식 만들기\n",
        "\n",
        "b0 = model.intercept_\n",
        "b1,b2 = model.coef_ # b1 - sqft_living , b2 - bathroom\n",
        "\n",
        "print(f'y = {b0:.0f} + {b1:.0f}x\\u2081 + {b2:.0f}x\\u2082')"
      ],
      "execution_count": 104,
      "outputs": [
        {
          "output_type": "stream",
          "text": [
            "y = -50244 + 286x₁ + -5159x₂\n"
          ],
          "name": "stdout"
        }
      ]
    },
    {
      "cell_type": "markdown",
      "metadata": {
        "id": "0nM4Bbi5N8y6"
      },
      "source": [
        "### 4) MSE, RMSE, MAE, $R^2$ 를 훈련/테스트 데이터에 대해 확인해 보세요\n",
        "- **테스트 데이터에 대한 R^2 값을 과제 제출폼에 제출하세요.**"
      ]
    },
    {
      "cell_type": "code",
      "metadata": {
        "colab": {
          "base_uri": "https://localhost:8080/"
        },
        "id": "IpXZwwTlN8y7",
        "outputId": "028aee8a-47ca-4592-f004-69ca36937b21"
      },
      "source": [
        "from sklearn.metrics import  mean_squared_error, mean_absolute_error, r2_score\n",
        "\n",
        "# train data에 평가 지표 사용\n",
        "print('\\n[train data]\\n')\n",
        "print(f'MSE: {mean_squared_error(y_train,y_tpred):.03f},RMSE: {mean_squared_error(y_train,y_tpred)**0.5:.03f}\\\n",
        ",MAE:{mean_absolute_error(y_train,y_tpred):.03f},R^2:{r2_score(y_train,y_tpred):.03f}') \n",
        "\n",
        "print('\\n[test data]\\n')\n",
        "print(f'MSE: {mean_squared_error(y_test,y_epred):.03f},RMSE: {mean_squared_error(y_test,y_epred)**0.5:.03f}\\\n",
        ",MAE:{mean_absolute_error(y_test,y_epred):.03f},R^2:{r2_score(y_test,y_epred):.03f}') "
      ],
      "execution_count": 105,
      "outputs": [
        {
          "output_type": "stream",
          "text": [
            "\n",
            "[train data]\n",
            "\n",
            "MSE: 67099053309.954,RMSE: 259034.850,MAE:170777.342,R^2:0.508\n",
            "\n",
            "[test data]\n",
            "\n",
            "MSE: 71083994178.757,RMSE: 266615.818,MAE:179252.526,R^2:0.460\n"
          ],
          "name": "stdout"
        }
      ]
    },
    {
      "cell_type": "markdown",
      "metadata": {
        "id": "INpDomUEN8y7"
      },
      "source": [
        "## 🔥도전과제"
      ]
    },
    {
      "cell_type": "markdown",
      "metadata": {
        "id": "qDvb3OeXN8y7"
      },
      "source": [
        "### 5) 두가지 이상 특성을 선택하여 특성공학(feature engineering)을 진행합니다. (kaggle notebook을 참고하여 중요한 특성을 고르는 것이 힌트입니다.)\n",
        "- EDA를 자세히 진행하세요\n",
        "- 특성공학 과정을 자세히 기술하세요\n",
        "- 특성공학을 거친 특성을 포함해 다수의 특성을 사용한 모델을 학습하고 테스트 데이터에 대해 MSE, RMSE, MAE, R2 스코어를 계산하고 분석하세요\n",
        "- 만들어진 회귀계수를 사용해 모델을 설명하세요.\n",
        "- 모델이 과적합인지/과소적합인지 설명하세요.\n",
        "- 메신저 general 채널에서 4개 스코어를 제시하고 본인이 고른 특성, 특성공학 방법 등을 간략하게 공유하세요"
      ]
    },
    {
      "cell_type": "code",
      "metadata": {
        "id": "q6HM1eXqN8y7"
      },
      "source": [
        "import pandas as pd\n",
        "df = pd.read_csv('https://ds-lecture-data.s3.ap-northeast-2.amazonaws.com/kc_house_data/kc_house_data.csv')"
      ],
      "execution_count": 106,
      "outputs": []
    },
    {
      "cell_type": "markdown",
      "metadata": {
        "id": "cg8Nc3VYogr4"
      },
      "source": [
        "# EDA"
      ]
    },
    {
      "cell_type": "code",
      "metadata": {
        "colab": {
          "base_uri": "https://localhost:8080/",
          "height": 223
        },
        "id": "6crrnm_RojI8",
        "outputId": "8ad6326e-d803-4403-8a01-2e7514e65002"
      },
      "source": [
        "df.head()"
      ],
      "execution_count": 107,
      "outputs": [
        {
          "output_type": "execute_result",
          "data": {
            "text/html": [
              "<div>\n",
              "<style scoped>\n",
              "    .dataframe tbody tr th:only-of-type {\n",
              "        vertical-align: middle;\n",
              "    }\n",
              "\n",
              "    .dataframe tbody tr th {\n",
              "        vertical-align: top;\n",
              "    }\n",
              "\n",
              "    .dataframe thead th {\n",
              "        text-align: right;\n",
              "    }\n",
              "</style>\n",
              "<table border=\"1\" class=\"dataframe\">\n",
              "  <thead>\n",
              "    <tr style=\"text-align: right;\">\n",
              "      <th></th>\n",
              "      <th>id</th>\n",
              "      <th>date</th>\n",
              "      <th>price</th>\n",
              "      <th>bedrooms</th>\n",
              "      <th>bathrooms</th>\n",
              "      <th>sqft_living</th>\n",
              "      <th>sqft_lot</th>\n",
              "      <th>floors</th>\n",
              "      <th>waterfront</th>\n",
              "      <th>view</th>\n",
              "      <th>condition</th>\n",
              "      <th>grade</th>\n",
              "      <th>sqft_above</th>\n",
              "      <th>sqft_basement</th>\n",
              "      <th>yr_built</th>\n",
              "      <th>yr_renovated</th>\n",
              "      <th>zipcode</th>\n",
              "      <th>lat</th>\n",
              "      <th>long</th>\n",
              "      <th>sqft_living15</th>\n",
              "      <th>sqft_lot15</th>\n",
              "    </tr>\n",
              "  </thead>\n",
              "  <tbody>\n",
              "    <tr>\n",
              "      <th>0</th>\n",
              "      <td>7129300520</td>\n",
              "      <td>20141013T000000</td>\n",
              "      <td>221900.0</td>\n",
              "      <td>3</td>\n",
              "      <td>1.00</td>\n",
              "      <td>1180</td>\n",
              "      <td>5650</td>\n",
              "      <td>1.0</td>\n",
              "      <td>0</td>\n",
              "      <td>0</td>\n",
              "      <td>3</td>\n",
              "      <td>7</td>\n",
              "      <td>1180</td>\n",
              "      <td>0</td>\n",
              "      <td>1955</td>\n",
              "      <td>0</td>\n",
              "      <td>98178</td>\n",
              "      <td>47.51</td>\n",
              "      <td>-122.26</td>\n",
              "      <td>1340</td>\n",
              "      <td>5650</td>\n",
              "    </tr>\n",
              "    <tr>\n",
              "      <th>1</th>\n",
              "      <td>6414100192</td>\n",
              "      <td>20141209T000000</td>\n",
              "      <td>538000.0</td>\n",
              "      <td>3</td>\n",
              "      <td>2.25</td>\n",
              "      <td>2570</td>\n",
              "      <td>7242</td>\n",
              "      <td>2.0</td>\n",
              "      <td>0</td>\n",
              "      <td>0</td>\n",
              "      <td>3</td>\n",
              "      <td>7</td>\n",
              "      <td>2170</td>\n",
              "      <td>400</td>\n",
              "      <td>1951</td>\n",
              "      <td>1991</td>\n",
              "      <td>98125</td>\n",
              "      <td>47.72</td>\n",
              "      <td>-122.32</td>\n",
              "      <td>1690</td>\n",
              "      <td>7639</td>\n",
              "    </tr>\n",
              "    <tr>\n",
              "      <th>2</th>\n",
              "      <td>5631500400</td>\n",
              "      <td>20150225T000000</td>\n",
              "      <td>180000.0</td>\n",
              "      <td>2</td>\n",
              "      <td>1.00</td>\n",
              "      <td>770</td>\n",
              "      <td>10000</td>\n",
              "      <td>1.0</td>\n",
              "      <td>0</td>\n",
              "      <td>0</td>\n",
              "      <td>3</td>\n",
              "      <td>6</td>\n",
              "      <td>770</td>\n",
              "      <td>0</td>\n",
              "      <td>1933</td>\n",
              "      <td>0</td>\n",
              "      <td>98028</td>\n",
              "      <td>47.74</td>\n",
              "      <td>-122.23</td>\n",
              "      <td>2720</td>\n",
              "      <td>8062</td>\n",
              "    </tr>\n",
              "    <tr>\n",
              "      <th>3</th>\n",
              "      <td>2487200875</td>\n",
              "      <td>20141209T000000</td>\n",
              "      <td>604000.0</td>\n",
              "      <td>4</td>\n",
              "      <td>3.00</td>\n",
              "      <td>1960</td>\n",
              "      <td>5000</td>\n",
              "      <td>1.0</td>\n",
              "      <td>0</td>\n",
              "      <td>0</td>\n",
              "      <td>5</td>\n",
              "      <td>7</td>\n",
              "      <td>1050</td>\n",
              "      <td>910</td>\n",
              "      <td>1965</td>\n",
              "      <td>0</td>\n",
              "      <td>98136</td>\n",
              "      <td>47.52</td>\n",
              "      <td>-122.39</td>\n",
              "      <td>1360</td>\n",
              "      <td>5000</td>\n",
              "    </tr>\n",
              "    <tr>\n",
              "      <th>4</th>\n",
              "      <td>1954400510</td>\n",
              "      <td>20150218T000000</td>\n",
              "      <td>510000.0</td>\n",
              "      <td>3</td>\n",
              "      <td>2.00</td>\n",
              "      <td>1680</td>\n",
              "      <td>8080</td>\n",
              "      <td>1.0</td>\n",
              "      <td>0</td>\n",
              "      <td>0</td>\n",
              "      <td>3</td>\n",
              "      <td>8</td>\n",
              "      <td>1680</td>\n",
              "      <td>0</td>\n",
              "      <td>1987</td>\n",
              "      <td>0</td>\n",
              "      <td>98074</td>\n",
              "      <td>47.62</td>\n",
              "      <td>-122.05</td>\n",
              "      <td>1800</td>\n",
              "      <td>7503</td>\n",
              "    </tr>\n",
              "  </tbody>\n",
              "</table>\n",
              "</div>"
            ],
            "text/plain": [
              "           id             date     price  ...    long  sqft_living15  sqft_lot15\n",
              "0  7129300520  20141013T000000  221900.0  ... -122.26           1340        5650\n",
              "1  6414100192  20141209T000000  538000.0  ... -122.32           1690        7639\n",
              "2  5631500400  20150225T000000  180000.0  ... -122.23           2720        8062\n",
              "3  2487200875  20141209T000000  604000.0  ... -122.39           1360        5000\n",
              "4  1954400510  20150218T000000  510000.0  ... -122.05           1800        7503\n",
              "\n",
              "[5 rows x 21 columns]"
            ]
          },
          "metadata": {
            "tags": []
          },
          "execution_count": 107
        }
      ]
    },
    {
      "cell_type": "code",
      "metadata": {
        "colab": {
          "base_uri": "https://localhost:8080/"
        },
        "id": "9J8uSDrvomKd",
        "outputId": "1c3d74e5-b26c-44cb-bf85-9b9085192227"
      },
      "source": [
        "df.info()"
      ],
      "execution_count": 108,
      "outputs": [
        {
          "output_type": "stream",
          "text": [
            "<class 'pandas.core.frame.DataFrame'>\n",
            "RangeIndex: 21613 entries, 0 to 21612\n",
            "Data columns (total 21 columns):\n",
            " #   Column         Non-Null Count  Dtype  \n",
            "---  ------         --------------  -----  \n",
            " 0   id             21613 non-null  int64  \n",
            " 1   date           21613 non-null  object \n",
            " 2   price          21613 non-null  float64\n",
            " 3   bedrooms       21613 non-null  int64  \n",
            " 4   bathrooms      21613 non-null  float64\n",
            " 5   sqft_living    21613 non-null  int64  \n",
            " 6   sqft_lot       21613 non-null  int64  \n",
            " 7   floors         21613 non-null  float64\n",
            " 8   waterfront     21613 non-null  int64  \n",
            " 9   view           21613 non-null  int64  \n",
            " 10  condition      21613 non-null  int64  \n",
            " 11  grade          21613 non-null  int64  \n",
            " 12  sqft_above     21613 non-null  int64  \n",
            " 13  sqft_basement  21613 non-null  int64  \n",
            " 14  yr_built       21613 non-null  int64  \n",
            " 15  yr_renovated   21613 non-null  int64  \n",
            " 16  zipcode        21613 non-null  int64  \n",
            " 17  lat            21613 non-null  float64\n",
            " 18  long           21613 non-null  float64\n",
            " 19  sqft_living15  21613 non-null  int64  \n",
            " 20  sqft_lot15     21613 non-null  int64  \n",
            "dtypes: float64(5), int64(15), object(1)\n",
            "memory usage: 3.5+ MB\n"
          ],
          "name": "stdout"
        }
      ]
    },
    {
      "cell_type": "code",
      "metadata": {
        "colab": {
          "base_uri": "https://localhost:8080/"
        },
        "id": "KrhsgEKHonf5",
        "outputId": "ab21e5f8-0f24-4b6d-9cfa-4a5c0b9a6afb"
      },
      "source": [
        "df.shape"
      ],
      "execution_count": 109,
      "outputs": [
        {
          "output_type": "execute_result",
          "data": {
            "text/plain": [
              "(21613, 21)"
            ]
          },
          "metadata": {
            "tags": []
          },
          "execution_count": 109
        }
      ]
    },
    {
      "cell_type": "code",
      "metadata": {
        "colab": {
          "base_uri": "https://localhost:8080/",
          "height": 447
        },
        "id": "PNpMqoDjop0i",
        "outputId": "76f79a79-a1e2-4088-cf86-092417727cf4"
      },
      "source": [
        "df.describe().T.style.bar(subset=['mean'],color='gray').background_gradient(subset=['std'], cmap='PuBu').background_gradient(subset=['50%'], cmap='PuBu')"
      ],
      "execution_count": 110,
      "outputs": [
        {
          "output_type": "execute_result",
          "data": {
            "text/html": [
              "<style  type=\"text/css\" >\n",
              "#T_0e9f3c4a_c910_11eb_92a8_0242ac1c0002row0_col1{\n",
              "            width:  10em;\n",
              "             height:  80%;\n",
              "            background:  linear-gradient(90deg,gray 100.0%, transparent 100.0%);\n",
              "        }#T_0e9f3c4a_c910_11eb_92a8_0242ac1c0002row0_col2,#T_0e9f3c4a_c910_11eb_92a8_0242ac1c0002row0_col5{\n",
              "            background-color:  #023858;\n",
              "            color:  #f1f1f1;\n",
              "        }#T_0e9f3c4a_c910_11eb_92a8_0242ac1c0002row1_col1,#T_0e9f3c4a_c910_11eb_92a8_0242ac1c0002row2_col1,#T_0e9f3c4a_c910_11eb_92a8_0242ac1c0002row3_col1,#T_0e9f3c4a_c910_11eb_92a8_0242ac1c0002row4_col1,#T_0e9f3c4a_c910_11eb_92a8_0242ac1c0002row5_col1,#T_0e9f3c4a_c910_11eb_92a8_0242ac1c0002row6_col1,#T_0e9f3c4a_c910_11eb_92a8_0242ac1c0002row7_col1,#T_0e9f3c4a_c910_11eb_92a8_0242ac1c0002row8_col1,#T_0e9f3c4a_c910_11eb_92a8_0242ac1c0002row9_col1,#T_0e9f3c4a_c910_11eb_92a8_0242ac1c0002row10_col1,#T_0e9f3c4a_c910_11eb_92a8_0242ac1c0002row11_col1,#T_0e9f3c4a_c910_11eb_92a8_0242ac1c0002row12_col1,#T_0e9f3c4a_c910_11eb_92a8_0242ac1c0002row13_col1,#T_0e9f3c4a_c910_11eb_92a8_0242ac1c0002row14_col1,#T_0e9f3c4a_c910_11eb_92a8_0242ac1c0002row15_col1,#T_0e9f3c4a_c910_11eb_92a8_0242ac1c0002row16_col1,#T_0e9f3c4a_c910_11eb_92a8_0242ac1c0002row18_col1,#T_0e9f3c4a_c910_11eb_92a8_0242ac1c0002row19_col1{\n",
              "            width:  10em;\n",
              "             height:  80%;\n",
              "            background:  linear-gradient(90deg,gray 0.0%, transparent 0.0%);\n",
              "        }#T_0e9f3c4a_c910_11eb_92a8_0242ac1c0002row1_col2,#T_0e9f3c4a_c910_11eb_92a8_0242ac1c0002row1_col5,#T_0e9f3c4a_c910_11eb_92a8_0242ac1c0002row2_col2,#T_0e9f3c4a_c910_11eb_92a8_0242ac1c0002row2_col5,#T_0e9f3c4a_c910_11eb_92a8_0242ac1c0002row3_col2,#T_0e9f3c4a_c910_11eb_92a8_0242ac1c0002row3_col5,#T_0e9f3c4a_c910_11eb_92a8_0242ac1c0002row4_col2,#T_0e9f3c4a_c910_11eb_92a8_0242ac1c0002row4_col5,#T_0e9f3c4a_c910_11eb_92a8_0242ac1c0002row5_col2,#T_0e9f3c4a_c910_11eb_92a8_0242ac1c0002row5_col5,#T_0e9f3c4a_c910_11eb_92a8_0242ac1c0002row6_col2,#T_0e9f3c4a_c910_11eb_92a8_0242ac1c0002row6_col5,#T_0e9f3c4a_c910_11eb_92a8_0242ac1c0002row7_col2,#T_0e9f3c4a_c910_11eb_92a8_0242ac1c0002row7_col5,#T_0e9f3c4a_c910_11eb_92a8_0242ac1c0002row8_col2,#T_0e9f3c4a_c910_11eb_92a8_0242ac1c0002row8_col5,#T_0e9f3c4a_c910_11eb_92a8_0242ac1c0002row9_col2,#T_0e9f3c4a_c910_11eb_92a8_0242ac1c0002row9_col5,#T_0e9f3c4a_c910_11eb_92a8_0242ac1c0002row10_col2,#T_0e9f3c4a_c910_11eb_92a8_0242ac1c0002row10_col5,#T_0e9f3c4a_c910_11eb_92a8_0242ac1c0002row11_col2,#T_0e9f3c4a_c910_11eb_92a8_0242ac1c0002row11_col5,#T_0e9f3c4a_c910_11eb_92a8_0242ac1c0002row12_col2,#T_0e9f3c4a_c910_11eb_92a8_0242ac1c0002row12_col5,#T_0e9f3c4a_c910_11eb_92a8_0242ac1c0002row13_col2,#T_0e9f3c4a_c910_11eb_92a8_0242ac1c0002row13_col5,#T_0e9f3c4a_c910_11eb_92a8_0242ac1c0002row14_col2,#T_0e9f3c4a_c910_11eb_92a8_0242ac1c0002row14_col5,#T_0e9f3c4a_c910_11eb_92a8_0242ac1c0002row15_col2,#T_0e9f3c4a_c910_11eb_92a8_0242ac1c0002row15_col5,#T_0e9f3c4a_c910_11eb_92a8_0242ac1c0002row16_col2,#T_0e9f3c4a_c910_11eb_92a8_0242ac1c0002row16_col5,#T_0e9f3c4a_c910_11eb_92a8_0242ac1c0002row17_col2,#T_0e9f3c4a_c910_11eb_92a8_0242ac1c0002row17_col5,#T_0e9f3c4a_c910_11eb_92a8_0242ac1c0002row18_col2,#T_0e9f3c4a_c910_11eb_92a8_0242ac1c0002row18_col5,#T_0e9f3c4a_c910_11eb_92a8_0242ac1c0002row19_col2,#T_0e9f3c4a_c910_11eb_92a8_0242ac1c0002row19_col5{\n",
              "            background-color:  #fff7fb;\n",
              "            color:  #000000;\n",
              "        }#T_0e9f3c4a_c910_11eb_92a8_0242ac1c0002row17_col1{\n",
              "            width:  10em;\n",
              "             height:  80%;\n",
              "        }</style><table id=\"T_0e9f3c4a_c910_11eb_92a8_0242ac1c0002\" ><thead>    <tr>        <th class=\"blank level0\" ></th>        <th class=\"col_heading level0 col0\" >count</th>        <th class=\"col_heading level0 col1\" >mean</th>        <th class=\"col_heading level0 col2\" >std</th>        <th class=\"col_heading level0 col3\" >min</th>        <th class=\"col_heading level0 col4\" >25%</th>        <th class=\"col_heading level0 col5\" >50%</th>        <th class=\"col_heading level0 col6\" >75%</th>        <th class=\"col_heading level0 col7\" >max</th>    </tr></thead><tbody>\n",
              "                <tr>\n",
              "                        <th id=\"T_0e9f3c4a_c910_11eb_92a8_0242ac1c0002level0_row0\" class=\"row_heading level0 row0\" >id</th>\n",
              "                        <td id=\"T_0e9f3c4a_c910_11eb_92a8_0242ac1c0002row0_col0\" class=\"data row0 col0\" >21613.00</td>\n",
              "                        <td id=\"T_0e9f3c4a_c910_11eb_92a8_0242ac1c0002row0_col1\" class=\"data row0 col1\" >4580301520.86</td>\n",
              "                        <td id=\"T_0e9f3c4a_c910_11eb_92a8_0242ac1c0002row0_col2\" class=\"data row0 col2\" >2876565571.31</td>\n",
              "                        <td id=\"T_0e9f3c4a_c910_11eb_92a8_0242ac1c0002row0_col3\" class=\"data row0 col3\" >1000102.00</td>\n",
              "                        <td id=\"T_0e9f3c4a_c910_11eb_92a8_0242ac1c0002row0_col4\" class=\"data row0 col4\" >2123049194.00</td>\n",
              "                        <td id=\"T_0e9f3c4a_c910_11eb_92a8_0242ac1c0002row0_col5\" class=\"data row0 col5\" >3904930410.00</td>\n",
              "                        <td id=\"T_0e9f3c4a_c910_11eb_92a8_0242ac1c0002row0_col6\" class=\"data row0 col6\" >7308900445.00</td>\n",
              "                        <td id=\"T_0e9f3c4a_c910_11eb_92a8_0242ac1c0002row0_col7\" class=\"data row0 col7\" >9900000190.00</td>\n",
              "            </tr>\n",
              "            <tr>\n",
              "                        <th id=\"T_0e9f3c4a_c910_11eb_92a8_0242ac1c0002level0_row1\" class=\"row_heading level0 row1\" >price</th>\n",
              "                        <td id=\"T_0e9f3c4a_c910_11eb_92a8_0242ac1c0002row1_col0\" class=\"data row1 col0\" >21613.00</td>\n",
              "                        <td id=\"T_0e9f3c4a_c910_11eb_92a8_0242ac1c0002row1_col1\" class=\"data row1 col1\" >540088.14</td>\n",
              "                        <td id=\"T_0e9f3c4a_c910_11eb_92a8_0242ac1c0002row1_col2\" class=\"data row1 col2\" >367127.20</td>\n",
              "                        <td id=\"T_0e9f3c4a_c910_11eb_92a8_0242ac1c0002row1_col3\" class=\"data row1 col3\" >75000.00</td>\n",
              "                        <td id=\"T_0e9f3c4a_c910_11eb_92a8_0242ac1c0002row1_col4\" class=\"data row1 col4\" >321950.00</td>\n",
              "                        <td id=\"T_0e9f3c4a_c910_11eb_92a8_0242ac1c0002row1_col5\" class=\"data row1 col5\" >450000.00</td>\n",
              "                        <td id=\"T_0e9f3c4a_c910_11eb_92a8_0242ac1c0002row1_col6\" class=\"data row1 col6\" >645000.00</td>\n",
              "                        <td id=\"T_0e9f3c4a_c910_11eb_92a8_0242ac1c0002row1_col7\" class=\"data row1 col7\" >7700000.00</td>\n",
              "            </tr>\n",
              "            <tr>\n",
              "                        <th id=\"T_0e9f3c4a_c910_11eb_92a8_0242ac1c0002level0_row2\" class=\"row_heading level0 row2\" >bedrooms</th>\n",
              "                        <td id=\"T_0e9f3c4a_c910_11eb_92a8_0242ac1c0002row2_col0\" class=\"data row2 col0\" >21613.00</td>\n",
              "                        <td id=\"T_0e9f3c4a_c910_11eb_92a8_0242ac1c0002row2_col1\" class=\"data row2 col1\" >3.37</td>\n",
              "                        <td id=\"T_0e9f3c4a_c910_11eb_92a8_0242ac1c0002row2_col2\" class=\"data row2 col2\" >0.93</td>\n",
              "                        <td id=\"T_0e9f3c4a_c910_11eb_92a8_0242ac1c0002row2_col3\" class=\"data row2 col3\" >0.00</td>\n",
              "                        <td id=\"T_0e9f3c4a_c910_11eb_92a8_0242ac1c0002row2_col4\" class=\"data row2 col4\" >3.00</td>\n",
              "                        <td id=\"T_0e9f3c4a_c910_11eb_92a8_0242ac1c0002row2_col5\" class=\"data row2 col5\" >3.00</td>\n",
              "                        <td id=\"T_0e9f3c4a_c910_11eb_92a8_0242ac1c0002row2_col6\" class=\"data row2 col6\" >4.00</td>\n",
              "                        <td id=\"T_0e9f3c4a_c910_11eb_92a8_0242ac1c0002row2_col7\" class=\"data row2 col7\" >33.00</td>\n",
              "            </tr>\n",
              "            <tr>\n",
              "                        <th id=\"T_0e9f3c4a_c910_11eb_92a8_0242ac1c0002level0_row3\" class=\"row_heading level0 row3\" >bathrooms</th>\n",
              "                        <td id=\"T_0e9f3c4a_c910_11eb_92a8_0242ac1c0002row3_col0\" class=\"data row3 col0\" >21613.00</td>\n",
              "                        <td id=\"T_0e9f3c4a_c910_11eb_92a8_0242ac1c0002row3_col1\" class=\"data row3 col1\" >2.11</td>\n",
              "                        <td id=\"T_0e9f3c4a_c910_11eb_92a8_0242ac1c0002row3_col2\" class=\"data row3 col2\" >0.77</td>\n",
              "                        <td id=\"T_0e9f3c4a_c910_11eb_92a8_0242ac1c0002row3_col3\" class=\"data row3 col3\" >0.00</td>\n",
              "                        <td id=\"T_0e9f3c4a_c910_11eb_92a8_0242ac1c0002row3_col4\" class=\"data row3 col4\" >1.75</td>\n",
              "                        <td id=\"T_0e9f3c4a_c910_11eb_92a8_0242ac1c0002row3_col5\" class=\"data row3 col5\" >2.25</td>\n",
              "                        <td id=\"T_0e9f3c4a_c910_11eb_92a8_0242ac1c0002row3_col6\" class=\"data row3 col6\" >2.50</td>\n",
              "                        <td id=\"T_0e9f3c4a_c910_11eb_92a8_0242ac1c0002row3_col7\" class=\"data row3 col7\" >8.00</td>\n",
              "            </tr>\n",
              "            <tr>\n",
              "                        <th id=\"T_0e9f3c4a_c910_11eb_92a8_0242ac1c0002level0_row4\" class=\"row_heading level0 row4\" >sqft_living</th>\n",
              "                        <td id=\"T_0e9f3c4a_c910_11eb_92a8_0242ac1c0002row4_col0\" class=\"data row4 col0\" >21613.00</td>\n",
              "                        <td id=\"T_0e9f3c4a_c910_11eb_92a8_0242ac1c0002row4_col1\" class=\"data row4 col1\" >2079.90</td>\n",
              "                        <td id=\"T_0e9f3c4a_c910_11eb_92a8_0242ac1c0002row4_col2\" class=\"data row4 col2\" >918.44</td>\n",
              "                        <td id=\"T_0e9f3c4a_c910_11eb_92a8_0242ac1c0002row4_col3\" class=\"data row4 col3\" >290.00</td>\n",
              "                        <td id=\"T_0e9f3c4a_c910_11eb_92a8_0242ac1c0002row4_col4\" class=\"data row4 col4\" >1427.00</td>\n",
              "                        <td id=\"T_0e9f3c4a_c910_11eb_92a8_0242ac1c0002row4_col5\" class=\"data row4 col5\" >1910.00</td>\n",
              "                        <td id=\"T_0e9f3c4a_c910_11eb_92a8_0242ac1c0002row4_col6\" class=\"data row4 col6\" >2550.00</td>\n",
              "                        <td id=\"T_0e9f3c4a_c910_11eb_92a8_0242ac1c0002row4_col7\" class=\"data row4 col7\" >13540.00</td>\n",
              "            </tr>\n",
              "            <tr>\n",
              "                        <th id=\"T_0e9f3c4a_c910_11eb_92a8_0242ac1c0002level0_row5\" class=\"row_heading level0 row5\" >sqft_lot</th>\n",
              "                        <td id=\"T_0e9f3c4a_c910_11eb_92a8_0242ac1c0002row5_col0\" class=\"data row5 col0\" >21613.00</td>\n",
              "                        <td id=\"T_0e9f3c4a_c910_11eb_92a8_0242ac1c0002row5_col1\" class=\"data row5 col1\" >15106.97</td>\n",
              "                        <td id=\"T_0e9f3c4a_c910_11eb_92a8_0242ac1c0002row5_col2\" class=\"data row5 col2\" >41420.51</td>\n",
              "                        <td id=\"T_0e9f3c4a_c910_11eb_92a8_0242ac1c0002row5_col3\" class=\"data row5 col3\" >520.00</td>\n",
              "                        <td id=\"T_0e9f3c4a_c910_11eb_92a8_0242ac1c0002row5_col4\" class=\"data row5 col4\" >5040.00</td>\n",
              "                        <td id=\"T_0e9f3c4a_c910_11eb_92a8_0242ac1c0002row5_col5\" class=\"data row5 col5\" >7618.00</td>\n",
              "                        <td id=\"T_0e9f3c4a_c910_11eb_92a8_0242ac1c0002row5_col6\" class=\"data row5 col6\" >10688.00</td>\n",
              "                        <td id=\"T_0e9f3c4a_c910_11eb_92a8_0242ac1c0002row5_col7\" class=\"data row5 col7\" >1651359.00</td>\n",
              "            </tr>\n",
              "            <tr>\n",
              "                        <th id=\"T_0e9f3c4a_c910_11eb_92a8_0242ac1c0002level0_row6\" class=\"row_heading level0 row6\" >floors</th>\n",
              "                        <td id=\"T_0e9f3c4a_c910_11eb_92a8_0242ac1c0002row6_col0\" class=\"data row6 col0\" >21613.00</td>\n",
              "                        <td id=\"T_0e9f3c4a_c910_11eb_92a8_0242ac1c0002row6_col1\" class=\"data row6 col1\" >1.49</td>\n",
              "                        <td id=\"T_0e9f3c4a_c910_11eb_92a8_0242ac1c0002row6_col2\" class=\"data row6 col2\" >0.54</td>\n",
              "                        <td id=\"T_0e9f3c4a_c910_11eb_92a8_0242ac1c0002row6_col3\" class=\"data row6 col3\" >1.00</td>\n",
              "                        <td id=\"T_0e9f3c4a_c910_11eb_92a8_0242ac1c0002row6_col4\" class=\"data row6 col4\" >1.00</td>\n",
              "                        <td id=\"T_0e9f3c4a_c910_11eb_92a8_0242ac1c0002row6_col5\" class=\"data row6 col5\" >1.50</td>\n",
              "                        <td id=\"T_0e9f3c4a_c910_11eb_92a8_0242ac1c0002row6_col6\" class=\"data row6 col6\" >2.00</td>\n",
              "                        <td id=\"T_0e9f3c4a_c910_11eb_92a8_0242ac1c0002row6_col7\" class=\"data row6 col7\" >3.50</td>\n",
              "            </tr>\n",
              "            <tr>\n",
              "                        <th id=\"T_0e9f3c4a_c910_11eb_92a8_0242ac1c0002level0_row7\" class=\"row_heading level0 row7\" >waterfront</th>\n",
              "                        <td id=\"T_0e9f3c4a_c910_11eb_92a8_0242ac1c0002row7_col0\" class=\"data row7 col0\" >21613.00</td>\n",
              "                        <td id=\"T_0e9f3c4a_c910_11eb_92a8_0242ac1c0002row7_col1\" class=\"data row7 col1\" >0.01</td>\n",
              "                        <td id=\"T_0e9f3c4a_c910_11eb_92a8_0242ac1c0002row7_col2\" class=\"data row7 col2\" >0.09</td>\n",
              "                        <td id=\"T_0e9f3c4a_c910_11eb_92a8_0242ac1c0002row7_col3\" class=\"data row7 col3\" >0.00</td>\n",
              "                        <td id=\"T_0e9f3c4a_c910_11eb_92a8_0242ac1c0002row7_col4\" class=\"data row7 col4\" >0.00</td>\n",
              "                        <td id=\"T_0e9f3c4a_c910_11eb_92a8_0242ac1c0002row7_col5\" class=\"data row7 col5\" >0.00</td>\n",
              "                        <td id=\"T_0e9f3c4a_c910_11eb_92a8_0242ac1c0002row7_col6\" class=\"data row7 col6\" >0.00</td>\n",
              "                        <td id=\"T_0e9f3c4a_c910_11eb_92a8_0242ac1c0002row7_col7\" class=\"data row7 col7\" >1.00</td>\n",
              "            </tr>\n",
              "            <tr>\n",
              "                        <th id=\"T_0e9f3c4a_c910_11eb_92a8_0242ac1c0002level0_row8\" class=\"row_heading level0 row8\" >view</th>\n",
              "                        <td id=\"T_0e9f3c4a_c910_11eb_92a8_0242ac1c0002row8_col0\" class=\"data row8 col0\" >21613.00</td>\n",
              "                        <td id=\"T_0e9f3c4a_c910_11eb_92a8_0242ac1c0002row8_col1\" class=\"data row8 col1\" >0.23</td>\n",
              "                        <td id=\"T_0e9f3c4a_c910_11eb_92a8_0242ac1c0002row8_col2\" class=\"data row8 col2\" >0.77</td>\n",
              "                        <td id=\"T_0e9f3c4a_c910_11eb_92a8_0242ac1c0002row8_col3\" class=\"data row8 col3\" >0.00</td>\n",
              "                        <td id=\"T_0e9f3c4a_c910_11eb_92a8_0242ac1c0002row8_col4\" class=\"data row8 col4\" >0.00</td>\n",
              "                        <td id=\"T_0e9f3c4a_c910_11eb_92a8_0242ac1c0002row8_col5\" class=\"data row8 col5\" >0.00</td>\n",
              "                        <td id=\"T_0e9f3c4a_c910_11eb_92a8_0242ac1c0002row8_col6\" class=\"data row8 col6\" >0.00</td>\n",
              "                        <td id=\"T_0e9f3c4a_c910_11eb_92a8_0242ac1c0002row8_col7\" class=\"data row8 col7\" >4.00</td>\n",
              "            </tr>\n",
              "            <tr>\n",
              "                        <th id=\"T_0e9f3c4a_c910_11eb_92a8_0242ac1c0002level0_row9\" class=\"row_heading level0 row9\" >condition</th>\n",
              "                        <td id=\"T_0e9f3c4a_c910_11eb_92a8_0242ac1c0002row9_col0\" class=\"data row9 col0\" >21613.00</td>\n",
              "                        <td id=\"T_0e9f3c4a_c910_11eb_92a8_0242ac1c0002row9_col1\" class=\"data row9 col1\" >3.41</td>\n",
              "                        <td id=\"T_0e9f3c4a_c910_11eb_92a8_0242ac1c0002row9_col2\" class=\"data row9 col2\" >0.65</td>\n",
              "                        <td id=\"T_0e9f3c4a_c910_11eb_92a8_0242ac1c0002row9_col3\" class=\"data row9 col3\" >1.00</td>\n",
              "                        <td id=\"T_0e9f3c4a_c910_11eb_92a8_0242ac1c0002row9_col4\" class=\"data row9 col4\" >3.00</td>\n",
              "                        <td id=\"T_0e9f3c4a_c910_11eb_92a8_0242ac1c0002row9_col5\" class=\"data row9 col5\" >3.00</td>\n",
              "                        <td id=\"T_0e9f3c4a_c910_11eb_92a8_0242ac1c0002row9_col6\" class=\"data row9 col6\" >4.00</td>\n",
              "                        <td id=\"T_0e9f3c4a_c910_11eb_92a8_0242ac1c0002row9_col7\" class=\"data row9 col7\" >5.00</td>\n",
              "            </tr>\n",
              "            <tr>\n",
              "                        <th id=\"T_0e9f3c4a_c910_11eb_92a8_0242ac1c0002level0_row10\" class=\"row_heading level0 row10\" >grade</th>\n",
              "                        <td id=\"T_0e9f3c4a_c910_11eb_92a8_0242ac1c0002row10_col0\" class=\"data row10 col0\" >21613.00</td>\n",
              "                        <td id=\"T_0e9f3c4a_c910_11eb_92a8_0242ac1c0002row10_col1\" class=\"data row10 col1\" >7.66</td>\n",
              "                        <td id=\"T_0e9f3c4a_c910_11eb_92a8_0242ac1c0002row10_col2\" class=\"data row10 col2\" >1.18</td>\n",
              "                        <td id=\"T_0e9f3c4a_c910_11eb_92a8_0242ac1c0002row10_col3\" class=\"data row10 col3\" >1.00</td>\n",
              "                        <td id=\"T_0e9f3c4a_c910_11eb_92a8_0242ac1c0002row10_col4\" class=\"data row10 col4\" >7.00</td>\n",
              "                        <td id=\"T_0e9f3c4a_c910_11eb_92a8_0242ac1c0002row10_col5\" class=\"data row10 col5\" >7.00</td>\n",
              "                        <td id=\"T_0e9f3c4a_c910_11eb_92a8_0242ac1c0002row10_col6\" class=\"data row10 col6\" >8.00</td>\n",
              "                        <td id=\"T_0e9f3c4a_c910_11eb_92a8_0242ac1c0002row10_col7\" class=\"data row10 col7\" >13.00</td>\n",
              "            </tr>\n",
              "            <tr>\n",
              "                        <th id=\"T_0e9f3c4a_c910_11eb_92a8_0242ac1c0002level0_row11\" class=\"row_heading level0 row11\" >sqft_above</th>\n",
              "                        <td id=\"T_0e9f3c4a_c910_11eb_92a8_0242ac1c0002row11_col0\" class=\"data row11 col0\" >21613.00</td>\n",
              "                        <td id=\"T_0e9f3c4a_c910_11eb_92a8_0242ac1c0002row11_col1\" class=\"data row11 col1\" >1788.39</td>\n",
              "                        <td id=\"T_0e9f3c4a_c910_11eb_92a8_0242ac1c0002row11_col2\" class=\"data row11 col2\" >828.09</td>\n",
              "                        <td id=\"T_0e9f3c4a_c910_11eb_92a8_0242ac1c0002row11_col3\" class=\"data row11 col3\" >290.00</td>\n",
              "                        <td id=\"T_0e9f3c4a_c910_11eb_92a8_0242ac1c0002row11_col4\" class=\"data row11 col4\" >1190.00</td>\n",
              "                        <td id=\"T_0e9f3c4a_c910_11eb_92a8_0242ac1c0002row11_col5\" class=\"data row11 col5\" >1560.00</td>\n",
              "                        <td id=\"T_0e9f3c4a_c910_11eb_92a8_0242ac1c0002row11_col6\" class=\"data row11 col6\" >2210.00</td>\n",
              "                        <td id=\"T_0e9f3c4a_c910_11eb_92a8_0242ac1c0002row11_col7\" class=\"data row11 col7\" >9410.00</td>\n",
              "            </tr>\n",
              "            <tr>\n",
              "                        <th id=\"T_0e9f3c4a_c910_11eb_92a8_0242ac1c0002level0_row12\" class=\"row_heading level0 row12\" >sqft_basement</th>\n",
              "                        <td id=\"T_0e9f3c4a_c910_11eb_92a8_0242ac1c0002row12_col0\" class=\"data row12 col0\" >21613.00</td>\n",
              "                        <td id=\"T_0e9f3c4a_c910_11eb_92a8_0242ac1c0002row12_col1\" class=\"data row12 col1\" >291.51</td>\n",
              "                        <td id=\"T_0e9f3c4a_c910_11eb_92a8_0242ac1c0002row12_col2\" class=\"data row12 col2\" >442.58</td>\n",
              "                        <td id=\"T_0e9f3c4a_c910_11eb_92a8_0242ac1c0002row12_col3\" class=\"data row12 col3\" >0.00</td>\n",
              "                        <td id=\"T_0e9f3c4a_c910_11eb_92a8_0242ac1c0002row12_col4\" class=\"data row12 col4\" >0.00</td>\n",
              "                        <td id=\"T_0e9f3c4a_c910_11eb_92a8_0242ac1c0002row12_col5\" class=\"data row12 col5\" >0.00</td>\n",
              "                        <td id=\"T_0e9f3c4a_c910_11eb_92a8_0242ac1c0002row12_col6\" class=\"data row12 col6\" >560.00</td>\n",
              "                        <td id=\"T_0e9f3c4a_c910_11eb_92a8_0242ac1c0002row12_col7\" class=\"data row12 col7\" >4820.00</td>\n",
              "            </tr>\n",
              "            <tr>\n",
              "                        <th id=\"T_0e9f3c4a_c910_11eb_92a8_0242ac1c0002level0_row13\" class=\"row_heading level0 row13\" >yr_built</th>\n",
              "                        <td id=\"T_0e9f3c4a_c910_11eb_92a8_0242ac1c0002row13_col0\" class=\"data row13 col0\" >21613.00</td>\n",
              "                        <td id=\"T_0e9f3c4a_c910_11eb_92a8_0242ac1c0002row13_col1\" class=\"data row13 col1\" >1971.01</td>\n",
              "                        <td id=\"T_0e9f3c4a_c910_11eb_92a8_0242ac1c0002row13_col2\" class=\"data row13 col2\" >29.37</td>\n",
              "                        <td id=\"T_0e9f3c4a_c910_11eb_92a8_0242ac1c0002row13_col3\" class=\"data row13 col3\" >1900.00</td>\n",
              "                        <td id=\"T_0e9f3c4a_c910_11eb_92a8_0242ac1c0002row13_col4\" class=\"data row13 col4\" >1951.00</td>\n",
              "                        <td id=\"T_0e9f3c4a_c910_11eb_92a8_0242ac1c0002row13_col5\" class=\"data row13 col5\" >1975.00</td>\n",
              "                        <td id=\"T_0e9f3c4a_c910_11eb_92a8_0242ac1c0002row13_col6\" class=\"data row13 col6\" >1997.00</td>\n",
              "                        <td id=\"T_0e9f3c4a_c910_11eb_92a8_0242ac1c0002row13_col7\" class=\"data row13 col7\" >2015.00</td>\n",
              "            </tr>\n",
              "            <tr>\n",
              "                        <th id=\"T_0e9f3c4a_c910_11eb_92a8_0242ac1c0002level0_row14\" class=\"row_heading level0 row14\" >yr_renovated</th>\n",
              "                        <td id=\"T_0e9f3c4a_c910_11eb_92a8_0242ac1c0002row14_col0\" class=\"data row14 col0\" >21613.00</td>\n",
              "                        <td id=\"T_0e9f3c4a_c910_11eb_92a8_0242ac1c0002row14_col1\" class=\"data row14 col1\" >84.40</td>\n",
              "                        <td id=\"T_0e9f3c4a_c910_11eb_92a8_0242ac1c0002row14_col2\" class=\"data row14 col2\" >401.68</td>\n",
              "                        <td id=\"T_0e9f3c4a_c910_11eb_92a8_0242ac1c0002row14_col3\" class=\"data row14 col3\" >0.00</td>\n",
              "                        <td id=\"T_0e9f3c4a_c910_11eb_92a8_0242ac1c0002row14_col4\" class=\"data row14 col4\" >0.00</td>\n",
              "                        <td id=\"T_0e9f3c4a_c910_11eb_92a8_0242ac1c0002row14_col5\" class=\"data row14 col5\" >0.00</td>\n",
              "                        <td id=\"T_0e9f3c4a_c910_11eb_92a8_0242ac1c0002row14_col6\" class=\"data row14 col6\" >0.00</td>\n",
              "                        <td id=\"T_0e9f3c4a_c910_11eb_92a8_0242ac1c0002row14_col7\" class=\"data row14 col7\" >2015.00</td>\n",
              "            </tr>\n",
              "            <tr>\n",
              "                        <th id=\"T_0e9f3c4a_c910_11eb_92a8_0242ac1c0002level0_row15\" class=\"row_heading level0 row15\" >zipcode</th>\n",
              "                        <td id=\"T_0e9f3c4a_c910_11eb_92a8_0242ac1c0002row15_col0\" class=\"data row15 col0\" >21613.00</td>\n",
              "                        <td id=\"T_0e9f3c4a_c910_11eb_92a8_0242ac1c0002row15_col1\" class=\"data row15 col1\" >98077.94</td>\n",
              "                        <td id=\"T_0e9f3c4a_c910_11eb_92a8_0242ac1c0002row15_col2\" class=\"data row15 col2\" >53.51</td>\n",
              "                        <td id=\"T_0e9f3c4a_c910_11eb_92a8_0242ac1c0002row15_col3\" class=\"data row15 col3\" >98001.00</td>\n",
              "                        <td id=\"T_0e9f3c4a_c910_11eb_92a8_0242ac1c0002row15_col4\" class=\"data row15 col4\" >98033.00</td>\n",
              "                        <td id=\"T_0e9f3c4a_c910_11eb_92a8_0242ac1c0002row15_col5\" class=\"data row15 col5\" >98065.00</td>\n",
              "                        <td id=\"T_0e9f3c4a_c910_11eb_92a8_0242ac1c0002row15_col6\" class=\"data row15 col6\" >98118.00</td>\n",
              "                        <td id=\"T_0e9f3c4a_c910_11eb_92a8_0242ac1c0002row15_col7\" class=\"data row15 col7\" >98199.00</td>\n",
              "            </tr>\n",
              "            <tr>\n",
              "                        <th id=\"T_0e9f3c4a_c910_11eb_92a8_0242ac1c0002level0_row16\" class=\"row_heading level0 row16\" >lat</th>\n",
              "                        <td id=\"T_0e9f3c4a_c910_11eb_92a8_0242ac1c0002row16_col0\" class=\"data row16 col0\" >21613.00</td>\n",
              "                        <td id=\"T_0e9f3c4a_c910_11eb_92a8_0242ac1c0002row16_col1\" class=\"data row16 col1\" >47.56</td>\n",
              "                        <td id=\"T_0e9f3c4a_c910_11eb_92a8_0242ac1c0002row16_col2\" class=\"data row16 col2\" >0.14</td>\n",
              "                        <td id=\"T_0e9f3c4a_c910_11eb_92a8_0242ac1c0002row16_col3\" class=\"data row16 col3\" >47.16</td>\n",
              "                        <td id=\"T_0e9f3c4a_c910_11eb_92a8_0242ac1c0002row16_col4\" class=\"data row16 col4\" >47.47</td>\n",
              "                        <td id=\"T_0e9f3c4a_c910_11eb_92a8_0242ac1c0002row16_col5\" class=\"data row16 col5\" >47.57</td>\n",
              "                        <td id=\"T_0e9f3c4a_c910_11eb_92a8_0242ac1c0002row16_col6\" class=\"data row16 col6\" >47.68</td>\n",
              "                        <td id=\"T_0e9f3c4a_c910_11eb_92a8_0242ac1c0002row16_col7\" class=\"data row16 col7\" >47.78</td>\n",
              "            </tr>\n",
              "            <tr>\n",
              "                        <th id=\"T_0e9f3c4a_c910_11eb_92a8_0242ac1c0002level0_row17\" class=\"row_heading level0 row17\" >long</th>\n",
              "                        <td id=\"T_0e9f3c4a_c910_11eb_92a8_0242ac1c0002row17_col0\" class=\"data row17 col0\" >21613.00</td>\n",
              "                        <td id=\"T_0e9f3c4a_c910_11eb_92a8_0242ac1c0002row17_col1\" class=\"data row17 col1\" >-122.21</td>\n",
              "                        <td id=\"T_0e9f3c4a_c910_11eb_92a8_0242ac1c0002row17_col2\" class=\"data row17 col2\" >0.14</td>\n",
              "                        <td id=\"T_0e9f3c4a_c910_11eb_92a8_0242ac1c0002row17_col3\" class=\"data row17 col3\" >-122.52</td>\n",
              "                        <td id=\"T_0e9f3c4a_c910_11eb_92a8_0242ac1c0002row17_col4\" class=\"data row17 col4\" >-122.33</td>\n",
              "                        <td id=\"T_0e9f3c4a_c910_11eb_92a8_0242ac1c0002row17_col5\" class=\"data row17 col5\" >-122.23</td>\n",
              "                        <td id=\"T_0e9f3c4a_c910_11eb_92a8_0242ac1c0002row17_col6\" class=\"data row17 col6\" >-122.12</td>\n",
              "                        <td id=\"T_0e9f3c4a_c910_11eb_92a8_0242ac1c0002row17_col7\" class=\"data row17 col7\" >-121.31</td>\n",
              "            </tr>\n",
              "            <tr>\n",
              "                        <th id=\"T_0e9f3c4a_c910_11eb_92a8_0242ac1c0002level0_row18\" class=\"row_heading level0 row18\" >sqft_living15</th>\n",
              "                        <td id=\"T_0e9f3c4a_c910_11eb_92a8_0242ac1c0002row18_col0\" class=\"data row18 col0\" >21613.00</td>\n",
              "                        <td id=\"T_0e9f3c4a_c910_11eb_92a8_0242ac1c0002row18_col1\" class=\"data row18 col1\" >1986.55</td>\n",
              "                        <td id=\"T_0e9f3c4a_c910_11eb_92a8_0242ac1c0002row18_col2\" class=\"data row18 col2\" >685.39</td>\n",
              "                        <td id=\"T_0e9f3c4a_c910_11eb_92a8_0242ac1c0002row18_col3\" class=\"data row18 col3\" >399.00</td>\n",
              "                        <td id=\"T_0e9f3c4a_c910_11eb_92a8_0242ac1c0002row18_col4\" class=\"data row18 col4\" >1490.00</td>\n",
              "                        <td id=\"T_0e9f3c4a_c910_11eb_92a8_0242ac1c0002row18_col5\" class=\"data row18 col5\" >1840.00</td>\n",
              "                        <td id=\"T_0e9f3c4a_c910_11eb_92a8_0242ac1c0002row18_col6\" class=\"data row18 col6\" >2360.00</td>\n",
              "                        <td id=\"T_0e9f3c4a_c910_11eb_92a8_0242ac1c0002row18_col7\" class=\"data row18 col7\" >6210.00</td>\n",
              "            </tr>\n",
              "            <tr>\n",
              "                        <th id=\"T_0e9f3c4a_c910_11eb_92a8_0242ac1c0002level0_row19\" class=\"row_heading level0 row19\" >sqft_lot15</th>\n",
              "                        <td id=\"T_0e9f3c4a_c910_11eb_92a8_0242ac1c0002row19_col0\" class=\"data row19 col0\" >21613.00</td>\n",
              "                        <td id=\"T_0e9f3c4a_c910_11eb_92a8_0242ac1c0002row19_col1\" class=\"data row19 col1\" >12768.46</td>\n",
              "                        <td id=\"T_0e9f3c4a_c910_11eb_92a8_0242ac1c0002row19_col2\" class=\"data row19 col2\" >27304.18</td>\n",
              "                        <td id=\"T_0e9f3c4a_c910_11eb_92a8_0242ac1c0002row19_col3\" class=\"data row19 col3\" >651.00</td>\n",
              "                        <td id=\"T_0e9f3c4a_c910_11eb_92a8_0242ac1c0002row19_col4\" class=\"data row19 col4\" >5100.00</td>\n",
              "                        <td id=\"T_0e9f3c4a_c910_11eb_92a8_0242ac1c0002row19_col5\" class=\"data row19 col5\" >7620.00</td>\n",
              "                        <td id=\"T_0e9f3c4a_c910_11eb_92a8_0242ac1c0002row19_col6\" class=\"data row19 col6\" >10083.00</td>\n",
              "                        <td id=\"T_0e9f3c4a_c910_11eb_92a8_0242ac1c0002row19_col7\" class=\"data row19 col7\" >871200.00</td>\n",
              "            </tr>\n",
              "    </tbody></table>"
            ],
            "text/plain": [
              "<pandas.io.formats.style.Styler at 0x7f9eed40d290>"
            ]
          },
          "metadata": {
            "tags": []
          },
          "execution_count": 110
        }
      ]
    },
    {
      "cell_type": "code",
      "metadata": {
        "colab": {
          "base_uri": "https://localhost:8080/",
          "height": 1000,
          "referenced_widgets": [
            "6eba03f845bb4f1cbef4271f2c9136ee",
            "cc70ad07fdcb455294b445c7bfdeed1d",
            "c0e9de8b0109459eb71d500925cffb49",
            "44d9f00eccae4183bed048ea1698b001",
            "7aa3cef1f2564283b0c60f5d1ee3dc4b",
            "be9353991d144f879f9db6fe1a6d7507",
            "4192e1f9471b4ea3ba3dc89bd08b3f0d",
            "8c590524e07f4143b97c7aee961252d5"
          ]
        },
        "id": "a54DjmMgpiXa",
        "outputId": "47458e80-02e1-4aca-a1b7-662791efc98b"
      },
      "source": [
        "import matplotlib.pyplot as plt\n",
        "from tqdm import notebook\n",
        "import numpy as np\n",
        "\n",
        "#Dividing data for plotting\n",
        "plot_data = df.drop(\n",
        "    ['id', 'date', 'sqft_living15', 'sqft_lot15', 'lat', 'long', 'sqft_living', 'sqft_lot', 'sqft_above', 'sqft_basement', 'yr_built', 'yr_renovated', 'zipcode'], axis=1)\n",
        "\n",
        "def groupBarPlotter(dataset):\n",
        "    \"\"\"\n",
        "    This function will create bar plot for each column in the dataset with price column\n",
        "    \"\"\"\n",
        "    fig = plt.figure(figsize=(20, 20))\n",
        "    for i in notebook.tqdm(range(len(dataset.columns)), desc = 'Generating Group Plots'):\n",
        "        if not dataset.columns[i] == 'price':\n",
        "            groups = dataset.groupby(dataset.columns[i])['price'].mean()\n",
        "            fig.add_subplot(np.ceil(len(dataset.columns)/2), 2, i)\n",
        "            plt.xlabel('price')\n",
        "            groups.plot.barh()\n",
        "            fig.tight_layout(pad=3.0)\n",
        "\n",
        "groupBarPlotter(plot_data)"
      ],
      "execution_count": 111,
      "outputs": [
        {
          "output_type": "display_data",
          "data": {
            "application/vnd.jupyter.widget-view+json": {
              "model_id": "6eba03f845bb4f1cbef4271f2c9136ee",
              "version_minor": 0,
              "version_major": 2
            },
            "text/plain": [
              "HBox(children=(FloatProgress(value=0.0, description='Generating Group Plots', max=8.0, style=ProgressStyle(des…"
            ]
          },
          "metadata": {
            "tags": []
          }
        },
        {
          "output_type": "stream",
          "text": [
            "\n"
          ],
          "name": "stdout"
        },
        {
          "output_type": "display_data",
          "data": {
            "image/png": "[encoded data removed]",
            "text/plain": [
              "<Figure size 1440x1440 with 7 Axes>"
            ]
          },
          "metadata": {
            "tags": [],
            "needs_background": "light"
          }
        }
      ]
    },
    {
      "cell_type": "markdown",
      "metadata": {
        "id": "n9TfUFnvMWrP"
      },
      "source": [
        "# Feature Engineering"
      ]
    },
    {
      "cell_type": "code",
      "metadata": {
        "id": "pvlfSw4hOh7w"
      },
      "source": [
        "import pandas as pd\n",
        "df = pd.read_csv('https://ds-lecture-data.s3.ap-northeast-2.amazonaws.com/kc_house_data/kc_house_data.csv')"
      ],
      "execution_count": 112,
      "outputs": []
    },
    {
      "cell_type": "code",
      "metadata": {
        "colab": {
          "base_uri": "https://localhost:8080/",
          "height": 338
        },
        "id": "meAzrBAmsyFw",
        "outputId": "107890b5-4c07-4a62-9026-29c113fc06f0"
      },
      "source": [
        "# ID를 index로 변경 \n",
        "df = df.set_index('id') # set_index('컬럼명') : 컬럼명을 index로 바꿔주는 함수  \n",
        "\n",
        "# date의 타입을 datetime으로 변경\n",
        "df['date'] = pd.to_datetime(df['date'])\n",
        "\n",
        "# price, bathrooms, floors를 int형으로 변경 -> float형이지만 실제로 float형일 필요가 없는 컬럼의 데이터\n",
        "df.price = df.price.astype(int)\n",
        "df.bathrooms = df.bathrooms.astype(int)\n",
        "df.floors = df.floors.astype(int)\n",
        "df.head()"
      ],
      "execution_count": 113,
      "outputs": [
        {
          "output_type": "execute_result",
          "data": {
            "text/html": [
              "<div>\n",
              "<style scoped>\n",
              "    .dataframe tbody tr th:only-of-type {\n",
              "        vertical-align: middle;\n",
              "    }\n",
              "\n",
              "    .dataframe tbody tr th {\n",
              "        vertical-align: top;\n",
              "    }\n",
              "\n",
              "    .dataframe thead th {\n",
              "        text-align: right;\n",
              "    }\n",
              "</style>\n",
              "<table border=\"1\" class=\"dataframe\">\n",
              "  <thead>\n",
              "    <tr style=\"text-align: right;\">\n",
              "      <th></th>\n",
              "      <th>date</th>\n",
              "      <th>price</th>\n",
              "      <th>bedrooms</th>\n",
              "      <th>bathrooms</th>\n",
              "      <th>sqft_living</th>\n",
              "      <th>sqft_lot</th>\n",
              "      <th>floors</th>\n",
              "      <th>waterfront</th>\n",
              "      <th>view</th>\n",
              "      <th>condition</th>\n",
              "      <th>grade</th>\n",
              "      <th>sqft_above</th>\n",
              "      <th>sqft_basement</th>\n",
              "      <th>yr_built</th>\n",
              "      <th>yr_renovated</th>\n",
              "      <th>zipcode</th>\n",
              "      <th>lat</th>\n",
              "      <th>long</th>\n",
              "      <th>sqft_living15</th>\n",
              "      <th>sqft_lot15</th>\n",
              "    </tr>\n",
              "    <tr>\n",
              "      <th>id</th>\n",
              "      <th></th>\n",
              "      <th></th>\n",
              "      <th></th>\n",
              "      <th></th>\n",
              "      <th></th>\n",
              "      <th></th>\n",
              "      <th></th>\n",
              "      <th></th>\n",
              "      <th></th>\n",
              "      <th></th>\n",
              "      <th></th>\n",
              "      <th></th>\n",
              "      <th></th>\n",
              "      <th></th>\n",
              "      <th></th>\n",
              "      <th></th>\n",
              "      <th></th>\n",
              "      <th></th>\n",
              "      <th></th>\n",
              "      <th></th>\n",
              "    </tr>\n",
              "  </thead>\n",
              "  <tbody>\n",
              "    <tr>\n",
              "      <th>7129300520</th>\n",
              "      <td>2014-10-13</td>\n",
              "      <td>221900</td>\n",
              "      <td>3</td>\n",
              "      <td>1</td>\n",
              "      <td>1180</td>\n",
              "      <td>5650</td>\n",
              "      <td>1</td>\n",
              "      <td>0</td>\n",
              "      <td>0</td>\n",
              "      <td>3</td>\n",
              "      <td>7</td>\n",
              "      <td>1180</td>\n",
              "      <td>0</td>\n",
              "      <td>1955</td>\n",
              "      <td>0</td>\n",
              "      <td>98178</td>\n",
              "      <td>47.51</td>\n",
              "      <td>-122.26</td>\n",
              "      <td>1340</td>\n",
              "      <td>5650</td>\n",
              "    </tr>\n",
              "    <tr>\n",
              "      <th>6414100192</th>\n",
              "      <td>2014-12-09</td>\n",
              "      <td>538000</td>\n",
              "      <td>3</td>\n",
              "      <td>2</td>\n",
              "      <td>2570</td>\n",
              "      <td>7242</td>\n",
              "      <td>2</td>\n",
              "      <td>0</td>\n",
              "      <td>0</td>\n",
              "      <td>3</td>\n",
              "      <td>7</td>\n",
              "      <td>2170</td>\n",
              "      <td>400</td>\n",
              "      <td>1951</td>\n",
              "      <td>1991</td>\n",
              "      <td>98125</td>\n",
              "      <td>47.72</td>\n",
              "      <td>-122.32</td>\n",
              "      <td>1690</td>\n",
              "      <td>7639</td>\n",
              "    </tr>\n",
              "    <tr>\n",
              "      <th>5631500400</th>\n",
              "      <td>2015-02-25</td>\n",
              "      <td>180000</td>\n",
              "      <td>2</td>\n",
              "      <td>1</td>\n",
              "      <td>770</td>\n",
              "      <td>10000</td>\n",
              "      <td>1</td>\n",
              "      <td>0</td>\n",
              "      <td>0</td>\n",
              "      <td>3</td>\n",
              "      <td>6</td>\n",
              "      <td>770</td>\n",
              "      <td>0</td>\n",
              "      <td>1933</td>\n",
              "      <td>0</td>\n",
              "      <td>98028</td>\n",
              "      <td>47.74</td>\n",
              "      <td>-122.23</td>\n",
              "      <td>2720</td>\n",
              "      <td>8062</td>\n",
              "    </tr>\n",
              "    <tr>\n",
              "      <th>2487200875</th>\n",
              "      <td>2014-12-09</td>\n",
              "      <td>604000</td>\n",
              "      <td>4</td>\n",
              "      <td>3</td>\n",
              "      <td>1960</td>\n",
              "      <td>5000</td>\n",
              "      <td>1</td>\n",
              "      <td>0</td>\n",
              "      <td>0</td>\n",
              "      <td>5</td>\n",
              "      <td>7</td>\n",
              "      <td>1050</td>\n",
              "      <td>910</td>\n",
              "      <td>1965</td>\n",
              "      <td>0</td>\n",
              "      <td>98136</td>\n",
              "      <td>47.52</td>\n",
              "      <td>-122.39</td>\n",
              "      <td>1360</td>\n",
              "      <td>5000</td>\n",
              "    </tr>\n",
              "    <tr>\n",
              "      <th>1954400510</th>\n",
              "      <td>2015-02-18</td>\n",
              "      <td>510000</td>\n",
              "      <td>3</td>\n",
              "      <td>2</td>\n",
              "      <td>1680</td>\n",
              "      <td>8080</td>\n",
              "      <td>1</td>\n",
              "      <td>0</td>\n",
              "      <td>0</td>\n",
              "      <td>3</td>\n",
              "      <td>8</td>\n",
              "      <td>1680</td>\n",
              "      <td>0</td>\n",
              "      <td>1987</td>\n",
              "      <td>0</td>\n",
              "      <td>98074</td>\n",
              "      <td>47.62</td>\n",
              "      <td>-122.05</td>\n",
              "      <td>1800</td>\n",
              "      <td>7503</td>\n",
              "    </tr>\n",
              "  </tbody>\n",
              "</table>\n",
              "</div>"
            ],
            "text/plain": [
              "                 date   price  bedrooms  ...    long  sqft_living15  sqft_lot15\n",
              "id                                       ...                                   \n",
              "7129300520 2014-10-13  221900         3  ... -122.26           1340        5650\n",
              "6414100192 2014-12-09  538000         3  ... -122.32           1690        7639\n",
              "5631500400 2015-02-25  180000         2  ... -122.23           2720        8062\n",
              "2487200875 2014-12-09  604000         4  ... -122.39           1360        5000\n",
              "1954400510 2015-02-18  510000         3  ... -122.05           1800        7503\n",
              "\n",
              "[5 rows x 20 columns]"
            ]
          },
          "metadata": {
            "tags": []
          },
          "execution_count": 113
        }
      ]
    },
    {
      "cell_type": "code",
      "metadata": {
        "id": "sww457kDN88n",
        "outputId": "6d5a681f-50e6-4ca6-aabd-4eea960fa536",
        "colab": {
          "base_uri": "https://localhost:8080/",
          "height": 254
        }
      },
      "source": [
        "# 새로운 feature 생성 - house_age, renovated\n",
        "# house_age = date - yr_built \n",
        "df['house_age'] = df.date.dt.year - df.yr_built\n",
        "\n",
        "# 만약, yr_renovated data가 0이면 0으로, 0이 아니면 1로 바꾼 renovated 컬럼 생성 \n",
        "df['renovated'] = df.yr_renovated.apply(lambda yr: 0 if yr == 0 else 1)\n",
        "\n",
        "# drop date, yr_built, yr_renovated \n",
        "df = df.drop(['date','yr_built','yr_renovated'],axis = 1)\n",
        "\n",
        "df.head()"
      ],
      "execution_count": 114,
      "outputs": [
        {
          "output_type": "execute_result",
          "data": {
            "text/html": [
              "<div>\n",
              "<style scoped>\n",
              "    .dataframe tbody tr th:only-of-type {\n",
              "        vertical-align: middle;\n",
              "    }\n",
              "\n",
              "    .dataframe tbody tr th {\n",
              "        vertical-align: top;\n",
              "    }\n",
              "\n",
              "    .dataframe thead th {\n",
              "        text-align: right;\n",
              "    }\n",
              "</style>\n",
              "<table border=\"1\" class=\"dataframe\">\n",
              "  <thead>\n",
              "    <tr style=\"text-align: right;\">\n",
              "      <th></th>\n",
              "      <th>price</th>\n",
              "      <th>bedrooms</th>\n",
              "      <th>bathrooms</th>\n",
              "      <th>sqft_living</th>\n",
              "      <th>sqft_lot</th>\n",
              "      <th>floors</th>\n",
              "      <th>waterfront</th>\n",
              "      <th>view</th>\n",
              "      <th>condition</th>\n",
              "      <th>grade</th>\n",
              "      <th>sqft_above</th>\n",
              "      <th>sqft_basement</th>\n",
              "      <th>zipcode</th>\n",
              "      <th>lat</th>\n",
              "      <th>long</th>\n",
              "      <th>sqft_living15</th>\n",
              "      <th>sqft_lot15</th>\n",
              "      <th>house_age</th>\n",
              "      <th>renovated</th>\n",
              "    </tr>\n",
              "    <tr>\n",
              "      <th>id</th>\n",
              "      <th></th>\n",
              "      <th></th>\n",
              "      <th></th>\n",
              "      <th></th>\n",
              "      <th></th>\n",
              "      <th></th>\n",
              "      <th></th>\n",
              "      <th></th>\n",
              "      <th></th>\n",
              "      <th></th>\n",
              "      <th></th>\n",
              "      <th></th>\n",
              "      <th></th>\n",
              "      <th></th>\n",
              "      <th></th>\n",
              "      <th></th>\n",
              "      <th></th>\n",
              "      <th></th>\n",
              "      <th></th>\n",
              "    </tr>\n",
              "  </thead>\n",
              "  <tbody>\n",
              "    <tr>\n",
              "      <th>7129300520</th>\n",
              "      <td>221900</td>\n",
              "      <td>3</td>\n",
              "      <td>1</td>\n",
              "      <td>1180</td>\n",
              "      <td>5650</td>\n",
              "      <td>1</td>\n",
              "      <td>0</td>\n",
              "      <td>0</td>\n",
              "      <td>3</td>\n",
              "      <td>7</td>\n",
              "      <td>1180</td>\n",
              "      <td>0</td>\n",
              "      <td>98178</td>\n",
              "      <td>47.51</td>\n",
              "      <td>-122.26</td>\n",
              "      <td>1340</td>\n",
              "      <td>5650</td>\n",
              "      <td>59</td>\n",
              "      <td>0</td>\n",
              "    </tr>\n",
              "    <tr>\n",
              "      <th>6414100192</th>\n",
              "      <td>538000</td>\n",
              "      <td>3</td>\n",
              "      <td>2</td>\n",
              "      <td>2570</td>\n",
              "      <td>7242</td>\n",
              "      <td>2</td>\n",
              "      <td>0</td>\n",
              "      <td>0</td>\n",
              "      <td>3</td>\n",
              "      <td>7</td>\n",
              "      <td>2170</td>\n",
              "      <td>400</td>\n",
              "      <td>98125</td>\n",
              "      <td>47.72</td>\n",
              "      <td>-122.32</td>\n",
              "      <td>1690</td>\n",
              "      <td>7639</td>\n",
              "      <td>63</td>\n",
              "      <td>1</td>\n",
              "    </tr>\n",
              "    <tr>\n",
              "      <th>5631500400</th>\n",
              "      <td>180000</td>\n",
              "      <td>2</td>\n",
              "      <td>1</td>\n",
              "      <td>770</td>\n",
              "      <td>10000</td>\n",
              "      <td>1</td>\n",
              "      <td>0</td>\n",
              "      <td>0</td>\n",
              "      <td>3</td>\n",
              "      <td>6</td>\n",
              "      <td>770</td>\n",
              "      <td>0</td>\n",
              "      <td>98028</td>\n",
              "      <td>47.74</td>\n",
              "      <td>-122.23</td>\n",
              "      <td>2720</td>\n",
              "      <td>8062</td>\n",
              "      <td>82</td>\n",
              "      <td>0</td>\n",
              "    </tr>\n",
              "    <tr>\n",
              "      <th>2487200875</th>\n",
              "      <td>604000</td>\n",
              "      <td>4</td>\n",
              "      <td>3</td>\n",
              "      <td>1960</td>\n",
              "      <td>5000</td>\n",
              "      <td>1</td>\n",
              "      <td>0</td>\n",
              "      <td>0</td>\n",
              "      <td>5</td>\n",
              "      <td>7</td>\n",
              "      <td>1050</td>\n",
              "      <td>910</td>\n",
              "      <td>98136</td>\n",
              "      <td>47.52</td>\n",
              "      <td>-122.39</td>\n",
              "      <td>1360</td>\n",
              "      <td>5000</td>\n",
              "      <td>49</td>\n",
              "      <td>0</td>\n",
              "    </tr>\n",
              "    <tr>\n",
              "      <th>1954400510</th>\n",
              "      <td>510000</td>\n",
              "      <td>3</td>\n",
              "      <td>2</td>\n",
              "      <td>1680</td>\n",
              "      <td>8080</td>\n",
              "      <td>1</td>\n",
              "      <td>0</td>\n",
              "      <td>0</td>\n",
              "      <td>3</td>\n",
              "      <td>8</td>\n",
              "      <td>1680</td>\n",
              "      <td>0</td>\n",
              "      <td>98074</td>\n",
              "      <td>47.62</td>\n",
              "      <td>-122.05</td>\n",
              "      <td>1800</td>\n",
              "      <td>7503</td>\n",
              "      <td>28</td>\n",
              "      <td>0</td>\n",
              "    </tr>\n",
              "  </tbody>\n",
              "</table>\n",
              "</div>"
            ],
            "text/plain": [
              "             price  bedrooms  bathrooms  ...  sqft_lot15  house_age  renovated\n",
              "id                                       ...                                  \n",
              "7129300520  221900         3          1  ...        5650         59          0\n",
              "6414100192  538000         3          2  ...        7639         63          1\n",
              "5631500400  180000         2          1  ...        8062         82          0\n",
              "2487200875  604000         4          3  ...        5000         49          0\n",
              "1954400510  510000         3          2  ...        7503         28          0\n",
              "\n",
              "[5 rows x 19 columns]"
            ]
          },
          "metadata": {
            "tags": []
          },
          "execution_count": 114
        }
      ]
    },
    {
      "cell_type": "code",
      "metadata": {
        "id": "ni25EownPEI7",
        "outputId": "9f4c5277-4042-48fe-9db9-059e8b88ecfb",
        "colab": {
          "base_uri": "https://localhost:8080/"
        }
      },
      "source": [
        "pd.set_option('precision', 2) # set_option의 option 'max_rows'-행 , 'precision' - 소수점\n",
        "print(df.describe())"
      ],
      "execution_count": 115,
      "outputs": [
        {
          "output_type": "stream",
          "text": [
            "          price  bedrooms  bathrooms  ...  sqft_lot15  house_age  renovated\n",
            "count  2.16e+04  21613.00   21613.00  ...    21613.00   21613.00   21613.00\n",
            "mean   5.40e+05      3.37       1.75  ...    12768.46      43.32       0.04\n",
            "std    3.67e+05      0.93       0.73  ...    27304.18      29.38       0.20\n",
            "min    7.50e+04      0.00       0.00  ...      651.00      -1.00       0.00\n",
            "25%    3.22e+05      3.00       1.00  ...     5100.00      18.00       0.00\n",
            "50%    4.50e+05      3.00       2.00  ...     7620.00      40.00       0.00\n",
            "75%    6.45e+05      4.00       2.00  ...    10083.00      63.00       0.00\n",
            "max    7.70e+06     33.00       8.00  ...   871200.00     115.00       1.00\n",
            "\n",
            "[8 rows x 19 columns]\n"
          ],
          "name": "stdout"
        }
      ]
    },
    {
      "cell_type": "code",
      "metadata": {
        "id": "cPeWz7-vS072",
        "outputId": "b7ab203d-ad5c-4d98-8d43-1dba9ae3537d",
        "colab": {
          "base_uri": "https://localhost:8080/"
        }
      },
      "source": [
        "# price 기준, 상관계수 top 10 설정\n",
        "correlation = df.corr(method='pearson')\n",
        "columns = correlation.nlargest(10, 'price').index\n",
        "columns\n",
        "# 새로운 특성 house_age와 renovated를 만들었지만 price와 상관관계가 높지 않아 top 10에 선정되지 못했다."
      ],
      "execution_count": 116,
      "outputs": [
        {
          "output_type": "execute_result",
          "data": {
            "text/plain": [
              "Index(['price', 'sqft_living', 'grade', 'sqft_above', 'sqft_living15',\n",
              "       'bathrooms', 'view', 'sqft_basement', 'bedrooms', 'lat'],\n",
              "      dtype='object')"
            ]
          },
          "metadata": {
            "tags": []
          },
          "execution_count": 116
        }
      ]
    },
    {
      "cell_type": "code",
      "metadata": {
        "id": "QryL-6ueVeRS"
      },
      "source": [
        "# test & train data \n",
        "from sklearn.model_selection import train_test_split\n",
        "\n",
        "X = df[columns]\n",
        "Y = X['price'].values\n",
        "X = X.drop('price', axis = 1).values\n",
        "\n",
        "X_train, X_test, Y_train, Y_test = train_test_split (X, Y, test_size = 0.20, random_state=42)"
      ],
      "execution_count": 117,
      "outputs": []
    },
    {
      "cell_type": "code",
      "metadata": {
        "id": "rnNXdpa9V3b7"
      },
      "source": [
        "# model fit \n",
        "model.fit(X_train,Y_train)\n",
        "\n",
        "# train data predict\n",
        "y_tpred = model.predict(X_train)\n",
        "\n",
        "# test data predict\n",
        "y_epred = model.predict(X_test)"
      ],
      "execution_count": 118,
      "outputs": []
    },
    {
      "cell_type": "code",
      "metadata": {
        "id": "dd__E6utWL6f",
        "outputId": "327d7c80-c526-455c-8dda-8bac1e45ccf4",
        "colab": {
          "base_uri": "https://localhost:8080/"
        }
      },
      "source": [
        "# train data에 평가 지표 사용\n",
        "print('\\n[train data]\\n')\n",
        "print(f'MSE: {mean_squared_error(Y_train,y_tpred):.03f},RMSE: {mean_squared_error(Y_train,y_tpred)**0.5:.03f}\\\n",
        ",MAE:{mean_absolute_error(Y_train,y_tpred):.03f},R^2:{r2_score(Y_train,y_tpred):.03f}') \n",
        "\n",
        "# test data에 평가 지표 사용\n",
        "print('\\n[test data]\\n')\n",
        "print(f'MSE: {mean_squared_error(Y_test,y_epred):.03f},RMSE: {mean_squared_error(Y_test,y_epred)**0.5:.03f}\\\n",
        ",MAE:{mean_absolute_error(Y_test,y_epred):.03f},R^2:{r2_score(Y_test,y_epred):.03f}') \n",
        "\n",
        "## 아래의 지표를 보아, train data에 과적합된 것을 알 수 있다. 모든 지표가 train data일 때가 더 좋기 때문이다."
      ],
      "execution_count": 119,
      "outputs": [
        {
          "output_type": "stream",
          "text": [
            "\n",
            "[train data]\n",
            "\n",
            "MSE: 47024711054.499,RMSE: 216851.818,MAE:135646.103,R^2:0.640\n",
            "\n",
            "[test data]\n",
            "\n",
            "MSE: 54536878769.594,RMSE: 233531.323,MAE:140081.693,R^2:0.639\n"
          ],
          "name": "stdout"
        }
      ]
    },
    {
      "cell_type": "code",
      "metadata": {
        "id": "-Y2EQbntYVqs",
        "outputId": "76c681e2-571c-4e0c-9634-423bb4a0fa21",
        "colab": {
          "base_uri": "https://localhost:8080/",
          "height": 35
        }
      },
      "source": [
        "# 값이 가장 큰 회귀계수의 feature 확인\n",
        "columns[model.coef_.argmax()]\n",
        "\n",
        "#아래의 결과를 보아, bedrooms값이 target date(price)에 가장 영향력이 높은 것을 알 수 있다."
      ],
      "execution_count": 127,
      "outputs": [
        {
          "output_type": "execute_result",
          "data": {
            "application/vnd.google.colaboratory.intrinsic+json": {
              "type": "string"
            },
            "text/plain": [
              "'bedrooms'"
            ]
          },
          "metadata": {
            "tags": []
          },
          "execution_count": 127
        }
      ]
    },
    {
      "cell_type": "code",
      "metadata": {
        "id": "QfjsTA2AYlIa",
        "outputId": "5b3f8751-ae56-45e9-c6db-36776c3c3f4f",
        "colab": {
          "base_uri": "https://localhost:8080/"
        }
      },
      "source": [
        "# dict 형태로 표현\n",
        "column_coef = dict()\n",
        "for i,j in zip(columns,model.coef_):\n",
        "  column_coef[i] = j\n",
        "\n",
        "# value 값을 기준으로 정렬\n",
        "sorted(column_coef.items(),key = (lambda x:x[1]),reverse = True)\n",
        "\n",
        "# target data에 영향을 주는 feature의 순위를 아래의 결과로 엿 볼수 있었다."
      ],
      "execution_count": 145,
      "outputs": [
        {
          "output_type": "execute_result",
          "data": {
            "text/plain": [
              "[('bedrooms', 660593.7031661794),\n",
              " ('bathrooms', 94501.5564790977),\n",
              " ('sqft_living', 70843.0341281279),\n",
              " ('sqft_living15', 17401.705762142486),\n",
              " ('price', 126.73178338661333),\n",
              " ('view', 69.78297817134808),\n",
              " ('grade', 56.94880522126914),\n",
              " ('sqft_above', 6.592076905159047),\n",
              " ('sqft_basement', -28893.082634074766)]"
            ]
          },
          "metadata": {
            "tags": []
          },
          "execution_count": 145
        }
      ]
    },
    {
      "cell_type": "code",
      "metadata": {
        "id": "1adQcY-AWtH7"
      },
      "source": [
        "# house_age와 renovated가 price와 상관계수가 낮지만 이용해보겠다.\n",
        "X = df[['house_age','price']]\n",
        "Y = X['price'].values\n",
        "X = X.drop('price', axis = 1).values\n",
        "\n",
        "X_train, X_test, Y_train, Y_test = train_test_split (X, Y, test_size = 0.20, random_state=42)\n",
        "\n",
        "# model fit \n",
        "model.fit(X_train,Y_train)\n",
        "\n",
        "# train data predict\n",
        "y_tpred = model.predict(X_train)\n",
        "\n",
        "# test data predict\n",
        "y_epred = model.predict(X_test)"
      ],
      "execution_count": 96,
      "outputs": []
    },
    {
      "cell_type": "code",
      "metadata": {
        "id": "Y4KUJBigXbix",
        "outputId": "9353da47-0e63-44ba-ce8b-5103a26cb5b1",
        "colab": {
          "base_uri": "https://localhost:8080/"
        }
      },
      "source": [
        "# train data에 평가 지표 사용\n",
        "print('\\n[train data]\\n')\n",
        "print(f'MSE: {mean_squared_error(Y_train,y_tpred):.03f},RMSE: {mean_squared_error(Y_train,y_tpred)**0.5:.03f}\\\n",
        ",MAE:{mean_absolute_error(Y_train,y_tpred):.03f},R^2:{r2_score(Y_train,y_tpred):.03f}') \n",
        "\n",
        "# test data에 평가 지표 사용\n",
        "print('\\n[test data]\\n')\n",
        "print(f'MSE: {mean_squared_error(Y_test,y_epred):.03f},RMSE: {mean_squared_error(Y_test,y_epred)**0.5:.03f}\\\n",
        ",MAE:{mean_absolute_error(Y_test,y_epred):.03f},R^2:{r2_score(Y_test,y_epred):.03f}') \n",
        "\n",
        "## 아래의 지표를 보아, house_age의 특성은 target 특성을 예측하기에 전혀 유효하지 않았다. 과소적합, 과적합을 따질수가 없을만큼 쓸모없는 결과인거 같다."
      ],
      "execution_count": 97,
      "outputs": [
        {
          "output_type": "stream",
          "text": [
            "\n",
            "[train data]\n",
            "\n",
            "MSE: 130335914917.909,RMSE: 361020.657,MAE:231770.611,R^2:0.002\n",
            "\n",
            "[test data]\n",
            "\n",
            "MSE: 150625436499.703,RMSE: 388104.930,MAE:239581.287,R^2:0.004\n"
          ],
          "name": "stdout"
        }
      ]
    },
    {
      "cell_type": "code",
      "metadata": {
        "id": "bLglfcfEXtqo",
        "outputId": "e4e01956-40fd-4447-9ae3-e4aa9b22d4a5",
        "colab": {
          "base_uri": "https://localhost:8080/"
        }
      },
      "source": [
        "# house_age와 renovated가 price와 상관계수가 낮지만 이용해보겠다.\n",
        "X = df[['renovated','price']]\n",
        "Y = X['price'].values\n",
        "X = X.drop('price', axis = 1).values\n",
        "\n",
        "X_train, X_test, Y_train, Y_test = train_test_split (X, Y, test_size = 0.20, random_state=42)\n",
        "\n",
        "# model fit \n",
        "model.fit(X_train,Y_train)\n",
        "\n",
        "# train data predict\n",
        "y_tpred = model.predict(X_train)\n",
        "\n",
        "# test data predict\n",
        "y_epred = model.predict(X_test)\n",
        "\n",
        "# train data에 평가 지표 사용\n",
        "print('\\n[train data]\\n')\n",
        "print(f'MSE: {mean_squared_error(Y_train,y_tpred):.03f},RMSE: {mean_squared_error(Y_train,y_tpred)**0.5:.03f}\\\n",
        ",MAE:{mean_absolute_error(Y_train,y_tpred):.03f},R^2:{r2_score(Y_train,y_tpred):.03f}') \n",
        "\n",
        "# test data에 평가 지표 사용\n",
        "print('\\n[test data]\\n')\n",
        "print(f'MSE: {mean_squared_error(Y_test,y_epred):.03f},RMSE: {mean_squared_error(Y_test,y_epred)**0.5:.03f}\\\n",
        ",MAE:{mean_absolute_error(Y_test,y_epred):.03f},R^2:{r2_score(Y_test,y_epred):.03f}') \n",
        "\n",
        "## 아래의 지표를 보아, renovated의 특성도 target 특성을 예측하기에 전혀 유효하지 않았다. 과적합, 과소적합이냐를 굳이 따져야 한다면 과적합되었다고 볼 수 있다."
      ],
      "execution_count": 98,
      "outputs": [
        {
          "output_type": "stream",
          "text": [
            "\n",
            "[train data]\n",
            "\n",
            "MSE: 128527206418.635,RMSE: 358506.913,MAE:230003.670,R^2:0.016\n",
            "\n",
            "[test data]\n",
            "\n",
            "MSE: 149079151677.287,RMSE: 386107.694,MAE:238184.319,R^2:0.014\n"
          ],
          "name": "stdout"
        }
      ]
    },
    {
      "cell_type": "markdown",
      "metadata": {
        "id": "cD71rMuxN8y8"
      },
      "source": [
        "## 참고자료\n",
        "* [Feature Engineering](https://en.wikipedia.org/wiki/Feature_engineering)\n",
        "* [\"A Few Useful Things to Know about Machine Learning\"](https://homes.cs.washington.edu/~pedrod/papers/cacm12.pdf)\n",
        "* [Machine Learning and AI via Brain simulations](https://forum.stanford.edu/events/2011/2011slides/plenary/2011plenaryNg.pdf)\n",
        "* [_An Introduction to Statistical Learning_](http://faculty.marshall.usc.edu/gareth-james/ISL/ISLR%20Seventh%20Printing.pdf),  Chapter 3.1, Simple Linear Regression, & Chapter 3.2, Multiple Linear Regression\n",
        "* [Brandon Foltz, Statistics 101: Simple Linear Regression](https://www.youtube.com/watch?v=ZkjP5RJLQF4)"
      ]
    },
    {
      "cell_type": "code",
      "metadata": {
        "id": "0hi5WbLBMyot"
      },
      "source": [
        "#"
      ],
      "execution_count": 99,
      "outputs": []
    }
  ]
}