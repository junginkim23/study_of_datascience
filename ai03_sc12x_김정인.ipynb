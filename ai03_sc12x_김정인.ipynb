{
  "nbformat": 4,
  "nbformat_minor": 0,
  "metadata": {
    "colab": {
      "name": "ai03-sc12x-김정인.ipynb",
      "provenance": [],
      "collapsed_sections": [],
      "include_colab_link": true
    },
    "kernelspec": {
      "display_name": "Python 3",
      "language": "python",
      "name": "python3"
    },
    "language_info": {
      "codemirror_mode": {
        "name": "ipython",
        "version": 3
      },
      "file_extension": ".py",
      "mimetype": "text/x-python",
      "name": "python",
      "nbconvert_exporter": "python",
      "pygments_lexer": "ipython3",
      "version": "3.8.2"
    }
  },
  "cells": [
    {
      "cell_type": "markdown",
      "metadata": {
        "id": "view-in-github",
        "colab_type": "text"
      },
      "source": [
        "<a href=\"https://colab.research.google.com/github/junginkim23/ds-section1-sprint2/blob/master/ai03_sc12x_%EA%B9%80%EC%A0%95%EC%9D%B8.ipynb\" target=\"_parent\"><img src=\"https://colab.research.google.com/assets/colab-badge.svg\" alt=\"Open In Colab\"/></a>"
      ]
    },
    {
      "cell_type": "markdown",
      "metadata": {
        "id": "NooAiTdnafkz"
      },
      "source": [
        "<img src='https://i.imgur.com/RDAD11M.png' width = '200' align = 'right'>\n",
        "\n",
        "# SC12x\n",
        "\n",
        "## Statistical Analysis"
      ]
    },
    {
      "cell_type": "markdown",
      "metadata": {
        "id": "p1WIHlUA7itE"
      },
      "source": [
        "## 개요\n",
        "\n",
        "여러분은 코스 수료를 마치고 CodeStates에 DS CA (Coaching  Assistant)로 합류했습니다.\n",
        "\n",
        "여러분에게 주어진 메인 태스크는 세션 및 수강생 핸들링이지만. \n",
        "\n",
        "시간을 짜내어 사이드 프로젝트를 하고 싶어졌습니다.\n",
        "\n",
        "AIB 팀원들과의 커피타임을 통해 수강생 데이터를 하나 받을 수 있었습니다.\n",
        "\n",
        "> 기수별 학생들 성취도 데이터인데, 어떤 의미가 있는지 확인해주세요."
      ]
    },
    {
      "cell_type": "markdown",
      "metadata": {
        "id": "WpH5PrMh-rOU"
      },
      "source": [
        "### Data Description\n",
        "\n",
        "- F1 : `N`, `D`\n",
        "- F2 : `Y`, `N`\n",
        "- F3 : `A`, `B`, `C`, `D` (기수)\n",
        "- F4 : Continuous\n",
        "- F5 : Continuous\n",
        "- F6 : `A` ~ `H`\n",
        "- F7 : Continuous\n",
        "- F8 : `X`, `Y`, `Z`\n",
        "- F9 : `Y`, `N`"
      ]
    },
    {
      "cell_type": "markdown",
      "metadata": {
        "id": "5wch6ksCbJtZ"
      },
      "source": [
        "## 1. 다음 링크를 참조하여 데이터를 불러오세요. \n",
        "\n",
        "<https://ds-lecture-data.s3.ap-northeast-2.amazonaws.com/sc12x/csdata.csv>\n",
        "\n",
        "이후 간단한 전처리를 하세요.\n"
      ]
    },
    {
      "cell_type": "code",
      "metadata": {
        "id": "1vSniBMjN950",
        "outputId": "dc2b4653-0767-4523-d51f-4781fe909809",
        "colab": {
          "base_uri": "https://localhost:8080/",
          "height": 204
        }
      },
      "source": [
        "import pandas as pd\n",
        "import numpy as np\n",
        "\n",
        "df = pd.read_csv(\"https://ds-lecture-data.s3.ap-northeast-2.amazonaws.com/sc12x/csdata.csv\",index_col=0)\n",
        "\n",
        "df.head()"
      ],
      "execution_count": 4,
      "outputs": [
        {
          "output_type": "execute_result",
          "data": {
            "text/html": [
              "<div>\n",
              "<style scoped>\n",
              "    .dataframe tbody tr th:only-of-type {\n",
              "        vertical-align: middle;\n",
              "    }\n",
              "\n",
              "    .dataframe tbody tr th {\n",
              "        vertical-align: top;\n",
              "    }\n",
              "\n",
              "    .dataframe thead th {\n",
              "        text-align: right;\n",
              "    }\n",
              "</style>\n",
              "<table border=\"1\" class=\"dataframe\">\n",
              "  <thead>\n",
              "    <tr style=\"text-align: right;\">\n",
              "      <th></th>\n",
              "      <th>F1</th>\n",
              "      <th>F2</th>\n",
              "      <th>F3</th>\n",
              "      <th>F4</th>\n",
              "      <th>F5</th>\n",
              "      <th>F6</th>\n",
              "      <th>F7</th>\n",
              "      <th>F8</th>\n",
              "      <th>F9</th>\n",
              "    </tr>\n",
              "  </thead>\n",
              "  <tbody>\n",
              "    <tr>\n",
              "      <th>1</th>\n",
              "      <td>N</td>\n",
              "      <td>N</td>\n",
              "      <td>A</td>\n",
              "      <td>2.239542</td>\n",
              "      <td>0.773708</td>\n",
              "      <td>H</td>\n",
              "      <td>3.0</td>\n",
              "      <td>Y</td>\n",
              "      <td>Y</td>\n",
              "    </tr>\n",
              "    <tr>\n",
              "      <th>2</th>\n",
              "      <td>D</td>\n",
              "      <td>N</td>\n",
              "      <td>A</td>\n",
              "      <td>1.608900</td>\n",
              "      <td>0.133612</td>\n",
              "      <td>H</td>\n",
              "      <td>3.0</td>\n",
              "      <td>X</td>\n",
              "      <td>Y</td>\n",
              "    </tr>\n",
              "    <tr>\n",
              "      <th>3</th>\n",
              "      <td>N</td>\n",
              "      <td>N</td>\n",
              "      <td>A</td>\n",
              "      <td>2.544409</td>\n",
              "      <td>0.721873</td>\n",
              "      <td>H</td>\n",
              "      <td>8.0</td>\n",
              "      <td>Y</td>\n",
              "      <td>Y</td>\n",
              "    </tr>\n",
              "    <tr>\n",
              "      <th>4</th>\n",
              "      <td>N</td>\n",
              "      <td>Y</td>\n",
              "      <td>A</td>\n",
              "      <td>0.782857</td>\n",
              "      <td>0.259751</td>\n",
              "      <td>F</td>\n",
              "      <td>9.0</td>\n",
              "      <td>Y</td>\n",
              "      <td>N</td>\n",
              "    </tr>\n",
              "    <tr>\n",
              "      <th>5</th>\n",
              "      <td>N</td>\n",
              "      <td>N</td>\n",
              "      <td>A</td>\n",
              "      <td>1.532721</td>\n",
              "      <td>0.283534</td>\n",
              "      <td>E</td>\n",
              "      <td>4.0</td>\n",
              "      <td>Z</td>\n",
              "      <td>Y</td>\n",
              "    </tr>\n",
              "  </tbody>\n",
              "</table>\n",
              "</div>"
            ],
            "text/plain": [
              "  F1 F2 F3        F4        F5 F6   F7 F8 F9\n",
              "1  N  N  A  2.239542  0.773708  H  3.0  Y  Y\n",
              "2  D  N  A  1.608900  0.133612  H  3.0  X  Y\n",
              "3  N  N  A  2.544409  0.721873  H  8.0  Y  Y\n",
              "4  N  Y  A  0.782857  0.259751  F  9.0  Y  N\n",
              "5  N  N  A  1.532721  0.283534  E  4.0  Z  Y"
            ]
          },
          "metadata": {
            "tags": []
          },
          "execution_count": 4
        }
      ]
    },
    {
      "cell_type": "code",
      "metadata": {
        "id": "xbGEUSWJz7kZ",
        "outputId": "76fe15cd-527c-4a7e-b285-2ed5f56e329c",
        "colab": {
          "base_uri": "https://localhost:8080/",
          "height": 296
        }
      },
      "source": [
        "df.describe()"
      ],
      "execution_count": 5,
      "outputs": [
        {
          "output_type": "execute_result",
          "data": {
            "text/html": [
              "<div>\n",
              "<style scoped>\n",
              "    .dataframe tbody tr th:only-of-type {\n",
              "        vertical-align: middle;\n",
              "    }\n",
              "\n",
              "    .dataframe tbody tr th {\n",
              "        vertical-align: top;\n",
              "    }\n",
              "\n",
              "    .dataframe thead th {\n",
              "        text-align: right;\n",
              "    }\n",
              "</style>\n",
              "<table border=\"1\" class=\"dataframe\">\n",
              "  <thead>\n",
              "    <tr style=\"text-align: right;\">\n",
              "      <th></th>\n",
              "      <th>F4</th>\n",
              "      <th>F5</th>\n",
              "      <th>F7</th>\n",
              "    </tr>\n",
              "  </thead>\n",
              "  <tbody>\n",
              "    <tr>\n",
              "      <th>count</th>\n",
              "      <td>200.000000</td>\n",
              "      <td>170.000000</td>\n",
              "      <td>197.00000</td>\n",
              "    </tr>\n",
              "    <tr>\n",
              "      <th>mean</th>\n",
              "      <td>2.512655</td>\n",
              "      <td>0.500227</td>\n",
              "      <td>4.93401</td>\n",
              "    </tr>\n",
              "    <tr>\n",
              "      <th>std</th>\n",
              "      <td>1.166105</td>\n",
              "      <td>0.289515</td>\n",
              "      <td>2.00273</td>\n",
              "    </tr>\n",
              "    <tr>\n",
              "      <th>min</th>\n",
              "      <td>0.022079</td>\n",
              "      <td>0.010212</td>\n",
              "      <td>0.00000</td>\n",
              "    </tr>\n",
              "    <tr>\n",
              "      <th>25%</th>\n",
              "      <td>1.732794</td>\n",
              "      <td>0.244191</td>\n",
              "      <td>3.00000</td>\n",
              "    </tr>\n",
              "    <tr>\n",
              "      <th>50%</th>\n",
              "      <td>2.546567</td>\n",
              "      <td>0.486618</td>\n",
              "      <td>5.00000</td>\n",
              "    </tr>\n",
              "    <tr>\n",
              "      <th>75%</th>\n",
              "      <td>3.311934</td>\n",
              "      <td>0.753421</td>\n",
              "      <td>6.00000</td>\n",
              "    </tr>\n",
              "    <tr>\n",
              "      <th>max</th>\n",
              "      <td>5.868967</td>\n",
              "      <td>0.993412</td>\n",
              "      <td>11.00000</td>\n",
              "    </tr>\n",
              "  </tbody>\n",
              "</table>\n",
              "</div>"
            ],
            "text/plain": [
              "               F4          F5         F7\n",
              "count  200.000000  170.000000  197.00000\n",
              "mean     2.512655    0.500227    4.93401\n",
              "std      1.166105    0.289515    2.00273\n",
              "min      0.022079    0.010212    0.00000\n",
              "25%      1.732794    0.244191    3.00000\n",
              "50%      2.546567    0.486618    5.00000\n",
              "75%      3.311934    0.753421    6.00000\n",
              "max      5.868967    0.993412   11.00000"
            ]
          },
          "metadata": {
            "tags": []
          },
          "execution_count": 5
        }
      ]
    },
    {
      "cell_type": "code",
      "metadata": {
        "id": "pOBvho_20NnQ",
        "outputId": "9206ea0c-9227-4448-b5b8-e5ffa184c2cb",
        "colab": {
          "base_uri": "https://localhost:8080/"
        }
      },
      "source": [
        "#null 값 확인 -> F2, F5, F7 \n",
        "df.info()"
      ],
      "execution_count": 6,
      "outputs": [
        {
          "output_type": "stream",
          "text": [
            "<class 'pandas.core.frame.DataFrame'>\n",
            "Int64Index: 200 entries, 1 to 200\n",
            "Data columns (total 9 columns):\n",
            " #   Column  Non-Null Count  Dtype  \n",
            "---  ------  --------------  -----  \n",
            " 0   F1      200 non-null    object \n",
            " 1   F2      191 non-null    object \n",
            " 2   F3      200 non-null    object \n",
            " 3   F4      200 non-null    float64\n",
            " 4   F5      170 non-null    float64\n",
            " 5   F6      200 non-null    object \n",
            " 6   F7      197 non-null    float64\n",
            " 7   F8      200 non-null    object \n",
            " 8   F9      200 non-null    object \n",
            "dtypes: float64(3), object(6)\n",
            "memory usage: 15.6+ KB\n"
          ],
          "name": "stdout"
        }
      ]
    },
    {
      "cell_type": "code",
      "metadata": {
        "id": "Ly2kJBeI0dPK",
        "outputId": "2108913e-9522-4325-c530-110e0d8c9657",
        "colab": {
          "base_uri": "https://localhost:8080/"
        }
      },
      "source": [
        "print(df.F1.unique())\n",
        "print(df.F2.unique()) \n",
        "print(df.F3.unique()) #F3에 소문자를 대문자로 변환해야함.\n",
        "print(df.F6.unique())\n",
        "print(df.F8.unique())\n",
        "print(df.F9.unique())"
      ],
      "execution_count": 8,
      "outputs": [
        {
          "output_type": "stream",
          "text": [
            "['N' 'D']\n",
            "['N' 'Y' nan]\n",
            "['A' 'a' 'B' 'b' 'C' 'c' 'D' 'd']\n",
            "['H' 'F' 'E' 'C' 'G' 'D' 'B']\n",
            "['Y' 'X' 'Z']\n",
            "['Y' 'N']\n"
          ],
          "name": "stdout"
        }
      ]
    },
    {
      "cell_type": "code",
      "metadata": {
        "id": "807BwbaW0yGU"
      },
      "source": [
        "#결측치 제거 F2 & F7 \n",
        "df = df[~(df['F2'].isnull())]\n",
        "df = df[~(df['F7'].isnull())]\n",
        "\n",
        "#F3 소문자 -> 대문자 변환\n",
        "df['F3'] = df['F3'].str.upper()\n",
        "\n",
        "#F5 결측값 대체 \n",
        "df['F5'] = df['F5'].fillna(df['F5'].mean())"
      ],
      "execution_count": 24,
      "outputs": []
    },
    {
      "cell_type": "code",
      "metadata": {
        "id": "UPFhwgGu16b3",
        "outputId": "ee0da6be-9dfb-4d79-8c7f-61fb76d1b992",
        "colab": {
          "base_uri": "https://localhost:8080/"
        }
      },
      "source": [
        "df.isnull().sum()"
      ],
      "execution_count": 25,
      "outputs": [
        {
          "output_type": "execute_result",
          "data": {
            "text/plain": [
              "F1    0\n",
              "F2    0\n",
              "F3    0\n",
              "F4    0\n",
              "F5    0\n",
              "F6    0\n",
              "F7    0\n",
              "F8    0\n",
              "F9    0\n",
              "dtype: int64"
            ]
          },
          "metadata": {
            "tags": []
          },
          "execution_count": 25
        }
      ]
    },
    {
      "cell_type": "markdown",
      "metadata": {
        "id": "G7rLytbrO38L"
      },
      "source": [
        "## 2. **F3**에 따라서 다른 Feature들이 어떤 경향을 나타내는지 해석해보세요.\n",
        "\n",
        "- categorical feature의 경우 crosstab을 사용하여 [contingency tables](https://en.wikipedia.org/wiki/Contingency_table)과 chi-square를 시도해 볼 수 있습니다.\n",
        "\n",
        "- continuous feature의 경우 여러 시각화와 t-test를 할 수 있을 겁니다.\n",
        "\n",
        "- 이를 바탕으로 **가장 유의미한** 그리고 **가장 무의미한** feature를 찾아보세요.\n",
        "\n",
        "여기서 여러분들의 목표는 \n",
        "\n",
        "`F3`에 따라서 다른 feature들이 영향이 있는지 없는지를 알아보는 \n",
        "\n",
        "**가설검정** 입니다.\n",
        "\n",
        "따라서 데이터 탐색 및 시각화 작업에 너무 많은 시간을 쏟지 마세요. 이것은 사이드 프로젝트 입니다."
      ]
    },
    {
      "cell_type": "code",
      "metadata": {
        "id": "_nqcgc0yzm68",
        "colab": {
          "base_uri": "https://localhost:8080/"
        },
        "outputId": "56bbf4aa-57ac-43d5-c41d-e6358ac99d69"
      },
      "source": [
        "# F3 & F1 2 sample chi_square test\n",
        "# H0: F1과 F3은 서로 관계가 없다. (독립)\n",
        "# H1: F1과 F3은 서러 관계가 있다. (종속)\n",
        "\n",
        "from scipy.stats import chi2_contingency\n",
        "import numpy as np\n",
        "\n",
        "obs = pd. crosstab(df['F3'],df['F1'])\n",
        "\n",
        "\n",
        "chi2_contingency(obs)\n",
        "#p_value가 0.697로 0.05보다 크므로 귀무가설을 기각할 수 없다. \n",
        "#즉, F1과 F3는 서로 관계가 없다. 독립! "
      ],
      "execution_count": 34,
      "outputs": [
        {
          "output_type": "execute_result",
          "data": {
            "text/plain": [
              "(1.4377719467233523, 0.6967051489258402, 3, array([[ 8.68085106, 39.31914894],\n",
              "        [ 8.31914894, 37.68085106],\n",
              "        [ 8.5       , 38.5       ],\n",
              "        [ 8.5       , 38.5       ]]))"
            ]
          },
          "metadata": {
            "tags": []
          },
          "execution_count": 34
        }
      ]
    },
    {
      "cell_type": "code",
      "metadata": {
        "id": "Q3_mU0FdAmTM",
        "outputId": "c984c2a8-0643-42c3-d96e-c569d2defc46",
        "colab": {
          "base_uri": "https://localhost:8080/"
        }
      },
      "source": [
        "# F3 & F6 2 sample chi_square test\n",
        "# H0: F6과 F3은 서로 관계가 없다. (독립)\n",
        "# H1: F6과 F3은 서러 관계가 있다. (종속)\n",
        "\n",
        "from scipy.stats import chi2_contingency\n",
        "import numpy as np\n",
        "\n",
        "obs = pd. crosstab(df['F3'],df['F6'])\n",
        "\n",
        "chi2_contingency(obs)\n",
        "#p_value가 0.692로 0.05보다 크므로 귀무가설을 기각할 수 없다. \n",
        "#즉, F6과 F3는 서로 관계가 없다. 독립! "
      ],
      "execution_count": 40,
      "outputs": [
        {
          "output_type": "execute_result",
          "data": {
            "text/plain": [
              "(14.558616404926772,\n",
              " 0.6920174637926277,\n",
              " 18,\n",
              " array([[ 0.25531915,  1.27659574,  1.53191489,  4.59574468,  9.19148936,\n",
              "         10.9787234 , 20.17021277],\n",
              "        [ 0.24468085,  1.22340426,  1.46808511,  4.40425532,  8.80851064,\n",
              "         10.5212766 , 19.32978723],\n",
              "        [ 0.25      ,  1.25      ,  1.5       ,  4.5       ,  9.        ,\n",
              "         10.75      , 19.75      ],\n",
              "        [ 0.25      ,  1.25      ,  1.5       ,  4.5       ,  9.        ,\n",
              "         10.75      , 19.75      ]]))"
            ]
          },
          "metadata": {
            "tags": []
          },
          "execution_count": 40
        }
      ]
    },
    {
      "cell_type": "code",
      "metadata": {
        "id": "5EnSBj62BDKI"
      },
      "source": [
        "# F3 & F2 2 sample chi_square test\n",
        "# H0: F2과 F3은 서로 관계가 없다. (독립)\n",
        "# H1: F2과 F3은 서러 관계가 있다. (종속)\n",
        "\n",
        "from scipy.stats import chi2_contingency\n",
        "import numpy as np\n",
        "\n",
        "obs = pd. crosstab(df['F3'],df['F2'])\n",
        "\n",
        "chi2_contingency(obs)\n",
        "#p_value가 0.697로 0.05보다 크므로 귀무가설을 기각할 수 없다. \n",
        "#즉, F2과 F3는 서로 관계가 없다. 독립! \n"
      ],
      "execution_count": null,
      "outputs": []
    },
    {
      "cell_type": "code",
      "metadata": {
        "id": "IpPMfVesBECO",
        "outputId": "1860b1e9-6c27-4ac1-d4a8-fbb9882652be",
        "colab": {
          "base_uri": "https://localhost:8080/"
        }
      },
      "source": [
        "# F3 & F8 2 sample chi_square test\n",
        "# H0: F8과 F3은 서로 관계가 없다. (독립)\n",
        "# H1: F8과 F3은 서러 관계가 있다. (종속)\n",
        "\n",
        "from scipy.stats import chi2_contingency\n",
        "import numpy as np\n",
        "\n",
        "obs = pd. crosstab(df['F3'],df['F8'])\n",
        "\n",
        "chi2_contingency(obs)\n",
        "#p_value가 0.541로 0.05보다 크므로 귀무가설을 기각할 수 없다. \n",
        "#즉, F8과 F3는 서로 관계가 없다. 독립! "
      ],
      "execution_count": 41,
      "outputs": [
        {
          "output_type": "execute_result",
          "data": {
            "text/plain": [
              "(5.021174328115594,\n",
              " 0.5411002323035743,\n",
              " 6,\n",
              " array([[ 9.95744681, 24.25531915, 13.78723404],\n",
              "        [ 9.54255319, 23.24468085, 13.21276596],\n",
              "        [ 9.75      , 23.75      , 13.5       ],\n",
              "        [ 9.75      , 23.75      , 13.5       ]]))"
            ]
          },
          "metadata": {
            "tags": []
          },
          "execution_count": 41
        }
      ]
    },
    {
      "cell_type": "code",
      "metadata": {
        "id": "zPuluFeNCCSH",
        "outputId": "5022a9a5-d9c2-4aff-c6c0-47596b902203",
        "colab": {
          "base_uri": "https://localhost:8080/"
        }
      },
      "source": [
        "# F3 & F9 2 sample chi_square test\n",
        "# H0: F9과 F3은 서로 관계가 없다. (독립)\n",
        "# H1: F9과 F3은 서러 관계가 있다. (종속)\n",
        "\n",
        "from scipy.stats import chi2_contingency\n",
        "import numpy as np\n",
        "\n",
        "obs = pd. crosstab(df['F3'],df['F9'])\n",
        "\n",
        "chi2_contingency(obs)\n",
        "#p_value가 0.904로 0.05보다 크므로 귀무가설을 기각할 수 없다. \n",
        "#즉, F9과 F3는 서로 관계가 없다. 독립! "
      ],
      "execution_count": 42,
      "outputs": [
        {
          "output_type": "execute_result",
          "data": {
            "text/plain": [
              "(0.5646820912389221, 0.904467812423293, 3, array([[26.04255319, 21.95744681],\n",
              "        [24.95744681, 21.04255319],\n",
              "        [25.5       , 21.5       ],\n",
              "        [25.5       , 21.5       ]]))"
            ]
          },
          "metadata": {
            "tags": []
          },
          "execution_count": 42
        }
      ]
    },
    {
      "cell_type": "code",
      "metadata": {
        "id": "sbN3VjQ8CL02",
        "outputId": "a0a620c9-bf29-41b8-f024-42f66ef281f6",
        "colab": {
          "base_uri": "https://localhost:8080/"
        }
      },
      "source": [
        "#F3 & F4 ANOVA test f_oneway\n",
        "#H0: 기수별로(A,B,C,D) F4값의 평균의 차이가 없다.\n",
        "#H1: 기수별로(A,B,C,D) F4값의 평균의 차이가 없는 것은 아니다. \n",
        "\n",
        "F4_A = df[df['F3']=='A'][['F4']]\n",
        "F4_B = df[df['F3']=='B'][['F4']]\n",
        "F4_C = df[df['F3']=='C'][['F4']]\n",
        "F4_D = df[df['F3']=='D'][['F4']]\n",
        "\n",
        "from scipy.stats import f_oneway\n",
        "f_oneway(F4_A,F4_B,F4_C,F4_D)\n",
        "\n",
        "# p_value가 0.05보다 작으므로 귀무가설을 기각한다. 즉 F4의 평균이 같다고 할 수 없다."
      ],
      "execution_count": 44,
      "outputs": [
        {
          "output_type": "execute_result",
          "data": {
            "text/plain": [
              "F_onewayResult(statistic=array([23.41731437]), pvalue=array([6.94588824e-13]))"
            ]
          },
          "metadata": {
            "tags": []
          },
          "execution_count": 44
        }
      ]
    },
    {
      "cell_type": "code",
      "metadata": {
        "id": "Y49VG8aNCzQj",
        "outputId": "6d868224-3272-4581-ffdd-f297805e4ca6",
        "colab": {
          "base_uri": "https://localhost:8080/"
        }
      },
      "source": [
        "#F3 & F5 ANOVA test f_oneway\n",
        "#H0: 기수별로(A,B,C,D) F5값의 평균의 차이가 없다.\n",
        "#H1: 기수별로(A,B,C,D) F5값의 평균의 차이가 없는 것은 아니다. \n",
        "\n",
        "F5_A = df[df['F3']=='A'][['F5']]\n",
        "F5_B = df[df['F3']=='B'][['F5']]\n",
        "F5_C = df[df['F3']=='C'][['F5']]\n",
        "F5_D = df[df['F3']=='D'][['F5']]\n",
        "\n",
        "from scipy.stats import f_oneway\n",
        "f_oneway(F5_A,F5_B,F5_C,F5_D)\n",
        "\n",
        "# p_value가 0.05보다 크므로 귀무가설을 기각할 수 없다. 즉 F5의 평균이 차이가 거의 없다고 할 수 있다."
      ],
      "execution_count": 45,
      "outputs": [
        {
          "output_type": "execute_result",
          "data": {
            "text/plain": [
              "F_onewayResult(statistic=array([0.19930143]), pvalue=array([0.89676356]))"
            ]
          },
          "metadata": {
            "tags": []
          },
          "execution_count": 45
        }
      ]
    },
    {
      "cell_type": "code",
      "metadata": {
        "id": "EsoRNfbqDD25",
        "outputId": "4b5c52a2-90bb-49ab-c643-bcc54c433112",
        "colab": {
          "base_uri": "https://localhost:8080/"
        }
      },
      "source": [
        "# F3 & F7 2 sample chi_square test\n",
        "# H0: F7과 F3은 서로 관계가 없다. (독립)\n",
        "# H1: F7과 F3은 서러 관계가 있다. (종속)\n",
        "\n",
        "from scipy.stats import chi2_contingency\n",
        "import numpy as np\n",
        "\n",
        "obs = pd. crosstab(df['F3'],df['F7'])\n",
        "\n",
        "chi2_contingency(obs)\n",
        "#p_value가 0.696로 0.05보다 크므로 귀무가설을 기각할 수 없다. \n",
        "#즉, F7과 F3는 서로 관계가 없다. 독립! "
      ],
      "execution_count": 47,
      "outputs": [
        {
          "output_type": "execute_result",
          "data": {
            "text/plain": [
              "(1.4377719467233523, 0.6967051489258402, 3, array([[ 8.68085106, 39.31914894],\n",
              "        [ 8.31914894, 37.68085106],\n",
              "        [ 8.5       , 38.5       ],\n",
              "        [ 8.5       , 38.5       ]]))"
            ]
          },
          "metadata": {
            "tags": []
          },
          "execution_count": 47
        }
      ]
    },
    {
      "cell_type": "markdown",
      "metadata": {
        "id": "ZM8JckA2bgnp"
      },
      "source": [
        "## 3. 분석한 내용들을 설명하는 리포트를 작성해보세요. \n",
        "\n",
        "분석의 끝은 결국 설명입니다.\n",
        "\n",
        "통계 분석에 대한 이해도가 적은 다른 크루들이 이해 할 수 있도록 \n",
        "\n",
        "분석한 내용들을 설명하는 리포트를 작성해보세요. \n",
        "\n",
        "필요한 경우 코드 / 텍스트 내용을 더 추가해도 좋습니다."
      ]
    },
    {
      "cell_type": "markdown",
      "metadata": {
        "id": "SM9YZza2cJV3"
      },
      "source": [
        "### Description\n",
        "\n",
        "F3를 기준으로 나머지 feature와의 관계를 chi_square test와 ANOVA test로 파악해보았습니다. \n",
        "\n",
        "- chi_square test (F1,F2,F6,F7,F8,F9)\n",
        "카이제곱테스트를 시행한 결과 F3와 해당 feature와는 모두 독립의 관계임을 밝힐 수 있었다. \n",
        "\n",
        "- ANOVA test (F4, F5)\n",
        "아노바테스트를 시행한 결과 F4는 p_value가 0.05보다 작은 수치가 나와 귀무가설을 기각하였고 F4의 평균과 같다고 할 수 없다라는 결론을 도출할 수 있었다. 반면에 F5는 0.05보다 큰 수치가 나왔기 때문에 귀무가설을 기각할 수 없었다."
      ]
    },
    {
      "cell_type": "markdown",
      "metadata": {
        "id": "XOequK5xpVz7"
      },
      "source": [
        "## SC 3점 요구사항:\n",
        "\n",
        "위에서 요구된 사항들을 모두 정확하게 만족하고, 시간이 남았다면 아래 내용을 충족하는 경우 3점을 얻을 수 있습니다. \n",
        "\n",
        "아래 요구사항들 중 하나의 요구사항만 충족하면 되며, 모두 **optional** 임을 다시 한 번 강조합니다. (필수 요구사항이 아닙니다.)\n",
        "\n",
        "- Numerical 데이터에 대해서 normalize를 한 다음, 위에서 진행 했었던 분석을 다시 시행해보세요. (F4, F5, F7 vs F3)\n",
        "\n",
        "- Categorical 데이터를 one-hot encoding을 통해서 numerical 로 변환 후, 위에서 진행 했었던 분석을 다시 시행해보세요. (F1, F2, F6, F8, F9 vs F3)"
      ]
    },
    {
      "cell_type": "code",
      "metadata": {
        "id": "NT37grnxqa05",
        "colab": {
          "base_uri": "https://localhost:8080/"
        },
        "outputId": "86eadb5e-cceb-4145-a6e9-0eab95acb8a2"
      },
      "source": [
        "#Numerical 데이터에 대해서 normalize하라는 것이 numeric->category하라는 것으로 생각됩니다. 이러한 과정은 이미 위에서 진행되었기에 생략하였습니다.\n",
        "\n",
        "#categorical -> numerical using one_hot_encoding \n",
        "new_result = []\n",
        "\n",
        "for feature in ['F1','F2','F6','F8','F9']:\n",
        "   new_df = pd.get_dummies(data = df[feature], columns = [feature], prefix = feature)\n",
        "   for new_feature in new_df.columns:\n",
        "     obs = pd.crosstab(df['F3'],new_df[new_feature])\n",
        "     new_result.append((new_feature,chi2_contingency(obs, correction = False)[1],chi2_contingency(obs, correction = False)[2]))\n",
        "\n",
        "new_result"
      ],
      "execution_count": null,
      "outputs": [
        {
          "output_type": "execute_result",
          "data": {
            "text/plain": [
              "[('F1_D', 0.545872281592922, 3),\n",
              " ('F1_N', 0.545872281592922, 3),\n",
              " ('F2_N', 0.4654547449849822, 3),\n",
              " ('F2_Y', 0.3502796549106317, 3),\n",
              " ('F6_C', 0.3193693920911738, 3),\n",
              " ('F6_D', 0.8910742882211841, 3),\n",
              " ('F6_E', 0.8359563426104062, 3),\n",
              " ('F6_F', 0.06086603526800449, 3),\n",
              " ('F6_G', 0.7301292180920782, 3),\n",
              " ('F6_H', 0.50437053784125, 3),\n",
              " ('F8_X', 0.19831409775857844, 3),\n",
              " ('F8_Y', 0.8515755888890483, 3),\n",
              " ('F8_Z', 0.6631031348015854, 3),\n",
              " ('F9_N', 0.8792640844352739, 3),\n",
              " ('F9_Y', 0.8792640844352739, 3)]"
            ]
          },
          "metadata": {
            "tags": []
          },
          "execution_count": 195
        }
      ]
    }
  ]
}