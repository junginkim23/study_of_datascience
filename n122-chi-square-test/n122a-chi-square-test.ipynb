{
  "nbformat": 4,
  "nbformat_minor": 0,
  "metadata": {
    "colab": {
      "name": "n122-chi-square-test.ipynb",
      "provenance": []
    },
    "kernelspec": {
      "display_name": "Python 3",
      "language": "python",
      "name": "python3"
    },
    "language_info": {
      "codemirror_mode": {
        "name": "ipython",
        "version": 3
      },
      "file_extension": ".py",
      "mimetype": "text/x-python",
      "name": "python",
      "nbconvert_exporter": "python",
      "pygments_lexer": "ipython3",
      "version": "3.8.2"
    }
  },
  "cells": [
    {
      "cell_type": "markdown",
      "metadata": {
        "id": "rQf3dSuc5PqO"
      },
      "source": [
        "<img src='https://i.imgur.com/RDAD11M.png' width = '200' align = 'right'>\n",
        "\n",
        "## *DATA SCIENCE / SECTION 1 / SPRINT 2 / NOTE 2*\n",
        "\n",
        "# 📝 Assignment"
      ]
    },
    {
      "cell_type": "markdown",
      "metadata": {
        "id": "BzC7rIBrSnI0"
      },
      "source": [
        "# 카이제곱검정"
      ]
    },
    {
      "cell_type": "markdown",
      "metadata": {
        "id": "11OzdxWTM7UR"
      },
      "source": [
        "\n",
        "## 1. 공공데이터 조작 연습. \n",
        "\n",
        "국가 통계 포털에서 아래 이미지를 참조하여\n",
        "\n",
        "<https://kosis.kr/statisticsList/statisticsListIndex.do?menuId=M_01_01&vwcd=MT_ZTITLE&parmTabId=M_01_01#SelectStatsBoxDiv>\n",
        "\n",
        "**2020년 8월**에 해당하는 규모별 미분양현황 에 대한 데이터셋을 생성하세요. \n",
        "\n",
        "<img src='https://i.imgur.com/aZc4UJO.png' width = 500>\n",
        "\n",
        "- `60m이하`, `60~85m`, `85m초과`의 3개 규모와 (column)\n",
        "- `서울`, `대전`, `대구`, `부산` 4개의 지역을 포함해야합니다. (row)\n",
        "- 데이터가 없는 경우는 0으로 처리하세요.\n",
        "\n",
        "이후 데이터셋을 colab으로 불러오세요. 이때 변수의 이름은 `df`를 사용합니다.\n"
      ]
    },
    {
      "cell_type": "code",
      "metadata": {
        "id": "IhWdLFndyVAB",
        "colab": {
          "base_uri": "https://localhost:8080/",
          "height": 196
        },
        "outputId": "55f81b44-2ac5-47a1-9ed1-94e6804399b2"
      },
      "source": [
        "import pandas as pd\n",
        "\n",
        "url = '/content/drive/MyDrive/규모별_미분양현황_20210514153511.csv'\n",
        "col = ['~60m2', '60~85m2', '85m2~']\n",
        "row = ['서울', '부산', '대구', '대전']\n",
        "df = pd.read_csv(url,encoding='cp949')\n",
        "df"
      ],
      "execution_count": 3,
      "outputs": [
        {
          "output_type": "execute_result",
          "data": {
            "text/html": [
              "<div>\n",
              "<style scoped>\n",
              "    .dataframe tbody tr th:only-of-type {\n",
              "        vertical-align: middle;\n",
              "    }\n",
              "\n",
              "    .dataframe tbody tr th {\n",
              "        vertical-align: top;\n",
              "    }\n",
              "\n",
              "    .dataframe thead th {\n",
              "        text-align: right;\n",
              "    }\n",
              "</style>\n",
              "<table border=\"1\" class=\"dataframe\">\n",
              "  <thead>\n",
              "    <tr style=\"text-align: right;\">\n",
              "      <th></th>\n",
              "      <th>시도(1)</th>\n",
              "      <th>시점</th>\n",
              "      <th>공공부문</th>\n",
              "      <th>공공부문.1</th>\n",
              "      <th>민간부문</th>\n",
              "      <th>민간부문.1</th>\n",
              "      <th>민간부문.2</th>\n",
              "    </tr>\n",
              "  </thead>\n",
              "  <tbody>\n",
              "    <tr>\n",
              "      <th>0</th>\n",
              "      <td>시도(1)</td>\n",
              "      <td>시점</td>\n",
              "      <td>60㎡이하</td>\n",
              "      <td>60∼85㎡</td>\n",
              "      <td>60㎡이하</td>\n",
              "      <td>60∼85㎡</td>\n",
              "      <td>85㎡초과</td>\n",
              "    </tr>\n",
              "    <tr>\n",
              "      <th>1</th>\n",
              "      <td>서울</td>\n",
              "      <td>2020. 08</td>\n",
              "      <td>0</td>\n",
              "      <td>0</td>\n",
              "      <td>54</td>\n",
              "      <td>2</td>\n",
              "      <td>0</td>\n",
              "    </tr>\n",
              "    <tr>\n",
              "      <th>2</th>\n",
              "      <td>부산</td>\n",
              "      <td>2020. 08</td>\n",
              "      <td>0</td>\n",
              "      <td>0</td>\n",
              "      <td>577</td>\n",
              "      <td>735</td>\n",
              "      <td>142</td>\n",
              "    </tr>\n",
              "    <tr>\n",
              "      <th>3</th>\n",
              "      <td>대구</td>\n",
              "      <td>2020. 08</td>\n",
              "      <td>0</td>\n",
              "      <td>0</td>\n",
              "      <td>143</td>\n",
              "      <td>1437</td>\n",
              "      <td>44</td>\n",
              "    </tr>\n",
              "    <tr>\n",
              "      <th>4</th>\n",
              "      <td>대전</td>\n",
              "      <td>2020. 08</td>\n",
              "      <td>0</td>\n",
              "      <td>0</td>\n",
              "      <td>782</td>\n",
              "      <td>1</td>\n",
              "      <td>0</td>\n",
              "    </tr>\n",
              "  </tbody>\n",
              "</table>\n",
              "</div>"
            ],
            "text/plain": [
              "   시도(1)        시점   공공부문  공공부문.1   민간부문  민간부문.1 민간부문.2\n",
              "0  시도(1)        시점  60㎡이하  60∼85㎡  60㎡이하  60∼85㎡  85㎡초과\n",
              "1     서울  2020. 08      0       0     54       2      0\n",
              "2     부산  2020. 08      0       0    577     735    142\n",
              "3     대구  2020. 08      0       0    143    1437     44\n",
              "4     대전  2020. 08      0       0    782       1      0"
            ]
          },
          "metadata": {
            "tags": []
          },
          "execution_count": 3
        }
      ]
    },
    {
      "cell_type": "code",
      "metadata": {
        "id": "Q-LT-zx6YJEb",
        "colab": {
          "base_uri": "https://localhost:8080/",
          "height": 196
        },
        "outputId": "7b3640a9-eaea-4ce0-d583-a87dcc579afd"
      },
      "source": [
        "df = pd.read_csv(url,encoding='cp949',skiprows=(1),index_col='시도(1)').iloc[:,3:] #skiprows의 사용법에 대해서 알아보자! usecols도 같이 알아보자!\n",
        "#index_col parameter 사용하면, 해당 컬럼이 index로 간다.\n",
        "df.columns = col\n",
        "df"
      ],
      "execution_count": 4,
      "outputs": [
        {
          "output_type": "execute_result",
          "data": {
            "text/html": [
              "<div>\n",
              "<style scoped>\n",
              "    .dataframe tbody tr th:only-of-type {\n",
              "        vertical-align: middle;\n",
              "    }\n",
              "\n",
              "    .dataframe tbody tr th {\n",
              "        vertical-align: top;\n",
              "    }\n",
              "\n",
              "    .dataframe thead th {\n",
              "        text-align: right;\n",
              "    }\n",
              "</style>\n",
              "<table border=\"1\" class=\"dataframe\">\n",
              "  <thead>\n",
              "    <tr style=\"text-align: right;\">\n",
              "      <th></th>\n",
              "      <th>~60m2</th>\n",
              "      <th>60~85m2</th>\n",
              "      <th>85m2~</th>\n",
              "    </tr>\n",
              "    <tr>\n",
              "      <th>시도(1)</th>\n",
              "      <th></th>\n",
              "      <th></th>\n",
              "      <th></th>\n",
              "    </tr>\n",
              "  </thead>\n",
              "  <tbody>\n",
              "    <tr>\n",
              "      <th>서울</th>\n",
              "      <td>54</td>\n",
              "      <td>2</td>\n",
              "      <td>0</td>\n",
              "    </tr>\n",
              "    <tr>\n",
              "      <th>부산</th>\n",
              "      <td>577</td>\n",
              "      <td>735</td>\n",
              "      <td>142</td>\n",
              "    </tr>\n",
              "    <tr>\n",
              "      <th>대구</th>\n",
              "      <td>143</td>\n",
              "      <td>1437</td>\n",
              "      <td>44</td>\n",
              "    </tr>\n",
              "    <tr>\n",
              "      <th>대전</th>\n",
              "      <td>782</td>\n",
              "      <td>1</td>\n",
              "      <td>0</td>\n",
              "    </tr>\n",
              "  </tbody>\n",
              "</table>\n",
              "</div>"
            ],
            "text/plain": [
              "       ~60m2  60~85m2  85m2~\n",
              "시도(1)                       \n",
              "서울        54        2      0\n",
              "부산       577      735    142\n",
              "대구       143     1437     44\n",
              "대전       782        1      0"
            ]
          },
          "metadata": {
            "tags": []
          },
          "execution_count": 4
        }
      ]
    },
    {
      "cell_type": "markdown",
      "metadata": {
        "id": "RXPZZuAi3ccI"
      },
      "source": [
        "## 2. 지역에 대해서 one-sample chi-square test를 실행, 해당 결과를 `chi1`에 저장 후 설명해보세요.\n",
        "\n",
        "예시) 만약 **9월달 데이터**를 기준으로 한다면\n",
        "```python\n",
        " [0+0+0+52+2+0, 0+0+0+590+665+142, 0+0+0+113+1061+42, 0+0+0+772+1+0]\n",
        "```\n",
        "을 비교 하게 될 것입니다.\n",
        "\n",
        "\n"
      ]
    },
    {
      "cell_type": "code",
      "metadata": {
        "id": "oIMzAkXks-Sv",
        "colab": {
          "base_uri": "https://localhost:8080/"
        },
        "outputId": "c66f440b-2703-407f-8409-f81ffc11a40a"
      },
      "source": [
        "from scipy.stats import chisquare \n",
        "\n",
        "# data_sum = [df.loc['서울'].sum(),df.loc['부산'].sum(),df.loc['대구'].sum(),df.loc['대전'].sum()] #data_sum = df.sum(axis=1)\n",
        "data_sum = df.sum(axis=1)\n",
        "print(data_sum)\n",
        "\n",
        "chi1 = chisquare(data_sum,axis = None)\n",
        "chi1"
      ],
      "execution_count": 5,
      "outputs": [
        {
          "output_type": "stream",
          "text": [
            "시도(1)\n",
            "서울      56\n",
            "부산    1454\n",
            "대구    1624\n",
            "대전     783\n",
            "dtype: int64\n"
          ],
          "name": "stdout"
        },
        {
          "output_type": "execute_result",
          "data": {
            "text/plain": [
              "Power_divergenceResult(statistic=1564.4572376818994, pvalue=0.0)"
            ]
          },
          "metadata": {
            "tags": []
          },
          "execution_count": 5
        }
      ]
    },
    {
      "cell_type": "markdown",
      "metadata": {
        "id": "L8yidk9c9klW"
      },
      "source": [
        "```\n",
        "- 결론\n",
        "  - 귀무가설: 지역별 미분양 주택수의 합은 같다. (고르게 분포)\n",
        "  - 대립가설: 지역별 미분양 주택수의 합이 같지 않다. (고르게 분포 x)\n",
        "  - 알파 : 0.05\n",
        "  - pvalue = 0.0\n",
        "  - 따라서 귀무가설 기각, 대립가설 채택\n",
        "```"
      ]
    },
    {
      "cell_type": "markdown",
      "metadata": {
        "id": "eMDtugVNRu0q"
      },
      "source": [
        "## 3. 지역과 규모에 대해서 two-sample chi-square test를 실행, 해당 결과를 `chi2`에 저장 후 설명해보세요.\n",
        "\n",
        "예시) **9월달 데이터**를 기준으로 한다면\n",
        "\n",
        "| |-60 | 60-85 | 85- |\n",
        "|:-:|:-:|:-:|:-:|\n",
        "|서울|52|2|0|\n",
        "|대전|772|1|0|\n",
        "|대구|113|1061|42|\n",
        "|부산|590|665|142|\n",
        "\n",
        "에 대해서 검정해야 할 겁니다.\n",
        "\n",
        "\n"
      ]
    },
    {
      "cell_type": "code",
      "metadata": {
        "id": "Ckcr4A4FM7cs",
        "colab": {
          "base_uri": "https://localhost:8080/"
        },
        "outputId": "36c28b6b-3db6-4e80-9812-9f449f636e6f"
      },
      "source": [
        "from scipy.stats import chi2_contingency\n",
        "\n",
        "chi2 = chi2_contingency(df) #df -> 이미 crosstab이 되어있네.\n",
        "chi2"
      ],
      "execution_count": 6,
      "outputs": [
        {
          "output_type": "execute_result",
          "data": {
            "text/plain": [
              "(2064.576731417199, 0.0, 6, array([[ 22.24559612,  31.09522594,   2.65917794],\n",
              "        [577.59101353, 807.36533061,  69.04365586],\n",
              "        [645.12228746, 901.76155221,  77.11616033],\n",
              "        [311.04110288, 434.77789124,  37.18100587]]))"
            ]
          },
          "metadata": {
            "tags": []
          },
          "execution_count": 6
        }
      ]
    },
    {
      "cell_type": "markdown",
      "metadata": {
        "id": "ekMxbwnoDsks"
      },
      "source": [
        "```\n",
        "- 결론\n",
        "  - 귀무가설: 지역과 규모에 따른 미분양 수는 서로 독립적이다./관계가 없을 것이다.\n",
        "  - 대립가설: 지역과 규모에 따른 미분양 수는 서로 관계가 있다./영향을 끼친다./독립적이지 않다./ 비독립적이다.\n",
        "  - 알파: 0.05\n",
        "  - pvalue: 0.0\n",
        "  - 따라서 귀무가설 기각, 대립가설 채택\n",
        "```"
      ]
    },
    {
      "cell_type": "markdown",
      "metadata": {
        "id": "Tf7XPpBP6YqX"
      },
      "source": [
        "### 4. 2번에 대해서 NumPy 를 사용하여 (Scipy를 사용하지 않고) $\\chi^2$ test 시행 후 2번의 결과와 비교해보세요. \n",
        "\n",
        "- `obs`, `exp`, `chi`라는 변수를 사용해야합니다.\n",
        "\n",
        "이 후 `chi2_contingency()`의 결과물과 비교해보세요"
      ]
    },
    {
      "cell_type": "markdown",
      "metadata": {
        "id": "8wILhZhZgx_w"
      },
      "source": [
        "$\\chi^2 = \\sum\\frac{(obs-exp)^2}{exp}$ "
      ]
    },
    {
      "cell_type": "code",
      "metadata": {
        "id": "OjFt0b1-wrFL",
        "colab": {
          "base_uri": "https://localhost:8080/"
        },
        "outputId": "7093ada0-e374-4718-fdc1-72961af321bd"
      },
      "source": [
        "import numpy as np\n",
        "import pandas as pd\n",
        "from scipy import stats\n",
        "\n",
        "## 넘파이를 통한 구현\n",
        "chi = 0\n",
        "obs = np.array(df)\n",
        "exp = obs.sum()/4\n",
        "for i in obs:\n",
        "    chi += (np.power(i.sum()-exp,2)/exp)\n",
        "print('Chi_Square:{0}, Pvalue:{1}'.format(chi,stats.chi2.pdf(chi,1)))"
      ],
      "execution_count": 7,
      "outputs": [
        {
          "output_type": "stream",
          "text": [
            "Chi_Square:1564.4572376818994, Pvalue:0.0\n"
          ],
          "name": "stdout"
        }
      ]
    },
    {
      "cell_type": "code",
      "metadata": {
        "id": "DcFvFIePfmWc",
        "colab": {
          "base_uri": "https://localhost:8080/"
        },
        "outputId": "756bb999-467b-4932-cf66-36d965159895"
      },
      "source": [
        "#또 다른 방법\n",
        "obs = data_sum.to_numpy()#dataframe을 array의 형태로 바꿔주는 메소드 to_numpy()\n",
        "exp = obs.mean()\n",
        "squared = np.power(obs-exp,2)\n",
        "print(squared)\n",
        "chi = np.sum(squared/exp)\n",
        "\n",
        "print('Chi_Square:{0}, Pvalue:{1}'.format(chi,stats.chi2.pdf(chi,1)))"
      ],
      "execution_count": 8,
      "outputs": [
        {
          "output_type": "stream",
          "text": [
            "[852390.5625 225387.5625 415702.5625  38514.0625]\n",
            "Chi_Square:1564.4572376818994, Pvalue:0.0\n"
          ],
          "name": "stdout"
        }
      ]
    },
    {
      "cell_type": "markdown",
      "metadata": {
        "id": "a2BrKHq8m8AS"
      },
      "source": [
        "## 🔥 도전 과제\n",
        "\n",
        "아래 세가지를 다하면 됩니다.\n",
        "\n",
        "### 1. Function\n",
        "\n",
        "4번에서 사용한 one sample chisquare test를 함수의 형태로 변경하세요."
      ]
    },
    {
      "cell_type": "code",
      "metadata": {
        "id": "AntnuAkFm-JQ",
        "colab": {
          "base_uri": "https://localhost:8080/"
        },
        "outputId": "7a73c710-a807-4533-e069-90bb8b2c05b1"
      },
      "source": [
        "v1 = [18,22,20,15,23,22]\n",
        "v2 = [5,23,26,19,24,23]\n",
        "import numpy as np\n",
        "\n",
        "def myChisq(value):\n",
        "    size_n = np.sum(value)\n",
        "    mean_v = [size_n/len(value) for _ in range(len(value))]\n",
        "    value = np.array(value)\n",
        "    mean_v = np.array(mean_v)\n",
        "    chi_s = np.sum(((value-mean_v)**2)/mean_v)\n",
        "    return chi_s.sum()\n",
        "\n",
        " \n",
        "print('Chi_Square_v1:{0}, Pvalue_v1:{1}'.format(myChisq(v1),stats.chi2.pdf(myChisq(v1),1)))\n",
        "print('Chi_Square_v2:{0}, Pvalue_v2:{1}'.format(myChisq(v2),stats.chi2.pdf(myChisq(v2),1)))"
      ],
      "execution_count": 9,
      "outputs": [
        {
          "output_type": "stream",
          "text": [
            "Chi_Square_v1:2.3000000000000003, Pvalue_v1:0.0832928061175755\n",
            "Chi_Square_v2:14.8, Pvalue_v2:6.33869772615072e-05\n"
          ],
          "name": "stdout"
        }
      ]
    },
    {
      "cell_type": "markdown",
      "metadata": {
        "id": "4ohsJhQUmEuS"
      },
      "source": [
        "### 2. ANOVA\n",
        "\n",
        "아래 링크를 참조하여 ANOVA 에 대한 글을 읽고\n",
        "\n",
        "<https://partrita.github.io/posts/ANOVA-python/>\n",
        "\n",
        "다음 `4개 그룹에 대해서 평균의 차이가 있는지`에 대한 가설 검정을 시행하세요.\n",
        "\n",
        "A : `38 33 35 92 76 97 88 41 11  9`\n",
        "\n",
        "B : `18 52 62 48 30 40 87 12 97 82`\n",
        "\n",
        "C :  `28 90  5 49 66 73 96 80  4 17`\n",
        "\n",
        "D : ` 8 99  4 12  7 64 18 10  9 20`\n",
        "\n"
      ]
    },
    {
      "cell_type": "code",
      "metadata": {
        "id": "DMebi5_4UaSn"
      },
      "source": [
        ""
      ],
      "execution_count": 9,
      "outputs": []
    },
    {
      "cell_type": "markdown",
      "metadata": {
        "id": "cWmSdvBy8w4B"
      },
      "source": [
        "## 3. Sign Test\n",
        "\n",
        "아래 링크를 참조하여 Sign Test에 대한 글을 읽고\n",
        "\n",
        "<https://en.wikipedia.org/wiki/Sign_test>\n",
        "\n",
        "다음 데이터에서 두 그룹간에 차이가 있다에 대한 Sign Test의 과정과 결과를 설명하세요\n",
        "\n",
        "|A|B|\n",
        "|:-:|:-:|\n",
        "|142|138|\n",
        "|140|136|\n",
        "|144|147|\t\n",
        "|144|139|\t\n",
        "|142|143|\t\n",
        "|146|141|\t\n",
        "|149|143|\t\n",
        "|150|145|\t\n",
        "|142|136|\t\n",
        "|148|146|\t\n",
        "\n"
      ]
    },
    {
      "cell_type": "code",
      "metadata": {
        "id": "PJcI-oha9Sl9"
      },
      "source": [
        ""
      ],
      "execution_count": 9,
      "outputs": []
    },
    {
      "cell_type": "code",
      "metadata": {
        "id": "eEs2mQJdWm44",
        "colab": {
          "base_uri": "https://localhost:8080/"
        },
        "outputId": "cf752fcb-f66a-4626-dbe9-47ff4d6858f3"
      },
      "source": [
        "from google.colab import drive\n",
        "drive.mount('/content/drive')"
      ],
      "execution_count": 10,
      "outputs": [
        {
          "output_type": "stream",
          "text": [
            "Drive already mounted at /content/drive; to attempt to forcibly remount, call drive.mount(\"/content/drive\", force_remount=True).\n"
          ],
          "name": "stdout"
        }
      ]
    }
  ]
}