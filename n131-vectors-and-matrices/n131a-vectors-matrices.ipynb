{
  "nbformat": 4,
  "nbformat_minor": 0,
  "metadata": {
    "colab": {
      "name": "n131a-vectors-matrices.ipynb",
      "provenance": []
    },
    "kernelspec": {
      "display_name": "Python 3",
      "language": "python",
      "name": "python3"
    },
    "language_info": {
      "codemirror_mode": {
        "name": "ipython",
        "version": 3
      },
      "file_extension": ".py",
      "mimetype": "text/x-python",
      "name": "python",
      "nbconvert_exporter": "python",
      "pygments_lexer": "ipython3",
      "version": "3.8.2"
    }
  },
  "cells": [
    {
      "cell_type": "markdown",
      "metadata": {
        "id": "Y7hxe5O-9ukJ"
      },
      "source": [
        "<img src='https://i.imgur.com/RDAD11M.png' width = '200' align = 'right'>\n",
        "\n",
        "## *DATA SCIENCE / SECTION 1 / SPRINT 3 / NOTE 1*\n",
        "\n",
        "# 📝 Assignment"
      ]
    },
    {
      "cell_type": "markdown",
      "metadata": {
        "id": "yXA3GwWhY9KL"
      },
      "source": [
        "## 1. Portfolio\n",
        "\n",
        "`Dot product` & `Matrix Multiplication` 을 이용하여 다음 포트폴리오의 사람별 총합을 계산하세요.\n",
        "- 결과는 `res`에 list형태로 저장합니다.\n",
        "\n",
        "|People|Name|Price|Amount|\n",
        "|:-:|:-:|:-:|:-:|\n",
        "|X|A|100|35|\n",
        "|X|B|500|10|\n",
        "|X|C|250|25|\n",
        "|X|D|50|40|\n",
        "|Y|A|100|-|\n",
        "|Y|B|500|50|\n",
        "|Y|C|250|50|\n",
        "|Y|D|50|-|\n",
        "|Z|A|100|-|\n",
        "|Z|B|500|-|\n",
        "|Z|C|250|100|\n",
        "|Z|D|50|-|\n",
        "\n"
      ]
    },
    {
      "cell_type": "code",
      "metadata": {
        "id": "ErSR5soVblfv",
        "outputId": "697bfee6-3c62-4f19-9290-f2be194dc375",
        "colab": {
          "base_uri": "https://localhost:8080/",
          "height": 435
        }
      },
      "source": [
        "import pandas as pd\n",
        "\n",
        "#dataframe 생성\n",
        "df = pd.DataFrame({'People':['X','X','X','X','Y','Y','Y','Y','Z','Z','Z','Z']\n",
        "                   ,'Name':['A','B','C','D','A','B','C','D','A','B','C','D']\n",
        "                   ,'Price':[100,500,250,50,100,500,250,50,100,500,250,50]\n",
        "                   ,'Amount':[35,10,25,40,'-',50,50,'-','-','-',100,'-']})\n",
        "\n",
        "#Amount 컬럼 내에 - -> 0으로 변환\n",
        "df['Amount'] = df['Amount'].replace('-',0)\n",
        "\n",
        "#index -> People \n",
        "index = df['People']\n",
        "df = df.iloc[:,1:]\n",
        "df.index = index\n",
        "\n",
        "df"
      ],
      "execution_count": 1,
      "outputs": [
        {
          "output_type": "execute_result",
          "data": {
            "text/html": [
              "<div>\n",
              "<style scoped>\n",
              "    .dataframe tbody tr th:only-of-type {\n",
              "        vertical-align: middle;\n",
              "    }\n",
              "\n",
              "    .dataframe tbody tr th {\n",
              "        vertical-align: top;\n",
              "    }\n",
              "\n",
              "    .dataframe thead th {\n",
              "        text-align: right;\n",
              "    }\n",
              "</style>\n",
              "<table border=\"1\" class=\"dataframe\">\n",
              "  <thead>\n",
              "    <tr style=\"text-align: right;\">\n",
              "      <th></th>\n",
              "      <th>Name</th>\n",
              "      <th>Price</th>\n",
              "      <th>Amount</th>\n",
              "    </tr>\n",
              "    <tr>\n",
              "      <th>People</th>\n",
              "      <th></th>\n",
              "      <th></th>\n",
              "      <th></th>\n",
              "    </tr>\n",
              "  </thead>\n",
              "  <tbody>\n",
              "    <tr>\n",
              "      <th>X</th>\n",
              "      <td>A</td>\n",
              "      <td>100</td>\n",
              "      <td>35</td>\n",
              "    </tr>\n",
              "    <tr>\n",
              "      <th>X</th>\n",
              "      <td>B</td>\n",
              "      <td>500</td>\n",
              "      <td>10</td>\n",
              "    </tr>\n",
              "    <tr>\n",
              "      <th>X</th>\n",
              "      <td>C</td>\n",
              "      <td>250</td>\n",
              "      <td>25</td>\n",
              "    </tr>\n",
              "    <tr>\n",
              "      <th>X</th>\n",
              "      <td>D</td>\n",
              "      <td>50</td>\n",
              "      <td>40</td>\n",
              "    </tr>\n",
              "    <tr>\n",
              "      <th>Y</th>\n",
              "      <td>A</td>\n",
              "      <td>100</td>\n",
              "      <td>0</td>\n",
              "    </tr>\n",
              "    <tr>\n",
              "      <th>Y</th>\n",
              "      <td>B</td>\n",
              "      <td>500</td>\n",
              "      <td>50</td>\n",
              "    </tr>\n",
              "    <tr>\n",
              "      <th>Y</th>\n",
              "      <td>C</td>\n",
              "      <td>250</td>\n",
              "      <td>50</td>\n",
              "    </tr>\n",
              "    <tr>\n",
              "      <th>Y</th>\n",
              "      <td>D</td>\n",
              "      <td>50</td>\n",
              "      <td>0</td>\n",
              "    </tr>\n",
              "    <tr>\n",
              "      <th>Z</th>\n",
              "      <td>A</td>\n",
              "      <td>100</td>\n",
              "      <td>0</td>\n",
              "    </tr>\n",
              "    <tr>\n",
              "      <th>Z</th>\n",
              "      <td>B</td>\n",
              "      <td>500</td>\n",
              "      <td>0</td>\n",
              "    </tr>\n",
              "    <tr>\n",
              "      <th>Z</th>\n",
              "      <td>C</td>\n",
              "      <td>250</td>\n",
              "      <td>100</td>\n",
              "    </tr>\n",
              "    <tr>\n",
              "      <th>Z</th>\n",
              "      <td>D</td>\n",
              "      <td>50</td>\n",
              "      <td>0</td>\n",
              "    </tr>\n",
              "  </tbody>\n",
              "</table>\n",
              "</div>"
            ],
            "text/plain": [
              "       Name  Price  Amount\n",
              "People                    \n",
              "X         A    100      35\n",
              "X         B    500      10\n",
              "X         C    250      25\n",
              "X         D     50      40\n",
              "Y         A    100       0\n",
              "Y         B    500      50\n",
              "Y         C    250      50\n",
              "Y         D     50       0\n",
              "Z         A    100       0\n",
              "Z         B    500       0\n",
              "Z         C    250     100\n",
              "Z         D     50       0"
            ]
          },
          "metadata": {
            "tags": []
          },
          "execution_count": 1
        }
      ]
    },
    {
      "cell_type": "code",
      "metadata": {
        "id": "fbeQlOHzScbN",
        "outputId": "5177fff3-a2c1-4422-af70-e7d218550050",
        "colab": {
          "base_uri": "https://localhost:8080/"
        }
      },
      "source": [
        "import numpy as np\n",
        "res = []\n",
        "\n",
        "#X,Y,Z의 포트폴리오 총 합 (Dot Product & Matrix Multiplication)\n",
        "for people in df.index.unique():\n",
        "  #각 X,Y,Z의 포트폴리오 총 합을 위한 새로운 변수 df_p 선언\n",
        "  df_p = np.array(df.loc[people,'Price':'Amount']).transpose()\n",
        "  \n",
        "  #Dot Product\n",
        "  res.append(np.dot(df_p[0],df_p[1]))\n",
        "\n",
        "  #Matrix Multiplication\n",
        "  # res.append(np.sum(df_p[0]*df_p[1]))\n",
        "\n",
        "res"
      ],
      "execution_count": 2,
      "outputs": [
        {
          "output_type": "execute_result",
          "data": {
            "text/plain": [
              "[16750, 37500, 25000]"
            ]
          },
          "metadata": {
            "tags": []
          },
          "execution_count": 2
        }
      ]
    },
    {
      "cell_type": "markdown",
      "metadata": {
        "id": "dMgAVgIuGe_B"
      },
      "source": [
        "## 2. Norms\n",
        "\n",
        "주어진 값 $x_0, x_1, ... x_n$ 를 element로 갖는 벡터 $v$에 대하여 \n",
        "\n",
        "$L_1$ Norm 의 정의는 다음과 같습니다. \n",
        "\n",
        "$|v| = |x_0| + |x_1| + ... + |x_n|$\n",
        "\n",
        "$L_2$ Norm 의 정의는 다음과 같습니다.\n",
        "\n",
        "$||v|| = \\sqrt {{x_0}^2 + {x_1}^2 + ... + {x_n}^2}$\n",
        "\n",
        "이를 참조하여 주어진 벡터에 대해서 $L_2$ Norm 의 값과 $L_1$ Norm 의 값의 차이(**절대값**)를 계산하는 함수를 만드세요.\n",
        "\n"
      ]
    },
    {
      "cell_type": "code",
      "metadata": {
        "id": "XrYfAExIGemC"
      },
      "source": [
        "def NormDif(v): # v = np.array()\n",
        "    l1_norm = np.sum(np.abs(v))\n",
        "    l2_norm = np.sqrt(np.sum(np.power(v,2)))\n",
        "    return np.abs(l2_norm - l1_norm)"
      ],
      "execution_count": 3,
      "outputs": []
    },
    {
      "cell_type": "markdown",
      "metadata": {
        "id": "VBJHWdyalU4G"
      },
      "source": [
        "## 3. Errors\n",
        "\n",
        "\n",
        "\n",
        "- 2개의 벡터와, error의 타입을 입력받아 그 결과값을 계산하는 함수를 작성하세요.\n",
        "\n",
        "- 여기서 error의 타입은 `MSE`, `MAE` 2가지 입니다.\n",
        "\n"
      ]
    },
    {
      "cell_type": "code",
      "metadata": {
        "id": "LQy8_pEUHHDC"
      },
      "source": [
        "def error(x, y, type) :\n",
        "    if type == 'MAE' and len(x)==len(y):\n",
        "      return (np.sum(np.abs(x-y)))/len(x)\n",
        "    \n",
        "    elif type == 'MSE' and len(x)==len(y): \n",
        "      return (np.sum(np.power(x-y,2)))/len(x)"
      ],
      "execution_count": 4,
      "outputs": []
    },
    {
      "cell_type": "markdown",
      "metadata": {
        "id": "l2Teph_aS16e"
      },
      "source": [
        "# 4. Inverse\n",
        "\n",
        "- 주어진 matrix에 대해서 inverse matrix를 계산하여 반환하는 함수를 작성하세요. \n",
        "- 이 때 inverse 계산이 불가능 한 경우 `-1` 을 반환합니다."
      ]
    },
    {
      "cell_type": "code",
      "metadata": {
        "id": "1hseshZkS1eX"
      },
      "source": [
        "def myInverse(m) : # m = np.array()\n",
        "    determinant = np.linalg.det(m)\n",
        "    if not(determinant):\n",
        "      return -1\n",
        "    else:\n",
        "      return np.linalg.inv(m)"
      ],
      "execution_count": 5,
      "outputs": []
    },
    {
      "cell_type": "markdown",
      "metadata": {
        "id": "V0iTO4McYjtk"
      },
      "source": [
        "# 🔥 도전과제 \n",
        "\n"
      ]
    },
    {
      "cell_type": "markdown",
      "metadata": {
        "id": "3p45qAIGFTBZ"
      },
      "source": [
        "다음 링크의 내용을 참조하여 **Cramer's rule**을 사용해 $x_1$, $x_2$, $x_3$의 값을 구하세요.\n",
        "\n",
        "<https://youtu.be/6StS7VjtuGI>\n",
        "\n",
        "\n",
        "$x_1$ + $2x_3$ = 6\n",
        "\n",
        "$-3x_1$ + $4x_2$ + $6x3$ = 30\n",
        "\n",
        "$-x_1$ $-2x_2$ + $3x_3$ = 8\n",
        "\n"
      ]
    },
    {
      "cell_type": "code",
      "metadata": {
        "id": "cO0on7MddUF4",
        "outputId": "61d28342-42e2-4852-bf0d-5b5ea3ceec84",
        "colab": {
          "base_uri": "https://localhost:8080/"
        }
      },
      "source": [
        "solution = np.array([6,30,8])\n",
        "equation = np.array([[1,0,2],[-3,4,6],[-1,-2,3]])\n",
        "det = np.linalg.det(equation)\n",
        "result = []\n",
        "\n",
        "for index in range(len(equation)+1):\n",
        "  equation = np.array([[1,0,2],[-3,4,6],[-1,-2,3]])\n",
        "  if index == 3:\n",
        "    break\n",
        "  equation_t = equation.transpose()\n",
        "  equation_t[index] = solution\n",
        "  result.append(np.linalg.det(equation_t.transpose()))\n",
        "\n",
        "result = np.array(result)\n",
        "print(np.dot(equation,result)/44)\n",
        "\n",
        "x1,x2,x3 = result/44\n",
        "x1,x2,x3"
      ],
      "execution_count": 7,
      "outputs": [
        {
          "output_type": "stream",
          "text": [
            "[ 6. 30.  8.]\n"
          ],
          "name": "stdout"
        },
        {
          "output_type": "execute_result",
          "data": {
            "text/plain": [
              "(-0.9090909090909091, 1.6363636363636365, 3.4545454545454546)"
            ]
          },
          "metadata": {
            "tags": []
          },
          "execution_count": 7
        }
      ]
    }
  ]
}