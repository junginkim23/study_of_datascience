{
  "nbformat": 4,
  "nbformat_minor": 0,
  "metadata": {
    "jupytext": {
      "main_language": "python"
    },
    "kernelspec": {
      "display_name": "Python 3",
      "language": "python",
      "name": "python3"
    },
    "language_info": {
      "codemirror_mode": {
        "name": "ipython",
        "version": 3
      },
      "file_extension": ".py",
      "mimetype": "text/x-python",
      "name": "python",
      "nbconvert_exporter": "python",
      "pygments_lexer": "ipython3",
      "version": "3.7.6"
    },
    "colab": {
      "name": "n214-logistic-regression.ipynb",
      "provenance": []
    }
  },
  "cells": [
    {
      "cell_type": "markdown",
      "metadata": {
        "id": "LCRWyx3HxDmc"
      },
      "source": [
        "<img align=\"right\" src=\"https://ds-cs-images.s3.ap-northeast-2.amazonaws.com/Codestates_Fulllogo_Color.png\" width=100>\n",
        "\n",
        "## *DATA SCIENCE / SECTION 2 / SPRINT 1 / NOTE 4*\n",
        "\n",
        "---\n",
        "\n",
        "# Logistic Regression"
      ]
    },
    {
      "cell_type": "markdown",
      "metadata": {
        "id": "3yNcSK2yxDmg"
      },
      "source": [
        "- 훈련/검증/테스트(train/validate/test) 데이터를 분리하는 이유를 명확히 이해하고 사용합니다.\n",
        "- 분류(classification) 문제와 회귀문제의 차이점을 파악하고 문제에 맞는 모델을 사용 할 수 있습니다.\n",
        "- 로지스틱회귀(Logistic regression)를 이해하고 모델을 학습할 수 있습니다."
      ]
    },
    {
      "cell_type": "markdown",
      "metadata": {
        "id": "vzf24NDVxDmg"
      },
      "source": [
        "### Warm up\n",
        "\n",
        "#### 다음 영상을 시청하세요:\n",
        "- [Machine Learning: Validation vs Testing](https://youtu.be/pGlQLMPI46g)\n",
        "    - 검증데이터의 용도와 테스트 데이터의 용도를 설명해 보세요.\n",
        "    \n",
        "- [Overfitting 4: training, validation, testing](https://youtu.be/4wGquWG-vGw)\n",
        "    - 테스트 데이터로 예측한 후 모델을 수정해 또 테스트 데이터로 예측하는 행동은 왜 피해야 할까요?\n",
        "\n",
        "- [StatQuest: Logistic Regression](https://www.youtube.com/watch?v=yIYKR4sgzI8&feature=youtu.be)\n",
        "    - 로지스틱회귀와 선형회귀분석과 차이점이 무엇인가요?\n",
        "\n",
        "#### 다음 글을 읽어 보세요:\n",
        "- [How (and why) to create a good validation set](https://www.fast.ai/2017/11/13/validation-sets/)\n",
        "    - 시계열(time series) 데이터를 훈련/검증/테스트 세트로 나눌 때 무엇을 주의해야 하나요?"
      ]
    },
    {
      "cell_type": "markdown",
      "metadata": {
        "id": "D2gQGxfnxDmh"
      },
      "source": [
        "---"
      ]
    },
    {
      "cell_type": "markdown",
      "metadata": {
        "id": "nyuHtk8ExDmh"
      },
      "source": [
        "## 데이터를 훈련/검증/테스트(train/validate/test) 세트로 나누어 봅시다."
      ]
    },
    {
      "cell_type": "markdown",
      "metadata": {
        "id": "r0psBnEUxDmh"
      },
      "source": [
        "### 타이타닉호 생존자 예측\n",
        "\n",
        "캐글(Kaggle) 에서 초기 입문자들에게 유명한 Titanic: Machine Learning from Disaster 데이터로 학습을 진행해 보겠습니다.\n",
        "- [Kaggle has used the Titanic dataset](https://www.kaggle.com/c/titanic/data)\n",
        "\n",
        "캐글은 참가자들에게 데이터셋을 보통 훈련/테스트로 나누어 제공합니다."
      ]
    },
    {
      "cell_type": "code",
      "metadata": {
        "id": "emV_XNPdxDmi"
      },
      "source": [
        "import pandas as pd\n",
        "train = pd.read_csv('https://ds-lecture-data.s3.ap-northeast-2.amazonaws.com/titanic/train.csv')\n",
        "test = pd.read_csv('https://ds-lecture-data.s3.ap-northeast-2.amazonaws.com/titanic/test.csv')"
      ],
      "execution_count": 198,
      "outputs": []
    },
    {
      "cell_type": "markdown",
      "metadata": {
        "id": "q4IvOg6RxDmj"
      },
      "source": [
        "테스트데이터는 특성의 개수가 한 개 적습니다."
      ]
    },
    {
      "cell_type": "code",
      "metadata": {
        "id": "5c4Lk0rwxDmj",
        "outputId": "46e12571-52d5-441b-ad8d-8c3f92a3e9c9",
        "colab": {
          "base_uri": "https://localhost:8080/"
        }
      },
      "source": [
        "print(\"train features: \", train.shape[1])\n",
        "print(\"test features: \", test.shape[1])"
      ],
      "execution_count": 199,
      "outputs": [
        {
          "output_type": "stream",
          "text": [
            "train features:  12\n",
            "test features:  11\n"
          ],
          "name": "stdout"
        }
      ]
    },
    {
      "cell_type": "markdown",
      "metadata": {
        "id": "jynXvABwxDmk"
      },
      "source": [
        "어떤 특성이 test 데이터에 없는 타겟인지 확인해 보겠습니다."
      ]
    },
    {
      "cell_type": "code",
      "metadata": {
        "id": "Fk52_gPPxDml",
        "outputId": "899526b5-1286-4a39-def3-06c824a1d0e1",
        "colab": {
          "base_uri": "https://localhost:8080/"
        }
      },
      "source": [
        "print(\"target col: \", train.columns.difference(test.columns)[0])"
      ],
      "execution_count": 200,
      "outputs": [
        {
          "output_type": "stream",
          "text": [
            "target col:  Survived\n"
          ],
          "name": "stdout"
        }
      ]
    },
    {
      "cell_type": "markdown",
      "metadata": {
        "id": "Lk6LgmrAxDml"
      },
      "source": [
        "캐글에서는 보통 훈련데이터와 테스트데이터를 분리하여 제공합니다. 그런데 테스트 데이터에서는 타겟정보를 제외해 놓았습니다.\n",
        "\n",
        "- 캐글은 테스트 데이터에 대한 타겟 정보도 가지고 있을 텐데 **왜 테스트 데이터의 타겟 정보를 제공하지 않을까요?**\n",
        "\n",
        "    - 가장 큰 이유는 모델의 일반화 성능을 올바르게 측정하기 위해서 입니다.\n"
      ]
    },
    {
      "cell_type": "markdown",
      "metadata": {
        "id": "0Q1LYlkQxDmm"
      },
      "source": [
        "그래서 여러분은 훈련 데이터에서의 일부분을 검증 데이터로 구분한 다음 여러분이 만든 모델의 성능을 따로 테스트 하여야 합니다."
      ]
    },
    {
      "cell_type": "markdown",
      "metadata": {
        "id": "lEkAL45XxDmm"
      },
      "source": [
        "- 그렇다면 데이터를 훈련/테스트 세트로 나누는 것에 더해 **왜 검증세트가 필요한 것일까요?**\n",
        "    - 왜냐하면 훈련세트로 모델을 한 번에 완전하게 학습시키기가 어렵기 때문입니다. 훈련세트로 다르게 튜닝된 여러 모델들을 학습한 후 어떤 모델이 학습이 잘 되었는지 검증하고 선택하는 과정이 필요합니다.\n",
        "    \n",
        "이렇게 훈련/검증세트로 좋은 모델을 만들어 낸 후 최종적으로 테스트세트에는 단 한번의 예측테스트를 진행합니다. 최종테스트 결과가 마음에 들지 않는다고 모델을 또 수정하여 테스트 세트를 더 잘 예측하는 모델을 만든다면 그 모델은 테스트세트에 과적합하여 일반화 성능이 떨어지게 될 수 있습니다.\n",
        "\n"
      ]
    },
    {
      "cell_type": "markdown",
      "metadata": {
        "id": "84uttiIpxDmm"
      },
      "source": [
        "### 훈련/검증/테스트 세트로 나누는 것은 머신러닝 모델 학습에서 매우 중요합니다. \n",
        "\n",
        "- 훈련데이터는 모델을 Fit 하는데 사용합니다.\n",
        "- 검증데이터는 예측 모델을 선택하기 위해서 예측의 오류를 측정할 때 사용합니다. \n",
        "- 테스트데이터는 일반화 오류를 평가하기 위해 선택된 모델에 한하여 마지막에 한 번 사용합니다. 테스트세트는 훈련이나 검증과정에서 사용하지 않도록 주의해야 합니다. \n",
        "\n",
        "테스트데이터가 유출(leak)이 되어 훈련/검증과정에 사용이 되면 모델을 잘못 평가하게 됩니다."
      ]
    },
    {
      "cell_type": "markdown",
      "metadata": {
        "id": "2nqj_BqfxDmn"
      },
      "source": [
        "#### [모델 검증](https://sebastianraschka.com/blog/2018/model-evaluation-selection-part4.html)\n",
        "\n",
        "<img src=\"https://sebastianraschka.com/images/blog/2018/model-evaluation-selection-part4/model-eval-conclusions.jpg\" width=\"600\">\n",
        "\n",
        "- train dataset: 모델의 fit하는데 사용하는 데이터 \n",
        "- validation dataset: 모델이 복잡하고 매우 학습을 잘하는 경우, 훈련 데이터에 overfitting이 되는 것을 확인하고 새롭게 모델을 만들거나 다른 모델을 선택하는데 사용하는 데이터 셋\n",
        "- test dataset: 여러 모델을 만들고 튜닝하고 수정하고 나서 검증 데이터에서 가장 성능이 좋은 모델을 만들고 나서 마지막으로 일반화를 테스트하는데 사용. \n",
        "\n",
        "- 보통 검증 데이터의 성능보다 테스트 데이터에서 성능이 떨어진다.\n",
        "왜냐하면, 검증 데이터를 이용해 계속 모델을 개선해나가는 과정중에 직접적으로 학습에 이용되지는 않지만 여러번 성능 측정을 하면서 검증 데이터에서 모델이 좋은 성능을 내도록 튜닝이 되었기 때문이다. \n",
        "\n",
        "- 우리가 주의해야 하는 것은 훈련 검정 과정에서 테스트 데이터가 절대로 사용되지 않도록 하는 것이다."
      ]
    },
    {
      "cell_type": "markdown",
      "metadata": {
        "id": "QTnizQR9xDmn"
      },
      "source": [
        "여러분이 학습 모델을 개발할 때, **모델선택(Model selection)** 을 수행해야 합니다.\n",
        "이때 **하이퍼파라미터(hyperparameter)** 튜닝을 하게 되는데 튜닝의 효과를 확인하기 위해서 검증세트가 필요합니다. 테스트 세트로 하이퍼파라미터 튜닝을 하면 절대로 안됩니다. 데이터가 많을 경우에는 전체 데이터를 훈련/검증/테스트 세트로 나누면 되지만, 상대적으로 데이터 수가 적을 경우 **K-fold 교차검증(k-fold cross-validation)** 을 진행할 수 있습니다. 물론 이때도 테스트 세트는 미리 떼어 놓아야 합니다."
      ]
    },
    {
      "cell_type": "markdown",
      "metadata": {
        "id": "MXm5sFrhxDmn"
      },
      "source": [
        "#### 캐글 데이터세트 나누기\n",
        "\n",
        "캐글에서 우리를 위해 미리 테스트세트를 나누어 주었으니 우리는 훈련데이터를 다시 훈련/검증 세트로 나누면 되겠습니다.\n",
        "\n",
        "sklearn 함수 train_test_split을 사용해 훈련/검증 세트로 나누어 보겠습니다.\n",
        "\n",
        "- [sklearn.model_selection.train_test_split](https://scikit-learn.org/stable/modules/generated/sklearn.model_selection.train_test_split.html)"
      ]
    },
    {
      "cell_type": "code",
      "metadata": {
        "id": "k8C4e7KIxDmn",
        "outputId": "d7497fba-0a58-46a1-ceec-8b7bf791616a",
        "colab": {
          "base_uri": "https://localhost:8080/"
        }
      },
      "source": [
        "from sklearn.model_selection import train_test_split\n",
        "train, val = train_test_split(train, random_state=2)\n",
        "print(\"train shape: \", train.shape)\n",
        "print(\"val shape: \", val.shape)"
      ],
      "execution_count": 201,
      "outputs": [
        {
          "output_type": "stream",
          "text": [
            "train shape:  (668, 12)\n",
            "val shape:  (223, 12)\n"
          ],
          "name": "stdout"
        }
      ]
    },
    {
      "cell_type": "markdown",
      "metadata": {
        "id": "mCrhfSIBxDmo"
      },
      "source": [
        "## 분류(Classification) 문제를 다루어 봅시다"
      ]
    },
    {
      "cell_type": "markdown",
      "metadata": {
        "id": "xsKd_UFtxDmo"
      },
      "source": [
        "### 분류문제는 회귀문제와 다른 기준으로 기준모델을 설정합니다.\n",
        "**다수 클래스를 기준모델로 정하는 방법(Majority class baseline)** 에 대해 알아 봅시다.\n",
        "\n",
        "- 회귀문제에서는 보통 타겟 변수의 **평균**값을 기준모델로 사용합니다.\n",
        "- 분류문제에서는 보통 타겟 변수에서 가장 **빈번하게 나타나는 범주**를 기준모델로 설정합니다.\n",
        "- 시계열(time-series) 데이터는 보통 어떤 시점을 기준으로 **이전 시간의 데이터**가 기준모델이 됩니다.\n",
        "\n",
        "\n",
        "분류문제 에서는 타겟 변수가 편중된 범주비율을 가지는 경우가 많습니다.\n",
        "\n",
        "- 클래스 1과 0 비율이 9:1인 학습 데이터를 가지고 모델을 만들었는데 모델 예측 정확도가 90% 나왔습니다! 어떻게 이렇게 좋은 성능이 나왔을까요? 이 모델의 성능은 문제가 없는 것 일까요? 불균형한 데이터를 사용해 ML 모델을 만드는데는 상당한 주의가 필요합니다. \n",
        "\n",
        "    - 이 데이터는 모델이 무조건 클래스 1만 찍도록 만들면 정확도 90%를 달성할 수 있습니다. 그러므로 이런 경우 클래스 1에 대한 정확도가 90% 인 기준모델을 설정하고 더 좋은 성능을 가지는 모델을 만들기 위해 노력해야 합니다."
      ]
    },
    {
      "cell_type": "markdown",
      "metadata": {
        "id": "4pHweZIooL_F"
      },
      "source": [
        "- 대다수의 중요한 분류 문제들은 범주들의 비율이 차이가 서로 많이 난다. 편중된 범주 비율을 가지는 경우, 다수 범주를 기준 모델로 사용하지 않으면 모델의 성능을 착각할 수 있다."
      ]
    },
    {
      "cell_type": "markdown",
      "metadata": {
        "id": "ACIn6R5xxDmq"
      },
      "source": [
        "#### 분류문제를 풀기전에 항상 먼저 타겟 범주가 어떤 비율을 가지고 있는지 확인해 보아야 합니다."
      ]
    },
    {
      "cell_type": "code",
      "metadata": {
        "id": "UfZC1Hg_xDmq"
      },
      "source": [
        "# 타겟을 정합니다\n",
        "# survived => 0 = No, 1 = Yes\n",
        "target = 'Survived'"
      ],
      "execution_count": 202,
      "outputs": []
    },
    {
      "cell_type": "code",
      "metadata": {
        "id": "sRJW-I5FxDmr",
        "outputId": "850995a4-509e-484b-b6df-61f4c9a814f1",
        "colab": {
          "base_uri": "https://localhost:8080/"
        }
      },
      "source": [
        "# 타겟 데이터 범주의 비율을 확인합니다.\n",
        "y_train = train[target]\n",
        "y_train.value_counts(normalize=True)"
      ],
      "execution_count": 203,
      "outputs": [
        {
          "output_type": "execute_result",
          "data": {
            "text/plain": [
              "0    0.625749\n",
              "1    0.374251\n",
              "Name: Survived, dtype: float64"
            ]
          },
          "metadata": {
            "tags": []
          },
          "execution_count": 203
        }
      ]
    },
    {
      "cell_type": "code",
      "metadata": {
        "id": "LCdD6VMIxDms",
        "outputId": "6d06aca0-5a38-4939-bd4c-1207f35b0b9f",
        "colab": {
          "base_uri": "https://localhost:8080/",
          "height": 279
        }
      },
      "source": [
        "import seaborn as sns\n",
        "import matplotlib.pyplot as plt\n",
        "%matplotlib inline\n",
        "sns.countplot(x=y_train);"
      ],
      "execution_count": 204,
      "outputs": [
        {
          "output_type": "display_data",
          "data": {
            "image/png": "[encoded data removed]",
            "text/plain": [
              "<Figure size 432x288 with 1 Axes>"
            ]
          },
          "metadata": {
            "tags": [],
            "needs_background": "light"
          }
        }
      ]
    },
    {
      "cell_type": "markdown",
      "metadata": {
        "id": "0cD012GOxDms"
      },
      "source": [
        "#### (분류문제의 기준모델) 범주 0 (majority class)으로 모든 예측을 수행해 보겠습니다."
      ]
    },
    {
      "cell_type": "code",
      "metadata": {
        "id": "3q6nkWywxDmt"
      },
      "source": [
        "# mode(): Return the highest frequency value in a Series.\n",
        "major = y_train.mode()[0]\n",
        "\n",
        "# 타겟 샘플 수 만큼 0이 담긴 리스트를 만듭니다. 기준모델로 예측\n",
        "y_pred = [major] * len(y_train)"
      ],
      "execution_count": 205,
      "outputs": []
    },
    {
      "cell_type": "markdown",
      "metadata": {
        "id": "9e6NxnjvxDmt"
      },
      "source": [
        "#### 분류에서는 회귀와 다른 평가지표(evaluation metrics)를 사용합니다. \n",
        "[scikit-learn, Scoring functions](https://scikit-learn.org/stable/modules/model_evaluation.html)\n",
        "- 절대로 _회귀_ 평가지표를 _분류_에 사용하시면 안됩니다. 그 반대도 마찬가지 입니다.\n",
        "\n",
        "- 정확도([Accuracy](https://scikit-learn.org/stable/modules/model_evaluation.html#accuracy-score)) 는 분류문제에서 사용하는 평가지표입니다.\n",
        "\n",
        "Accuracy = $\\frac{올바르게 예측한 수} {전체 예측 수}$ = $\\frac{TP + TN} {P + N}$\n",
        "- [Proportion of correct classifications](https://en.wikipedia.org/wiki/Confusion_matrix)\n",
        "\n"
      ]
    },
    {
      "cell_type": "markdown",
      "metadata": {
        "id": "tJO56ayYxDmt"
      },
      "source": [
        "이렇게 기준모델로 최다 비율 클래스를 사용할 경우 정확도를 구해 봅시다."
      ]
    },
    {
      "cell_type": "code",
      "metadata": {
        "id": "9u-hjgPnxDmu",
        "outputId": "15a9a21c-03b6-46be-b7da-364ae7b1ac6c",
        "colab": {
          "base_uri": "https://localhost:8080/"
        }
      },
      "source": [
        "# 최다 클래스의 빈도가 정확도가 됩니다.\n",
        "from sklearn.metrics import accuracy_score\n",
        "print(\"training accuracy: \", accuracy_score(y_train, y_pred))"
      ],
      "execution_count": 206,
      "outputs": [
        {
          "output_type": "stream",
          "text": [
            "training accuracy:  0.625748502994012\n"
          ],
          "name": "stdout"
        }
      ]
    },
    {
      "cell_type": "code",
      "metadata": {
        "id": "PbSlA9dvxDmu",
        "outputId": "f88104c8-9d3c-46bd-8e98-3b65c50f7cf0",
        "colab": {
          "base_uri": "https://localhost:8080/"
        }
      },
      "source": [
        "# 검증세트 에서도 정확도를 확인해 볼 수 있습니다.\n",
        "y_val = val[target]\n",
        "y_pred = [major] * len(y_val)\n",
        "print(\"validation accuracy: \", accuracy_score(y_val, y_pred))"
      ],
      "execution_count": 207,
      "outputs": [
        {
          "output_type": "stream",
          "text": [
            "validation accuracy:  0.5874439461883408\n"
          ],
          "name": "stdout"
        }
      ]
    },
    {
      "cell_type": "markdown",
      "metadata": {
        "id": "6fhrWnSmxDmu"
      },
      "source": [
        "## 로지스틱 회귀(Logistic Regression)"
      ]
    },
    {
      "cell_type": "markdown",
      "metadata": {
        "id": "_ATeI4FLxDmv"
      },
      "source": [
        "### (로지스틱회귀를 사용하기 전에) 분류문제를 선형회귀모델을 사용해 학습하면 어떤 결과가 나오는지 살펴 봅시다"
      ]
    },
    {
      "cell_type": "code",
      "metadata": {
        "id": "kU4bVRL5xDmv",
        "outputId": "911e5543-8914-4b30-873b-c3b224dcbb5d",
        "colab": {
          "base_uri": "https://localhost:8080/",
          "height": 295
        }
      },
      "source": [
        "train.describe() # 수치형 데이터에 대한 통계치를 확인할 수 있다."
      ],
      "execution_count": 208,
      "outputs": [
        {
          "output_type": "execute_result",
          "data": {
            "text/html": [
              "<div>\n",
              "<style scoped>\n",
              "    .dataframe tbody tr th:only-of-type {\n",
              "        vertical-align: middle;\n",
              "    }\n",
              "\n",
              "    .dataframe tbody tr th {\n",
              "        vertical-align: top;\n",
              "    }\n",
              "\n",
              "    .dataframe thead th {\n",
              "        text-align: right;\n",
              "    }\n",
              "</style>\n",
              "<table border=\"1\" class=\"dataframe\">\n",
              "  <thead>\n",
              "    <tr style=\"text-align: right;\">\n",
              "      <th></th>\n",
              "      <th>PassengerId</th>\n",
              "      <th>Survived</th>\n",
              "      <th>Pclass</th>\n",
              "      <th>Age</th>\n",
              "      <th>SibSp</th>\n",
              "      <th>Parch</th>\n",
              "      <th>Fare</th>\n",
              "    </tr>\n",
              "  </thead>\n",
              "  <tbody>\n",
              "    <tr>\n",
              "      <th>count</th>\n",
              "      <td>668.000000</td>\n",
              "      <td>668.000000</td>\n",
              "      <td>668.000000</td>\n",
              "      <td>527.000000</td>\n",
              "      <td>668.000000</td>\n",
              "      <td>668.000000</td>\n",
              "      <td>668.000000</td>\n",
              "    </tr>\n",
              "    <tr>\n",
              "      <th>mean</th>\n",
              "      <td>443.224551</td>\n",
              "      <td>0.374251</td>\n",
              "      <td>2.303892</td>\n",
              "      <td>29.576376</td>\n",
              "      <td>0.501497</td>\n",
              "      <td>0.405689</td>\n",
              "      <td>32.583071</td>\n",
              "    </tr>\n",
              "    <tr>\n",
              "      <th>std</th>\n",
              "      <td>256.363463</td>\n",
              "      <td>0.484292</td>\n",
              "      <td>0.835234</td>\n",
              "      <td>14.118577</td>\n",
              "      <td>1.080701</td>\n",
              "      <td>0.835008</td>\n",
              "      <td>49.782390</td>\n",
              "    </tr>\n",
              "    <tr>\n",
              "      <th>min</th>\n",
              "      <td>1.000000</td>\n",
              "      <td>0.000000</td>\n",
              "      <td>1.000000</td>\n",
              "      <td>0.420000</td>\n",
              "      <td>0.000000</td>\n",
              "      <td>0.000000</td>\n",
              "      <td>0.000000</td>\n",
              "    </tr>\n",
              "    <tr>\n",
              "      <th>25%</th>\n",
              "      <td>225.750000</td>\n",
              "      <td>0.000000</td>\n",
              "      <td>2.000000</td>\n",
              "      <td>21.000000</td>\n",
              "      <td>0.000000</td>\n",
              "      <td>0.000000</td>\n",
              "      <td>7.895800</td>\n",
              "    </tr>\n",
              "    <tr>\n",
              "      <th>50%</th>\n",
              "      <td>445.000000</td>\n",
              "      <td>0.000000</td>\n",
              "      <td>3.000000</td>\n",
              "      <td>28.000000</td>\n",
              "      <td>0.000000</td>\n",
              "      <td>0.000000</td>\n",
              "      <td>14.454200</td>\n",
              "    </tr>\n",
              "    <tr>\n",
              "      <th>75%</th>\n",
              "      <td>663.500000</td>\n",
              "      <td>1.000000</td>\n",
              "      <td>3.000000</td>\n",
              "      <td>38.000000</td>\n",
              "      <td>1.000000</td>\n",
              "      <td>0.250000</td>\n",
              "      <td>31.068750</td>\n",
              "    </tr>\n",
              "    <tr>\n",
              "      <th>max</th>\n",
              "      <td>891.000000</td>\n",
              "      <td>1.000000</td>\n",
              "      <td>3.000000</td>\n",
              "      <td>71.000000</td>\n",
              "      <td>8.000000</td>\n",
              "      <td>6.000000</td>\n",
              "      <td>512.329200</td>\n",
              "    </tr>\n",
              "  </tbody>\n",
              "</table>\n",
              "</div>"
            ],
            "text/plain": [
              "       PassengerId    Survived      Pclass  ...       SibSp       Parch        Fare\n",
              "count   668.000000  668.000000  668.000000  ...  668.000000  668.000000  668.000000\n",
              "mean    443.224551    0.374251    2.303892  ...    0.501497    0.405689   32.583071\n",
              "std     256.363463    0.484292    0.835234  ...    1.080701    0.835008   49.782390\n",
              "min       1.000000    0.000000    1.000000  ...    0.000000    0.000000    0.000000\n",
              "25%     225.750000    0.000000    2.000000  ...    0.000000    0.000000    7.895800\n",
              "50%     445.000000    0.000000    3.000000  ...    0.000000    0.000000   14.454200\n",
              "75%     663.500000    1.000000    3.000000  ...    1.000000    0.250000   31.068750\n",
              "max     891.000000    1.000000    3.000000  ...    8.000000    6.000000  512.329200\n",
              "\n",
              "[8 rows x 7 columns]"
            ]
          },
          "metadata": {
            "tags": []
          },
          "execution_count": 208
        }
      ]
    },
    {
      "cell_type": "code",
      "metadata": {
        "id": "F8FU2eRsxDmv",
        "outputId": "93a62a1b-e200-464f-dbf3-8ca9a41a0921",
        "colab": {
          "base_uri": "https://localhost:8080/"
        }
      },
      "source": [
        "train['Age']"
      ],
      "execution_count": 209,
      "outputs": [
        {
          "output_type": "execute_result",
          "data": {
            "text/plain": [
              "199    24.0\n",
              "129    45.0\n",
              "90     29.0\n",
              "230    35.0\n",
              "126     NaN\n",
              "       ... \n",
              "534    30.0\n",
              "584     NaN\n",
              "493    71.0\n",
              "527     NaN\n",
              "168     NaN\n",
              "Name: Age, Length: 668, dtype: float64"
            ]
          },
          "metadata": {
            "tags": []
          },
          "execution_count": 209
        }
      ]
    },
    {
      "cell_type": "code",
      "metadata": {
        "id": "J1FOHgAexDmw",
        "outputId": "0197e031-92f1-40dd-b8cd-8a946eb1fe26",
        "colab": {
          "base_uri": "https://localhost:8080/"
        }
      },
      "source": [
        "train.info()"
      ],
      "execution_count": 210,
      "outputs": [
        {
          "output_type": "stream",
          "text": [
            "<class 'pandas.core.frame.DataFrame'>\n",
            "Int64Index: 668 entries, 199 to 168\n",
            "Data columns (total 12 columns):\n",
            " #   Column       Non-Null Count  Dtype  \n",
            "---  ------       --------------  -----  \n",
            " 0   PassengerId  668 non-null    int64  \n",
            " 1   Survived     668 non-null    int64  \n",
            " 2   Pclass       668 non-null    int64  \n",
            " 3   Name         668 non-null    object \n",
            " 4   Sex          668 non-null    object \n",
            " 5   Age          527 non-null    float64\n",
            " 6   SibSp        668 non-null    int64  \n",
            " 7   Parch        668 non-null    int64  \n",
            " 8   Ticket       668 non-null    object \n",
            " 9   Fare         668 non-null    float64\n",
            " 10  Cabin        149 non-null    object \n",
            " 11  Embarked     666 non-null    object \n",
            "dtypes: float64(2), int64(5), object(5)\n",
            "memory usage: 87.8+ KB\n"
          ],
          "name": "stdout"
        }
      ]
    },
    {
      "cell_type": "code",
      "metadata": {
        "id": "dU45m8IdxDmw"
      },
      "source": [
        "from sklearn.linear_model import LinearRegression\n",
        "\n",
        "linear_model = LinearRegression()\n",
        "\n",
        "# 숫자형 특성 만 사용하겠습니다. / 다중 회귀 모델 사용\n",
        "features = ['Pclass', 'Age', 'Fare']\n",
        "X_train = train[features]\n",
        "X_val = val[features]\n",
        "\n",
        "# Age, Cabin의 결측치를 평균 값으로 채웁니다.\n",
        "from sklearn.impute import SimpleImputer # SimpleImputer - 결측치들을 각 특성의 평균값으로 채워줌. / Linear Regression은 결측값이 존재하는 특성을 사용할 수 없기 때문.\n",
        "\n",
        "## default, imputing 'mean' value\n",
        "imputer = SimpleImputer() \n",
        "X_train_imputed = imputer.fit_transform(X_train)\n",
        "X_val_imputed = imputer.transform(X_val)\n",
        "\n",
        "# 학습\n",
        "linear_model.fit(X_train_imputed, y_train)\n",
        "\n",
        "# 예측\n",
        "pred = linear_model.predict(X_val_imputed)"
      ],
      "execution_count": 211,
      "outputs": []
    },
    {
      "cell_type": "markdown",
      "metadata": {
        "id": "SKQB5SnOxDmx"
      },
      "source": [
        "#### 회귀계수들의 수치를 확인해 보겠습니다."
      ]
    },
    {
      "cell_type": "code",
      "metadata": {
        "id": "511Rs9JIxDmx",
        "outputId": "830ce581-ddce-4e43-8f12-6685a80d235d",
        "colab": {
          "base_uri": "https://localhost:8080/"
        }
      },
      "source": [
        "pd.Series(linear_model.coef_, features) \n",
        "## 좌석 등급이 올라갈수록 생존율이 떨어진다.\n",
        "## 나이가 올라갈수록 생존율이 떨어진다. (좌석 등급의 정도보다는 낮지만)\n",
        "## 수치가 정말 낮지만 가격이 높을 수록 생존율이 높아진다고 할 수 있다."
      ],
      "execution_count": 212,
      "outputs": [
        {
          "output_type": "execute_result",
          "data": {
            "text/plain": [
              "Pclass   -0.203810\n",
              "Age      -0.007513\n",
              "Fare      0.000819\n",
              "dtype: float64"
            ]
          },
          "metadata": {
            "tags": []
          },
          "execution_count": 212
        }
      ]
    },
    {
      "cell_type": "markdown",
      "metadata": {
        "id": "PwH60bEyxDmx"
      },
      "source": [
        "- Pclass의 경우 높을 수록(2, 3등석) 생존률이 떨어지는 것으로 예상을 할 수 있고\n",
        "\n",
        "- Age의 경우 많을 수록 생존률이 떨어진다고 볼 수 있겠습니다.\n",
        "\n",
        "- Fare의 경우는 수치가 작지만 높을 수록 생존률이 올라가네요."
      ]
    },
    {
      "cell_type": "markdown",
      "metadata": {
        "id": "0z_OqZyAxDmz"
      },
      "source": [
        "#### 가상으로 테스트 케이스를 만들어 예측을 진행해 보겠습니다\n",
        "회귀계수를 알고 있으니 무조건 생존할 것 같은 데이터를 만들어 보겠습니다.\n",
        "\n",
        "Pclass는 낮추고(1등석) 5살의 어린 나이에 비싼 요금을 넣어 보겠습니다. (1, 5, 600) 이 아기는 무조건 생존할 것 같습니다."
      ]
    },
    {
      "cell_type": "code",
      "metadata": {
        "id": "_vNFb9C-xDm0",
        "outputId": "ca9ce273-e2f8-46d4-8f0b-48185cd81a97",
        "colab": {
          "base_uri": "https://localhost:8080/"
        }
      },
      "source": [
        "test_case = [[1, 5, 600]]\n",
        "linear_model.predict(test_case) ## 결과를 보니, 생존을 나타내는 1을 훨씬 넘어서는 수치가 나옴. 회귀모델은 이렇게 음수~양수를 아우르는 모든 수치가 나올 수 있기 때문에 생존 :1, 죽음 :0 인지를\n",
        "                                ## 정확하게 알 수 없다."
      ],
      "execution_count": 213,
      "outputs": [
        {
          "output_type": "execute_result",
          "data": {
            "text/plain": [
              "array([1.28916042])"
            ]
          },
          "metadata": {
            "tags": []
          },
          "execution_count": 213
        }
      ]
    },
    {
      "cell_type": "markdown",
      "metadata": {
        "id": "gPlmbiPuxDm0"
      },
      "source": [
        "- 회귀모델이기 때문에 타겟변수값이 음수에서 양수까지 나타나는데 생존인지 아닌지 분명하게 결과를 알 수 없습니다. 게다가 회귀이기 때문에 분류모델에 사용하는 평가지표를 사용할 수 없습니다.\n",
        "\n",
        "로지스틱회귀를 사용하면 타겟변수의 범주로 0과 1을 사용할 수 있으며 각 범주의 예측 확률값을 얻을 수 있습니다."
      ]
    },
    {
      "cell_type": "markdown",
      "metadata": {
        "id": "AlGjhl18xDm0"
      },
      "source": [
        "### 로지스틱 회귀모델"
      ]
    },
    {
      "cell_type": "markdown",
      "metadata": {
        "id": "aleSQZJtxDm0"
      },
      "source": [
        "#### 로지스틱 회귀모델은 다음 식으로 표현할 수 있습니다.\n",
        "$$\\large P(X)={\\frac {1}{1+e^{-(\\beta _{0}+\\beta _{1}X_{1}+\\cdots +\\beta _{p}X_{p})}}}$$\n",
        "\n",
        "\n",
        "$$ 0 \\leq P(X) \\leq 1$$\n",
        "\n",
        "exponential의 지수에 회귀모델식이 들어가 있다."
      ]
    },
    {
      "cell_type": "markdown",
      "metadata": {
        "id": "lgpbsArfxDm1"
      },
      "source": [
        "#### 로지스틱회귀는 특성변수를 **로지스틱(시그모이드) 함수** 형태로 표현합니다.\n",
        "<img src=\"https://qph.fs.quoracdn.net/main-qimg-6c3393d3dd37f9fdac89e7971126c726\" width=\"500\"/>\n",
        "\n",
        "위의 식이 로지스틱 함수라고 부르기 때문에 P(X)를 나타내는 식을 로지스틱 회귀모델이라고 부른다.\n",
        "\n",
        "그래서 결과적으로 관측치가 특정 클래스에 속할 확률값으로 계산이 됩니다. 분류문제에서는 확률값을 사용하여 분류를 하는데, 예를들어 확률값이 정해진 기준값 보다 크면 1 아니면 0 이라고 예측을 하게 됩니다."
      ]
    },
    {
      "cell_type": "markdown",
      "metadata": {
        "id": "iije4z_hxDm1"
      },
      "source": [
        "#### Logit transformation\n",
        "로지스틱회귀의 계수는 비선형 함수 내에 있어서 직관적으로 해석하기가 어려운데 **오즈(Odds)** 를 사용하면 선형결합 형태로 변환 가능해 보다 쉽게 해석이 가능합니다. 오즈는 **실패확률에 대한 성공확률의 비** 인데 예를들어 odds = 4  이면 성공확률이 실패확률의 4배 라는 뜻입니다. 분류문제에서는 클래스 1 확률에 대한 클래스 0 확률의 비라고 해석하면 되겠습니다.\n",
        "\n",
        "$Odds = \\large \\frac{p}{1-p}$, \n",
        "\n",
        "p = 성공확률, 1-p = 실패확률\n",
        "\n",
        "p = 1 일때 odds = $\\infty$\n",
        "\n",
        "p = 0 일때 odds = 0\n",
        "\n",
        "$\\large ln(Odds) = ln(\\frac{p}{1-p}) = ln(\\frac{\\frac {1}{1+e^{-(\\beta _{0}+\\beta _{1}X_{1}+\\cdots +\\beta _{p}X_{p})}}}{1 - \\frac {1}{1+e^{-(\\beta _{0}+\\beta _{1}X_{1}+\\cdots +\\beta _{p}X_{p})}}}) = \\normalsize \\beta _{0}+\\beta _{1}X_{1}+\\cdots +\\beta _{p}X_{p}$\n",
        "\n",
        "이렇게 오즈에 자연로그를 취해 변환하는 것을 **로짓변환(Logit transformation)** 이라고 합니다. 로짓변환을 통해 비선형형태인 로지스틱함수형태를 선형형태로 만들어 회귀계수의 의미를 해석하기 쉽게 하는데, 특성 X의 증가에 따라 **로짓(ln(odds))**가 얼마나 증가(or감소)했다고 해석을 할 수 있게 됩니다.\n",
        "\n",
        ">로지스틱함수가 비선형이기때문에 회귀계수의 관계에 대해서 파악하기 어렵다. 그래서 선형형태로 바꿔줘야 한다.\n",
        "\n",
        "(odds 확률로 해석을 하려면 exp(계수) = p 를 계산해서 특성 1단위 증가당 확률이 p배 증가한다고 해석을 할 수 있습니다.)"
      ]
    },
    {
      "cell_type": "markdown",
      "metadata": {
        "id": "F7V0giX-xDm1"
      },
      "source": [
        "여기서 기존 로지스틱형태의 y 값은 0~1의 범위를 가졌다면 로짓은 -$\\infty$ ~ $\\infty$ 범위를 가지게 됩니다.\n",
        "\n",
        "<img src=\"https://i.imgur.com/r2uD4dI.png\" />"
      ]
    },
    {
      "cell_type": "markdown",
      "metadata": {
        "id": "2qIuhkOmxDm2"
      },
      "source": [
        "## 로지스틱회귀 모델을 만들어 보고 선형모델과 비교해 보겠습니다."
      ]
    },
    {
      "cell_type": "code",
      "metadata": {
        "id": "8SejLr9TxDm2",
        "outputId": "b9f84cdb-dc77-462d-8731-e91fcee75b79",
        "colab": {
          "base_uri": "https://localhost:8080/"
        }
      },
      "source": [
        "## 선형회귀모델을 학습하는 과정과 완전히 동일하다.\n",
        "from sklearn.linear_model import LogisticRegression\n",
        "\n",
        "logistic = LogisticRegression()\n",
        "logistic.fit(X_train_imputed, y_train)"
      ],
      "execution_count": 214,
      "outputs": [
        {
          "output_type": "execute_result",
          "data": {
            "text/plain": [
              "LogisticRegression(C=1.0, class_weight=None, dual=False, fit_intercept=True,\n",
              "                   intercept_scaling=1, l1_ratio=None, max_iter=100,\n",
              "                   multi_class='auto', n_jobs=None, penalty='l2',\n",
              "                   random_state=None, solver='lbfgs', tol=0.0001, verbose=0,\n",
              "                   warm_start=False)"
            ]
          },
          "metadata": {
            "tags": []
          },
          "execution_count": 214
        }
      ]
    },
    {
      "cell_type": "markdown",
      "metadata": {
        "id": "TvvxNGEexDm2"
      },
      "source": [
        "학습된 로지스틱회귀 모델의 score 메소드는 분류 정확도를 리턴합니다."
      ]
    },
    {
      "cell_type": "code",
      "metadata": {
        "id": "0QxfAxOZxDm3",
        "outputId": "9b254c0a-72a7-4a6f-a7b6-cc22e2274de3",
        "colab": {
          "base_uri": "https://localhost:8080/"
        }
      },
      "source": [
        "print('검증세트 정확도', logistic.score(X_val_imputed, y_val))"
      ],
      "execution_count": 215,
      "outputs": [
        {
          "output_type": "stream",
          "text": [
            "검증세트 정확도 0.7130044843049327\n"
          ],
          "name": "stdout"
        }
      ]
    },
    {
      "cell_type": "markdown",
      "metadata": {
        "id": "mqn3tc54xDm3"
      },
      "source": [
        "모든 범주를 0으로 분류하는 기준모델보다 정확도가 높게 나왔습니다. 어느정도 학습이 잘 이루어진 것으로 보여집니다.\n",
        "예측 결과를 보면 0과 1로 예측 한 것을 확인할 수 있습니다."
      ]
    },
    {
      "cell_type": "code",
      "metadata": {
        "id": "X7acZVhWxDm3",
        "outputId": "462a20be-2735-45f7-9a29-77305f291e0c",
        "colab": {
          "base_uri": "https://localhost:8080/"
        }
      },
      "source": [
        "pred = logistic.predict(X_val_imputed)\n",
        "pred"
      ],
      "execution_count": 216,
      "outputs": [
        {
          "output_type": "execute_result",
          "data": {
            "text/plain": [
              "array([1, 0, 1, 0, 0, 0, 0, 0, 1, 0, 0, 1, 0, 0, 0, 0, 0, 0, 0, 0, 1, 0,\n",
              "       0, 0, 0, 0, 0, 1, 0, 0, 0, 0, 0, 1, 1, 0, 1, 0, 0, 0, 0, 0, 0, 0,\n",
              "       0, 1, 1, 0, 0, 0, 0, 0, 0, 1, 0, 1, 0, 0, 0, 0, 0, 1, 0, 0, 0, 0,\n",
              "       0, 0, 0, 0, 0, 0, 0, 0, 0, 1, 0, 1, 0, 0, 1, 1, 0, 0, 1, 1, 0, 0,\n",
              "       0, 0, 0, 0, 0, 0, 0, 1, 0, 0, 0, 1, 1, 0, 1, 1, 0, 0, 1, 0, 1, 0,\n",
              "       1, 0, 1, 0, 1, 0, 0, 1, 1, 0, 0, 0, 0, 0, 0, 0, 1, 1, 0, 0, 0, 0,\n",
              "       0, 1, 0, 0, 0, 0, 0, 0, 0, 1, 0, 0, 1, 1, 0, 0, 0, 1, 1, 0, 0, 0,\n",
              "       0, 0, 1, 0, 0, 0, 1, 0, 0, 0, 1, 1, 0, 0, 1, 0, 0, 0, 0, 0, 0, 0,\n",
              "       0, 0, 0, 1, 0, 0, 0, 0, 0, 0, 0, 1, 0, 0, 1, 0, 0, 1, 1, 0, 0, 0,\n",
              "       0, 1, 0, 0, 0, 0, 1, 0, 0, 1, 0, 0, 0, 0, 0, 0, 0, 1, 0, 0, 1, 0,\n",
              "       0, 1, 0])"
            ]
          },
          "metadata": {
            "tags": []
          },
          "execution_count": 216
        }
      ]
    },
    {
      "cell_type": "markdown",
      "metadata": {
        "id": "sa2FaoupxDm4"
      },
      "source": [
        "위에서 만들어 놓은 5살 아이의 테스트 케이스를 사용해 예측을 해 보겠습니다."
      ]
    },
    {
      "cell_type": "code",
      "metadata": {
        "id": "1km5xkUqxDm4",
        "outputId": "fd8f59cc-e8fb-4e12-ecd2-adad9a201b78",
        "colab": {
          "base_uri": "https://localhost:8080/"
        }
      },
      "source": [
        "logistic.predict(test_case)"
      ],
      "execution_count": 217,
      "outputs": [
        {
          "output_type": "execute_result",
          "data": {
            "text/plain": [
              "array([1])"
            ]
          },
          "metadata": {
            "tags": []
          },
          "execution_count": 217
        }
      ]
    },
    {
      "cell_type": "markdown",
      "metadata": {
        "id": "GFKowhy6xDm4"
      },
      "source": [
        "분류에 기준이 되는 각 클래스에 속할 확률값을 확인할 수 있습니다."
      ]
    },
    {
      "cell_type": "code",
      "metadata": {
        "id": "IHolqsbExDm4",
        "outputId": "de719990-c89d-4ca2-a231-c5fc5a13bb2e",
        "colab": {
          "base_uri": "https://localhost:8080/"
        }
      },
      "source": [
        "logistic.predict_proba(test_case)"
      ],
      "execution_count": 218,
      "outputs": [
        {
          "output_type": "execute_result",
          "data": {
            "text/plain": [
              "array([[0.01749669, 0.98250331]])"
            ]
          },
          "metadata": {
            "tags": []
          },
          "execution_count": 218
        }
      ]
    },
    {
      "cell_type": "markdown",
      "metadata": {
        "id": "_YQfI_P_xDm5"
      },
      "source": [
        "로지스틱회귀의 계수를 확인해 봅시다."
      ]
    },
    {
      "cell_type": "code",
      "metadata": {
        "id": "SXV0XC7OxDm5",
        "outputId": "13b7fd1c-cb2b-449b-e499-fff0b55522a2",
        "colab": {
          "base_uri": "https://localhost:8080/"
        }
      },
      "source": [
        "print(features)\n",
        "\n",
        "# 선형회귀분석과 비교했을 때 회귀계수 수치는 변했지만 방향은 같음을 볼 수 있습니다.\n",
        "print(logistic.coef_) "
      ],
      "execution_count": 219,
      "outputs": [
        {
          "output_type": "stream",
          "text": [
            "['Pclass', 'Age', 'Fare']\n",
            "[[-0.90248227 -0.03581619  0.00447486]]\n"
          ],
          "name": "stdout"
        }
      ]
    },
    {
      "cell_type": "markdown",
      "metadata": {
        "id": "wuXPUikdxDm6"
      },
      "source": [
        "계수가 양수인 경우 생존의 가능성을 높이고 음수인 경우 생존 가능성을 낮추는 것으로 해석할 수 있습니다."
      ]
    },
    {
      "cell_type": "markdown",
      "metadata": {
        "id": "XW4avrIWxDm6"
      },
      "source": [
        "### 타이타닉(Titanic) 데이터의 모든 특성을 사용한 모델을 만들어 봅시다."
      ]
    },
    {
      "cell_type": "markdown",
      "metadata": {
        "id": "mRFaxwR_xDm7"
      },
      "source": [
        "데이터를 모델에 적합하기 전에 3 가지 데이터 변환을 수행해보겠습니다.\n",
        "- 카테고리 데이터 처리를 위해 OneHotEncoder\n",
        "- 결측치(missing value) 처리를 위한 SimpleImputer\n",
        "- 특성들의 척도를 맞추기 위해 표준정규분포로 표준화하는(평균=0, 표준편차=1) StandardScaler"
      ]
    },
    {
      "cell_type": "code",
      "metadata": {
        "id": "1xNCkGHZxDm7",
        "outputId": "38ec9e86-f87d-46f7-e50b-e871b99d373a",
        "colab": {
          "base_uri": "https://localhost:8080/"
        }
      },
      "source": [
        "train.columns"
      ],
      "execution_count": 220,
      "outputs": [
        {
          "output_type": "execute_result",
          "data": {
            "text/plain": [
              "Index(['PassengerId', 'Survived', 'Pclass', 'Name', 'Sex', 'Age', 'SibSp',\n",
              "       'Parch', 'Ticket', 'Fare', 'Cabin', 'Embarked'],\n",
              "      dtype='object')"
            ]
          },
          "metadata": {
            "tags": []
          },
          "execution_count": 220
        }
      ]
    },
    {
      "cell_type": "code",
      "metadata": {
        "id": "8ZqWFiu5xDm7",
        "outputId": "b889e28e-2921-43c9-8cdf-a51380ab7c6d",
        "colab": {
          "base_uri": "https://localhost:8080/",
          "height": 110
        }
      },
      "source": [
        "train.head(2)"
      ],
      "execution_count": 221,
      "outputs": [
        {
          "output_type": "execute_result",
          "data": {
            "text/html": [
              "<div>\n",
              "<style scoped>\n",
              "    .dataframe tbody tr th:only-of-type {\n",
              "        vertical-align: middle;\n",
              "    }\n",
              "\n",
              "    .dataframe tbody tr th {\n",
              "        vertical-align: top;\n",
              "    }\n",
              "\n",
              "    .dataframe thead th {\n",
              "        text-align: right;\n",
              "    }\n",
              "</style>\n",
              "<table border=\"1\" class=\"dataframe\">\n",
              "  <thead>\n",
              "    <tr style=\"text-align: right;\">\n",
              "      <th></th>\n",
              "      <th>PassengerId</th>\n",
              "      <th>Survived</th>\n",
              "      <th>Pclass</th>\n",
              "      <th>Name</th>\n",
              "      <th>Sex</th>\n",
              "      <th>Age</th>\n",
              "      <th>SibSp</th>\n",
              "      <th>Parch</th>\n",
              "      <th>Ticket</th>\n",
              "      <th>Fare</th>\n",
              "      <th>Cabin</th>\n",
              "      <th>Embarked</th>\n",
              "    </tr>\n",
              "  </thead>\n",
              "  <tbody>\n",
              "    <tr>\n",
              "      <th>199</th>\n",
              "      <td>200</td>\n",
              "      <td>0</td>\n",
              "      <td>2</td>\n",
              "      <td>Yrois, Miss. Henriette (\"Mrs Harbeck\")</td>\n",
              "      <td>female</td>\n",
              "      <td>24.0</td>\n",
              "      <td>0</td>\n",
              "      <td>0</td>\n",
              "      <td>248747</td>\n",
              "      <td>13.000</td>\n",
              "      <td>NaN</td>\n",
              "      <td>S</td>\n",
              "    </tr>\n",
              "    <tr>\n",
              "      <th>129</th>\n",
              "      <td>130</td>\n",
              "      <td>0</td>\n",
              "      <td>3</td>\n",
              "      <td>Ekstrom, Mr. Johan</td>\n",
              "      <td>male</td>\n",
              "      <td>45.0</td>\n",
              "      <td>0</td>\n",
              "      <td>0</td>\n",
              "      <td>347061</td>\n",
              "      <td>6.975</td>\n",
              "      <td>NaN</td>\n",
              "      <td>S</td>\n",
              "    </tr>\n",
              "  </tbody>\n",
              "</table>\n",
              "</div>"
            ],
            "text/plain": [
              "     PassengerId  Survived  Pclass  ...    Fare Cabin  Embarked\n",
              "199          200         0       2  ...  13.000   NaN         S\n",
              "129          130         0       3  ...   6.975   NaN         S\n",
              "\n",
              "[2 rows x 12 columns]"
            ]
          },
          "metadata": {
            "tags": []
          },
          "execution_count": 221
        }
      ]
    },
    {
      "cell_type": "code",
      "metadata": {
        "id": "LhEcjKzxxDm8",
        "outputId": "a875740a-61bb-4f54-d6bf-7f88ef5ae36a",
        "colab": {
          "base_uri": "https://localhost:8080/"
        }
      },
      "source": [
        "train['Ticket'].value_counts()"
      ],
      "execution_count": 222,
      "outputs": [
        {
          "output_type": "execute_result",
          "data": {
            "text/plain": [
              "347088              6\n",
              "S.O.C. 14879        5\n",
              "382652              5\n",
              "3101295             5\n",
              "CA. 2343            5\n",
              "                   ..\n",
              "695                 1\n",
              "324669              1\n",
              "SOTON/O2 3101272    1\n",
              "36864               1\n",
              "14313               1\n",
              "Name: Ticket, Length: 539, dtype: int64"
            ]
          },
          "metadata": {
            "tags": []
          },
          "execution_count": 222
        }
      ]
    },
    {
      "cell_type": "markdown",
      "metadata": {
        "id": "abTiR5HWxDm8"
      },
      "source": [
        "\n",
        "- 사용 가능한 모든 변수를 선택하겠습니다. : `['Pclass', 'Sex', 'Age', 'SibSp', 'Parch', 'Fare', 'Embarked']`\n",
        "\n",
        "- `PassengerId`, `Name`, `Cabin`, `Ticket`은 왜 사용하지 않을까요?\n",
        "  - 위와 같은 특성들은 샘플별로 모두 값이 다르기 때문에 일반화를 위한 학습에 전혀 도움이 되지 않기 때문에 뺀다. \n",
        "  - Cabin: 결측값이 너무 많고 범주가 너무 많아서 사용하지 않았다.\n",
        "  - Ticket: 범주가 너무 많아서 사용하지 않았다.\n",
        "  내가 다시 확인해볼것! value_counts() 등을 사용해서~\n",
        "\n",
        "학습에 사용할 transformer 대해서 살펴봅시다.\n",
        "- [category_encoders.one_hot.OneHotEncoder](https://contrib.scikit-learn.org/categorical-encoding/onehot.html)\n",
        "- [sklearn.impute.SimpleImputer](https://scikit-learn.org/stable/modules/generated/sklearn.impute.SimpleImputer.html)\n",
        "- [sklearn.preprocessing.StandardScaler](https://scikit-learn.org/stable/modules/generated/sklearn.preprocessing.StandardScaler.html)\n",
        "- [sklearn.linear_model.LogisticRegressionCV](https://scikit-learn.org/stable/modules/generated/sklearn.linear_model.LogisticRegressionCV.html)"
      ]
    },
    {
      "cell_type": "code",
      "metadata": {
        "id": "qqRdjN4fxDm8",
        "outputId": "591e84f7-41a7-41e1-8258-cdc1437d0226",
        "colab": {
          "base_uri": "https://localhost:8080/",
          "height": 357
        }
      },
      "source": [
        "train.head(10)"
      ],
      "execution_count": 223,
      "outputs": [
        {
          "output_type": "execute_result",
          "data": {
            "text/html": [
              "<div>\n",
              "<style scoped>\n",
              "    .dataframe tbody tr th:only-of-type {\n",
              "        vertical-align: middle;\n",
              "    }\n",
              "\n",
              "    .dataframe tbody tr th {\n",
              "        vertical-align: top;\n",
              "    }\n",
              "\n",
              "    .dataframe thead th {\n",
              "        text-align: right;\n",
              "    }\n",
              "</style>\n",
              "<table border=\"1\" class=\"dataframe\">\n",
              "  <thead>\n",
              "    <tr style=\"text-align: right;\">\n",
              "      <th></th>\n",
              "      <th>PassengerId</th>\n",
              "      <th>Survived</th>\n",
              "      <th>Pclass</th>\n",
              "      <th>Name</th>\n",
              "      <th>Sex</th>\n",
              "      <th>Age</th>\n",
              "      <th>SibSp</th>\n",
              "      <th>Parch</th>\n",
              "      <th>Ticket</th>\n",
              "      <th>Fare</th>\n",
              "      <th>Cabin</th>\n",
              "      <th>Embarked</th>\n",
              "    </tr>\n",
              "  </thead>\n",
              "  <tbody>\n",
              "    <tr>\n",
              "      <th>199</th>\n",
              "      <td>200</td>\n",
              "      <td>0</td>\n",
              "      <td>2</td>\n",
              "      <td>Yrois, Miss. Henriette (\"Mrs Harbeck\")</td>\n",
              "      <td>female</td>\n",
              "      <td>24.0</td>\n",
              "      <td>0</td>\n",
              "      <td>0</td>\n",
              "      <td>248747</td>\n",
              "      <td>13.0000</td>\n",
              "      <td>NaN</td>\n",
              "      <td>S</td>\n",
              "    </tr>\n",
              "    <tr>\n",
              "      <th>129</th>\n",
              "      <td>130</td>\n",
              "      <td>0</td>\n",
              "      <td>3</td>\n",
              "      <td>Ekstrom, Mr. Johan</td>\n",
              "      <td>male</td>\n",
              "      <td>45.0</td>\n",
              "      <td>0</td>\n",
              "      <td>0</td>\n",
              "      <td>347061</td>\n",
              "      <td>6.9750</td>\n",
              "      <td>NaN</td>\n",
              "      <td>S</td>\n",
              "    </tr>\n",
              "    <tr>\n",
              "      <th>90</th>\n",
              "      <td>91</td>\n",
              "      <td>0</td>\n",
              "      <td>3</td>\n",
              "      <td>Christmann, Mr. Emil</td>\n",
              "      <td>male</td>\n",
              "      <td>29.0</td>\n",
              "      <td>0</td>\n",
              "      <td>0</td>\n",
              "      <td>343276</td>\n",
              "      <td>8.0500</td>\n",
              "      <td>NaN</td>\n",
              "      <td>S</td>\n",
              "    </tr>\n",
              "    <tr>\n",
              "      <th>230</th>\n",
              "      <td>231</td>\n",
              "      <td>1</td>\n",
              "      <td>1</td>\n",
              "      <td>Harris, Mrs. Henry Birkhardt (Irene Wallach)</td>\n",
              "      <td>female</td>\n",
              "      <td>35.0</td>\n",
              "      <td>1</td>\n",
              "      <td>0</td>\n",
              "      <td>36973</td>\n",
              "      <td>83.4750</td>\n",
              "      <td>C83</td>\n",
              "      <td>S</td>\n",
              "    </tr>\n",
              "    <tr>\n",
              "      <th>126</th>\n",
              "      <td>127</td>\n",
              "      <td>0</td>\n",
              "      <td>3</td>\n",
              "      <td>McMahon, Mr. Martin</td>\n",
              "      <td>male</td>\n",
              "      <td>NaN</td>\n",
              "      <td>0</td>\n",
              "      <td>0</td>\n",
              "      <td>370372</td>\n",
              "      <td>7.7500</td>\n",
              "      <td>NaN</td>\n",
              "      <td>Q</td>\n",
              "    </tr>\n",
              "    <tr>\n",
              "      <th>257</th>\n",
              "      <td>258</td>\n",
              "      <td>1</td>\n",
              "      <td>1</td>\n",
              "      <td>Cherry, Miss. Gladys</td>\n",
              "      <td>female</td>\n",
              "      <td>30.0</td>\n",
              "      <td>0</td>\n",
              "      <td>0</td>\n",
              "      <td>110152</td>\n",
              "      <td>86.5000</td>\n",
              "      <td>B77</td>\n",
              "      <td>S</td>\n",
              "    </tr>\n",
              "    <tr>\n",
              "      <th>163</th>\n",
              "      <td>164</td>\n",
              "      <td>0</td>\n",
              "      <td>3</td>\n",
              "      <td>Calic, Mr. Jovo</td>\n",
              "      <td>male</td>\n",
              "      <td>17.0</td>\n",
              "      <td>0</td>\n",
              "      <td>0</td>\n",
              "      <td>315093</td>\n",
              "      <td>8.6625</td>\n",
              "      <td>NaN</td>\n",
              "      <td>S</td>\n",
              "    </tr>\n",
              "    <tr>\n",
              "      <th>111</th>\n",
              "      <td>112</td>\n",
              "      <td>0</td>\n",
              "      <td>3</td>\n",
              "      <td>Zabour, Miss. Hileni</td>\n",
              "      <td>female</td>\n",
              "      <td>14.5</td>\n",
              "      <td>1</td>\n",
              "      <td>0</td>\n",
              "      <td>2665</td>\n",
              "      <td>14.4542</td>\n",
              "      <td>NaN</td>\n",
              "      <td>C</td>\n",
              "    </tr>\n",
              "    <tr>\n",
              "      <th>724</th>\n",
              "      <td>725</td>\n",
              "      <td>1</td>\n",
              "      <td>1</td>\n",
              "      <td>Chambers, Mr. Norman Campbell</td>\n",
              "      <td>male</td>\n",
              "      <td>27.0</td>\n",
              "      <td>1</td>\n",
              "      <td>0</td>\n",
              "      <td>113806</td>\n",
              "      <td>53.1000</td>\n",
              "      <td>E8</td>\n",
              "      <td>S</td>\n",
              "    </tr>\n",
              "    <tr>\n",
              "      <th>626</th>\n",
              "      <td>627</td>\n",
              "      <td>0</td>\n",
              "      <td>2</td>\n",
              "      <td>Kirkland, Rev. Charles Leonard</td>\n",
              "      <td>male</td>\n",
              "      <td>57.0</td>\n",
              "      <td>0</td>\n",
              "      <td>0</td>\n",
              "      <td>219533</td>\n",
              "      <td>12.3500</td>\n",
              "      <td>NaN</td>\n",
              "      <td>Q</td>\n",
              "    </tr>\n",
              "  </tbody>\n",
              "</table>\n",
              "</div>"
            ],
            "text/plain": [
              "     PassengerId  Survived  Pclass  ...     Fare Cabin  Embarked\n",
              "199          200         0       2  ...  13.0000   NaN         S\n",
              "129          130         0       3  ...   6.9750   NaN         S\n",
              "90            91         0       3  ...   8.0500   NaN         S\n",
              "230          231         1       1  ...  83.4750   C83         S\n",
              "126          127         0       3  ...   7.7500   NaN         Q\n",
              "257          258         1       1  ...  86.5000   B77         S\n",
              "163          164         0       3  ...   8.6625   NaN         S\n",
              "111          112         0       3  ...  14.4542   NaN         C\n",
              "724          725         1       1  ...  53.1000    E8         S\n",
              "626          627         0       2  ...  12.3500   NaN         Q\n",
              "\n",
              "[10 rows x 12 columns]"
            ]
          },
          "metadata": {
            "tags": []
          },
          "execution_count": 223
        }
      ]
    },
    {
      "cell_type": "code",
      "metadata": {
        "id": "vk_iKXosjFU6",
        "outputId": "d03d617d-ffd3-472b-cca7-faf7451c0163",
        "colab": {
          "base_uri": "https://localhost:8080/"
        }
      },
      "source": [
        "pip install category_encoders"
      ],
      "execution_count": 224,
      "outputs": [
        {
          "output_type": "stream",
          "text": [
            "Requirement already satisfied: category_encoders in /usr/local/lib/python3.7/dist-packages (2.2.2)\n",
            "Requirement already satisfied: numpy>=1.14.0 in /usr/local/lib/python3.7/dist-packages (from category_encoders) (1.19.5)\n",
            "Requirement already satisfied: pandas>=0.21.1 in /usr/local/lib/python3.7/dist-packages (from category_encoders) (1.1.5)\n",
            "Requirement already satisfied: patsy>=0.5.1 in /usr/local/lib/python3.7/dist-packages (from category_encoders) (0.5.1)\n",
            "Requirement already satisfied: scipy>=1.0.0 in /usr/local/lib/python3.7/dist-packages (from category_encoders) (1.4.1)\n",
            "Requirement already satisfied: scikit-learn>=0.20.0 in /usr/local/lib/python3.7/dist-packages (from category_encoders) (0.22.2.post1)\n",
            "Requirement already satisfied: statsmodels>=0.9.0 in /usr/local/lib/python3.7/dist-packages (from category_encoders) (0.10.2)\n",
            "Requirement already satisfied: pytz>=2017.2 in /usr/local/lib/python3.7/dist-packages (from pandas>=0.21.1->category_encoders) (2018.9)\n",
            "Requirement already satisfied: python-dateutil>=2.7.3 in /usr/local/lib/python3.7/dist-packages (from pandas>=0.21.1->category_encoders) (2.8.1)\n",
            "Requirement already satisfied: six in /usr/local/lib/python3.7/dist-packages (from patsy>=0.5.1->category_encoders) (1.15.0)\n",
            "Requirement already satisfied: joblib>=0.11 in /usr/local/lib/python3.7/dist-packages (from scikit-learn>=0.20.0->category_encoders) (1.0.1)\n"
          ],
          "name": "stdout"
        }
      ]
    },
    {
      "cell_type": "code",
      "metadata": {
        "id": "YZwVOJzuxDm9"
      },
      "source": [
        "from category_encoders import OneHotEncoder ## sklearn에도 onehotencoder가 있지만, category_encoders에 있는 onehotencoder가 더 좋아서 이렇게 사용하게 됨.\n",
        "from sklearn.impute import SimpleImputer\n",
        "from sklearn.linear_model import LogisticRegression\n",
        "from sklearn.preprocessing import StandardScaler\n",
        "\n",
        "features = ['Pclass', 'Sex', 'Age', 'SibSp', 'Parch', 'Fare', 'Embarked']\n",
        "target = 'Survived'\n",
        "\n",
        "X_train = train[features]\n",
        "y_train = train[target]\n",
        "\n",
        "X_val = val[features]\n",
        "y_val = val[target]\n",
        "\n",
        " "
      ],
      "execution_count": 225,
      "outputs": []
    },
    {
      "cell_type": "code",
      "metadata": {
        "id": "4YhObnv9xDm9",
        "outputId": "5d30e570-fdc1-4516-f6dc-89c86861445e",
        "colab": {
          "base_uri": "https://localhost:8080/",
          "height": 142
        }
      },
      "source": [
        "X_train.head(3)"
      ],
      "execution_count": 226,
      "outputs": [
        {
          "output_type": "execute_result",
          "data": {
            "text/html": [
              "<div>\n",
              "<style scoped>\n",
              "    .dataframe tbody tr th:only-of-type {\n",
              "        vertical-align: middle;\n",
              "    }\n",
              "\n",
              "    .dataframe tbody tr th {\n",
              "        vertical-align: top;\n",
              "    }\n",
              "\n",
              "    .dataframe thead th {\n",
              "        text-align: right;\n",
              "    }\n",
              "</style>\n",
              "<table border=\"1\" class=\"dataframe\">\n",
              "  <thead>\n",
              "    <tr style=\"text-align: right;\">\n",
              "      <th></th>\n",
              "      <th>Pclass</th>\n",
              "      <th>Sex</th>\n",
              "      <th>Age</th>\n",
              "      <th>SibSp</th>\n",
              "      <th>Parch</th>\n",
              "      <th>Fare</th>\n",
              "      <th>Embarked</th>\n",
              "    </tr>\n",
              "  </thead>\n",
              "  <tbody>\n",
              "    <tr>\n",
              "      <th>199</th>\n",
              "      <td>2</td>\n",
              "      <td>female</td>\n",
              "      <td>24.0</td>\n",
              "      <td>0</td>\n",
              "      <td>0</td>\n",
              "      <td>13.000</td>\n",
              "      <td>S</td>\n",
              "    </tr>\n",
              "    <tr>\n",
              "      <th>129</th>\n",
              "      <td>3</td>\n",
              "      <td>male</td>\n",
              "      <td>45.0</td>\n",
              "      <td>0</td>\n",
              "      <td>0</td>\n",
              "      <td>6.975</td>\n",
              "      <td>S</td>\n",
              "    </tr>\n",
              "    <tr>\n",
              "      <th>90</th>\n",
              "      <td>3</td>\n",
              "      <td>male</td>\n",
              "      <td>29.0</td>\n",
              "      <td>0</td>\n",
              "      <td>0</td>\n",
              "      <td>8.050</td>\n",
              "      <td>S</td>\n",
              "    </tr>\n",
              "  </tbody>\n",
              "</table>\n",
              "</div>"
            ],
            "text/plain": [
              "     Pclass     Sex   Age  SibSp  Parch    Fare Embarked\n",
              "199       2  female  24.0      0      0  13.000        S\n",
              "129       3    male  45.0      0      0   6.975        S\n",
              "90        3    male  29.0      0      0   8.050        S"
            ]
          },
          "metadata": {
            "tags": []
          },
          "execution_count": 226
        }
      ]
    },
    {
      "cell_type": "markdown",
      "metadata": {
        "id": "iYIq8mPRxDm-"
      },
      "source": [
        "#### 원핫인코딩을 수행합니다."
      ]
    },
    {
      "cell_type": "code",
      "metadata": {
        "id": "-P1SYLg8xDm-",
        "outputId": "2d230446-4979-49b6-9815-6a84012857cc",
        "colab": {
          "base_uri": "https://localhost:8080/",
          "height": 177
        }
      },
      "source": [
        "encoder = OneHotEncoder(use_cat_names=True) # use_cat_names=True -> 특성의 각 범주들의 이름을 column명에 다 사용해준다. ex) Sex_female 심지어, 결측치도 표시됨. Embarked_nan -> 이런 것이 \n",
        "                                            # category_encoder를 사용하는 이유 \n",
        "X_train_encoded = encoder.fit_transform(X_train) # fit_transform()은 fit하고 transform 하는 함수를 연달아 호출해서 사용하는 함수이다. \n",
        "X_val_encoded = encoder.transform(X_val) # X_val는 fit을 하지 않고 transform을 바로 해주는 이유는 훈련 데이터 수행한 encoding방법과 똑같은 방법으로 검증 데이터를 인코딩하고 싶기 때문. \n",
        "                                         # 검증 데이터에도 fit_transform()을 사용하면 검증 데이터에서 범주형의 차이가 발생하면 문제가 될 수 있다.\n",
        "X_train_encoded.head(3)"
      ],
      "execution_count": 248,
      "outputs": [
        {
          "output_type": "stream",
          "text": [
            "/usr/local/lib/python3.7/dist-packages/category_encoders/utils.py:21: FutureWarning: is_categorical is deprecated and will be removed in a future version.  Use is_categorical_dtype instead\n",
            "  elif pd.api.types.is_categorical(cols):\n"
          ],
          "name": "stderr"
        },
        {
          "output_type": "execute_result",
          "data": {
            "text/html": [
              "<div>\n",
              "<style scoped>\n",
              "    .dataframe tbody tr th:only-of-type {\n",
              "        vertical-align: middle;\n",
              "    }\n",
              "\n",
              "    .dataframe tbody tr th {\n",
              "        vertical-align: top;\n",
              "    }\n",
              "\n",
              "    .dataframe thead th {\n",
              "        text-align: right;\n",
              "    }\n",
              "</style>\n",
              "<table border=\"1\" class=\"dataframe\">\n",
              "  <thead>\n",
              "    <tr style=\"text-align: right;\">\n",
              "      <th></th>\n",
              "      <th>Pclass</th>\n",
              "      <th>Sex_female</th>\n",
              "      <th>Sex_male</th>\n",
              "      <th>Age</th>\n",
              "      <th>SibSp</th>\n",
              "      <th>Parch</th>\n",
              "      <th>Fare</th>\n",
              "      <th>Embarked_S</th>\n",
              "      <th>Embarked_Q</th>\n",
              "      <th>Embarked_C</th>\n",
              "      <th>Embarked_nan</th>\n",
              "    </tr>\n",
              "  </thead>\n",
              "  <tbody>\n",
              "    <tr>\n",
              "      <th>199</th>\n",
              "      <td>2</td>\n",
              "      <td>1</td>\n",
              "      <td>0</td>\n",
              "      <td>24.0</td>\n",
              "      <td>0</td>\n",
              "      <td>0</td>\n",
              "      <td>13.000</td>\n",
              "      <td>1</td>\n",
              "      <td>0</td>\n",
              "      <td>0</td>\n",
              "      <td>0</td>\n",
              "    </tr>\n",
              "    <tr>\n",
              "      <th>129</th>\n",
              "      <td>3</td>\n",
              "      <td>0</td>\n",
              "      <td>1</td>\n",
              "      <td>45.0</td>\n",
              "      <td>0</td>\n",
              "      <td>0</td>\n",
              "      <td>6.975</td>\n",
              "      <td>1</td>\n",
              "      <td>0</td>\n",
              "      <td>0</td>\n",
              "      <td>0</td>\n",
              "    </tr>\n",
              "    <tr>\n",
              "      <th>90</th>\n",
              "      <td>3</td>\n",
              "      <td>0</td>\n",
              "      <td>1</td>\n",
              "      <td>29.0</td>\n",
              "      <td>0</td>\n",
              "      <td>0</td>\n",
              "      <td>8.050</td>\n",
              "      <td>1</td>\n",
              "      <td>0</td>\n",
              "      <td>0</td>\n",
              "      <td>0</td>\n",
              "    </tr>\n",
              "  </tbody>\n",
              "</table>\n",
              "</div>"
            ],
            "text/plain": [
              "     Pclass  Sex_female  Sex_male  ...  Embarked_Q  Embarked_C  Embarked_nan\n",
              "199       2           1         0  ...           0           0             0\n",
              "129       3           0         1  ...           0           0             0\n",
              "90        3           0         1  ...           0           0             0\n",
              "\n",
              "[3 rows x 11 columns]"
            ]
          },
          "metadata": {
            "tags": []
          },
          "execution_count": 248
        }
      ]
    },
    {
      "cell_type": "markdown",
      "metadata": {
        "id": "Gn0gH4Z1xDm-"
      },
      "source": [
        "#### 결측치를 평균으로 변환합니다."
      ]
    },
    {
      "cell_type": "code",
      "metadata": {
        "id": "eFQkf1G0xDm-"
      },
      "source": [
        "imputer = SimpleImputer(strategy='mean')\n",
        "X_train_imputed = imputer.fit_transform(X_train_encoded)\n",
        "X_val_imputed = imputer.transform(X_val_encoded)"
      ],
      "execution_count": 228,
      "outputs": []
    },
    {
      "cell_type": "code",
      "metadata": {
        "id": "bMTPV-LhxDm_",
        "outputId": "83eae4f0-5b3f-4970-fea9-0f15d39212ec",
        "colab": {
          "base_uri": "https://localhost:8080/"
        }
      },
      "source": [
        "X_val_imputed[:5]"
      ],
      "execution_count": 255,
      "outputs": [
        {
          "output_type": "stream",
          "text": [
            "(668, 11) (668, 11)\n"
          ],
          "name": "stdout"
        },
        {
          "output_type": "execute_result",
          "data": {
            "text/plain": [
              "array([[ 1.    ,  0.    ,  1.    , 42.    ,  0.    ,  0.    , 26.2875,\n",
              "         1.    ,  0.    ,  0.    ,  0.    ],\n",
              "       [ 3.    ,  0.    ,  1.    , 21.    ,  0.    ,  0.    ,  8.05  ,\n",
              "         1.    ,  0.    ,  0.    ,  0.    ],\n",
              "       [ 2.    ,  1.    ,  0.    , 24.    ,  1.    ,  2.    , 65.    ,\n",
              "         1.    ,  0.    ,  0.    ,  0.    ],\n",
              "       [ 3.    ,  0.    ,  1.    , 28.    ,  0.    ,  0.    , 56.4958,\n",
              "         1.    ,  0.    ,  0.    ,  0.    ],\n",
              "       [ 3.    ,  1.    ,  0.    , 17.    ,  4.    ,  2.    ,  7.925 ,\n",
              "         1.    ,  0.    ,  0.    ,  0.    ]])"
            ]
          },
          "metadata": {
            "tags": []
          },
          "execution_count": 255
        }
      ]
    },
    {
      "cell_type": "markdown",
      "metadata": {
        "id": "kXneIlVZxDm_"
      },
      "source": [
        "#### 특성값들을 표준화 합니다."
      ]
    },
    {
      "cell_type": "code",
      "metadata": {
        "id": "epQlvA3nxDm_"
      },
      "source": [
        "scaler = StandardScaler()\n",
        "X_train_scaled = scaler.fit_transform(X_train_imputed)\n",
        "X_val_scaled = scaler.transform(X_val_imputed)"
      ],
      "execution_count": 230,
      "outputs": []
    },
    {
      "cell_type": "code",
      "metadata": {
        "id": "cm0p4PckxDm_",
        "outputId": "2166cab0-cd88-48f8-9a95-5d091f78fcea",
        "colab": {
          "base_uri": "https://localhost:8080/"
        }
      },
      "source": [
        "X_train_scaled"
      ],
      "execution_count": 254,
      "outputs": [
        {
          "output_type": "execute_result",
          "data": {
            "text/plain": [
              "array([[-0.36411341,  1.33976829, -1.33976829, ..., -0.32832052,\n",
              "        -0.50327259, -0.05479966],\n",
              "       [ 0.83405288, -0.74639772,  0.74639772, ..., -0.32832052,\n",
              "        -0.50327259, -0.05479966],\n",
              "       [ 0.83405288, -0.74639772,  0.74639772, ..., -0.32832052,\n",
              "        -0.50327259, -0.05479966],\n",
              "       ...,\n",
              "       [-1.56227969, -0.74639772,  0.74639772, ..., -0.32832052,\n",
              "         1.98699475, -0.05479966],\n",
              "       [-1.56227969, -0.74639772,  0.74639772, ..., -0.32832052,\n",
              "        -0.50327259, -0.05479966],\n",
              "       [-1.56227969, -0.74639772,  0.74639772, ..., -0.32832052,\n",
              "        -0.50327259, -0.05479966]])"
            ]
          },
          "metadata": {
            "tags": []
          },
          "execution_count": 254
        }
      ]
    },
    {
      "cell_type": "markdown",
      "metadata": {
        "id": "3D0wrqQDxDnA"
      },
      "source": [
        "평균은 0, 표준편차는 1로 표준화 되었습니다."
      ]
    },
    {
      "cell_type": "code",
      "metadata": {
        "id": "tzc6HWudxDnA",
        "outputId": "5f1d95ec-377b-4aff-b4d7-76c273d9fa81",
        "colab": {
          "base_uri": "https://localhost:8080/"
        }
      },
      "source": [
        "X_train_scaled.T[0].mean(), X_train_scaled.T[0].std()"
      ],
      "execution_count": 232,
      "outputs": [
        {
          "output_type": "execute_result",
          "data": {
            "text/plain": [
              "(1.1168710666887802e-16, 1.0000000000000002)"
            ]
          },
          "metadata": {
            "tags": []
          },
          "execution_count": 232
        }
      ]
    },
    {
      "cell_type": "code",
      "metadata": {
        "id": "nAqDX9n1xDnA",
        "outputId": "09ea5590-e8fe-481f-e3a5-676aa84abde2",
        "colab": {
          "base_uri": "https://localhost:8080/"
        }
      },
      "source": [
        "model = LogisticRegression(random_state=1)\n",
        "model.fit(X_train_scaled, y_train)"
      ],
      "execution_count": 233,
      "outputs": [
        {
          "output_type": "execute_result",
          "data": {
            "text/plain": [
              "LogisticRegression(C=1.0, class_weight=None, dual=False, fit_intercept=True,\n",
              "                   intercept_scaling=1, l1_ratio=None, max_iter=100,\n",
              "                   multi_class='auto', n_jobs=None, penalty='l2',\n",
              "                   random_state=1, solver='lbfgs', tol=0.0001, verbose=0,\n",
              "                   warm_start=False)"
            ]
          },
          "metadata": {
            "tags": []
          },
          "execution_count": 233
        }
      ]
    },
    {
      "cell_type": "code",
      "metadata": {
        "id": "VHYsD3chxDnB",
        "outputId": "cc3ef27f-3615-4f6f-fdee-08a88923c8d3",
        "colab": {
          "base_uri": "https://localhost:8080/"
        }
      },
      "source": [
        "y_pred = model.predict(X_val_scaled)\n",
        "accuracy_score(y_val, y_pred) # 3개의 특성을 통해 학습한 것보다 더 좋은 성능을 보인 것을 확인할 수 있었다."
      ],
      "execution_count": 234,
      "outputs": [
        {
          "output_type": "execute_result",
          "data": {
            "text/plain": [
              "0.7892376681614349"
            ]
          },
          "metadata": {
            "tags": []
          },
          "execution_count": 234
        }
      ]
    },
    {
      "cell_type": "markdown",
      "metadata": {
        "id": "XsbYFGxoxDnB"
      },
      "source": [
        "계수들을 확인해 봅시다."
      ]
    },
    {
      "cell_type": "code",
      "metadata": {
        "id": "Qmpr7C8VxDnB",
        "outputId": "fc943b48-e422-478a-bcc5-9de8c9beae08",
        "colab": {
          "base_uri": "https://localhost:8080/"
        }
      },
      "source": [
        "coefficients = pd.Series(model.coef_[0], X_train_encoded.columns)\n",
        "coefficients"
      ],
      "execution_count": 235,
      "outputs": [
        {
          "output_type": "execute_result",
          "data": {
            "text/plain": [
              "Pclass         -0.915833\n",
              "Sex_female      0.662095\n",
              "Sex_male       -0.662095\n",
              "Age            -0.559957\n",
              "SibSp          -0.406466\n",
              "Parch          -0.015897\n",
              "Fare            0.078016\n",
              "Embarked_S     -0.094939\n",
              "Embarked_Q      0.007684\n",
              "Embarked_C      0.077224\n",
              "Embarked_nan    0.188837\n",
              "dtype: float64"
            ]
          },
          "metadata": {
            "tags": []
          },
          "execution_count": 235
        }
      ]
    },
    {
      "cell_type": "markdown",
      "metadata": {
        "id": "buXBx4PZxDnC"
      },
      "source": [
        "좌석의 등급이 고급일수록, 나이가 어릴 수록, 남성보다는 여성의 생존이 더 높아짐을 계수들의 수치로 확인 할 수 있습니다."
      ]
    },
    {
      "cell_type": "code",
      "metadata": {
        "id": "9iftoqhoxDnC",
        "outputId": "cb71804c-3d27-4cf5-cce7-a7247a19964c",
        "colab": {
          "base_uri": "https://localhost:8080/",
          "height": 265
        }
      },
      "source": [
        "coefficients.sort_values().plot.barh(); # sort_values() -> series or dataframe 정렬 (ascending = True -> default (오름차순))"
      ],
      "execution_count": 261,
      "outputs": [
        {
          "output_type": "display_data",
          "data": {
            "image/png": "[encoded data removed]",
            "text/plain": [
              "<Figure size 432x288 with 1 Axes>"
            ]
          },
          "metadata": {
            "tags": [],
            "needs_background": "light"
          }
        }
      ]
    },
    {
      "cell_type": "code",
      "metadata": {
        "id": "i4JAfMruxDnC",
        "outputId": "aa137499-4e8e-4463-f1ba-a75fee5e3ad9",
        "colab": {
          "base_uri": "https://localhost:8080/"
        }
      },
      "source": [
        "# 절편(intercept)은 마이너스로 모든 특성이 0인 경우 생존하지 못할 가능성이 높다고 알려주긴 하지만 \n",
        "# 사실 관측할 수 없는 예시로 해석이 크게 유용하지 않습니다.\n",
        "model.intercept_"
      ],
      "execution_count": 237,
      "outputs": [
        {
          "output_type": "execute_result",
          "data": {
            "text/plain": [
              "array([-0.71320882])"
            ]
          },
          "metadata": {
            "tags": []
          },
          "execution_count": 237
        }
      ]
    },
    {
      "cell_type": "markdown",
      "metadata": {
        "id": "uUDFloGpxDnC"
      },
      "source": [
        "여러분이 만든 모델을 테스트세트에 적용시켜 예측해 보고 [Kaggle](https://www.kaggle.com/c/titanic) 에 제출해 봅시다."
      ]
    },
    {
      "cell_type": "code",
      "metadata": {
        "id": "qh8A2ZA_xDnD"
      },
      "source": [
        "X_test = test[features]\n",
        "X_test_encoded = encoder.transform(X_test)\n",
        "X_test_imputed = imputer.transform(X_test_encoded)\n",
        "X_test_scaled = scaler.transform(X_test_imputed)\n",
        "\n",
        "y_pred_test = model.predict(X_test_scaled)"
      ],
      "execution_count": 238,
      "outputs": []
    },
    {
      "cell_type": "code",
      "metadata": {
        "id": "5OlcqFZlxDnF",
        "outputId": "bc821f83-2da5-4625-c29c-888affcf6b7b",
        "colab": {
          "base_uri": "https://localhost:8080/"
        }
      },
      "source": [
        "y_pred_test"
      ],
      "execution_count": 239,
      "outputs": [
        {
          "output_type": "execute_result",
          "data": {
            "text/plain": [
              "array([0, 0, 0, 0, 1, 0, 1, 0, 1, 0, 0, 0, 1, 0, 1, 1, 0, 0, 1, 1, 0, 0,\n",
              "       1, 1, 1, 0, 1, 0, 0, 0, 0, 0, 0, 0, 0, 0, 1, 1, 0, 0, 0, 0, 0, 1,\n",
              "       1, 0, 0, 0, 1, 1, 0, 0, 1, 1, 0, 0, 0, 0, 0, 1, 0, 0, 0, 1, 1, 1,\n",
              "       1, 0, 1, 1, 1, 0, 1, 1, 1, 1, 0, 1, 0, 1, 0, 0, 0, 0, 0, 0, 1, 1,\n",
              "       1, 0, 1, 0, 1, 0, 1, 0, 1, 0, 1, 0, 1, 0, 0, 0, 1, 0, 0, 0, 0, 0,\n",
              "       0, 1, 1, 1, 1, 0, 0, 1, 0, 1, 1, 0, 1, 0, 0, 1, 0, 0, 0, 0, 0, 0,\n",
              "       1, 0, 0, 0, 0, 0, 1, 0, 0, 1, 0, 0, 0, 0, 0, 0, 0, 0, 1, 0, 0, 1,\n",
              "       0, 0, 1, 1, 0, 1, 1, 0, 1, 0, 0, 1, 0, 0, 1, 1, 0, 0, 0, 0, 0, 1,\n",
              "       1, 0, 1, 1, 0, 0, 1, 0, 1, 0, 1, 0, 0, 0, 0, 0, 0, 0, 0, 0, 1, 1,\n",
              "       0, 1, 1, 0, 0, 1, 0, 1, 1, 0, 1, 0, 0, 0, 0, 0, 0, 0, 1, 0, 1, 0,\n",
              "       1, 0, 1, 0, 1, 1, 0, 1, 0, 0, 0, 1, 0, 0, 0, 0, 0, 0, 1, 1, 1, 1,\n",
              "       0, 0, 0, 0, 1, 0, 1, 1, 1, 0, 1, 0, 0, 0, 0, 0, 1, 0, 0, 0, 1, 1,\n",
              "       0, 0, 0, 0, 1, 0, 0, 0, 1, 1, 0, 1, 0, 0, 0, 0, 1, 0, 1, 1, 1, 0,\n",
              "       0, 0, 0, 0, 0, 1, 0, 0, 0, 0, 1, 0, 0, 0, 0, 0, 0, 0, 1, 1, 0, 0,\n",
              "       0, 0, 0, 0, 0, 1, 1, 1, 0, 0, 0, 0, 0, 0, 0, 0, 1, 0, 1, 0, 0, 0,\n",
              "       1, 0, 0, 1, 0, 0, 0, 0, 0, 0, 0, 0, 0, 1, 0, 1, 0, 1, 0, 1, 1, 0,\n",
              "       0, 0, 1, 0, 1, 0, 0, 0, 0, 1, 1, 0, 1, 0, 0, 1, 1, 0, 0, 1, 0, 0,\n",
              "       1, 1, 0, 0, 0, 0, 0, 0, 1, 1, 0, 1, 0, 0, 0, 0, 1, 1, 0, 0, 0, 1,\n",
              "       0, 1, 0, 0, 1, 0, 1, 1, 0, 0, 0, 0, 1, 1, 1, 1, 1, 0, 1, 0, 0, 0])"
            ]
          },
          "metadata": {
            "tags": []
          },
          "execution_count": 239
        }
      ]
    },
    {
      "cell_type": "code",
      "metadata": {
        "id": "hazHOrhIxDnF"
      },
      "source": [
        "submission = test[['PassengerId']].copy()\n",
        "submission['Survived'] = y_pred_test"
      ],
      "execution_count": 240,
      "outputs": []
    },
    {
      "cell_type": "code",
      "metadata": {
        "id": "nXRARSt1xDnG",
        "outputId": "6d1c563b-8383-4d14-a726-850d7a3087f3",
        "colab": {
          "base_uri": "https://localhost:8080/",
          "height": 417
        }
      },
      "source": [
        "submission"
      ],
      "execution_count": 241,
      "outputs": [
        {
          "output_type": "execute_result",
          "data": {
            "text/html": [
              "<div>\n",
              "<style scoped>\n",
              "    .dataframe tbody tr th:only-of-type {\n",
              "        vertical-align: middle;\n",
              "    }\n",
              "\n",
              "    .dataframe tbody tr th {\n",
              "        vertical-align: top;\n",
              "    }\n",
              "\n",
              "    .dataframe thead th {\n",
              "        text-align: right;\n",
              "    }\n",
              "</style>\n",
              "<table border=\"1\" class=\"dataframe\">\n",
              "  <thead>\n",
              "    <tr style=\"text-align: right;\">\n",
              "      <th></th>\n",
              "      <th>PassengerId</th>\n",
              "      <th>Survived</th>\n",
              "    </tr>\n",
              "  </thead>\n",
              "  <tbody>\n",
              "    <tr>\n",
              "      <th>0</th>\n",
              "      <td>892</td>\n",
              "      <td>0</td>\n",
              "    </tr>\n",
              "    <tr>\n",
              "      <th>1</th>\n",
              "      <td>893</td>\n",
              "      <td>0</td>\n",
              "    </tr>\n",
              "    <tr>\n",
              "      <th>2</th>\n",
              "      <td>894</td>\n",
              "      <td>0</td>\n",
              "    </tr>\n",
              "    <tr>\n",
              "      <th>3</th>\n",
              "      <td>895</td>\n",
              "      <td>0</td>\n",
              "    </tr>\n",
              "    <tr>\n",
              "      <th>4</th>\n",
              "      <td>896</td>\n",
              "      <td>1</td>\n",
              "    </tr>\n",
              "    <tr>\n",
              "      <th>...</th>\n",
              "      <td>...</td>\n",
              "      <td>...</td>\n",
              "    </tr>\n",
              "    <tr>\n",
              "      <th>413</th>\n",
              "      <td>1305</td>\n",
              "      <td>0</td>\n",
              "    </tr>\n",
              "    <tr>\n",
              "      <th>414</th>\n",
              "      <td>1306</td>\n",
              "      <td>1</td>\n",
              "    </tr>\n",
              "    <tr>\n",
              "      <th>415</th>\n",
              "      <td>1307</td>\n",
              "      <td>0</td>\n",
              "    </tr>\n",
              "    <tr>\n",
              "      <th>416</th>\n",
              "      <td>1308</td>\n",
              "      <td>0</td>\n",
              "    </tr>\n",
              "    <tr>\n",
              "      <th>417</th>\n",
              "      <td>1309</td>\n",
              "      <td>0</td>\n",
              "    </tr>\n",
              "  </tbody>\n",
              "</table>\n",
              "<p>418 rows × 2 columns</p>\n",
              "</div>"
            ],
            "text/plain": [
              "     PassengerId  Survived\n",
              "0            892         0\n",
              "1            893         0\n",
              "2            894         0\n",
              "3            895         0\n",
              "4            896         1\n",
              "..           ...       ...\n",
              "413         1305         0\n",
              "414         1306         1\n",
              "415         1307         0\n",
              "416         1308         0\n",
              "417         1309         0\n",
              "\n",
              "[418 rows x 2 columns]"
            ]
          },
          "metadata": {
            "tags": []
          },
          "execution_count": 241
        }
      ]
    },
    {
      "cell_type": "code",
      "metadata": {
        "id": "ohhZ2zlgxDnG"
      },
      "source": [
        "submission.to_csv('submission_titanic.csv', index=False)"
      ],
      "execution_count": 242,
      "outputs": []
    },
    {
      "cell_type": "markdown",
      "metadata": {
        "id": "DPRLcOWyxDnH"
      },
      "source": [
        "## 참고자료\n",
        "\n",
        "#### Logistic Regression\n",
        "- [5 Reasons “Logistic Regression” should be the first thing you learn when becoming a Data Scientist](https://towardsdatascience.com/5-reasons-logistic-regression-should-be-the-first-thing-you-learn-when-become-a-data-scientist-fcaae46605c4)\n",
        "- [Logistic Regression Details Pt1: Coefficients](https://youtu.be/vN5cNN2-HWE)\n",
        "- [Logistic Regression Details Pt 2: Maximum Likelihood](https://youtu.be/BfKanl1aSG0)\n",
        "- [Probability of passing an exam versus hours of study](https://en.wikipedia.org/wiki/Logistic_regression#Probability_of_passing_an_exam_versus_hours_of_study)\n",
        "\n",
        "\n",
        "#### Cross Validation\n",
        "\n",
        "- [Training, Validation, and Testing Data Sets](https://end-to-end-machine-learning.teachable.com/blog/146320/training-validation-testing-data-sets)\n",
        "- [R for Data Science](https://r4ds.had.co.nz/model-intro.html#hypothesis-generation-vs.hypothesis-confirmation), Hypothesis generation vs. hypothesis confirmation\n",
        "-[How (and why) to create a good validation set](https://www.fast.ai/2017/11/13/validation-sets/)\n",
        "-[Model Evaluation](https://sebastianraschka.com/blog/2018/model-evaluation-selection-part4.html)\n",
        "-[A baseline for classification can be the most common class in the training dataset](https://twitter.com/koehrsen_will/status/1088863527778111488)"
      ]
    }
  ]
}