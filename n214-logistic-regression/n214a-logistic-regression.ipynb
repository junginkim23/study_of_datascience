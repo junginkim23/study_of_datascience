{
  "nbformat": 4,
  "nbformat_minor": 0,
  "metadata": {
    "kernelspec": {
      "display_name": "Python 3",
      "language": "python",
      "name": "python3"
    },
    "language_info": {
      "codemirror_mode": {
        "name": "ipython",
        "version": 3
      },
      "file_extension": ".py",
      "mimetype": "text/x-python",
      "name": "python",
      "nbconvert_exporter": "python",
      "pygments_lexer": "ipython3",
      "version": "3.7.7"
    },
    "colab": {
      "name": "n214a-logistic-regression.ipynb",
      "provenance": []
    }
  },
  "cells": [
    {
      "cell_type": "markdown",
      "metadata": {
        "id": "-_DTq_hSyYMx"
      },
      "source": [
        "<img align=\"right\" src=\"https://ds-cs-images.s3.ap-northeast-2.amazonaws.com/Codestates_Fulllogo_Color.png\" width=100>\n",
        "\n",
        "## *DATA SCIENCE / SECTION 2 / SPRINT 1 / NOTE 4*\n",
        "\n",
        "# 📝 Assignment\n",
        "---"
      ]
    },
    {
      "cell_type": "markdown",
      "metadata": {
        "id": "7IXUfiQ2UKj6"
      },
      "source": [
        "# Logistic Regression\n",
        "\n",
        "이번에는 [**Cardiovascular Disease dataset**](https://www.kaggle.com/sulianova/cardiovascular-disease-dataset) 데이터셋을 사용해 봅시다. 데이터에 대한 설명을 캐글 페이지에서 잘 살펴보시고 과제를 진행해 주세요!"
      ]
    },
    {
      "cell_type": "markdown",
      "metadata": {
        "id": "iTtTRuzYyYM1"
      },
      "source": [
        "### 1) 데이터를 전처리 하겠습니다.\n",
        "- 데이터를 불러오세요.(read_csv 사용)\n",
        "- id 칼럼은 drop하세요.\n",
        "- missing value를 확인하세요.\n",
        "- 중복된 샘플이 있는지 확인하세요.\n",
        "- **중복된 샘플을 제거하고 남은 샘플의 수를 과제 제출폼에 제출하세요.**"
      ]
    },
    {
      "cell_type": "markdown",
      "metadata": {
        "id": "6BYzV3MJ0TpL"
      },
      "source": [
        "## Data description\n",
        "There are 3 types of input features:\n",
        "\n",
        "##### Objective: factual information;\n",
        "#####Examination: results of medical examination;\n",
        "#####Subjective: information given by the patient.\n",
        "\n",
        ">Features:\n",
        "1. Age | Objective Feature | age | int (days)\n",
        "2. Height | Objective Feature | height | int (cm) |\n",
        "3. Weight | Objective Feature | weight | float (kg) |\n",
        "4. Gender | Objective Feature | gender | categorical code |\n",
        "5. Systolic blood pressure | Examination Feature | ap_hi | int |\n",
        "6. Diastolic blood pressure | Examination Feature | ap_lo | int |\n",
        "7. Cholesterol | Examination Feature | cholesterol | 1: normal, 2: above normal, 3: well above normal |\n",
        "8. Glucose | Examination Feature | gluc | 1: normal, 2: above normal, 3: well above normal |\n",
        "9. Smoking | Subjective Feature | smoke | binary |\n",
        "10. Alcohol intake | Subjective Feature | alco | binary |\n",
        "11. Physical activity | Subjective Feature | active | binary |\n",
        "12. Presence or absence of cardiovascular disease | Target Variable | cardio | binary |\n",
        "\n",
        "cardiovascular disease : 심장과 주요 동맥에 발생하는 질환\n",
        "\n",
        "**All of the dataset values were collected at the moment of medical examination.**"
      ]
    },
    {
      "cell_type": "code",
      "metadata": {
        "id": "FjPg1itayYM2"
      },
      "source": [
        "import pandas as pd\n",
        "df = pd.read_csv('https://ds-lecture-data.s3.ap-northeast-2.amazonaws.com/cardio/cardio_train.csv', sep=';')"
      ],
      "execution_count": 70,
      "outputs": []
    },
    {
      "cell_type": "code",
      "metadata": {
        "id": "_PGsc_HRyYM3",
        "colab": {
          "base_uri": "https://localhost:8080/",
          "height": 202
        },
        "outputId": "14b384a2-f15f-42e9-b261-4d0215443683"
      },
      "source": [
        "df.head()"
      ],
      "execution_count": 71,
      "outputs": [
        {
          "output_type": "execute_result",
          "data": {
            "text/html": [
              "<div>\n",
              "<style scoped>\n",
              "    .dataframe tbody tr th:only-of-type {\n",
              "        vertical-align: middle;\n",
              "    }\n",
              "\n",
              "    .dataframe tbody tr th {\n",
              "        vertical-align: top;\n",
              "    }\n",
              "\n",
              "    .dataframe thead th {\n",
              "        text-align: right;\n",
              "    }\n",
              "</style>\n",
              "<table border=\"1\" class=\"dataframe\">\n",
              "  <thead>\n",
              "    <tr style=\"text-align: right;\">\n",
              "      <th></th>\n",
              "      <th>id</th>\n",
              "      <th>age</th>\n",
              "      <th>gender</th>\n",
              "      <th>height</th>\n",
              "      <th>weight</th>\n",
              "      <th>ap_hi</th>\n",
              "      <th>ap_lo</th>\n",
              "      <th>cholesterol</th>\n",
              "      <th>gluc</th>\n",
              "      <th>smoke</th>\n",
              "      <th>alco</th>\n",
              "      <th>active</th>\n",
              "      <th>cardio</th>\n",
              "    </tr>\n",
              "  </thead>\n",
              "  <tbody>\n",
              "    <tr>\n",
              "      <th>0</th>\n",
              "      <td>0</td>\n",
              "      <td>18393</td>\n",
              "      <td>2</td>\n",
              "      <td>168</td>\n",
              "      <td>62.0</td>\n",
              "      <td>110</td>\n",
              "      <td>80</td>\n",
              "      <td>1</td>\n",
              "      <td>1</td>\n",
              "      <td>0</td>\n",
              "      <td>0</td>\n",
              "      <td>1</td>\n",
              "      <td>0</td>\n",
              "    </tr>\n",
              "    <tr>\n",
              "      <th>1</th>\n",
              "      <td>1</td>\n",
              "      <td>20228</td>\n",
              "      <td>1</td>\n",
              "      <td>156</td>\n",
              "      <td>85.0</td>\n",
              "      <td>140</td>\n",
              "      <td>90</td>\n",
              "      <td>3</td>\n",
              "      <td>1</td>\n",
              "      <td>0</td>\n",
              "      <td>0</td>\n",
              "      <td>1</td>\n",
              "      <td>1</td>\n",
              "    </tr>\n",
              "    <tr>\n",
              "      <th>2</th>\n",
              "      <td>2</td>\n",
              "      <td>18857</td>\n",
              "      <td>1</td>\n",
              "      <td>165</td>\n",
              "      <td>64.0</td>\n",
              "      <td>130</td>\n",
              "      <td>70</td>\n",
              "      <td>3</td>\n",
              "      <td>1</td>\n",
              "      <td>0</td>\n",
              "      <td>0</td>\n",
              "      <td>0</td>\n",
              "      <td>1</td>\n",
              "    </tr>\n",
              "    <tr>\n",
              "      <th>3</th>\n",
              "      <td>3</td>\n",
              "      <td>17623</td>\n",
              "      <td>2</td>\n",
              "      <td>169</td>\n",
              "      <td>82.0</td>\n",
              "      <td>150</td>\n",
              "      <td>100</td>\n",
              "      <td>1</td>\n",
              "      <td>1</td>\n",
              "      <td>0</td>\n",
              "      <td>0</td>\n",
              "      <td>1</td>\n",
              "      <td>1</td>\n",
              "    </tr>\n",
              "    <tr>\n",
              "      <th>4</th>\n",
              "      <td>4</td>\n",
              "      <td>17474</td>\n",
              "      <td>1</td>\n",
              "      <td>156</td>\n",
              "      <td>56.0</td>\n",
              "      <td>100</td>\n",
              "      <td>60</td>\n",
              "      <td>1</td>\n",
              "      <td>1</td>\n",
              "      <td>0</td>\n",
              "      <td>0</td>\n",
              "      <td>0</td>\n",
              "      <td>0</td>\n",
              "    </tr>\n",
              "  </tbody>\n",
              "</table>\n",
              "</div>"
            ],
            "text/plain": [
              "   id    age  gender  height  weight  ...  gluc  smoke  alco  active  cardio\n",
              "0   0  18393       2     168    62.0  ...     1      0     0       1       0\n",
              "1   1  20228       1     156    85.0  ...     1      0     0       1       1\n",
              "2   2  18857       1     165    64.0  ...     1      0     0       0       1\n",
              "3   3  17623       2     169    82.0  ...     1      0     0       1       1\n",
              "4   4  17474       1     156    56.0  ...     1      0     0       0       0\n",
              "\n",
              "[5 rows x 13 columns]"
            ]
          },
          "metadata": {
            "tags": []
          },
          "execution_count": 71
        }
      ]
    },
    {
      "cell_type": "code",
      "metadata": {
        "id": "a_qnz3Zi1heF",
        "colab": {
          "base_uri": "https://localhost:8080/"
        },
        "outputId": "a8a39cc3-2b25-4be7-89e2-e6cc1c7d439b"
      },
      "source": [
        "## missing value를 확인하세요.\n",
        "# dtype & 결측값 확인 \n",
        "df.info()  # 결측값 x "
      ],
      "execution_count": 72,
      "outputs": [
        {
          "output_type": "stream",
          "text": [
            "<class 'pandas.core.frame.DataFrame'>\n",
            "RangeIndex: 70000 entries, 0 to 69999\n",
            "Data columns (total 13 columns):\n",
            " #   Column       Non-Null Count  Dtype  \n",
            "---  ------       --------------  -----  \n",
            " 0   id           70000 non-null  int64  \n",
            " 1   age          70000 non-null  int64  \n",
            " 2   gender       70000 non-null  int64  \n",
            " 3   height       70000 non-null  int64  \n",
            " 4   weight       70000 non-null  float64\n",
            " 5   ap_hi        70000 non-null  int64  \n",
            " 6   ap_lo        70000 non-null  int64  \n",
            " 7   cholesterol  70000 non-null  int64  \n",
            " 8   gluc         70000 non-null  int64  \n",
            " 9   smoke        70000 non-null  int64  \n",
            " 10  alco         70000 non-null  int64  \n",
            " 11  active       70000 non-null  int64  \n",
            " 12  cardio       70000 non-null  int64  \n",
            "dtypes: float64(1), int64(12)\n",
            "memory usage: 6.9 MB\n"
          ],
          "name": "stdout"
        }
      ]
    },
    {
      "cell_type": "code",
      "metadata": {
        "id": "Mg212pjC1r-T",
        "colab": {
          "base_uri": "https://localhost:8080/",
          "height": 202
        },
        "outputId": "8555ba57-948b-4e16-b915-ff22a9ec4689"
      },
      "source": [
        "# id 칼럼은 drop하세요.\n",
        "df.drop('id',axis=1,inplace=True)\n",
        "df.head()"
      ],
      "execution_count": 73,
      "outputs": [
        {
          "output_type": "execute_result",
          "data": {
            "text/html": [
              "<div>\n",
              "<style scoped>\n",
              "    .dataframe tbody tr th:only-of-type {\n",
              "        vertical-align: middle;\n",
              "    }\n",
              "\n",
              "    .dataframe tbody tr th {\n",
              "        vertical-align: top;\n",
              "    }\n",
              "\n",
              "    .dataframe thead th {\n",
              "        text-align: right;\n",
              "    }\n",
              "</style>\n",
              "<table border=\"1\" class=\"dataframe\">\n",
              "  <thead>\n",
              "    <tr style=\"text-align: right;\">\n",
              "      <th></th>\n",
              "      <th>age</th>\n",
              "      <th>gender</th>\n",
              "      <th>height</th>\n",
              "      <th>weight</th>\n",
              "      <th>ap_hi</th>\n",
              "      <th>ap_lo</th>\n",
              "      <th>cholesterol</th>\n",
              "      <th>gluc</th>\n",
              "      <th>smoke</th>\n",
              "      <th>alco</th>\n",
              "      <th>active</th>\n",
              "      <th>cardio</th>\n",
              "    </tr>\n",
              "  </thead>\n",
              "  <tbody>\n",
              "    <tr>\n",
              "      <th>0</th>\n",
              "      <td>18393</td>\n",
              "      <td>2</td>\n",
              "      <td>168</td>\n",
              "      <td>62.0</td>\n",
              "      <td>110</td>\n",
              "      <td>80</td>\n",
              "      <td>1</td>\n",
              "      <td>1</td>\n",
              "      <td>0</td>\n",
              "      <td>0</td>\n",
              "      <td>1</td>\n",
              "      <td>0</td>\n",
              "    </tr>\n",
              "    <tr>\n",
              "      <th>1</th>\n",
              "      <td>20228</td>\n",
              "      <td>1</td>\n",
              "      <td>156</td>\n",
              "      <td>85.0</td>\n",
              "      <td>140</td>\n",
              "      <td>90</td>\n",
              "      <td>3</td>\n",
              "      <td>1</td>\n",
              "      <td>0</td>\n",
              "      <td>0</td>\n",
              "      <td>1</td>\n",
              "      <td>1</td>\n",
              "    </tr>\n",
              "    <tr>\n",
              "      <th>2</th>\n",
              "      <td>18857</td>\n",
              "      <td>1</td>\n",
              "      <td>165</td>\n",
              "      <td>64.0</td>\n",
              "      <td>130</td>\n",
              "      <td>70</td>\n",
              "      <td>3</td>\n",
              "      <td>1</td>\n",
              "      <td>0</td>\n",
              "      <td>0</td>\n",
              "      <td>0</td>\n",
              "      <td>1</td>\n",
              "    </tr>\n",
              "    <tr>\n",
              "      <th>3</th>\n",
              "      <td>17623</td>\n",
              "      <td>2</td>\n",
              "      <td>169</td>\n",
              "      <td>82.0</td>\n",
              "      <td>150</td>\n",
              "      <td>100</td>\n",
              "      <td>1</td>\n",
              "      <td>1</td>\n",
              "      <td>0</td>\n",
              "      <td>0</td>\n",
              "      <td>1</td>\n",
              "      <td>1</td>\n",
              "    </tr>\n",
              "    <tr>\n",
              "      <th>4</th>\n",
              "      <td>17474</td>\n",
              "      <td>1</td>\n",
              "      <td>156</td>\n",
              "      <td>56.0</td>\n",
              "      <td>100</td>\n",
              "      <td>60</td>\n",
              "      <td>1</td>\n",
              "      <td>1</td>\n",
              "      <td>0</td>\n",
              "      <td>0</td>\n",
              "      <td>0</td>\n",
              "      <td>0</td>\n",
              "    </tr>\n",
              "  </tbody>\n",
              "</table>\n",
              "</div>"
            ],
            "text/plain": [
              "     age  gender  height  weight  ap_hi  ...  gluc  smoke  alco  active  cardio\n",
              "0  18393       2     168    62.0    110  ...     1      0     0       1       0\n",
              "1  20228       1     156    85.0    140  ...     1      0     0       1       1\n",
              "2  18857       1     165    64.0    130  ...     1      0     0       0       1\n",
              "3  17623       2     169    82.0    150  ...     1      0     0       1       1\n",
              "4  17474       1     156    56.0    100  ...     1      0     0       0       0\n",
              "\n",
              "[5 rows x 12 columns]"
            ]
          },
          "metadata": {
            "tags": []
          },
          "execution_count": 73
        }
      ]
    },
    {
      "cell_type": "code",
      "metadata": {
        "id": "Lh7OFY_s14US",
        "colab": {
          "base_uri": "https://localhost:8080/"
        },
        "outputId": "962bacb4-b3d2-426b-8386-acb31f99d687"
      },
      "source": [
        "import numpy as np\n",
        "\n",
        "# 중복된 샘플이 있는지 확인하세요.\n",
        "df.duplicated().value_counts() # False의 개수가 데이터프레임 내에 유니크한 값의 개수\n",
        "\n",
        "duple = df.duplicated()\n",
        "duple_index = np.where(duple==True)\n",
        "\n",
        "duple_index"
      ],
      "execution_count": 74,
      "outputs": [
        {
          "output_type": "execute_result",
          "data": {
            "text/plain": [
              "(array([10562, 21784, 38505, 40365, 42450, 44653, 45125, 45748, 45810,\n",
              "        48917, 50432, 52552, 56643, 56906, 57946, 58730, 60453, 60474,\n",
              "        62318, 64169, 65079, 65622, 66190, 68281]),)"
            ]
          },
          "metadata": {
            "tags": []
          },
          "execution_count": 74
        }
      ]
    },
    {
      "cell_type": "code",
      "metadata": {
        "id": "hg-Yei_O22Ee",
        "colab": {
          "base_uri": "https://localhost:8080/"
        },
        "outputId": "c66092dd-4e39-4c15-ce61-19e0c7761467"
      },
      "source": [
        "# 중복된 샘플을 제거하고 남은 샘플의 수를 과제 제출폼에 제출하세요.\n",
        "df.drop_duplicates(keep = 'first', inplace = True)\n",
        "\n",
        "df.duplicated().value_counts()"
      ],
      "execution_count": 75,
      "outputs": [
        {
          "output_type": "execute_result",
          "data": {
            "text/plain": [
              "False    69976\n",
              "dtype: int64"
            ]
          },
          "metadata": {
            "tags": []
          },
          "execution_count": 75
        }
      ]
    },
    {
      "cell_type": "markdown",
      "metadata": {
        "id": "GdhBT1zCyYM3"
      },
      "source": [
        "### 2) 다운로드 한 훈련 데이터를 훈련/검증/테스트 세트로 나누어 주세요.\n",
        "- 타겟 특성을 확인하고 타겟 변수를 나누어 줍니다.\n",
        "- 훈련과 테스트 데이터로 나누어 줍니다(train_test_split 사용, train/test = 80/20, random_state=2)\n",
        "- 훈련데이터를 훈련과 검증데이터로 나누어 줍니다(train_test_split 사용, train/validation = 80/20, random_state=2)\n",
        "- **검증 데이터(X_val)의 갯수를 과제 제출폼에 제출하세요.**"
      ]
    },
    {
      "cell_type": "code",
      "metadata": {
        "id": "n0zKvnAYyYM4",
        "colab": {
          "base_uri": "https://localhost:8080/"
        },
        "outputId": "6edb40aa-ead4-4d14-d751-665c668d9065"
      },
      "source": [
        "from sklearn.model_selection import train_test_split\n",
        "\n",
        "# target \n",
        "target = 'cardio'\n",
        "\n",
        "# train & validation dataset\n",
        "train,test = train_test_split(df, test_size = 0.2,random_state = 2)\n",
        "print(f'train shape: {train.shape}, test shape: {test.shape}')\n",
        "train,val = train_test_split(train,train_size = 0.8, random_state = 2)\n",
        "print(f'train shape: {train.shape}, val shape: {val.shape}')\n",
        "\n",
        "## X, y \n",
        "# train\n",
        "y_train = train[target]\n",
        "X_train = train.drop(target,axis=1)\n",
        "\n",
        "# val\n",
        "y_val = val[target]\n",
        "X_val = val.drop(target,axis=1)\n",
        "\n",
        "# test\n",
        "y_test = test[target]\n",
        "X_test = test.drop(target,axis=1)\n",
        "\n",
        "# 검증 데이터(X_val)의 갯수를 과제 제출폼에 제출하세요.\n",
        "X_val.shape"
      ],
      "execution_count": 76,
      "outputs": [
        {
          "output_type": "stream",
          "text": [
            "train shape: (55980, 12), test shape: (13996, 12)\n",
            "train shape: (44784, 12), val shape: (11196, 12)\n"
          ],
          "name": "stdout"
        },
        {
          "output_type": "execute_result",
          "data": {
            "text/plain": [
              "(11196, 11)"
            ]
          },
          "metadata": {
            "tags": []
          },
          "execution_count": 76
        }
      ]
    },
    {
      "cell_type": "markdown",
      "metadata": {
        "id": "jLcFuVR5yYM4"
      },
      "source": [
        "### 3) 사이킷런의 LogisticRegression을 사용해 모델을 만들어 보세요.\n",
        "- 모델을 만들기 전에 기준모델을 설정합니다.\n",
        "- **LogisticRegression 모델을 학습하고(max_iter=1000) 검증세트 정확도를 과제 제출폼에 제출하세요.**\n"
      ]
    },
    {
      "cell_type": "code",
      "metadata": {
        "id": "FeS8BgWMyYM5",
        "colab": {
          "base_uri": "https://localhost:8080/"
        },
        "outputId": "962e3893-6ea1-4ffc-eb9d-3bbf38609d98"
      },
      "source": [
        "### 분류문제에서는 보통 타겟 변수에서 가장 빈번하게 나타나는 범주를 기준모델로 설정합니다.\n",
        "## 기준모델 \n",
        "y_train.value_counts(normalize=True)"
      ],
      "execution_count": 77,
      "outputs": [
        {
          "output_type": "execute_result",
          "data": {
            "text/plain": [
              "1    0.501697\n",
              "0    0.498303\n",
              "Name: cardio, dtype: float64"
            ]
          },
          "metadata": {
            "tags": []
          },
          "execution_count": 77
        }
      ]
    },
    {
      "cell_type": "code",
      "metadata": {
        "id": "9Pz3Cmkb6RDv",
        "colab": {
          "base_uri": "https://localhost:8080/"
        },
        "outputId": "2f6b963e-6fe3-4418-d607-0b0d11402d42"
      },
      "source": [
        "# 범주 1로 모든 예측 수행\n",
        "major = y_train.mode()[0] # mode(): (series,dataframe) 해당 값내에 최빈값 반환 \n",
        "\n",
        "# 기준모델로 예측\n",
        "y_pred = [major] * len(y_train)\n",
        "\n",
        "from sklearn.metrics import accuracy_score\n",
        "\n",
        "# 최다 클래스의 빈도가 정확도와 일치함을 확인\n",
        "print(\"train data accuracy: \", accuracy_score(y_train, y_pred))\n",
        "\n",
        "# 검증 세트에서 정확도 확인\n",
        "y_pred = [major] * len(y_val)\n",
        "print(\"val data accuracy: \", accuracy_score(y_val, y_pred))"
      ],
      "execution_count": 78,
      "outputs": [
        {
          "output_type": "stream",
          "text": [
            "train data accuracy:  0.501697034655234\n",
            "val data accuracy:  0.49821364773133264\n"
          ],
          "name": "stdout"
        }
      ]
    },
    {
      "cell_type": "code",
      "metadata": {
        "id": "JIOWPVUs7p8E",
        "colab": {
          "base_uri": "https://localhost:8080/"
        },
        "outputId": "8a36aa3a-36d9-4366-c46e-4755e90e75bb"
      },
      "source": [
        "### Logistic Regression \n",
        "from sklearn.linear_model import LogisticRegression\n",
        "from sklearn.preprocessing import StandardScaler\n",
        "\n",
        "model = LogisticRegression(max_iter=1000)\n",
        "model.fit(X_train,y_train)\n",
        "\n",
        "# 검증 세트에서 정확도 확인\n",
        "y_pred = model.predict(X_val)\n",
        "print(f'검증 세트에서 정확도: {accuracy_score(y_val,y_pred)}')"
      ],
      "execution_count": 79,
      "outputs": [
        {
          "output_type": "stream",
          "text": [
            "검증 세트에서 정확도: 0.7073061807788495\n"
          ],
          "name": "stdout"
        }
      ]
    },
    {
      "cell_type": "markdown",
      "metadata": {
        "id": "EKWfoUsfyYM5"
      },
      "source": [
        "### 4) 데이터에서 범주형 성질을 지닌 특성을 찾아 원핫인코딩 하세요.\n",
        "- category_encoders를 사용해서 'gender' 특성만 원핫인코딩 하세요.\n",
        "- LogisticRegression 모델을 다시 학습합니다.\n",
        "- **검증세트 정확도를 과제 제출폼에 제출하세요.**"
      ]
    },
    {
      "cell_type": "code",
      "metadata": {
        "id": "pnWLP0PTyYM6",
        "colab": {
          "base_uri": "https://localhost:8080/"
        },
        "outputId": "e812729c-6efb-4a71-f001-320fec5d7630"
      },
      "source": [
        "pip install category_encoders"
      ],
      "execution_count": 80,
      "outputs": [
        {
          "output_type": "stream",
          "text": [
            "Requirement already satisfied: category_encoders in /usr/local/lib/python3.7/dist-packages (2.2.2)\n",
            "Requirement already satisfied: patsy>=0.5.1 in /usr/local/lib/python3.7/dist-packages (from category_encoders) (0.5.1)\n",
            "Requirement already satisfied: scipy>=1.0.0 in /usr/local/lib/python3.7/dist-packages (from category_encoders) (1.4.1)\n",
            "Requirement already satisfied: numpy>=1.14.0 in /usr/local/lib/python3.7/dist-packages (from category_encoders) (1.19.5)\n",
            "Requirement already satisfied: pandas>=0.21.1 in /usr/local/lib/python3.7/dist-packages (from category_encoders) (1.1.5)\n",
            "Requirement already satisfied: statsmodels>=0.9.0 in /usr/local/lib/python3.7/dist-packages (from category_encoders) (0.10.2)\n",
            "Requirement already satisfied: scikit-learn>=0.20.0 in /usr/local/lib/python3.7/dist-packages (from category_encoders) (0.22.2.post1)\n",
            "Requirement already satisfied: six in /usr/local/lib/python3.7/dist-packages (from patsy>=0.5.1->category_encoders) (1.15.0)\n",
            "Requirement already satisfied: pytz>=2017.2 in /usr/local/lib/python3.7/dist-packages (from pandas>=0.21.1->category_encoders) (2018.9)\n",
            "Requirement already satisfied: python-dateutil>=2.7.3 in /usr/local/lib/python3.7/dist-packages (from pandas>=0.21.1->category_encoders) (2.8.1)\n",
            "Requirement already satisfied: joblib>=0.11 in /usr/local/lib/python3.7/dist-packages (from scikit-learn>=0.20.0->category_encoders) (1.0.1)\n"
          ],
          "name": "stdout"
        }
      ]
    },
    {
      "cell_type": "code",
      "metadata": {
        "id": "thsEzZyW-vNW",
        "colab": {
          "base_uri": "https://localhost:8080/"
        },
        "outputId": "8cb97b9f-af9e-47a3-bbfa-10924de018a3"
      },
      "source": [
        "from category_encoders import OneHotEncoder\n",
        "\n",
        "encoder = OneHotEncoder(use_cat_names=True, cols = 'gender') # gender만 one hot encoding하라고 지정 가능\n",
        "\n",
        "X_train_encoded = encoder.fit_transform(X_train)\n",
        "X_val_encoded = encoder.transform(X_val)\n",
        "\n",
        "logistic =  LogisticRegression(max_iter=1000)\n",
        "logistic.fit(X_train_encoded,y_train)\n",
        "\n",
        "y_pred = logistic.predict(X_val_encoded)\n",
        "print(f'검증 세트에서 정확도: {accuracy_score(y_val,y_pred)}')"
      ],
      "execution_count": 81,
      "outputs": [
        {
          "output_type": "stream",
          "text": [
            "/usr/local/lib/python3.7/dist-packages/category_encoders/utils.py:21: FutureWarning: is_categorical is deprecated and will be removed in a future version.  Use is_categorical_dtype instead\n",
            "  elif pd.api.types.is_categorical(cols):\n"
          ],
          "name": "stderr"
        },
        {
          "output_type": "stream",
          "text": [
            "검증 세트에서 정확도: 0.7093604858878171\n"
          ],
          "name": "stdout"
        }
      ]
    },
    {
      "cell_type": "markdown",
      "metadata": {
        "id": "uc9IlhvnyYM6"
      },
      "source": [
        "### 5) 학습한 모델을 검증세트에서 최적화 시킨 후, 테스트세트에서 딱 한 번 정확도를 확인해 보세요.\n",
        "- **테스트 세트 정확도를 과제 제출폼에 제출하세요.(0.712 이상)**"
      ]
    },
    {
      "cell_type": "code",
      "metadata": {
        "id": "J3BWzArzyYM7",
        "colab": {
          "base_uri": "https://localhost:8080/"
        },
        "outputId": "15f27650-4486-4fd9-d081-d89aef4063df"
      },
      "source": [
        "## 1. parameter C 를 바꿔서 여러 가지 모델 생성 \n",
        "logistic_001 = LogisticRegression(C=0.001, max_iter = 1000).fit(X_train_encoded,y_train) # C -> 값이 작을 수록 더 강한 정규화가 일어난다.\n",
        "logistic_01 = LogisticRegression(C=0.01, max_iter = 1000).fit(X_train_encoded,y_train) # max_iter -> 최대 반복 횟수\n",
        "logistic_0 = LogisticRegression(C=0.1, max_iter = 1000).fit(X_train_encoded,y_train)\n",
        "logistic = LogisticRegression(max_iter = 1000).fit(X_train_encoded,y_train) # C default = 1.0\n",
        "logistic_1 = LogisticRegression(  C= 10.0, max_iter = 1000).fit(X_train_encoded,y_train)\n",
        "logistic_10 = LogisticRegression(C= 100.0, max_iter = 1000).fit(X_train_encoded,y_train)\n",
        "logistic_100 = LogisticRegression(C= 1000.0, max_iter = 1000).fit(X_train_encoded,y_train)\n",
        "\n",
        "# 검증 데이터로 정확도 확인\n",
        "print(f'C = 0.001 Accuracy: {logistic_001.score(X_val_encoded,y_val)}')\n",
        "print(f'C = 0.01 Accuracy: {logistic_01.score(X_val_encoded,y_val)}')\n",
        "print(f'C = 0.1 Accuracy: {logistic_0.score(X_val_encoded,y_val)}')\n",
        "print(f'C = 1.0 Accuracy: {logistic.score(X_val_encoded,y_val)}')\n",
        "print(f'C = 10.0 Accuracy: {logistic_1.score(X_val_encoded,y_val)}')\n",
        "print(f'C = 100.0 Accuracy: {logistic_10.score(X_val_encoded,y_val)}')\n",
        "print(f'C = 1000.0 Accuracy: {logistic_100.score(X_val_encoded,y_val)}')"
      ],
      "execution_count": 82,
      "outputs": [
        {
          "output_type": "stream",
          "text": [
            "C = 0.001 Accuracy: 0.6941764916041443\n",
            "C = 0.01 Accuracy: 0.6942658092175777\n",
            "C = 0.1 Accuracy: 0.7092711682743837\n",
            "C = 1.0 Accuracy: 0.7093604858878171\n",
            "C = 10.0 Accuracy: 0.7093604858878171\n",
            "C = 100.0 Accuracy: 0.7093604858878171\n",
            "C = 1000.0 Accuracy: 0.6942658092175777\n"
          ],
          "name": "stdout"
        }
      ]
    },
    {
      "cell_type": "code",
      "metadata": {
        "colab": {
          "base_uri": "https://localhost:8080/"
        },
        "id": "4yHpa2xlI0ae",
        "outputId": "eafb2112-4efe-4306-e024-48e110addf73"
      },
      "source": [
        "## 2. C 파라미터 + 데이터 표준화\n",
        "from sklearn.preprocessing import StandardScaler\n",
        "scaler = StandardScaler()\n",
        "X_train_scaled = scaler.fit_transform(X_train_encoded)\n",
        "X_val_scaled = scaler.transform(X_val_encoded)\n",
        "\n",
        "logistic_001 = LogisticRegression(C=0.001, max_iter = 1000).fit(X_train_scaled,y_train) # C -> 값이 작을 수록 더 강한 정규화가 일어난다.\n",
        "logistic_01 = LogisticRegression(C=0.01, max_iter = 1000).fit(X_train_scaled,y_train) # max_iter -> 최대 반복 횟수\n",
        "logistic_0 = LogisticRegression(C=0.1, max_iter = 1000).fit(X_train_scaled,y_train)\n",
        "logistic = LogisticRegression(max_iter = 1000).fit(X_train_scaled,y_train) # C default = 1.0\n",
        "logistic_1 = LogisticRegression(  C= 10.0, max_iter = 1000).fit(X_train_scaled,y_train)\n",
        "logistic_10 = LogisticRegression(C= 100.0, max_iter = 1000).fit(X_train_scaled,y_train)\n",
        "logistic_100 = LogisticRegression(C= 1000.0, max_iter = 1000).fit(X_train_scaled,y_train)\n",
        "\n",
        "# 검증 데이터로 정확도 확인\n",
        "print(f'C = 0.001 Accuracy: {logistic_001.score(X_val_scaled,y_val)}')\n",
        "print(f'C = 0.01 Accuracy: {logistic_01.score(X_val_scaled,y_val)}')\n",
        "print(f'C = 0.1 Accuracy: {logistic_0.score(X_val_scaled,y_val)}')\n",
        "print(f'C = 1.0 Accuracy: {logistic.score(X_val_scaled,y_val)}')\n",
        "print(f'C = 10.0 Accuracy: {logistic_1.score(X_val_scaled,y_val)}')\n",
        "print(f'C = 100.0 Accuracy: {logistic_10.score(X_val_scaled,y_val)}')\n",
        "print(f'C = 1000.0 Accuracy: {logistic_100.score(X_val_scaled,y_val)}')"
      ],
      "execution_count": 83,
      "outputs": [
        {
          "output_type": "stream",
          "text": [
            "C = 0.001 Accuracy: 0.6685423365487674\n",
            "C = 0.01 Accuracy: 0.7057877813504824\n",
            "C = 0.1 Accuracy: 0.721686316541622\n",
            "C = 1.0 Accuracy: 0.723383351196856\n",
            "C = 10.0 Accuracy: 0.7237406216505895\n",
            "C = 100.0 Accuracy: 0.7237406216505895\n",
            "C = 1000.0 Accuracy: 0.7237406216505895\n"
          ],
          "name": "stdout"
        }
      ]
    },
    {
      "cell_type": "code",
      "metadata": {
        "colab": {
          "base_uri": "https://localhost:8080/"
        },
        "id": "xwft2WaxKMFZ",
        "outputId": "bf7a5741-3289-43cb-8231-125d32619eb1"
      },
      "source": [
        "from sklearn.metrics import accuracy_score\n",
        "\n",
        "## 데이터를 표준화시키고 LogisticRegression의 parameter C=10.0일때의 모델이 최적화되었다고 볼 수 있다. \n",
        "\n",
        "## test data one hot encoding\n",
        "X_test_encoded = encoder.transform(X_test)\n",
        "\n",
        "## Standardization \n",
        "X_test_scaled = scaler.transform(X_test_encoded)\n",
        "\n",
        "## accuracy score \n",
        "# y_pred = logistic_10.predict(X_test_scaled)\n",
        "#accuracy_score(y_pred,y_test)\n",
        "print(logistic_10.score(X_test_scaled,y_test))"
      ],
      "execution_count": 69,
      "outputs": [
        {
          "output_type": "stream",
          "text": [
            "0.7268505287224921\n"
          ],
          "name": "stdout"
        }
      ]
    },
    {
      "cell_type": "markdown",
      "metadata": {
        "id": "RvRYqslfyYM7"
      },
      "source": [
        "## 🔥 도전과제:"
      ]
    },
    {
      "cell_type": "markdown",
      "metadata": {
        "id": "Roy5Csv9yYM7"
      },
      "source": [
        "### 6) EDA를 추가적으로 수행하고 가능한 방법으로 모델을 튜닝해서 결과를 만들어 보세요. 최소한 다음 내용들이 포함이 되어야 합니다.\n",
        "- 새로운 특성을 최소한 한 개 이상 만드세요.\n",
        "- 특성들을 확인해서 아웃라이어라고 생각되는 데이터를 가진 샘플을 제거하세요.\n",
        "- [feature scaling](https://scikit-learn.org/stable/modules/preprocessing.html) 을 사용하세요. (여러가지 종류의 Scalar를 어떤 상황에 적용해야 하는지 알아보고 사용해 보세요.)\n",
        "- 만들어진 모델 성능을 리포팅하고 해석합니다.\n"
      ]
    },
    {
      "cell_type": "code",
      "metadata": {
        "id": "m_nuv-cIYqKN"
      },
      "source": [
        "# BMI 지수 생성 : 체중(kg)/신장(m)^2\n",
        "import numpy as np\n",
        "\n",
        "df['BMI'] = df.weight / np.power(df.height/100,2)\n",
        "df.head()"
      ],
      "execution_count": null,
      "outputs": []
    }
  ]
}