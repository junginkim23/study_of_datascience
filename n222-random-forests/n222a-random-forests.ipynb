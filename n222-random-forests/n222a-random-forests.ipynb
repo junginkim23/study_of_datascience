{
  "nbformat": 4,
  "nbformat_minor": 0,
  "metadata": {
    "kernelspec": {
      "display_name": "Python 3",
      "language": "python",
      "name": "python3"
    },
    "language_info": {
      "codemirror_mode": {
        "name": "ipython",
        "version": 3
      },
      "file_extension": ".py",
      "mimetype": "text/x-python",
      "name": "python",
      "nbconvert_exporter": "python",
      "pygments_lexer": "ipython3",
      "version": "3.7.7"
    },
    "colab": {
      "name": "n222a-random-forests.ipynb",
      "provenance": []
    }
  },
  "cells": [
    {
      "cell_type": "markdown",
      "metadata": {
        "id": "wU95wOs2LaDW"
      },
      "source": [
        "<img align=\"right\" src=\"https://ds-cs-images.s3.ap-northeast-2.amazonaws.com/Codestates_Fulllogo_Color.png\" width=100>\n",
        "\n",
        "## *DATA SCIENCE / SECTION 2 / SPRINT 2 / NOTE 2*\n",
        "\n",
        "# 📝 Assignment\n",
        "---"
      ]
    },
    {
      "cell_type": "markdown",
      "metadata": {
        "id": "7IXUfiQ2UKj6"
      },
      "source": [
        "# 랜덤포레스트(Random Forests)\n",
        "\n",
        "### 1) 캐글 대회를 이어서 진행합니다. EDA, 데이터 전처리 부분을 업데이트 하세요.\n",
        "- EDA는 항상 완벽할 수 없지요 한 주간 계속 같은 데이터로 과제를 진행하므로 부족한 부분을 추가하거나 논하세요.\n",
        "- (지금은 feature engineering에 너무 시간을 들이지 마세요!)\n",
        "- Ordinal Encoding을 적용해 보세요.\n",
        "- **(객관식) 다음 특성들 중에 순서를 고려한 Ordinal Encoding이 필요해 보이는 특성을 선택하고 과제 제출폼에 제출하세요.**\n",
        "    1. opinion_h1n1_vacc_effective\n",
        "    2. state\n",
        "    3. marital\n",
        "    4. employment_occupation\n"
      ]
    },
    {
      "cell_type": "markdown",
      "metadata": {
        "id": "Ha_fkfG97l8-"
      },
      "source": [
        "# 1. Kaggle Colab Connection"
      ]
    },
    {
      "cell_type": "code",
      "metadata": {
        "id": "qf-DtBdDYpcF"
      },
      "source": [
        "# !pip install --upgrade pandas_profiling\n",
        "# !pip install --upgrade category_encoders"
      ],
      "execution_count": 1,
      "outputs": []
    },
    {
      "cell_type": "code",
      "metadata": {
        "id": "1BgrLU_XMHcG"
      },
      "source": [
        "# # connect kaggle colab\n",
        "# !pip install kaggle\n",
        "# from google.colab import files\n",
        "# files.upload()\n",
        "\n",
        "# # 파일이 제대로 업로드 되었는지 확인\n",
        "# print('\\n--------파일 제대로 업로드 되었는지 확인--------\\n')\n",
        "# !ls -1ha kaggle.json\n",
        "# # 파일 업로드 제대로 되었는지 확인 완료!\n",
        "\n",
        "# # kaggle API를 사용하기 위해 json 파일 ~/.kaggle로 이동\n",
        "# !mkdir -p ~/.kaggle\n",
        "# !cp kaggle.json ~/.kaggle/\n",
        "# # Permission Warning 이 일어나지 않도록 \n",
        "# !chmod 600 ~/.kaggle/kaggle.json\n",
        "# # 본인이 참가한 모든 대회 보기\n",
        "# print('\\n---------------내가 참가한 대회---------------\\n') \n",
        "# !kaggle competitions list\n",
        "\n",
        "# # 데이터 셋 불러오기\n",
        "# print('\\n------------upload dataset------------\\n')\n",
        "# !kaggle competitions download -c prediction-of-h1n1-vaccination"
      ],
      "execution_count": 2,
      "outputs": []
    },
    {
      "cell_type": "markdown",
      "metadata": {
        "id": "GX75ePBw8DRq"
      },
      "source": [
        "# 2. Data Preparation"
      ]
    },
    {
      "cell_type": "code",
      "metadata": {
        "colab": {
          "base_uri": "https://localhost:8080/"
        },
        "id": "IeNhP10FSqxE",
        "outputId": "d460b970-926e-4af7-d547-3d9c7b446dee"
      },
      "source": [
        "import pandas as pd \n",
        "from sklearn.model_selection import train_test_split\n",
        "\n",
        "target = 'vacc_h1n1_f'\n",
        "\n",
        "X = pd.read_csv('/content/train.csv.zip')\n",
        "X_test = pd.read_csv('/content/test.csv.zip')\n",
        "y = pd.read_csv('/content/train_labels.csv').drop('vacc_seas_f',axis = 1)\n",
        "\n",
        "# train, val split \n",
        "X_train, X_val, y_train, y_val = train_test_split(X,y,train_size = .8,random_state = 2)\n",
        "\n",
        "X_train.shape, X_val.shape, X_test.shape"
      ],
      "execution_count": 3,
      "outputs": [
        {
          "output_type": "execute_result",
          "data": {
            "text/plain": [
              "((33723, 38), (8431, 38), (28104, 38))"
            ]
          },
          "metadata": {
            "tags": []
          },
          "execution_count": 3
        }
      ]
    },
    {
      "cell_type": "markdown",
      "metadata": {
        "id": "LeXxCvg8-uMx"
      },
      "source": [
        "# **Quiz. (객관식) 다음 특성들 중에 순서를 고려한 Ordinal Encoding이 필요해 보이는 특성을 선택하고 과제 제출폼에 제출하세요.**\n",
        "    \n",
        "    1. opinion_h1n1_vacc_effective\n",
        "    2. state\n",
        "    3. marital\n",
        "    4. employment_occupation\n",
        "\n",
        "\n",
        "## Answer : 1번 \n",
        "\n",
        "\n",
        "- 4개의 feature 중 opinion_h1n1_vacc_effective_categories가 ordinal encoding이 필요하다. \n",
        "- 해당 feature 내부의 category가 담고 있는 의미를 수치로 변환한다고\n",
        "해도 원래 범주의 의미가 그대로 유지될 수 있다. \n",
        "- 그래서 ordinal encoding으로 바꿔주고 random forest 모델에 사용하는 것이 훨씬 성능 향상에 도움이 될 것이다.\n"
      ]
    },
    {
      "cell_type": "code",
      "metadata": {
        "colab": {
          "base_uri": "https://localhost:8080/"
        },
        "id": "X36dlm4zUScm",
        "outputId": "4ec63c18-77ed-44b1-9633-ea6efb9bfe19"
      },
      "source": [
        "# 다음 중 ordinal encoding이 필요한 feature는 ? opinion_h1n1_vacc_effective, state, marital, employment_occupation\n",
        "for feature in ['opinion_h1n1_vacc_effective', 'state', 'marital', 'employment_occupation']:\n",
        "  print(f'\\n[{feature}_categories]: \\n\\nunique category:{X[feature].unique().tolist()}\\nlen_unique_categories: {len(X[feature].unique().tolist())}\\n---------------------------------')"
      ],
      "execution_count": 4,
      "outputs": [
        {
          "output_type": "stream",
          "text": [
            "\n",
            "[opinion_h1n1_vacc_effective_categories]: \n",
            "\n",
            "unique category:[nan, 'Very Effective', 'Somewhat Effective', 'Not Very Effective', 'Dont Know', 'Not At All Effective', 'Refused']\n",
            "len_unique_categories: 7\n",
            "---------------------------------\n",
            "\n",
            "[state_categories]: \n",
            "\n",
            "unique category:['CALIFORNIA', 'NEBRASKA', 'MASSACHUSETTS', 'LOUISIANA', 'ALABAMA', 'MONTANA', 'MISSOURI', 'WISCONSIN', 'FLORIDA', 'MARYLAND', 'NEVADA', 'PENNSYLVANIA', 'RHODE ISLAND', 'ARIZONA', 'MAINE', 'SOUTH DAKOTA', 'WYOMING', 'CONNECTICUT', 'DELAWARE', 'NEW YORK', 'SOUTH CAROLINA', 'NEW JERSEY', 'NORTH CAROLINA', 'DISTRICTOF COLUMBIA', 'NEW HAMPSHIRE', 'TEXAS', 'OREGON', 'KENTUCKY', 'NORTH DAKOTA', 'TENNESSEE', 'INDIANA', 'WASHINGTON', 'MISSISSIPPI', 'WEST VIRGINIA', 'MINNESOTA', 'HAWAII', 'VIRGINIA', 'ARKANSAS', 'ALASKA', 'OKLAHOMA', 'KANSAS', 'NEW MEXICO', 'VERMONT', 'ILLINOIS', 'MICHIGAN', 'IDAHO', 'UTAH', 'GEORGIA', 'IOWA', 'OHIO', 'COLORADO']\n",
            "len_unique_categories: 51\n",
            "---------------------------------\n",
            "\n",
            "[marital_categories]: \n",
            "\n",
            "unique category:[nan, 2.0, 1.0]\n",
            "len_unique_categories: 3\n",
            "---------------------------------\n",
            "\n",
            "[employment_occupation_categories]: \n",
            "\n",
            "unique category:[nan, 'Food Preparation and Serving Related Occupations', 'Transportation and Material Moving Occupations', 'Legal Occupations', 'Office and Administrative Support Occupations', 'Not ascertained', 'Management Occupations', 'Architecture and Engineering Occupations', 'Business and Financial Operations Occupations', 'Building and Grounds Cleaning and Maintenance Occupations', 'Sales and Related Occupations', 'Life, Physical, and Social Science Occupations', 'Education, Training, and Library Occupations', 'Arts, Design, Entertainment, Sports and Media Occupations', 'Construction and Extraction Occupations', 'Healthcare Practitioners and Technical Occupations', 'Community and Social Services Occupations', 'Computer and Mathematical Occupations', 'Personal Care and Service Occupations', 'Production Occupations', 'Installation, Maintenance, and Repair Occupations', 'Healthcare Support Occupations', 'Refused, classified', 'Protective Service Occupations', 'Military Specific Occupations', 'Farming, Fishing, and Forestry Occupations']\n",
            "len_unique_categories: 26\n",
            "---------------------------------\n"
          ],
          "name": "stdout"
        }
      ]
    },
    {
      "cell_type": "markdown",
      "metadata": {
        "id": "sUJagkjB_XX2"
      },
      "source": [
        "# EDA"
      ]
    },
    {
      "cell_type": "code",
      "metadata": {
        "colab": {
          "base_uri": "https://localhost:8080/",
          "height": 226
        },
        "id": "mOmhKc-NAsya",
        "outputId": "9680993d-fd7b-4f15-f2bf-e35279532e54"
      },
      "source": [
        "# categorical features 확인\n",
        "X_train.describe(exclude = 'number')"
      ],
      "execution_count": 5,
      "outputs": [
        {
          "output_type": "execute_result",
          "data": {
            "text/html": [
              "<div>\n",
              "<style scoped>\n",
              "    .dataframe tbody tr th:only-of-type {\n",
              "        vertical-align: middle;\n",
              "    }\n",
              "\n",
              "    .dataframe tbody tr th {\n",
              "        vertical-align: top;\n",
              "    }\n",
              "\n",
              "    .dataframe thead th {\n",
              "        text-align: right;\n",
              "    }\n",
              "</style>\n",
              "<table border=\"1\" class=\"dataframe\">\n",
              "  <thead>\n",
              "    <tr style=\"text-align: right;\">\n",
              "      <th></th>\n",
              "      <th>opinion_h1n1_vacc_effective</th>\n",
              "      <th>opinion_h1n1_risk</th>\n",
              "      <th>opinion_h1n1_sick_from_vacc</th>\n",
              "      <th>opinion_seas_vacc_effective</th>\n",
              "      <th>opinion_seas_risk</th>\n",
              "      <th>opinion_seas_sick_from_vacc</th>\n",
              "      <th>agegrp</th>\n",
              "      <th>employment_status</th>\n",
              "      <th>census_msa</th>\n",
              "      <th>employment_industry</th>\n",
              "      <th>employment_occupation</th>\n",
              "      <th>state</th>\n",
              "    </tr>\n",
              "  </thead>\n",
              "  <tbody>\n",
              "    <tr>\n",
              "      <th>count</th>\n",
              "      <td>26688</td>\n",
              "      <td>26651</td>\n",
              "      <td>26615</td>\n",
              "      <td>26562</td>\n",
              "      <td>26501</td>\n",
              "      <td>26453</td>\n",
              "      <td>33723</td>\n",
              "      <td>25457</td>\n",
              "      <td>33723</td>\n",
              "      <td>13782</td>\n",
              "      <td>13782</td>\n",
              "      <td>33723</td>\n",
              "    </tr>\n",
              "    <tr>\n",
              "      <th>unique</th>\n",
              "      <td>6</td>\n",
              "      <td>6</td>\n",
              "      <td>6</td>\n",
              "      <td>6</td>\n",
              "      <td>6</td>\n",
              "      <td>6</td>\n",
              "      <td>7</td>\n",
              "      <td>3</td>\n",
              "      <td>3</td>\n",
              "      <td>23</td>\n",
              "      <td>25</td>\n",
              "      <td>51</td>\n",
              "    </tr>\n",
              "    <tr>\n",
              "      <th>top</th>\n",
              "      <td>Somewhat Effective</td>\n",
              "      <td>Somewhat Low</td>\n",
              "      <td>Not Very Worried</td>\n",
              "      <td>Somewhat Effective</td>\n",
              "      <td>Somewhat Low</td>\n",
              "      <td>Not At All Worried</td>\n",
              "      <td>65+ Years</td>\n",
              "      <td>Employed</td>\n",
              "      <td>MSA, Not Principle City</td>\n",
              "      <td>Health Care and Social Assistance Industries</td>\n",
              "      <td>Management Occupations</td>\n",
              "      <td>TEXAS</td>\n",
              "    </tr>\n",
              "    <tr>\n",
              "      <th>freq</th>\n",
              "      <td>11732</td>\n",
              "      <td>10013</td>\n",
              "      <td>9273</td>\n",
              "      <td>11661</td>\n",
              "      <td>9130</td>\n",
              "      <td>11778</td>\n",
              "      <td>6752</td>\n",
              "      <td>13788</td>\n",
              "      <td>15229</td>\n",
              "      <td>2481</td>\n",
              "      <td>1732</td>\n",
              "      <td>818</td>\n",
              "    </tr>\n",
              "  </tbody>\n",
              "</table>\n",
              "</div>"
            ],
            "text/plain": [
              "       opinion_h1n1_vacc_effective  ...  state\n",
              "count                        26688  ...  33723\n",
              "unique                           6  ...     51\n",
              "top             Somewhat Effective  ...  TEXAS\n",
              "freq                         11732  ...    818\n",
              "\n",
              "[4 rows x 12 columns]"
            ]
          },
          "metadata": {
            "tags": []
          },
          "execution_count": 5
        }
      ]
    },
    {
      "cell_type": "code",
      "metadata": {
        "colab": {
          "base_uri": "https://localhost:8080/"
        },
        "id": "sZ2HqHmGEKFf",
        "outputId": "60081132-c6a1-4b6c-a8cd-25582b2ba7c2"
      },
      "source": [
        "X_train.head(10)\n",
        "print(X_train[X_train.employment_status == 'Not in Labor Force'].employment_industry.value_counts())\n",
        "print(X_train[X_train.employment_status == 'Not in Labor Force'].employment_occupation.value_counts())\n",
        "print(X_train[X_train.employment_status == 'Not in Labor Force'].shape)"
      ],
      "execution_count": 6,
      "outputs": [
        {
          "output_type": "stream",
          "text": [
            "Series([], Name: employment_industry, dtype: int64)\n",
            "Series([], Name: employment_occupation, dtype: int64)\n",
            "(10178, 38)\n"
          ],
          "name": "stdout"
        }
      ]
    },
    {
      "cell_type": "markdown",
      "metadata": {
        "id": "ckWgdxMEJCX8"
      },
      "source": [
        "# Decision \n",
        "\n",
        "- seasonal flu vaccine와 관련된 feature 삭제 필요.(seasonal flu vaccine를 받았는지 안 받았는지에 대한 target value는 사용 x)\n",
        "    - features: `doctor_recc_seasonal`, `opinion_seas_vacc_effective`, `opinion_seas_risk`, `opinion_seas_sick_from_vacc`\n",
        "    - 총 4개의 feature 삭제 필요.\n",
        "\n",
        "- 새로운 feature 생성 필요.\n",
        "  - behavioral를 갖고 있는 features를 합해서 새로운 feature 생성[behaviorals]\n",
        "    - 각 관측치마다 몇 가지의 행동을 하는지 확인 가능\n",
        "\n",
        "- employment_status == 'Not in Labor Force' 인 observations에서 employment_industry와 employment_occupation의 값을 보았는데 모두 다 NaN값이었다. \n",
        "  - 내가 해석하기론, Not in Labor Force 자체가 말 그대로 노동 인력이 아니기 때문에 해당 직장의 산업과 직업에 대한 정보가 결측값으로 표현된 것 같다. 따라서, simpleImputer로 결측값을 수정하는 것은 의미가 없다고 판단되고 이러한 관측값이 총 1만개(train data의 대략 1/3)가 넘어가기 때문에 drop 하는 것도 힘들다.\n",
        "  - 따라서, employment_industry와 employment_occupation feature drop하기로 결정"
      ]
    },
    {
      "cell_type": "markdown",
      "metadata": {
        "id": "MzJiBCENGEYK"
      },
      "source": [
        "# Feature Engineering"
      ]
    },
    {
      "cell_type": "code",
      "metadata": {
        "colab": {
          "base_uri": "https://localhost:8080/"
        },
        "id": "-QmZ1xWEY2yB",
        "outputId": "7116b7d4-e9e2-4248-fefb-42d9a69d802c"
      },
      "source": [
        "## feature engineering\n",
        "from category_encoders import OneHotEncoder\n",
        "\n",
        "def change(x):\n",
        "  if int(x) > 0 :\n",
        "    return 0\n",
        "  else:\n",
        "    return 1\n",
        "\n",
        "def f_engineering(df):\n",
        "  #drop high cardinality feature - state\n",
        "  select_columns = df.select_dtypes(include = ['number','object'])\n",
        "  labels = select_columns.nunique()\n",
        "  select_features = labels[labels<=30].index.tolist()\n",
        "  df = df[select_features]\n",
        "\n",
        "  # behaviorals feature 생성\n",
        "  behaviorals = [col for col in df.columns if 'behavioral' in col]\n",
        "  df['behaviorals'] = df.loc[:,behaviorals].sum(axis = 1)\n",
        "\n",
        "  # n_adult_r feature 삭제, household_children & n_people_r 두 가지 feature와 다중 공산성 문제가 발생할 수 있다고 판단.\n",
        "  df.drop('n_adult_r',axis=1)\n",
        "\n",
        "  # 건강보험이 있는 workers \n",
        "  workers_h_insurances = ['health_insurance','health_worker']\n",
        "  df['workers_have_insurances'] = df.loc[:,workers_h_insurances].sum(axis = 1)\n",
        "  df['workers_have_insurances'] = df['workers_have_insurances'].apply(change)\n",
        "\n",
        "  # seas & employment가 들어 있는 feature 제거 \n",
        "  dels = [col for col in df.columns if ('employment_industry' in col or 'employment_occupation' in col or 'seas' in col)] # employment와 seas를 가지고 있는 특성을 모두 제거\n",
        "  df.drop(columns=dels, inplace=True)\n",
        "\n",
        "  return df \n",
        "\n",
        "X_train = f_engineering(X_train)\n",
        "X_val = f_engineering(X_val)\n",
        "X_test = f_engineering(X_test)"
      ],
      "execution_count": 7,
      "outputs": [
        {
          "output_type": "stream",
          "text": [
            "/usr/local/lib/python3.7/dist-packages/statsmodels/tools/_testing.py:19: FutureWarning: pandas.util.testing is deprecated. Use the functions in the public API at pandas.testing instead.\n",
            "  import pandas.util.testing as tm\n"
          ],
          "name": "stderr"
        }
      ]
    },
    {
      "cell_type": "markdown",
      "metadata": {
        "id": "VwulJVMvLaDa"
      },
      "source": [
        "### 2) 랜덤포레스트 모델을 적용한 후의 결과를 캐글에 제출하세요.\n",
        "- 랜덤포레스트를 적용하고 성능이 오히려 떨어졌을 수도 있습니다! 만약 그렇다면 이유를 본인 논리로 분석해 보세요.\n",
        "- **캐글 Leaderboard의 본인 Score를 과제 제출폼에 제출하세요.**"
      ]
    },
    {
      "cell_type": "code",
      "metadata": {
        "id": "IPBOGwWuLSZ8"
      },
      "source": [
        "## Ordinal Encoder에 사용할 mapping 값 지정\n",
        "# opinion_h1n1_vacc_effective, opinion_h1n1_risk,\topinion_h1n1_sick_from_vacc ,agegrp\t지정 \n",
        "\n",
        "# mapping 해주려면 아싸리 다 해줘야 되는구나.. 다 안해주면 오류가 발생하네 혹은 encoder parameter를 조정해주던가.\n",
        "# mapping = [{'col' : 'opinion_h1n1_vacc_effective', 'mapping' : {'Very Effective':6, 'Somewhat Effective':5, 'Dont Know':4, 'Not Very Effective':3, 'Not At All Effective':2, 'Refused':1}},\n",
        "#            {'col' : 'opinion_h1n1_risk', 'mapping' : {'Very High':6, 'Somewhat Effective':5, 'Dont Know':4, 'Somewhat Low':3, 'Very Low':2, 'Refused':1}},\n",
        "#            {'col':'opinion_h1n1_sick_from_vacc','mapping' : {'Very Worried':6, 'Somewhat Worried':5, 'Dont Know':4, 'Not Very Worried':3, 'Not At All Worried':2, 'Refused':1}},\n",
        "#            {'col' : 'agegrp','mapping': {'6 Months - 9 Years':1, '10 - 17 Years':2, '18 - 34 Years':3, '35 - 44 Years':4, '45 - 54 Years':5, '55 - 64 Years':6, '65+ Years':7}},\n",
        "#            {'col' : 'employment_status','mapping':{'Not in Labor Force':0,'Unemployed':1,'Employed':2}}]"
      ],
      "execution_count": 8,
      "outputs": []
    },
    {
      "cell_type": "code",
      "metadata": {
        "colab": {
          "base_uri": "https://localhost:8080/"
        },
        "id": "xqPZYOAqwHVR",
        "outputId": "81141f0e-541b-46a4-de10-c2cfb4f8721d"
      },
      "source": [
        "%%time\n",
        "from sklearn.ensemble import RandomForestClassifier\n",
        "from sklearn.impute import SimpleImputer \n",
        "from sklearn.pipeline import make_pipeline\n",
        "from category_encoders import OrdinalEncoder\n",
        "from sklearn.metrics import f1_score\n",
        "\n",
        "# ordinal encoding\n",
        "pipe_ord = make_pipeline(\n",
        "    OrdinalEncoder(),\n",
        "    SimpleImputer(), \n",
        "    RandomForestClassifier(random_state=10, n_jobs=-1\n",
        "                           , oob_score=True,max_features = 'log2'\n",
        "                           ,max_depth = 18,min_samples_split = 80)\n",
        "    )\n",
        "\n",
        "pipe_ord.fit(X_train, y_train)\n",
        "\n",
        "print('훈련 정확도: ', pipe_ord.score(X_train, y_train)) \n",
        "print('검증 정확도', pipe_ord.score(X_val, y_val))\n",
        "print('F1-Score for valid :', f1_score(y_val, pipe_ord.predict(X_val)))\n",
        "print(f'out-of-bag samples accuracy: ' ,pipe_ord.named_steps['randomforestclassifier'].oob_score_)\n",
        "print()"
      ],
      "execution_count": 9,
      "outputs": [
        {
          "output_type": "stream",
          "text": [
            "/usr/local/lib/python3.7/dist-packages/sklearn/pipeline.py:354: DataConversionWarning: A column-vector y was passed when a 1d array was expected. Please change the shape of y to (n_samples,), for example using ravel().\n",
            "  self._final_estimator.fit(Xt, y, **fit_params)\n"
          ],
          "name": "stderr"
        },
        {
          "output_type": "stream",
          "text": [
            "훈련 정확도:  0.839041603653293\n",
            "검증 정확도 0.8282528762898825\n",
            "F1-Score for valid : 0.559610705596107\n",
            "out-of-bag samples accuracy:  0.8266465023870948\n",
            "\n",
            "CPU times: user 6.24 s, sys: 149 ms, total: 6.39 s\n",
            "Wall time: 4.13 s\n"
          ],
          "name": "stdout"
        }
      ]
    },
    {
      "cell_type": "code",
      "metadata": {
        "colab": {
          "base_uri": "https://localhost:8080/",
          "height": 268
        },
        "id": "jhAMk4m2b9Fm",
        "outputId": "5db2dbd7-1f73-4f8f-aaee-5f9979e561b2"
      },
      "source": [
        "## 특성 중요도 파악\n",
        "import matplotlib.pyplot as plt\n",
        "\n",
        "n = 15\n",
        "\n",
        "rf_ord = pipe_ord.named_steps['randomforestclassifier']\n",
        "importances_ord = pd.Series(rf_ord.feature_importances_, X_train.columns)\n",
        "\n",
        "plt.figure(figsize=(10,n/4))\n",
        "plt.title(f'Top {n} features with ordinalencoder')\n",
        "importances_ord.sort_values()[-n:].plot.barh();"
      ],
      "execution_count": 10,
      "outputs": [
        {
          "output_type": "display_data",
          "data": {
            "image/png": "[encoded data removed]",
            "text/plain": [
              "<Figure size 720x270 with 1 Axes>"
            ]
          },
          "metadata": {
            "tags": [],
            "needs_background": "light"
          }
        }
      ]
    },
    {
      "cell_type": "code",
      "metadata": {
        "id": "KBMffDGxa7VL"
      },
      "source": [
        "y_pred = pipe_ord.predict(X_test)\n",
        "my_submission = pd.DataFrame({\n",
        "    'Id' : range(0, len(y_pred)),\n",
        "    'vacc_h1n1_f' : y_pred})\n",
        "my_submission\n",
        "my_submission.to_csv('my_submission.csv', index=False)"
      ],
      "execution_count": 11,
      "outputs": []
    },
    {
      "cell_type": "markdown",
      "metadata": {
        "id": "cQ-La4gHWg3a"
      },
      "source": [
        "# 결론\n",
        "- 총 3번의 제출을 시도했고 결과는 0.53 에서 최종은 0.52825의 결과를 얻을 수 있었다. 가장 어려웠던 것은 Randomforestclassifier의 **Hyper Parameter**를 수정하는 일이었다. \n",
        "\n",
        "- 결과가 decision tree를 이용했을 때보다 0.3나 더 낮은 결과가 나왔다. 이유로는 많은 이유가 있겠지만, 데이터의 전처리 과정이 완벽하지 못했을수도 있다는 생각도 든다. 또한 모델의 성능의 높여주는 최적화된 하이퍼 파라미터를 찾지 못해서라고 생각한다. 이러한 이유로 일반화가 제대로 이루어지지 못해서 최적화된 모델을 찾지 못했고 이에 따라 성능이 저조하다고 생각했다."
      ]
    },
    {
      "cell_type": "markdown",
      "metadata": {
        "id": "WtcDw-e1LaDb"
      },
      "source": [
        "## 🔥 도전과제"
      ]
    },
    {
      "cell_type": "markdown",
      "metadata": {
        "id": "kr3nanksLaDb"
      },
      "source": [
        "### 3) 수업에 사용하지 않은 다른 종류의 [category_encoders](http://contrib.scikit-learn.org/category_encoders/)을 적용해 보고 인코더에 대해 설명하세요\n",
        "\n",
        "#### Binary Encoder 사용\n",
        "- 해당 범주를 범주의 수에 해당하는 범위에 맞게 수치로 encoding하고 해당 수치를 이진수로 표현해주는 encoder이다."
      ]
    },
    {
      "cell_type": "code",
      "metadata": {
        "colab": {
          "base_uri": "https://localhost:8080/"
        },
        "id": "RdiizA8Xbgx6",
        "outputId": "0273a5e7-73e3-4fdf-ca9c-bc95831f3b99"
      },
      "source": [
        "%%time\n",
        "from category_encoders import  BinaryEncoder\n",
        "\n",
        "# binary encoding\n",
        "pipe_bi = make_pipeline(\n",
        "    BinaryEncoder(),\n",
        "    SimpleImputer(), \n",
        "    RandomForestClassifier(random_state=10, n_jobs=-1\n",
        "                           , oob_score=True,max_features = 'log2'\n",
        "                           ,max_depth = 18,min_samples_split = 80)\n",
        "    )\n",
        "\n",
        "pipe_bi.fit(X_train, y_train)\n",
        "\n",
        "print('훈련 정확도: ', pipe_bi.score(X_train, y_train)) \n",
        "print('검증 정확도', pipe_bi.score(X_val, y_val))\n",
        "print('F1-Score for valid :', f1_score(y_val, pipe_bi.predict(X_val)))\n",
        "print(f'out-of-bag samples accuracy: ' ,pipe_bi.named_steps['randomforestclassifier'].oob_score_)\n",
        "print()"
      ],
      "execution_count": 12,
      "outputs": [
        {
          "output_type": "stream",
          "text": [
            "/usr/local/lib/python3.7/dist-packages/category_encoders/utils.py:21: FutureWarning: is_categorical is deprecated and will be removed in a future version.  Use is_categorical_dtype instead\n",
            "  elif pd.api.types.is_categorical(cols):\n",
            "/usr/local/lib/python3.7/dist-packages/sklearn/pipeline.py:354: DataConversionWarning: A column-vector y was passed when a 1d array was expected. Please change the shape of y to (n_samples,), for example using ravel().\n",
            "  self._final_estimator.fit(Xt, y, **fit_params)\n"
          ],
          "name": "stderr"
        },
        {
          "output_type": "stream",
          "text": [
            "훈련 정확도:  0.8339412270557186\n",
            "검증 정확도 0.8246945795279327\n",
            "F1-Score for valid : 0.5334595959595959\n",
            "out-of-bag samples accuracy:  0.8245411143729798\n",
            "\n",
            "CPU times: user 6.6 s, sys: 159 ms, total: 6.76 s\n",
            "Wall time: 4.57 s\n"
          ],
          "name": "stdout"
        }
      ]
    },
    {
      "cell_type": "code",
      "metadata": {
        "colab": {
          "base_uri": "https://localhost:8080/"
        },
        "id": "jSWwfvkhb3ir",
        "outputId": "ed623010-81ef-45ed-aca0-b461461cbf92"
      },
      "source": [
        "# Binary Encoder vs Ordinal Encoder\n",
        "print('\\n--------Binary Encoder 사용--------')\n",
        "print('검증 정확도', pipe_bi.score(X_val, y_val))\n",
        "print('F1-Score for valid :', f1_score(y_val, pipe_bi.predict(X_val)))\n",
        "\n",
        "print('\\n--------Ordinal Encoder 사용--------')\n",
        "print('검증 정확도', pipe_ord.score(X_val, y_val))\n",
        "print('F1-Score for valid :', f1_score(y_val, pipe_ord.predict(X_val)))"
      ],
      "execution_count": 13,
      "outputs": [
        {
          "output_type": "stream",
          "text": [
            "\n",
            "--------Binary Encoder 사용--------\n",
            "검증 정확도 0.8246945795279327\n",
            "F1-Score for valid : 0.5334595959595959\n",
            "\n",
            "--------Ordinal Encoder 사용--------\n",
            "검증 정확도 0.8282528762898825\n",
            "F1-Score for valid : 0.559610705596107\n"
          ],
          "name": "stdout"
        }
      ]
    },
    {
      "cell_type": "code",
      "metadata": {
        "colab": {
          "base_uri": "https://localhost:8080/",
          "height": 323
        },
        "id": "k6xijj_ycS_4",
        "outputId": "3d1280c6-eb95-48f2-a8c7-1294adfe5eb5"
      },
      "source": [
        "# 특성 중요도 파악\n",
        "\n",
        "bi_encoded_train = BinaryEncoder().fit_transform(X_train)\n",
        "rf_bi = pipe_bi.named_steps['randomforestclassifier']\n",
        "importances_bi = pd.Series(rf_bi.feature_importances_, bi_encoded_train.columns)\n",
        "\n",
        "plt.figure(figsize=(10,n/4))\n",
        "plt.title(f'Top {n} features with binaryencoder')\n",
        "importances_bi.sort_values()[-n:].plot.barh();"
      ],
      "execution_count": 16,
      "outputs": [
        {
          "output_type": "stream",
          "text": [
            "/usr/local/lib/python3.7/dist-packages/category_encoders/utils.py:21: FutureWarning: is_categorical is deprecated and will be removed in a future version.  Use is_categorical_dtype instead\n",
            "  elif pd.api.types.is_categorical(cols):\n"
          ],
          "name": "stderr"
        },
        {
          "output_type": "display_data",
          "data": {
            "image/png": "[encoded data removed]",
            "text/plain": [
              "<Figure size 720x270 with 1 Axes>"
            ]
          },
          "metadata": {
            "tags": [],
            "needs_background": "light"
          }
        }
      ]
    },
    {
      "cell_type": "code",
      "metadata": {
        "colab": {
          "base_uri": "https://localhost:8080/",
          "height": 268
        },
        "id": "C2cXe2e_dEE9",
        "outputId": "9293a3a7-5f37-4e48-f701-65137d4f08c6"
      },
      "source": [
        "rf_ord = pipe_ord.named_steps['randomforestclassifier']\n",
        "importances_ord = pd.Series(rf_ord.feature_importances_, X_train.columns)\n",
        "\n",
        "plt.figure(figsize=(10,n/4))\n",
        "plt.title(f'Top {n} features with ordinalencoder')\n",
        "importances_ord.sort_values()[-n:].plot.barh();"
      ],
      "execution_count": 17,
      "outputs": [
        {
          "output_type": "display_data",
          "data": {
            "image/png": "[encoded data removed]",
            "text/plain": [
              "<Figure size 720x270 with 1 Axes>"
            ]
          },
          "metadata": {
            "tags": [],
            "needs_background": "light"
          }
        }
      ]
    },
    {
      "cell_type": "markdown",
      "metadata": {
        "id": "6fYjJPTULaDc"
      },
      "source": [
        "## 참고자료\n",
        "\n",
        "- [Random Forests for Complete Beginners](https://victorzhou.com/blog/intro-to-random-forests/)"
      ]
    }
  ]
}