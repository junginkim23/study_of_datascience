{
  "nbformat": 4,
  "nbformat_minor": 0,
  "metadata": {
    "kernelspec": {
      "display_name": "codestates_ds",
      "language": "python",
      "name": "codestates_ds"
    },
    "language_info": {
      "codemirror_mode": {
        "name": "ipython",
        "version": 3
      },
      "file_extension": ".py",
      "mimetype": "text/x-python",
      "name": "python",
      "nbconvert_exporter": "python",
      "pygments_lexer": "ipython3",
      "version": "3.7.7"
    },
    "colab": {
      "name": "n222-random-forests.ipynb",
      "provenance": []
    },
    "widgets": {
      "application/vnd.jupyter.widget-state+json": {
        "1a40993688b2406b88d2dc8d711265dc": {
          "model_module": "@jupyter-widgets/controls",
          "model_name": "VBoxModel",
          "state": {
            "_view_name": "VBoxView",
            "_dom_classes": [
              "widget-interact"
            ],
            "_model_name": "VBoxModel",
            "_view_module": "@jupyter-widgets/controls",
            "_model_module_version": "1.5.0",
            "_view_count": null,
            "_view_module_version": "1.5.0",
            "box_style": "",
            "layout": "IPY_MODEL_0f6994bc67fb4925b87b7c02d652f348",
            "_model_module": "@jupyter-widgets/controls",
            "children": [
              "IPY_MODEL_a02936fa1fd3423c89429c4c00db66f7",
              "IPY_MODEL_b15fdf75a4304267963a3d31a16895e0",
              "IPY_MODEL_00ce06841a9e4e72846b833d0520bc7d"
            ]
          }
        },
        "0f6994bc67fb4925b87b7c02d652f348": {
          "model_module": "@jupyter-widgets/base",
          "model_name": "LayoutModel",
          "state": {
            "_view_name": "LayoutView",
            "grid_template_rows": null,
            "right": null,
            "justify_content": null,
            "_view_module": "@jupyter-widgets/base",
            "overflow": null,
            "_model_module_version": "1.2.0",
            "_view_count": null,
            "flex_flow": null,
            "width": null,
            "min_width": null,
            "border": null,
            "align_items": null,
            "bottom": null,
            "_model_module": "@jupyter-widgets/base",
            "top": null,
            "grid_column": null,
            "overflow_y": null,
            "overflow_x": null,
            "grid_auto_flow": null,
            "grid_area": null,
            "grid_template_columns": null,
            "flex": null,
            "_model_name": "LayoutModel",
            "justify_items": null,
            "grid_row": null,
            "max_height": null,
            "align_content": null,
            "visibility": null,
            "align_self": null,
            "height": null,
            "min_height": null,
            "padding": null,
            "grid_auto_rows": null,
            "grid_gap": null,
            "max_width": null,
            "order": null,
            "_view_module_version": "1.2.0",
            "grid_template_areas": null,
            "object_position": null,
            "object_fit": null,
            "grid_auto_columns": null,
            "margin": null,
            "display": null,
            "left": null
          }
        },
        "a02936fa1fd3423c89429c4c00db66f7": {
          "model_module": "@jupyter-widgets/controls",
          "model_name": "IntSliderModel",
          "state": {
            "_view_name": "IntSliderView",
            "style": "IPY_MODEL_7dcbff30c1fe48dd83617464d90da4fc",
            "_dom_classes": [],
            "description": "max_depth",
            "step": 1,
            "_model_name": "IntSliderModel",
            "orientation": "horizontal",
            "max": 10,
            "_view_module": "@jupyter-widgets/controls",
            "_model_module_version": "1.5.0",
            "value": 2,
            "_view_count": null,
            "disabled": false,
            "_view_module_version": "1.5.0",
            "min": 1,
            "continuous_update": true,
            "readout_format": "d",
            "description_tooltip": null,
            "readout": true,
            "_model_module": "@jupyter-widgets/controls",
            "layout": "IPY_MODEL_c0c081d02ad6418280a1350680fc01a8"
          }
        },
        "b15fdf75a4304267963a3d31a16895e0": {
          "model_module": "@jupyter-widgets/controls",
          "model_name": "IntSliderModel",
          "state": {
            "_view_name": "IntSliderView",
            "style": "IPY_MODEL_85825f5bebc945159c0190e6eacc9fb3",
            "_dom_classes": [],
            "description": "n_estimators",
            "step": 10,
            "_model_name": "IntSliderModel",
            "orientation": "horizontal",
            "max": 50,
            "_view_module": "@jupyter-widgets/controls",
            "_model_module_version": "1.5.0",
            "value": 40,
            "_view_count": null,
            "disabled": false,
            "_view_module_version": "1.5.0",
            "min": 10,
            "continuous_update": true,
            "readout_format": "d",
            "description_tooltip": null,
            "readout": true,
            "_model_module": "@jupyter-widgets/controls",
            "layout": "IPY_MODEL_70e685818c254157a2bd391c456d7281"
          }
        },
        "00ce06841a9e4e72846b833d0520bc7d": {
          "model_module": "@jupyter-widgets/output",
          "model_name": "OutputModel",
          "state": {
            "_view_name": "OutputView",
            "msg_id": "",
            "_dom_classes": [],
            "_model_name": "OutputModel",
            "outputs": [
              {
                "output_type": "display_data",
                "metadata": {
                  "tags": [],
                  "needs_background": "light"
                },
                "image/png": "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\n",
                "text/plain": "<Figure size 432x288 with 1 Axes>"
              },
              {
                "output_type": "display_data",
                "metadata": {
                  "tags": [],
                  "needs_background": "light"
                },
                "image/png": "iVBORw0KGgoAAAANSUhEUgAAAYAAAAEWCAYAAABv+EDhAAAABHNCSVQICAgIfAhkiAAAAAlwSFlzAAALEgAACxIB0t1+/AAAADh0RVh0U29mdHdhcmUAbWF0cGxvdGxpYiB2ZXJzaW9uMy4yLjIsIGh0dHA6Ly9tYXRwbG90bGliLm9yZy+WH4yJAAAgAElEQVR4nO3de5QcZZ3/8fdnMpNJyIWEJIu5EiSoG9kkulHAsKsiKrqQqHgXFWWFVfHoegmw/FBc1qMEZL2uioisCooSMSzgQRFW11s0YAghCARBSAAJQ4BMDJPMzPf3R1WHmk7PpGfS3dUz9Xmd0yfVT/V0fbsyU99+LvU8igjMzKx4WvIOwMzM8uEEYGZWUE4AZmYF5QRgZlZQTgBmZgXlBGBmVlBOANZUJJ0j6Tt5x2FWBE4AVhVJ90naIalT0sOSLpU0Pu+4qiVprqRI4y89bm1wDCFpXub5SyT1prFsk3SnpHc1MiYrNicAG4zjI2I8sAh4HnBmzvEMxaSIGJ8+Fg72hyW11jieB9NzOhH4V+Drkp5d42PUI+5hdXyrzAnABi0iHgauJ0kESDpD0j3pt9gNkl5beq2kkyT9UtIFkrZKulfSqzL7D5b08/RnfwpMzR5L0lJJt0t6XNL/SvrbzL77JH1M0jpJ2yV9Q9KBkn6cvt8Nkibv7fNImiHpakmPSdoo6T2ZfedIulLSdyQ9CZwkaf/0WA9J2izpPySNSl8/L/08T0h6VNIVafkv0re8Nf3G/6aycxoRcR3wGLAg/ZmWzLntkPR9SQdkYnuHpD+n+85Oz8cxNY5bkv5T0iOSnpR0m6TD0n37S/qWpC1pHP9PUkvm//1X6c92AOfs7f/BchARfvix1wdwH3BMuj0LuA34fPr8DcAMki8UbwK2A9PTfScBu4D3AKOA9wIPAkr3/wa4EGgH/hHYBnwn3fes9L1eDrQBy4GNwOhMTL8FDgRmAo8At5DUTsYANwKfSF87FwigtcJn+wXwX+nPLAK2AEen+85J439N+vnGAlcBXwPGAX8D/A44NX39d4Gz0teOAY7KHCeAeZnnLwE2pdstwFKgF3heWvbB9PPNSs/P14DvpvvmA53AUcBo4II0zmNqGTfwSuBmYBIg4G8z/7ffAlYBE9Lzexdwcub/vRv4ANAKjM37d9iPCn/XeQfgx/B4pBfbzvQCHcDPSJpTKr12LbAs3T4J2JjZt1/6888A5qQXiXGZ/ZfzdAI4G/h+Zl8LsBl4SSamt2X2rwS+knn+AeBH6fbc9LiPZx4fBWYDPcCEzM99Grg03T4H+EVm34FAV/aCBrwFuCnd/hZwETCrwnmplAB601i60jg+lNl/B/CyzPPp6UW9Ffg4aTLInNed9E0A+xw3cHR6YT8CaMmUj0qPNz9Tdirwv5n/9/vz/r31Y+CHm4BsMF4TERNILlzPIW2uSZsi1qbNNI8Dh9G3Kefh0kZE/DXdHE9Sa9gaEdszr/1zZntG9nlE9AIPkHzbL/lLZntHheflHdVTI2JS+rggPcZjEbGtLIbsMR7IbB9EUht5KPN5v0byjRqSWoqA36VNV+9mYA9GxCSSPoAvkFxws8e6KnOcO0iSxIFp3LvjSs9rR9l773PcEXEj8CXgy8Ajki6SNJHk/7eNvv9fA503a0JOADZoEfFz4FLgAkkHAV8HTgOmpBez9SQXk715CJgsaVymbE5m+0GSCxeQtEeTfGPfvE8foK8HgQMkTSiLIXuM7JS5D5B8k84mkokR8VxI+kci4j0RMYPkG/F/KTPypz8R0QWcDvydpNdkjvWqzHEmRcSYiNhMcu5mlX5e0lhgSvnb1iLuiPhCRPw9SbPTs4CPAY+S1EYOyhxjoPNmTcgJwIbqcyRt85NI/tC3ACgZxnhYNW8QEX8G1gCflDRa0lHA8ZmXfB/4J0kvk9QGfITkIvbrWn2IiHggfb9PSxojaQFwMlDxXoSIeAj4CfBZSRPTjtpDJL0YQNIbJJUuzFtJzk1v+vwvwDMHiGUn8FmS5h2ArwKfSpMskqZJWpbuuxI4XtKLJI0mafLpN+kONW5JL5B0eHr+twNPAb0R0UPy//MpSRPSGD/c33mz5uQEYEMSEVtI2o0/TnLR+g3JBe7vgF8N4q3eChxOMvrlE+l7lo5xJ3Ai8EWSb5zHkwxF3VmDj5D1FpI+ggdJOko/ERE3DPD6d5B0vG4guVheSdI+D/ACYLWkTuBq4IMR8ad03znAf6dNMG/s570vAeZIOh74fPoeP5G0jaRD+HCAiLidpI/jeyS1gU6STvCuGsc9kaSGt5WkiacDOD/9mQ+QJIU/Ab8k6b+5ZIDjW5MpjcQws2FMyU15jwOHRsS9ecdjw4NrAGbDlKTjJe2X9qFcQDI09758o7LhxAnAbPhaRtJs9SBwKPDmcJXeBsFNQGZmBeUagJlZQQ2rCZqmTp0ac+fOzTsMM7Nh5eabb340IqaVlw+rBDB37lzWrFmTdxhmZsOKpD9XKncTkJlZQTkBmJkVlBOAmVlBOQGYmRWUE4CZWUE5AZiZNaGOzi5ufeBxOjoHmt9v3wyrYaBmZkWwau1mTl+5jraWFnb19rLihAUsXTRz7z84SK4BmJk1kY7OLk5fuY6ndvWyraubp3b1snzlurrUBJwAzMyayKatO2hr6XtpbmtpYdPWHTU/lhOAmVkTmTV5LLt6e/uU7ertZdbksTU/lhOAmVkTmTK+nRUnLGBMWwsT2lsZ09bCihMWMGV8e82P5U5gM7Mm0tHZxUFTxnHNaUexfWcPsyaPrcvFH5wAzMyaRqXRPwtnT6rb8XJrApI0W9JNkjZIul3SB/OKxcwsb40c/VOSZx9AN/CRiJgPHAG8X9L8HOMxM8tNI0f/lOSWACLioYi4Jd3eBtwB1P5OBzOzYaCRo39KmmIUkKS5wPOA1RX2nSJpjaQ1W7ZsaXRoZmYN0cjRPyW5LwovaTzwc+BTEfHDgV67ePHi8IpgZjaSdXR2sWnrjpqO/pF0c0QsLi/PdRSQpDZgJXDZ3i7+ZmZFMGV8e12/9WflOQpIwDeAOyLiwrziMDNrdvWaGTTPGsAS4O3AbZLWpmX/FhHX5RiTmVlTqefMoLklgIj4JaC8jm9m1uyy9wY8RTJCaPnKdSyZN7UmzURNMQrIzMz2VO97A5wAzMyaVL3vDXACMDNrUvW+N8CTwZmZNbGli2ayZN7Umt8bAE4AZmZNr173BrgJyMysoJwAzMwKygnAzKyJ1esuYHAfgJlZ05l7xrV9no+SaGtVTe8CBtcAzMyaXk9EXVYIcwIwM2syhx98AIfNmMiE9r6NNLVeIcwJwMysCbW3ttR9hTD3AZiZ5ezy1fezau3m3c83PPQk86dPZMUJC1heNhOobwQzMxtBVq3dvPuiDzB/+kSWLZpZ17uAwQnAzKwpzJ8+kStOPXKP8nquEOY+ADOzgnICMDMrKCcAM7OCcgIwMysoJwAzs4JyAjAzKygPAzUzq4Pym7sGkr0HoJFcAzAzq4PSzV3VKN341WiuAZiZ1Ul/N3c1C9cAzMyaRD0Xf6nENQAzsyawau1mTi+b+K2Wi79U4hqAmVnOOjq7OH3lOp7a1cu2ru66LP5SiROAmVnONm3dQVtL38txrRd/qSTXBCDpEkmPSFqfZxxmZo2Wbe+fNXls3Rd/qSTvGsClwLE5x2Bm1lCr1m5myXk3cuLFq1ly3o38auOjrDhhAWPaWpjQ3sqYtpaaL/5SSa6dwBHxC0lz84zBzKyRsu39T5F86//Ylev49RlH86vTj67b4i+V5F0D2CtJp0haI2nNli1b8g7HzGyfVGrv7+ru5fLV9zNlfDsLZ09qyMUfhkECiIiLImJxRCyeNm1a3uGYme2TWZPHsrOnd4/yL910d8PG/5c0fQIwMxtJpoxv57SXztujfPSoUXUf9VPOCcDMrMHeevgc2lvVp6wRo37K5T0M9LvAb4BnS9ok6eQ84zEza4Qp49s5//ULGz7qp1zeo4Dekufxzczy0NHZxUFTxnHNaUexfWdPw0b9lPNcQGZmDVRpzp+FsyflEov7AMzMGiSvOX/64wRgZtYgec350x8nADOzBslrzp/+OAGYmTXIlPHtucz50x93ApuZNdDSRTNZMm9qQ+f86Y8TgJlZg00Z357rhb/ETUBmZgXlBGBmVlBOAGZmBeUEYGZWUE4AZmYF5QRgZlZQTgBmZgXlBGBmVlBOAGZmQ9TR2cWtDzye22ye+8p3ApuZDUGlef2XLpqZd1iD4hqAmdkgNdu8/kPlBGBmNkjNNq//UDkBmJkNUrPN6z9UTgBmZoPUbPP6D5U7gc3MhqCZ5vUfKicAM7MhapZ5/YfKTUBmZgXlBGBmVoXhftNXJW4CMjPbi5Fw01clrgGYmQ1gpNz0VYkTgJnZAEbKTV+VuAnIzAqvo7Or3+GclW766tzZzb//z+20jur/O/SGh55k/vSJdYm3VnKtAUg6VtKdkjZKOiPPWMysmFat3cyS827kxItXs+S8G7l67eY++8tv+pJgTGvLgBd/gPnTJ7KsyfsJcqsBSBoFfBl4ObAJ+L2kqyNiQ14xmVmxZNv3nyL5lr985TqWzJvapyaQvemr9M3/ilOPzCvsmsmzBvBCYGNE/CkidgLfA5blGI+ZFcxg2venjG9n4exJe/3mP5xU9UkkHS+p1p96JvBA5vmmtKz82KdIWiNpzZYtW2ocgpkV2UiZ1G2oqr2ovwm4W9IKSc+pZ0DlIuKiiFgcEYunTZvWyEOb2QiTvZmr1PF79nHzh/2kbkNVVR9ARJwoaSLwFuBSSQF8E/huRGwb4rE3A7Mzz2elZWZmNZe9mWvHrm4kMaZ1FLt6ezn7n+Zz2Mz9d48Cunz1/axaW/lyNBxG91Sr6madiHgSuJKkrX468FrgFkkfGOKxfw8cKulgSaOBNwNXD/G9zMz6VX4zV3cv7OqJ3Td2nXvthj5DQFet3cyGh56s+F7DYXRPtaqqAUhaBpwEzAO+BbwwIh6RtB+wAfjiYA8cEd2STgOuB0YBl0TE7YN9HzOzvSl19pZG+pQrdfxmm37mT584Ikb6DKTaYaCvA/4zIn6RLYyIv0o6eagHj4jrgOuG+vNmZiUDNdt09/TSubO7358tv7FrJDXzDKTaJqCHyy/+ks4DiIif1TwqM7NBGqjZpnVUC4dMHYcEo5SUiWRbgkOmjuszvHMkNfMMpNoawMuB08vKXlWhzMwsN3trtslO+QAM69W8amHABCDpvcD7gEMkrcvsmgD8qp6BmZmVDDRXz2CUr+BV1At/yd5qAJcDPwY+DWTn6tkWEY/VLSozs9RInYu/GeytDyAi4j7g/cC2zANJB9Q3NDMrupE8F38zqKYGcBxwMxAk/SYlATyzTnGZWQGVj+TZ3tXNru6yqRq6e3nnJb9jXHvfy1dRRu7U0oAJICKOS/89uDHhmNlIU2l4ZndPL13dvbSXTau8+t6kZfnwg5MGhvbWlj1G7vem5eWKMnKnlqq9EWwJsDYitks6EXg+8LmIuL+u0ZnZsFcanln6dt7R2cU9j26nheRifsjUcbs7Yw8/+ACWLZrJWw+fs/vnr167meXuA6iLaoeBfgVYKGkh8BHgYuDbwIvrFZiZNZ+BbrbqT+nif8WpR9LR2cWS824kAnrS/Zse38EVpx7Z74ic7Fz8RR6yWQ/V3gjWHRFBMl//lyLiyyRDQc2sQAa62ao/2aaZoa6vW5qL3xf/2qq2BrBN0pnAicA/pmsDtNUvLDNrVvsyR07R599vNoNZD6ALODkiHiaZuvn8ukVlZsNWds79cuXr6xZt/v1mU+16AA8DF2ae308yK6iZ2W7Zm7Z29vRy2kvn8dbD5/S7vq7b9PNV7ZKQr5N0t6QnJD0paZukwTUEmtmIVn7TVld3L5/96V286DM/4+qyjmO36TeHavsAVgDHR8Qd9QzGzGpjKKN1qjHQzVb9zbnf1R0sX7mOJfOm+oLfZKrtA/iLL/5mw8dQRutUY6CbrSp18JZUM9LHGq/aGsAaSVcAPyLpDAYgIn5Yl6jMbJ81ekWrUgfvx65cR1f59A0e6dOUqk0AE4G/Aq/IlAXgBGBmu5U6eC9ffT9fuuluRo8atfvuXTf/NJ9qRwG9q96BmFk+ajXXfsmU8e184GWH8tbD53ikT5Ordi6gZ5FMB3FgRBwmaQGwNCL+o67RmVld1XOu/fLFV6z5VNsJ/HXgTGAXQESsA95cr6DMrP48175VmwD2i4jflZV11zoYM2ucoc7LYyNHtQngUUmHkHT8Iun1wEN1i8rM6s7z8li1CeD9wNeA50jaDHwI+Je6RWVmded5eWzATmBJH848vQ64iSRpbAdOIDM/kJkNP56Xp9j2NgqoNOf/s4EXAKtI1gV+O1DeJ2BmVdiXaRr6W0qx3GDWx/VoneLa25rAnwSQ9Avg+RGxLX1+DnBt3aMzG4HKl0is1kBLKZbz+rhWjWrvBD4Q2Jl5vjMtM7MhGOw0DUNZStFsb6rtBP4W8DtJ56Tf/lcDlw71oJLeIOl2Sb2SFg/1fcyKwkM2rR6qnQriU5J+DPxDWvSuiPjDPhx3PfA6kpFFZrYXHrJp9VBtExARcQtwSy0OWppaWlIt3s6s4Wo9f87elIZsLi+btsHNP7Yvqk4AeZF0CnAKwJw5c3KOxkaKfRmJM5jO2EqG0gEMHrJptVdtH8CgSbpB0voKj2WDeZ+IuCgiFkfE4mnTptUrXCuYahdM6e7pZXtXN909vbuf3/Po9qQzNiAC7nl0++791diXETpeStFqqW41gIg4pl7vbc2lXssP1lPpW/hAI3EqzZR50JRxnHjxarZ1PT0V1vjRrXz8+OeycPakRoRuVjN1qwFYcdRr+cF62tu38P5myhw3epQ7Y23EyKUPQNJrgS8C04BrJa2NiFfmEYvVRqOXH6y3Sguct7W0sH1njztjbcTIJQFExFXAVXkc20auWo7MGWjY5cLZk9wZayNC048CMqtGrVe22tuwS8+fYyOBE4ANe9n2+lKTzfKV61gyb+o+XaQ97NJGOieAHA3H0TOVDHVceyVDacbpr71+09Yd+3zR9jd9G8mcAHI01Fkhm02tZp4cajOOp0kwGxongJyNtNEzQ7UvzTieJsFsaJwArCnsazOO2+vNBs8JwJpCLZpx3F5vNji+E9iaghcoN2s81wCsabgZx6yxnAAKqNFz2Q+Gm3HMGscJoGDKh1qefdx8Dpuxf1MmAzOrLyeAAqk01PKsq9YzbvQoeiL2efoEMxte3AlcIJUWFgfYvrNn93THHZ1dOURmZnlwAiiQSkMts0rj7s2sGJwACiQ71HJc+6g99nv6BLNicR9AwWSHWq7f/ATnXrvB0yeYFZQTQAGVhlounD2JYw97RtMOCTWz+nICKDiPuzcrLvcBmJkVlBOAmVlBOQGYmRWUE4CZWUE5AZiZFZQTgJlZQTkBmJkVlBOAmVlBOQGYmRWUE4CZWUE5AZiZFVQuCUDS+ZL+KGmdpKskTcojDjOzIsurBvBT4LCIWADcBZyZUxxmZoWVSwKIiJ9ERHf69LfArDziMDMrsmboA3g38OP+dko6RdIaSWu2bNnSwLDMzEa2uq0HIOkG4BkVdp0VEavS15wFdAOX9fc+EXERcBHA4sWLow6hmpkVUt0SQEQcM9B+SScBxwEviwhf2M3MGiyXFcEkHQssB14cEX/NIwYzs6LLqw/gS8AE4KeS1kr6ak5xmJkVVi41gIiYl8dxzczsac0wCsjMzHLgBGBmVlBOAGZmBVXYBNDR2cWtDzxOR2dX3qGYmeUil07gvK1au5nlV65jVIvo6Q3Of/0Cli6amXdYZmYNVbgaQEdnFx/9wa10dffy1509dHX38pEf3OqagJkVTuESwO0PPsGunr43Hu/qCW5/8ImcIjIzy0fhEgBokOVmZiNT4RLAc2dMpLXsU7e2JOVmZkVSuAQwZXw7n1x2GG2jxJi2FtpbxYVvXMSU8e15h2Zm1lCFSwCr1m7m3Gs2MHpUC729wcePe65HAJlZIRUqAXR0dnH6ynU8tauX7Tt72NkTnHvtBo8AMrNCKlQC2LR1B20tfT9yW0sLm7buyCkiM7P8FCoBzJo8ll29vX3KdvX2Mmvy2JwiMjPLT6ESwJTx7aw4YQFj2lqY0N7KmLYWVpywwB3AZlZIhZsKYsm8qVz09sVA8NwZ+/vib2aFVagEsGrtZk5fuY62lhZ29fay4gTPAWRmxVWYJqCOzi6WX5mMANrW1c1Tu3pZvnKdRwCZWWEVJgGc/aPb6Oru2wHsEUBmVmSFSAAb/7KN69b/ZY/ynT0eAWRmxVWIPoBP/s+GiuX7j23jfZfd0uBonrbhoSeZP91zEJlZPgpRA5g2ofJIn2fsP6bBkfQ1f/pElrkT2sxyUogawIVvWsSWbU/xfxs7dpf9w7wpfPufj8gxKjOzfBWiBtDR2cVv732sT9lv733MI4DMrNAKkQC8CpiZ2Z4KkQC8CpiZ2Z4KkQCeO2PiHpd64VXAzKzYCpEAtm7fSZSVRVpuZlZUuSQASedKWidpraSfSJpRz+OtfeDxQZWbmRVBXjWA8yNiQUQsAq4BPl7Pgz3Wzzf9RbMn1fOwZmZNLZcEEBFPZp6Ogz1aaGqmo7OLC2+4a4/yNy6exbwDJ9TrsGZmTS+3G8EkfQp4B/AE8NIBXncKcArAnDlzBn2cTVt30NrStwt4v7YW3nb4QYN+LzOzkaRuNQBJN0haX+GxDCAizoqI2cBlwGn9vU9EXBQRiyNi8bRp0wYdx/rNT9DZ1dOnrBc8CZyZFV7dagARcUyVL70MuA74RK1j6Ojs4txr95wI7uzj5nslMDMrvLxGAR2aeboM+GM9jrNp6w7aWvp+xHGjR3HYjP3rcTgzs2Elrz6Az0h6NklrzJ+Bf6nHQWZNHsuu3r6LwPREuPnHzIz8RgGdEBGHpUNBj4+IzfU4zpTx7aw4YQFj2lqY0N7KmLYWVpywwM0/ZmYUYDropYtmsmTeVDZt3cGsyWN98TczS434BABJTcAXfjOzvgoxF5CZme3JCcDMrKCcAMzMCsoJwMysoJwAzMwKShF1m4iz5iRtIblxrJlNBR7NO4hBcLz15XjrazjFm2esB0XEHpOpDasEMBxIWhMRi/OOo1qOt74cb30Np3ibMVY3AZmZFZQTgJlZQTkB1N5FeQcwSI63vhxvfQ2neJsuVvcBmJkVlGsAZmYF5QRgZlZQTgCDJGm2pJskbZB0u6QPpuUHSPqppLvTfyen5ZL0BUkbJa2T9PwcYh4l6Q+SrkmfHyxpdRrTFZJGp+Xt6fON6f65OcQ6SdKVkv4o6Q5JRzb5uf3X9PdgvaTvShrTTOdX0iWSHpG0PlM26PMp6Z3p6++W9M4Gx3t++vuwTtJVkiZl9p2ZxnunpFdmyo9NyzZKOqOR8Wb2fURSSJqaPs/9/O4hIvwYxAOYDjw/3Z4A3AXMB1YAZ6TlZwDnpduvBn4MCDgCWJ1DzB8GLgeuSZ9/H3hzuv1V4L3p9vuAr6bbbwauyCHW/wb+Od0eDUxq1nMLzATuBcZmzutJzXR+gX8Eng+sz5QN6nwCBwB/Sv+dnG5PbmC8rwBa0+3zMvHOB24F2oGDgXuAUenjHuCZ6e/QrcD8RsWbls8Grie5cXVqs5zfPeJvxEFG8gNYBbwcuBOYnpZNB+5Mt78GvCXz+t2va1B8s4CfAUcD16S/fI9m/qCOBK5Pt68Hjky3W9PXqYGx7p9eUFVW3qzndibwQPqH25qe31c22/kF5pZdUAd1PoG3AF/LlPd5Xb3jLdv3WuCydPtM4MzMvuvT8737nFd6XSPiBa4EFgL38XQCaIrzm324CWgfpFX45wGrgQMj4qF018PAgel26SJRsikta5TPActJ1l8GmAI8HhHdFeLZHWu6/4n09Y1yMLAF+GbaZHWxpHE06bmNZCnTC4D7gYdIztfNNO/5LRns+cz7dzjr3STfoqFJ45W0DNgcEbeW7Wq6eJ0AhkjSeGAl8KGIeDK7L5I0nvv4WknHAY9ExM15x1KlVpLq9Fci4nnAdpImit2a5dwCpG3ny0gS1wxgHHBsrkENUjOdz72RdBbQDVyWdyz9kbQf8G/Ax/OOpRpOAEMgqY3k4n9ZRPwwLf6LpOnp/unAI2n5ZpL2wJJZaVkjLAGWSroP+B5JM9DngUmSSsuBZuPZHWu6f3+go0GxQvLNZ1NErE6fX0mSEJrx3AIcA9wbEVsiYhfwQ5Jz3qznt2Sw5zPv84ykk4DjgLelSYsB4soz3kNIvhDcmv7dzQJukfSMAeLKLV4ngEGSJOAbwB0RcWFm19VAqff+nSR9A6Xyd6QjAI4AnshUv+sqIs6MiFkRMZek0/HGiHgbcBPw+n5iLX2G16evb9i3w4h4GHhA0rPTopcBG2jCc5u6HzhC0n7p70Up3qY8vxmDPZ/XA6+QNDmt9bwiLWsISceSNGMujYi/ZnZdDbw5HV11MHAo8Dvg98Ch6Wis0SS/+1c3ItaIuC0i/iYi5qZ/d5tIBo08TDOe30Z0NIykB3AUSZV5HbA2fbyapC33Z8DdwA3AAenrBXyZZFTCbcDinOJ+CU+PAnomyR/KRuAHQHtaPiZ9vjHd/8wc4lwErEnP749IRkU07bkFPgn8EVgPfJtkRErTnF/guyT9E7tILkYnD+V8krS9b0wf72pwvBtJ2shLf29fzbz+rDTeO4FXZcpfTTJC7x7grEbGW7b/Pp7uBM79/JY/PBWEmVlBuQnIzKygnADMzArKCcDMrKCcAMzMCsoJwMysoJwAzIZA0jmSPlqhfIakK9Ptl+jpGViXlmallPQaSfMbG7HZnpwAzGooIh6MiNdXKL86Ij6TPn0NyUyWZrlyArDCkjQ3nWf+Ukl3SbpM0jGSfpXOy/5CJXPn/yidv/23khZk3mKhpN+kr31P5j0rzQ1/kqQvSXoRsBQ4X9JaSYdIuiXzukOzz83qqXXvLzEb0eYBbyC5E/P3wFtJ7vZeSjKp1wPAHyLiNZKOBr5FcrcywAKSed3HAX+QdO3eDhYRv5Z0Ncld2aWmoickLYqItcC7gG/W8gOa9cc1ACu6eyOZv6UXuB34WSS3x99GMs/7UUYfvFMAAAD3SURBVCRTPBARNwJTJE1Mf3ZVROyIiEdJ5v954RBjuBh4l6RRwJtIFu8xqzsnACu6rsx2b+Z5L3uvIZfPozLUeVVWAq8ime3y5ojIY4ZQKyAnALOB/R/wNkhG9QCPxtPrPyxTsgbwFJLJ9n5f5XtuI1lOFICIeIpk9sev4OYfayAnALOBnQP8vaR1wGd4ehplSGYsvQn4LXBuRDxY5Xt+D/hYuurZIWnZZSS1jp/UJGqzKng2ULMmkN5TsH9EnJ13LFYcHgVkljNJV5GsJHV03rFYsbgGYGZWUO4DMDMrKCcAM7OCcgIwMysoJwAzs4JyAjAzK6j/D6l9bl2ehWp6AAAAAElFTkSuQmCC\n",
                "text/plain": "<Figure size 432x288 with 1 Axes>"
              }
            ],
            "_view_module": "@jupyter-widgets/output",
            "_model_module_version": "1.0.0",
            "_view_count": null,
            "_view_module_version": "1.0.0",
            "layout": "IPY_MODEL_404a73c7d24d4987ae91b80564bbeacb",
            "_model_module": "@jupyter-widgets/output"
          }
        },
        "7dcbff30c1fe48dd83617464d90da4fc": {
          "model_module": "@jupyter-widgets/controls",
          "model_name": "SliderStyleModel",
          "state": {
            "_view_name": "StyleView",
            "handle_color": null,
            "_model_name": "SliderStyleModel",
            "description_width": "",
            "_view_module": "@jupyter-widgets/base",
            "_model_module_version": "1.5.0",
            "_view_count": null,
            "_view_module_version": "1.2.0",
            "_model_module": "@jupyter-widgets/controls"
          }
        },
        "c0c081d02ad6418280a1350680fc01a8": {
          "model_module": "@jupyter-widgets/base",
          "model_name": "LayoutModel",
          "state": {
            "_view_name": "LayoutView",
            "grid_template_rows": null,
            "right": null,
            "justify_content": null,
            "_view_module": "@jupyter-widgets/base",
            "overflow": null,
            "_model_module_version": "1.2.0",
            "_view_count": null,
            "flex_flow": null,
            "width": null,
            "min_width": null,
            "border": null,
            "align_items": null,
            "bottom": null,
            "_model_module": "@jupyter-widgets/base",
            "top": null,
            "grid_column": null,
            "overflow_y": null,
            "overflow_x": null,
            "grid_auto_flow": null,
            "grid_area": null,
            "grid_template_columns": null,
            "flex": null,
            "_model_name": "LayoutModel",
            "justify_items": null,
            "grid_row": null,
            "max_height": null,
            "align_content": null,
            "visibility": null,
            "align_self": null,
            "height": null,
            "min_height": null,
            "padding": null,
            "grid_auto_rows": null,
            "grid_gap": null,
            "max_width": null,
            "order": null,
            "_view_module_version": "1.2.0",
            "grid_template_areas": null,
            "object_position": null,
            "object_fit": null,
            "grid_auto_columns": null,
            "margin": null,
            "display": null,
            "left": null
          }
        },
        "85825f5bebc945159c0190e6eacc9fb3": {
          "model_module": "@jupyter-widgets/controls",
          "model_name": "SliderStyleModel",
          "state": {
            "_view_name": "StyleView",
            "handle_color": null,
            "_model_name": "SliderStyleModel",
            "description_width": "",
            "_view_module": "@jupyter-widgets/base",
            "_model_module_version": "1.5.0",
            "_view_count": null,
            "_view_module_version": "1.2.0",
            "_model_module": "@jupyter-widgets/controls"
          }
        },
        "70e685818c254157a2bd391c456d7281": {
          "model_module": "@jupyter-widgets/base",
          "model_name": "LayoutModel",
          "state": {
            "_view_name": "LayoutView",
            "grid_template_rows": null,
            "right": null,
            "justify_content": null,
            "_view_module": "@jupyter-widgets/base",
            "overflow": null,
            "_model_module_version": "1.2.0",
            "_view_count": null,
            "flex_flow": null,
            "width": null,
            "min_width": null,
            "border": null,
            "align_items": null,
            "bottom": null,
            "_model_module": "@jupyter-widgets/base",
            "top": null,
            "grid_column": null,
            "overflow_y": null,
            "overflow_x": null,
            "grid_auto_flow": null,
            "grid_area": null,
            "grid_template_columns": null,
            "flex": null,
            "_model_name": "LayoutModel",
            "justify_items": null,
            "grid_row": null,
            "max_height": null,
            "align_content": null,
            "visibility": null,
            "align_self": null,
            "height": null,
            "min_height": null,
            "padding": null,
            "grid_auto_rows": null,
            "grid_gap": null,
            "max_width": null,
            "order": null,
            "_view_module_version": "1.2.0",
            "grid_template_areas": null,
            "object_position": null,
            "object_fit": null,
            "grid_auto_columns": null,
            "margin": null,
            "display": null,
            "left": null
          }
        },
        "404a73c7d24d4987ae91b80564bbeacb": {
          "model_module": "@jupyter-widgets/base",
          "model_name": "LayoutModel",
          "state": {
            "_view_name": "LayoutView",
            "grid_template_rows": null,
            "right": null,
            "justify_content": null,
            "_view_module": "@jupyter-widgets/base",
            "overflow": null,
            "_model_module_version": "1.2.0",
            "_view_count": null,
            "flex_flow": null,
            "width": null,
            "min_width": null,
            "border": null,
            "align_items": null,
            "bottom": null,
            "_model_module": "@jupyter-widgets/base",
            "top": null,
            "grid_column": null,
            "overflow_y": null,
            "overflow_x": null,
            "grid_auto_flow": null,
            "grid_area": null,
            "grid_template_columns": null,
            "flex": null,
            "_model_name": "LayoutModel",
            "justify_items": null,
            "grid_row": null,
            "max_height": null,
            "align_content": null,
            "visibility": null,
            "align_self": null,
            "height": null,
            "min_height": null,
            "padding": null,
            "grid_auto_rows": null,
            "grid_gap": null,
            "max_width": null,
            "order": null,
            "_view_module_version": "1.2.0",
            "grid_template_areas": null,
            "object_position": null,
            "object_fit": null,
            "grid_auto_columns": null,
            "margin": null,
            "display": null,
            "left": null
          }
        }
      }
    }
  },
  "cells": [
    {
      "cell_type": "markdown",
      "metadata": {
        "id": "UEHyIgGaaSEJ"
      },
      "source": [
        "<img align=\"right\" src=\"https://ds-cs-images.s3.ap-northeast-2.amazonaws.com/Codestates_Fulllogo_Color.png\" width=100>\n",
        "\n",
        "## *DATA SCIENCE / SECTION 2 / SPRINT 2 / NOTE 2*\n",
        "\n",
        "---\n",
        "\n",
        "# 랜덤포레스트(Random Forests)"
      ]
    },
    {
      "cell_type": "markdown",
      "metadata": {
        "id": "jRRNhkxcgLVK"
      },
      "source": [
        "- **랜덤포레스트** 모델을 이해하고 문제에 적용할 수 있습니다.\n",
        "- **순서형인코딩(Ordinal encoding)** 과 원핫인코딩을 구분하여 사용할 수 있습니다.\n",
        "- 범주형 변수의 인코딩 방법이 트리모델과 선형회귀 모델에 주는 영향 이해합니다."
      ]
    },
    {
      "cell_type": "markdown",
      "metadata": {
        "id": "-3TH11e1gLVL"
      },
      "source": [
        "### Warm up\n",
        "\n",
        "\n",
        "오늘 배우는 랜덤포레스트 모델에 대해서 다음 영상을 시청하고 질문에 답해보세요:\n",
        "\n",
        "- [StatQuest: Random Forests Part 1 - Building, Using and Evaluating](https://youtu.be/J4Wdy0Wc_xQ)\n",
        "    - 랜텀포레스트가 결정트리와 어떻게 다를까요?\n",
        "    - 배깅(Bagging)이 무슨 뜻입니까?\n",
        "    - Out-Of-Bag(OOB) sample의 역할이 무엇이지요?\n",
        "\n",
        "\n",
        "데이터가 선형이든 비선형이든, 여러분들이 분류문제를 풀어야 한다면 랜덤포레스트를 먼저 적용해 보시기를 바랍니다.\n",
        "\n",
        "앞서 배운 결정트리모델은 한 개의 트리만 사용하기 때문에 한 노드에서 생긴 에러가 하부 노드에서도 계속 영향을 주는 특성이 있습니다. 그리고 트리의 깊이에 따라 과적합되는 경향이 있습니다. 이러한 문제는 앙상블모델인 랜덤포레스트를 사용하면 쉽게 해결할 수 있습니다!"
      ]
    },
    {
      "cell_type": "markdown",
      "metadata": {
        "id": "r5PbOFEuFfGF"
      },
      "source": [
        "이번에 활용하는 주요 라이브러리는 다음과 같습니다.\n",
        "\n",
        "- category_encoders\n",
        "- ipywidgets\n",
        "- matplotlib\n",
        "- pandas\n",
        "- scikit-learn"
      ]
    },
    {
      "cell_type": "code",
      "metadata": {
        "id": "GgrMTPWRUuN_",
        "outputId": "283a1479-4a36-44d2-8463-12f6d965aab4",
        "colab": {
          "base_uri": "https://localhost:8080/"
        }
      },
      "source": [
        "!pip install category_encoders --upgrade"
      ],
      "execution_count": 7,
      "outputs": [
        {
          "output_type": "stream",
          "text": [
            "Collecting category_encoders\n",
            "\u001b[?25l  Downloading https://files.pythonhosted.org/packages/44/57/fcef41c248701ee62e8325026b90c432adea35555cbc870aff9cfba23727/category_encoders-2.2.2-py2.py3-none-any.whl (80kB)\n",
            "\r\u001b[K     |████                            | 10kB 15.6MB/s eta 0:00:01\r\u001b[K     |████████▏                       | 20kB 20.4MB/s eta 0:00:01\r\u001b[K     |████████████▏                   | 30kB 10.3MB/s eta 0:00:01\r\u001b[K     |████████████████▎               | 40kB 8.0MB/s eta 0:00:01\r\u001b[K     |████████████████████▎           | 51kB 5.2MB/s eta 0:00:01\r\u001b[K     |████████████████████████▍       | 61kB 5.4MB/s eta 0:00:01\r\u001b[K     |████████████████████████████▍   | 71kB 5.8MB/s eta 0:00:01\r\u001b[K     |████████████████████████████████| 81kB 3.9MB/s \n",
            "\u001b[?25hRequirement already satisfied, skipping upgrade: pandas>=0.21.1 in /usr/local/lib/python3.7/dist-packages (from category_encoders) (1.1.5)\n",
            "Requirement already satisfied, skipping upgrade: statsmodels>=0.9.0 in /usr/local/lib/python3.7/dist-packages (from category_encoders) (0.10.2)\n",
            "Requirement already satisfied, skipping upgrade: scipy>=1.0.0 in /usr/local/lib/python3.7/dist-packages (from category_encoders) (1.4.1)\n",
            "Requirement already satisfied, skipping upgrade: scikit-learn>=0.20.0 in /usr/local/lib/python3.7/dist-packages (from category_encoders) (0.22.2.post1)\n",
            "Requirement already satisfied, skipping upgrade: numpy>=1.14.0 in /usr/local/lib/python3.7/dist-packages (from category_encoders) (1.19.5)\n",
            "Requirement already satisfied, skipping upgrade: patsy>=0.5.1 in /usr/local/lib/python3.7/dist-packages (from category_encoders) (0.5.1)\n",
            "Requirement already satisfied, skipping upgrade: pytz>=2017.2 in /usr/local/lib/python3.7/dist-packages (from pandas>=0.21.1->category_encoders) (2018.9)\n",
            "Requirement already satisfied, skipping upgrade: python-dateutil>=2.7.3 in /usr/local/lib/python3.7/dist-packages (from pandas>=0.21.1->category_encoders) (2.8.1)\n",
            "Requirement already satisfied, skipping upgrade: joblib>=0.11 in /usr/local/lib/python3.7/dist-packages (from scikit-learn>=0.20.0->category_encoders) (1.0.1)\n",
            "Requirement already satisfied, skipping upgrade: six in /usr/local/lib/python3.7/dist-packages (from patsy>=0.5.1->category_encoders) (1.15.0)\n",
            "Installing collected packages: category-encoders\n",
            "Successfully installed category-encoders-2.2.2\n"
          ],
          "name": "stdout"
        }
      ]
    },
    {
      "cell_type": "markdown",
      "metadata": {
        "id": "BiEV6ej-TbMv"
      },
      "source": [
        "---"
      ]
    },
    {
      "cell_type": "markdown",
      "metadata": {
        "id": "Qh2zcVqBTbMv"
      },
      "source": [
        "#### 필수 라이브러리를 불러옵니다."
      ]
    },
    {
      "cell_type": "code",
      "metadata": {
        "id": "OzfqFF8MTbMw"
      },
      "source": [
        "import pandas as pd"
      ],
      "execution_count": 1,
      "outputs": []
    },
    {
      "cell_type": "markdown",
      "metadata": {
        "id": "nkkYYTtKTbMx"
      },
      "source": [
        "### H1N1 데이터를 불러오겠습니다"
      ]
    },
    {
      "cell_type": "code",
      "metadata": {
        "id": "qW4KRhgtTbMx"
      },
      "source": [
        "target = 'vacc_h1n1_f'\n",
        "train = pd.merge(pd.read_csv('https://ds-lecture-data.s3.ap-northeast-2.amazonaws.com/vacc_flu/train.csv'), \n",
        "                 pd.read_csv('https://ds-lecture-data.s3.ap-northeast-2.amazonaws.com/vacc_flu/train_labels.csv')[target], left_index=True, right_index=True)\n",
        "test = pd.read_csv('https://ds-lecture-data.s3.ap-northeast-2.amazonaws.com/vacc_flu/test.csv')\n",
        "sample_submission = pd.read_csv('https://ds-lecture-data.s3.ap-northeast-2.amazonaws.com/vacc_flu/submission.csv')"
      ],
      "execution_count": 2,
      "outputs": []
    },
    {
      "cell_type": "markdown",
      "metadata": {
        "id": "XlZJ4t5YTbMy"
      },
      "source": [
        "#### train 데이터를 훈련/검증 세트로 분리합니다."
      ]
    },
    {
      "cell_type": "code",
      "metadata": {
        "id": "koAVdwsNTbMy",
        "outputId": "3d8098bd-f13e-49b8-9279-356498db9886",
        "colab": {
          "base_uri": "https://localhost:8080/"
        }
      },
      "source": [
        "from sklearn.model_selection import train_test_split\n",
        "train, val = train_test_split(train, train_size=0.80, test_size=0.20, \n",
        "                              stratify=train[target], random_state=2)\n",
        "\n",
        "\n",
        "train.shape, val.shape, test.shape"
      ],
      "execution_count": 3,
      "outputs": [
        {
          "output_type": "execute_result",
          "data": {
            "text/plain": [
              "((33723, 39), (8431, 39), (28104, 38))"
            ]
          },
          "metadata": {
            "tags": []
          },
          "execution_count": 3
        }
      ]
    },
    {
      "cell_type": "markdown",
      "metadata": {
        "id": "pMrPLz45TbMz"
      },
      "source": [
        "#### 이전에 H1N1 데이터에 대해 앞단에 수행했던 함수를 사용하겠습니다."
      ]
    },
    {
      "cell_type": "code",
      "metadata": {
        "id": "HIWkvsGhTbMz"
      },
      "source": [
        "def engineer(df):\n",
        "    \"\"\"특성을 엔지니어링 하는 함수입니다.\"\"\"\n",
        "    \n",
        "    # 높은 카디널리티를 가지는 특성을 제거합니다.\n",
        "#     selected_cols = df.select_dtypes(include=['number', 'object'])\n",
        "#     colnames = selected_cols.columns.tolist()\n",
        "#     labels = selected_cols.nunique()\n",
        "    \n",
        "#     selected_features = labels[labels <= 30].index.tolist()\n",
        "#     df = df[selected_features]\n",
        "    \n",
        "    # 새로운 특성을 생성합니다.\n",
        "    behaviorals = [col for col in df.columns if 'behavioral' in col] \n",
        "    df['behaviorals'] = df[behaviorals].sum(axis=1)\n",
        "    \n",
        "    \n",
        "    dels = [col for col in df.columns if ('employment' in col or 'seas' in col)]\n",
        "    df.drop(columns=dels, inplace=True)\n",
        "        \n",
        "    return df\n",
        "\n",
        "\n",
        "train = engineer(train)\n",
        "val = engineer(val)\n",
        "test = engineer(test)"
      ],
      "execution_count": 8,
      "outputs": []
    },
    {
      "cell_type": "markdown",
      "metadata": {
        "id": "-RYtp6kSTbM0"
      },
      "source": [
        "#### 훈련/검증/테스트 데이터를 특성과 타겟으로 분리합니다"
      ]
    },
    {
      "cell_type": "code",
      "metadata": {
        "id": "aIBzY5NuTbM0"
      },
      "source": [
        "features = train.drop(columns=[target]).columns\n",
        "\n",
        "X_train = train[features]\n",
        "y_train = train[target]\n",
        "X_val = val[features]\n",
        "y_val = val[target]\n",
        "X_test = test[features]"
      ],
      "execution_count": 5,
      "outputs": []
    },
    {
      "cell_type": "markdown",
      "metadata": {
        "id": "ZL-yK8B7gLVW"
      },
      "source": [
        "## 랜덤 포레스트"
      ]
    },
    {
      "cell_type": "markdown",
      "metadata": {
        "id": "FSkVcCkaTbM1"
      },
      "source": [
        "#### 랜덤 포레스트를 먼저 적용해 보고 시작해 보겠습니다.\n",
        "\n",
        "[1.11.2. Forests of randomized trees](https://scikit-learn.org/stable/modules/ensemble.html#forests-of-randomized-trees) "
      ]
    },
    {
      "cell_type": "code",
      "metadata": {
        "colab": {
          "base_uri": "https://localhost:8080/"
        },
        "id": "57yyygsdgLVW",
        "outputId": "5178c47c-fe6a-41bf-821e-bf26f5b9efff"
      },
      "source": [
        "%%time\n",
        "from category_encoders import OneHotEncoder\n",
        "from sklearn.ensemble import RandomForestClassifier\n",
        "from sklearn.impute import SimpleImputer \n",
        "from sklearn.pipeline import make_pipeline\n",
        "\n",
        "pipe = make_pipeline(\n",
        "    OneHotEncoder(use_cat_names=True),  # 전처리 과정 \n",
        "    SimpleImputer(), # 전처리 과정/ 결측값 채워줌. default는 데이터의 평균\n",
        "    RandomForestClassifier(n_jobs=-1, random_state=10, oob_score=True) # n_jobs parameter: 실행되고 있는 컴퓨터 환경에서 가용한 모든 프로세스를 사용한다.?? -> 찾아보기! \n",
        "                                                                       # oob_score parameter: \n",
        ")\n",
        "\n",
        "pipe.fit(X_train, y_train)\n",
        "print('검증 정확도: ', pipe.score(X_val, y_val))"
      ],
      "execution_count": 9,
      "outputs": [
        {
          "output_type": "stream",
          "text": [
            "/usr/local/lib/python3.7/dist-packages/statsmodels/tools/_testing.py:19: FutureWarning: pandas.util.testing is deprecated. Use the functions in the public API at pandas.testing instead.\n",
            "  import pandas.util.testing as tm\n",
            "/usr/local/lib/python3.7/dist-packages/category_encoders/utils.py:21: FutureWarning: is_categorical is deprecated and will be removed in a future version.  Use is_categorical_dtype instead\n",
            "  elif pd.api.types.is_categorical(cols):\n"
          ],
          "name": "stderr"
        },
        {
          "output_type": "stream",
          "text": [
            "검증 정확도:  0.8265923378009726\n",
            "CPU times: user 11.7 s, sys: 307 ms, total: 12 s\n",
            "Wall time: 7.59 s\n"
          ],
          "name": "stdout"
        }
      ]
    },
    {
      "cell_type": "markdown",
      "metadata": {
        "id": "Lnq6uRARTbM1"
      },
      "source": [
        "### 랜덤포레스트는 앙상블(Ensemble) 방법입니다.\n",
        "- 앙상블 방법은 쉽게 여러 모델을 만들어 학습하는 방법을 말한다.\n",
        "\n",
        "<img src=\"https://i.imgur.com/ZhesJwf.png\" width=\"600\" />\n",
        "\n",
        "- **앙상블 방법**은 한 종류의 데이터로 여러 머신러닝 학습모델(**weak base learner, 기본모델**_만들어진 다양한 모델들 각각을 통칭한다.)을 만들어 그 모델들의 예측결과를 다수결이나 평균을 내어 예측하는 방법을 말합니다. 이론적으로 기본모델 몇가지 조건을 충족하는 여러 종류의 모델을 사용할 수 있습니다.\n",
        "\n",
        "- 랜덤포레스트는 결정트리를 기본모델로 사용하는 앙상블 방법이라 할 수 있습니다.\n",
        "\n",
        "- 결정트리들은 **독립적**으로 만들어지며 각각 랜덤으로 예측하는 성능보다 좋을 경우 랜덤포레스트는 결정트리보다 성능이 좋습니다. -> **무슨 말?**\n"
      ]
    },
    {
      "cell_type": "markdown",
      "metadata": {
        "id": "RaLNo7iBTbM2"
      },
      "source": [
        "### 랜덤포레스트의 기본모델은 어떻게 만들까요?\n",
        "\n",
        "<img src=\"https://i.imgur.com/HsM8x2C.png\" width=\"700\" />"
      ]
    },
    {
      "cell_type": "markdown",
      "metadata": {
        "id": "DOf1FygTTbM2"
      },
      "source": [
        "#### 배깅(Bagging, `B`ootstrap `Agg`regat`ing`)\n",
        "\n",
        "- random forest의 기본 모델은 bootstrap라는 방법으로 만들어진 학습 데이터로 학습된다.\n",
        "\n",
        "<img src=\"https://www.researchgate.net/profile/Xiaogang_He2/publication/309031320/figure/fig1/AS:422331542708224@1477703094069/Schematic-of-the-RF-algorithm-based-on-the-Bagging-Bootstrap-Aggregating-method.png\" width=\"700\" />\n"
      ]
    },
    {
      "cell_type": "markdown",
      "metadata": {
        "id": "6eRBGkvqTbM2"
      },
      "source": [
        "#### 부트스트랩(Bootstrap) 샘플링\n",
        "\n",
        "앙상블에 사용하는 작은 모델들은 부트스트래핑(bootstraping)이라는 샘플링과정으로 얻은 **부트스트랩세트**를 사용해 학습을 합니다. 즉 원본 데이터에서 샘플링을 하는데 **복원추출**을 한다는 것인데 복원추출은 샘플을 뽑아 값을 기록하고 제자리에 돌려놓는 것을 말합니다.\n",
        "\n",
        "이렇게 샘플링을 특정한 수 만큼 반복하면 하나의 부트스트랩세트가 완성됩니다. 복원추출이기 때문에 부트스트랩세트에는 같은 샘플이 반복될 수 있습니다.\n",
        "\n",
        "**bagging이란 bootstrap을 통해 만들어진 샘플을 통해 모델을 학습하고 위의 그림처럼 합치는 과정을 말한다. -> 정확하게 이해 안됨.**\n",
        "\n",
        "<img src=\"https://i.imgur.com/fg6gQES.png\" width=\"700\" />\n"
      ]
    },
    {
      "cell_type": "markdown",
      "metadata": {
        "id": "8iCAvlEjTbM2"
      },
      "source": [
        "**복원추출 : 한 번 샘플링한 샘플을 다시 원본 데이터에 넣고 그 다음 샘플링할때 또 추출될 수 있도록 하는 추출 방법이다.**\n",
        "\n",
        "**bootstrap sampling, 데이터(오리지널 데이터,컬럼의 수)의 개수만큼 복원 추출하는 것을 말한다.**\n",
        "\n",
        "부트스트랩세트의 크기가 n이라 할 때 한 번의 추출과정에서 어떤 한 샘플이 추출 되지 않을 확률은 다음과 같습니다.\n",
        "\n",
        "$\\displaystyle \\frac {n-1}{n}$ -> **이러한 확률이 나오는 이유?**\n",
        "\n",
        "n회 복원추출을 진행했을 때 그 샘플이 추출되지 않았을 확률은 다음과 같습니다.\n",
        "\n",
        "$\\displaystyle \\left({\\frac {n-1}{n}}\\right)^{n}$\n",
        "\n",
        "n을 무한히 크게 했을 때 이 식은 다음과 같습니다.\n",
        "\n",
        "$\\displaystyle \\lim _{{n\\to \\infty }}\\left({1 - \\frac {1}{n}}\\right)^{n} = e^{-1} = 0.368$\n",
        "\n",
        "\n",
        "참고: $\\displaystyle e =  \\lim _{{n\\to \\infty }}\\left(1+{\\frac  {1}{n}}\\right)^{n}$\n",
        "\n",
        "\n",
        "즉 데이터가 충분히 크다고 가정했을 때 한 부트스트랩세트는 **표본의 63.2%** 에 해당하는 샘플을 가집니다."
      ]
    },
    {
      "cell_type": "markdown",
      "metadata": {
        "id": "NqQ6ObI-TbM3"
      },
      "source": [
        "##### 여기서 추출되지 않는 36.8%의 샘플이 **Out-Of-Bag** 샘플이며 이것을 사용해 모델을 검증할 수 있습니다."
      ]
    },
    {
      "cell_type": "code",
      "metadata": {
        "id": "XPJUfPK3TbM3",
        "outputId": "7ac163f2-0bc8-46b5-9055-0aff4521f21e",
        "colab": {
          "base_uri": "https://localhost:8080/"
        }
      },
      "source": [
        "pipe.named_steps['randomforestclassifier'].oob_score_ # oob_score_가 있기 때문에 검증 데이터 셋을 구현하지 않더라도 정확도를 알 수 있다. 이것도 생각해볼 필요가 있다."
      ],
      "execution_count": 10,
      "outputs": [
        {
          "output_type": "execute_result",
          "data": {
            "text/plain": [
              "0.8188180173768644"
            ]
          },
          "metadata": {
            "tags": []
          },
          "execution_count": 10
        }
      ]
    },
    {
      "cell_type": "markdown",
      "metadata": {
        "id": "Kv1nsG3kTbM4"
      },
      "source": [
        "#### 기본모델(weak learner, 작은 모델들)은 어떻게 합치나요?\n",
        "부트스트랩세트로 만들어진 기본모델들을 합치는 과정을 **Aggregation** 이라고 합니다. \n",
        "\n",
        "- 회귀문제일 경우 기본모델 결과들의 **평균**으로 결과를 내고, \n",
        "\n",
        "- 분류문제일 경우 **다수결**로 가장 많은 모델들이 선택한 범주로 예측합니다.\n"
      ]
    },
    {
      "cell_type": "markdown",
      "metadata": {
        "id": "pKnuRLwaTbM4"
      },
      "source": [
        "#### 랜덤포레스트는 기본모델들의 트리를 만들 때 **무작위로 선택한 특성세트**를 사용합니다.\n",
        "\n",
        "기본모델 트리를 만드는 방법은 일반 결정트리 알고리즘과 한 가지 다른 점이 있습니다.\n",
        "\n",
        "- 결정트리에서 분할을 위한 특성을 선택할 때, 모든 특성(n개)을 고려하여 최적의 특성을 고르고 분할하였습니다. \n",
        "\n",
        "- 하지만 랜덤포레스트에서는 **특성 n개 중 일부분 k개의 특성을 선택(sampling)** 하고 이 k개에서 최적의 특성을 찾아내어 분할합니다. 이때 k개는 일반적으로 $log_2 n$ 를 사용합니다."
      ]
    },
    {
      "cell_type": "markdown",
      "metadata": {
        "id": "yfyk_aa5gLVY"
      },
      "source": [
        "# [랜덤 포레스트 or 트리 기반 모델을 사용할 때 주의해야 할 점!]\n",
        "\n",
        "- 원핫인코딩을 사용하면 특성의 cardinality 개수 만큼 특성을 생성한다. 이렇게 되면 트리 학습에서는 범주형 특성이 상위 노드에서 선택될 기회가 매우 적어진다. 왜? \n",
        "\n",
        "- 트리 구조는 구조상 중요한 특성들이 상위 노드에서 선택되어진다. 중요한 범주형 특성이 원핫인코딩이 되면 상위 노드에서 선택될 수 없다. 하나의 특성이 여러 특성으로 나뉘어 지기 때문이다.\n",
        "\n",
        "- 그래서 **norminal 특성?**이더라도 ordinal 인코딩을 사용함.\n",
        "\n",
        "- ordinal 인코딩 사용하면 특성이 순서적인 특성으로 바뀜. 아래의 예제처럼.\n",
        "\n",
        "## 범주형 자료의 다른 인코딩 방법인 순서형(ordinal) 인코딩을 사용해 보겠습니다.\n",
        "순서형 인코딩은 범주에 숫자를 맵핑합니다. ['a', 'b', 'c'] 세 범주가 있다면 이것을 -> [1, 2, 3] 이렇게 숫자로 인코딩 합니다. \n",
        "트리구조 학습에서는 원핫인코딩을 사용하면 문제가 있습니다.\n",
        "\n",
        "트리구조에서는 중요한 특성이 상위노드에서 먼저 분할이 일어납니다. 그래서 범주 종류가 많은(high cardinality) 특성은 원핫인코딩으로 인해 상위노드에서 선택될 기회가 적어집니다. \n",
        "\n",
        "그래서 원핫인코딩 영향을 안 받는 수치형 특성이 상위노드를 차지할 기회가 높아지고 전체적인 성능 저하가 생길 수 있습니다.\n",
        "\n",
        "http://contrib.scikit-learn.org/categorical-encoding/ordinal.html"
      ]
    },
    {
      "cell_type": "markdown",
      "metadata": {
        "id": "ynP02jjtTbM5"
      },
      "source": [
        "#### OrdinalEncoder를 사용해 범주형 자료의 맵핑이 어떻게 일어나는지 살펴 보겠습니다."
      ]
    },
    {
      "cell_type": "code",
      "metadata": {
        "id": "KEsicFCcTbM5",
        "outputId": "e1ed3bb8-9af5-4537-cb5c-855a4e929a86",
        "colab": {
          "base_uri": "https://localhost:8080/"
        }
      },
      "source": [
        "from category_encoders import OrdinalEncoder\n",
        "enc = OrdinalEncoder(handle_missing=\"value\")\n",
        "X = [['Male', 1, 'Yes'], ['Female', 3, 'No'], ['Female', 2, 'None']]\n",
        "enc.fit(X)"
      ],
      "execution_count": 28,
      "outputs": [
        {
          "output_type": "execute_result",
          "data": {
            "text/plain": [
              "OrdinalEncoder(cols=[0, 2], drop_invariant=False, handle_missing='value',\n",
              "               handle_unknown='value',\n",
              "               mapping=[{'col': 0, 'data_type': dtype('O'),\n",
              "                         'mapping': Male      1\n",
              "Female    2\n",
              "NaN      -2\n",
              "dtype: int64},\n",
              "                        {'col': 2, 'data_type': dtype('O'),\n",
              "                         'mapping': Yes     1\n",
              "No      2\n",
              "None    3\n",
              "NaN    -2\n",
              "dtype: int64}],\n",
              "               return_df=True, verbose=0)"
            ]
          },
          "metadata": {
            "tags": []
          },
          "execution_count": 28
        }
      ]
    },
    {
      "cell_type": "markdown",
      "metadata": {
        "id": "27XcdG2sTbM5"
      },
      "source": [
        "transform을 사용해서 데이터를 넣어 보겠습니다"
      ]
    },
    {
      "cell_type": "code",
      "metadata": {
        "id": "ZZ_znOaXTbM6",
        "outputId": "d40a2168-acb6-4a40-a58b-261d5e4c9087",
        "colab": {
          "base_uri": "https://localhost:8080/",
          "height": 142
        }
      },
      "source": [
        "import numpy as np\n",
        "enc.transform([['Male',1,'No'],['Female', 10],[np.nan,0,'None']]) # 아무것도 없을 때 -1이 되나? "
      ],
      "execution_count": 36,
      "outputs": [
        {
          "output_type": "execute_result",
          "data": {
            "text/html": [
              "<div>\n",
              "<style scoped>\n",
              "    .dataframe tbody tr th:only-of-type {\n",
              "        vertical-align: middle;\n",
              "    }\n",
              "\n",
              "    .dataframe tbody tr th {\n",
              "        vertical-align: top;\n",
              "    }\n",
              "\n",
              "    .dataframe thead th {\n",
              "        text-align: right;\n",
              "    }\n",
              "</style>\n",
              "<table border=\"1\" class=\"dataframe\">\n",
              "  <thead>\n",
              "    <tr style=\"text-align: right;\">\n",
              "      <th></th>\n",
              "      <th>0</th>\n",
              "      <th>1</th>\n",
              "      <th>2</th>\n",
              "    </tr>\n",
              "  </thead>\n",
              "  <tbody>\n",
              "    <tr>\n",
              "      <th>0</th>\n",
              "      <td>1</td>\n",
              "      <td>1</td>\n",
              "      <td>2.0</td>\n",
              "    </tr>\n",
              "    <tr>\n",
              "      <th>1</th>\n",
              "      <td>2</td>\n",
              "      <td>10</td>\n",
              "      <td>-1.0</td>\n",
              "    </tr>\n",
              "    <tr>\n",
              "      <th>2</th>\n",
              "      <td>-2</td>\n",
              "      <td>0</td>\n",
              "      <td>3.0</td>\n",
              "    </tr>\n",
              "  </tbody>\n",
              "</table>\n",
              "</div>"
            ],
            "text/plain": [
              "   0   1    2\n",
              "0  1   1  2.0\n",
              "1  2  10 -1.0\n",
              "2 -2   0  3.0"
            ]
          },
          "metadata": {
            "tags": []
          },
          "execution_count": 36
        }
      ]
    },
    {
      "cell_type": "code",
      "metadata": {
        "id": "ypRcb4gGTbM6",
        "outputId": "b03f1f2b-712c-4816-ba45-45a1c8e001f6"
      },
      "source": [
        "enc.category_mapping # encoder의 정보 확인 "
      ],
      "execution_count": null,
      "outputs": [
        {
          "output_type": "execute_result",
          "data": {
            "text/plain": [
              "[{'col': 0,\n",
              "  'mapping': Male      1\n",
              "  Female    2\n",
              "  NaN      -2\n",
              "  dtype: int64,\n",
              "  'data_type': dtype('O')},\n",
              " {'col': 2,\n",
              "  'mapping': Yes     1\n",
              "  No      2\n",
              "  None    3\n",
              "  NaN    -2\n",
              "  dtype: int64,\n",
              "  'data_type': dtype('O')}]"
            ]
          },
          "metadata": {
            "tags": []
          },
          "execution_count": 10
        }
      ]
    },
    {
      "cell_type": "markdown",
      "metadata": {
        "id": "GARvPVSuTbM6"
      },
      "source": [
        "#### H1N1 데이터를 순서형 인코딩으로 학습해 보겠습니다. 실행 속도 변화를 비교해 살펴보세요."
      ]
    },
    {
      "cell_type": "code",
      "metadata": {
        "colab": {
          "base_uri": "https://localhost:8080/"
        },
        "id": "b8d_WJtcgLVZ",
        "outputId": "6ba1b8f2-6fae-445d-a91b-03b27da33e00"
      },
      "source": [
        "%%time\n",
        "\n",
        "# ordinal encoding\n",
        "pipe_ord = make_pipeline(\n",
        "    OrdinalEncoder(), \n",
        "    SimpleImputer(), \n",
        "    RandomForestClassifier(random_state=10, n_jobs=-1, oob_score=True)\n",
        ")\n",
        "\n",
        "pipe_ord.fit(X_train, y_train)\n",
        "print('검증 정확도', pipe_ord.score(X_val, y_val))"
      ],
      "execution_count": 37,
      "outputs": [
        {
          "output_type": "stream",
          "text": [
            "검증 정확도 0.8254062388803226\n",
            "CPU times: user 7.56 s, sys: 144 ms, total: 7.71 s\n",
            "Wall time: 4.55 s\n"
          ],
          "name": "stdout"
        }
      ]
    },
    {
      "cell_type": "markdown",
      "metadata": {
        "id": "1Y9UzYqCTbM7"
      },
      "source": [
        "#### 특성의 수 (onehot vs ordinal)?"
      ]
    },
    {
      "cell_type": "code",
      "metadata": {
        "id": "XCkdUCQgTbM7",
        "outputId": "9d20316a-08a4-4d2a-bea4-69c50b7e7cc5"
      },
      "source": [
        "print('Shape  before: ', X_train.shape)\n",
        "\n",
        "# OneHotEncoder\n",
        "enc = pipe.named_steps['onehotencoder']\n",
        "encoded = enc.transform(X_train)\n",
        "print('OneHot  shape: ', encoded.shape)\n",
        "\n",
        "# OrdinalEncoder\n",
        "enc = pipe_ord.named_steps['ordinalencoder']\n",
        "encoded = enc.transform(X_train)\n",
        "print('Ordinal shape: ', encoded.shape)"
      ],
      "execution_count": null,
      "outputs": [
        {
          "output_type": "stream",
          "text": [
            "Shape  before:  (33723, 32)\n",
            "OneHot  shape:  (33723, 108)\n",
            "Ordinal shape:  (33723, 32)\n"
          ],
          "name": "stdout"
        }
      ]
    },
    {
      "cell_type": "markdown",
      "metadata": {
        "id": "wFgDXOEYTbM7"
      },
      "source": [
        "### 랜텀포레스트 특성 중요도 비교 (onehot vs ordinal)?\n",
        "\n",
        "랜덤포레스트에서는 학습 후에 특성들의 **중요도 정보**(Gini importance)를 기본으로 제공합니다. 중요도는 노드들의 지니불순도(Gini impurity)를 가지고 계산하는데 **지니 불순도가 가장 많이 감소한 특성이 중요한 특성이라고 본다.**\n",
        "\n",
        "**노드가 중요할 수록 불순도가 크게 감소**한다는 사실을 이용합니다. \n",
        "\n",
        "노드는 한 특성의 값을 기준으로 분리가 되기 때문에 불순도를 크게 감소하는데 많이 사용된 특성이 중요도가 올라갈 것입니다."
      ]
    },
    {
      "cell_type": "code",
      "metadata": {
        "id": "hsVVDENaTbM7",
        "outputId": "872ff779-5e69-431b-eb19-7a88981d0980",
        "colab": {
          "base_uri": "https://localhost:8080/",
          "height": 383
        }
      },
      "source": [
        "import matplotlib.pyplot as plt\n",
        "\n",
        "# 특성 중요도(onehot)\n",
        "rf = pipe.named_steps['randomforestclassifier']\n",
        "colnames = pipe.named_steps['onehotencoder'].get_feature_names()\n",
        "importances = pd.Series(rf.feature_importances_, colnames)\n",
        "\n",
        "n = 10\n",
        "plt.figure(figsize=(10,n/4))\n",
        "plt.title(f'Top {n} features with onehotencoder')\n",
        "importances.sort_values()[-n:].plot.barh();\n",
        "\n",
        "\n",
        "# 특성 중요도(ordinal)\n",
        "rf_ord = pipe_ord.named_steps['randomforestclassifier']\n",
        "importances_ord = pd.Series(rf_ord.feature_importances_, X_train.columns)\n",
        "\n",
        "plt.figure(figsize=(10,n/4))\n",
        "plt.title(f'Top {n} features with ordinalencoder')\n",
        "importances_ord.sort_values()[-n:].plot.barh();\n"
      ],
      "execution_count": 39,
      "outputs": [
        {
          "output_type": "display_data",
          "data": {
            "image/png": "[encoded data removed]",
            "text/plain": [
              "<Figure size 720x180 with 1 Axes>"
            ]
          },
          "metadata": {
            "tags": [],
            "needs_background": "light"
          }
        },
        {
          "output_type": "display_data",
          "data": {
            "image/png": "[encoded data removed]",
            "text/plain": [
              "<Figure size 720x180 with 1 Axes>"
            ]
          },
          "metadata": {
            "tags": [],
            "needs_background": "light"
          }
        }
      ]
    },
    {
      "cell_type": "markdown",
      "metadata": {
        "id": "xs2UPoVdgLVp"
      },
      "source": [
        "### 이제 이 두 가지 인코딩 방법이 선형 모델(다중 선형 회귀 모델)에 어떤 영향을 주는지 알아 봅시다.\n",
        "- 예측하건데, onehotencoding을 해야할 범주형 데이터에 순서형 encoding을 하면 도움이 안 될 것으로 예상한다.\n",
        "  - 예측 성공 / **근데 왜 그렇지?** \n",
        "    - ordinal encoding의 무작위로 범주를 숫자로 매핑하기 때문에 의미를 잘 살리지 못하기 때문에 검증을 잘 못한다고 생각할 수 있다. "
      ]
    },
    {
      "cell_type": "code",
      "metadata": {
        "id": "mf0dJ3v5TbM8",
        "outputId": "c200c819-0d65-4c67-cca7-518e0505d6d0",
        "colab": {
          "base_uri": "https://localhost:8080/"
        }
      },
      "source": [
        "from sklearn.linear_model import LogisticRegression\n",
        "from sklearn.preprocessing import StandardScaler\n",
        "\n",
        "pipe_lr = make_pipeline(\n",
        "    OneHotEncoder(), \n",
        "    SimpleImputer(), \n",
        "    LogisticRegression(n_jobs=-1)\n",
        ")\n",
        "pipe_lr.fit(X_train, y_train)\n",
        "\n",
        "print('검증세트 정확도', pipe_lr.score(X_val, y_val))"
      ],
      "execution_count": 40,
      "outputs": [
        {
          "output_type": "stream",
          "text": [
            "/usr/local/lib/python3.7/dist-packages/category_encoders/utils.py:21: FutureWarning: is_categorical is deprecated and will be removed in a future version.  Use is_categorical_dtype instead\n",
            "  elif pd.api.types.is_categorical(cols):\n"
          ],
          "name": "stderr"
        },
        {
          "output_type": "stream",
          "text": [
            "검증세트 정확도 0.8204246234135927\n"
          ],
          "name": "stdout"
        }
      ]
    },
    {
      "cell_type": "code",
      "metadata": {
        "id": "tSG1wuG-TbM8",
        "outputId": "1f0f2da7-bc23-44b4-a886-f76c531a92fc",
        "colab": {
          "base_uri": "https://localhost:8080/"
        }
      },
      "source": [
        "pipe_lr = make_pipeline(\n",
        "    OrdinalEncoder(), \n",
        "    SimpleImputer(),  \n",
        "    LogisticRegression(n_jobs=-1)\n",
        ")\n",
        "pipe_lr.fit(X_train, y_train)\n",
        "\n",
        "print('검증세트 정확도', pipe_lr.score(X_val, y_val))"
      ],
      "execution_count": 41,
      "outputs": [
        {
          "output_type": "stream",
          "text": [
            "검증세트 정확도 0.797532914245048\n"
          ],
          "name": "stdout"
        }
      ]
    },
    {
      "cell_type": "markdown",
      "metadata": {
        "id": "Iuxm8XdMTbM9"
      },
      "source": [
        "순서형인코딩은 주의해야 할 것이 있습니다. 범주들을 순서가 있는 숫자형으로 바꾸면 원래 그 범주에 없던 순서정보가 생깁니다.\n",
        "\n",
        "예를들어 food 특성에 ('밥', '빵') 이라는 두 범주가 있을 때 순서형 인코딩을 하면 ('1','2') 이렇게 인코딩이 됩니다. 원하지 않게 밥은 1, 빵은 2라는 순위를 매길수 있는 정보가 생겼습니다.\n",
        "\n",
        "사실 순서형 인코딩은 범주들 간에 분명한 순위가 있을때 그 연관성에 맞게 숫자를 정해주는 것이 좋습니다. 예를들어 영화 평점과 같은 특성은 분명히 순서형 인코딩이 적절합니다.\n",
        "\n",
        "지금까지는 OrdinalEncoder를 사용해 무작위로 수치를 인코딩 하였지만,\n",
        "\n",
        "여러분들이 정확한 범주의 순위를 알고 있다면 `mapping` 파라미터를 사용해 지정해줄 수 있습니다. [OrdinalEncoder](https://contrib.scikit-learn.org/category_encoders/ordinal.html)\n"
      ]
    },
    {
      "cell_type": "markdown",
      "metadata": {
        "id": "P4EJi2GvgLVa"
      },
      "source": [
        "## 트리 앙상블 모델이 결정트리모델보다 상대적으로 과적합을 피할 수 있는 이유가 무엇일까요?"
      ]
    },
    {
      "cell_type": "markdown",
      "metadata": {
        "id": "rjqPbS3TTbM9"
      },
      "source": [
        "#### 랜덤포레스트의 랜덤성은 다음 두 가지에서 나옵니다.\n",
        "\n",
        "결정트리는 데이터 일부에 과적합하는 경향이 있습니다. 그래서 다르게 샘플링된 데이터로 과적합된 트리를 많이 만들고 그 결과를 평균내 사용하는 모델이 랜덤 포레스트 입니다. 이렇게 하면 과적합이 줄고 성능이 유지 된다는 것이 알려져 있습니다.\n",
        "랜텀포레스트에서 트리를 랜덤하게 만드는 방법은 두 가지 입니다.\n",
        "\n",
        "1. 랜덤포레스트에서 학습되는 트리들은 배깅을 통해 만들어집니다.(`bootstrap = true`) 이때 각 기본트리에 사용되는 데이터가 랜덤으로 선택됩니다.\n",
        "  - 배깅이라는 것이, 부트스르랩으로 데이터 선택하고 해당 데이터를 합쳐서 학습 데이터를 만드는 것을 말한다.\n",
        "2. 각각 트리는 무작위로 선택된 특성들을 가지고 분기를 수행합니다.(`max_features = auto`.)  **분기란?**\n",
        "\n",
        "이러한 두 가지 랜덤성으로 인해서 결정트리보다 과적합이 잘 되지 않는다. "
      ]
    },
    {
      "cell_type": "markdown",
      "metadata": {
        "id": "pUYP619CgLVb"
      },
      "source": [
        "#### 랜덤포레스트가 비선형 관계의 데이터를 적합하는 모습을 살펴 봅시다.\n",
        "#### [Thurber dataset](https://www.itl.nist.gov/div898/strd/nls/data/thurber.shtml)\n",
        "- Nonlinear Least Squares Regression\n",
        "   - 비선형 회귀 문제에서 자주 등장하는 데이터 셋"
      ]
    },
    {
      "cell_type": "code",
      "metadata": {
        "id": "PDrOciKcTbM-"
      },
      "source": [
        "columns = ['mobility', 'density']\n",
        "data = [[80.574, -3.067]\n",
        ",[84.248, -2.981]\n",
        ",[87.264, -2.921]\n",
        ",[87.195, -2.912]\n",
        ",[89.076, -2.84]\n",
        ",[89.608, -2.797]\n",
        ",[89.868, -2.702]\n",
        ",[90.101, -2.699]\n",
        ",[92.405, -2.633]\n",
        ",[95.854, -2.481]\n",
        ",[100.696, -2.363]\n",
        ",[101.06, -2.322]\n",
        ",[401.672, -1.501]\n",
        ",[390.724, -1.46]\n",
        ",[567.534, -1.274]\n",
        ",[635.316, -1.212]\n",
        ",[733.054, -1.1]\n",
        ",[759.087, -1.046]\n",
        ",[894.206, -0.915]\n",
        ",[990.785, -0.714]\n",
        ",[1090.109, -0.566]\n",
        ",[1080.914, -0.545]\n",
        ",[1122.643, -0.4]\n",
        ",[1178.351, -0.309]\n",
        ",[1260.531, -0.109]\n",
        ",[1273.514, -0.103]\n",
        ",[1288.339, 0.01]\n",
        ",[1327.543, 0.119]\n",
        ",[1353.863, 0.377]\n",
        ",[1414.509, 0.79]\n",
        ",[1425.208, 0.963]\n",
        ",[1421.384, 1.006]\n",
        ",[1442.962, 1.115]\n",
        ",[1464.35, 1.572]\n",
        ",[1468.705, 1.841]\n",
        ",[1447.894, 2.047]\n",
        ",[1457.628, 2.2]]\n",
        "\n",
        "thurber = pd.DataFrame(columns=columns, data=data)\n",
        "X_thurber = thurber[['mobility']]\n",
        "y_thurber = thurber['density']"
      ],
      "execution_count": 42,
      "outputs": []
    },
    {
      "cell_type": "code",
      "metadata": {
        "colab": {
          "base_uri": "https://localhost:8080/",
          "height": 637,
          "referenced_widgets": [
            "1a40993688b2406b88d2dc8d711265dc",
            "0f6994bc67fb4925b87b7c02d652f348",
            "a02936fa1fd3423c89429c4c00db66f7",
            "b15fdf75a4304267963a3d31a16895e0",
            "00ce06841a9e4e72846b833d0520bc7d",
            "7dcbff30c1fe48dd83617464d90da4fc",
            "c0c081d02ad6418280a1350680fc01a8",
            "85825f5bebc945159c0190e6eacc9fb3",
            "70e685818c254157a2bd391c456d7281",
            "404a73c7d24d4987ae91b80564bbeacb"
          ]
        },
        "id": "T0IpCcKggLVd",
        "outputId": "87ae336c-d4d4-42fd-f407-3822abd3c11d"
      },
      "source": [
        "%matplotlib inline\n",
        "import matplotlib.pyplot as plt\n",
        "from ipywidgets import interact\n",
        "from sklearn.ensemble import RandomForestRegressor\n",
        "from sklearn.tree import DecisionTreeRegressor\n",
        "\n",
        "def trees(max_depth=1, n_estimators=1):\n",
        "    models = [DecisionTreeRegressor(max_depth=max_depth), # 트리의 깊이 조절.\n",
        "              RandomForestRegressor(max_depth=max_depth, n_estimators=n_estimators)] # n_estimator들을 통해 기본 모델의 개수 조정!\n",
        "    \n",
        "    for model in models:\n",
        "        name = model.__class__.__name__\n",
        "        model.fit(X_thurber, y_thurber)\n",
        "        ax = thurber.plot('mobility', 'density', kind='scatter', title=name)\n",
        "        ax.step(X_thurber, model.predict(X_thurber), where='mid')\n",
        "        plt.show()\n",
        "        \n",
        "interact(trees, max_depth=(1,10,1), n_estimators=(10,50,10));"
      ],
      "execution_count": 43,
      "outputs": [
        {
          "output_type": "display_data",
          "data": {
            "application/vnd.jupyter.widget-view+json": {
              "model_id": "1a40993688b2406b88d2dc8d711265dc",
              "version_minor": 0,
              "version_major": 2
            },
            "text/plain": [
              "interactive(children=(IntSlider(value=1, description='max_depth', max=10, min=1), IntSlider(value=10, descript…"
            ]
          },
          "metadata": {
            "tags": []
          }
        }
      ]
    },
    {
      "cell_type": "markdown",
      "metadata": {
        "id": "oWlikwb3TbM_"
      },
      "source": [
        "### 랜덤포래스트 알고리즘을 확인해 봅시다.\n",
        "\n",
        "랜덤포레스트의 의사코드(Pseudo code)는 다음과 같습니다.\n",
        "\n",
        "<img src=\"https://i.imgur.com/OSJWosw.png\" width=\"700\" />"
      ]
    },
    {
      "cell_type": "markdown",
      "metadata": {
        "id": "O6CSPHFmTbM_"
      },
      "source": [
        "## 참고자료\n",
        "- (예측모델 성능 비교 논문) [Data-driven advice for applying machine learning to bioinformatics problems](https://arxiv.org/abs/1708.05070)\n",
        "- [MACHINE LEARNING LECTURE 8: ENSEMBLE METHODS\n",
        "](https://vdocuments.mx/machine-learning-lecture-8-ensemble-methods.html)\n",
        "- [Random Ferests](http://pages.cs.wisc.edu/~matthewb/pages/notes/pdf/ensembles/RandomForests.pdf) Algorithm\n",
        "- [Testing Variable Importance in Random Forests](https://eeecon.uibk.ac.at/~zeileis/papers/Lifestat-2008.pdf)\n",
        "- [One-Hot Encoding is making your Tree-Based Ensembles worse, here’s why?](https://towardsdatascience.com/one-hot-encoding-is-making-your-tree-based-ensembles-worse-heres-why-d64b282b5769)"
      ]
    }
  ]
}