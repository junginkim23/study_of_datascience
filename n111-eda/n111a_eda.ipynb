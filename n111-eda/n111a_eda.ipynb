{
  "nbformat": 4,
  "nbformat_minor": 0,
  "metadata": {
    "colab": {
      "name": "n111a-eda.ipynb",
      "provenance": []
    },
    "kernelspec": {
      "name": "python3",
      "display_name": "Python 3"
    }
  },
  "cells": [
    {
      "cell_type": "markdown",
      "metadata": {
        "id": "MSnsTgZLKO72"
      },
      "source": [
        "<img src='https://i.imgur.com/RDAD11M.png' width = '200' align = 'right'>\n",
        "\n",
        "## *DATA SCIENCE / SECTION 1 / SPRINT 1 / NOTE 1*\n",
        "\n",
        "---\n",
        "\n",
        "# 📝 Assignment\n",
        "\n"
      ]
    },
    {
      "cell_type": "markdown",
      "metadata": {
        "id": "qoR8E-T2TYPd"
      },
      "source": [
        "## 1.데이터셋 불러오기 연습\n",
        "\n",
        "다음 url에서 엑셀 파일을 불러오세요. (pandas excel)\n",
        "\n",
        "<https://ds-lecture-data.s3.ap-northeast-2.amazonaws.com/stocks/Travel.xlsx>\n",
        "\n",
        "  - 데이터셋 변수의 이름은 `df1`, `df2`로 저장하세요.\n",
        "  - row가 아닌 column에 '매출액', '영업이익' 이 가도록 데이터를 transpose 하세요.\n",
        "  - 이후 아래 링크를 참조하여 첫번째 row를 column name으로 설정하세요.\n",
        "\n",
        "<https://stackoverflow.com/questions/31328861/python-pandas-replacing-header-with-top-row>\n",
        "\n",
        "- 파일은 2개의 시트로 구성되어 있으며 각각 이름은 `008770`, `035250` 입니다.\n",
        "\n"
      ]
    },
    {
      "cell_type": "code",
      "metadata": {
        "id": "wMxnu2SmTS8Z"
      },
      "source": [
        "import pandas as pd\n",
        "url = 'https://ds-lecture-data.s3.ap-northeast-2.amazonaws.com/stocks/Travel.xlsx'\n",
        "\n",
        "df1 = pd.read_excel(url,sheet_name = 0)\n",
        "date1 = df1.columns[1:]\n",
        "df1 = df1.transpose()\n",
        "new_header = df1.iloc[0]\n",
        "df1 = df1[1:]\n",
        "df1.columns = new_header\n",
        "  \n",
        "df2 = pd.read_excel(url,sheet_name = 1)\n",
        "date2 = df2.columns[1:]\n",
        "df2 = df2.transpose()\n",
        "new_header = df2.iloc[0]\n",
        "df2 = df2[1:]\n",
        "df2.columns = new_header"
      ],
      "execution_count": null,
      "outputs": []
    },
    {
      "cell_type": "markdown",
      "metadata": {
        "id": "156P6ndeKojO"
      },
      "source": [
        "## 2. 데이터 확인\n",
        "\n",
        "- 데이터의 dimension을 확인하세요.\n",
        "- 데이터의 결측치가 어디에 있는지 확인 후 0으로 대체하세요.\n",
        "- 각 데이터 별로 **FCF**의 값을 barplot으로 시각화하세요.\n",
        "  - 0보다 큰값, 작은값의 수의 총합을 `num1`, `num2`에 저장하세요\n"
      ]
    },
    {
      "cell_type": "code",
      "metadata": {
        "id": "_tAXwUqL4Ifh"
      },
      "source": [
        "#코드 실행 후 런타임 다시 시작하면 한글 글자 깨짐 오류가 해결된다.\n",
        "!sudo apt-get install -y fonts-nanum\n",
        "!sudo fc-cache -fv\n",
        "!rm ~/.cache/matplotlib -rf"
      ],
      "execution_count": null,
      "outputs": []
    },
    {
      "cell_type": "code",
      "metadata": {
        "id": "s_ld2YJujRSb",
        "colab": {
          "base_uri": "https://localhost:8080/",
          "height": 569
        },
        "outputId": "e443e2de-2b2f-4aa6-f5cb-2aa750191041"
      },
      "source": [
        "num1 = '~'\n",
        "num2 = '~'\n",
        "\n",
        "#데이터의 dimension을 확인하세요.\n",
        "print('df1의 dimension:',df1.shape)\n",
        "print('df2의 dimension:',df2.shape)\n",
        "\n",
        "#데이터의 결측치가 어디에 있는지 확인 후 0으로 대체하세요. \n",
        "df1 = df1.fillna(0)\n",
        "df2 = df2.fillna(0)\n",
        "\n",
        "#각 데이터 별로 FCF의 값을 barplot으로 시각화하세요.\n",
        "import matplotlib.pyplot as plt\n",
        "import warnings\n",
        "import numpy as np\n",
        "\n",
        "warnings.filterwarnings(\"ignore\")\n",
        "%matplotlib inline\n",
        "\n",
        "titleFont = {'fontsize' : 20, 'color' : '#0000ff'}\n",
        "plt.figure(figsize=(12,8))\n",
        "plt.rc('font', family='NanumBarunGothic') \n",
        "plt.bar(date1,df1['FCF'])\n",
        "plt.bar(date2,df2['FCF'])\n",
        "plt.title('FCF',fontdict=titleFont)\n",
        "\n",
        "#0보다 큰 값 -> num1 , 0보다 작은 값 -> num2\n",
        "num1 = len(df1.loc[df1['FCF'] > 0 ]) + len(df2.loc[df2['FCF'] > 0 ])\n",
        "num2 = len(df1.loc[df1['FCF'] < 0 ]) + len(df2.loc[df2['FCF'] < 0 ])\n",
        "print('num1: {0}, num2: {1}'.format(num1,num2))"
      ],
      "execution_count": null,
      "outputs": [
        {
          "output_type": "stream",
          "text": [
            "df1의 dimension: (8, 32)\n",
            "df2의 dimension: (8, 32)\n",
            "num1: 4, num2: 6\n"
          ],
          "name": "stdout"
        },
        {
          "output_type": "display_data",
          "data": {
            "image/png": "[encoded data removed]",
            "text/plain": [
              "<Figure size 864x576 with 1 Axes>"
            ]
          },
          "metadata": {
            "tags": [],
            "needs_background": "light"
          }
        }
      ]
    },
    {
      "cell_type": "markdown",
      "metadata": {
        "id": "OGMOBwEBTqKS"
      },
      "source": [
        "## 3. File export\n",
        "\n",
        "- 읽었던 엑셀 파일의 내용을 2개의 csv로 각각 출력하세요. (python export csv)\n",
        "\n",
        "  - 이름은 각각 `df1.csv`, `df2.csv` 입니다.\n"
      ]
    },
    {
      "cell_type": "code",
      "metadata": {
        "id": "xe47NX7qk53H"
      },
      "source": [
        "df1.to_csv('df1.csv')\n",
        "df2.to_csv('df2.csv')"
      ],
      "execution_count": null,
      "outputs": []
    },
    {
      "cell_type": "markdown",
      "metadata": {
        "id": "DCZ01w4Ps-jO"
      },
      "source": [
        "## 4. Error Handling\n",
        "\n",
        "- 다음의 에러를 고치세요. 결과값은 6912가 나와야합니다.\n"
      ]
    },
    {
      "cell_type": "code",
      "metadata": {
        "colab": {
          "base_uri": "https://localhost:8080/"
        },
        "id": "NJdISe69ZT7E",
        "outputId": "13dd0af0-7470-432f-ef5b-037226ea2aa9"
      },
      "source": [
        "a = int('1234')\n",
        "b = 5678\n",
        "a+b"
      ],
      "execution_count": null,
      "outputs": [
        {
          "output_type": "execute_result",
          "data": {
            "text/plain": [
              "6912"
            ]
          },
          "metadata": {
            "tags": []
          },
          "execution_count": 54
        }
      ]
    },
    {
      "cell_type": "markdown",
      "metadata": {
        "id": "KROePyMWQc08"
      },
      "source": [
        "## 5. EDA\n",
        "\n",
        "아래의 코드는 palmer penguin 데이터를 불러올 수 있는 코드입니다.\n",
        "\n",
        "```python\n",
        "import seaborn as sns\n",
        "\n",
        "pp = sns.load_dataset('penguins')\n",
        "```\n",
        "\n",
        "이를 참조하여, `pp`의 `species`와 `sex`변수에 대해서 cross-tabulation을 시행하고, 6개의 값들 중 가장 큰 값을 `num3`에, 가장 작은 값을 `num4`에 저장하세요."
      ]
    },
    {
      "cell_type": "code",
      "metadata": {
        "id": "GuENkrLISFeR",
        "colab": {
          "base_uri": "https://localhost:8080/"
        },
        "outputId": "f4c356d1-8667-4926-bbba-8f620224efc7"
      },
      "source": [
        "import seaborn as sns\n",
        "\n",
        "pp = sns.load_dataset('penguins')\n",
        "pp_crosstab = pd.crosstab(pp['species'],pp['sex'])\n",
        "num3 = pp_crosstab.max().max()\n",
        "num4 = pp_crosstab.min().min()\n",
        "\n",
        "print('max:',num3)\n",
        "print('min:',num4)"
      ],
      "execution_count": null,
      "outputs": [
        {
          "output_type": "stream",
          "text": [
            "max: 73\n",
            "min: 34\n"
          ],
          "name": "stdout"
        }
      ]
    },
    {
      "cell_type": "markdown",
      "metadata": {
        "id": "en0Q_b5L4fxA"
      },
      "source": [
        "## Grading\n",
        "\n",
        "이전 과제를 완료했다면, 아래의 코드를 실행하세요. "
      ]
    },
    {
      "cell_type": "code",
      "metadata": {
        "id": "1k3zn-YV4fdg"
      },
      "source": [
        "import os\n",
        "\n",
        "def grade(df1, df2, num1, num2, num3, num4):\n",
        "  score = 0\n",
        "  \n",
        "  score += (df1['매출액'][0] == 14753)\n",
        "  score += (df2['매출액'][1] == 3728)\n",
        "\n",
        "  score += (df1.shape == (8, 32))\n",
        "  score += (df2.isnull().sum().sum() == 0)\n",
        "  score += (num1 == 4 and num2 == 6)\n",
        "  \n",
        "  score += (num3 == 73 and num4 == 34)\n",
        "\n",
        "  score += (os.listdir() == ['.config', 'df2.csv', 'df1.csv', 'sample_data'])\n",
        "\n",
        "  score += (a+b == 6912)\n",
        "\n",
        "  return(score)"
      ],
      "execution_count": null,
      "outputs": []
    },
    {
      "cell_type": "code",
      "metadata": {
        "id": "nj_RslFn4lCM",
        "colab": {
          "base_uri": "https://localhost:8080/"
        },
        "outputId": "ee82a38e-ce5d-41dc-aff1-87dc4410c7e4"
      },
      "source": [
        "grade(df1, df2, num1, num2, num3, num4)"
      ],
      "execution_count": null,
      "outputs": [
        {
          "output_type": "execute_result",
          "data": {
            "text/plain": [
              "7"
            ]
          },
          "metadata": {
            "tags": []
          },
          "execution_count": 57
        }
      ]
    },
    {
      "cell_type": "markdown",
      "metadata": {
        "id": "axPHh5t5s124"
      },
      "source": [
        "\n",
        "## 🔥 도전과제 \n",
        "\n",
        "- 다음 데이터를 사용하여 아래와 동일한 그래프를 그리세요.\n",
        "\n",
        "<https://ds-lecture-data.s3.ap-northeast-2.amazonaws.com/stocks/TSLA.csv>\n",
        "\n",
        "<img src='https://i.imgur.com/UsS5JcZ.png'>\n",
        "\n"
      ]
    },
    {
      "cell_type": "code",
      "metadata": {
        "id": "eNGiylrhwm2D",
        "colab": {
          "base_uri": "https://localhost:8080/",
          "height": 356
        },
        "outputId": "f6005c6f-7ffe-464d-c609-4e12c4b7c739"
      },
      "source": [
        "Tsla = pd.read_csv('https://ds-lecture-data.s3.ap-northeast-2.amazonaws.com/stocks/TSLA.csv')\n",
        "\n",
        "# Tsla['Date'] = pd.to_datetime(Tsla['Date']) #Datetime으로 형변환되면, 위의 그래프의 x축 매개변수로 들어가서 그래프가 생성될 수 없다!! 명심! \n",
        "\n",
        "#연도별로 그래프를 그리기 위해서 데이터프레임의 행을 기존의 Date컬럼의 원소로 치환 그리고 원소값들을 datetime의 형태로 변환시켜줌.\n",
        "Tsla['New_Date'] = pd.to_datetime(Tsla['Date'])\n",
        "# df['new_Date'] = pd.to_datetime(df['Date'])  #Date를 날짜변수로 변환\n",
        "Tsla.set_index('New_Date',inplace=True)\n",
        "\n",
        "#그래프 사이즈 조절\n",
        "plt.figure(figsize=(17,5))\n",
        "\n",
        "#x축과 y축 눈금의 min값, max값 설정\n",
        "plt.axis([0,2400,0,550],fontsize = 20)\n",
        "#xticks를 사용하지 않고, axis만 사용해서 코드를 실행시켰을 때 그래프가 나오는 시간이 많이 걸리던데 그 이유는 뭘까?\n",
        "\n",
        "#x축의 눈금 레이블 지정! x축은 날짜 데이터의 값이 기준이기 때문에 500일을 눈금 간격으로 설정했다.\n",
        "plt.xticks(np.arange(0,2400,500),(0,500,1000,1500,2000))\n",
        "\n",
        "#grid, 가로축에만 생성\n",
        "plt.grid(True,axis = 'y')\n",
        "\n",
        "plt.plot(Tsla.loc['2010']['Date'],Tsla.loc['2010']['Close'],label='2010')\n",
        "plt.plot(Tsla.loc['2011']['Date'],Tsla.loc['2011']['Close'],label='2011')\n",
        "plt.plot(Tsla.loc['2012']['Date'],Tsla.loc['2012']['Close'],label='2012')\n",
        "plt.plot(Tsla.loc['2013']['Date'],Tsla.loc['2013']['Close'],label='2013')\n",
        "plt.plot(Tsla.loc['2014']['Date'],Tsla.loc['2014']['Close'],label='2014')\n",
        "plt.plot(Tsla.loc['2015']['Date'],Tsla.loc['2015']['Close'],label='2015')\n",
        "plt.plot(Tsla.loc['2016']['Date'],Tsla.loc['2016']['Close'],label='2016')\n",
        "plt.plot(Tsla.loc['2017']['Date'],Tsla.loc['2017']['Close'],label='2017')\n",
        "plt.plot(Tsla.loc['2018']['Date'],Tsla.loc['2018']['Close'],label='2018')\n",
        "plt.plot(Tsla.loc['2019']['Date'],Tsla.loc['2019']['Close'],label='2019')\n",
        "plt.plot(Tsla.loc['2020']['Date'],Tsla.loc['2020']['Close'],label='2020')\n",
        "plt.title('Stock Price Movement Grouped by Year on Close',fontsize=15)\n",
        "plt.ylabel('Close Price',fontsize='13')\n",
        "plt.legend(prop={'size':14})"
      ],
      "execution_count": 181,
      "outputs": [
        {
          "output_type": "execute_result",
          "data": {
            "text/plain": [
              "<matplotlib.legend.Legend at 0x7fec24af7d10>"
            ]
          },
          "metadata": {
            "tags": []
          },
          "execution_count": 181
        },
        {
          "output_type": "display_data",
          "data": {
            "image/png": "[encoded data removed]",
            "text/plain": [
              "<Figure size 1224x360 with 1 Axes>"
            ]
          },
          "metadata": {
            "tags": [],
            "needs_background": "light"
          }
        }
      ]
    },
    {
      "cell_type": "markdown",
      "metadata": {
        "id": "Obp0rnowSgF8"
      },
      "source": [
        "- penguins 데이터를 계속 사용합니다.\n",
        "\n",
        "이에 대해 아래의 task들을 시행하세요.\n",
        "\n",
        "- 결측치 처리 (제거)\n",
        "\n",
        "- bill_length_mm에 대해서 qqplot 그리기\n",
        "\n",
        "- island에 대해서 다른 4개의 numerical feature 를 boxplot으로 표현하기\n",
        "\n",
        "- 각 numerical feature에 대해서 summary statistics : mean, sd, Quantiles(1Q, 2Q, 3Q, 4Q)를 계산하세요."
      ]
    },
    {
      "cell_type": "code",
      "metadata": {
        "id": "7xE0RECRPdHu",
        "colab": {
          "base_uri": "https://localhost:8080/"
        },
        "outputId": "45d72d7a-b0fe-4d0d-993c-151bc7bc85af"
      },
      "source": [
        "#info를 통해 어떤 컬럼에 결측값이 있는지 확인이 가능하다.\n",
        "pp.info()"
      ],
      "execution_count": null,
      "outputs": [
        {
          "output_type": "stream",
          "text": [
            "<class 'pandas.core.frame.DataFrame'>\n",
            "RangeIndex: 344 entries, 0 to 343\n",
            "Data columns (total 7 columns):\n",
            " #   Column             Non-Null Count  Dtype  \n",
            "---  ------             --------------  -----  \n",
            " 0   species            344 non-null    object \n",
            " 1   island             344 non-null    object \n",
            " 2   bill_length_mm     342 non-null    float64\n",
            " 3   bill_depth_mm      342 non-null    float64\n",
            " 4   flipper_length_mm  342 non-null    float64\n",
            " 5   body_mass_g        342 non-null    float64\n",
            " 6   sex                333 non-null    object \n",
            "dtypes: float64(4), object(3)\n",
            "memory usage: 18.9+ KB\n"
          ],
          "name": "stdout"
        }
      ]
    },
    {
      "cell_type": "code",
      "metadata": {
        "id": "r4N-Rg07QH02",
        "colab": {
          "base_uri": "https://localhost:8080/"
        },
        "outputId": "5b35964d-8a2c-423a-c621-b8d0dcec9b3f"
      },
      "source": [
        "#위의 info를 통해 확인한 결측지 컬럼에서 결측치의 개수를 정확하게 알고 싶을 때!\n",
        "pp['sex'].value_counts(dropna = False) "
      ],
      "execution_count": null,
      "outputs": [
        {
          "output_type": "execute_result",
          "data": {
            "text/plain": [
              "Male      168\n",
              "Female    165\n",
              "NaN        11\n",
              "Name: sex, dtype: int64"
            ]
          },
          "metadata": {
            "tags": []
          },
          "execution_count": 159
        }
      ]
    },
    {
      "cell_type": "code",
      "metadata": {
        "id": "j_rsC5MFQcVq",
        "colab": {
          "base_uri": "https://localhost:8080/"
        },
        "outputId": "a7732ce8-cfb7-4cdb-b014-7629d86807a6"
      },
      "source": [
        "#isnull()을 하게 되면 해당 원소가 결측지이면 True를 반환한다. 그리고 sum()을 통해 해당 컬럼의 결측치의 값을 확인해볼 수 있다.\n",
        "pp.isnull().sum()"
      ],
      "execution_count": null,
      "outputs": [
        {
          "output_type": "execute_result",
          "data": {
            "text/plain": [
              "species               0\n",
              "island                0\n",
              "bill_length_mm        2\n",
              "bill_depth_mm         2\n",
              "flipper_length_mm     2\n",
              "body_mass_g           2\n",
              "sex                  11\n",
              "dtype: int64"
            ]
          },
          "metadata": {
            "tags": []
          },
          "execution_count": 161
        }
      ]
    },
    {
      "cell_type": "code",
      "metadata": {
        "id": "_Uq07JiKRAh6",
        "colab": {
          "base_uri": "https://localhost:8080/",
          "height": 402
        },
        "outputId": "02f3ae14-5c04-45d1-80bb-bb3d03f143e8"
      },
      "source": [
        "#결측치 제거!\n",
        "pp = pp.dropna()"
      ],
      "execution_count": null,
      "outputs": [
        {
          "output_type": "execute_result",
          "data": {
            "text/html": [
              "<div>\n",
              "<style scoped>\n",
              "    .dataframe tbody tr th:only-of-type {\n",
              "        vertical-align: middle;\n",
              "    }\n",
              "\n",
              "    .dataframe tbody tr th {\n",
              "        vertical-align: top;\n",
              "    }\n",
              "\n",
              "    .dataframe thead th {\n",
              "        text-align: right;\n",
              "    }\n",
              "</style>\n",
              "<table border=\"1\" class=\"dataframe\">\n",
              "  <thead>\n",
              "    <tr style=\"text-align: right;\">\n",
              "      <th></th>\n",
              "      <th>species</th>\n",
              "      <th>island</th>\n",
              "      <th>bill_length_mm</th>\n",
              "      <th>bill_depth_mm</th>\n",
              "      <th>flipper_length_mm</th>\n",
              "      <th>body_mass_g</th>\n",
              "      <th>sex</th>\n",
              "    </tr>\n",
              "  </thead>\n",
              "  <tbody>\n",
              "    <tr>\n",
              "      <th>0</th>\n",
              "      <td>Adelie</td>\n",
              "      <td>Torgersen</td>\n",
              "      <td>39.1</td>\n",
              "      <td>18.7</td>\n",
              "      <td>181.0</td>\n",
              "      <td>3750.0</td>\n",
              "      <td>Male</td>\n",
              "    </tr>\n",
              "    <tr>\n",
              "      <th>1</th>\n",
              "      <td>Adelie</td>\n",
              "      <td>Torgersen</td>\n",
              "      <td>39.5</td>\n",
              "      <td>17.4</td>\n",
              "      <td>186.0</td>\n",
              "      <td>3800.0</td>\n",
              "      <td>Female</td>\n",
              "    </tr>\n",
              "    <tr>\n",
              "      <th>2</th>\n",
              "      <td>Adelie</td>\n",
              "      <td>Torgersen</td>\n",
              "      <td>40.3</td>\n",
              "      <td>18.0</td>\n",
              "      <td>195.0</td>\n",
              "      <td>3250.0</td>\n",
              "      <td>Female</td>\n",
              "    </tr>\n",
              "    <tr>\n",
              "      <th>3</th>\n",
              "      <td>Adelie</td>\n",
              "      <td>Torgersen</td>\n",
              "      <td>NaN</td>\n",
              "      <td>NaN</td>\n",
              "      <td>NaN</td>\n",
              "      <td>NaN</td>\n",
              "      <td>NaN</td>\n",
              "    </tr>\n",
              "    <tr>\n",
              "      <th>4</th>\n",
              "      <td>Adelie</td>\n",
              "      <td>Torgersen</td>\n",
              "      <td>36.7</td>\n",
              "      <td>19.3</td>\n",
              "      <td>193.0</td>\n",
              "      <td>3450.0</td>\n",
              "      <td>Female</td>\n",
              "    </tr>\n",
              "    <tr>\n",
              "      <th>...</th>\n",
              "      <td>...</td>\n",
              "      <td>...</td>\n",
              "      <td>...</td>\n",
              "      <td>...</td>\n",
              "      <td>...</td>\n",
              "      <td>...</td>\n",
              "      <td>...</td>\n",
              "    </tr>\n",
              "    <tr>\n",
              "      <th>339</th>\n",
              "      <td>Gentoo</td>\n",
              "      <td>Biscoe</td>\n",
              "      <td>NaN</td>\n",
              "      <td>NaN</td>\n",
              "      <td>NaN</td>\n",
              "      <td>NaN</td>\n",
              "      <td>NaN</td>\n",
              "    </tr>\n",
              "    <tr>\n",
              "      <th>340</th>\n",
              "      <td>Gentoo</td>\n",
              "      <td>Biscoe</td>\n",
              "      <td>46.8</td>\n",
              "      <td>14.3</td>\n",
              "      <td>215.0</td>\n",
              "      <td>4850.0</td>\n",
              "      <td>Female</td>\n",
              "    </tr>\n",
              "    <tr>\n",
              "      <th>341</th>\n",
              "      <td>Gentoo</td>\n",
              "      <td>Biscoe</td>\n",
              "      <td>50.4</td>\n",
              "      <td>15.7</td>\n",
              "      <td>222.0</td>\n",
              "      <td>5750.0</td>\n",
              "      <td>Male</td>\n",
              "    </tr>\n",
              "    <tr>\n",
              "      <th>342</th>\n",
              "      <td>Gentoo</td>\n",
              "      <td>Biscoe</td>\n",
              "      <td>45.2</td>\n",
              "      <td>14.8</td>\n",
              "      <td>212.0</td>\n",
              "      <td>5200.0</td>\n",
              "      <td>Female</td>\n",
              "    </tr>\n",
              "    <tr>\n",
              "      <th>343</th>\n",
              "      <td>Gentoo</td>\n",
              "      <td>Biscoe</td>\n",
              "      <td>49.9</td>\n",
              "      <td>16.1</td>\n",
              "      <td>213.0</td>\n",
              "      <td>5400.0</td>\n",
              "      <td>Male</td>\n",
              "    </tr>\n",
              "  </tbody>\n",
              "</table>\n",
              "<p>344 rows × 7 columns</p>\n",
              "</div>"
            ],
            "text/plain": [
              "    species     island  bill_length_mm  ...  flipper_length_mm  body_mass_g     sex\n",
              "0    Adelie  Torgersen            39.1  ...              181.0       3750.0    Male\n",
              "1    Adelie  Torgersen            39.5  ...              186.0       3800.0  Female\n",
              "2    Adelie  Torgersen            40.3  ...              195.0       3250.0  Female\n",
              "3    Adelie  Torgersen             NaN  ...                NaN          NaN     NaN\n",
              "4    Adelie  Torgersen            36.7  ...              193.0       3450.0  Female\n",
              "..      ...        ...             ...  ...                ...          ...     ...\n",
              "339  Gentoo     Biscoe             NaN  ...                NaN          NaN     NaN\n",
              "340  Gentoo     Biscoe            46.8  ...              215.0       4850.0  Female\n",
              "341  Gentoo     Biscoe            50.4  ...              222.0       5750.0    Male\n",
              "342  Gentoo     Biscoe            45.2  ...              212.0       5200.0  Female\n",
              "343  Gentoo     Biscoe            49.9  ...              213.0       5400.0    Male\n",
              "\n",
              "[344 rows x 7 columns]"
            ]
          },
          "metadata": {
            "tags": []
          },
          "execution_count": 163
        }
      ]
    },
    {
      "cell_type": "code",
      "metadata": {
        "id": "6R_UNL8oS5Ct",
        "colab": {
          "base_uri": "https://localhost:8080/",
          "height": 1000
        },
        "outputId": "9fd4f691-190b-42ce-f701-20b2c913370d"
      },
      "source": [
        "#qqplot 그리기 (qqplot?)\n",
        "import scipy.stats as stats\n",
        "stats.probplot(pp['bill_length_mm'], plot=plt)"
      ],
      "execution_count": null,
      "outputs": [
        {
          "output_type": "execute_result",
          "data": {
            "text/plain": [
              "((array([-2.87612769, -2.58380831, -2.41862248, -2.30107856, -2.20870765,\n",
              "         -2.13204955, -2.06618977, -2.00823472, -1.95633124, -1.90921829,\n",
              "         -1.8659974 , -1.82600492, -1.78873619, -1.75379814, -1.72087839,\n",
              "         -1.68972444, -1.66012914, -1.63192035, -1.60495341, -1.57910555,\n",
              "         -1.55427162, -1.53036086, -1.50729436, -1.48500306, -1.46342616,\n",
              "         -1.44250985, -1.42220624, -1.40247256, -1.3832704 , -1.36456516,\n",
              "         -1.34632554, -1.32852314, -1.31113211, -1.29412883, -1.27749168,\n",
              "         -1.26120081, -1.24523794, -1.22958623, -1.21423007, -1.19915502,\n",
              "         -1.18434768, -1.16979555, -1.15548702, -1.14141122, -1.12755801,\n",
              "         -1.11391788, -1.1004819 , -1.08724171, -1.07418942, -1.06131761,\n",
              "         -1.04861929, -1.03608784, -1.02371701, -1.0115009 , -0.99943391,\n",
              "         -0.98751072, -0.97572629, -0.96407582, -0.95255477, -0.94115878,\n",
              "         -0.92988373, -0.91872567, -0.90768084, -0.89674564, -0.88591664,\n",
              "         -0.87519054, -0.86456419, -0.85403459, -0.84359883, -0.83325415,\n",
              "         -0.82299788, -0.81282746, -0.80274043, -0.79273442, -0.78280716,\n",
              "         -0.77295645, -0.76318018, -0.75347632, -0.74384289, -0.73427801,\n",
              "         -0.72477983, -0.7153466 , -0.7059766 , -0.69666817, -0.68741972,\n",
              "         -0.6782297 , -0.6690966 , -0.66001898, -0.65099543, -0.64202457,\n",
              "         -0.63310509, -0.62423569, -0.61541513, -0.60664219, -0.5979157 ,\n",
              "         -0.5892345 , -0.58059748, -0.57200357, -0.56345169, -0.55494082,\n",
              "         -0.54646996, -0.53803813, -0.52964438, -0.52128779, -0.51296744,\n",
              "         -0.50468245, -0.49643196, -0.48821513, -0.48003112, -0.47187915,\n",
              "         -0.46375841, -0.45566814, -0.44760759, -0.43957601, -0.43157269,\n",
              "         -0.42359692, -0.41564801, -0.40772527, -0.39982804, -0.39195568,\n",
              "         -0.38410752, -0.37628296, -0.36848136, -0.36070213, -0.35294467,\n",
              "         -0.34520839, -0.33749272, -0.32979708, -0.32212093, -0.31446371,\n",
              "         -0.30682488, -0.29920392, -0.2916003 , -0.28401349, -0.276443  ,\n",
              "         -0.26888832, -0.26134896, -0.25382442, -0.24631423, -0.2388179 ,\n",
              "         -0.23133497, -0.22386498, -0.21640745, -0.20896194, -0.20152799,\n",
              "         -0.19410517, -0.18669302, -0.17929112, -0.17189903, -0.16451632,\n",
              "         -0.15714257, -0.14977735, -0.14242024, -0.13507084, -0.12772873,\n",
              "         -0.12039349, -0.11306473, -0.10574203, -0.09842501, -0.09111324,\n",
              "         -0.08380635, -0.07650392, -0.06920558, -0.06191092, -0.05461955,\n",
              "         -0.04733108, -0.04004513, -0.0327613 , -0.02547921, -0.01819847,\n",
              "         -0.0109187 , -0.0036395 ,  0.0036395 ,  0.0109187 ,  0.01819847,\n",
              "          0.02547921,  0.0327613 ,  0.04004513,  0.04733108,  0.05461955,\n",
              "          0.06191092,  0.06920558,  0.07650392,  0.08380635,  0.09111324,\n",
              "          0.09842501,  0.10574203,  0.11306473,  0.12039349,  0.12772873,\n",
              "          0.13507084,  0.14242024,  0.14977735,  0.15714257,  0.16451632,\n",
              "          0.17189903,  0.17929112,  0.18669302,  0.19410517,  0.20152799,\n",
              "          0.20896194,  0.21640745,  0.22386498,  0.23133497,  0.2388179 ,\n",
              "          0.24631423,  0.25382442,  0.26134896,  0.26888832,  0.276443  ,\n",
              "          0.28401349,  0.2916003 ,  0.29920392,  0.30682488,  0.31446371,\n",
              "          0.32212093,  0.32979708,  0.33749272,  0.34520839,  0.35294467,\n",
              "          0.36070213,  0.36848136,  0.37628296,  0.38410752,  0.39195568,\n",
              "          0.39982804,  0.40772527,  0.41564801,  0.42359692,  0.43157269,\n",
              "          0.43957601,  0.44760759,  0.45566814,  0.46375841,  0.47187915,\n",
              "          0.48003112,  0.48821513,  0.49643196,  0.50468245,  0.51296744,\n",
              "          0.52128779,  0.52964438,  0.53803813,  0.54646996,  0.55494082,\n",
              "          0.56345169,  0.57200357,  0.58059748,  0.5892345 ,  0.5979157 ,\n",
              "          0.60664219,  0.61541513,  0.62423569,  0.63310509,  0.64202457,\n",
              "          0.65099543,  0.66001898,  0.6690966 ,  0.6782297 ,  0.68741972,\n",
              "          0.69666817,  0.7059766 ,  0.7153466 ,  0.72477983,  0.73427801,\n",
              "          0.74384289,  0.75347632,  0.76318018,  0.77295645,  0.78280716,\n",
              "          0.79273442,  0.80274043,  0.81282746,  0.82299788,  0.83325415,\n",
              "          0.84359883,  0.85403459,  0.86456419,  0.87519054,  0.88591664,\n",
              "          0.89674564,  0.90768084,  0.91872567,  0.92988373,  0.94115878,\n",
              "          0.95255477,  0.96407582,  0.97572629,  0.98751072,  0.99943391,\n",
              "          1.0115009 ,  1.02371701,  1.03608784,  1.04861929,  1.06131761,\n",
              "          1.07418942,  1.08724171,  1.1004819 ,  1.11391788,  1.12755801,\n",
              "          1.14141122,  1.15548702,  1.16979555,  1.18434768,  1.19915502,\n",
              "          1.21423007,  1.22958623,  1.24523794,  1.26120081,  1.27749168,\n",
              "          1.29412883,  1.31113211,  1.32852314,  1.34632554,  1.36456516,\n",
              "          1.3832704 ,  1.40247256,  1.42220624,  1.44250985,  1.46342616,\n",
              "          1.48500306,  1.50729436,  1.53036086,  1.55427162,  1.57910555,\n",
              "          1.60495341,  1.63192035,  1.66012914,  1.68972444,  1.72087839,\n",
              "          1.75379814,  1.78873619,  1.82600492,  1.8659974 ,  1.90921829,\n",
              "          1.95633124,  2.00823472,  2.06618977,  2.13204955,  2.20870765,\n",
              "          2.30107856,  2.41862248,  2.58380831,  2.87612769]),\n",
              "  array([32.1, 33.1, 33.5, 34. , 34.1, 34.4, 34.5, 34.6, 34.6, 35. , 35. ,\n",
              "         35.1, 35.2, 35.3, 35.5, 35.5, 35.6, 35.7, 35.7, 35.7, 35.9, 35.9,\n",
              "         36. , 36. , 36. , 36. , 36.2, 36.2, 36.2, 36.3, 36.4, 36.4, 36.5,\n",
              "         36.5, 36.6, 36.6, 36.7, 36.7, 36.8, 36.9, 37. , 37. , 37.2, 37.2,\n",
              "         37.3, 37.3, 37.3, 37.5, 37.5, 37.6, 37.6, 37.6, 37.7, 37.7, 37.7,\n",
              "         37.8, 37.8, 37.8, 37.8, 37.8, 37.9, 37.9, 38.1, 38.1, 38.1, 38.1,\n",
              "         38.2, 38.2, 38.3, 38.5, 38.6, 38.6, 38.6, 38.7, 38.8, 38.8, 38.8,\n",
              "         38.9, 38.9, 39. , 39. , 39. , 39.1, 39.2, 39.2, 39.2, 39.3, 39.5,\n",
              "         39.5, 39.5, 39.6, 39.6, 39.6, 39.6, 39.6, 39.7, 39.7, 39.7, 39.7,\n",
              "         39.8, 40.1, 40.2, 40.2, 40.2, 40.3, 40.3, 40.5, 40.5, 40.6, 40.6,\n",
              "         40.6, 40.6, 40.7, 40.8, 40.8, 40.9, 40.9, 40.9, 40.9, 41. , 41.1,\n",
              "         41.1, 41.1, 41.1, 41.1, 41.1, 41.1, 41.3, 41.3, 41.4, 41.4, 41.5,\n",
              "         41.5, 41.6, 41.7, 41.8, 42. , 42. , 42. , 42.1, 42.2, 42.2, 42.3,\n",
              "         42.4, 42.5, 42.5, 42.5, 42.6, 42.7, 42.7, 42.8, 42.8, 42.9, 42.9,\n",
              "         43.1, 43.2, 43.2, 43.2, 43.2, 43.3, 43.3, 43.4, 43.5, 43.5, 43.5,\n",
              "         43.6, 43.8, 44. , 44.1, 44.1, 44.4, 44.5, 44.5, 44.5, 44.9, 44.9,\n",
              "         45. , 45.1, 45.1, 45.1, 45.2, 45.2, 45.2, 45.2, 45.2, 45.2, 45.3,\n",
              "         45.3, 45.4, 45.4, 45.5, 45.5, 45.5, 45.5, 45.5, 45.6, 45.6, 45.7,\n",
              "         45.7, 45.7, 45.8, 45.8, 45.8, 45.9, 46. , 46. , 46.1, 46.1, 46.1,\n",
              "         46.2, 46.2, 46.2, 46.2, 46.2, 46.3, 46.4, 46.4, 46.4, 46.4, 46.5,\n",
              "         46.5, 46.5, 46.5, 46.5, 46.6, 46.6, 46.7, 46.7, 46.8, 46.8, 46.8,\n",
              "         46.8, 46.9, 46.9, 47. , 47.2, 47.2, 47.3, 47.3, 47.4, 47.5, 47.5,\n",
              "         47.5, 47.5, 47.6, 47.6, 47.7, 47.8, 48.1, 48.1, 48.2, 48.2, 48.4,\n",
              "         48.4, 48.4, 48.5, 48.5, 48.5, 48.6, 48.7, 48.7, 48.7, 48.8, 49. ,\n",
              "         49. , 49. , 49.1, 49.1, 49.1, 49.2, 49.2, 49.3, 49.3, 49.4, 49.5,\n",
              "         49.5, 49.5, 49.6, 49.6, 49.6, 49.7, 49.8, 49.8, 49.8, 49.9, 50. ,\n",
              "         50. , 50. , 50. , 50. , 50.1, 50.1, 50.2, 50.2, 50.2, 50.3, 50.4,\n",
              "         50.4, 50.5, 50.5, 50.5, 50.5, 50.5, 50.6, 50.7, 50.7, 50.8, 50.8,\n",
              "         50.8, 50.8, 50.9, 50.9, 51. , 51.1, 51.1, 51.3, 51.3, 51.3, 51.3,\n",
              "         51.4, 51.5, 51.5, 51.7, 51.9, 52. , 52. , 52. , 52.1, 52.2, 52.2,\n",
              "         52.5, 52.7, 52.8, 53.4, 53.5, 54.2, 54.3, 55.1, 55.8, 55.9, 58. ,\n",
              "         59.6,  nan,  nan])),\n",
              " (nan, nan, nan))"
            ]
          },
          "metadata": {
            "tags": []
          },
          "execution_count": 167
        },
        {
          "output_type": "display_data",
          "data": {
            "image/png": "[encoded data removed]",
            "text/plain": [
              "<Figure size 432x288 with 1 Axes>"
            ]
          },
          "metadata": {
            "tags": [],
            "needs_background": "light"
          }
        }
      ]
    },
    {
      "cell_type": "code",
      "metadata": {
        "id": "liM8S75pTuyK",
        "colab": {
          "base_uri": "https://localhost:8080/"
        },
        "outputId": "52811d58-b1dc-434c-d8f4-7226d80a8fcf"
      },
      "source": [
        "#island에 대해서 다른 4개의 numerical feature 를 boxplot으로 표현하기\n",
        "set(pp['island'])"
      ],
      "execution_count": null,
      "outputs": [
        {
          "output_type": "execute_result",
          "data": {
            "text/plain": [
              "{'Biscoe', 'Dream', 'Torgersen'}"
            ]
          },
          "metadata": {
            "tags": []
          },
          "execution_count": 171
        }
      ]
    }
  ]
}
