{
  "nbformat": 4,
  "nbformat_minor": 0,
  "metadata": {
    "colab": {
      "name": "n132a-intermediate-linear-algebra.ipynb",
      "provenance": []
    },
    "kernelspec": {
      "display_name": "Python 3",
      "language": "python",
      "name": "python3"
    },
    "language_info": {
      "codemirror_mode": {
        "name": "ipython",
        "version": 3
      },
      "file_extension": ".py",
      "mimetype": "text/x-python",
      "name": "python",
      "nbconvert_exporter": "python",
      "pygments_lexer": "ipython3",
      "version": "3.8.2"
    }
  },
  "cells": [
    {
      "cell_type": "markdown",
      "metadata": {
        "id": "GSNiYn8lr6nN"
      },
      "source": [
        "<img src='https://i.imgur.com/RDAD11M.png' width = '200' align = 'right'>\n",
        "\n",
        "## *DATA SCIENCE / SECTION 1 / SPRINT 3 / NOTE 2*\n",
        "\n",
        "# 📝 Assignment\n"
      ]
    },
    {
      "cell_type": "markdown",
      "metadata": {
        "id": "3d4izUhQvh2_"
      },
      "source": [
        "## 1. 주어진 리스트에 대해서 평균, 분산, 표준편차를 구하는 함수를 작성해보세요. (`mean`같은 builtin function 제외)\n",
        "> 이후 다음 데이터 [243, 278, 184, 249, 207] 에 대해서 해당 함수를 사용한 결과를 보이세요."
      ]
    },
    {
      "cell_type": "code",
      "metadata": {
        "id": "w1iZfYvBtEA1",
        "colab": {
          "base_uri": "https://localhost:8080/"
        },
        "outputId": "2cb9a657-f367-4d65-aa60-0c4859874308"
      },
      "source": [
        "def mymean(v):\n",
        "  total = 0\n",
        "  for data in v:\n",
        "    total += data\n",
        "  return total/len(v)\n",
        "\n",
        "def myvar(v):\n",
        "  mean_v = mymean(v)\n",
        "  variation = 0\n",
        "  for data in v:\n",
        "    variation += (data-mean_v)**2\n",
        "  return variation/len(v)\n",
        "\n",
        "def mystd(v):\n",
        "  return myvar(v)**(0.5)\n",
        "\n",
        "v = [243,278,184,249,207]\n",
        "\n",
        "res1 = mymean(v)\n",
        "res2 = myvar(v)\n",
        "res3 = mystd(v)\n",
        "\n",
        "res1,res2,res3"
      ],
      "execution_count": 58,
      "outputs": [
        {
          "output_type": "execute_result",
          "data": {
            "text/plain": [
              "(232.2, 1090.96, 33.02968361943541)"
            ]
          },
          "metadata": {
            "tags": []
          },
          "execution_count": 58
        }
      ]
    },
    {
      "cell_type": "markdown",
      "metadata": {
        "id": "oh63KaOctEp_"
      },
      "source": [
        "## 2. 위에서 사용된 데이터와 다음 데이터의 공분산과, 상관계수를 구해보세요 [88, 89, 83, 112, 104] "
      ]
    },
    {
      "cell_type": "code",
      "metadata": {
        "id": "G7ZB0krot564",
        "outputId": "12151dac-c537-444a-dfee-97b4a73812f7",
        "colab": {
          "base_uri": "https://localhost:8080/"
        }
      },
      "source": [
        "import numpy as np\n",
        "import pandas as pd\n",
        "\n",
        "w = [88,89,83,112,104]\n",
        "\n",
        "df = pd.DataFrame({'v':v,'w':w})\n",
        "\n",
        "#공분산 \n",
        "np.cov(v,w) #df.cov() -> 데이터프레임의 형태로 공분산과 분산이 나온다.\n",
        "np.cov(v,w)[0,1] "
      ],
      "execution_count": 65,
      "outputs": [
        {
          "output_type": "execute_result",
          "data": {
            "text/plain": [
              "71.7"
            ]
          },
          "metadata": {
            "tags": []
          },
          "execution_count": 65
        }
      ]
    },
    {
      "cell_type": "code",
      "metadata": {
        "id": "E784CqmREEj_",
        "outputId": "6a227a58-1243-4790-e10e-05c7ec4781df",
        "colab": {
          "base_uri": "https://localhost:8080/"
        }
      },
      "source": [
        "#상관계수\n",
        "np.corrcoef(v,w)[0,1] #df.corr() -> 데이터프레임의 형태로 상관계수가 나온다."
      ],
      "execution_count": 70,
      "outputs": [
        {
          "output_type": "execute_result",
          "data": {
            "text/plain": [
              "0.1586897351257077"
            ]
          },
          "metadata": {
            "tags": []
          },
          "execution_count": 70
        }
      ]
    },
    {
      "cell_type": "markdown",
      "metadata": {
        "id": "86iXLzwM2z8l"
      },
      "source": [
        "## 3. 다음 벡터들의 span과, 이가 의미하는 바를 설명하세요. \n",
        "\n",
        "\\begin{align}\n",
        "g = \\begin{bmatrix} 1 & 3 \\end{bmatrix}\n",
        "\\qquad\n",
        "h = \\begin{bmatrix} 2 & 6 \\end{bmatrix}\n",
        "\\end{align}"
      ]
    },
    {
      "cell_type": "code",
      "metadata": {
        "id": "fNpSjPcOScgH",
        "colab": {
          "base_uri": "https://localhost:8080/",
          "height": 354
        },
        "outputId": "953fe82b-e419-424f-b3df-da419673ad01"
      },
      "source": [
        "import matplotlib.pyplot as plt\n",
        "\n",
        "g,h = [1,3],[2,6]\n",
        "# matrix = np.array([g,h]) \n",
        "matrix = np.stack((g,h))\n",
        "\n",
        "#벡터 시각화\n",
        "plt.figure(figsize=(2.5,5))\n",
        "plt.xlim(0, 3.5)          \n",
        "plt.ylim(0, 7)\n",
        "plt.xticks(ticks=np.arange(0, 4, step=1))\n",
        "plt.yticks(ticks=np.arange(0, 7, step=1))\n",
        "plt.arrow(0, 0, g[0], g[1], width = 0.05,head_width = .2, head_length = .1, color = 'red', alpha = 0.3)\n",
        "plt.arrow(0, 0, h[0], h[1], head_width = .1, head_length = .1, color = 'blue', alpha = 0.3)\n",
        "plt.axhline(0, color='gray', alpha = 0.3)\n",
        "plt.axvline(0, color='gray', alpha = 0.3)\n",
        "plt.annotate('vector g',(1,3),fontsize = 13, color = 'red')\n",
        "plt.annotate('vector h',(2,6),fontsize = 13, color = 'blue')\n",
        "plt.title(\"Vector\")\n",
        "plt.grid()\n",
        "plt.show()\n",
        "\n",
        "res6 = np.linalg.matrix_rank(matrix)\n",
        "print('rank:',res6)"
      ],
      "execution_count": 46,
      "outputs": [
        {
          "output_type": "display_data",
          "data": {
            "image/png": "[encoded data removed]",
            "text/plain": [
              "<Figure size 180x360 with 1 Axes>"
            ]
          },
          "metadata": {
            "tags": [],
            "needs_background": "light"
          }
        },
        {
          "output_type": "stream",
          "text": [
            "rank: 1\n"
          ],
          "name": "stdout"
        }
      ]
    },
    {
      "cell_type": "markdown",
      "metadata": {
        "id": "zSQaMI4mWL6s"
      },
      "source": [
        ">위 그림에서 볼 수 있듯이 두 벡터는 서로 선형 종속 관계이다. 따라서 span은 벡터 g를 스칼라배한 선이되고 rank는 1이 된다."
      ]
    },
    {
      "cell_type": "markdown",
      "metadata": {
        "id": "l1deylUj4IHH"
      },
      "source": [
        "## 4. 다음 벡터들의 span과, 이가 의미하는 바를 설명하세요.\n",
        "\n",
        "\\begin{align}\n",
        "l = \\begin{bmatrix} 1 & 2 & 3 \\end{bmatrix}\n",
        "\\qquad\n",
        "m = \\begin{bmatrix} -1 & 0 & 7 \\end{bmatrix}\n",
        "\\qquad\n",
        "n = \\begin{bmatrix} 4 & 8  & 2\\end{bmatrix}\n",
        "\\end{align}"
      ]
    },
    {
      "cell_type": "code",
      "metadata": {
        "id": "NWZ36G8QTMob",
        "colab": {
          "base_uri": "https://localhost:8080/"
        },
        "outputId": "9962a295-0528-46dc-e370-fb29a45d88ec"
      },
      "source": [
        "l = [1,2,3]\n",
        "m = [-1,0,7]\n",
        "n = [4,8,2]\n",
        "\n",
        "matrix = np.stack((l,m,n))#다른 방법: matrix = np.array([l,m,n])\n",
        "res7 = np.linalg.matrix_rank(matrix)\n",
        "res7"
      ],
      "execution_count": 48,
      "outputs": [
        {
          "output_type": "execute_result",
          "data": {
            "text/plain": [
              "3"
            ]
          },
          "metadata": {
            "tags": []
          },
          "execution_count": 48
        }
      ]
    },
    {
      "cell_type": "code",
      "metadata": {
        "id": "BbibAjQEYHZT",
        "colab": {
          "base_uri": "https://localhost:8080/",
          "height": 248
        },
        "outputId": "7aecb255-fae4-4110-aeb8-87914a4abb5d"
      },
      "source": [
        "#시각화\n",
        "from mpl_toolkits.mplot3d import Axes3D\n",
        "\n",
        "vectors = np.array([1,2,3,-1,0,7,4,8,2]).reshape(3,3)\n",
        "X, Y, Z = zip(*vectors)\n",
        "fig = plt.figure()\n",
        "ax = fig.add_subplot(projection='3d')\n",
        "ax.quiver(0,0,0,X, Y, Z, length=1)\n",
        "ax.set_xlim([-1, 9])\n",
        "ax.set_ylim([-1, 9])\n",
        "ax.set_zlim([-1, 9])\n",
        "ax.set_xlabel('X')\n",
        "ax.set_ylabel('Y')\n",
        "ax.set_zlabel('Z')\n",
        "plt.show()"
      ],
      "execution_count": 49,
      "outputs": [
        {
          "output_type": "display_data",
          "data": {
            "image/png": "[encoded data removed]",
            "text/plain": [
              "<Figure size 432x288 with 1 Axes>"
            ]
          },
          "metadata": {
            "tags": [],
            "needs_background": "light"
          }
        }
      ]
    },
    {
      "cell_type": "markdown",
      "metadata": {
        "id": "-lmwEk3gXsP_"
      },
      "source": [
        ">해당 벡터들은 위의 그림에서 볼 수 있듯이 선형 독립의 관계이다. 따라서 span은 3차원 공간의 평면이 되고 rank는 3이 된다. "
      ]
    },
    {
      "cell_type": "markdown",
      "metadata": {
        "id": "IpJwt9kw6v8U"
      },
      "source": [
        "## 5. 다음 매트릭스의 rank를 구하세요\n",
        "\n",
        "\\begin{align}\n",
        "P = \\begin{bmatrix} \n",
        "0 & 2 & 5 \\\\\n",
        " 3 & 6 & 12 \\\\\n",
        "3 & 2 & 2\n",
        "\\end{bmatrix}\n",
        "\\end{align}"
      ]
    },
    {
      "cell_type": "code",
      "metadata": {
        "id": "AKnLup0z_EB-"
      },
      "source": [
        "#시각화\n",
        "from mpl_toolkits.mplot3d import Axes3D\n",
        "\n",
        "vectors = np.array([0,2,5,3,6,12,3,2,2]).reshape(3,3)\n",
        "X, Y, Z = zip(*vectors)\n",
        "fig = plt.figure()\n",
        "ax = fig.add_subplot(projection='3d')\n",
        "ax.quiver(0,0,0,X, Y, Z, length=1)\n",
        "ax.set_xlim([-1, 12])\n",
        "ax.set_ylim([-1, 12])\n",
        "ax.set_zlim([-1, 12])\n",
        "ax.set_xlabel('X')\n",
        "ax.set_ylabel('Y')\n",
        "ax.set_zlabel('Z')\n",
        "plt.show()"
      ],
      "execution_count": null,
      "outputs": []
    },
    {
      "cell_type": "code",
      "metadata": {
        "id": "H4d10BCDcAvi",
        "colab": {
          "base_uri": "https://localhost:8080/"
        },
        "outputId": "12f09cae-9a0b-40cb-b0f4-65f15be35197"
      },
      "source": [
        "matrix = np.array([[0,2,5],[3,6,12],[3,2,2]])\n",
        "res8 = np.linalg.matrix_rank(matrix)\n",
        "res8"
      ],
      "execution_count": 51,
      "outputs": [
        {
          "output_type": "execute_result",
          "data": {
            "text/plain": [
              "2"
            ]
          },
          "metadata": {
            "tags": []
          },
          "execution_count": 51
        }
      ]
    },
    {
      "cell_type": "markdown",
      "metadata": {
        "id": "pfNJIcuar7t6"
      },
      "source": [
        ">가우스 소거법 결과 [0,1,2.5],[1,0,-1],[0,0,0]의 결과를 얻을 수 있었고 선형 독립 관계인 행 2개가 해당 matrix의 rank가 된다. 따라서 rank = 2"
      ]
    },
    {
      "cell_type": "markdown",
      "metadata": {
        "id": "TKkrPwRM-Oar"
      },
      "source": [
        "# 🔥 도전과제 \n",
        "\n",
        "주어진 데이터 (x, y)에 대해서 `y = x` 라는 벡터에 대해 projection을 계산하는 함수를 작성하세요. \n",
        "- (x, y) 는 (0, 0) 에서 (x, y)로 가는 벡터라 가정합니다.\n",
        "\n",
        "이후\n",
        "\n",
        "- 입력된 데이터를 파란색 선으로, \n",
        "- `y = x` 라는 벡터를 빨간색 선으로, 마지막으로 \n",
        "- projection 된 선을 녹색 점선(dashed)으로 그래프에 그리세요."
      ]
    },
    {
      "cell_type": "code",
      "metadata": {
        "id": "cp52kZra-ykj",
        "outputId": "9a011aaa-beb4-4ebd-c63a-ecd577c5d7d4",
        "colab": {
          "base_uri": "https://localhost:8080/"
        }
      },
      "source": [
        "v = np.array([7, 4])\n",
        "w = np.array([1,1])\n",
        "\n",
        "def myProjection(v):\n",
        "  return (np.dot(v,w)/(np.sum(np.power(w,2))))*w\n",
        "  \n",
        "vprime = myProjection(v)\n",
        "vprime"
      ],
      "execution_count": 55,
      "outputs": [
        {
          "output_type": "execute_result",
          "data": {
            "text/plain": [
              "array([5.5, 5.5])"
            ]
          },
          "metadata": {
            "tags": []
          },
          "execution_count": 55
        }
      ]
    },
    {
      "cell_type": "code",
      "metadata": {
        "id": "sdbxbiEOtAUC",
        "colab": {
          "base_uri": "https://localhost:8080/",
          "height": 275
        },
        "outputId": "66fd36f5-057a-4094-b5a3-75d11bc01207"
      },
      "source": [
        "plt.xlim(-1, 10)          \n",
        "plt.ylim(-1, 10)\n",
        "\n",
        "axes = plt.gca()\n",
        "\n",
        "plt.plot([0,vprime[0]], [0,vprime[1]], '--', color = 'green')\n",
        "plt.arrow(0,0,9,9, width = 0.05,head_width = .3, head_length = .3, color = 'red')\n",
        "plt.arrow(0,0,v[0],v[1], width = 0.05,head_width = .3, head_length = .3, color = 'blue')\n",
        "plt.annotate('y=x',(9,10),fontsize = 13, color = 'red')\n",
        "plt.grid()\n",
        "\n",
        "plt.show()"
      ],
      "execution_count": 56,
      "outputs": [
        {
          "output_type": "display_data",
          "data": {
            "image/png": "[encoded data removed]",
            "text/plain": [
              "<Figure size 432x288 with 1 Axes>"
            ]
          },
          "metadata": {
            "tags": [],
            "needs_background": "light"
          }
        }
      ]
    },
    {
      "cell_type": "code",
      "metadata": {
        "id": "V4eMogfOrD7k"
      },
      "source": [
        "from google.colab import drive\n",
        "drive.mount('/content/drive')"
      ],
      "execution_count": null,
      "outputs": []
    }
  ]
}