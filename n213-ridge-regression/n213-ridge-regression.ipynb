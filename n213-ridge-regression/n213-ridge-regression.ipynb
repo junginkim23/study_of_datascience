{
  "nbformat": 4,
  "nbformat_minor": 0,
  "metadata": {
    "jupytext": {
      "main_language": "python"
    },
    "kernelspec": {
      "display_name": "codestates_ds",
      "language": "python",
      "name": "codestates_ds"
    },
    "language_info": {
      "codemirror_mode": {
        "name": "ipython",
        "version": 3
      },
      "file_extension": ".py",
      "mimetype": "text/x-python",
      "name": "python",
      "nbconvert_exporter": "python",
      "pygments_lexer": "ipython3",
      "version": "3.7.7"
    },
    "colab": {
      "name": "n213-ridge-regression.ipynb",
      "provenance": []
    }
  },
  "cells": [
    {
      "cell_type": "markdown",
      "metadata": {
        "id": "AnngVHRDfJyt"
      },
      "source": [
        "<img align=\"right\" src=\"https://ds-cs-images.s3.ap-northeast-2.amazonaws.com/Codestates_Fulllogo_Color.png\" width=100>\n",
        "\n",
        "## *DATA SCIENCE / SECTION 2 / SPRINT 1 / NOTE 3*\n",
        "\n",
        "---\n",
        "\n",
        "# Ridge Regression"
      ]
    },
    {
      "cell_type": "markdown",
      "metadata": {
        "id": "A-ZaY0eVfJyw"
      },
      "source": [
        "- 범주형(Cagegorical) 자료를 다루기 위한 원핫인코딩(One-hot encoding) 기법을 이해합니다.\n",
        "- Ridge 회귀를 통한 특성선택(Feature selection) 과정을 이해합니다.\n",
        "- 정규화(regularization)을 위한 Ridge 회귀모델을 이해하고 사용할 수 있습니다."
      ]
    },
    {
      "cell_type": "markdown",
      "metadata": {
        "id": "Ppu1Bxs5fJyw"
      },
      "source": [
        "### Warm up\n",
        "\n",
        "다음 영상을 시청하세요.\n",
        "- [StatQuest video on Ridge Regression:](https://youtu.be/Q81RR3yKn30?t=222)\n",
        "    - ridge regression을 통해서 bias를 약간 높이게 되면 어떤 효과를 얻게 되나요?\n",
        "    - 람다(패널티) 값을 크게 잡으면 어떤 효과가 있나요?\n",
        "\n",
        "\n",
        "설치해야 하는 라이브러리\n",
        "- category_encoders (onehot encoding 라이브러리)\n",
        "      "
      ]
    },
    {
      "cell_type": "markdown",
      "metadata": {
        "id": "OQhGNZigfJyx"
      },
      "source": [
        "---"
      ]
    },
    {
      "cell_type": "markdown",
      "metadata": {
        "id": "PoGH3dNofJyy"
      },
      "source": [
        "### 원핫인코딩을 살펴보기 위한 간단한 데이터를 준비해 봅시다."
      ]
    },
    {
      "cell_type": "code",
      "metadata": {
        "scrolled": true,
        "id": "blcG8b0lfJyy"
      },
      "source": [
        "import pandas as pd\n",
        "import numpy as np\n",
        "import matplotlib.pyplot as plt\n",
        "import seaborn as sns\n",
        "\n",
        "df = pd.DataFrame({\n",
        "    'City': ['Seoul', 'Seoul', 'Seoul', 'Busan', 'Busan', 'Busan', 'Incheon', 'Incheon', 'Seoul', 'Busan', 'Incheon'],\n",
        "    'Room': [3, 4, 3, 2, 3, 3, 3, 3, 3, 3, 2],\n",
        "    'Price': [55000, 61000, 44000, 35000, 53000, 45000, 32000, 51000, 50000, 40000, 30000]\n",
        "})"
      ],
      "execution_count": 1,
      "outputs": []
    },
    {
      "cell_type": "code",
      "metadata": {
        "id": "PpVfSZ1UfJyz",
        "outputId": "414b01b4-465b-481b-eba7-9ea726b092da",
        "colab": {
          "base_uri": "https://localhost:8080/",
          "height": 388
        }
      },
      "source": [
        "# 데이터를 살펴봅니다.\n",
        "df"
      ],
      "execution_count": 2,
      "outputs": [
        {
          "output_type": "execute_result",
          "data": {
            "text/html": [
              "<div>\n",
              "<style scoped>\n",
              "    .dataframe tbody tr th:only-of-type {\n",
              "        vertical-align: middle;\n",
              "    }\n",
              "\n",
              "    .dataframe tbody tr th {\n",
              "        vertical-align: top;\n",
              "    }\n",
              "\n",
              "    .dataframe thead th {\n",
              "        text-align: right;\n",
              "    }\n",
              "</style>\n",
              "<table border=\"1\" class=\"dataframe\">\n",
              "  <thead>\n",
              "    <tr style=\"text-align: right;\">\n",
              "      <th></th>\n",
              "      <th>City</th>\n",
              "      <th>Room</th>\n",
              "      <th>Price</th>\n",
              "    </tr>\n",
              "  </thead>\n",
              "  <tbody>\n",
              "    <tr>\n",
              "      <th>0</th>\n",
              "      <td>Seoul</td>\n",
              "      <td>3</td>\n",
              "      <td>55000</td>\n",
              "    </tr>\n",
              "    <tr>\n",
              "      <th>1</th>\n",
              "      <td>Seoul</td>\n",
              "      <td>4</td>\n",
              "      <td>61000</td>\n",
              "    </tr>\n",
              "    <tr>\n",
              "      <th>2</th>\n",
              "      <td>Seoul</td>\n",
              "      <td>3</td>\n",
              "      <td>44000</td>\n",
              "    </tr>\n",
              "    <tr>\n",
              "      <th>3</th>\n",
              "      <td>Busan</td>\n",
              "      <td>2</td>\n",
              "      <td>35000</td>\n",
              "    </tr>\n",
              "    <tr>\n",
              "      <th>4</th>\n",
              "      <td>Busan</td>\n",
              "      <td>3</td>\n",
              "      <td>53000</td>\n",
              "    </tr>\n",
              "    <tr>\n",
              "      <th>5</th>\n",
              "      <td>Busan</td>\n",
              "      <td>3</td>\n",
              "      <td>45000</td>\n",
              "    </tr>\n",
              "    <tr>\n",
              "      <th>6</th>\n",
              "      <td>Incheon</td>\n",
              "      <td>3</td>\n",
              "      <td>32000</td>\n",
              "    </tr>\n",
              "    <tr>\n",
              "      <th>7</th>\n",
              "      <td>Incheon</td>\n",
              "      <td>3</td>\n",
              "      <td>51000</td>\n",
              "    </tr>\n",
              "    <tr>\n",
              "      <th>8</th>\n",
              "      <td>Seoul</td>\n",
              "      <td>3</td>\n",
              "      <td>50000</td>\n",
              "    </tr>\n",
              "    <tr>\n",
              "      <th>9</th>\n",
              "      <td>Busan</td>\n",
              "      <td>3</td>\n",
              "      <td>40000</td>\n",
              "    </tr>\n",
              "    <tr>\n",
              "      <th>10</th>\n",
              "      <td>Incheon</td>\n",
              "      <td>2</td>\n",
              "      <td>30000</td>\n",
              "    </tr>\n",
              "  </tbody>\n",
              "</table>\n",
              "</div>"
            ],
            "text/plain": [
              "       City  Room  Price\n",
              "0     Seoul     3  55000\n",
              "1     Seoul     4  61000\n",
              "2     Seoul     3  44000\n",
              "3     Busan     2  35000\n",
              "4     Busan     3  53000\n",
              "5     Busan     3  45000\n",
              "6   Incheon     3  32000\n",
              "7   Incheon     3  51000\n",
              "8     Seoul     3  50000\n",
              "9     Busan     3  40000\n",
              "10  Incheon     2  30000"
            ]
          },
          "metadata": {
            "tags": []
          },
          "execution_count": 2
        }
      ]
    },
    {
      "cell_type": "markdown",
      "metadata": {
        "id": "ufqlirSafJy0"
      },
      "source": [
        "이처럼 데이터에 문자열(String)을 만나게 되면 어떻게 처리해야 할까요? City 칼럼에 있는 데이터는 도시 지역을 구분하는 범주형 변수(Categorical vaiable)입니다.\n",
        "\n",
        "범주형 자료는 순서가 없는 **명목형(nominal)**과, 순서가 있는 **순서형(ordinal)**으로 나뉩니다.\n",
        "\n",
        "도시는 높고 낮음이나 우선순위를 나타낼 필요가 없고 단지 구분만 되면 되기 때문에 명목형 범주형 변수로 보면 됩니다.\n",
        "\n",
        "#### 범주형 변수를 원핫인코딩으로 변환하는 방법에 대한 모식도를 보겠습니다."
      ]
    },
    {
      "cell_type": "markdown",
      "metadata": {
        "id": "pex5W8bCfJy0"
      },
      "source": [
        "![one-hot](https://i.imgur.com/mtimFxh.png)\n",
        "- color 변수를 원핫인코딩으로 변환해서 가능한 모든 범주를 열로 나타내었습니다.([one-hot-encoding](https://www.kaggle.com/dansbecker/using-categorical-data-with-one-hot-encoding))"
      ]
    },
    {
      "cell_type": "markdown",
      "metadata": {
        "id": "qtoaMGxPfJy1"
      },
      "source": [
        "데이터를 살펴보겠습니다."
      ]
    },
    {
      "cell_type": "code",
      "metadata": {
        "id": "JMG3UO-1fJy1",
        "outputId": "acae7634-3e44-47ba-9435-b32dcfc045c8",
        "colab": {
          "base_uri": "https://localhost:8080/"
        }
      },
      "source": [
        "## City의 범주 비율을 살펴보겠습니다.\n",
        "df['City'].value_counts(normalize=True)"
      ],
      "execution_count": 3,
      "outputs": [
        {
          "output_type": "execute_result",
          "data": {
            "text/plain": [
              "Busan      0.363636\n",
              "Seoul      0.363636\n",
              "Incheon    0.272727\n",
              "Name: City, dtype: float64"
            ]
          },
          "metadata": {
            "tags": []
          },
          "execution_count": 3
        }
      ]
    },
    {
      "cell_type": "code",
      "metadata": {
        "id": "AUpkUpuJfJy2",
        "outputId": "ae60b92d-f4dc-4ffe-93a0-aaad1dc68cce",
        "colab": {
          "base_uri": "https://localhost:8080/",
          "height": 279
        }
      },
      "source": [
        "## seaborn countplot, City\n",
        "sns.countplot(x=df['City']);"
      ],
      "execution_count": 4,
      "outputs": [
        {
          "output_type": "display_data",
          "data": {
            "image/png": "[encoded data removed]",
            "text/plain": [
              "<Figure size 432x288 with 1 Axes>"
            ]
          },
          "metadata": {
            "tags": [],
            "needs_background": "light"
          }
        }
      ]
    },
    {
      "cell_type": "code",
      "metadata": {
        "id": "OjnoGtdffJy2",
        "outputId": "1e9d93dc-9845-4bfb-dbe2-b6f8ddac6b49",
        "colab": {
          "base_uri": "https://localhost:8080/"
        }
      },
      "source": [
        "## Price 평균\n",
        "df['Price'].mean()"
      ],
      "execution_count": 5,
      "outputs": [
        {
          "output_type": "execute_result",
          "data": {
            "text/plain": [
              "45090.90909090909"
            ]
          },
          "metadata": {
            "tags": []
          },
          "execution_count": 5
        }
      ]
    },
    {
      "cell_type": "code",
      "metadata": {
        "scrolled": true,
        "id": "qP8yW6XGfJy2",
        "outputId": "50b19ff4-ed75-4bde-ada3-bd1e6de60fa3",
        "colab": {
          "base_uri": "https://localhost:8080/"
        }
      },
      "source": [
        "## City 각 범주에 대한 Price 값의 평균을 보겠습니다.\n",
        "df.groupby('City')['Price'].mean()"
      ],
      "execution_count": 6,
      "outputs": [
        {
          "output_type": "execute_result",
          "data": {
            "text/plain": [
              "City\n",
              "Busan      43250.000000\n",
              "Incheon    37666.666667\n",
              "Seoul      52500.000000\n",
              "Name: Price, dtype: float64"
            ]
          },
          "metadata": {
            "tags": []
          },
          "execution_count": 6
        }
      ]
    },
    {
      "cell_type": "code",
      "metadata": {
        "id": "SnnQlEKPfJy3",
        "outputId": "41a370c3-ed42-4afb-cc40-f1008e8370c2",
        "colab": {
          "base_uri": "https://localhost:8080/",
          "height": 172
        }
      },
      "source": [
        "## aggregation을 사용해 City 각 범주에 대한 여러 통계량을 볼 수도 있습니다.(min, max, mean, median)\n",
        "df.groupby('City')['Price'].agg(['min','max','mean','median'])"
      ],
      "execution_count": 7,
      "outputs": [
        {
          "output_type": "execute_result",
          "data": {
            "text/html": [
              "<div>\n",
              "<style scoped>\n",
              "    .dataframe tbody tr th:only-of-type {\n",
              "        vertical-align: middle;\n",
              "    }\n",
              "\n",
              "    .dataframe tbody tr th {\n",
              "        vertical-align: top;\n",
              "    }\n",
              "\n",
              "    .dataframe thead th {\n",
              "        text-align: right;\n",
              "    }\n",
              "</style>\n",
              "<table border=\"1\" class=\"dataframe\">\n",
              "  <thead>\n",
              "    <tr style=\"text-align: right;\">\n",
              "      <th></th>\n",
              "      <th>min</th>\n",
              "      <th>max</th>\n",
              "      <th>mean</th>\n",
              "      <th>median</th>\n",
              "    </tr>\n",
              "    <tr>\n",
              "      <th>City</th>\n",
              "      <th></th>\n",
              "      <th></th>\n",
              "      <th></th>\n",
              "      <th></th>\n",
              "    </tr>\n",
              "  </thead>\n",
              "  <tbody>\n",
              "    <tr>\n",
              "      <th>Busan</th>\n",
              "      <td>35000</td>\n",
              "      <td>53000</td>\n",
              "      <td>43250.000000</td>\n",
              "      <td>42500</td>\n",
              "    </tr>\n",
              "    <tr>\n",
              "      <th>Incheon</th>\n",
              "      <td>30000</td>\n",
              "      <td>51000</td>\n",
              "      <td>37666.666667</td>\n",
              "      <td>32000</td>\n",
              "    </tr>\n",
              "    <tr>\n",
              "      <th>Seoul</th>\n",
              "      <td>44000</td>\n",
              "      <td>61000</td>\n",
              "      <td>52500.000000</td>\n",
              "      <td>52500</td>\n",
              "    </tr>\n",
              "  </tbody>\n",
              "</table>\n",
              "</div>"
            ],
            "text/plain": [
              "           min    max          mean  median\n",
              "City                                       \n",
              "Busan    35000  53000  43250.000000   42500\n",
              "Incheon  30000  51000  37666.666667   32000\n",
              "Seoul    44000  61000  52500.000000   52500"
            ]
          },
          "metadata": {
            "tags": []
          },
          "execution_count": 7
        }
      ]
    },
    {
      "cell_type": "markdown",
      "metadata": {
        "id": "61AooJK8fJy3"
      },
      "source": [
        "원핫인코딩을 수행하면 각 카테고리에 해당하는 변수들이 모두 차원에 더해지게 됩니다. 그러므로 카테고리가 너무 많은 경우(high cardinality)에는 사용하기 적합하지 않습니다. \n",
        "\n",
        "[집합의크기(Cardinality)](https://simple.wikipedia.org/wiki/Cardinality):\n",
        "\n",
        "> In mathematics, the cardinality of a set means the number of its elements. For example, the set A = {2, 4, 6} contains 3 elements, and therefore A has a cardinality of 3.\n",
        "\n",
        "* City의 각 범주를 1,2,3 이렇게 순서형 인코딩(ordinal encoding)를 하면 범주형 값들이 대소관계를 가지므로 주의해야 합니다."
      ]
    },
    {
      "cell_type": "markdown",
      "metadata": {
        "id": "4sYY8vDvfJy3"
      },
      "source": [
        "우선 pandas get_dummies를 사용하여 간단하게 원핫인코딩을 수행해 봅시다."
      ]
    },
    {
      "cell_type": "code",
      "metadata": {
        "id": "WABHC7J8fJy4",
        "outputId": "898e28ba-ac3a-4844-b272-e0be9fc4d688",
        "colab": {
          "base_uri": "https://localhost:8080/",
          "height": 388
        }
      },
      "source": [
        "## get_dummies 를 사용한 원핫인코딩\n",
        "df_oh = pd.get_dummies(df, prefix=['City'])\n",
        "\n",
        "df_oh"
      ],
      "execution_count": 8,
      "outputs": [
        {
          "output_type": "execute_result",
          "data": {
            "text/html": [
              "<div>\n",
              "<style scoped>\n",
              "    .dataframe tbody tr th:only-of-type {\n",
              "        vertical-align: middle;\n",
              "    }\n",
              "\n",
              "    .dataframe tbody tr th {\n",
              "        vertical-align: top;\n",
              "    }\n",
              "\n",
              "    .dataframe thead th {\n",
              "        text-align: right;\n",
              "    }\n",
              "</style>\n",
              "<table border=\"1\" class=\"dataframe\">\n",
              "  <thead>\n",
              "    <tr style=\"text-align: right;\">\n",
              "      <th></th>\n",
              "      <th>Room</th>\n",
              "      <th>Price</th>\n",
              "      <th>City_Busan</th>\n",
              "      <th>City_Incheon</th>\n",
              "      <th>City_Seoul</th>\n",
              "    </tr>\n",
              "  </thead>\n",
              "  <tbody>\n",
              "    <tr>\n",
              "      <th>0</th>\n",
              "      <td>3</td>\n",
              "      <td>55000</td>\n",
              "      <td>0</td>\n",
              "      <td>0</td>\n",
              "      <td>1</td>\n",
              "    </tr>\n",
              "    <tr>\n",
              "      <th>1</th>\n",
              "      <td>4</td>\n",
              "      <td>61000</td>\n",
              "      <td>0</td>\n",
              "      <td>0</td>\n",
              "      <td>1</td>\n",
              "    </tr>\n",
              "    <tr>\n",
              "      <th>2</th>\n",
              "      <td>3</td>\n",
              "      <td>44000</td>\n",
              "      <td>0</td>\n",
              "      <td>0</td>\n",
              "      <td>1</td>\n",
              "    </tr>\n",
              "    <tr>\n",
              "      <th>3</th>\n",
              "      <td>2</td>\n",
              "      <td>35000</td>\n",
              "      <td>1</td>\n",
              "      <td>0</td>\n",
              "      <td>0</td>\n",
              "    </tr>\n",
              "    <tr>\n",
              "      <th>4</th>\n",
              "      <td>3</td>\n",
              "      <td>53000</td>\n",
              "      <td>1</td>\n",
              "      <td>0</td>\n",
              "      <td>0</td>\n",
              "    </tr>\n",
              "    <tr>\n",
              "      <th>5</th>\n",
              "      <td>3</td>\n",
              "      <td>45000</td>\n",
              "      <td>1</td>\n",
              "      <td>0</td>\n",
              "      <td>0</td>\n",
              "    </tr>\n",
              "    <tr>\n",
              "      <th>6</th>\n",
              "      <td>3</td>\n",
              "      <td>32000</td>\n",
              "      <td>0</td>\n",
              "      <td>1</td>\n",
              "      <td>0</td>\n",
              "    </tr>\n",
              "    <tr>\n",
              "      <th>7</th>\n",
              "      <td>3</td>\n",
              "      <td>51000</td>\n",
              "      <td>0</td>\n",
              "      <td>1</td>\n",
              "      <td>0</td>\n",
              "    </tr>\n",
              "    <tr>\n",
              "      <th>8</th>\n",
              "      <td>3</td>\n",
              "      <td>50000</td>\n",
              "      <td>0</td>\n",
              "      <td>0</td>\n",
              "      <td>1</td>\n",
              "    </tr>\n",
              "    <tr>\n",
              "      <th>9</th>\n",
              "      <td>3</td>\n",
              "      <td>40000</td>\n",
              "      <td>1</td>\n",
              "      <td>0</td>\n",
              "      <td>0</td>\n",
              "    </tr>\n",
              "    <tr>\n",
              "      <th>10</th>\n",
              "      <td>2</td>\n",
              "      <td>30000</td>\n",
              "      <td>0</td>\n",
              "      <td>1</td>\n",
              "      <td>0</td>\n",
              "    </tr>\n",
              "  </tbody>\n",
              "</table>\n",
              "</div>"
            ],
            "text/plain": [
              "    Room  Price  City_Busan  City_Incheon  City_Seoul\n",
              "0      3  55000           0             0           1\n",
              "1      4  61000           0             0           1\n",
              "2      3  44000           0             0           1\n",
              "3      2  35000           1             0           0\n",
              "4      3  53000           1             0           0\n",
              "5      3  45000           1             0           0\n",
              "6      3  32000           0             1           0\n",
              "7      3  51000           0             1           0\n",
              "8      3  50000           0             0           1\n",
              "9      3  40000           1             0           0\n",
              "10     2  30000           0             1           0"
            ]
          },
          "metadata": {
            "tags": []
          },
          "execution_count": 8
        }
      ]
    },
    {
      "cell_type": "code",
      "metadata": {
        "id": "dxSKweFMfJy4",
        "outputId": "395813fb-baf8-4248-8b78-f22a52d0103a",
        "colab": {
          "base_uri": "https://localhost:8080/",
          "height": 388
        }
      },
      "source": [
        "## 불필요한 요소를 없인 더미 코딩\n",
        "df_dum = pd.get_dummies(df, prefix=['City'], drop_first=True)\n",
        "df_dum"
      ],
      "execution_count": 9,
      "outputs": [
        {
          "output_type": "execute_result",
          "data": {
            "text/html": [
              "<div>\n",
              "<style scoped>\n",
              "    .dataframe tbody tr th:only-of-type {\n",
              "        vertical-align: middle;\n",
              "    }\n",
              "\n",
              "    .dataframe tbody tr th {\n",
              "        vertical-align: top;\n",
              "    }\n",
              "\n",
              "    .dataframe thead th {\n",
              "        text-align: right;\n",
              "    }\n",
              "</style>\n",
              "<table border=\"1\" class=\"dataframe\">\n",
              "  <thead>\n",
              "    <tr style=\"text-align: right;\">\n",
              "      <th></th>\n",
              "      <th>Room</th>\n",
              "      <th>Price</th>\n",
              "      <th>City_Incheon</th>\n",
              "      <th>City_Seoul</th>\n",
              "    </tr>\n",
              "  </thead>\n",
              "  <tbody>\n",
              "    <tr>\n",
              "      <th>0</th>\n",
              "      <td>3</td>\n",
              "      <td>55000</td>\n",
              "      <td>0</td>\n",
              "      <td>1</td>\n",
              "    </tr>\n",
              "    <tr>\n",
              "      <th>1</th>\n",
              "      <td>4</td>\n",
              "      <td>61000</td>\n",
              "      <td>0</td>\n",
              "      <td>1</td>\n",
              "    </tr>\n",
              "    <tr>\n",
              "      <th>2</th>\n",
              "      <td>3</td>\n",
              "      <td>44000</td>\n",
              "      <td>0</td>\n",
              "      <td>1</td>\n",
              "    </tr>\n",
              "    <tr>\n",
              "      <th>3</th>\n",
              "      <td>2</td>\n",
              "      <td>35000</td>\n",
              "      <td>0</td>\n",
              "      <td>0</td>\n",
              "    </tr>\n",
              "    <tr>\n",
              "      <th>4</th>\n",
              "      <td>3</td>\n",
              "      <td>53000</td>\n",
              "      <td>0</td>\n",
              "      <td>0</td>\n",
              "    </tr>\n",
              "    <tr>\n",
              "      <th>5</th>\n",
              "      <td>3</td>\n",
              "      <td>45000</td>\n",
              "      <td>0</td>\n",
              "      <td>0</td>\n",
              "    </tr>\n",
              "    <tr>\n",
              "      <th>6</th>\n",
              "      <td>3</td>\n",
              "      <td>32000</td>\n",
              "      <td>1</td>\n",
              "      <td>0</td>\n",
              "    </tr>\n",
              "    <tr>\n",
              "      <th>7</th>\n",
              "      <td>3</td>\n",
              "      <td>51000</td>\n",
              "      <td>1</td>\n",
              "      <td>0</td>\n",
              "    </tr>\n",
              "    <tr>\n",
              "      <th>8</th>\n",
              "      <td>3</td>\n",
              "      <td>50000</td>\n",
              "      <td>0</td>\n",
              "      <td>1</td>\n",
              "    </tr>\n",
              "    <tr>\n",
              "      <th>9</th>\n",
              "      <td>3</td>\n",
              "      <td>40000</td>\n",
              "      <td>0</td>\n",
              "      <td>0</td>\n",
              "    </tr>\n",
              "    <tr>\n",
              "      <th>10</th>\n",
              "      <td>2</td>\n",
              "      <td>30000</td>\n",
              "      <td>1</td>\n",
              "      <td>0</td>\n",
              "    </tr>\n",
              "  </tbody>\n",
              "</table>\n",
              "</div>"
            ],
            "text/plain": [
              "    Room  Price  City_Incheon  City_Seoul\n",
              "0      3  55000             0           1\n",
              "1      4  61000             0           1\n",
              "2      3  44000             0           1\n",
              "3      2  35000             0           0\n",
              "4      3  53000             0           0\n",
              "5      3  45000             0           0\n",
              "6      3  32000             1           0\n",
              "7      3  51000             1           0\n",
              "8      3  50000             0           1\n",
              "9      3  40000             0           0\n",
              "10     2  30000             1           0"
            ]
          },
          "metadata": {
            "tags": []
          },
          "execution_count": 9
        }
      ]
    },
    {
      "cell_type": "markdown",
      "metadata": {
        "id": "daJ1e9AjfJy4"
      },
      "source": [
        "### 간단한 선형회귀 모델을 만들어 원핫인코딩 특성을 사용해 보겠습니다."
      ]
    },
    {
      "cell_type": "code",
      "metadata": {
        "id": "MfgyacmZfJy4"
      },
      "source": [
        "## import LinearRegression\n",
        "from  sklearn.linear_model import LinearRegression\n",
        "\n",
        "## Initialize LinearRegression\n",
        "model_oh = LinearRegression()"
      ],
      "execution_count": 10,
      "outputs": []
    },
    {
      "cell_type": "code",
      "metadata": {
        "id": "gpe7XluofJy5",
        "outputId": "41e765df-0a75-43d6-c95d-51d108d46883",
        "colab": {
          "base_uri": "https://localhost:8080/"
        }
      },
      "source": [
        "## 모델 학습(fit)\n",
        "model_oh.fit(df_oh[['City_Seoul','City_Busan','City_Incheon']], df_oh['Price'])"
      ],
      "execution_count": 11,
      "outputs": [
        {
          "output_type": "execute_result",
          "data": {
            "text/plain": [
              "LinearRegression()"
            ]
          },
          "metadata": {
            "tags": []
          },
          "execution_count": 11
        }
      ]
    },
    {
      "cell_type": "code",
      "metadata": {
        "id": "25hFDb6HfJy5",
        "outputId": "05dd7572-abc5-47c4-d7a6-411734ae35c1",
        "colab": {
          "base_uri": "https://localhost:8080/"
        }
      },
      "source": [
        "## model coef_, intercept_\n",
        "print(\"coefficients: \", model_oh.coef_)\n",
        "print(\"intercept:\" , model_oh.intercept_)"
      ],
      "execution_count": 12,
      "outputs": [
        {
          "output_type": "stream",
          "text": [
            "coefficients:  [ 8027.77777778 -1222.22222222 -6805.55555556]\n",
            "intercept: 44472.22222222222\n"
          ],
          "name": "stdout"
        }
      ]
    },
    {
      "cell_type": "code",
      "metadata": {
        "id": "DoSIUEHZfJy5",
        "outputId": "336c3a56-7a99-47a6-edf2-a2837626f25c",
        "colab": {
          "base_uri": "https://localhost:8080/"
        }
      },
      "source": [
        "# 더미 코딩\n",
        "model_dum = LinearRegression()\n",
        "model_dum.fit(df_oh[['City_Seoul', 'City_Incheon']], df_oh['Price'])\n",
        "print(\"coefficient: \", model_dum.coef_)\n",
        "print(\"intercept: \", model_dum.intercept_)"
      ],
      "execution_count": 13,
      "outputs": [
        {
          "output_type": "stream",
          "text": [
            "coefficient:  [ 9250.         -5583.33333333]\n",
            "intercept:  43250.0\n"
          ],
          "name": "stdout"
        }
      ]
    },
    {
      "cell_type": "code",
      "metadata": {
        "id": "5ChFugFVfJy6",
        "outputId": "90dc01e1-716b-4566-b3b9-3a49e3ae0ecd",
        "colab": {
          "base_uri": "https://localhost:8080/",
          "height": 613
        }
      },
      "source": [
        "import plotly.express as px\n",
        "px.scatter(\n",
        "    df_oh,\n",
        "    x='City_Seoul',\n",
        "    y='Price',\n",
        "    trendline='ols'\n",
        ")"
      ],
      "execution_count": 14,
      "outputs": [
        {
          "output_type": "stream",
          "text": [
            "/usr/local/lib/python3.7/dist-packages/statsmodels/tools/_testing.py:19: FutureWarning:\n",
            "\n",
            "pandas.util.testing is deprecated. Use the functions in the public API at pandas.testing instead.\n",
            "\n"
          ],
          "name": "stderr"
        },
        {
          "output_type": "display_data",
          "data": {
            "text/html": [
              "<html>\n",
              "<head><meta charset=\"utf-8\" /></head>\n",
              "<body>\n",
              "    <div>\n",
              "            <script src=\"https://cdnjs.cloudflare.com/ajax/libs/mathjax/2.7.5/MathJax.js?config=TeX-AMS-MML_SVG\"></script><script type=\"text/javascript\">if (window.MathJax) {MathJax.Hub.Config({SVG: {font: \"STIX-Web\"}});}</script>\n",
              "                <script type=\"text/javascript\">window.PlotlyConfig = {MathJaxConfig: 'local'};</script>\n",
              "        <script src=\"https://cdn.plot.ly/plotly-latest.min.js\"></script>    \n",
              "            <div id=\"b56e4f9e-8b9b-4604-be77-eb0b9065a275\" class=\"plotly-graph-div\" style=\"height:525px; width:100%;\"></div>\n",
              "            <script type=\"text/javascript\">\n",
              "                \n",
              "                    window.PLOTLYENV=window.PLOTLYENV || {};\n",
              "                    \n",
              "                if (document.getElementById(\"b56e4f9e-8b9b-4604-be77-eb0b9065a275\")) {\n",
              "                    Plotly.newPlot(\n",
              "                        'b56e4f9e-8b9b-4604-be77-eb0b9065a275',\n",
              "                        [{\"hoverlabel\": {\"namelength\": 0}, \"hovertemplate\": \"City_Seoul=%{x}<br>Price=%{y}\", \"legendgroup\": \"\", \"marker\": {\"color\": \"#636efa\", \"symbol\": \"circle\"}, \"mode\": \"markers\", \"name\": \"\", \"showlegend\": false, \"type\": \"scatter\", \"x\": [1, 1, 1, 0, 0, 0, 0, 0, 1, 0, 0], \"xaxis\": \"x\", \"y\": [55000, 61000, 44000, 35000, 53000, 45000, 32000, 51000, 50000, 40000, 30000], \"yaxis\": \"y\"}, {\"hoverlabel\": {\"namelength\": 0}, \"hovertemplate\": \"<b>OLS trendline</b><br>Price = 11642.857143 * City_Seoul + 40857.142857<br>R<sup>2</sup>=0.344739<br><br>City_Seoul=%{x}<br>Price=%{y} <b>(trend)</b>\", \"legendgroup\": \"\", \"marker\": {\"color\": \"#636efa\", \"symbol\": \"circle\"}, \"mode\": \"lines\", \"name\": \"\", \"showlegend\": false, \"type\": \"scatter\", \"x\": [0, 0, 0, 0, 0, 0, 0, 1, 1, 1, 1], \"xaxis\": \"x\", \"y\": [40857.14285714282, 40857.14285714282, 40857.14285714282, 40857.14285714282, 40857.14285714282, 40857.14285714282, 40857.14285714282, 52499.99999999994, 52499.99999999994, 52499.99999999994, 52499.99999999994], \"yaxis\": \"y\"}],\n",
              "                        {\"legend\": {\"tracegroupgap\": 0}, \"margin\": {\"t\": 60}, \"template\": {\"data\": {\"bar\": [{\"error_x\": {\"color\": \"#2a3f5f\"}, \"error_y\": {\"color\": \"#2a3f5f\"}, \"marker\": {\"line\": {\"color\": \"#E5ECF6\", \"width\": 0.5}}, \"type\": \"bar\"}], \"barpolar\": [{\"marker\": {\"line\": {\"color\": \"#E5ECF6\", \"width\": 0.5}}, \"type\": \"barpolar\"}], \"carpet\": [{\"aaxis\": {\"endlinecolor\": \"#2a3f5f\", \"gridcolor\": \"white\", \"linecolor\": \"white\", \"minorgridcolor\": \"white\", \"startlinecolor\": \"#2a3f5f\"}, \"baxis\": {\"endlinecolor\": \"#2a3f5f\", \"gridcolor\": \"white\", \"linecolor\": \"white\", \"minorgridcolor\": \"white\", \"startlinecolor\": \"#2a3f5f\"}, \"type\": \"carpet\"}], \"choropleth\": [{\"colorbar\": {\"outlinewidth\": 0, \"ticks\": \"\"}, \"type\": \"choropleth\"}], \"contour\": [{\"colorbar\": {\"outlinewidth\": 0, \"ticks\": \"\"}, \"colorscale\": [[0.0, \"#0d0887\"], [0.1111111111111111, \"#46039f\"], [0.2222222222222222, \"#7201a8\"], [0.3333333333333333, \"#9c179e\"], [0.4444444444444444, \"#bd3786\"], [0.5555555555555556, \"#d8576b\"], [0.6666666666666666, \"#ed7953\"], [0.7777777777777778, \"#fb9f3a\"], [0.8888888888888888, \"#fdca26\"], [1.0, \"#f0f921\"]], \"type\": \"contour\"}], \"contourcarpet\": [{\"colorbar\": {\"outlinewidth\": 0, \"ticks\": \"\"}, \"type\": \"contourcarpet\"}], \"heatmap\": [{\"colorbar\": {\"outlinewidth\": 0, \"ticks\": \"\"}, \"colorscale\": [[0.0, \"#0d0887\"], [0.1111111111111111, \"#46039f\"], [0.2222222222222222, \"#7201a8\"], [0.3333333333333333, \"#9c179e\"], [0.4444444444444444, \"#bd3786\"], [0.5555555555555556, \"#d8576b\"], [0.6666666666666666, \"#ed7953\"], [0.7777777777777778, \"#fb9f3a\"], [0.8888888888888888, \"#fdca26\"], [1.0, \"#f0f921\"]], \"type\": \"heatmap\"}], \"heatmapgl\": [{\"colorbar\": {\"outlinewidth\": 0, \"ticks\": \"\"}, \"colorscale\": [[0.0, \"#0d0887\"], [0.1111111111111111, \"#46039f\"], [0.2222222222222222, \"#7201a8\"], [0.3333333333333333, \"#9c179e\"], [0.4444444444444444, \"#bd3786\"], [0.5555555555555556, \"#d8576b\"], [0.6666666666666666, \"#ed7953\"], [0.7777777777777778, \"#fb9f3a\"], [0.8888888888888888, \"#fdca26\"], [1.0, \"#f0f921\"]], \"type\": \"heatmapgl\"}], \"histogram\": [{\"marker\": {\"colorbar\": {\"outlinewidth\": 0, \"ticks\": \"\"}}, \"type\": \"histogram\"}], \"histogram2d\": [{\"colorbar\": {\"outlinewidth\": 0, \"ticks\": \"\"}, \"colorscale\": [[0.0, \"#0d0887\"], [0.1111111111111111, \"#46039f\"], [0.2222222222222222, \"#7201a8\"], [0.3333333333333333, \"#9c179e\"], [0.4444444444444444, \"#bd3786\"], [0.5555555555555556, \"#d8576b\"], [0.6666666666666666, \"#ed7953\"], [0.7777777777777778, \"#fb9f3a\"], [0.8888888888888888, \"#fdca26\"], [1.0, \"#f0f921\"]], \"type\": \"histogram2d\"}], \"histogram2dcontour\": [{\"colorbar\": {\"outlinewidth\": 0, \"ticks\": \"\"}, \"colorscale\": [[0.0, \"#0d0887\"], [0.1111111111111111, \"#46039f\"], [0.2222222222222222, \"#7201a8\"], [0.3333333333333333, \"#9c179e\"], [0.4444444444444444, \"#bd3786\"], [0.5555555555555556, \"#d8576b\"], [0.6666666666666666, \"#ed7953\"], [0.7777777777777778, \"#fb9f3a\"], [0.8888888888888888, \"#fdca26\"], [1.0, \"#f0f921\"]], \"type\": \"histogram2dcontour\"}], \"mesh3d\": [{\"colorbar\": {\"outlinewidth\": 0, \"ticks\": \"\"}, \"type\": \"mesh3d\"}], \"parcoords\": [{\"line\": {\"colorbar\": {\"outlinewidth\": 0, \"ticks\": \"\"}}, \"type\": \"parcoords\"}], \"pie\": [{\"automargin\": true, \"type\": \"pie\"}], \"scatter\": [{\"marker\": {\"colorbar\": {\"outlinewidth\": 0, \"ticks\": \"\"}}, \"type\": \"scatter\"}], \"scatter3d\": [{\"line\": {\"colorbar\": {\"outlinewidth\": 0, \"ticks\": \"\"}}, \"marker\": {\"colorbar\": {\"outlinewidth\": 0, \"ticks\": \"\"}}, \"type\": \"scatter3d\"}], \"scattercarpet\": [{\"marker\": {\"colorbar\": {\"outlinewidth\": 0, \"ticks\": \"\"}}, \"type\": \"scattercarpet\"}], \"scattergeo\": [{\"marker\": {\"colorbar\": {\"outlinewidth\": 0, \"ticks\": \"\"}}, \"type\": \"scattergeo\"}], \"scattergl\": [{\"marker\": {\"colorbar\": {\"outlinewidth\": 0, \"ticks\": \"\"}}, \"type\": \"scattergl\"}], \"scattermapbox\": [{\"marker\": {\"colorbar\": {\"outlinewidth\": 0, \"ticks\": \"\"}}, \"type\": \"scattermapbox\"}], \"scatterpolar\": [{\"marker\": {\"colorbar\": {\"outlinewidth\": 0, \"ticks\": \"\"}}, \"type\": \"scatterpolar\"}], \"scatterpolargl\": [{\"marker\": {\"colorbar\": {\"outlinewidth\": 0, \"ticks\": \"\"}}, \"type\": \"scatterpolargl\"}], \"scatterternary\": [{\"marker\": {\"colorbar\": {\"outlinewidth\": 0, \"ticks\": \"\"}}, \"type\": \"scatterternary\"}], \"surface\": [{\"colorbar\": {\"outlinewidth\": 0, \"ticks\": \"\"}, \"colorscale\": [[0.0, \"#0d0887\"], [0.1111111111111111, \"#46039f\"], [0.2222222222222222, \"#7201a8\"], [0.3333333333333333, \"#9c179e\"], [0.4444444444444444, \"#bd3786\"], [0.5555555555555556, \"#d8576b\"], [0.6666666666666666, \"#ed7953\"], [0.7777777777777778, \"#fb9f3a\"], [0.8888888888888888, \"#fdca26\"], [1.0, \"#f0f921\"]], \"type\": \"surface\"}], \"table\": [{\"cells\": {\"fill\": {\"color\": \"#EBF0F8\"}, \"line\": {\"color\": \"white\"}}, \"header\": {\"fill\": {\"color\": \"#C8D4E3\"}, \"line\": {\"color\": \"white\"}}, \"type\": \"table\"}]}, \"layout\": {\"annotationdefaults\": {\"arrowcolor\": \"#2a3f5f\", \"arrowhead\": 0, \"arrowwidth\": 1}, \"coloraxis\": {\"colorbar\": {\"outlinewidth\": 0, \"ticks\": \"\"}}, \"colorscale\": {\"diverging\": [[0, \"#8e0152\"], [0.1, \"#c51b7d\"], [0.2, \"#de77ae\"], [0.3, \"#f1b6da\"], [0.4, \"#fde0ef\"], [0.5, \"#f7f7f7\"], [0.6, \"#e6f5d0\"], [0.7, \"#b8e186\"], [0.8, \"#7fbc41\"], [0.9, \"#4d9221\"], [1, \"#276419\"]], \"sequential\": [[0.0, \"#0d0887\"], [0.1111111111111111, \"#46039f\"], [0.2222222222222222, \"#7201a8\"], [0.3333333333333333, \"#9c179e\"], [0.4444444444444444, \"#bd3786\"], [0.5555555555555556, \"#d8576b\"], [0.6666666666666666, \"#ed7953\"], [0.7777777777777778, \"#fb9f3a\"], [0.8888888888888888, \"#fdca26\"], [1.0, \"#f0f921\"]], \"sequentialminus\": [[0.0, \"#0d0887\"], [0.1111111111111111, \"#46039f\"], [0.2222222222222222, \"#7201a8\"], [0.3333333333333333, \"#9c179e\"], [0.4444444444444444, \"#bd3786\"], [0.5555555555555556, \"#d8576b\"], [0.6666666666666666, \"#ed7953\"], [0.7777777777777778, \"#fb9f3a\"], [0.8888888888888888, \"#fdca26\"], [1.0, \"#f0f921\"]]}, \"colorway\": [\"#636efa\", \"#EF553B\", \"#00cc96\", \"#ab63fa\", \"#FFA15A\", \"#19d3f3\", \"#FF6692\", \"#B6E880\", \"#FF97FF\", \"#FECB52\"], \"font\": {\"color\": \"#2a3f5f\"}, \"geo\": {\"bgcolor\": \"white\", \"lakecolor\": \"white\", \"landcolor\": \"#E5ECF6\", \"showlakes\": true, \"showland\": true, \"subunitcolor\": \"white\"}, \"hoverlabel\": {\"align\": \"left\"}, \"hovermode\": \"closest\", \"mapbox\": {\"style\": \"light\"}, \"paper_bgcolor\": \"white\", \"plot_bgcolor\": \"#E5ECF6\", \"polar\": {\"angularaxis\": {\"gridcolor\": \"white\", \"linecolor\": \"white\", \"ticks\": \"\"}, \"bgcolor\": \"#E5ECF6\", \"radialaxis\": {\"gridcolor\": \"white\", \"linecolor\": \"white\", \"ticks\": \"\"}}, \"scene\": {\"xaxis\": {\"backgroundcolor\": \"#E5ECF6\", \"gridcolor\": \"white\", \"gridwidth\": 2, \"linecolor\": \"white\", \"showbackground\": true, \"ticks\": \"\", \"zerolinecolor\": \"white\"}, \"yaxis\": {\"backgroundcolor\": \"#E5ECF6\", \"gridcolor\": \"white\", \"gridwidth\": 2, \"linecolor\": \"white\", \"showbackground\": true, \"ticks\": \"\", \"zerolinecolor\": \"white\"}, \"zaxis\": {\"backgroundcolor\": \"#E5ECF6\", \"gridcolor\": \"white\", \"gridwidth\": 2, \"linecolor\": \"white\", \"showbackground\": true, \"ticks\": \"\", \"zerolinecolor\": \"white\"}}, \"shapedefaults\": {\"line\": {\"color\": \"#2a3f5f\"}}, \"ternary\": {\"aaxis\": {\"gridcolor\": \"white\", \"linecolor\": \"white\", \"ticks\": \"\"}, \"baxis\": {\"gridcolor\": \"white\", \"linecolor\": \"white\", \"ticks\": \"\"}, \"bgcolor\": \"#E5ECF6\", \"caxis\": {\"gridcolor\": \"white\", \"linecolor\": \"white\", \"ticks\": \"\"}}, \"title\": {\"x\": 0.05}, \"xaxis\": {\"automargin\": true, \"gridcolor\": \"white\", \"linecolor\": \"white\", \"ticks\": \"\", \"title\": {\"standoff\": 15}, \"zerolinecolor\": \"white\", \"zerolinewidth\": 2}, \"yaxis\": {\"automargin\": true, \"gridcolor\": \"white\", \"linecolor\": \"white\", \"ticks\": \"\", \"title\": {\"standoff\": 15}, \"zerolinecolor\": \"white\", \"zerolinewidth\": 2}}}, \"xaxis\": {\"anchor\": \"y\", \"domain\": [0.0, 1.0], \"title\": {\"text\": \"City_Seoul\"}}, \"yaxis\": {\"anchor\": \"x\", \"domain\": [0.0, 1.0], \"title\": {\"text\": \"Price\"}}},\n",
              "                        {\"responsive\": true}\n",
              "                    ).then(function(){\n",
              "                            \n",
              "var gd = document.getElementById('b56e4f9e-8b9b-4604-be77-eb0b9065a275');\n",
              "var x = new MutationObserver(function (mutations, observer) {{\n",
              "        var display = window.getComputedStyle(gd).display;\n",
              "        if (!display || display === 'none') {{\n",
              "            console.log([gd, 'removed!']);\n",
              "            Plotly.purge(gd);\n",
              "            observer.disconnect();\n",
              "        }}\n",
              "}});\n",
              "\n",
              "// Listen for the removal of the full notebook cells\n",
              "var notebookContainer = gd.closest('#notebook-container');\n",
              "if (notebookContainer) {{\n",
              "    x.observe(notebookContainer, {childList: true});\n",
              "}}\n",
              "\n",
              "// Listen for the clearing of the current output cell\n",
              "var outputEl = gd.closest('.output');\n",
              "if (outputEl) {{\n",
              "    x.observe(outputEl, {childList: true});\n",
              "}}\n",
              "\n",
              "                        })\n",
              "                };\n",
              "                \n",
              "            </script>\n",
              "        </div>\n",
              "</body>\n",
              "</html>"
            ]
          },
          "metadata": {
            "tags": []
          }
        }
      ]
    },
    {
      "cell_type": "code",
      "metadata": {
        "id": "NTIGc8OHfJy-",
        "outputId": "d16727a6-4e23-4324-c373-c8a07df66f93",
        "colab": {
          "base_uri": "https://localhost:8080/",
          "height": 542
        }
      },
      "source": [
        "import plotly.express as px\n",
        "px.scatter(\n",
        "    df_oh,\n",
        "    x='City_Busan',\n",
        "    y='Price',\n",
        "    trendline='ols'\n",
        ")"
      ],
      "execution_count": 15,
      "outputs": [
        {
          "output_type": "display_data",
          "data": {
            "text/html": [
              "<html>\n",
              "<head><meta charset=\"utf-8\" /></head>\n",
              "<body>\n",
              "    <div>\n",
              "            <script src=\"https://cdnjs.cloudflare.com/ajax/libs/mathjax/2.7.5/MathJax.js?config=TeX-AMS-MML_SVG\"></script><script type=\"text/javascript\">if (window.MathJax) {MathJax.Hub.Config({SVG: {font: \"STIX-Web\"}});}</script>\n",
              "                <script type=\"text/javascript\">window.PlotlyConfig = {MathJaxConfig: 'local'};</script>\n",
              "        <script src=\"https://cdn.plot.ly/plotly-latest.min.js\"></script>    \n",
              "            <div id=\"670070e4-9005-4f52-ac8a-18ebe70d2ca8\" class=\"plotly-graph-div\" style=\"height:525px; width:100%;\"></div>\n",
              "            <script type=\"text/javascript\">\n",
              "                \n",
              "                    window.PLOTLYENV=window.PLOTLYENV || {};\n",
              "                    \n",
              "                if (document.getElementById(\"670070e4-9005-4f52-ac8a-18ebe70d2ca8\")) {\n",
              "                    Plotly.newPlot(\n",
              "                        '670070e4-9005-4f52-ac8a-18ebe70d2ca8',\n",
              "                        [{\"hoverlabel\": {\"namelength\": 0}, \"hovertemplate\": \"City_Busan=%{x}<br>Price=%{y}\", \"legendgroup\": \"\", \"marker\": {\"color\": \"#636efa\", \"symbol\": \"circle\"}, \"mode\": \"markers\", \"name\": \"\", \"showlegend\": false, \"type\": \"scatter\", \"x\": [0, 0, 0, 1, 1, 1, 0, 0, 0, 1, 0], \"xaxis\": \"x\", \"y\": [55000, 61000, 44000, 35000, 53000, 45000, 32000, 51000, 50000, 40000, 30000], \"yaxis\": \"y\"}, {\"hoverlabel\": {\"namelength\": 0}, \"hovertemplate\": \"<b>OLS trendline</b><br>Price = -2892.857143 * City_Busan + 46142.857143<br>R<sup>2</sup>=0.021283<br><br>City_Busan=%{x}<br>Price=%{y} <b>(trend)</b>\", \"legendgroup\": \"\", \"marker\": {\"color\": \"#636efa\", \"symbol\": \"circle\"}, \"mode\": \"lines\", \"name\": \"\", \"showlegend\": false, \"type\": \"scatter\", \"x\": [0, 0, 0, 0, 0, 0, 0, 1, 1, 1, 1], \"xaxis\": \"x\", \"y\": [46142.85714285711, 46142.85714285711, 46142.85714285711, 46142.85714285711, 46142.85714285711, 46142.85714285711, 46142.85714285711, 43249.999999999956, 43249.999999999956, 43249.999999999956, 43249.999999999956], \"yaxis\": \"y\"}],\n",
              "                        {\"legend\": {\"tracegroupgap\": 0}, \"margin\": {\"t\": 60}, \"template\": {\"data\": {\"bar\": [{\"error_x\": {\"color\": \"#2a3f5f\"}, \"error_y\": {\"color\": \"#2a3f5f\"}, \"marker\": {\"line\": {\"color\": \"#E5ECF6\", \"width\": 0.5}}, \"type\": \"bar\"}], \"barpolar\": [{\"marker\": {\"line\": {\"color\": \"#E5ECF6\", \"width\": 0.5}}, \"type\": \"barpolar\"}], \"carpet\": [{\"aaxis\": {\"endlinecolor\": \"#2a3f5f\", \"gridcolor\": \"white\", \"linecolor\": \"white\", \"minorgridcolor\": \"white\", \"startlinecolor\": \"#2a3f5f\"}, \"baxis\": {\"endlinecolor\": \"#2a3f5f\", \"gridcolor\": \"white\", \"linecolor\": \"white\", \"minorgridcolor\": \"white\", \"startlinecolor\": \"#2a3f5f\"}, \"type\": \"carpet\"}], \"choropleth\": [{\"colorbar\": {\"outlinewidth\": 0, \"ticks\": \"\"}, \"type\": \"choropleth\"}], \"contour\": [{\"colorbar\": {\"outlinewidth\": 0, \"ticks\": \"\"}, \"colorscale\": [[0.0, \"#0d0887\"], [0.1111111111111111, \"#46039f\"], [0.2222222222222222, \"#7201a8\"], [0.3333333333333333, \"#9c179e\"], [0.4444444444444444, \"#bd3786\"], [0.5555555555555556, \"#d8576b\"], [0.6666666666666666, \"#ed7953\"], [0.7777777777777778, \"#fb9f3a\"], [0.8888888888888888, \"#fdca26\"], [1.0, \"#f0f921\"]], \"type\": \"contour\"}], \"contourcarpet\": [{\"colorbar\": {\"outlinewidth\": 0, \"ticks\": \"\"}, \"type\": \"contourcarpet\"}], \"heatmap\": [{\"colorbar\": {\"outlinewidth\": 0, \"ticks\": \"\"}, \"colorscale\": [[0.0, \"#0d0887\"], [0.1111111111111111, \"#46039f\"], [0.2222222222222222, \"#7201a8\"], [0.3333333333333333, \"#9c179e\"], [0.4444444444444444, \"#bd3786\"], [0.5555555555555556, \"#d8576b\"], [0.6666666666666666, \"#ed7953\"], [0.7777777777777778, \"#fb9f3a\"], [0.8888888888888888, \"#fdca26\"], [1.0, \"#f0f921\"]], \"type\": \"heatmap\"}], \"heatmapgl\": [{\"colorbar\": {\"outlinewidth\": 0, \"ticks\": \"\"}, \"colorscale\": [[0.0, \"#0d0887\"], [0.1111111111111111, \"#46039f\"], [0.2222222222222222, \"#7201a8\"], [0.3333333333333333, \"#9c179e\"], [0.4444444444444444, \"#bd3786\"], [0.5555555555555556, \"#d8576b\"], [0.6666666666666666, \"#ed7953\"], [0.7777777777777778, \"#fb9f3a\"], [0.8888888888888888, \"#fdca26\"], [1.0, \"#f0f921\"]], \"type\": \"heatmapgl\"}], \"histogram\": [{\"marker\": {\"colorbar\": {\"outlinewidth\": 0, \"ticks\": \"\"}}, \"type\": \"histogram\"}], \"histogram2d\": [{\"colorbar\": {\"outlinewidth\": 0, \"ticks\": \"\"}, \"colorscale\": [[0.0, \"#0d0887\"], [0.1111111111111111, \"#46039f\"], [0.2222222222222222, \"#7201a8\"], [0.3333333333333333, \"#9c179e\"], [0.4444444444444444, \"#bd3786\"], [0.5555555555555556, \"#d8576b\"], [0.6666666666666666, \"#ed7953\"], [0.7777777777777778, \"#fb9f3a\"], [0.8888888888888888, \"#fdca26\"], [1.0, \"#f0f921\"]], \"type\": \"histogram2d\"}], \"histogram2dcontour\": [{\"colorbar\": {\"outlinewidth\": 0, \"ticks\": \"\"}, \"colorscale\": [[0.0, \"#0d0887\"], [0.1111111111111111, \"#46039f\"], [0.2222222222222222, \"#7201a8\"], [0.3333333333333333, \"#9c179e\"], [0.4444444444444444, \"#bd3786\"], [0.5555555555555556, \"#d8576b\"], [0.6666666666666666, \"#ed7953\"], [0.7777777777777778, \"#fb9f3a\"], [0.8888888888888888, \"#fdca26\"], [1.0, \"#f0f921\"]], \"type\": \"histogram2dcontour\"}], \"mesh3d\": [{\"colorbar\": {\"outlinewidth\": 0, \"ticks\": \"\"}, \"type\": \"mesh3d\"}], \"parcoords\": [{\"line\": {\"colorbar\": {\"outlinewidth\": 0, \"ticks\": \"\"}}, \"type\": \"parcoords\"}], \"pie\": [{\"automargin\": true, \"type\": \"pie\"}], \"scatter\": [{\"marker\": {\"colorbar\": {\"outlinewidth\": 0, \"ticks\": \"\"}}, \"type\": \"scatter\"}], \"scatter3d\": [{\"line\": {\"colorbar\": {\"outlinewidth\": 0, \"ticks\": \"\"}}, \"marker\": {\"colorbar\": {\"outlinewidth\": 0, \"ticks\": \"\"}}, \"type\": \"scatter3d\"}], \"scattercarpet\": [{\"marker\": {\"colorbar\": {\"outlinewidth\": 0, \"ticks\": \"\"}}, \"type\": \"scattercarpet\"}], \"scattergeo\": [{\"marker\": {\"colorbar\": {\"outlinewidth\": 0, \"ticks\": \"\"}}, \"type\": \"scattergeo\"}], \"scattergl\": [{\"marker\": {\"colorbar\": {\"outlinewidth\": 0, \"ticks\": \"\"}}, \"type\": \"scattergl\"}], \"scattermapbox\": [{\"marker\": {\"colorbar\": {\"outlinewidth\": 0, \"ticks\": \"\"}}, \"type\": \"scattermapbox\"}], \"scatterpolar\": [{\"marker\": {\"colorbar\": {\"outlinewidth\": 0, \"ticks\": \"\"}}, \"type\": \"scatterpolar\"}], \"scatterpolargl\": [{\"marker\": {\"colorbar\": {\"outlinewidth\": 0, \"ticks\": \"\"}}, \"type\": \"scatterpolargl\"}], \"scatterternary\": [{\"marker\": {\"colorbar\": {\"outlinewidth\": 0, \"ticks\": \"\"}}, \"type\": \"scatterternary\"}], \"surface\": [{\"colorbar\": {\"outlinewidth\": 0, \"ticks\": \"\"}, \"colorscale\": [[0.0, \"#0d0887\"], [0.1111111111111111, \"#46039f\"], [0.2222222222222222, \"#7201a8\"], [0.3333333333333333, \"#9c179e\"], [0.4444444444444444, \"#bd3786\"], [0.5555555555555556, \"#d8576b\"], [0.6666666666666666, \"#ed7953\"], [0.7777777777777778, \"#fb9f3a\"], [0.8888888888888888, \"#fdca26\"], [1.0, \"#f0f921\"]], \"type\": \"surface\"}], \"table\": [{\"cells\": {\"fill\": {\"color\": \"#EBF0F8\"}, \"line\": {\"color\": \"white\"}}, \"header\": {\"fill\": {\"color\": \"#C8D4E3\"}, \"line\": {\"color\": \"white\"}}, \"type\": \"table\"}]}, \"layout\": {\"annotationdefaults\": {\"arrowcolor\": \"#2a3f5f\", \"arrowhead\": 0, \"arrowwidth\": 1}, \"coloraxis\": {\"colorbar\": {\"outlinewidth\": 0, \"ticks\": \"\"}}, \"colorscale\": {\"diverging\": [[0, \"#8e0152\"], [0.1, \"#c51b7d\"], [0.2, \"#de77ae\"], [0.3, \"#f1b6da\"], [0.4, \"#fde0ef\"], [0.5, \"#f7f7f7\"], [0.6, \"#e6f5d0\"], [0.7, \"#b8e186\"], [0.8, \"#7fbc41\"], [0.9, \"#4d9221\"], [1, \"#276419\"]], \"sequential\": [[0.0, \"#0d0887\"], [0.1111111111111111, \"#46039f\"], [0.2222222222222222, \"#7201a8\"], [0.3333333333333333, \"#9c179e\"], [0.4444444444444444, \"#bd3786\"], [0.5555555555555556, \"#d8576b\"], [0.6666666666666666, \"#ed7953\"], [0.7777777777777778, \"#fb9f3a\"], [0.8888888888888888, \"#fdca26\"], [1.0, \"#f0f921\"]], \"sequentialminus\": [[0.0, \"#0d0887\"], [0.1111111111111111, \"#46039f\"], [0.2222222222222222, \"#7201a8\"], [0.3333333333333333, \"#9c179e\"], [0.4444444444444444, \"#bd3786\"], [0.5555555555555556, \"#d8576b\"], [0.6666666666666666, \"#ed7953\"], [0.7777777777777778, \"#fb9f3a\"], [0.8888888888888888, \"#fdca26\"], [1.0, \"#f0f921\"]]}, \"colorway\": [\"#636efa\", \"#EF553B\", \"#00cc96\", \"#ab63fa\", \"#FFA15A\", \"#19d3f3\", \"#FF6692\", \"#B6E880\", \"#FF97FF\", \"#FECB52\"], \"font\": {\"color\": \"#2a3f5f\"}, \"geo\": {\"bgcolor\": \"white\", \"lakecolor\": \"white\", \"landcolor\": \"#E5ECF6\", \"showlakes\": true, \"showland\": true, \"subunitcolor\": \"white\"}, \"hoverlabel\": {\"align\": \"left\"}, \"hovermode\": \"closest\", \"mapbox\": {\"style\": \"light\"}, \"paper_bgcolor\": \"white\", \"plot_bgcolor\": \"#E5ECF6\", \"polar\": {\"angularaxis\": {\"gridcolor\": \"white\", \"linecolor\": \"white\", \"ticks\": \"\"}, \"bgcolor\": \"#E5ECF6\", \"radialaxis\": {\"gridcolor\": \"white\", \"linecolor\": \"white\", \"ticks\": \"\"}}, \"scene\": {\"xaxis\": {\"backgroundcolor\": \"#E5ECF6\", \"gridcolor\": \"white\", \"gridwidth\": 2, \"linecolor\": \"white\", \"showbackground\": true, \"ticks\": \"\", \"zerolinecolor\": \"white\"}, \"yaxis\": {\"backgroundcolor\": \"#E5ECF6\", \"gridcolor\": \"white\", \"gridwidth\": 2, \"linecolor\": \"white\", \"showbackground\": true, \"ticks\": \"\", \"zerolinecolor\": \"white\"}, \"zaxis\": {\"backgroundcolor\": \"#E5ECF6\", \"gridcolor\": \"white\", \"gridwidth\": 2, \"linecolor\": \"white\", \"showbackground\": true, \"ticks\": \"\", \"zerolinecolor\": \"white\"}}, \"shapedefaults\": {\"line\": {\"color\": \"#2a3f5f\"}}, \"ternary\": {\"aaxis\": {\"gridcolor\": \"white\", \"linecolor\": \"white\", \"ticks\": \"\"}, \"baxis\": {\"gridcolor\": \"white\", \"linecolor\": \"white\", \"ticks\": \"\"}, \"bgcolor\": \"#E5ECF6\", \"caxis\": {\"gridcolor\": \"white\", \"linecolor\": \"white\", \"ticks\": \"\"}}, \"title\": {\"x\": 0.05}, \"xaxis\": {\"automargin\": true, \"gridcolor\": \"white\", \"linecolor\": \"white\", \"ticks\": \"\", \"title\": {\"standoff\": 15}, \"zerolinecolor\": \"white\", \"zerolinewidth\": 2}, \"yaxis\": {\"automargin\": true, \"gridcolor\": \"white\", \"linecolor\": \"white\", \"ticks\": \"\", \"title\": {\"standoff\": 15}, \"zerolinecolor\": \"white\", \"zerolinewidth\": 2}}}, \"xaxis\": {\"anchor\": \"y\", \"domain\": [0.0, 1.0], \"title\": {\"text\": \"City_Busan\"}}, \"yaxis\": {\"anchor\": \"x\", \"domain\": [0.0, 1.0], \"title\": {\"text\": \"Price\"}}},\n",
              "                        {\"responsive\": true}\n",
              "                    ).then(function(){\n",
              "                            \n",
              "var gd = document.getElementById('670070e4-9005-4f52-ac8a-18ebe70d2ca8');\n",
              "var x = new MutationObserver(function (mutations, observer) {{\n",
              "        var display = window.getComputedStyle(gd).display;\n",
              "        if (!display || display === 'none') {{\n",
              "            console.log([gd, 'removed!']);\n",
              "            Plotly.purge(gd);\n",
              "            observer.disconnect();\n",
              "        }}\n",
              "}});\n",
              "\n",
              "// Listen for the removal of the full notebook cells\n",
              "var notebookContainer = gd.closest('#notebook-container');\n",
              "if (notebookContainer) {{\n",
              "    x.observe(notebookContainer, {childList: true});\n",
              "}}\n",
              "\n",
              "// Listen for the clearing of the current output cell\n",
              "var outputEl = gd.closest('.output');\n",
              "if (outputEl) {{\n",
              "    x.observe(outputEl, {childList: true});\n",
              "}}\n",
              "\n",
              "                        })\n",
              "                };\n",
              "                \n",
              "            </script>\n",
              "        </div>\n",
              "</body>\n",
              "</html>"
            ]
          },
          "metadata": {
            "tags": []
          }
        }
      ]
    },
    {
      "cell_type": "markdown",
      "metadata": {
        "id": "20hDdZObfJy_"
      },
      "source": [
        "#### Category_encoders\n",
        "category_encoders 라이브러리를 사용하면 범주형 데이터에만('City') 원핫인코딩을 수행할 수 있습니다.\n",
        "- [OneHotEncoder](https://contrib.scikit-learn.org/category_encoders/onehot.html)\n",
        "- [category_encoders](https://github.com/scikit-learn-contrib/categorical-encoding)\n",
        "    - A set of scikit-learn-style transformers for encoding categorical variables into numeric by means of different techniques."
      ]
    },
    {
      "cell_type": "code",
      "metadata": {
        "scrolled": true,
        "id": "nYEmsrFdfJy_"
      },
      "source": [
        "features = ['City','Room']\n",
        "target = 'Price'\n",
        "\n",
        "# 이번에는 훈련/테스트 데이터를 분리해 만들어 보겠습니다.\n",
        "X_train = df[features][:8]\n",
        "y_train = df[target][:8]\n",
        "X_test = df[features][8:]\n",
        "y_test = df[target][8:]"
      ],
      "execution_count": 16,
      "outputs": []
    },
    {
      "cell_type": "code",
      "metadata": {
        "id": "Q8eI74A3fRPi",
        "outputId": "3223d843-d450-4989-b413-df56016c0a71",
        "colab": {
          "base_uri": "https://localhost:8080/"
        }
      },
      "source": [
        "pip install category_encoders"
      ],
      "execution_count": 17,
      "outputs": [
        {
          "output_type": "stream",
          "text": [
            "Requirement already satisfied: category_encoders in /usr/local/lib/python3.7/dist-packages (2.2.2)\n",
            "Requirement already satisfied: pandas>=0.21.1 in /usr/local/lib/python3.7/dist-packages (from category_encoders) (1.1.5)\n",
            "Requirement already satisfied: patsy>=0.5.1 in /usr/local/lib/python3.7/dist-packages (from category_encoders) (0.5.1)\n",
            "Requirement already satisfied: numpy>=1.14.0 in /usr/local/lib/python3.7/dist-packages (from category_encoders) (1.19.5)\n",
            "Requirement already satisfied: statsmodels>=0.9.0 in /usr/local/lib/python3.7/dist-packages (from category_encoders) (0.10.2)\n",
            "Requirement already satisfied: scikit-learn>=0.20.0 in /usr/local/lib/python3.7/dist-packages (from category_encoders) (0.24.2)\n",
            "Requirement already satisfied: scipy>=1.0.0 in /usr/local/lib/python3.7/dist-packages (from category_encoders) (1.4.1)\n",
            "Requirement already satisfied: pytz>=2017.2 in /usr/local/lib/python3.7/dist-packages (from pandas>=0.21.1->category_encoders) (2018.9)\n",
            "Requirement already satisfied: python-dateutil>=2.7.3 in /usr/local/lib/python3.7/dist-packages (from pandas>=0.21.1->category_encoders) (2.8.1)\n",
            "Requirement already satisfied: six in /usr/local/lib/python3.7/dist-packages (from patsy>=0.5.1->category_encoders) (1.15.0)\n",
            "Requirement already satisfied: threadpoolctl>=2.0.0 in /usr/local/lib/python3.7/dist-packages (from scikit-learn>=0.20.0->category_encoders) (2.1.0)\n",
            "Requirement already satisfied: joblib>=0.11 in /usr/local/lib/python3.7/dist-packages (from scikit-learn>=0.20.0->category_encoders) (1.0.1)\n"
          ],
          "name": "stdout"
        }
      ]
    },
    {
      "cell_type": "markdown",
      "metadata": {
        "id": "G3Gnzc9ofJy_"
      },
      "source": [
        "카테고리값을 원핫인코딩을 사용하여 숫자로 변환합니다"
      ]
    },
    {
      "cell_type": "code",
      "metadata": {
        "scrolled": true,
        "id": "rMnVrE2SfJy_",
        "outputId": "c2675293-b329-48fd-abab-361921b9e842",
        "colab": {
          "base_uri": "https://localhost:8080/"
        }
      },
      "source": [
        "## import OneHotEncoder\n",
        "from category_encoders import OneHotEncoder\n",
        "\n",
        "## 원핫 인코딩\n",
        "encoder = OneHotEncoder(use_cat_names = True)\n",
        "X_train = encoder.fit_transform(X_train)\n",
        "X_test = encoder.transform(X_test)\n"
      ],
      "execution_count": 18,
      "outputs": [
        {
          "output_type": "stream",
          "text": [
            "/usr/local/lib/python3.7/dist-packages/category_encoders/utils.py:21: FutureWarning:\n",
            "\n",
            "is_categorical is deprecated and will be removed in a future version.  Use is_categorical_dtype instead\n",
            "\n"
          ],
          "name": "stderr"
        }
      ]
    },
    {
      "cell_type": "markdown",
      "metadata": {
        "id": "l2mVmRaDfJzA"
      },
      "source": [
        "category_encoders를 사용하면 범주형변수를 가진 특성만 원핫인코딩을 수행합니다."
      ]
    },
    {
      "cell_type": "code",
      "metadata": {
        "scrolled": true,
        "id": "oil9SQgHfJzA",
        "outputId": "9d527eb6-e990-4184-91f0-b8259fecb23e",
        "colab": {
          "base_uri": "https://localhost:8080/",
          "height": 203
        }
      },
      "source": [
        "## show X_train\n",
        "X_train.head()"
      ],
      "execution_count": 19,
      "outputs": [
        {
          "output_type": "execute_result",
          "data": {
            "text/html": [
              "<div>\n",
              "<style scoped>\n",
              "    .dataframe tbody tr th:only-of-type {\n",
              "        vertical-align: middle;\n",
              "    }\n",
              "\n",
              "    .dataframe tbody tr th {\n",
              "        vertical-align: top;\n",
              "    }\n",
              "\n",
              "    .dataframe thead th {\n",
              "        text-align: right;\n",
              "    }\n",
              "</style>\n",
              "<table border=\"1\" class=\"dataframe\">\n",
              "  <thead>\n",
              "    <tr style=\"text-align: right;\">\n",
              "      <th></th>\n",
              "      <th>City_Seoul</th>\n",
              "      <th>City_Busan</th>\n",
              "      <th>City_Incheon</th>\n",
              "      <th>Room</th>\n",
              "    </tr>\n",
              "  </thead>\n",
              "  <tbody>\n",
              "    <tr>\n",
              "      <th>0</th>\n",
              "      <td>1</td>\n",
              "      <td>0</td>\n",
              "      <td>0</td>\n",
              "      <td>3</td>\n",
              "    </tr>\n",
              "    <tr>\n",
              "      <th>1</th>\n",
              "      <td>1</td>\n",
              "      <td>0</td>\n",
              "      <td>0</td>\n",
              "      <td>4</td>\n",
              "    </tr>\n",
              "    <tr>\n",
              "      <th>2</th>\n",
              "      <td>1</td>\n",
              "      <td>0</td>\n",
              "      <td>0</td>\n",
              "      <td>3</td>\n",
              "    </tr>\n",
              "    <tr>\n",
              "      <th>3</th>\n",
              "      <td>0</td>\n",
              "      <td>1</td>\n",
              "      <td>0</td>\n",
              "      <td>2</td>\n",
              "    </tr>\n",
              "    <tr>\n",
              "      <th>4</th>\n",
              "      <td>0</td>\n",
              "      <td>1</td>\n",
              "      <td>0</td>\n",
              "      <td>3</td>\n",
              "    </tr>\n",
              "  </tbody>\n",
              "</table>\n",
              "</div>"
            ],
            "text/plain": [
              "   City_Seoul  City_Busan  City_Incheon  Room\n",
              "0           1           0             0     3\n",
              "1           1           0             0     4\n",
              "2           1           0             0     3\n",
              "3           0           1             0     2\n",
              "4           0           1             0     3"
            ]
          },
          "metadata": {
            "tags": []
          },
          "execution_count": 19
        }
      ]
    },
    {
      "cell_type": "code",
      "metadata": {
        "id": "CwRGWaEHfJzB",
        "outputId": "3abcf56e-9127-4140-fa3d-69f086c5047e",
        "colab": {
          "base_uri": "https://localhost:8080/",
          "height": 142
        }
      },
      "source": [
        "## show X_test\n",
        "X_test"
      ],
      "execution_count": 20,
      "outputs": [
        {
          "output_type": "execute_result",
          "data": {
            "text/html": [
              "<div>\n",
              "<style scoped>\n",
              "    .dataframe tbody tr th:only-of-type {\n",
              "        vertical-align: middle;\n",
              "    }\n",
              "\n",
              "    .dataframe tbody tr th {\n",
              "        vertical-align: top;\n",
              "    }\n",
              "\n",
              "    .dataframe thead th {\n",
              "        text-align: right;\n",
              "    }\n",
              "</style>\n",
              "<table border=\"1\" class=\"dataframe\">\n",
              "  <thead>\n",
              "    <tr style=\"text-align: right;\">\n",
              "      <th></th>\n",
              "      <th>City_Seoul</th>\n",
              "      <th>City_Busan</th>\n",
              "      <th>City_Incheon</th>\n",
              "      <th>Room</th>\n",
              "    </tr>\n",
              "  </thead>\n",
              "  <tbody>\n",
              "    <tr>\n",
              "      <th>8</th>\n",
              "      <td>1</td>\n",
              "      <td>0</td>\n",
              "      <td>0</td>\n",
              "      <td>3</td>\n",
              "    </tr>\n",
              "    <tr>\n",
              "      <th>9</th>\n",
              "      <td>0</td>\n",
              "      <td>1</td>\n",
              "      <td>0</td>\n",
              "      <td>3</td>\n",
              "    </tr>\n",
              "    <tr>\n",
              "      <th>10</th>\n",
              "      <td>0</td>\n",
              "      <td>0</td>\n",
              "      <td>1</td>\n",
              "      <td>2</td>\n",
              "    </tr>\n",
              "  </tbody>\n",
              "</table>\n",
              "</div>"
            ],
            "text/plain": [
              "    City_Seoul  City_Busan  City_Incheon  Room\n",
              "8            1           0             0     3\n",
              "9            0           1             0     3\n",
              "10           0           0             1     2"
            ]
          },
          "metadata": {
            "tags": []
          },
          "execution_count": 20
        }
      ]
    },
    {
      "cell_type": "markdown",
      "metadata": {
        "id": "AMIrJyQGfJzB"
      },
      "source": [
        "#### 킹카운티 주택 가격 데이터를 사용해서 특성 선택(feature selection)에 관해 배워보겠습니다."
      ]
    },
    {
      "cell_type": "code",
      "metadata": {
        "id": "gZhCLh-5fJzB"
      },
      "source": [
        "# import house data\n",
        "df = pd.read_csv('https://ds-lecture-data.s3.ap-northeast-2.amazonaws.com/kc_house_data/kc_house_data.csv')"
      ],
      "execution_count": 21,
      "outputs": []
    },
    {
      "cell_type": "code",
      "metadata": {
        "id": "hHkinIZGfJzC",
        "outputId": "ab2d055f-067b-482e-f6eb-94a6514b0577",
        "colab": {
          "base_uri": "https://localhost:8080/"
        }
      },
      "source": [
        "## show columns\n",
        "df.columns"
      ],
      "execution_count": 22,
      "outputs": [
        {
          "output_type": "execute_result",
          "data": {
            "text/plain": [
              "Index(['id', 'date', 'price', 'bedrooms', 'bathrooms', 'sqft_living',\n",
              "       'sqft_lot', 'floors', 'waterfront', 'view', 'condition', 'grade',\n",
              "       'sqft_above', 'sqft_basement', 'yr_built', 'yr_renovated', 'zipcode',\n",
              "       'lat', 'long', 'sqft_living15', 'sqft_lot15'],\n",
              "      dtype='object')"
            ]
          },
          "metadata": {
            "tags": []
          },
          "execution_count": 22
        }
      ]
    },
    {
      "cell_type": "code",
      "metadata": {
        "id": "4C0mA5XxfJzC",
        "outputId": "941a3dea-4d59-4d2c-8aa3-aefd331b8ca5",
        "colab": {
          "base_uri": "https://localhost:8080/"
        }
      },
      "source": [
        "## show info\n",
        "df.info()"
      ],
      "execution_count": 23,
      "outputs": [
        {
          "output_type": "stream",
          "text": [
            "<class 'pandas.core.frame.DataFrame'>\n",
            "RangeIndex: 21613 entries, 0 to 21612\n",
            "Data columns (total 21 columns):\n",
            " #   Column         Non-Null Count  Dtype  \n",
            "---  ------         --------------  -----  \n",
            " 0   id             21613 non-null  int64  \n",
            " 1   date           21613 non-null  object \n",
            " 2   price          21613 non-null  float64\n",
            " 3   bedrooms       21613 non-null  int64  \n",
            " 4   bathrooms      21613 non-null  float64\n",
            " 5   sqft_living    21613 non-null  int64  \n",
            " 6   sqft_lot       21613 non-null  int64  \n",
            " 7   floors         21613 non-null  float64\n",
            " 8   waterfront     21613 non-null  int64  \n",
            " 9   view           21613 non-null  int64  \n",
            " 10  condition      21613 non-null  int64  \n",
            " 11  grade          21613 non-null  int64  \n",
            " 12  sqft_above     21613 non-null  int64  \n",
            " 13  sqft_basement  21613 non-null  int64  \n",
            " 14  yr_built       21613 non-null  int64  \n",
            " 15  yr_renovated   21613 non-null  int64  \n",
            " 16  zipcode        21613 non-null  int64  \n",
            " 17  lat            21613 non-null  float64\n",
            " 18  long           21613 non-null  float64\n",
            " 19  sqft_living15  21613 non-null  int64  \n",
            " 20  sqft_lot15     21613 non-null  int64  \n",
            "dtypes: float64(5), int64(15), object(1)\n",
            "memory usage: 3.5+ MB\n"
          ],
          "name": "stdout"
        }
      ]
    },
    {
      "cell_type": "code",
      "metadata": {
        "id": "i_cUpL9QfJzC",
        "outputId": "a2091e49-ddcf-4075-80b3-92a4e0628711",
        "colab": {
          "base_uri": "https://localhost:8080/"
        }
      },
      "source": [
        "## date 특성\n",
        "df['date']"
      ],
      "execution_count": 24,
      "outputs": [
        {
          "output_type": "execute_result",
          "data": {
            "text/plain": [
              "0        20141013T000000\n",
              "1        20141209T000000\n",
              "2        20150225T000000\n",
              "3        20141209T000000\n",
              "4        20150218T000000\n",
              "              ...       \n",
              "21608    20140521T000000\n",
              "21609    20150223T000000\n",
              "21610    20140623T000000\n",
              "21611    20150116T000000\n",
              "21612    20141015T000000\n",
              "Name: date, Length: 21613, dtype: object"
            ]
          },
          "metadata": {
            "tags": []
          },
          "execution_count": 24
        }
      ]
    },
    {
      "cell_type": "code",
      "metadata": {
        "id": "SZ6VaVx9fJzD"
      },
      "source": [
        "## to_datetime을 통해 시간과 날짜를 다루기 쉬운 datetime64 형태로 변환합니다.\n",
        "df['date'] = pd.to_datetime(df['date'])"
      ],
      "execution_count": 25,
      "outputs": []
    },
    {
      "cell_type": "code",
      "metadata": {
        "id": "ou2G1H6AfJzD",
        "outputId": "ea7ca2d5-e1be-47d9-9db7-e67df68a048b",
        "colab": {
          "base_uri": "https://localhost:8080/"
        }
      },
      "source": [
        "## 변환된 date를 정렬해서 보겠습니다. 저장되지는 않습니다.\n",
        "df['date'].sort_values()"
      ],
      "execution_count": 26,
      "outputs": [
        {
          "output_type": "execute_result",
          "data": {
            "text/plain": [
              "16768   2014-05-02\n",
              "9596    2014-05-02\n",
              "9587    2014-05-02\n",
              "20602   2014-05-02\n",
              "11577   2014-05-02\n",
              "           ...    \n",
              "7898    2015-05-14\n",
              "928     2015-05-14\n",
              "5637    2015-05-15\n",
              "13053   2015-05-24\n",
              "16594   2015-05-27\n",
              "Name: date, Length: 21613, dtype: datetime64[ns]"
            ]
          },
          "metadata": {
            "tags": []
          },
          "execution_count": 26
        }
      ]
    },
    {
      "cell_type": "code",
      "metadata": {
        "id": "v76F-v4IfJzD",
        "outputId": "b2362739-c132-44c5-e7ec-873401ca0891",
        "colab": {
          "base_uri": "https://localhost:8080/",
          "height": 369
        }
      },
      "source": [
        "## displot, 'price'\n",
        "sns.displot(df['price']);"
      ],
      "execution_count": 27,
      "outputs": [
        {
          "output_type": "display_data",
          "data": {
            "image/png": "[encoded data removed]",
            "text/plain": [
              "<Figure size 360x360 with 1 Axes>"
            ]
          },
          "metadata": {
            "tags": [],
            "needs_background": "light"
          }
        }
      ]
    },
    {
      "cell_type": "markdown",
      "metadata": {
        "id": "7aIs01vIfJzE"
      },
      "source": [
        "price 값이 상위 5%, 하위 5%인 데이터를 삭제해 봅시다"
      ]
    },
    {
      "cell_type": "code",
      "metadata": {
        "scrolled": true,
        "id": "d-uAeK3vfJzE"
      },
      "source": [
        "# np.percentile 사용해 이상치 제거\n",
        "df = df[(df['price'] >= np.percentile(df['price'], 0.05)) & \n",
        "        (df['price'] <= np.percentile(df['price'], 99.5))] "
      ],
      "execution_count": 28,
      "outputs": []
    },
    {
      "cell_type": "code",
      "metadata": {
        "id": "ODlbqRWefJzE",
        "outputId": "38af85fe-6191-4672-deb6-5545aaab51bc",
        "colab": {
          "base_uri": "https://localhost:8080/",
          "height": 369
        }
      },
      "source": [
        "# displot, 'price'\n",
        "sns.displot(df['price']);"
      ],
      "execution_count": 29,
      "outputs": [
        {
          "output_type": "display_data",
          "data": {
            "image/png": "[encoded data removed]",
            "text/plain": [
              "<Figure size 360x360 with 1 Axes>"
            ]
          },
          "metadata": {
            "tags": [],
            "needs_background": "light"
          }
        }
      ]
    },
    {
      "cell_type": "code",
      "metadata": {
        "id": "5S5T0S-mfJzF"
      },
      "source": [
        "## 2015-03-01을 기준으로 훈련/테스트 세트를 분리합니다.\n",
        "cutOff = pd.to_datetime('2015-03-01')\n",
        "train = df[df['date'] < cutOff]\n",
        "test  = df[df['date'] >= cutOff]"
      ],
      "execution_count": 30,
      "outputs": []
    },
    {
      "cell_type": "code",
      "metadata": {
        "id": "GX5KD9uNfJzF",
        "outputId": "bbd8f2f8-b7f3-4e03-98c4-e3117f9d57f1",
        "colab": {
          "base_uri": "https://localhost:8080/"
        }
      },
      "source": [
        "## train/test shape\n",
        "train.shape, test.shape"
      ],
      "execution_count": 31,
      "outputs": [
        {
          "output_type": "execute_result",
          "data": {
            "text/plain": [
              "((16772, 21), (4721, 21))"
            ]
          },
          "metadata": {
            "tags": []
          },
          "execution_count": 31
        }
      ]
    },
    {
      "cell_type": "markdown",
      "metadata": {
        "id": "-4H5Q-IUfJzF"
      },
      "source": [
        "## 특성 선택(Feature selection)"
      ]
    },
    {
      "cell_type": "markdown",
      "metadata": {
        "id": "g91EY6ggfJzF"
      },
      "source": [
        "특성공학(feature engineering)이 무엇일까요?\n",
        "- [Wiki, Feature Engineering](https://en.wikipedia.org/wiki/Feature_engineering)\n",
        "\n",
        "**특성공학**은 과제에 적합한 특성을 만들어 내는 과정입니다. 이 프로세스는 실무 현장에서 가장 많은 시간이 소요되는 작업 중 하나입니다.\n",
        "\n",
        "이제 사이킷런의 SelectKBest를 사용해서 회귀모델에 중요한 특성을 선택해 보겠습니다.\n",
        "- [SelectKBest](https://scikit-learn.org/stable/modules/feature_selection.html#univariate-feature-selection)"
      ]
    },
    {
      "cell_type": "code",
      "metadata": {
        "id": "kCKWSHHEfJzG",
        "outputId": "1d55909f-37ea-4de8-d347-7a6b1f95bad2",
        "colab": {
          "base_uri": "https://localhost:8080/"
        }
      },
      "source": [
        "df.columns"
      ],
      "execution_count": 32,
      "outputs": [
        {
          "output_type": "execute_result",
          "data": {
            "text/plain": [
              "Index(['id', 'date', 'price', 'bedrooms', 'bathrooms', 'sqft_living',\n",
              "       'sqft_lot', 'floors', 'waterfront', 'view', 'condition', 'grade',\n",
              "       'sqft_above', 'sqft_basement', 'yr_built', 'yr_renovated', 'zipcode',\n",
              "       'lat', 'long', 'sqft_living15', 'sqft_lot15'],\n",
              "      dtype='object')"
            ]
          },
          "metadata": {
            "tags": []
          },
          "execution_count": 32
        }
      ]
    },
    {
      "cell_type": "markdown",
      "metadata": {
        "id": "0leMn4ctfJzG"
      },
      "source": [
        "**Feature description**\n",
        "- id - Unique ID for each home sold\n",
        "- date - Date of the home sale\n",
        "- price - Price of each home sold\n",
        "- bedrooms - Number of bedrooms\n",
        "- bathrooms - Number of bathrooms, where .5 accounts for a room with a toilet but no shower\n",
        "- sqft_living - Square footage of the apartments interior living space\n",
        "- sqft_lot - Square footage of the land space\n",
        "- floors - Number of floors\n",
        "- waterfront - A dummy variable for whether the apartment was overlooking the waterfront or not\n",
        "- view - An index from 0 to 4 of how good the view of the property was\n",
        "- condition - An index from 1 to 5 on the condition of the apartment,\n",
        "- grade - An index from 1 to 13, where 1-3 falls short of building construction and design, 7 has an average level of construction and design, and 11-13 have a high quality level of construction and design.\n",
        "- sqft_above - The square footage of the interior housing space that is above ground level\n",
        "- sqft_basement - The square footage of the interior housing space that is below ground level\n",
        "- yr_built - The year the house was initially built\n",
        "- yr_renovated - The year of the house’s last renovation\n",
        "- zipcode - What zipcode area the house is in\n",
        "- lat - Lattitude\n",
        "- long - Longitude\n",
        "- sqft_living15 - The square footage of interior housing living space for the nearest 15 neighbors\n",
        "- sqft_lot15 - The square footage of the land lots of the nearest 15 neighbors"
      ]
    },
    {
      "cell_type": "markdown",
      "metadata": {
        "id": "mY5EGr_LfJzG"
      },
      "source": [
        "#### 특성 선택에 앞서 몇가지 새로운 특성들를 생성하고 지워 봅시다."
      ]
    },
    {
      "cell_type": "code",
      "metadata": {
        "scrolled": true,
        "id": "g1YvCkHtfJzH"
      },
      "source": [
        "def engineer_features(X):\n",
        "\n",
        "    # pandas.DataFrame.copy()\n",
        "    X = X.copy()\n",
        "    \n",
        "    ## 욕실 갯수을 정수형으로 처리합니다.\n",
        "    X['bathrooms'] = X['bathrooms'].round(0).astype(int)\n",
        "\n",
        "    ## 총 방 수를 합하여 rooms로 합쳐 봅시다.\n",
        "    X['rooms'] = X['bedrooms'] + X['bathrooms']\n",
        "\n",
        "\n",
        "    ## 사용하지 않을 특성을 삭제합니다.\n",
        "    X = X.drop(['id', 'date', 'waterfront'],axis=1)\n",
        "\n",
        "    return X\n",
        "\n",
        "train = engineer_features(train)\n",
        "test = engineer_features(test)"
      ],
      "execution_count": 33,
      "outputs": []
    },
    {
      "cell_type": "code",
      "metadata": {
        "id": "U4PdtrSzfJzH",
        "outputId": "f6e10754-9486-49f7-8955-bcf5dc7cdb5c",
        "colab": {
          "base_uri": "https://localhost:8080/",
          "height": 223
        }
      },
      "source": [
        "# 변경된 테이블을 확인합니다.\n",
        "train.head()"
      ],
      "execution_count": 34,
      "outputs": [
        {
          "output_type": "execute_result",
          "data": {
            "text/html": [
              "<div>\n",
              "<style scoped>\n",
              "    .dataframe tbody tr th:only-of-type {\n",
              "        vertical-align: middle;\n",
              "    }\n",
              "\n",
              "    .dataframe tbody tr th {\n",
              "        vertical-align: top;\n",
              "    }\n",
              "\n",
              "    .dataframe thead th {\n",
              "        text-align: right;\n",
              "    }\n",
              "</style>\n",
              "<table border=\"1\" class=\"dataframe\">\n",
              "  <thead>\n",
              "    <tr style=\"text-align: right;\">\n",
              "      <th></th>\n",
              "      <th>price</th>\n",
              "      <th>bedrooms</th>\n",
              "      <th>bathrooms</th>\n",
              "      <th>sqft_living</th>\n",
              "      <th>sqft_lot</th>\n",
              "      <th>floors</th>\n",
              "      <th>view</th>\n",
              "      <th>condition</th>\n",
              "      <th>grade</th>\n",
              "      <th>sqft_above</th>\n",
              "      <th>sqft_basement</th>\n",
              "      <th>yr_built</th>\n",
              "      <th>yr_renovated</th>\n",
              "      <th>zipcode</th>\n",
              "      <th>lat</th>\n",
              "      <th>long</th>\n",
              "      <th>sqft_living15</th>\n",
              "      <th>sqft_lot15</th>\n",
              "      <th>rooms</th>\n",
              "    </tr>\n",
              "  </thead>\n",
              "  <tbody>\n",
              "    <tr>\n",
              "      <th>0</th>\n",
              "      <td>221900.0</td>\n",
              "      <td>3</td>\n",
              "      <td>1</td>\n",
              "      <td>1180</td>\n",
              "      <td>5650</td>\n",
              "      <td>1.0</td>\n",
              "      <td>0</td>\n",
              "      <td>3</td>\n",
              "      <td>7</td>\n",
              "      <td>1180</td>\n",
              "      <td>0</td>\n",
              "      <td>1955</td>\n",
              "      <td>0</td>\n",
              "      <td>98178</td>\n",
              "      <td>47.5112</td>\n",
              "      <td>-122.257</td>\n",
              "      <td>1340</td>\n",
              "      <td>5650</td>\n",
              "      <td>4</td>\n",
              "    </tr>\n",
              "    <tr>\n",
              "      <th>1</th>\n",
              "      <td>538000.0</td>\n",
              "      <td>3</td>\n",
              "      <td>2</td>\n",
              "      <td>2570</td>\n",
              "      <td>7242</td>\n",
              "      <td>2.0</td>\n",
              "      <td>0</td>\n",
              "      <td>3</td>\n",
              "      <td>7</td>\n",
              "      <td>2170</td>\n",
              "      <td>400</td>\n",
              "      <td>1951</td>\n",
              "      <td>1991</td>\n",
              "      <td>98125</td>\n",
              "      <td>47.7210</td>\n",
              "      <td>-122.319</td>\n",
              "      <td>1690</td>\n",
              "      <td>7639</td>\n",
              "      <td>5</td>\n",
              "    </tr>\n",
              "    <tr>\n",
              "      <th>2</th>\n",
              "      <td>180000.0</td>\n",
              "      <td>2</td>\n",
              "      <td>1</td>\n",
              "      <td>770</td>\n",
              "      <td>10000</td>\n",
              "      <td>1.0</td>\n",
              "      <td>0</td>\n",
              "      <td>3</td>\n",
              "      <td>6</td>\n",
              "      <td>770</td>\n",
              "      <td>0</td>\n",
              "      <td>1933</td>\n",
              "      <td>0</td>\n",
              "      <td>98028</td>\n",
              "      <td>47.7379</td>\n",
              "      <td>-122.233</td>\n",
              "      <td>2720</td>\n",
              "      <td>8062</td>\n",
              "      <td>3</td>\n",
              "    </tr>\n",
              "    <tr>\n",
              "      <th>3</th>\n",
              "      <td>604000.0</td>\n",
              "      <td>4</td>\n",
              "      <td>3</td>\n",
              "      <td>1960</td>\n",
              "      <td>5000</td>\n",
              "      <td>1.0</td>\n",
              "      <td>0</td>\n",
              "      <td>5</td>\n",
              "      <td>7</td>\n",
              "      <td>1050</td>\n",
              "      <td>910</td>\n",
              "      <td>1965</td>\n",
              "      <td>0</td>\n",
              "      <td>98136</td>\n",
              "      <td>47.5208</td>\n",
              "      <td>-122.393</td>\n",
              "      <td>1360</td>\n",
              "      <td>5000</td>\n",
              "      <td>7</td>\n",
              "    </tr>\n",
              "    <tr>\n",
              "      <th>4</th>\n",
              "      <td>510000.0</td>\n",
              "      <td>3</td>\n",
              "      <td>2</td>\n",
              "      <td>1680</td>\n",
              "      <td>8080</td>\n",
              "      <td>1.0</td>\n",
              "      <td>0</td>\n",
              "      <td>3</td>\n",
              "      <td>8</td>\n",
              "      <td>1680</td>\n",
              "      <td>0</td>\n",
              "      <td>1987</td>\n",
              "      <td>0</td>\n",
              "      <td>98074</td>\n",
              "      <td>47.6168</td>\n",
              "      <td>-122.045</td>\n",
              "      <td>1800</td>\n",
              "      <td>7503</td>\n",
              "      <td>5</td>\n",
              "    </tr>\n",
              "  </tbody>\n",
              "</table>\n",
              "</div>"
            ],
            "text/plain": [
              "      price  bedrooms  bathrooms  ...  sqft_living15  sqft_lot15  rooms\n",
              "0  221900.0         3          1  ...           1340        5650      4\n",
              "1  538000.0         3          2  ...           1690        7639      5\n",
              "2  180000.0         2          1  ...           2720        8062      3\n",
              "3  604000.0         4          3  ...           1360        5000      7\n",
              "4  510000.0         3          2  ...           1800        7503      5\n",
              "\n",
              "[5 rows x 19 columns]"
            ]
          },
          "metadata": {
            "tags": []
          },
          "execution_count": 34
        }
      ]
    },
    {
      "cell_type": "markdown",
      "metadata": {
        "id": "3mGf0U4JfJzH"
      },
      "source": [
        "이런 방법으로 선택 가능한 특성들의 가지수를 계산해 봅시다.\n",
        "[참고해 보세요, combinations](https://en.wikipedia.org/wiki/Combination)"
      ]
    },
    {
      "cell_type": "code",
      "metadata": {
        "scrolled": true,
        "id": "vLkTNtBQfJzH",
        "outputId": "a8193cf3-08fa-4c50-9421-b77f45e45539",
        "colab": {
          "base_uri": "https://localhost:8080/"
        }
      },
      "source": [
        "from math import factorial\n",
        "\n",
        "n = len(train.columns)\n",
        "\n",
        "def n_choose_k(n, k):\n",
        "    return factorial(n)/(factorial(k)*factorial(n-k))\n",
        "\n",
        "combinations = sum(n_choose_k(n,k) for k in range(1,n+1))\n",
        "\n",
        "combinations\n",
        "\n",
        "# print(f'{combinations:,.0f}')"
      ],
      "execution_count": 35,
      "outputs": [
        {
          "output_type": "execute_result",
          "data": {
            "text/plain": [
              "524287.0"
            ]
          },
          "metadata": {
            "tags": []
          },
          "execution_count": 35
        }
      ]
    },
    {
      "cell_type": "markdown",
      "metadata": {
        "id": "wjR8gO4wfJzI"
      },
      "source": [
        "이렇게 가능한 방법이 많은데 어떻게 필요한 좋은 특성들만 뽑을 수 있을까요? 이것을 수작업으로 할 수 없으니 SelectKBest를 사용해서 유용한 특성들을 찾아 봅시다.\n",
        "\n",
        "[Scikit-Learn User Guide on Univariate Feature Selection](https://scikit-learn.org/stable/modules/feature_selection.html#univariate-feature-selection)."
      ]
    },
    {
      "cell_type": "code",
      "metadata": {
        "id": "VbN4pAsdfJzI",
        "outputId": "557dc2b4-35c5-463a-e3b4-70b82323b257",
        "colab": {
          "base_uri": "https://localhost:8080/",
          "height": 223
        }
      },
      "source": [
        "train.head()"
      ],
      "execution_count": 36,
      "outputs": [
        {
          "output_type": "execute_result",
          "data": {
            "text/html": [
              "<div>\n",
              "<style scoped>\n",
              "    .dataframe tbody tr th:only-of-type {\n",
              "        vertical-align: middle;\n",
              "    }\n",
              "\n",
              "    .dataframe tbody tr th {\n",
              "        vertical-align: top;\n",
              "    }\n",
              "\n",
              "    .dataframe thead th {\n",
              "        text-align: right;\n",
              "    }\n",
              "</style>\n",
              "<table border=\"1\" class=\"dataframe\">\n",
              "  <thead>\n",
              "    <tr style=\"text-align: right;\">\n",
              "      <th></th>\n",
              "      <th>price</th>\n",
              "      <th>bedrooms</th>\n",
              "      <th>bathrooms</th>\n",
              "      <th>sqft_living</th>\n",
              "      <th>sqft_lot</th>\n",
              "      <th>floors</th>\n",
              "      <th>view</th>\n",
              "      <th>condition</th>\n",
              "      <th>grade</th>\n",
              "      <th>sqft_above</th>\n",
              "      <th>sqft_basement</th>\n",
              "      <th>yr_built</th>\n",
              "      <th>yr_renovated</th>\n",
              "      <th>zipcode</th>\n",
              "      <th>lat</th>\n",
              "      <th>long</th>\n",
              "      <th>sqft_living15</th>\n",
              "      <th>sqft_lot15</th>\n",
              "      <th>rooms</th>\n",
              "    </tr>\n",
              "  </thead>\n",
              "  <tbody>\n",
              "    <tr>\n",
              "      <th>0</th>\n",
              "      <td>221900.0</td>\n",
              "      <td>3</td>\n",
              "      <td>1</td>\n",
              "      <td>1180</td>\n",
              "      <td>5650</td>\n",
              "      <td>1.0</td>\n",
              "      <td>0</td>\n",
              "      <td>3</td>\n",
              "      <td>7</td>\n",
              "      <td>1180</td>\n",
              "      <td>0</td>\n",
              "      <td>1955</td>\n",
              "      <td>0</td>\n",
              "      <td>98178</td>\n",
              "      <td>47.5112</td>\n",
              "      <td>-122.257</td>\n",
              "      <td>1340</td>\n",
              "      <td>5650</td>\n",
              "      <td>4</td>\n",
              "    </tr>\n",
              "    <tr>\n",
              "      <th>1</th>\n",
              "      <td>538000.0</td>\n",
              "      <td>3</td>\n",
              "      <td>2</td>\n",
              "      <td>2570</td>\n",
              "      <td>7242</td>\n",
              "      <td>2.0</td>\n",
              "      <td>0</td>\n",
              "      <td>3</td>\n",
              "      <td>7</td>\n",
              "      <td>2170</td>\n",
              "      <td>400</td>\n",
              "      <td>1951</td>\n",
              "      <td>1991</td>\n",
              "      <td>98125</td>\n",
              "      <td>47.7210</td>\n",
              "      <td>-122.319</td>\n",
              "      <td>1690</td>\n",
              "      <td>7639</td>\n",
              "      <td>5</td>\n",
              "    </tr>\n",
              "    <tr>\n",
              "      <th>2</th>\n",
              "      <td>180000.0</td>\n",
              "      <td>2</td>\n",
              "      <td>1</td>\n",
              "      <td>770</td>\n",
              "      <td>10000</td>\n",
              "      <td>1.0</td>\n",
              "      <td>0</td>\n",
              "      <td>3</td>\n",
              "      <td>6</td>\n",
              "      <td>770</td>\n",
              "      <td>0</td>\n",
              "      <td>1933</td>\n",
              "      <td>0</td>\n",
              "      <td>98028</td>\n",
              "      <td>47.7379</td>\n",
              "      <td>-122.233</td>\n",
              "      <td>2720</td>\n",
              "      <td>8062</td>\n",
              "      <td>3</td>\n",
              "    </tr>\n",
              "    <tr>\n",
              "      <th>3</th>\n",
              "      <td>604000.0</td>\n",
              "      <td>4</td>\n",
              "      <td>3</td>\n",
              "      <td>1960</td>\n",
              "      <td>5000</td>\n",
              "      <td>1.0</td>\n",
              "      <td>0</td>\n",
              "      <td>5</td>\n",
              "      <td>7</td>\n",
              "      <td>1050</td>\n",
              "      <td>910</td>\n",
              "      <td>1965</td>\n",
              "      <td>0</td>\n",
              "      <td>98136</td>\n",
              "      <td>47.5208</td>\n",
              "      <td>-122.393</td>\n",
              "      <td>1360</td>\n",
              "      <td>5000</td>\n",
              "      <td>7</td>\n",
              "    </tr>\n",
              "    <tr>\n",
              "      <th>4</th>\n",
              "      <td>510000.0</td>\n",
              "      <td>3</td>\n",
              "      <td>2</td>\n",
              "      <td>1680</td>\n",
              "      <td>8080</td>\n",
              "      <td>1.0</td>\n",
              "      <td>0</td>\n",
              "      <td>3</td>\n",
              "      <td>8</td>\n",
              "      <td>1680</td>\n",
              "      <td>0</td>\n",
              "      <td>1987</td>\n",
              "      <td>0</td>\n",
              "      <td>98074</td>\n",
              "      <td>47.6168</td>\n",
              "      <td>-122.045</td>\n",
              "      <td>1800</td>\n",
              "      <td>7503</td>\n",
              "      <td>5</td>\n",
              "    </tr>\n",
              "  </tbody>\n",
              "</table>\n",
              "</div>"
            ],
            "text/plain": [
              "      price  bedrooms  bathrooms  ...  sqft_living15  sqft_lot15  rooms\n",
              "0  221900.0         3          1  ...           1340        5650      4\n",
              "1  538000.0         3          2  ...           1690        7639      5\n",
              "2  180000.0         2          1  ...           2720        8062      3\n",
              "3  604000.0         4          3  ...           1360        5000      7\n",
              "4  510000.0         3          2  ...           1800        7503      5\n",
              "\n",
              "[5 rows x 19 columns]"
            ]
          },
          "metadata": {
            "tags": []
          },
          "execution_count": 36
        }
      ]
    },
    {
      "cell_type": "markdown",
      "metadata": {
        "id": "30wIk96pfJzK"
      },
      "source": [
        "#### 데이터를 훈련/테스트 데이터로 분리합니다."
      ]
    },
    {
      "cell_type": "code",
      "metadata": {
        "id": "tSE3ehnbfJzK"
      },
      "source": [
        "target = 'price'\n",
        "\n",
        "## X_train, y_train, X_test, y_test 데이터로 분리\n",
        "X_train = train.drop(columns=target)\n",
        "y_train = train[target]\n",
        "X_test = test.drop(columns=target)\n",
        "y_test = test[target]"
      ],
      "execution_count": 37,
      "outputs": []
    },
    {
      "cell_type": "markdown",
      "metadata": {
        "id": "hFQLwkzefJzK"
      },
      "source": [
        "#### SelectKBest를 사용해 가장 효과적인 특성 K개를 골라보겠습니다."
      ]
    },
    {
      "cell_type": "code",
      "metadata": {
        "scrolled": true,
        "id": "6IbKVKr2fJzK",
        "outputId": "8d46dd89-d89d-42ba-a7c2-4af4267d471f",
        "colab": {
          "base_uri": "https://localhost:8080/"
        }
      },
      "source": [
        "# target(Price)와 가장 correlated 된 features 를 k개 고르는 것이 목표입니다.\n",
        "\n",
        "## f_regresison, SelectKBest\n",
        "from sklearn.feature_selection import f_regression, SelectKBest\n",
        "\n",
        "## selctor 정의합니다.\n",
        "selector = SelectKBest(score_func=f_regression, k=10)\n",
        "\n",
        "## 학습데이터에 fit_transform \n",
        "X_train_selected = selector.fit_transform(X_train, y_train)\n",
        "\n",
        "## 테스트 데이터는 transform\n",
        "X_test_selected = selector.transform(X_test)\n",
        "\n",
        "\n",
        "X_train_selected.shape, X_test_selected.shape"
      ],
      "execution_count": 38,
      "outputs": [
        {
          "output_type": "execute_result",
          "data": {
            "text/plain": [
              "((16772, 10), (4721, 10))"
            ]
          },
          "metadata": {
            "tags": []
          },
          "execution_count": 38
        }
      ]
    },
    {
      "cell_type": "markdown",
      "metadata": {
        "id": "8coS7II7fJzL"
      },
      "source": [
        "#### 선택된 특성을 보겠습니다."
      ]
    },
    {
      "cell_type": "code",
      "metadata": {
        "scrolled": true,
        "id": "x-zU4BpafJzL",
        "outputId": "b291fc93-e392-41d9-d3b3-c4637d34a766",
        "colab": {
          "base_uri": "https://localhost:8080/"
        }
      },
      "source": [
        "all_names = X_train.columns\n",
        "\n",
        "## selector.get_support()\n",
        "selected_mask = selector.get_support()\n",
        "\n",
        "## 선택된 특성들\n",
        "selected_names = all_names[selected_mask]\n",
        "\n",
        "## 선택되지 않은 특성들\n",
        "unselected_names = all_names[~selected_mask] \n",
        "\n",
        "print('Selected names: ', selected_names)\n",
        "print('Unselected names: ', unselected_names)"
      ],
      "execution_count": 39,
      "outputs": [
        {
          "output_type": "stream",
          "text": [
            "Selected names:  Index(['bedrooms', 'bathrooms', 'sqft_living', 'view', 'grade', 'sqft_above',\n",
            "       'sqft_basement', 'lat', 'sqft_living15', 'rooms'],\n",
            "      dtype='object')\n",
            "Unselected names:  Index(['sqft_lot', 'floors', 'condition', 'yr_built', 'yr_renovated',\n",
            "       'zipcode', 'long', 'sqft_lot15'],\n",
            "      dtype='object')\n"
          ],
          "name": "stdout"
        }
      ]
    },
    {
      "cell_type": "markdown",
      "metadata": {
        "id": "jkzRgL-UfJzL"
      },
      "source": [
        "#### 특성의 수 k 를 어떻게 결정하는게 좋을지 알아 보겠습니다."
      ]
    },
    {
      "cell_type": "code",
      "metadata": {
        "scrolled": true,
        "id": "ra8X0m6cfJzM",
        "outputId": "8917b4b0-38a3-427f-f902-b1afef402ff8",
        "colab": {
          "base_uri": "https://localhost:8080/",
          "height": 0
        }
      },
      "source": [
        "# features를 몇 개 선책하는 것이 좋은지 알아 봅시다.\n",
        "\n",
        "from sklearn.linear_model import LinearRegression\n",
        "from sklearn.metrics import mean_absolute_error, r2_score\n",
        "\n",
        "training = []\n",
        "testing = []\n",
        "ks = range(1, len(X_train.columns)+1)\n",
        "\n",
        "# 1 부터 특성 수 만큼 사용한 모델을 만들어서 MAE 값을 비교 합니다.\n",
        "for k in range(1, len(X_train.columns)+ 1):\n",
        "    print(f'{k} features')\n",
        "    \n",
        "    selector = SelectKBest(score_func=f_regression, k=k)\n",
        "    \n",
        "    X_train_selected = selector.fit_transform(X_train, y_train)\n",
        "    X_test_selected = selector.transform(X_test)\n",
        "    \n",
        "    all_names = X_train.columns\n",
        "    selected_mask = selector.get_support()\n",
        "    selected_names = all_names[selected_mask]\n",
        "    print('Selected names: ', selected_names)\n",
        "\n",
        "    \n",
        "    model = LinearRegression()\n",
        "    model.fit(X_train_selected, y_train)\n",
        "    y_pred = model.predict(X_train_selected)\n",
        "    mae = mean_absolute_error(y_train, y_pred)\n",
        "    training.append(mae)\n",
        "    \n",
        "    y_pred = model.predict(X_test_selected)\n",
        "    mae = mean_absolute_error(y_test, y_pred)\n",
        "    r2 = r2_score(y_test, y_pred)\n",
        "    testing.append(mae)\n",
        "    print(f'Test MAE: ${mae:,.0f}')\n",
        "    print(f'Test R2: {r2} \\n')\n",
        "\n",
        "plt.plot(ks, training, label='Training Score', color='b')\n",
        "plt.plot(ks, testing, label='Testing Score', color='g')\n",
        "plt.ylabel(\"MAE ($)\")\n",
        "plt.xlabel(\"Number of Features\")\n",
        "plt.title('Validation Curve')\n",
        "plt.legend()\n",
        "plt.show()"
      ],
      "execution_count": 40,
      "outputs": [
        {
          "output_type": "stream",
          "text": [
            "1 features\n",
            "Selected names:  Index(['sqft_living'], dtype='object')\n",
            "Test MAE: $167,321\n",
            "Test R2: 0.4296149194220933 \n",
            "\n",
            "2 features\n",
            "Selected names:  Index(['sqft_living', 'grade'], dtype='object')\n",
            "Test MAE: $157,239\n",
            "Test R2: 0.4884712916259375 \n",
            "\n",
            "3 features\n",
            "Selected names:  Index(['sqft_living', 'grade', 'sqft_living15'], dtype='object')\n",
            "Test MAE: $156,951\n",
            "Test R2: 0.49204137332086406 \n",
            "\n",
            "4 features\n",
            "Selected names:  Index(['sqft_living', 'grade', 'sqft_above', 'sqft_living15'], dtype='object')\n",
            "Test MAE: $154,920\n",
            "Test R2: 0.5019286655041768 \n",
            "\n",
            "5 features\n",
            "Selected names:  Index(['bathrooms', 'sqft_living', 'grade', 'sqft_above', 'sqft_living15'], dtype='object')\n",
            "Test MAE: $154,979\n",
            "Test R2: 0.5020209934516052 \n",
            "\n",
            "6 features\n",
            "Selected names:  Index(['bathrooms', 'sqft_living', 'grade', 'sqft_above', 'sqft_living15',\n",
            "       'rooms'],\n",
            "      dtype='object')\n",
            "Test MAE: $154,376\n",
            "Test R2: 0.505157284321 \n",
            "\n",
            "7 features\n",
            "Selected names:  Index(['bathrooms', 'sqft_living', 'view', 'grade', 'sqft_above',\n",
            "       'sqft_living15', 'rooms'],\n",
            "      dtype='object')\n",
            "Test MAE: $149,839\n",
            "Test R2: 0.5326279698432828 \n",
            "\n",
            "8 features\n",
            "Selected names:  Index(['bathrooms', 'sqft_living', 'view', 'grade', 'sqft_above', 'lat',\n",
            "       'sqft_living15', 'rooms'],\n",
            "      dtype='object')\n",
            "Test MAE: $126,250\n",
            "Test R2: 0.626639246589956 \n",
            "\n",
            "9 features\n",
            "Selected names:  Index(['bedrooms', 'bathrooms', 'sqft_living', 'view', 'grade', 'sqft_above',\n",
            "       'lat', 'sqft_living15', 'rooms'],\n",
            "      dtype='object')\n",
            "Test MAE: $126,250\n",
            "Test R2: 0.6266392465899528 \n",
            "\n",
            "10 features\n",
            "Selected names:  Index(['bedrooms', 'bathrooms', 'sqft_living', 'view', 'grade', 'sqft_above',\n",
            "       'sqft_basement', 'lat', 'sqft_living15', 'rooms'],\n",
            "      dtype='object')\n",
            "Test MAE: $126,250\n",
            "Test R2: 0.6266392465899531 \n",
            "\n",
            "11 features\n",
            "Selected names:  Index(['bedrooms', 'bathrooms', 'sqft_living', 'floors', 'view', 'grade',\n",
            "       'sqft_above', 'sqft_basement', 'lat', 'sqft_living15', 'rooms'],\n",
            "      dtype='object')\n",
            "Test MAE: $126,257\n",
            "Test R2: 0.6273262157764314 \n",
            "\n",
            "12 features\n",
            "Selected names:  Index(['bedrooms', 'bathrooms', 'sqft_living', 'floors', 'view', 'grade',\n",
            "       'sqft_above', 'sqft_basement', 'yr_renovated', 'lat', 'sqft_living15',\n",
            "       'rooms'],\n",
            "      dtype='object')\n",
            "Test MAE: $125,795\n",
            "Test R2: 0.6313843084113078 \n",
            "\n",
            "13 features\n",
            "Selected names:  Index(['bedrooms', 'bathrooms', 'sqft_living', 'sqft_lot', 'floors', 'view',\n",
            "       'grade', 'sqft_above', 'sqft_basement', 'yr_renovated', 'lat',\n",
            "       'sqft_living15', 'rooms'],\n",
            "      dtype='object')\n",
            "Test MAE: $125,916\n",
            "Test R2: 0.6308283765248046 \n",
            "\n",
            "14 features\n",
            "Selected names:  Index(['bedrooms', 'bathrooms', 'sqft_living', 'sqft_lot', 'floors', 'view',\n",
            "       'grade', 'sqft_above', 'sqft_basement', 'yr_renovated', 'lat',\n",
            "       'sqft_living15', 'sqft_lot15', 'rooms'],\n",
            "      dtype='object')\n",
            "Test MAE: $125,920\n",
            "Test R2: 0.631430772664115 \n",
            "\n",
            "15 features\n",
            "Selected names:  Index(['bedrooms', 'bathrooms', 'sqft_living', 'sqft_lot', 'floors', 'view',\n",
            "       'grade', 'sqft_above', 'sqft_basement', 'yr_built', 'yr_renovated',\n",
            "       'lat', 'sqft_living15', 'sqft_lot15', 'rooms'],\n",
            "      dtype='object')\n",
            "Test MAE: $119,578\n",
            "Test R2: 0.6677358410398337 \n",
            "\n",
            "16 features\n",
            "Selected names:  Index(['bedrooms', 'bathrooms', 'sqft_living', 'sqft_lot', 'floors', 'view',\n",
            "       'grade', 'sqft_above', 'sqft_basement', 'yr_built', 'yr_renovated',\n",
            "       'zipcode', 'lat', 'sqft_living15', 'sqft_lot15', 'rooms'],\n",
            "      dtype='object')\n",
            "Test MAE: $119,295\n",
            "Test R2: 0.6697817823179242 \n",
            "\n",
            "17 features\n",
            "Selected names:  Index(['bedrooms', 'bathrooms', 'sqft_living', 'sqft_lot', 'floors', 'view',\n",
            "       'condition', 'grade', 'sqft_above', 'sqft_basement', 'yr_built',\n",
            "       'yr_renovated', 'zipcode', 'lat', 'sqft_living15', 'sqft_lot15',\n",
            "       'rooms'],\n",
            "      dtype='object')\n",
            "Test MAE: $118,769\n",
            "Test R2: 0.671066324876241 \n",
            "\n",
            "18 features\n",
            "Selected names:  Index(['bedrooms', 'bathrooms', 'sqft_living', 'sqft_lot', 'floors', 'view',\n",
            "       'condition', 'grade', 'sqft_above', 'sqft_basement', 'yr_built',\n",
            "       'yr_renovated', 'zipcode', 'lat', 'long', 'sqft_living15', 'sqft_lot15',\n",
            "       'rooms'],\n",
            "      dtype='object')\n",
            "Test MAE: $118,992\n",
            "Test R2: 0.6750956927564506 \n",
            "\n"
          ],
          "name": "stdout"
        },
        {
          "output_type": "display_data",
          "data": {
            "image/png": "[encoded data removed]",
            "text/plain": [
              "<Figure size 432x288 with 1 Axes>"
            ]
          },
          "metadata": {
            "tags": [],
            "needs_background": "light"
          }
        }
      ]
    },
    {
      "cell_type": "markdown",
      "metadata": {
        "id": "oqONnVoYfJzN"
      },
      "source": [
        "## Ridge Regression 모델 학습"
      ]
    },
    {
      "cell_type": "markdown",
      "metadata": {
        "id": "qFi1-1wCfJzN"
      },
      "source": [
        "재미있는 부분은 Ridge 회귀는 기존 다중회귀선을 훈련데이터에 덜 적합이 되도록 만든다는 것입니다. 그 결과로 더 좋은 모델이 만들어 집니다.\n",
        "다음 식을 살펴 보겠습니다.\n",
        "\n",
        "$\\beta_{ridge}$:  $argmin[\\sum_{i=1}^n(y_i - \\beta_0 - \\beta_1x_{i1}-\\dotsc-\\beta_px_{ip})^2 + \\lambda\\sum_{j=1}^p\\beta_j^2]$\n",
        "\n",
        "n: 샘플수, p: 특성수, $\\lambda$: 튜닝 파라미터(패널티)\n",
        "참고: alpha, lambda, regularization parameter, penalty term 모두 같은 뜻 입니다."
      ]
    },
    {
      "cell_type": "markdown",
      "metadata": {
        "id": "_QNuUd4vfJzN"
      },
      "source": [
        "Ridge 회귀를 사용하는 이유는 무엇일까요?\n",
        "Ridge 회귀는 **과적합을 줄이기 위해서** 사용하는 것입니다. 과적합을 줄이는 간단한 방법 중 한 가지는 모델의 복잡도를 줄이는 방법입니다. 특성의 갯수를 줄이거나 모델을 단순한 모양으로 적합하는 것입니다.\n",
        "\n",
        "앞서 우리는 모델학습에 있어서 편향(bias)과 분산(variance)의 영향에 대해 배웠습니다.\n",
        "Ridge 회귀는 이 **편향을 조금 더하고, 분산을 줄이는 방법**으로 정규화(Regularization)를 수행합니다.\n",
        "여기서 말하는 정규화는 모델을 변형하여 과적합을 완화해 일반화 성능을 높여주기 위한 기법을 말합니다.\n",
        "\n",
        "정규화의 강도를 조절해주는 패널티값인 람다는 다음과 같은 성질이 있습니다.\n",
        "\n",
        "$\\lambda$ → 0,   $\\beta_{ridge}$ → $\\beta_{OLS}$\n",
        "\n",
        "$\\lambda$ → ∞,   $\\beta_{ridge}$ → 0.\n"
      ]
    },
    {
      "cell_type": "markdown",
      "metadata": {
        "id": "IvlbKd5AfJzN"
      },
      "source": [
        "### OLS vs Ridge\n",
        "\n",
        "이제 OLS와 Ridge 회귀를 그래프를 그려보며 비교해 봅시다.\n",
        "\n",
        "간단히 사용할 데이터는 — [Anscombe's quartet](https://en.wikipedia.org/wiki/Anscombe%27s_quartet), dataset III 입니다:"
      ]
    },
    {
      "cell_type": "markdown",
      "metadata": {
        "id": "-1XDbXB5fJzO"
      },
      "source": [
        "#### Anscome's quartet 데이터를 불러옵니다."
      ]
    },
    {
      "cell_type": "code",
      "metadata": {
        "id": "lnEIGuoDfJzO",
        "outputId": "f1e95a9f-2fe4-4a37-dbdc-78e7ff12f1a6",
        "colab": {
          "base_uri": "https://localhost:8080/",
          "height": 280
        }
      },
      "source": [
        "import seaborn as sns\n",
        "ans = sns.load_dataset('anscombe').query('dataset==\"III\"')\n",
        "ans.plot.scatter('x', 'y');"
      ],
      "execution_count": 41,
      "outputs": [
        {
          "output_type": "display_data",
          "data": {
            "image/png": "[encoded data removed]",
            "text/plain": [
              "<Figure size 432x288 with 1 Axes>"
            ]
          },
          "metadata": {
            "tags": [],
            "needs_background": "light"
          }
        }
      ]
    },
    {
      "cell_type": "markdown",
      "metadata": {
        "id": "Edoqwp6PfJzO"
      },
      "source": [
        "#### OLS"
      ]
    },
    {
      "cell_type": "code",
      "metadata": {
        "id": "gS-GurVqfJzO",
        "outputId": "61ac4bb8-281a-4ff6-ad84-f8e1607171ce",
        "colab": {
          "base_uri": "https://localhost:8080/",
          "height": 310
        }
      },
      "source": [
        "%matplotlib inline\n",
        "\n",
        "ax = ans.plot.scatter('x', 'y')\n",
        "\n",
        "# OLS \n",
        "ols = LinearRegression()\n",
        "ols.fit(ans[['x']], ans['y'])\n",
        "\n",
        "# 회귀계수와 intercept를 확인합니다.\n",
        "m = ols.coef_[0].round(2)\n",
        "b = ols.intercept_.round(2)\n",
        "title = f'Linear Regression \\n y = {m}x + {b}'\n",
        "\n",
        "# 훈련 데이터로 예측을 합니다.\n",
        "ans['y_pred'] = ols.predict(ans[['x']])\n",
        "\n",
        "ans.plot('x', 'y_pred', ax=ax, title=title);"
      ],
      "execution_count": 42,
      "outputs": [
        {
          "output_type": "display_data",
          "data": {
            "image/png": "[encoded data removed]",
            "text/plain": [
              "<Figure size 432x288 with 1 Axes>"
            ]
          },
          "metadata": {
            "tags": [],
            "needs_background": "light"
          }
        }
      ]
    },
    {
      "cell_type": "markdown",
      "metadata": {
        "id": "MFQZdjZ8fJzP"
      },
      "source": [
        "### Ridge Regression\n",
        "\n",
        "#### $\\lambda$ 값을 증가시키며 그래프를 통해 회귀계수의 변화를 살펴보겠습니다."
      ]
    },
    {
      "cell_type": "code",
      "metadata": {
        "id": "iXeJ_py7fJzP",
        "outputId": "69558580-bc7e-4b91-a120-2a7bda872bff",
        "colab": {
          "base_uri": "https://localhost:8080/",
          "height": 1000
        }
      },
      "source": [
        "import matplotlib.pyplot as plt\n",
        "from sklearn.linear_model import Ridge\n",
        "\n",
        "def ridge_anscombe(alpha):\n",
        "    \"\"\"\n",
        "    alpha : lambda, penalty term\n",
        "    \"\"\"\n",
        "    ans = sns.load_dataset('anscombe').query('dataset==\"III\"')\n",
        "\n",
        "    ax = ans.plot.scatter('x', 'y')\n",
        "\n",
        "    ridge = Ridge(alpha=alpha, normalize=True)\n",
        "    ridge.fit(ans[['x']], ans['y'])\n",
        "\n",
        "    # 회귀계수와 intercept를 가져옵니다.\n",
        "    m = ridge.coef_[0].round(2)\n",
        "    b = ridge.intercept_.round(2)\n",
        "    title = f'Ridge Regression, alpha={alpha} \\n y = {m}x + {b}'\n",
        "\n",
        "    # 예측\n",
        "    ans['y_pred'] = ridge.predict(ans[['x']])\n",
        "\n",
        "    ans.plot('x', 'y_pred', ax=ax, title=title)\n",
        "    plt.show()\n",
        "    \n",
        "# 여러 알파값으로 반복해 그래프를 그립니다.\n",
        "alphas = np.arange(0, 2, 0.4)\n",
        "for alpha in alphas:\n",
        "    ridge_anscombe(alpha=alpha)"
      ],
      "execution_count": 43,
      "outputs": [
        {
          "output_type": "display_data",
          "data": {
            "image/png": "[encoded data removed]",
            "text/plain": [
              "<Figure size 432x288 with 1 Axes>"
            ]
          },
          "metadata": {
            "tags": [],
            "needs_background": "light"
          }
        },
        {
          "output_type": "display_data",
          "data": {
            "image/png": "[encoded data removed]",
            "text/plain": [
              "<Figure size 432x288 with 1 Axes>"
            ]
          },
          "metadata": {
            "tags": [],
            "needs_background": "light"
          }
        },
        {
          "output_type": "display_data",
          "data": {
            "image/png": "[encoded data removed]",
            "text/plain": [
              "<Figure size 432x288 with 1 Axes>"
            ]
          },
          "metadata": {
            "tags": [],
            "needs_background": "light"
          }
        },
        {
          "output_type": "display_data",
          "data": {
            "image/png": "[encoded data removed]",
            "text/plain": [
              "<Figure size 432x288 with 1 Axes>"
            ]
          },
          "metadata": {
            "tags": [],
            "needs_background": "light"
          }
        },
        {
          "output_type": "display_data",
          "data": {
            "image/png": "[encoded data removed]",
            "text/plain": [
              "<Figure size 432x288 with 1 Axes>"
            ]
          },
          "metadata": {
            "tags": [],
            "needs_background": "light"
          }
        }
      ]
    },
    {
      "cell_type": "markdown",
      "metadata": {
        "id": "GTJgQVL1fJzP"
      },
      "source": [
        "그래프를 보면, alpha = 0인 경우에는 OLS 와 같은 그래프 형태로 같은 모델 임을 확인 할 수 있고.\n",
        "alpha 값이 커질 수록 직선의 기울기가 0에 가까워 지면서 평균 기준모델(baseline) 과 비슷해지는 모습을 볼 수 있습니다."
      ]
    },
    {
      "cell_type": "markdown",
      "metadata": {
        "id": "oXRBPbDKfJzQ"
      },
      "source": [
        "이 패널티값을 보다 효율적으로 구할 수 있는 방법이 있을까요?\n",
        "\n",
        "[The StatQuest video answers,](https://youtu.be/Q81RR3yKn30?t=602)\n",
        "> So how do we decide what value to give lambda? We just try a bunch of values for lambda, and use cross-validation\n",
        "typically 10-fold cross-validation, to determine which one results in the lowest variance.\n",
        "\n",
        "\n",
        "어떤 특별한 공식이 있는 것은 아니며, 여러 패널티 값을 가지고 검증실험을 해 보는 방법을 사용합니다. 교차검증(Cross-validation)을 사용해 훈련/검증 데이터를 나누어 검증실험을 진행하면 됩니다.(교차검증은 다음 강의에 더 자세히 다룹니다.)\n",
        "\n",
        "sklearn에서 내장된 교차검증 알고리즘을 적용하는 [RidgeCV](https://scikit-learn.org/stable/modules/generated/sklearn.linear_model.RidgeCV.html)를 제공합니다."
      ]
    },
    {
      "cell_type": "markdown",
      "metadata": {
        "id": "QY7HBciNfJzQ"
      },
      "source": [
        "#### RidgeCV를 통한 최적 패널티(alpha, lambda) 검증"
      ]
    },
    {
      "cell_type": "code",
      "metadata": {
        "id": "TQy1WMWdfJzQ",
        "outputId": "50fed83a-2d23-499d-c753-a055d04d644d",
        "colab": {
          "base_uri": "https://localhost:8080/"
        }
      },
      "source": [
        "from sklearn.linear_model import RidgeCV\n",
        "\n",
        "alphas = [0.01, 0.05, 0.1, 0.2, 1.0, 10.0, 100.0]\n",
        "\n",
        "ridge = RidgeCV(alphas=alphas, normalize=True, cv=3)\n",
        "ridge.fit(ans[['x']], ans['y'])\n",
        "print(\"alpha: \", ridge.alpha_)\n",
        "# print(\"best score: \", ridge.best_score_)"
      ],
      "execution_count": 44,
      "outputs": [
        {
          "output_type": "stream",
          "text": [
            "alpha:  0.2\n"
          ],
          "name": "stdout"
        }
      ]
    },
    {
      "cell_type": "markdown",
      "metadata": {
        "id": "0mIUkg7bfJzR"
      },
      "source": [
        "다음 Ridge 회귀 직선의 생김새는 OLS매우 비슷하지만 이상치(outlier) 영향을 덜 받습니다."
      ]
    },
    {
      "cell_type": "code",
      "metadata": {
        "id": "DwQe1LOHfJzR",
        "outputId": "308cddc2-bf25-4999-c20d-d44065920abc",
        "colab": {
          "base_uri": "https://localhost:8080/",
          "height": 310
        }
      },
      "source": [
        "ax = ans.plot.scatter('x', 'y')\n",
        "\n",
        "m = ridge.coef_[0].round(2)\n",
        "b = ridge.intercept_.round(2)\n",
        "title = f'Ridge Regression, alpha={ridge.alpha_} \\n y = {m}x + {b}'\n",
        "\n",
        "ans['y_pred'] = ridge.predict(ans[['x']])\n",
        "\n",
        "ans.plot('x', 'y_pred', ax=ax, title=title)\n",
        "plt.show()"
      ],
      "execution_count": 45,
      "outputs": [
        {
          "output_type": "display_data",
          "data": {
            "image/png": "[encoded data removed]",
            "text/plain": [
              "<Figure size 432x288 with 1 Axes>"
            ]
          },
          "metadata": {
            "tags": [],
            "needs_background": "light"
          }
        }
      ]
    },
    {
      "cell_type": "markdown",
      "metadata": {
        "id": "7JkN_PngfJzR"
      },
      "source": [
        "#### House data\n",
        "이제 다시 집값 예측 데이터로 돌아와서, ridge 회귀의 패널티에 대한 영향을 확인해 보겠습니다. 특성은 sqft_living를 사용해 그래프를 그려보겠습니다."
      ]
    },
    {
      "cell_type": "code",
      "metadata": {
        "id": "-tNiLsU2fJzS",
        "outputId": "eda288ae-c2ba-426f-9d4e-e6ae7b1d750b",
        "colab": {
          "base_uri": "https://localhost:8080/",
          "height": 1000
        }
      },
      "source": [
        "# https://scikit-learn.org/stable/modules/generated/sklearn.linear_model.Ridge.html\n",
        "for alpha in [0.001, 0.01, 0.1, 1.0, 10.0, 100.0]:\n",
        "    \n",
        "    feature = 'sqft_living'\n",
        "    print(f'Ridge Regression, with alpha={alpha}')\n",
        "    model = Ridge(alpha=alpha, normalize=True)\n",
        "    model.fit(X_train[[feature]], y_train)\n",
        "\n",
        "    \n",
        "    # Get Test MAE\n",
        "    y_pred = model.predict(X_test[[feature]])    \n",
        "    mae = mean_absolute_error(y_test, y_pred)\n",
        "    print(f'Test MAE: ${mae:,.0f}')\n",
        "    \n",
        "    train.plot.scatter(feature, target, alpha=0.1)\n",
        "    plt.plot(X_test[feature], y_pred, color='green')\n",
        "    plt.show()"
      ],
      "execution_count": 46,
      "outputs": [
        {
          "output_type": "stream",
          "text": [
            "Ridge Regression, with alpha=0.001\n",
            "Test MAE: $167,305\n"
          ],
          "name": "stdout"
        },
        {
          "output_type": "display_data",
          "data": {
            "image/png": "[encoded data removed]",
            "text/plain": [
              "<Figure size 432x288 with 1 Axes>"
            ]
          },
          "metadata": {
            "tags": [],
            "needs_background": "light"
          }
        },
        {
          "output_type": "stream",
          "text": [
            "Ridge Regression, with alpha=0.01\n",
            "Test MAE: $167,167\n"
          ],
          "name": "stdout"
        },
        {
          "output_type": "display_data",
          "data": {
            "image/png": "[encoded data removed]",
            "text/plain": [
              "<Figure size 432x288 with 1 Axes>"
            ]
          },
          "metadata": {
            "tags": [],
            "needs_background": "light"
          }
        },
        {
          "output_type": "stream",
          "text": [
            "Ridge Regression, with alpha=0.1\n",
            "Test MAE: $166,449\n"
          ],
          "name": "stdout"
        },
        {
          "output_type": "display_data",
          "data": {
            "image/png": "[encoded data removed]",
            "text/plain": [
              "<Figure size 432x288 with 1 Axes>"
            ]
          },
          "metadata": {
            "tags": [],
            "needs_background": "light"
          }
        },
        {
          "output_type": "stream",
          "text": [
            "Ridge Regression, with alpha=1.0\n",
            "Test MAE: $177,055\n"
          ],
          "name": "stdout"
        },
        {
          "output_type": "display_data",
          "data": {
            "image/png": "[encoded data removed]",
            "text/plain": [
              "<Figure size 432x288 with 1 Axes>"
            ]
          },
          "metadata": {
            "tags": [],
            "needs_background": "light"
          }
        },
        {
          "output_type": "stream",
          "text": [
            "Ridge Regression, with alpha=10.0\n",
            "Test MAE: $208,535\n"
          ],
          "name": "stdout"
        },
        {
          "output_type": "display_data",
          "data": {
            "image/png": "[encoded data removed]",
            "text/plain": [
              "<Figure size 432x288 with 1 Axes>"
            ]
          },
          "metadata": {
            "tags": [],
            "needs_background": "light"
          }
        },
        {
          "output_type": "stream",
          "text": [
            "Ridge Regression, with alpha=100.0\n",
            "Test MAE: $216,585\n"
          ],
          "name": "stdout"
        },
        {
          "output_type": "display_data",
          "data": {
            "image/png": "[encoded data removed]",
            "text/plain": [
              "<Figure size 432x288 with 1 Axes>"
            ]
          },
          "metadata": {
            "tags": [],
            "needs_background": "light"
          }
        }
      ]
    },
    {
      "cell_type": "markdown",
      "metadata": {
        "id": "XzqJ6rJHfJzS"
      },
      "source": [
        "### 이번에는 여러 특성을 사용해서 Ridge 회귀를 학습해 봅시다."
      ]
    },
    {
      "cell_type": "code",
      "metadata": {
        "scrolled": true,
        "id": "6CzWcy7RfJzS",
        "outputId": "0ddd4c90-e81a-4909-eb32-b1921038ca7e",
        "colab": {
          "base_uri": "https://localhost:8080/",
          "height": 1000
        }
      },
      "source": [
        "from sklearn.metrics import r2_score\n",
        "\n",
        "for alpha in [0.001, 0.005, 0.01, 0.02, 0.03, 0.1, 1.0, 1, 100.0, 1000.0]:\n",
        "        \n",
        "    print(f'Ridge Regression, alpha={alpha}')\n",
        "\n",
        "    # Ridge 모델 학습\n",
        "    model = Ridge(alpha=alpha, normalize=True)  \n",
        "    model.fit(X_train, y_train)\n",
        "    y_pred = model.predict(X_test)\n",
        "\n",
        "    # MAE for test\n",
        "    mae = mean_absolute_error(y_test, y_pred)\n",
        "    r2 = r2_score(y_test, y_pred)\n",
        "    \n",
        "    print(f'Test MAE: ${mae:,.0f}')\n",
        "    print(f'Test R2: {r2:,.3f}')\n",
        "    \n",
        "    # plot coefficients\n",
        "    coefficients = pd.Series(model.coef_, X_train.columns)\n",
        "    plt.figure(figsize=(10,3))\n",
        "    coefficients.sort_values().plot.barh()\n",
        "    plt.show()"
      ],
      "execution_count": 47,
      "outputs": [
        {
          "output_type": "stream",
          "text": [
            "Ridge Regression, alpha=0.001\n",
            "Test MAE: $118,969\n",
            "Test R2: 0.675\n"
          ],
          "name": "stdout"
        },
        {
          "output_type": "display_data",
          "data": {
            "image/png": "[encoded data removed]",
            "text/plain": [
              "<Figure size 720x216 with 1 Axes>"
            ]
          },
          "metadata": {
            "tags": [],
            "needs_background": "light"
          }
        },
        {
          "output_type": "stream",
          "text": [
            "Ridge Regression, alpha=0.005\n",
            "Test MAE: $118,878\n",
            "Test R2: 0.675\n"
          ],
          "name": "stdout"
        },
        {
          "output_type": "display_data",
          "data": {
            "image/png": "[encoded data removed]",
            "text/plain": [
              "<Figure size 720x216 with 1 Axes>"
            ]
          },
          "metadata": {
            "tags": [],
            "needs_background": "light"
          }
        },
        {
          "output_type": "stream",
          "text": [
            "Ridge Regression, alpha=0.01\n",
            "Test MAE: $118,770\n",
            "Test R2: 0.675\n"
          ],
          "name": "stdout"
        },
        {
          "output_type": "display_data",
          "data": {
            "image/png": "[encoded data removed]",
            "text/plain": [
              "<Figure size 720x216 with 1 Axes>"
            ]
          },
          "metadata": {
            "tags": [],
            "needs_background": "light"
          }
        },
        {
          "output_type": "stream",
          "text": [
            "Ridge Regression, alpha=0.02\n",
            "Test MAE: $118,575\n",
            "Test R2: 0.674\n"
          ],
          "name": "stdout"
        },
        {
          "output_type": "display_data",
          "data": {
            "image/png": "[encoded data removed]",
            "text/plain": [
              "<Figure size 720x216 with 1 Axes>"
            ]
          },
          "metadata": {
            "tags": [],
            "needs_background": "light"
          }
        },
        {
          "output_type": "stream",
          "text": [
            "Ridge Regression, alpha=0.03\n",
            "Test MAE: $118,406\n",
            "Test R2: 0.674\n"
          ],
          "name": "stdout"
        },
        {
          "output_type": "display_data",
          "data": {
            "image/png": "[encoded data removed]",
            "text/plain": [
              "<Figure size 720x216 with 1 Axes>"
            ]
          },
          "metadata": {
            "tags": [],
            "needs_background": "light"
          }
        },
        {
          "output_type": "stream",
          "text": [
            "Ridge Regression, alpha=0.1\n",
            "Test MAE: $117,730\n",
            "Test R2: 0.670\n"
          ],
          "name": "stdout"
        },
        {
          "output_type": "display_data",
          "data": {
            "image/png": "[encoded data removed]",
            "text/plain": [
              "<Figure size 720x216 with 1 Axes>"
            ]
          },
          "metadata": {
            "tags": [],
            "needs_background": "light"
          }
        },
        {
          "output_type": "stream",
          "text": [
            "Ridge Regression, alpha=1.0\n",
            "Test MAE: $127,524\n",
            "Test R2: 0.594\n"
          ],
          "name": "stdout"
        },
        {
          "output_type": "display_data",
          "data": {
            "image/png": "[encoded data removed]",
            "text/plain": [
              "<Figure size 720x216 with 1 Axes>"
            ]
          },
          "metadata": {
            "tags": [],
            "needs_background": "light"
          }
        },
        {
          "output_type": "stream",
          "text": [
            "Ridge Regression, alpha=1\n",
            "Test MAE: $127,524\n",
            "Test R2: 0.594\n"
          ],
          "name": "stdout"
        },
        {
          "output_type": "display_data",
          "data": {
            "image/png": "[encoded data removed]",
            "text/plain": [
              "<Figure size 720x216 with 1 Axes>"
            ]
          },
          "metadata": {
            "tags": [],
            "needs_background": "light"
          }
        },
        {
          "output_type": "stream",
          "text": [
            "Ridge Regression, alpha=100.0\n",
            "Test MAE: $211,820\n",
            "Test R2: 0.044\n"
          ],
          "name": "stdout"
        },
        {
          "output_type": "display_data",
          "data": {
            "image/png": "[encoded data removed]",
            "text/plain": [
              "<Figure size 720x216 with 1 Axes>"
            ]
          },
          "metadata": {
            "tags": [],
            "needs_background": "light"
          }
        },
        {
          "output_type": "stream",
          "text": [
            "Ridge Regression, alpha=1000.0\n",
            "Test MAE: $216,996\n",
            "Test R2: 0.002\n"
          ],
          "name": "stdout"
        },
        {
          "output_type": "display_data",
          "data": {
            "image/png": "[encoded data removed]",
            "text/plain": [
              "<Figure size 720x216 with 1 Axes>"
            ]
          },
          "metadata": {
            "tags": [],
            "needs_background": "light"
          }
        }
      ]
    },
    {
      "cell_type": "markdown",
      "metadata": {
        "id": "BOM1mtHsfJzT"
      },
      "source": [
        "### 다항함수에 Ridge 회귀를 적용해 보겠습니다.\n",
        "다수의 특성을 사용하는 다항함수에 Ridge 회귀를 사용하면 정규화 효과를 더 잘 확인할 수 있습니다."
      ]
    },
    {
      "cell_type": "code",
      "metadata": {
        "id": "C4rIXBahqTeK",
        "outputId": "6ec8ec06-edb8-4c17-a695-41bcdf5722f7",
        "colab": {
          "base_uri": "https://localhost:8080/"
        }
      },
      "source": [
        "!pip install -U scikit-learn"
      ],
      "execution_count": 48,
      "outputs": [
        {
          "output_type": "stream",
          "text": [
            "Requirement already up-to-date: scikit-learn in /usr/local/lib/python3.7/dist-packages (0.24.2)\n",
            "Requirement already satisfied, skipping upgrade: joblib>=0.11 in /usr/local/lib/python3.7/dist-packages (from scikit-learn) (1.0.1)\n",
            "Requirement already satisfied, skipping upgrade: threadpoolctl>=2.0.0 in /usr/local/lib/python3.7/dist-packages (from scikit-learn) (2.1.0)\n",
            "Requirement already satisfied, skipping upgrade: numpy>=1.13.3 in /usr/local/lib/python3.7/dist-packages (from scikit-learn) (1.19.5)\n",
            "Requirement already satisfied, skipping upgrade: scipy>=0.19.1 in /usr/local/lib/python3.7/dist-packages (from scikit-learn) (1.4.1)\n"
          ],
          "name": "stdout"
        }
      ]
    },
    {
      "cell_type": "code",
      "metadata": {
        "id": "H-T8C6GdfJzT",
        "outputId": "fe171114-0416-4a02-d269-1986d312a60a",
        "colab": {
          "base_uri": "https://localhost:8080/"
        }
      },
      "source": [
        "from sklearn.preprocessing import PolynomialFeatures\n",
        "from sklearn.pipeline import make_pipeline\n",
        "\n",
        "def RidgeRegression(degree=3, **kwargs):\n",
        "    return make_pipeline(PolynomialFeatures(degree), \n",
        "                         Ridge(**kwargs))\n",
        "\n",
        "\n",
        "for alpha in [0.001, 0.01, 0.0025, 0.05, 0.09, 0.12, 0.4, 1.0, 1, 5, 10, 100]:\n",
        "        \n",
        "    print(f'Ridge Regression, alpha={alpha}')\n",
        "\n",
        "    # Ridge 모델 학습\n",
        "    model = RidgeRegression(alpha=alpha, normalize=True)\n",
        "    model.fit(X_train, y_train)\n",
        "    y_pred = model.predict(X_test)\n",
        "\n",
        "    # MAE for test\n",
        "    mae = mean_absolute_error(y_test, y_pred)\n",
        "    r2 = r2_score(y_test, y_pred)\n",
        "    print(f'Test MAE: ${mae:,.0f}')\n",
        "    print(f'R2 Score: {r2:,.4f}\\n')\n",
        "\n",
        "coefs = model.named_steps[\"ridge\"].coef_\n",
        "print(f'Number of Features: {len(coefs)}')"
      ],
      "execution_count": 49,
      "outputs": [
        {
          "output_type": "stream",
          "text": [
            "Ridge Regression, alpha=0.001\n",
            "Test MAE: $115,090\n",
            "R2 Score: -0.5563\n",
            "\n",
            "Ridge Regression, alpha=0.01\n",
            "Test MAE: $112,684\n",
            "R2 Score: 0.5540\n",
            "\n",
            "Ridge Regression, alpha=0.0025\n",
            "Test MAE: $113,995\n",
            "R2 Score: 0.0050\n",
            "\n",
            "Ridge Regression, alpha=0.05\n",
            "Test MAE: $111,764\n",
            "R2 Score: 0.6929\n",
            "\n",
            "Ridge Regression, alpha=0.09\n",
            "Test MAE: $111,875\n",
            "R2 Score: 0.6943\n",
            "\n",
            "Ridge Regression, alpha=0.12\n",
            "Test MAE: $112,023\n",
            "R2 Score: 0.6936\n",
            "\n",
            "Ridge Regression, alpha=0.4\n",
            "Test MAE: $112,310\n",
            "R2 Score: 0.6928\n",
            "\n",
            "Ridge Regression, alpha=1.0\n",
            "Test MAE: $112,566\n",
            "R2 Score: 0.6914\n",
            "\n",
            "Ridge Regression, alpha=1\n",
            "Test MAE: $112,566\n",
            "R2 Score: 0.6914\n",
            "\n",
            "Ridge Regression, alpha=5\n",
            "Test MAE: $116,650\n",
            "R2 Score: 0.6680\n",
            "\n",
            "Ridge Regression, alpha=10\n",
            "Test MAE: $121,811\n",
            "R2 Score: 0.6442\n",
            "\n",
            "Ridge Regression, alpha=100\n",
            "Test MAE: $150,360\n",
            "R2 Score: 0.5087\n",
            "\n",
            "Number of Features: 1330\n"
          ],
          "name": "stdout"
        }
      ]
    },
    {
      "cell_type": "markdown",
      "metadata": {
        "id": "k5eDUMAnfJzT"
      },
      "source": [
        "### 자 이제 마지막으로 최종 모델을 만들어 보도록 하겠습니다.\n",
        "\n",
        "RidgeCV를 사용하여 최적의 alpha값을 찾아내어 모델 학습을 완료해 보겠습니다."
      ]
    },
    {
      "cell_type": "code",
      "metadata": {
        "id": "PHIFPceSfJzT",
        "outputId": "47e38484-fb6f-46d3-afb0-5792ce674256",
        "colab": {
          "base_uri": "https://localhost:8080/"
        }
      },
      "source": [
        "def RidgeCVRegression(degree=3, **kwargs):\n",
        "    return make_pipeline(PolynomialFeatures(degree), \n",
        "                         RidgeCV(**kwargs))\n",
        "\n",
        "# alphas = np.linspace(0.01, 0.5, num=20)\n",
        "alphas = np.arange(0.01, 0.2, 0.01)\n",
        "\n",
        "model = RidgeCVRegression(alphas=alphas, normalize=True, cv=5)\n",
        "model.fit(X_train, y_train)\n",
        "y_pred = model.predict(X_test)\n",
        "\n",
        "mae = mean_absolute_error(y_test, y_pred)\n",
        "r2 = r2_score(y_test, y_pred)\n",
        "print(f'Test MAE: ${mae:,.0f}')\n",
        "print(f'R2 Score: {r2:,.4f}\\n')\n",
        "\n",
        "coefs = model.named_steps[\"ridgecv\"].coef_\n",
        "print(f'Number of Features: {len(coefs)}')\n",
        "\n",
        "print(f'alpha: {model.named_steps[\"ridgecv\"].alpha_}')\n",
        "print(f'cv best score: {model.named_steps[\"ridgecv\"].best_score_}') # best score: R2"
      ],
      "execution_count": 50,
      "outputs": [
        {
          "output_type": "stream",
          "text": [
            "Test MAE: $111,705\n",
            "R2 Score: 0.6945\n",
            "\n",
            "Number of Features: 1330\n",
            "alpha: 0.06999999999999999\n",
            "cv best score: 0.7403019606698971\n"
          ],
          "name": "stdout"
        }
      ]
    },
    {
      "cell_type": "markdown",
      "metadata": {
        "id": "jvFvPkRvfJzU"
      },
      "source": [
        "패널티값을 0.07로 주었을 때 cv 점수는 높은데 실제 테스트데이터에서 R2 스코어는 낮게 나오고 있습니다"
      ]
    },
    {
      "cell_type": "markdown",
      "metadata": {
        "id": "KpdknC1EfJzU"
      },
      "source": [
        "#### 최종모델\n",
        "\n",
        "최종 모델을 만들기 위해서는 가지고 있는 데이터를 다 사용해 최적의 모델을 만들어야 합니다.\n",
        "\n",
        "지금 가지고 있는 테스트 데이터를 검증 데이터로 사용하려면 RidgeCV에 훈련 데이터로 함께 넣어 주어야 합니다.\n",
        "RidgeCV내에서 훈련 데이터를 훈련/검증 데이터로 나누어 최고 스코어를 가지는 alpha를 찾아 줄 것입니다."
      ]
    },
    {
      "cell_type": "code",
      "metadata": {
        "id": "ut3ed3j_fJzU"
      },
      "source": [
        "X_total = pd.concat([X_train, X_test])\n",
        "y_total = pd.concat([y_train, y_test])"
      ],
      "execution_count": 51,
      "outputs": []
    },
    {
      "cell_type": "code",
      "metadata": {
        "id": "H4kNxkdAfJzV",
        "outputId": "48903a9d-994f-4867-c764-bbab4a8608dd",
        "colab": {
          "base_uri": "https://localhost:8080/"
        }
      },
      "source": [
        "# 모든 데이터를 사용해 최종 모델을 만듭니다.\n",
        "model = RidgeCVRegression(alphas=alphas, normalize=True, cv=5)\n",
        "model.fit(X_total, y_total)\n",
        "\n",
        "coefs = model.named_steps[\"ridgecv\"].coef_\n",
        "print(f'Number of Features: {len(coefs)}')\n",
        "\n",
        "print(f'alpha: {model.named_steps[\"ridgecv\"].alpha_}')\n",
        "print(f'cv best score: {model.named_steps[\"ridgecv\"].best_score_}')"
      ],
      "execution_count": 52,
      "outputs": [
        {
          "output_type": "stream",
          "text": [
            "Number of Features: 1330\n",
            "alpha: 0.19\n",
            "cv best score: 0.7255485997685615\n"
          ],
          "name": "stdout"
        }
      ]
    },
    {
      "cell_type": "code",
      "metadata": {
        "id": "vEEQnr5gfJzV",
        "outputId": "a6da19ac-9880-4cf1-9f9b-ad27de6a6c79",
        "colab": {
          "base_uri": "https://localhost:8080/"
        }
      },
      "source": [
        "coefs.max(), coefs.mean()"
      ],
      "execution_count": 53,
      "outputs": [
        {
          "output_type": "execute_result",
          "data": {
            "text/plain": [
              "(70325.16065759669, 42.11577261642587)"
            ]
          },
          "metadata": {
            "tags": []
          },
          "execution_count": 53
        }
      ]
    },
    {
      "cell_type": "code",
      "metadata": {
        "id": "In6quPJKfJzV"
      },
      "source": [
        "# 회귀계수들을 정렬합니다.\n",
        "coefs.sort()"
      ],
      "execution_count": 54,
      "outputs": []
    },
    {
      "cell_type": "code",
      "metadata": {
        "id": "LBK8iKfqfJzV",
        "outputId": "fbea4dc1-94f7-4189-9aa6-9b9e7249e557",
        "colab": {
          "base_uri": "https://localhost:8080/"
        }
      },
      "source": [
        "coefs"
      ],
      "execution_count": 55,
      "outputs": [
        {
          "output_type": "execute_result",
          "data": {
            "text/plain": [
              "array([-17325.27799422,  -1175.83656738,   -919.34030661, ...,\n",
              "          715.54010685,    719.44854755,  70325.1606576 ])"
            ]
          },
          "metadata": {
            "tags": []
          },
          "execution_count": 55
        }
      ]
    },
    {
      "cell_type": "markdown",
      "metadata": {
        "id": "jEPPPcA7fJzW"
      },
      "source": [
        "#### 회귀계수를 그래프로 그려보겠습니다.\n",
        "몇몇 중요한 특성들만 회귀계수가 크고 대부분 0 근처에 있음을 볼 수 있습니다."
      ]
    },
    {
      "cell_type": "code",
      "metadata": {
        "id": "beThUy_VfJzW",
        "outputId": "cd06364e-4ef3-49ef-a162-fbfa0e27f1da",
        "colab": {
          "base_uri": "https://localhost:8080/",
          "height": 282
        }
      },
      "source": [
        "plt.plot(coefs)"
      ],
      "execution_count": 56,
      "outputs": [
        {
          "output_type": "execute_result",
          "data": {
            "text/plain": [
              "[<matplotlib.lines.Line2D at 0x7f0be9cd7d10>]"
            ]
          },
          "metadata": {
            "tags": []
          },
          "execution_count": 56
        },
        {
          "output_type": "display_data",
          "data": {
            "image/png": "[encoded data removed]",
            "text/plain": [
              "<Figure size 432x288 with 1 Axes>"
            ]
          },
          "metadata": {
            "tags": [],
            "needs_background": "light"
          }
        }
      ]
    },
    {
      "cell_type": "markdown",
      "metadata": {
        "id": "7ga4BXaFfJzW"
      },
      "source": [
        "Ridge 회귀는 정규화를 통해 특이값으로 인한 과도한 기울기를 보정해줍니다. 또한 영향력이 낮은 특성의 회귀계수의 값을 감소시켜 특징선택 효과를 가져옵니다."
      ]
    },
    {
      "cell_type": "markdown",
      "metadata": {
        "id": "KHlOPo_bfJzX"
      },
      "source": [
        "## 참고자료\n",
        "\n",
        "- [one-hot-encoding](https://www.kaggle.com/dansbecker/using-categorical-data-with-one-hot-encoding)\n",
        "\n",
        "### 특성공학\n",
        "- [A Few Useful Things to Know about Machine Learning](https://homes.cs.washington.edu/~pedrod/papers/cacm12.pdf)\n",
        "- [Machine Learning and AI via Brain simulations](https://forum.stanford.edu/events/2011/2011slides/plenary/2011plenaryNg.pdf) \n",
        "- [Sklearn's User Guide for Feature Selection](https://scikit-learn.org/stable/modules/feature_selection.html)\n",
        "\n",
        "### Ridge regression\n",
        "- [Sklearn Ridge](https://scikit-learn.org/stable/modules/generated/sklearn.linear_model.Ridge.html#sklearn-linear-model-ridge)\n",
        "- [Sklearn RidgeCV](https://scikit-learn.org/stable/modules/generated/sklearn.linear_model.RidgeCV.html#sklearn-linear-model-ridgecv)\n",
        "- [Modern regression 1: Ridge regression](http://www.stat.cmu.edu/~ryantibs/datamining/lectures/16-modr1.pdf)\n",
        "- [Regularization: Ridge Regression and the LASSO](https://statweb.stanford.edu/~tibs/sta305files/Rudyregularization.pdf)\n",
        "\n",
        "\n",
        "\n"
      ]
    }
  ]
}