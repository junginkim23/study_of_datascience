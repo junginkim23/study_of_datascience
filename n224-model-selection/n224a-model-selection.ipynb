{
  "nbformat": 4,
  "nbformat_minor": 0,
  "metadata": {
    "kernelspec": {
      "display_name": "Python 3",
      "language": "python",
      "name": "python3"
    },
    "language_info": {
      "codemirror_mode": {
        "name": "ipython",
        "version": 3
      },
      "file_extension": ".py",
      "mimetype": "text/x-python",
      "name": "python",
      "nbconvert_exporter": "python",
      "pygments_lexer": "ipython3",
      "version": "3.7.7"
    },
    "colab": {
      "name": "n224a-model-selection.ipynb",
      "provenance": []
    },
    "accelerator": "GPU",
    "widgets": {
      "application/vnd.jupyter.widget-state+json": {
        "53a5dceb97d74ccf9ba9892dcd5cd5ef": {
          "model_module": "@jupyter-widgets/controls",
          "model_name": "VBoxModel",
          "state": {
            "_view_name": "VBoxView",
            "_dom_classes": [
              "widget-interact"
            ],
            "_model_name": "VBoxModel",
            "_view_module": "@jupyter-widgets/controls",
            "_model_module_version": "1.5.0",
            "_view_count": null,
            "_view_module_version": "1.5.0",
            "box_style": "",
            "layout": "IPY_MODEL_b1d5eae6056a4fd0a11fca78083b5406",
            "_model_module": "@jupyter-widgets/controls",
            "children": [
              "IPY_MODEL_bfb24a0a337744e08492ca11a0e5b8ce",
              "IPY_MODEL_3f5b4b58b5f846d4b5faa36b781e287e"
            ]
          }
        },
        "b1d5eae6056a4fd0a11fca78083b5406": {
          "model_module": "@jupyter-widgets/base",
          "model_name": "LayoutModel",
          "state": {
            "_view_name": "LayoutView",
            "grid_template_rows": null,
            "right": null,
            "justify_content": null,
            "_view_module": "@jupyter-widgets/base",
            "overflow": null,
            "_model_module_version": "1.2.0",
            "_view_count": null,
            "flex_flow": null,
            "width": null,
            "min_width": null,
            "border": null,
            "align_items": null,
            "bottom": null,
            "_model_module": "@jupyter-widgets/base",
            "top": null,
            "grid_column": null,
            "overflow_y": null,
            "overflow_x": null,
            "grid_auto_flow": null,
            "grid_area": null,
            "grid_template_columns": null,
            "flex": null,
            "_model_name": "LayoutModel",
            "justify_items": null,
            "grid_row": null,
            "max_height": null,
            "align_content": null,
            "visibility": null,
            "align_self": null,
            "height": null,
            "min_height": null,
            "padding": null,
            "grid_auto_rows": null,
            "grid_gap": null,
            "max_width": null,
            "order": null,
            "_view_module_version": "1.2.0",
            "grid_template_areas": null,
            "object_position": null,
            "object_fit": null,
            "grid_auto_columns": null,
            "margin": null,
            "display": null,
            "left": null
          }
        },
        "bfb24a0a337744e08492ca11a0e5b8ce": {
          "model_module": "@jupyter-widgets/controls",
          "model_name": "FloatSliderModel",
          "state": {
            "_view_name": "FloatSliderView",
            "style": "IPY_MODEL_ad329be5161f43a9bfcdfe082bcc53e7",
            "_dom_classes": [],
            "description": "threshold",
            "step": 0.01,
            "_model_name": "FloatSliderModel",
            "orientation": "horizontal",
            "max": 1,
            "_view_module": "@jupyter-widgets/controls",
            "_model_module_version": "1.5.0",
            "value": 0.5,
            "_view_count": null,
            "disabled": false,
            "_view_module_version": "1.5.0",
            "min": 0,
            "continuous_update": true,
            "readout_format": ".2f",
            "description_tooltip": null,
            "readout": true,
            "_model_module": "@jupyter-widgets/controls",
            "layout": "IPY_MODEL_72c1743187a845dd9e7ef0827c6cd64e"
          }
        },
        "3f5b4b58b5f846d4b5faa36b781e287e": {
          "model_module": "@jupyter-widgets/output",
          "model_name": "OutputModel",
          "state": {
            "_view_name": "OutputView",
            "msg_id": "",
            "_dom_classes": [],
            "_model_name": "OutputModel",
            "outputs": [
              {
                "output_type": "display_data",
                "metadata": {
                  "tags": [],
                  "needs_background": "light"
                },
                "image/png": "iVBORw0KGgoAAAANSUhEUgAAAYUAAAEICAYAAACwDehOAAAABHNCSVQICAgIfAhkiAAAAAlwSFlzAAALEgAACxIB0t1+/AAAADh0RVh0U29mdHdhcmUAbWF0cGxvdGxpYiB2ZXJzaW9uMy4yLjIsIGh0dHA6Ly9tYXRwbG90bGliLm9yZy+WH4yJAAAgAElEQVR4nO3dd5xU1fn48c8zs32X3WUL2wu9SAcBsWssKIpGY42i0RATNeZrvibGJCaaxMTvLxpTTVATscUaG1YsqERBFhCklwW2wBbYwja2nt8fc3cdYMvs7tyZ2Z3n/Xrd18ztz92Beeaec+45YoxBKaWUAnD4OwCllFKBQ5OCUkqpDpoUlFJKddCkoJRSqoMmBaWUUh00KSillOqgSUF5lYikiMjHIlIjIg/4Ox6lVO9oUlAAiMjnIjJGREaIyNp+HGoRcACINcb8sJPzPC4iv+7H8fult+cXkTAReVFE9oiIEZHT+njeO0Rko5Usd4vIHZ1sc5u1rk5EtojIGLd1t1rrDolInoic1Jtj9xDbVSKy1zrvKyKS0IfrWy4ih0Wk1pq2ua27y215rYg0iEibiCQddYwEESkXkRVHLb9RRHZa+74tIum9jU95TpOCQkRCgRxgBzAD6E9SyAE2G5ueihSREDuO24MVwDeBkn4cQ4BrgaHAucAtInJFx0qRG4EbgPOBGGA+ruSKiMwGfgdcCsQBjwEvi4jTk2N3G5TIccA/gGuAFKAe+Fsfr/EWY0yMNY1tX2iMuc9teQxwP7DcGHPgqP3vB7YcFd9pwH3AAiAB2A38u4/xKU8YY3QK8gmYBnxovb8f+F4P288FVgPV1utca/njQDPQBNQCXztqv0VHrX/dWn4nsAuoATYDF7vtcx3wX+APwEHg10Ai8DpwyDr/r4EVbvuMA5YBFcA24LLuzt+Lv1MRcJqX/uZ/Av5svXcAhcCZXWx7OfC523w0YIC0no7tQRz3Ac+4zY+0/j5Denk9y4EbPdhOgHxgYSf/pj4Drj/qs/w98Fe3+XTr2kf66//LYJ/8HoBOfvzwXf8Bq3D9OjxsvW+xvpyrgOGd7JMAVOL6ZRkCXGnNJ1rrHwd+3c05j1kPfMP6z+6wvgDr2r/wrKTQAtxqnS8SeNaaooAJ1hfqCmv7aGv+emv7abh+cU/wJL4e/l7HJAVcCa2qq6mL4wiwDrjJms+2vuhus2LfDdwDOKz1scAaYDbgtP4W6wDp6dgeXNOrwI+PWlYLzLDeL+3m+pa67bMcKLf+1v89+u/ktt0p1vFj3JY5cd2dzrA+76OTwt/c5jOsv9UCf///GayTFh8FMWPMv4wx8bi+cOYAk4GNuOoD4o0xuzvZ7XxghzHmSWNMizHm38BW4IJ+xPGCMWafMabNGPMcrmKsWW6b7DPG/NkY04LrV+wlwC+MMfXGmM3AErdt5wN7rGtrMcasA17ClXi8zhjzO+tv1enUxW6/xJUA/2XNZ1qvZwOTgNNxJdsbrOU11jWsABqBXwCLjPUt2cOxexKD647PXTUwxLq++d1c33y3fX4MjMD1pb0YeF1ERnZyvoXAi8aYWrdl3wdWGWPWdLL928BlIjJZRCKBu3ElhSgPr0/1kiaFIGVV6lWJSDWuW/fluIpaxgKVIvKDLnZNB/YetWwvri+DvsZyrYh8YcVTBUwE3CshC93eJ+O6AyjsYn0OMLv9WNbxrgZS+xqfN4nILbjK/883xjRaixus1/8zxlQZY/bgKuc/z1p+A647n+OAMFz1G0uPrnDt4tg9qcV1J+IuFlci8pgxZpUxpsYY02iMWYLrbuE8921EJApXcl7itiwdV1L4aRfHfQ9XEnwJ2GNNNbju2pQNNCkEKWNMhfVL9jvAo9b7t4ELrF+BD3Wx6z5cX7zusoFiT0/tPiMiOcAjwC24iqDicd2tSBf7lOMqTsp0W5bl9r4Q+OioX7Qxxpjvdnb+/uqkZc0R01HbfgtXcdOZxhj3L7VtuO6A3GNzfz8VV1HNdutu6m1gP65k3tOxe7IJmOJ2nBFAOLDdmn+rm+t7q5vjGo78DAEuxlXPs9xt2SwgDdgsIiXAH4FZIlLSXpFujPmrMWa0MSYFV3IIwfVvRNlAk4Jyb200DVdRUnfeBMZYzRhDRORyXOX6Sz08XymuYoZ27ZWm5QAicj2uO4VOGWNagf8AvxSRKBEZh+vXcbulVnzXiEioNR0vIuO7OH97M9XHuzqniISLSIQ1GyYiESIiVjxHtKw5enI7xtW4KnXPMsbkH3VN9cBzwI9EZIiIZOKqFG//m64GzhdXc2ERkbOAMVhfjN0d21q/XER+2cXlPQ1cICIni0g0cC/wH2NMjRXbvG6ub551/HgROcf6u4RY8ZyC60eGu4XAE0cVe70F5OJKfFNxFQ+tA6YaY1qtY060rjsbV9HUH40xlV1cj+ovf1dq6OTfCfgAOB5Xi55dHu5zEq7kUW29nuS27nG6r2geDXyBq6LyFWvZb3D9gjwAPAh8hNWShaMqHq1lycAbfNX66H7gfbf1Y6315bhaLH2A60umq/O/D3y7m5j34Epc7lNuL//Ou3G1fKp1m/7utj4WV+V5Da67nbuxKpJx/eK+Fyiw1m8BrunFsXfhShhdxXaVdew6XBXPCb28tmTrc2hvoLDy6PPhKl5sAUb1cKwjPm8gHthgxVYC/BZw+vv/zWCe2v/RKTVgicj9QKoxZmEf9g0D1gOTjTHNXg/Oz6y7jueNMXN73Fgp0KSgBh6ryCgM+BLXXc6buO4sXvFrYEoNAv54OlSp/hqC66nWdFx1BA/gKvZQSvWT3ikopZTqoK2PlFJKdRjQxUdJSUkmNzfX32GowWyb1dnn2LHdb6fUALJmzZoDxpjkztYN6KSQm5tLXl6ev8NQg9lpp7lely/3ZxRKeZWIHN0rQQctPlJKKdXBtqQgImOt/mzap0Mi8gOrz51lIrLDeh1qbS8i8idrMI0NIjLdrtiUUkp1zrakYIzZZoyZaoyZiqsrhXrgZVz9s7xvjBmN60nSO61d5uF62nQ0rkf8H7YrNqWUUp3zVfHRmbi6UNiLawSl9l4SlwAXWe8XYPWLYoxZCcSLSJqP4lNKKYXvksIVfDWEXooxZr/1vgTXEIDg6hvFvQvkIjrpjllEFolrjNq88vJyu+JVSqmgZHtSsPqWuRB44eh1xvXkXK+enjPGLDbGzDTGzExO7rRFlVJKqT7yxZ3CPGCtMabUmi9tLxayXsus5cUc2S9+Jp730a+UUsoLfJEUruSroiOA13D1q471+qrb8mutVkhzgGq3YiallFI+YOvDa9agHWfhGt2r3e+A50XkBlzDOF5mLX8T1/B9O3G1VLreztiUUkody9akYIypwzV4i/uyg7haIx29rQFutjMeZZ+s7ByKCgs82jYzK5vCgi4fqFRK+dGA7uZCBY6iwgIefHebR9vefrb2I6RUoNJuLpRSSnXQpKCUUqqDJgWllFIdNCkopZTqoElBKaVUB00KSimlOmhSUEop1UGTglJKqQ6aFJRSSnXQpKCUUqqDJgWllFIdNCkopZTqoElBKaVUB00KSimlOmhSUEop1UGTglJKqQ6aFJRSSnXQpKCUUqqDJgWllFIdNCkopZTqYGtSEJF4EXlRRLaKyBYROUFEEkRkmYjssF6HWtuKiPxJRHaKyAYRmW5nbEoppY5l953CH4G3jTHjgCnAFuBO4H1jzGjgfWseYB4w2poWAQ/bHJtSqgtZ2TmISI9TVnaOv0NVXhZi14FFJA44BbgOwBjTBDSJyALgNGuzJcBy4MfAAuAJY4wBVlp3GWnGmP12xaiU6lxRYQEPvrutx+1uP3usD6JRvmTnncJwoBz4l4isE5FHRSQaSHH7oi8BUqz3GUCh2/5F1rIjiMgiEckTkbzy8nIbw1dKqeBjZ1IIAaYDDxtjpgF1fFVUBIB1V2B6c1BjzGJjzExjzMzk5GSvBauUUsrepFAEFBljVlnzL+JKEqUikgZgvZZZ64uBLLf9M61lSimlfMS2pGCMKQEKRaS90PFMYDPwGrDQWrYQeNV6/xpwrdUKaQ5QrfUJSinlW7ZVNFtuBZ4WkTAgH7geVyJ6XkRuAPYCl1nbvgmcB+wE6q1tlVJK+ZCtScEY8wUws5NVZ3ayrQFutjMepZRS3dMnmpVSSnXQpKCUUqqDJgXVLU+fbFVKDQ52VzSrAW6wPdmalZ1DUWGBR9tmZmVTOGK4zREpFVg0Kaig4mmSAyvRaVJQQUaLj5RSSnXQpKCUUqqDJgWllFIdNCkopZTqoBXNql+aW9uoa2whJD4VY4w2T1VqgNOkoPqkqaWNvL0VrC+spqm1jYzvPMrTqwqYkTOU8Wmx/g5PKdVHWnykeq2+qYWX1haxek8l2YlRnDUhhYplf8fpEN7dXMp7W0ppbevVMBlKqQChSUH1SlNLGy+tLeZgXRMXTknn/ElpTEiLpWbtUi4/Povjc4eyad8h3t9SiquPQ6XUQKLFR8pjxhg+3FZGZV0TF03LIDsh6oj1DhHmjkzCKcLK3RXERYYye0Sin6JVSvWF3ikoj20vrWVrSQ2zhycckxDczRqewLjUIazaXcH+6gYfRqiU6i9NCsojza1tfLKznJTYcI4fntDttiLCaWOTiYkI4d3NpTS3tvkoSqVUf2lSUB7J21tJXWMrp4xOxuFBs9PwECdfG59CVX0za/ZW+iBCpZQ3aFJQPapvamHt3krGDIshPT7S4/2yE6IYPSyGNXsrqT3cYmOESilv0aSgerS+sJqWNtOnSuMTRyVhDHyaf8CGyJRS3qZJQXVLwiJZX1TFyORoEqLDer1/XGQoU7Li2Lq/hsr6JhsiVEp5kyYF1a2YyWfT2NLGzJzuK5e7Mz17KE6HsHp3hRcjU0rZwdakICJ7RORLEflCRPKsZQkiskxEdlivQ63lIiJ/EpGdIrJBRKbbGZvqmTGGIdPOIy0ugtS4iD4fJzo8hEkZcWwtraFK7xaUCmi+uFM43Rgz1Rgz05q/E3jfGDMaeN+aB5gHjLamRcDDPohNdeOzXQcJTchgUkZcv481I2coDoR1hVVeiEwpZRd/FB8tAJZY75cAF7ktf8K4rATiRSTND/Edw9PB67Oyc/wdqlc9/XkBrQ2HGD0spt/Hig4PYUxqDFv2H0LCo70QnVLKDnZ3c2GAd0XEAP8wxiwGUowx+631JUCK9T4DKHTbt8hath8/G2yD13viYG0j724qoW7jB4TMn+GVY07NimfL/hpiJp/tleMppbzP7juFk4wx03EVDd0sIqe4rzSuHtN61WuaiCwSkTwRySsvL/diqMrd0g37aW411G5Y5rVjDhsSQUZ8JLEz5tOiTzkrFZBsTQrGmGLrtQx4GZgFlLYXC1mvZdbmxUCW2+6Z1rKjj7nYGDPTGDMzOTnZzvCD2n/WFTM+LZbmA3u9etypWfGExKXw3pZSrx5XKeUdtiUFEYkWkSHt74GzgY3Aa8BCa7OFwKvW+9eAa61WSHOAardiJuVD+eW1rC+s4uJp6V4/9ojkaFqqSvjnij1eP7ZSqv/svFNIAVaIyHrgc+ANY8zbwO+As0RkB/A1ax7gTSAf2Ak8AnzPxthUN175Yh8isGBqhteP7RDh0NqlfL6ngo3F1V4/vlKqf2yraDbG5ANTOll+EDizk+UGuNmueJRnjDEs3bCPOcMTSYnt+7MJ3ald/y4Z53yHJz/by/2XTrblHEqpvtEnmtURtpXWkF9ex/mT7WsNbJrquXBKOq+t38ehw822nUcp1XuaFNQR3tiwH4fAuRNTbT3P1XOyaWhu5ZV1x7QlUEr5kSYF1cEYwxtf7mf28ESSYsJtPdfkzHgmZcTx9MoCHctZqQCiSSEIdfWEdviw4eSX17H04Xs7ltnpqtnZbCutYW2BDsKjVKCw+4lmFYC6ekL7890VfJZ/kB/96vfEhD8E2PuU9oVT0vnNG1t4emUBM/rRC6tSynv0TkF12FVeS2psBDHhvvmtEB0ewsXTMlj65X4q67T3VKUCgSYFBUDN4WbKahoZkezbzuqump1NU0sbL60t8ul5lVKd06SgAMg/UAfAyOT+94jaG+PTYpmeHc8zq7TCWalAoElBAZBfXkd8VChDo0J9fu6rZ+eQf6COz/IP+vzc3RIHyz/6iOUffRRUXaar4KYVzYrG5laKKuuZlj3U9hZHnTl/chr3Lt3MM6sKmDsyyefn75JpY+TkWQA8+Psnu9xsMHWZrpTeKSj2HKynzcCIJP8MfhMR6uSS6Zm8s6mE8ppGv8SglHIJ2qTg6Whq/vjl7Gv55bVEhTn7NQ5zf101O5vmVsMLawp73lgpZZugLT7ydDQ1GNzFAy1tbew5WM+YlBgcfkyAo4bFMHt4Av/+vICbThmJwzH4k7FSgSho7xSUS3FlA02tbYzwcaujzlw9J4fCigY+2XnA36EoFbQ0KQS5XeV1hDqFrKGR/g6Fc45LITE6jKdXene0N6WU5zQpBDFjDLsP1JGdEEWI0///FMJDnFw6M5P3t5ZRUn3Y3+EoFZT8/02g/KasppHaxhafP7DWnatmZdPaZnhutVY4K+UPmhSCWH55HQLk+qkpamdyEqM5eXQSz64uoKW1zd/hKBV0grb1kYJdB2pJj48kMtTp71COcM2cHBY9uYa3N5Uwf3K67ecrqqxnbUEVew/WISJkxEcyZ4T22qqCk94pBKnqhmYO1jb5vAM8T5w5PoXcxCge+WS3rf0htRnDp7sO8NLaYkoPHWZyhmvgn/KaRp7PKyJmyjm2nVupQKVJIUjll9cC/nuKuTtOh3DDScNZX1jFmr32DMBjjOG9zaWs3lPJcemxXD83l1PHJnPqmGSum5tLbmIUiefeSn1Tiy3nVypQaVIIUvkH6kiMDiM+KszfoXTq0hlZDI0K5eHlu2w5/ic7D7ClpIbZwxP42viUI1pfhYU4OH9SGof3bqCqvpnWNq3bUMHD9qQgIk4RWSciS6354SKySkR2ishzIhJmLQ+35nda63Ptji1YOSJiKK5qCMiio3aRYU6+deJw3t9axsbiaq8ee8v+Q6wrqGJKZhyzh3dedxDidHDgjQcBqKxr1m69VdDwxZ3CbcAWt/n7gT8YY0YBlcAN1vIbgEpr+R+s7ZQNIkfMxBgYkRQ4TVE7s/DEXIZEhPCXD3Z67ZihSdl8sLWMjPhIThmd3G3fVq01B4iLDKWxpZXtpbVei0GpQGZrUhCRTOB84FFrXoAzgBetTZYAF1nvF1jzWOvPlGDojc4PIkfPITrMSUpsuL9D6VZsRCjXnzictzeVeOVuoa6xhaQFdxLqdDBvYqpH/StFhzsJcTpYtfsgbXq3oIKAR0lBRE70ZFknHgJ+BLQXyiYCVcaY9tq7IiDDep8BFAJY66ut7Y8+7yIRyRORvPLyck/Ct01jSyvrCir5cFsZH20vJyJ7Mm1tgf3F0djSSuTw6QxPih4QPcDeePJwEqLDuO/NLf0qwjHG8LNXNhKamMm8ialEezwOtRAbEUJlfTPbS2v6fH6lBgpP7xT+7OGyDiIyHygzxqzpdVTdMMYsNsbMNMbMTE5O9uahe2VHaQ1LPt3LxzsOsK2khi+Lq0m58j6uWLySwop6v8XVk093HcQRHhUQHeB5IjYilNvOHM2nuw7y4bayPh/n6VUFvLyumOoVz5CVENWrfSPDnCTFhJG3p1LrFtSg121SEJETROSHQLKI3O42/RLo6YmnE4ELRWQP8CyuYqM/AvEi0v4zLRMott4XA1nWeUOAOCDAxmd02VpyiLc2lhAXGcoVx2dx06kj+c4pIzj49p/Zsv8Q5/3pEzYUVfk7zE4t21xKW1ODfzvAE4dH41i0D3N51exsRiRFc8/rm2loau316TYUVXHv65s5dUwy1Z8+15eAmZY1lIN1TRRXNfRhf6UGjp7uocOAGGu7IW7LDwGXdrejMeYnwE8AROQ04H+NMVeLyAvWvs8CC4FXrV1es+Y/s9Z/YALwZ9m+qgbe3VxKenwkC6amE2o1ZQx1Oqhd/w5vfvAfrnxkJd98dBX/XjSH49Lj/BzxV1pa23h3UwkN+WsIcU72XyCmzaOxLNrHsQh1OvjNxZO48pGV/OG97dx13niPT1VV38R3n1pL8pBwHrp8Kk/c0Ld/UmNSYvhkRznrC6vJHNq7Ow2lBpJu7xSMMR8ZY+4B5hhj7nGbHjTG7OjjOX8M3C4iO3HVGTxmLX8MSLSW3w7c2cfj26altY1lW0qJCQ/hgilpHQnBXVZCFP/+9hyiw0NY9MQaKuqa/BBp51btruBAbRP1Wz72dyi9dsLIRK6clc2jn+Tz6S7PxltobTP8z3NfUFZzmL9ePZ2h0X1/JiPE6eC4jDh2Hail5nBzn4+jVKDztE4hXEQWi8i7IvJB++TpSYwxy40x8633+caYWcaYUcaYbxhjGq3lh635Udb6/D5cj61W7q6gqr6Zr41PITyk69KzrIQo/v7NGZTXNHLbs+sCpvL59fX7iA5z0pCf5+9Q+uSn549nRHIMNz+9tsd6G2MMP335Sz7cVs7d8ycwNSu+3+eflBGHMbBlv1Y4q8HL06TwArAO+Blwh9sUNGobW/iisIrxqUPI9qCickpWPL+88Dg+2XGAJZ/tsT2+njS1tPHWxhLOPi4V0xI4dy+9ERMewuJrZtDSZrjmsVVdJobm1jZ++spGnl1dyC2nj+KaE3K9cv64yFAy4iPZUnJIK5zVoOVpUmgxxjxsjPncGLOmfbI1sgCTt6cCYwyzRxzTSrZLV87K4vSxydz/9taOvob8ZcXOcqobmpk/Oc2vcfTXiOQYHr/+eCrqmrjk4U95e2PJEV/Qm/cd4qpHVvLMqgK+e9pIfnj2GK+ef3zaEKrqmyk5pIMAqcHJ06Twuoh8T0TSRCShfbI1sgDijElg475DjE+LJS4y1OP9RITfXTKZMKeDu17+0q+/Lpeu309sRAgnj/ZfM15vmZGTwIvfnUtcZCg3PbWG03+/nO88mceFf1nBeX/6hK37a/jjFVP58bnjvP4sxqhhMYQ4RIuQ1KDl6RM8C61X9yIjA4zwbjiBKWbKubS2GY7P7SEPWk0tj9l/6jwOnXMzMced1lHJm5mVTWGBb8YiPtzcyrubSzl/UhphIYOjD8QxKUN467aTeXFNEe9vLWNHWS3pcZHcftYYFp6QS1yU58m7N8JDnIxIjmZHWQ2njknG6cFT0UoNJB4lBWPMcLsDCVStbYaYKeeQkxjV811CF00t24xreMnob/yEa+f8g7AQR0dzS19Yvq2M2sYWLphi/4A1vhTidHDFrGyumJXt0/OOSRnC9tJaiirryUkM3E4FleoLj5KCiFzb2XJjzBPeDSfw7D5QR8iQRCZn9P15A4cIp48dxnN5hazafdDnRTivr99PYnSYjibmJTkJUYQ6hR1ltZoU1KDjaVnC8W7TycAvgQttiimgbCyupuVQWb/HMU6Ni+C49Fi+KKziYG2jl6LrWWVdE8s2l3LBlPQjxgxQfRfidDA8KZpd5bW0BkhzY6W8xdPio1vd50UkHtcTyYNaXWMLBRX11G38EMfFnvT/1725IxPZWVbL8u2+68jvlS+KaWpt47KZWT47ZzAYPeyrIiSlBpO+/nSsAwZ9PcPOsloMUOelJ4CjwkI4YWQiRZUNRI3tf5LpibHqMiZnxjEhPdb283mdh30kufeT5Cu5ia4ipJ1lOs6CGlw8rVN4HVdrI3B1hDceeN6uoALFttIaEqPD2HvAe62EJmXEsan4EC1n3Eh9UwtRYZ42AOu99UXVbC2p4TcXT7TtHLbysI8kwKcV9+BehFQHosVyavDw9F/z74EHrOk+4BRjTMD1TeRNhw43s7/6MGNSh/S8cS84RDhtbDIhscn89UPvjSjWmSWf7iE6zMmFg6zVUaAYPWwIDc2tRGRP8ncoKsBlZecE5B1vZzytU/hIRFJwVTQD9LUzvAFjl1UsMGaY98cdSI+PpHbjBzzidPCNGVn9rsTuTNmhwyzdsI+rZ+cwJMKeNvvBrr0IKWrcSf4ORQW4osKCXvUM7E+ejrx2GfA58A3gMmCViHTbdfZAl3+gjsToMOKj+t6zZneqlv+LsBAH9y7dbMvxn1q5l5Y2w3Vzc205vrKKkBKjiRp9grZCUoOGp8VHPwWON8YsNMZcC8wCfm5fWP51uLmV4qoGhtvwC75da10lt505mg+2lvH+llKvHruusYWnVhVw5rhhttyFqK+MGhaDMzqez3dX+DsUpbzC06TgMMa4j4V4sBf7Djh7DtZhDIxItvcL9boTcxk1LIZ7Xt/M4ebejyjWlSc+20tFXRPfO32U146pOpebFE1b82He2rjf36Eo5RWefrG/LSLviMh1InId8Abwpn1h+dfu8jqiwpykxkbYep5Qp4N7LjyOgop6HnrPO9U0dY0tLP54F6eOSWZ69lCvHFN1LdTpoCF/DW9vLAmYcTOU6o+exmgeJSInGmPuAP4BTLamz4DFPojP59qMYW9FPbmJ0V7vYbMzJ45K4orjs1j88S7WFVT2+3iPfJJPZX0zt31ttBeiU56o3/YpZTWNrPXC5xfoWlrbdCyJQa6n1kcPYY2zbIz5D/AfABGZZK27wNbo/KC8ppHGljaPBtLxlrvOH8/H28u5/fn1vH7rScSE9+3ZhcKKeh5evov5k9P0LsGHGnZ9TpjTwVsbS5jZU0+6A1BjSyt5eyrZWlJDbWMLUWFORiRFM6cXY4uogaOn4qMUY8yXRy+0luXaEpGfFVijeWUOjfTZOWMjQnnw8qnsPVjHz/o47oIxhnuXbsYhwk/P93xge9V/pqmBk0cnHTPgz2BwsLaRp1YWkLe3kpTYcGYPTyAzPpItJTU8tWovEcOn+ztE5WU9JYXuBrb13bemDxVW1JMUE0Z0H3+t99WcEYn84GtjeOWLffzrv3t6vf8LeUUs21zKD742mrS4QfnRBLRzJ6ZSXNXAhqJqf4fiNQdqG3lpbTHGGC6fmcX8yenMGZHIvElpXHl8FjHhIQz7+s9YseOAv0NVXtRTUsgTkW8fvVBEbgQG3XCcLa1t7Ks+TJYPi47c3Xz6KM45LoVfvbGZtzeWeLzf9tIa7n5tIyeOSuTGk4Ni3LqMk98AABpHSURBVKOAc9aEFEIcwpuDpBWShEWxdMN+HA64ZEYmqXFHNrpIjAnnkumZNFcU8+0n8thRqiPRDRY9JYUfANeLyHIRecCaPgJuAG7rbkcRiRCRz0VkvYhsEpF7rOXDRWSViOwUkedEJMxaHm7N77TW5/b/8npnX/VhWtsM2UP9kxScDuGhy6cxNSueW/+9lqUb9vW4T8HBeq55bBUx4aH84bKpOhKYn8RHhXHCyMRBUYRkjCHx3Fs4dLiZ8yamMbSLBzgjQp2UPX83UWFObv33Oq82q1b+021SMMaUGmPmAvcAe6zpHmPMCcaYnn7KNgJnGGOmAFOBc0VkDnA/8AdjzCigEleCwXqttJb/wdrOpwoq6nGIqxsKf4kMc/L49bOsxLCOh97bTnNrW6fbri2o5IrFn9HY0sZTN85imM1NaFX3zpuUxt6D9Wzef8jfofTLO5tKiR5/CnNGJPb4f6G1rpLff2MKW0tqeMDDzgtVYPPoOQVjzIfGmD9b0wce7mOMMe39CodakwHOAF60li8BLrLeL7DmsdafKb5oE+qmsKKe1LgIv49jHBcZyhPfms1FUzN46L0dXPDnFbyQV8j+6gbqm1rYWFzNz1/ZyDf+/hkOh/DUDbMZlzoAu8YeZM6ekIJD6FXRX6BpaGrlV0s301S+h5ketmA7fdwwrpyVzT//u4dtJVqMNNDZ+u0nIk4R+QIoA5YBu4AqY0yLtUkRkGG9zwAKAaz11cAxbd5EZJGI5IlIXnm59waraWhupaym0W9FR0eLDHPyh8un8vDV02ltM9zx4gZO+O0HTLj7Heb/eQXPrS7kGzMyeeP7JzOxH0OFKu9JjAln9vBE3hrASeEfH++iuKqBincfxtGLosgfnTOWIREh/OK1jQO++CzY2drExhjTCky1Rmp7GRjnhWMuxnpwbubMmV7711dkNUX1VyVzV+ZNSuPciamsLahi8/5DHGpoJnNoJCeOSiIpJtzf4amjzJuUyt2vbmJHaQ2jU7zb7brdKuqaeOTjfM6blMrDRZt6te/Q6DB+ePZYfv7KRpZtLuXs41JtilLZzSflJMaYKuBD4AQgXkTak1EmUGy9LwayAKz1cbj6WPKJgsp6wpwOUgKwXF5EmJEzlGvm5HDz6aNYMDVDE0KAOue4VERg6YaB1wrpHx/toqG5ldvPGtOn/a88PovcxCgeXLZdu/wYwGxLCiKSbN0hICKRwFnAFlzJob3b7YXAq9b716x5rPUfGB/ehxZWNJAxNFJb76h+SYmNYM7wRF5bv29AFaOU1zSy5LM9XDQtg1HD+naHE+J08D9njWFrSQ1vfDnwkqJysfNOIQ34UEQ2AKuBZcaYpcCPgdtFZCeuOoPHrO0fAxKt5bcDPhvZra6xheqGZjL92OqoK56O2BQoozYpuGhaOrsP1LF+AD3I9q//7qappY1bz+hfn1kXTE5nTEoMf/5gx4BKiuorttUpGGM2ANM6WZ6PazyGo5cfxjWIj8/tq2oA/NsUtSuejtgEgTFqk4JzJ6bx81c28cq6YqZmddcpQGA4dLiZJz/by7xJaf0eQ8ThEL5zykh++MJ6Pt5xgFPHJHspSuUrg3ZMhN7YV32YEIeQPETL6VX/xUWGcub4YSzdsK/LZ0wCyTOrCqhpbOG7p470yvEumJJOSmw4j3yc75XjKd/SpIDrTiE1NkLrE5TXXDI9kwO1TXy4taznjf2oubWNf/13NyeNSvJa0+awEAcL5+ayYucBNu8b2A/yBaOgTwpNLW2U1zT6vuhIHB7VE6iB6bSxyQwbEs5zqwv9HUq33vxyP6WHGrnh5OFePe7Vs3KICnPy6Aq9WxhofNsVaAAqOXQYA6TH+7gpqmnzqK5A6wkGphCng0tnZPL3j3ZRUn34mA7lAoExhsdW7GZEcjSnjvZu2X9cVCiXzcziqZV7+dE54wLy+lXngv5OYV9VAwL6j1Z53WUzs2gz8EJeYN4t5O2tZENRNd86cXivnl721A0nDafNGB7/dI/Xj63so0mhqoGkmHDCQ5z+DkUNMrlJ0Zw8OomnVxUEZIXzY5/sJi4ylK9Pz+h54z7ISojinONSeXZ1gfagOoAEdVJobTOUHDrs+6Ij5X0BWkdz3dxcSg4d5p1NgdUfUmFFPe9uLuGq2dlEhdlXinzNnByq6pt5Ux9mGzCCuk7hQG0jza0mIJ9PUL0UoHU0p48dRk5iFEs+3cP8yek+PXd3Hv90Dw4Rrj3B3gceTxiZyIikaJ5eVcDXp2faei7lHUF9p9D+0Fqa1icomzgcwsITclm9p5I1eyv9HQ4A1Q3NPPt5AedNSrN96FYR4arZ2azZW8mWAT7ORLAI8qRwmNiIEIZEhPo7FO8I0CKUYHfFrCyGRoXy1w93+jsUwPWwWl1TK4tO8c3QrZfOyCQsxMHTq/b65Hyqf4K6+GhfdQPZAdZVdr8EaBFKsIsKC+FbJw7ngWXb2Vhc7dfxL5paXA+rnTgq0WdxxEeFMX9yGi+vLebOeeOJCQ/qr52AF7R3CiHxadQ3tZJu8+2zUgDXzs1lSHgID7233a9xvPpFMWU1jSw6xTtdWnjqm3NyqGtq5dUvinveWPlV0CaF8MwJgB8eWlNBKS4ylJtOG8l7W8pYle+zYUKOYIzhkU/yGZc6hFNGJ/n03NOy4hmfFstTKwu099QAF9RJISLEQUJ0mL9DUUHiWycOJzU2gvve3OKXQWiWbytne2kti04Z4fO6pfYK5y37D7FhAHUpHoyCNilEZE4gLT5SK16Vz0SGObnjnLGsL6rmeT885fz3j3aRGhvBBVP80zT2rqvOpq3pMGcsulvHBQlgQVnjc7C2kdDELC06Uj739ekZPJ9XyH1vbuGM8cMYNsQ3/wY/3XWAVbsruHv+BEKd/vktWLR7O+flDmN75Lnc8f3vdtmLgDaE8K+gvFNYvcfVXlwrmZWviQj3fX0Sh5vb+NnLG31Svm6M4Q/LtpMSG85Vs7NtP193JqbH0dxq2F5S69c4VNeCMikUVdbT1ljPsFgdVEf53sjkGP73nDG8u7mUp1YV2H6+j7aXs3pPJbecPoqIUP/28ZUSG05STBgb92m9QqAKyqRw48kjKPzzVYQ4gvLyVQC48aQRnDImmV8t3cyXNla8trS28Zs3tpCTGMVlx2fZdh5PiQgTM+Ioq2mk9NBhf4ejOhG834qtLf6OQAUxh0N48LIpJMeEc+MTqymptucL8pnPC9hRVstd540PmJ6Ax6UOIcQhbCzWu4VAFLxJQSk/yMrO6WhlkzwkgtUPfIv95ZVMv/0xnFFxHetCQsM86rKku9Y6pYcO8/t3tnHCiETOnpDi4yvtWniIkzEpQ9hWWkNTS+B1KR7sbGt9JCJZwBNACmCAxcaYP4pIAvAckAvsAS4zxlSKq23oH4HzgHrgOmPMWrviU8ofigoLjumKpLCinlfXRzP9rpe4aFo6UWEh3H72WI+6LIHOW+sYY/jJf76kqbWN31w8MeCaXk/MiGXz/kNsL63xa7cf6lh23im0AD80xkwA5gA3i8gE4E7gfWPMaOB9ax5gHjDamhYBD9sYm1IBIyshigsmp1FR38TzeUVU1Tf1+5hPrSrgg61l/OiccYxIjvFClN6VGhtBYkwYX2oRUsCxLSkYY/a3/9I3xtQAW4AMYAGwxNpsCXCR9X4B8IRxWQnEi0iaXfEpFUhyEqP5+rQMGptbeW51IREjZvT5WKvyD3LPa5s4bWwy183N9V6QXiQiTEp3VTiXaYVzQPFJnYKI5ALTgFVAijGmfRimElzFS+BKGO6PeRZZy44+1iIRyRORvPLycttiVsrX0uMjufz4LGIiQhh26S/4aHt5r4fxXF9YxaIn15CdGMWfrpxmy9jLR/Cwu/bOiq/GpQ7B6RA27tNxFgKJ7U80i0gM8BLwA2PMIfd/HMYYIyK9enrHGLMYWAwwc+ZM7VlLDSrxUWFcPjOL3z7wR76Q+ewqr+XEkUmMSYnpsV7gvc2l3PbsOhJiwlhy/SxifTFOiIfdtcOxdR/hoU7GpMSwraSGk0YlERai7V4Cga2fgoiE4koITxtj/mMtLm0vFrJey6zlxYB7Q+pMa5lSQSXE6aDyvb9z6fRMwkMcvL2phCdX7mV9URV1jcc2pQ5NzuW2Z9dx4xN55CRG88J35pI1QMYJmZgeR1NrG9vLavwdirLY2fpIgMeALcaYB91WvQYsBH5nvb7qtvwWEXkWmA1UuxUzKRV0MoZGcuWsbLaX1rCuoIrl28pZvq2c+MhQYiNddwGV9U2kf+svvLOphFvPGMWtZ4weUL+40+IiSIwOcw0+lK6tkAKBncVHJwLXAF+KyBfWsrtwJYPnReQGYC9wmbXuTVzNUXfiapJ6vY2xKTUgOEQYlxrL2JQhHKxrIr+8jvKaRmoamwFIi41g79IHKPj4ReKjBl438CLCpIw4lm8vp6T6MKk6Xrrf2ZYUjDErgK4KQc/sZHsD3GxXPEoNZCJCUkw4STHH9te1bM3rAzIhtBufFsunuw6yvqiK1LhUf4cT9AbOfaZSalAKC3EwIT2W7aU1ndaZKN/SpKCU8rspmXG0GfRhtgCgSUEp5XfxUWHkJka5koIjKMf+ChiaFJRSAWFqVjz1Ta1EjzvJ36EENU3JSqmAkJ0QxdCoUBpnXIgxJuA68QsWeqegVH/1o6sH9RURYWpWPOHpY1i1u8Lf4QQtvVNQqr/60dWDOtKEtFjeW7Odv364kzkjEv0dTlDSOwWlVMAIcTo4tPoVPtlxgPWFVf4OJyhpUlBKBZSaL94kNiKEvy3f6e9QgpImBaVUQDFNDVw3N5d3NpWyo1Q7yvM1TQpKqYBz3YnDiQx18vDyXf4OJehoUlAqSGRl5wyYVlIJ0WFcNTubV9fvY2dZrb/DCSra+kipIFFUWDCgWkl997SRPLe6kPvf3soj1870dzhBQ+8UlFIBKSkmnJtOHcGyzaV8rs8t+IwmBaVUwLrhpBGkxkbwmzc209amo+/6giYFpVTAigxz8sOzx7C+qJqlX+pAjL6gdQpKqYD29emZPLZiN//39lbOnpBCRKjT3yH1WnjGeJZtLqW4qoHm1jbiIkPJTYxmSlYc4SGBdT16p6CUCmhOh/Dz+RMoqmzgbx8OrAfaKuqauO3ZdaR+8/+xs6yWpJgwhidF02YMn+Uf5InP9rKrPLBaV+mdglIDndUh32B24qgkLp6WwcMf7eKCKemMThni75B6tKu8luv/tZqS6sNUrXiGu372c0KdX/0OLz10mA+2lrF0w35OG5PMlKx4P0b7FU0KSg10HnbIFwjNTPvjZ+eP58NtZdzx4gZevOkEQpyBW9CxteQQVy5eiUOE574zh+n3nUeo8xdHbJMSG8E3ZmTy1sYSlm8vx+kIjMQeuH9VpZRykxgTzq8WTOSLwir+FsBPOueX1/LNR1cRHuLkpe/OZVr20C63DXE6OH9SGjmJUXy4rYyInCk+jLRztiUFEfmniJSJyEa3ZQkiskxEdlivQ63lIiJ/EpGdIrJBRKbbFZdSauC6YEo6C6am86f3d7Bmb6W/wzlGdX0z33p8NcbAUzfOJjcpusd9HA5h3sRUhkaFkXTBHZTXNPog0m7isfHYjwPnHrXsTuB9Y8xo4H1rHmAeMNqaFgEP2xiXUmoAu3fBRNLjI7n56bUcrPXvF6i7ltY2bvn3WoqrGvjHNTMYNSzG433DQ5zMm5iKhEVyx4vrMcZ/z2TYlhSMMR8DRz+GuABYYr1fAlzktvwJ47ISiBeRNLtiU0oNXHGRofzt6ulU1Ddx8zNraWpp83dIAPz2ra18suMAv75oIjNzE3q9f2JMOJUf/pPl28p5YU2RDRF6xtd1CinGmPYnUEqAFOt9BlDotl2RtUwppY4xMSOO+y+ZxMr8Cu56+Uu//rIGeHFNEY+t2M11c3O5/PjsPh+ndt2bzMgZyu/e2kpVfZMXI/Sc3yqajetT7PUnKSKLRCRPRPLKy8ttiEwpNRBcPC2T284czYtrivi/d7b5LTGsLajkrv98yYmjEvnZ+eP7eTTDrxZMpKq+if/3jmedF3qbr5NCaXuxkPVaZi0vBrLctsu0lh3DGLPYGDPTGDMzOTnZ1mCVUoHtB18bzdWzs3l4+S4eem+HzxPD/uoGbnpyDalxEfzlyuleaSY7IT2WhXNzeebzAr8MSerrpPAasNB6vxB41W35tVYrpDlAtVsxk1JKdUpE+NWCiVw6I5M/vr+Du1/dRKuPOs6rbWzhW4/nUd/UyqMLZzI0Osxrx/6fs8aQFBPOz1/d6LPraWdnk9R/A58BY0WkSERuAH4HnCUiO4CvWfMAbwL5wE7gEeB7dsWllBo8srJzcDodPHDZNKpXvcSTK/eSdsnPcISGHzFoUFZ2jlfP29Laxvf/vY7tpTX89erpjPHyE9axEaH89LzxbCiq5oW8wp538CLbnmg2xlzZxaozO9nWADfbFYtSagDpZbcd7k9zryuo5GPmcvzxbzBvYhpxkaGA95/m/vUbW/hgaxm/vmgip46xpxh7wdR0nly5l9+/u53zJ6cxJCLUlvMcTbu5UEoFFg+77YBjv+ynZQ9lSEQoyzaX8syqAs4cP8zrv+Ifem87j3+6hxtPGs4353j3DsSdiHD3/Aks+Ot/+dvyXfz43HG2ncuddnOhlBpURg2L4arZ2SREh/HWxhLe3VSCIyqu38c1xvDAu9t46L0dXDojk5+c19+WRj2bkhXP16dl8NiK3RRW1Nt+PtCkoJQahOIiQ7l0RiazchPYVlpDxqLFPPpJPs2tfXvQ7XBzK7c/v54/f7CTy2Zmcv8lk33Wgd0d547FIfC7t7b65HyaFJRSg5LTIZwwMpGrZ+fQWLyFX7+xhbMe/IgnPttDXWOLx8dZV1DJ+X/6hJfXFfO/Z4/xaUIASIuL5KZTR/LGl/tZvcf+sao1KSilBrWE6DDKXvgl/7xuJnFRYdz96ibm/PZ97n19M3l7Kmjp5O6htc3w6c4D3PTkGi7+26fUNbby5A2zuOWM0X4Zu2LRKa6xqu993f6xqrWiWSkVFM4Yl8IZ41JYW1DJYyt28+TKPfzzv7uJCHUwNjWWYUPCcQhU1jWzpeQQNYdbGBIewm1njuaGk4cT66PWP52JCgvhx/PG8j/PrefldcVcMiPTtnNpUlBKDX6dNHOVsCgiR0wnPH0clck5OKNd4x6EmhauufAMThiRxBnjhhEZFhhjKC+YksHj/93D/72zlXmTUokKs+frW5OCUmrw62Uz11//078d7HXG4RDuvmAClzz8GX//KJ/bzxpjz3lsOapSSimvm5GTwPzJaSz+eBf7qhpsOYcmBaWUGkDunDcOY+DdTSW2HF+Lj5RSagDJHBrFh/97GunxkbYcX+8UlFJqgLErIYAmBaWUUm40KSillOqgSUEppVQHTQpKKaU6aFJQSinVQZOCUkqpDvqcglJKufNwOFBnSCitLc0+CMi3NCkopZQ7D/tJuv3ssX0eNjSQafGRUkqpDpoUlFJKdQiopCAi54rINhHZKSJ3+jsepZQKNgGTFETECfwVmAdMAK4UkQn+jUoppYJLwCQFYBaw0xiTb4xpAp4FFvg5JqWU8h2r5ZMnU1Z2jj0hGBMYIwyJyKXAucaYG635a4DZxphbjtpuEbDImh0LeFb97z1JwAEfnzNQBOu1B+t1Q/Be+2C/7hxjTHJnKwZck1RjzGJgsb/OLyJ5xpiZ/jq/PwXrtQfrdUPwXnuwXjcEVvFRMZDlNp9pLVNKKeUjgZQUVgOjRWS4iIQBVwCv+TkmpZQKKgFTfGSMaRGRW4B3ACfwT2PMJj+H1Rm/FV0FgGC99mC9bgjeaw/W6w6cimallFL+F0jFR0oppfxMk4JSSqkOmhTceNrNhohcIiJGRGa6LfuJtd82ETnHNxF7R1+vW0RyRaRBRL6wpr/7Lmrv6OnaReQ6ESl3u8Yb3dYtFJEd1rTQt5H3Tz+vu9Vt+YBrDOLJv3cRuUxENovIJhF5xm35gP3MPWaM0clVr+IEdgEjgDBgPTChk+2GAB8DK4GZ1rIJ1vbhwHDrOE5/X5MPrjsX2Ojva7Dz2oHrgL90sm8CkG+9DrXeD/X3Ndl93da6Wn9fg83XPhpY1/55AsMG+mfem0nvFL7iaTcbvwLuBw67LVsAPGuMaTTG7AZ2WscbCPpz3QNdf7pWOQdYZoypMMZUAsuAc22K09uCuUsZT67928Bfrc8VY0yZtXwgf+Ye06TwlQyg0G2+yFrWQUSmA1nGmDd6u28A6891AwwXkXUi8pGInGxjnHbw9HO7REQ2iMiLItL+gOWg/swtnV03QISI5InIShG5yNZIvc+Tax8DjBGR/1rXeG4v9h3wNCl4SEQcwIPAD/0diy/1cN37gWxjzDTgduAZEYn1ZXw+8DqQa4yZjOuX4RI/x+Mr3V13jnF1AXEV8JCIjPRHgDYKwVWEdBpwJfCIiMT7NSIf0qTwlZ662RgCTASWi8geYA7wmlXpOpC76OjzdVvFZQcBjDFrcJXVjvFJ1N7R4+dmjDlojGm0Zh8FZni6bwDrz3VjjCm2XvOB5cA0O4P1Mk8+tyLgNWNMs1UcvB1XkhjIn7nn/F2pESgTrl8H+bgqitsroI7rZvvlfFXhehxHVjTnM3Aqmvtz3cnt14mr4q4YSPD3NXnz2oE0t/cXAyut9wnAblwVjkOt9wPi2vt53UOBcOt9ErCDThomBOrk4bWfCyxxu8ZCIHEgf+a9mQKmmwt/M110syEi9wJ5xpgum95Z2z0PbAZagJuNMa0+Cbyf+nPdwCnAvSLSDLQBNxljKuyP2js8vPbvi8iFuD7XClytcjDGVIjIr3D12QVw70C59v5cNzAe+IeItOEqafidMWazzy+ijzy89neAs0VkM9AK3GGsO+KB+pn3hnZzoZRSqoPWKSillOqgSUEppVQHTQpKKaU6aFJQSinVQZOCUkqpDpoUlFJKddCkoJRSqsP/B8+8KuURY9aNAAAAAElFTkSuQmCC\n",
                "text/plain": "<Figure size 432x288 with 1 Axes>"
              },
              {
                "output_type": "stream",
                "metadata": {
                  "tags": []
                },
                "text": "              precision    recall  f1-score   support\n\n           0       0.88      0.80      0.84      6359\n           1       0.53      0.68      0.59      2072\n\n    accuracy                           0.77      8431\n   macro avg       0.71      0.74      0.72      8431\nweighted avg       0.80      0.77      0.78      8431\n\n",
                "stream": "stdout"
              }
            ],
            "_view_module": "@jupyter-widgets/output",
            "_model_module_version": "1.0.0",
            "_view_count": null,
            "_view_module_version": "1.0.0",
            "layout": "IPY_MODEL_a791925e3cc64ca1a548b66c83b81bb0",
            "_model_module": "@jupyter-widgets/output"
          }
        },
        "ad329be5161f43a9bfcdfe082bcc53e7": {
          "model_module": "@jupyter-widgets/controls",
          "model_name": "SliderStyleModel",
          "state": {
            "_view_name": "StyleView",
            "handle_color": null,
            "_model_name": "SliderStyleModel",
            "description_width": "",
            "_view_module": "@jupyter-widgets/base",
            "_model_module_version": "1.5.0",
            "_view_count": null,
            "_view_module_version": "1.2.0",
            "_model_module": "@jupyter-widgets/controls"
          }
        },
        "72c1743187a845dd9e7ef0827c6cd64e": {
          "model_module": "@jupyter-widgets/base",
          "model_name": "LayoutModel",
          "state": {
            "_view_name": "LayoutView",
            "grid_template_rows": null,
            "right": null,
            "justify_content": null,
            "_view_module": "@jupyter-widgets/base",
            "overflow": null,
            "_model_module_version": "1.2.0",
            "_view_count": null,
            "flex_flow": null,
            "width": null,
            "min_width": null,
            "border": null,
            "align_items": null,
            "bottom": null,
            "_model_module": "@jupyter-widgets/base",
            "top": null,
            "grid_column": null,
            "overflow_y": null,
            "overflow_x": null,
            "grid_auto_flow": null,
            "grid_area": null,
            "grid_template_columns": null,
            "flex": null,
            "_model_name": "LayoutModel",
            "justify_items": null,
            "grid_row": null,
            "max_height": null,
            "align_content": null,
            "visibility": null,
            "align_self": null,
            "height": null,
            "min_height": null,
            "padding": null,
            "grid_auto_rows": null,
            "grid_gap": null,
            "max_width": null,
            "order": null,
            "_view_module_version": "1.2.0",
            "grid_template_areas": null,
            "object_position": null,
            "object_fit": null,
            "grid_auto_columns": null,
            "margin": null,
            "display": null,
            "left": null
          }
        },
        "a791925e3cc64ca1a548b66c83b81bb0": {
          "model_module": "@jupyter-widgets/base",
          "model_name": "LayoutModel",
          "state": {
            "_view_name": "LayoutView",
            "grid_template_rows": null,
            "right": null,
            "justify_content": null,
            "_view_module": "@jupyter-widgets/base",
            "overflow": null,
            "_model_module_version": "1.2.0",
            "_view_count": null,
            "flex_flow": null,
            "width": null,
            "min_width": null,
            "border": null,
            "align_items": null,
            "bottom": null,
            "_model_module": "@jupyter-widgets/base",
            "top": null,
            "grid_column": null,
            "overflow_y": null,
            "overflow_x": null,
            "grid_auto_flow": null,
            "grid_area": null,
            "grid_template_columns": null,
            "flex": null,
            "_model_name": "LayoutModel",
            "justify_items": null,
            "grid_row": null,
            "max_height": null,
            "align_content": null,
            "visibility": null,
            "align_self": null,
            "height": null,
            "min_height": null,
            "padding": null,
            "grid_auto_rows": null,
            "grid_gap": null,
            "max_width": null,
            "order": null,
            "_view_module_version": "1.2.0",
            "grid_template_areas": null,
            "object_position": null,
            "object_fit": null,
            "grid_auto_columns": null,
            "margin": null,
            "display": null,
            "left": null
          }
        }
      }
    }
  },
  "cells": [
    {
      "cell_type": "markdown",
      "metadata": {
        "id": "wkXGqzwga27O"
      },
      "source": [
        "\n",
        "<img align=\"right\" src=\"https://ds-cs-images.s3.ap-northeast-2.amazonaws.com/Codestates_Fulllogo_Color.png\" width=100>\n",
        "\n",
        "## *DATA SCIENCE / SECTION 2 / SPRINT 2 / NOTE 4*\n",
        "\n",
        "# 📝 Assignment\n",
        "---"
      ]
    },
    {
      "cell_type": "code",
      "metadata": {
        "id": "BiSvlFYbh_s4"
      },
      "source": [
        "# !pip install --upgrade pandas_profiling\n",
        "# !pip install --upgrade category_encoders"
      ],
      "execution_count": 1,
      "outputs": []
    },
    {
      "cell_type": "code",
      "metadata": {
        "id": "YdQzt0BviBN2"
      },
      "source": [
        "# # connect kaggle colab\n",
        "# !pip install kaggle\n",
        "# from google.colab import files\n",
        "# files.upload()\n",
        "\n",
        "# # 파일이 제대로 업로드 되었는지 확인\n",
        "# print('\\n--------파일 제대로 업로드 되었는지 확인--------\\n')\n",
        "# !ls -1ha kaggle.json\n",
        "# # 파일 업로드 제대로 되었는지 확인 완료!\n",
        "\n",
        "# # kaggle API를 사용하기 위해 json 파일 ~/.kaggle로 이동\n",
        "# !mkdir -p ~/.kaggle\n",
        "# !cp kaggle.json ~/.kaggle/\n",
        "# # Permission Warning 이 일어나지 않도록 \n",
        "# !chmod 600 ~/.kaggle/kaggle.json\n",
        "# # 본인이 참가한 모든 대회 보기\n",
        "# print('\\n---------------내가 참가한 대회---------------\\n') \n",
        "# !kaggle competitions list\n",
        "\n",
        "# # 데이터 셋 불러오기\n",
        "# print('\\n------------upload dataset------------\\n')\n",
        "# !kaggle competitions download -c prediction-of-h1n1-vaccination"
      ],
      "execution_count": 2,
      "outputs": []
    },
    {
      "cell_type": "markdown",
      "metadata": {
        "id": "TKTeJKyVa27R"
      },
      "source": [
        "# 모델선택(Model Selection)\n",
        "\n",
        "### 1) 캐글 대회를 이어서 진행합니다. RandomizedSearchCV 를 사용하여 하이퍼파라미터 튜닝을 진행합니다.\n",
        "\n",
        "- [RandomForestClassifier](https://scikit-learn.org/stable/modules/generated/sklearn.ensemble.RandomForestClassifier.html)를 사용하세요.\n",
        "- 분류문제에서 맞는 [scoring parameter](https://scikit-learn.org/stable/modules/model_evaluation.html#common-cases-predefined-values) metric을 사용하세요.\n",
        "- [OrdinalEncoder](https://contrib.scikit-learn.org/categorical-encoding/ordinal.html) 사용을 권합니다.\n",
        "- RandomizedSearchCV 를 사용해서 하이퍼파라미터 튜닝을 진행하고 최고 성능을 보이는 모델로 예측을 진행한 후 캐글에 제출합니다.\n",
        "- **캐글 Leaderboard에서 개선된 본인 Score를 과제 제출폼에 제출하세요.**"
      ]
    },
    {
      "cell_type": "markdown",
      "metadata": {
        "id": "d9nCfjEbkkLv"
      },
      "source": [
        "# Dataset 불러오기"
      ]
    },
    {
      "cell_type": "code",
      "metadata": {
        "id": "L-cUi52oa27S",
        "outputId": "b6afe5eb-5fba-4a7a-90ca-a1fbc0f247b6",
        "colab": {
          "base_uri": "https://localhost:8080/"
        }
      },
      "source": [
        "import pandas as pd\n",
        "from sklearn.ensemble import RandomForestClassifier\n",
        "from sklearn.impute import SimpleImputer \n",
        "from sklearn.pipeline import make_pipeline\n",
        "from category_encoders import OrdinalEncoder\n",
        "from sklearn.metrics import f1_score\n",
        "from sklearn.model_selection import cross_val_score\n",
        "import numpy as np\n",
        "\n",
        "target = 'vacc_h1n1_f'\n",
        "train = pd.merge(pd.read_csv('/content/train.csv.zip'), pd.read_csv('/content/train_labels.csv')[target],left_index=True , right_index=True)\n",
        "test = pd.read_csv('/content/test.csv.zip')"
      ],
      "execution_count": 3,
      "outputs": [
        {
          "output_type": "stream",
          "text": [
            "/usr/local/lib/python3.7/dist-packages/statsmodels/tools/_testing.py:19: FutureWarning: pandas.util.testing is deprecated. Use the functions in the public API at pandas.testing instead.\n",
            "  import pandas.util.testing as tm\n"
          ],
          "name": "stderr"
        }
      ]
    },
    {
      "cell_type": "markdown",
      "metadata": {
        "id": "nCWnWOEFo7R7"
      },
      "source": [
        "# Feature Engineering"
      ]
    },
    {
      "cell_type": "code",
      "metadata": {
        "id": "K45SiXEko_Aj"
      },
      "source": [
        "## feature engineering\n",
        "from category_encoders import OneHotEncoder\n",
        "from sklearn.model_selection import train_test_split\n",
        "\n",
        "def change(x):\n",
        "  if int(x) > 0 :\n",
        "    return 0\n",
        "  else:\n",
        "    return 1\n",
        "\n",
        "def f_engineering(df):\n",
        "  # behaviorals feature 생성\n",
        "  behaviorals = [col for col in df.columns if 'behavioral' in col]\n",
        "  df['behaviorals'] = df.loc[:,behaviorals].sum(axis = 1)\n",
        "\n",
        "  # n_adult_r feature 삭제, household_children & n_people_r 두 가지 feature와 다중 공산성 문제가 발생할 수 있다고 판단.\n",
        "  df.drop('n_adult_r',axis=1)\n",
        "\n",
        "  # 건강보험이 있는 workers \n",
        "  workers_h_insurances = ['health_insurance','health_worker']\n",
        "  df['workers_have_insurances'] = df.loc[:,workers_h_insurances].sum(axis = 1)\n",
        "  df['workers_have_insurances'] = df['workers_have_insurances'].apply(change)\n",
        "\n",
        "  # seas & employment가 들어 있는 feature 제거 \n",
        "  dels = [col for col in df.columns if ('employment' in col or 'sea' in col)] # employment와 seas를 가지고 있는 특성을 모두 제거\n",
        "  df.drop(columns=dels, inplace=True)\n",
        "\n",
        "  return df \n",
        "\n",
        "train = f_engineering(train)\n",
        "test = f_engineering(test)"
      ],
      "execution_count": 4,
      "outputs": []
    },
    {
      "cell_type": "code",
      "metadata": {
        "id": "OvmxgBqzq7hu"
      },
      "source": [
        "# split dataset\n",
        "y_train = train[target]\n",
        "X_train = train.drop(target,axis=1)\n",
        "_, X_val, _, y_val = train_test_split(X_train, y_train, test_size=.2, random_state=2)"
      ],
      "execution_count": 5,
      "outputs": []
    },
    {
      "cell_type": "markdown",
      "metadata": {
        "id": "imyFII_ik7w6"
      },
      "source": [
        "# RandomsizedSearchCV 사용 하이퍼파라미터 튜닝"
      ]
    },
    {
      "cell_type": "code",
      "metadata": {
        "id": "9aO8fZoIk6bb",
        "outputId": "27ff43d5-70d2-4975-99fa-f769f0394757",
        "colab": {
          "base_uri": "https://localhost:8080/"
        }
      },
      "source": [
        "from sklearn.model_selection import RandomizedSearchCV\n",
        "from scipy.stats import randint, uniform\n",
        "\n",
        "# create pipe\n",
        "pipe = make_pipeline(\n",
        "    OrdinalEncoder(),\n",
        "    SimpleImputer(),\n",
        "    RandomForestClassifier()\n",
        ")\n",
        "\n",
        "# tuning hyper parameters  RandomForestClassifier\n",
        "dists = {\n",
        "    'randomforestclassifier__class_weight' : ['balanced', 'balanced_subsample'],\n",
        "    'randomforestclassifier__max_depth' : range(1,100,5),\n",
        "    'randomforestclassifier__n_estimators' : randint(50,500),\n",
        "    'randomforestclassifier__min_samples_leaf' : np.random.rand(5),\n",
        "    'randomforestclassifier__max_features' : ['auto','sqrt','log2'],\n",
        "    'simpleimputer__strategy': ['mean','most_frequent']\n",
        "}\n",
        "\n",
        "clf = RandomizedSearchCV(\n",
        "    pipe, \n",
        "    param_distributions = dists,\n",
        "    n_iter = 50 ,\n",
        "    cv = 3,\n",
        "    n_jobs = -1, \n",
        "    verbose = 1\n",
        ")\n",
        "\n",
        "clf.fit(X_train,y_train)"
      ],
      "execution_count": 6,
      "outputs": [
        {
          "output_type": "stream",
          "text": [
            "Fitting 3 folds for each of 50 candidates, totalling 150 fits\n"
          ],
          "name": "stdout"
        },
        {
          "output_type": "stream",
          "text": [
            "[Parallel(n_jobs=-1)]: Using backend LokyBackend with 2 concurrent workers.\n",
            "[Parallel(n_jobs=-1)]: Done  46 tasks      | elapsed:   37.9s\n",
            "[Parallel(n_jobs=-1)]: Done 150 out of 150 | elapsed:  2.2min finished\n"
          ],
          "name": "stderr"
        },
        {
          "output_type": "execute_result",
          "data": {
            "text/plain": [
              "RandomizedSearchCV(cv=3, error_score=nan,\n",
              "                   estimator=Pipeline(memory=None,\n",
              "                                      steps=[('ordinalencoder',\n",
              "                                              OrdinalEncoder(cols=None,\n",
              "                                                             drop_invariant=False,\n",
              "                                                             handle_missing='value',\n",
              "                                                             handle_unknown='value',\n",
              "                                                             mapping=None,\n",
              "                                                             return_df=True,\n",
              "                                                             verbose=0)),\n",
              "                                             ('simpleimputer',\n",
              "                                              SimpleImputer(add_indicator=False,\n",
              "                                                            copy=True,\n",
              "                                                            fill_value=None,\n",
              "                                                            missing_values=nan,\n",
              "                                                            strategy='mean',\n",
              "                                                            verbose=0)...\n",
              "                                        'randomforestclassifier__min_samples_leaf': array([0.23432062, 0.80712431, 0.13883365, 0.85328174, 0.53700454]),\n",
              "                                        'randomforestclassifier__n_estimators': <scipy.stats._distn_infrastructure.rv_frozen object at 0x7fc7e23d25d0>,\n",
              "                                        'simpleimputer__strategy': ['mean',\n",
              "                                                                    'most_frequent']},\n",
              "                   pre_dispatch='2*n_jobs', random_state=None, refit=True,\n",
              "                   return_train_score=False, scoring=None, verbose=1)"
            ]
          },
          "metadata": {
            "tags": []
          },
          "execution_count": 6
        }
      ]
    },
    {
      "cell_type": "code",
      "metadata": {
        "id": "bh6JDsR3u1xb",
        "outputId": "3ac49f7c-917f-4f61-adbe-58752a45cbf8",
        "colab": {
          "base_uri": "https://localhost:8080/"
        }
      },
      "source": [
        "print(f'최적의 파라미터: {clf.best_params_}')\n",
        "print(f'mean_cv_score: {clf.best_score_}')"
      ],
      "execution_count": 7,
      "outputs": [
        {
          "output_type": "stream",
          "text": [
            "최적의 파라미터: {'randomforestclassifier__class_weight': 'balanced_subsample', 'randomforestclassifier__max_depth': 1, 'randomforestclassifier__max_features': 'auto', 'randomforestclassifier__min_samples_leaf': 0.1388336514961238, 'randomforestclassifier__n_estimators': 316, 'simpleimputer__strategy': 'mean'}\n",
            "mean_cv_score: 0.7537608362266505\n"
          ],
          "name": "stdout"
        }
      ]
    },
    {
      "cell_type": "code",
      "metadata": {
        "id": "97Cjak8mGZnK",
        "outputId": "e8f04b8c-95fe-4f48-e532-d4ad7620f4c5",
        "colab": {
          "base_uri": "https://localhost:8080/"
        }
      },
      "source": [
        "# Validation Set Score\n",
        "print('검증 score :', clf.best_estimator_.score(X_val, y_val))\n",
        "print('F1 score :', f1_score(y_val, clf.best_estimator_.predict(X_val)))"
      ],
      "execution_count": 35,
      "outputs": [
        {
          "output_type": "stream",
          "text": [
            "검증 score : 0.7730992764796584\n",
            "F1 score : 0.5935840237943488\n"
          ],
          "name": "stdout"
        }
      ]
    },
    {
      "cell_type": "code",
      "metadata": {
        "id": "rQQC1YQ_cXr-",
        "outputId": "c473b7c7-9ab3-46bc-d87d-24527b9a7e0d",
        "colab": {
          "base_uri": "https://localhost:8080/",
          "height": 470,
          "referenced_widgets": [
            "53a5dceb97d74ccf9ba9892dcd5cd5ef",
            "b1d5eae6056a4fd0a11fca78083b5406",
            "bfb24a0a337744e08492ca11a0e5b8ce",
            "3f5b4b58b5f846d4b5faa36b781e287e",
            "ad329be5161f43a9bfcdfe082bcc53e7",
            "72c1743187a845dd9e7ef0827c6cd64e",
            "a791925e3cc64ca1a548b66c83b81bb0"
          ]
        }
      },
      "source": [
        "## 임계값 확인 해보니 , 기존 0.5일때가 가장 f1 score가 좋게 나온다.\n",
        "from ipywidgets import interact, fixed\n",
        "import seaborn as sns\n",
        "from sklearn.metrics import classification_report\n",
        "import matplotlib.pyplot as plt\n",
        "\n",
        "pipe = clf.best_estimator_\n",
        "y_pred = pipe.predict(X_val)\n",
        "y_pred_proba = pipe.predict_proba(X_val)[:, 1]\n",
        "\n",
        "def explore_threshold(y_true, y_pred_proba, threshold=0.5):\n",
        "    y_pred = y_pred_proba >= threshold\n",
        "    vc = pd.Series(y_pred).value_counts()\n",
        "    ax = sns.histplot(y_pred_proba, kde=True)\n",
        "    ax.axvline(threshold, color='red')\n",
        "    ax.set_title(f'# of target, 1={vc[1]}, 0={vc[0]}')\n",
        "    plt.show()\n",
        "    print(classification_report(y_true, y_pred))\n",
        "\n",
        "    \n",
        "interact(explore_threshold, \n",
        "    y_true=fixed(y_val), \n",
        "    y_pred_proba=fixed(y_pred_proba), \n",
        "    threshold=(0, 1, 0.01));"
      ],
      "execution_count": 13,
      "outputs": [
        {
          "output_type": "display_data",
          "data": {
            "application/vnd.jupyter.widget-view+json": {
              "model_id": "53a5dceb97d74ccf9ba9892dcd5cd5ef",
              "version_minor": 0,
              "version_major": 2
            },
            "text/plain": [
              "interactive(children=(FloatSlider(value=0.5, description='threshold', max=1.0, step=0.01), Output()), _dom_cla…"
            ]
          },
          "metadata": {
            "tags": []
          }
        }
      ]
    },
    {
      "cell_type": "code",
      "metadata": {
        "id": "Oqs6eSJ5vZlW"
      },
      "source": [
        "y_pred = pipe.predict(test)\n",
        "\n",
        "my_submission = pd.DataFrame({\n",
        "    'Id' : range(0, len(y_pred)),\n",
        "    'vacc_h1n1_f' : y_pred})\n",
        "my_submission\n",
        "my_submission.to_csv('nnnnnnnnewsubmission.csv', index=False)"
      ],
      "execution_count": 17,
      "outputs": []
    },
    {
      "cell_type": "markdown",
      "metadata": {
        "id": "JL-fRYNUa27S"
      },
      "source": [
        "## 🔥 도전과제"
      ]
    },
    {
      "cell_type": "markdown",
      "metadata": {
        "id": "OefUnKwQa27T"
      },
      "source": [
        "\n",
        "### 2) [`GridSearchCV`](https://scikit-learn.org/stable/modules/generated/sklearn.model_selection.GridSearchCV.html) 를 사용하여 하이퍼파라미터 튜닝을 진행합니다.\n",
        "- 모델 성능을 높이기 위해 가능한 시도를 다 해보세요.\n",
        "- 모델 성능에 가장 큰 영향을 준 하이퍼파라미터에 대해서 분석하고 설명해 보세요.\n",
        "\n"
      ]
    },
    {
      "cell_type": "code",
      "metadata": {
        "id": "J4zW7UxOa27T",
        "outputId": "3c8ed590-031c-4d64-d6ed-31d546b895ff",
        "colab": {
          "base_uri": "https://localhost:8080/"
        }
      },
      "source": [
        "from sklearn.model_selection import GridSearchCV\n",
        "\n",
        "pipe_grid = make_pipeline(\n",
        "    OrdinalEncoder(),\n",
        "    SimpleImputer(),\n",
        "    RandomForestClassifier()\n",
        ")\n",
        "\n",
        "dists = {\n",
        "    'randomforestclassifier__max_depth' : [1,2,3,4],\n",
        "    'randomforestclassifier__n_estimators' : [314,315,316,317],\n",
        "    'randomforestclassifier__min_samples_leaf' : [0.13,0.14,0.15],\n",
        "    }\n",
        "\n",
        "clf = GridSearchCV(\n",
        "    pipe, \n",
        "    param_grid = dists,\n",
        "    cv = 2,\n",
        "    n_jobs = -1, \n",
        "    verbose = 1,\n",
        "    return_train_score=True\n",
        ")\n",
        "\n",
        "clf.fit(X_train,y_train)"
      ],
      "execution_count": 28,
      "outputs": [
        {
          "output_type": "stream",
          "text": [
            "Fitting 2 folds for each of 48 candidates, totalling 96 fits\n"
          ],
          "name": "stdout"
        },
        {
          "output_type": "stream",
          "text": [
            "[Parallel(n_jobs=-1)]: Using backend LokyBackend with 2 concurrent workers.\n",
            "[Parallel(n_jobs=-1)]: Done  46 tasks      | elapsed:  2.1min\n",
            "[Parallel(n_jobs=-1)]: Done  96 out of  96 | elapsed:  4.5min finished\n",
            "/usr/local/lib/python3.7/dist-packages/category_encoders/utils.py:21: FutureWarning: is_categorical is deprecated and will be removed in a future version.  Use is_categorical_dtype instead\n",
            "  elif pd.api.types.is_categorical(cols):\n"
          ],
          "name": "stderr"
        },
        {
          "output_type": "execute_result",
          "data": {
            "text/plain": [
              "GridSearchCV(cv=2, error_score=nan,\n",
              "             estimator=Pipeline(memory=None,\n",
              "                                steps=[('ordinalencoder',\n",
              "                                        OrdinalEncoder(cols=['opinion_h1n1_vacc_effective',\n",
              "                                                             'opinion_h1n1_risk',\n",
              "                                                             'opinion_h1n1_sick_from_vacc',\n",
              "                                                             'agegrp',\n",
              "                                                             'census_msa',\n",
              "                                                             'state'],\n",
              "                                                       drop_invariant=False,\n",
              "                                                       handle_missing='value',\n",
              "                                                       handle_unknown='value',\n",
              "                                                       mapping=[{'col': 'opinion_h1n1_vacc_effective',\n",
              "                                                                 'data_type': dty...\n",
              "                                                               oob_score=False,\n",
              "                                                               random_state=None,\n",
              "                                                               verbose=0,\n",
              "                                                               warm_start=False))],\n",
              "                                verbose=False),\n",
              "             iid='deprecated', n_jobs=-1,\n",
              "             param_grid={'randomforestclassifier__max_depth': [1, 2, 3, 4],\n",
              "                         'randomforestclassifier__min_samples_leaf': [0.13,\n",
              "                                                                      0.14,\n",
              "                                                                      0.15],\n",
              "                         'randomforestclassifier__n_estimators': [314, 315, 316,\n",
              "                                                                  317]},\n",
              "             pre_dispatch='2*n_jobs', refit=True, return_train_score=True,\n",
              "             scoring=None, verbose=1)"
            ]
          },
          "metadata": {
            "tags": []
          },
          "execution_count": 28
        }
      ]
    },
    {
      "cell_type": "code",
      "metadata": {
        "id": "Db_e2d0wg2W4",
        "outputId": "771cd70d-d837-41a2-8bbb-a8a062ce7b39",
        "colab": {
          "base_uri": "https://localhost:8080/"
        }
      },
      "source": [
        "print(f'최적의 파라미터: {clf.best_params_}')\n",
        "print(f'mean_cv_score: {clf.best_score_}')"
      ],
      "execution_count": 29,
      "outputs": [
        {
          "output_type": "stream",
          "text": [
            "최적의 파라미터: {'randomforestclassifier__max_depth': 1, 'randomforestclassifier__min_samples_leaf': 0.13, 'randomforestclassifier__n_estimators': 315}\n",
            "mean_cv_score: 0.7720975470892442\n"
          ],
          "name": "stdout"
        }
      ]
    },
    {
      "cell_type": "code",
      "metadata": {
        "id": "UAEvH5Smg_Fp",
        "outputId": "c9715c35-116d-4111-8b92-e1c8a83ddb98",
        "colab": {
          "base_uri": "https://localhost:8080/"
        }
      },
      "source": [
        "# Validation Set Score\n",
        "print('Accuracy :', clf.best_estimator_.score(X_val, y_val))\n",
        "print('F1 score :', f1_score(y_val, clf.predict(X_val)))"
      ],
      "execution_count": 30,
      "outputs": [
        {
          "output_type": "stream",
          "text": [
            "Accuracy : 0.7730992764796584\n",
            "F1 score : 0.5935840237943488\n"
          ],
          "name": "stdout"
        }
      ]
    }
  ]
}