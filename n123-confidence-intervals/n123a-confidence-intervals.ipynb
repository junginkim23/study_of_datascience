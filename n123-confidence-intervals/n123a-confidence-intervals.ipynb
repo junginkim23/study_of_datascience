{
  "nbformat": 4,
  "nbformat_minor": 0,
  "metadata": {
    "colab": {
      "name": "n123a-confidence-intervals.ipynb",
      "provenance": [],
      "collapsed_sections": [],
      "toc_visible": true
    },
    "kernelspec": {
      "display_name": "Python 3",
      "language": "python",
      "name": "python3"
    },
    "language_info": {
      "codemirror_mode": {
        "name": "ipython",
        "version": 3
      },
      "file_extension": ".py",
      "mimetype": "text/x-python",
      "name": "python",
      "nbconvert_exporter": "python",
      "pygments_lexer": "ipython3",
      "version": "3.8.2"
    }
  },
  "cells": [
    {
      "cell_type": "markdown",
      "metadata": {
        "id": "g_c3L9CeANiJ"
      },
      "source": [
        "<img src='https://i.imgur.com/RDAD11M.png' width = '200' align = 'right'>\n",
        "\n",
        "## *DATA SCIENCE / SECTION 1 / SPRINT 2 / NOTE 3*\n",
        "\n",
        "# 📝 Assignment\n",
        "\n",
        "# 신뢰구간\n",
        "\n",
        "서울시 기간별 시간평균 대기환경 정보 데이터셋을 이용합니다.\n",
        "\n",
        "<img src='https://user-images.githubusercontent.com/6457691/89852263-740add80-dbc9-11ea-9e6b-8059b3f7e479.png'>\n",
        "\n",
        "<https://data.seoul.go.kr/dataList/OA-2221/S/1/datasetView.do>\n",
        "\n",
        "### `2020년 3월`의 송파구 데이터만 사용합니다.\n",
        "\n"
      ]
    },
    {
      "cell_type": "markdown",
      "metadata": {
        "id": "9BT9olD8zGyP"
      },
      "source": [
        "## 1. 데이터셋을 불러오세요\n",
        "\n",
        "  - 데이터는 `df`라는 변수에 저장되어야 하며\n",
        "  - Feature로는 `측정일시`, `측정소명`, `오존(ppm)` 만 사용합니다."
      ]
    },
    {
      "cell_type": "code",
      "metadata": {
        "id": "C1Tql4HDGefU",
        "colab": {
          "base_uri": "https://localhost:8080/"
        },
        "outputId": "c62a26da-774f-4822-9f25-5a4f2513bb57"
      },
      "source": [
        "import pandas as pd\n",
        "\n",
        "df = pd.read_csv('/content/drive/MyDrive/서울시_기간별_시간평균_대기환경_정보_2020.03.csv',encoding='cp949')\n",
        "df = df[df['측정소명']=='송파구'].loc[:,['측정일시','측정소명','오존(ppm)']]"
      ],
      "execution_count": 80,
      "outputs": [
        {
          "output_type": "execute_result",
          "data": {
            "text/plain": [
              "(744, 3)"
            ]
          },
          "metadata": {
            "tags": []
          },
          "execution_count": 80
        }
      ]
    },
    {
      "cell_type": "markdown",
      "metadata": {
        "id": "wOQ-9E8uYcni"
      },
      "source": [
        "## 2. 데이터셋으로 부터 2개의 샘플을 생성하세요.\n",
        "\n",
        "- `s1`에 저장된 1개는 20개의 데이터, `s2`에 저장된 다른 1개는 200개이며 \n",
        "- 두 경우 모두 `random_state`로 `42`를 설정합니다."
      ]
    },
    {
      "cell_type": "code",
      "metadata": {
        "id": "QP55yQ07GcMb",
        "colab": {
          "base_uri": "https://localhost:8080/"
        },
        "outputId": "98954c82-efd2-4a79-9712-b93ec0531e66"
      },
      "source": [
        "import numpy as np\n",
        "\n",
        "# np.random.seed(42)\n",
        "\n",
        "s1, s2 = df.sample(n=20,random_state=42),df.sample(n=200,random_state=42)"
      ],
      "execution_count": 82,
      "outputs": [
        {
          "output_type": "execute_result",
          "data": {
            "text/plain": [
              "0.044000000000000004"
            ]
          },
          "metadata": {
            "tags": []
          },
          "execution_count": 82
        }
      ]
    },
    {
      "cell_type": "markdown",
      "metadata": {
        "id": "y2Rz-8O-YmF9"
      },
      "source": [
        "## 3. 두 샘플데이터에 대해서 `오존(ppm)`항목의 표본 평균을 계산하세요."
      ]
    },
    {
      "cell_type": "code",
      "metadata": {
        "id": "CdV4Tl1hGa6z",
        "colab": {
          "base_uri": "https://localhost:8080/"
        },
        "outputId": "a6b5635b-f5e3-4a10-a0b8-b19df851501e"
      },
      "source": [
        "s1_ozone = s1['오존(ppm)']\n",
        "s2_ozone = s2['오존(ppm)']\n",
        "\n",
        "s1_ozone_mean = np.mean(np.array(s1_ozone))\n",
        "s2_ozone_mean = np.mean(np.array(s2_ozone))\n"
      ],
      "execution_count": 70,
      "outputs": [
        {
          "output_type": "execute_result",
          "data": {
            "text/plain": [
              "202003281400"
            ]
          },
          "metadata": {
            "tags": []
          },
          "execution_count": 70
        }
      ]
    },
    {
      "cell_type": "markdown",
      "metadata": {
        "id": "9tIHBlM_SyGR"
      },
      "source": [
        "## 4. 위에서 추정한 값들을 바탕으로, 95%에 해당하는 신뢰구간을 `CI1과` `CI2`에 계산하세요.\n",
        "\n",
        "  - `ddof`는 `1`을 사용합니다."
      ]
    },
    {
      "cell_type": "code",
      "metadata": {
        "id": "rjq59rjMGZ-w",
        "colab": {
          "base_uri": "https://localhost:8080/"
        },
        "outputId": "0100a526-d5e4-4965-921a-732c83f6f152"
      },
      "source": [
        "from scipy.stats import t\n",
        "\n",
        "def confidence_interval(sample,sample_mean):\n",
        "  # 표본의 크기\n",
        "  n = len(sample)\n",
        "  # 자유도\n",
        "  dof = n-1\n",
        "  # 표본의 표준편차\n",
        "  sample_std = np.std(sample, ddof = 1)\n",
        "  # 표준 오차\n",
        "  std_err = sample_std / n ** 0.5 # sample_std / sqrt(n)\n",
        "\n",
        "  CI = t.interval(.95, dof, loc = sample_mean, scale = std_err) \n",
        "  print(\"95% 신뢰구간: \", CI)\n",
        "  return CI,std_err\n",
        "\n",
        "CI1,CI1_err = confidence_interval(s1_ozone,s1_ozone_mean)\n",
        "CI2,CI2_err = confidence_interval(s2_ozone,s2_ozone_mean)"
      ],
      "execution_count": 85,
      "outputs": [
        {
          "output_type": "stream",
          "text": [
            "95% 신뢰구간:  (0.01506046081395732, 0.028439539186042678)\n",
            "95% 신뢰구간:  (0.02100651526262625, 0.02483348473737375)\n"
          ],
          "name": "stdout"
        },
        {
          "output_type": "execute_result",
          "data": {
            "text/plain": [
              "0.025"
            ]
          },
          "metadata": {
            "tags": []
          },
          "execution_count": 85
        }
      ]
    },
    {
      "cell_type": "markdown",
      "metadata": {
        "id": "HsTtONTNawFi"
      },
      "source": [
        "## 5. `plt.bar`를 사용하여 다음과 같은 신뢰구간 시각화를 그리세요.\n",
        "  - 이때 보라색 선에 해당 하는 값을 `pop_mean`에 저장하세요.\n",
        "  - `colors = '#4000c7'`을 사용하세요.\n",
        "\n",
        "<img src='https://i.imgur.com/3orh30m.png'>\n",
        "\n",
        "\n",
        "\n",
        "\n"
      ]
    },
    {
      "cell_type": "code",
      "metadata": {
        "id": "skjzyQaJGIIw",
        "colab": {
          "base_uri": "https://localhost:8080/",
          "height": 282
        },
        "outputId": "d0f1a64d-d834-46cd-aa99-23ff4513eae9"
      },
      "source": [
        "import matplotlib.pyplot as plt\n",
        "\n",
        "#오차막대 표시 yerr=yerr\n",
        "plt.bar('s1',s1_ozone_mean,align='center', ecolor='black',yerr=CI1_err,capsize=10)\n",
        "plt.bar('s2',s2_ozone_mean,align='center', ecolor='black',yerr=CI2_err,capsize=10)\n",
        "pop_mean=np.mean(df['오존(ppm)'])\n",
        "plt.axhline(y=pop_mean, color='#4000c7',linestyle='--' ,linewidth=1)\n",
        "plt.show()"
      ],
      "execution_count": 88,
      "outputs": [
        {
          "output_type": "display_data",
          "data": {
            "image/png": "[encoded data removed]",
            "text/plain": [
              "<Figure size 432x288 with 1 Axes>"
            ]
          },
          "metadata": {
            "tags": [],
            "needs_background": "light"
          }
        },
        {
          "output_type": "execute_result",
          "data": {
            "text/plain": [
              "0.0236"
            ]
          },
          "metadata": {
            "tags": []
          },
          "execution_count": 88
        }
      ]
    },
    {
      "cell_type": "markdown",
      "metadata": {
        "id": "cvtnsGLJa4bW"
      },
      "source": [
        "# 🔥 도전과제\n",
        "> 아래 두 문제를 모두 다 하시면 됩니다."
      ]
    },
    {
      "cell_type": "markdown",
      "metadata": {
        "id": "ie_xQYk12TbX"
      },
      "source": [
        "## 1. [plotly](https://plotly.com/) 나 [seaborn](http://seaborn.pydata.org/index.html), [bokeh](https://docs.bokeh.org/en/latest/index.html) 등 다른 시각화 라이브러리를 선택하여 앞에서 그렸던 신뢰구간을 해당 라이브러리를 선택하여 그려보세요."
      ]
    },
    {
      "cell_type": "code",
      "metadata": {
        "id": "UpFeWb8gy4pr",
        "colab": {
          "base_uri": "https://localhost:8080/",
          "height": 269
        },
        "outputId": "1311e7b8-e688-411f-e80b-30fce2329000"
      },
      "source": [
        "import seaborn as sns \n",
        "\n",
        "df2 = pd.DataFrame({'s1':[s1_ozone_mean],'s2':[s2_ozone_mean]})\n",
        "ax = sns.barplot(data=df2)\n",
        "ax.axhline(np.mean(df['오존(ppm)']),ls='--',color='#4000c7')\n",
        "plt.ylim(0.000,0.025)\n",
        "plt.show()"
      ],
      "execution_count": 65,
      "outputs": [
        {
          "output_type": "display_data",
          "data": {
            "image/png": "[encoded data removed]",
            "text/plain": [
              "<Figure size 432x288 with 1 Axes>"
            ]
          },
          "metadata": {
            "tags": [],
            "needs_background": "light"
          }
        }
      ]
    },
    {
      "cell_type": "markdown",
      "metadata": {
        "id": "rfC_r9kl2VQj"
      },
      "source": [
        "## 2. 위 데이터의 `초미세먼지` 데이터를 사용하여, 큰 수의 법칙과, 중심극한가설을 표현하는 코드를 작성하세요."
      ]
    },
    {
      "cell_type": "code",
      "metadata": {
        "id": "3WzqW4jT3AvR",
        "colab": {
          "base_uri": "https://localhost:8080/"
        },
        "outputId": "9caae77d-43cc-4331-ccab-caf7e217b2b0"
      },
      "source": [
        "import pandas as pd\n",
        "\n",
        "df1 = pd.read_csv('/content/drive/MyDrive/서울시_기간별_시간평균_대기환경_정보_2020.03.csv',encoding='cp949')\n",
        "df1 = df1[df1['측정소명']=='송파구'].loc[:,['초미세먼지(㎍/㎥)']]\n",
        "\n",
        "#큰 수의 법칙\n",
        "population = np.array(df1['초미세먼지(㎍/㎥)'])\n",
        "print(population.var(),np.random.choice(population, 5).var(),np.random.choice(population, 10).var(),np.random.choice(population, 200).var())"
      ],
      "execution_count": 145,
      "outputs": [
        {
          "output_type": "stream",
          "text": [
            "157.92206468955948 234.4 178.45 132.15240000000003\n"
          ],
          "name": "stdout"
        }
      ]
    },
    {
      "cell_type": "code",
      "metadata": {
        "colab": {
          "base_uri": "https://localhost:8080/",
          "height": 268
        },
        "id": "e4klG_wSaoj7",
        "outputId": "64e449df-b9a4-452b-858f-58ef98c81acf"
      },
      "source": [
        "import seaborn as sns\n",
        "ax = plt.subplots()\n",
        "\n",
        "def CLT(population,num_size,colors):\n",
        "  sample_mean = []\n",
        "  for _ in range(0,1000):\n",
        "    sample_mean.append(np.random.choice(population,num_size).mean())\n",
        "  sns.histplot(sample_mean, color = colors)\n",
        "\n",
        "CLT(df['오존(ppm)'],5,'#4000c7')\n",
        "CLT(df['오존(ppm)'],10,'#f39c12')\n",
        "CLT(df['오존(ppm)'],50,'#27ae60')\n",
        "CLT(df['오존(ppm)'],50,'#e74c3c')"
      ],
      "execution_count": 176,
      "outputs": [
        {
          "output_type": "display_data",
          "data": {
            "image/png": "[encoded data removed]",
            "text/plain": [
              "<Figure size 432x288 with 1 Axes>"
            ]
          },
          "metadata": {
            "tags": [],
            "needs_background": "light"
          }
        }
      ]
    },
    {
      "cell_type": "code",
      "metadata": {
        "colab": {
          "base_uri": "https://localhost:8080/"
        },
        "id": "btw6IhITFHdd",
        "outputId": "42128ce5-340b-4ed7-f28f-eb431eca040a"
      },
      "source": [
        "from google.colab import drive\n",
        "drive.mount('/content/drive')"
      ],
      "execution_count": 1,
      "outputs": [
        {
          "output_type": "stream",
          "text": [
            "Mounted at /content/drive\n"
          ],
          "name": "stdout"
        }
      ]
    }
  ]
}