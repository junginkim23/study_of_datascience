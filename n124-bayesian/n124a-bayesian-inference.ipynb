{
  "nbformat": 4,
  "nbformat_minor": 0,
  "metadata": {
    "colab": {
      "name": "n124a-bayesian-inference.ipynb",
      "provenance": [],
      "collapsed_sections": []
    },
    "kernelspec": {
      "display_name": "Python 3",
      "language": "python",
      "name": "python3"
    },
    "language_info": {
      "codemirror_mode": {
        "name": "ipython",
        "version": 3
      },
      "file_extension": ".py",
      "mimetype": "text/x-python",
      "name": "python",
      "nbconvert_exporter": "python",
      "pygments_lexer": "ipython3",
      "version": "3.8.2"
    }
  },
  "cells": [
    {
      "cell_type": "markdown",
      "metadata": {
        "id": "H7OLbevlbd_Z"
      },
      "source": [
        "<img src='https://i.imgur.com/RDAD11M.png' width = '200' align = 'right'>\n",
        "\n",
        "## *DATA SCIENCE / SECTION 1 / SPRINT 2 / NOTE 4*\n",
        "\n",
        "# 📝 Assignment\n",
        "\n",
        "# 베이지안 통계"
      ]
    },
    {
      "cell_type": "markdown",
      "metadata": {
        "id": "lPwZPpad3UOc"
      },
      "source": [
        "## 1. Multiple Choice Test\n",
        "\n",
        "객관식 문제를 푸는 과정에서, 학생은 답을 이미 알고 있거나 찍어야 합니다. \n",
        "\n",
        "학생이 답을 알 확률은 $p$이고, 답을 찍어서 맞출 확률이 $1\\over{m}$ 이라고 할 때 $m$과 $p$를 입력받아 학생이 문제의 답을 알고 맞췄을 확률을 계산하는 함수를 작성하세요."
      ]
    },
    {
      "cell_type": "markdown",
      "metadata": {
        "id": "5lAX_8B6ugnn"
      },
      "source": [
        " ___*학생이 문제를 알고 답을 맞췄을 확률! = 문제를 알고 맞출 확률 / 문제를 맞춘 확률___\n",
        "1. 문제를 알 확률 : $p$ \n",
        "  - 문제를 안다는 건 맞췄다는 것! 마킹을 실수하는 등 문제를 알지만 답을 못 맞췄다는 조건은 주어지지 않았으므로 무시\n",
        "2. 문제를 모를 확률 : $(1-p)$  \n",
        "  - 문제를 모름에도 답을 맞추고 못 맞추는 확률이 있다. \n",
        "    - 문제를 맞출 확률(찍어서 맞출 확률) : $\\frac{1}{m}$\n",
        "    - 문제를 틀릴 확률(찍었는데 틀릴 확률) : $1-\\frac{1}{m}$\n",
        "\n",
        "__결론: $\\frac{문제를 알고 맞출 확률}{문제를 맞출 확률(문제를 알고 맞출 확률 + 문제를 모르고 맞출 확률)}$__\n",
        "\n",
        "결국 \n",
        "  - 문제를 모르고 맞출 확률 : $\\frac{(1-p)}{m}$\n",
        "  - 문제를 알고 맞출 확률 : p"
      ]
    },
    {
      "cell_type": "code",
      "metadata": {
        "id": "trk9r0Tc97Mc"
      },
      "source": [
        "def correct(p, m):\n",
        "  return p / (p+(1-p)*(1/m))"
      ],
      "execution_count": null,
      "outputs": []
    },
    {
      "cell_type": "markdown",
      "metadata": {
        "id": "zMmDZ7oEzvFV"
      },
      "source": [
        "## 2. Blood Test\n",
        "\n",
        "특정 질병을 가지고 있는 경우 **99%** 의 확률로 탐지 할 수 있는 실험방법이 있습니다.\n",
        "\n",
        "그러나 동시에 이 방법은, **1%** 의 확률로 질병이 없지만 질병이 있다고 진단 하는 경우도 있는데요.\n",
        "\n",
        "실제로 모든 인구중 **0.5%** 만이 이 질병을 가지고 있다고 하겠습니다.\n",
        "\n",
        "특정 사람이 이 방법을 통해 질병이 있다고 진단 받았을때, 실제로 질병을 가지고 있을 확률을 구하는 함수를 작성하세요."
      ]
    },
    {
      "cell_type": "code",
      "metadata": {
        "id": "qKYGZ5fkFjQ-",
        "colab": {
          "base_uri": "https://localhost:8080/"
        },
        "outputId": "4fc892c5-df83-4e06-b69f-5d47d6063da2"
      },
      "source": [
        "def disease(prior, tpr, fpr): #tpr = true positive rate(실제로 질병 감염인 사람이 질병에 감염되었다고 확정할 확률), fpr = faluse positive rate\n",
        "  #P(질병감염)\n",
        "  p_infect = prior\n",
        "  \n",
        "  #P(정상)\n",
        "  p_normal = 1-p_infect\n",
        "  \n",
        "  #P(양성탐지|질병감염) = tpr\n",
        "\n",
        "  #P(양성탐지) = P(양성탐지|정상)*P(정상) + P(양성탐지|질병감염)*P(질병감염)\n",
        "  p_pos = ((fpr/100) * (p_normal)) + ((tpr/100) * (p_infect))\n",
        "  \n",
        "  #P(질병감염인|양성탐지) = P(양성탐지|질병감염) * P(질병감염) / P(양성탐지)\n",
        "  return ((tpr/100) * (p_infect)) / p_pos\n",
        "\n",
        "disease(0.005,99,1) * 100"
      ],
      "execution_count": null,
      "outputs": [
        {
          "output_type": "execute_result",
          "data": {
            "text/plain": [
              "33.22147651006711"
            ]
          },
          "metadata": {
            "tags": []
          },
          "execution_count": 38
        }
      ]
    },
    {
      "cell_type": "markdown",
      "metadata": {
        "id": "GP7Jv1XvwtkX"
      },
      "source": [
        "## 🔥 도전 과제:\n",
        "\n"
      ]
    },
    {
      "cell_type": "markdown",
      "metadata": {
        "id": "M3WuZEGM3UOd"
      },
      "source": [
        "### 다음 문제를 읽고 답을 구하세요\n",
        "\n",
        "At a Certain stage of a criminal investigation, the inspector in charge is **60%** convinced of the guilt of a certain suspect. <br>\n",
        "Suppose now that a new piece of evidence that shows that the criminal has a left-handedness is uncovered. <br>\n",
        "If **20% of population possesses this characteristic**, how certain of the guilt of the suspect should the inspector now be if it turns out that the suspect is among this group? <br>\n",
        "\n",
        "After that, the new evidence is subject to different possible interpretations, and in fact only shows that it is **90% likely that the criminal possess this characteristic**.  \n",
        "In this case how likely would it be that the suspect is guilty?"
      ]
    },
    {
      "cell_type": "markdown",
      "metadata": {
        "id": "_OecOzJ619oI"
      },
      "source": [
        "___단서___\n",
        "1. 특정 용의자가 유죄일 확률 : 60% \n",
        "2. 용의자가 왼손잡이인데, 전체 인구의 20%가 왼손잡이다.\n",
        "\n",
        "### 용의자가 왼손잡이라면 특정 용의자가 유죄일 확률"
      ]
    },
    {
      "cell_type": "code",
      "metadata": {
        "id": "ZXf5Bp5PzvFY",
        "colab": {
          "base_uri": "https://localhost:8080/"
        },
        "outputId": "9ec9ff49-eadb-4378-ed0e-a4bb3ec16bab"
      },
      "source": [
        "#P(특정 용의자가 유죄|왼속잡이) = P(왼손잡이|특정 용의자가 유죄)*P(특정 용의자가 유죄) / P(왼손잡이)\n",
        "\n",
        "def criminal(characteristic):\n",
        "  #P(왼손잡이|특정 용의자가 유죄) = 1 , 그 이유는 특정 용의자가 유죄인데, 왼손잡이일 확률은 당연히 1이다. 애초에 용의자가 왼손잡이라는 단서가 주어졌기 때문이다.\n",
        "  lefthand_suspect = 1\n",
        "\n",
        "  #전체 인구중 왼손잡이일 확률 0.2\n",
        "  lefthand_of_population = characteristic\n",
        "  \n",
        "  #P(특정 용의자가 유죄) = 0.6\n",
        "  specific_suspect = 0.6\n",
        "\n",
        "  #P(왼손잡이|특정 용의자가 무죄) \n",
        "  lefthand_no_suspect = lefthand_of_population*(1-specific_suspect)/(1-specific_suspect)\n",
        "\n",
        "  #P(왼손잡이) = P(왼손잡이|특정 용의자가 유죄)P(특정 용의자가 유죄) + P(왼손잡이|특정 용의자가 무죄)P(특정 용의자가 무죄) \n",
        "  left_hand = lefthand_suspect*specific_suspect +  lefthand_no_suspect*(1-specific_suspect)\n",
        "\n",
        "  return 1*(specific_suspect)/left_hand\n",
        "\n",
        "criminal(0.2)"
      ],
      "execution_count": null,
      "outputs": [
        {
          "output_type": "execute_result",
          "data": {
            "text/plain": [
              "0.8823529411764707"
            ]
          },
          "metadata": {
            "tags": []
          },
          "execution_count": 47
        }
      ]
    },
    {
      "cell_type": "code",
      "metadata": {
        "id": "tP6r8v-LOjRk",
        "colab": {
          "base_uri": "https://localhost:8080/"
        },
        "outputId": "019eaf2c-25be-424c-da88-c38b1210c2c2"
      },
      "source": [
        "#it is 90% likely that the criminal possess this characteristic.  \n",
        "criminal(0.9)"
      ],
      "execution_count": null,
      "outputs": [
        {
          "output_type": "execute_result",
          "data": {
            "text/plain": [
              "0.625"
            ]
          },
          "metadata": {
            "tags": []
          },
          "execution_count": 48
        }
      ]
    }
  ]
}