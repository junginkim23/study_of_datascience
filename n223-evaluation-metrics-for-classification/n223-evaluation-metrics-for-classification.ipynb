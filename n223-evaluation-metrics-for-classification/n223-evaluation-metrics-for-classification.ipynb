{
  "nbformat": 4,
  "nbformat_minor": 0,
  "metadata": {
    "kernelspec": {
      "display_name": "codestates_ds",
      "language": "python",
      "name": "codestates_ds"
    },
    "language_info": {
      "codemirror_mode": {
        "name": "ipython",
        "version": 3
      },
      "file_extension": ".py",
      "mimetype": "text/x-python",
      "name": "python",
      "nbconvert_exporter": "python",
      "pygments_lexer": "ipython3",
      "version": "3.7.7"
    },
    "colab": {
      "name": "n223-evaluation-metrics-for-classification.ipynb",
      "provenance": []
    },
    "widgets": {
      "application/vnd.jupyter.widget-state+json": {
        "c2fb3de74fbd411d822c36039921beac": {
          "model_module": "@jupyter-widgets/controls",
          "model_name": "VBoxModel",
          "state": {
            "_view_name": "VBoxView",
            "_dom_classes": [
              "widget-interact"
            ],
            "_model_name": "VBoxModel",
            "_view_module": "@jupyter-widgets/controls",
            "_model_module_version": "1.5.0",
            "_view_count": null,
            "_view_module_version": "1.5.0",
            "box_style": "",
            "layout": "IPY_MODEL_b45f2782c08644afbdfbd8eec56382e8",
            "_model_module": "@jupyter-widgets/controls",
            "children": [
              "IPY_MODEL_c9801836c8734cbe9d0486c8625002b6",
              "IPY_MODEL_46f1579d302146f7bb6bb9b1fa665642"
            ]
          }
        },
        "b45f2782c08644afbdfbd8eec56382e8": {
          "model_module": "@jupyter-widgets/base",
          "model_name": "LayoutModel",
          "state": {
            "_view_name": "LayoutView",
            "grid_template_rows": null,
            "right": null,
            "justify_content": null,
            "_view_module": "@jupyter-widgets/base",
            "overflow": null,
            "_model_module_version": "1.2.0",
            "_view_count": null,
            "flex_flow": null,
            "width": null,
            "min_width": null,
            "border": null,
            "align_items": null,
            "bottom": null,
            "_model_module": "@jupyter-widgets/base",
            "top": null,
            "grid_column": null,
            "overflow_y": null,
            "overflow_x": null,
            "grid_auto_flow": null,
            "grid_area": null,
            "grid_template_columns": null,
            "flex": null,
            "_model_name": "LayoutModel",
            "justify_items": null,
            "grid_row": null,
            "max_height": null,
            "align_content": null,
            "visibility": null,
            "align_self": null,
            "height": null,
            "min_height": null,
            "padding": null,
            "grid_auto_rows": null,
            "grid_gap": null,
            "max_width": null,
            "order": null,
            "_view_module_version": "1.2.0",
            "grid_template_areas": null,
            "object_position": null,
            "object_fit": null,
            "grid_auto_columns": null,
            "margin": null,
            "display": null,
            "left": null
          }
        },
        "c9801836c8734cbe9d0486c8625002b6": {
          "model_module": "@jupyter-widgets/controls",
          "model_name": "FloatSliderModel",
          "state": {
            "_view_name": "FloatSliderView",
            "style": "IPY_MODEL_5eeb5cebb2a34462a4761cebe46ddaad",
            "_dom_classes": [],
            "description": "threshold",
            "step": 0.01,
            "_model_name": "FloatSliderModel",
            "orientation": "horizontal",
            "max": 1,
            "_view_module": "@jupyter-widgets/controls",
            "_model_module_version": "1.5.0",
            "value": 0.66,
            "_view_count": null,
            "disabled": false,
            "_view_module_version": "1.5.0",
            "min": 0,
            "continuous_update": true,
            "readout_format": ".2f",
            "description_tooltip": null,
            "readout": true,
            "_model_module": "@jupyter-widgets/controls",
            "layout": "IPY_MODEL_0d0bc674ae344224be8e6640c159c717"
          }
        },
        "46f1579d302146f7bb6bb9b1fa665642": {
          "model_module": "@jupyter-widgets/output",
          "model_name": "OutputModel",
          "state": {
            "_view_name": "OutputView",
            "msg_id": "",
            "_dom_classes": [],
            "_model_name": "OutputModel",
            "outputs": [
              {
                "output_type": "display_data",
                "metadata": {
                  "tags": [],
                  "needs_background": "light"
                },
                "image/png": "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\n",
                "text/plain": "<Figure size 432x288 with 1 Axes>"
              },
              {
                "output_type": "stream",
                "metadata": {
                  "tags": []
                },
                "text": "              precision    recall  f1-score   support\n\n           0       0.69      0.90      0.78      7680\n           1       0.81      0.50      0.62      6372\n\n    accuracy                           0.72     14052\n   macro avg       0.75      0.70      0.70     14052\nweighted avg       0.74      0.72      0.71     14052\n\n",
                "stream": "stdout"
              }
            ],
            "_view_module": "@jupyter-widgets/output",
            "_model_module_version": "1.0.0",
            "_view_count": null,
            "_view_module_version": "1.0.0",
            "layout": "IPY_MODEL_323e731652fd4e7b973bb61c714b0731",
            "_model_module": "@jupyter-widgets/output"
          }
        },
        "5eeb5cebb2a34462a4761cebe46ddaad": {
          "model_module": "@jupyter-widgets/controls",
          "model_name": "SliderStyleModel",
          "state": {
            "_view_name": "StyleView",
            "handle_color": null,
            "_model_name": "SliderStyleModel",
            "description_width": "",
            "_view_module": "@jupyter-widgets/base",
            "_model_module_version": "1.5.0",
            "_view_count": null,
            "_view_module_version": "1.2.0",
            "_model_module": "@jupyter-widgets/controls"
          }
        },
        "0d0bc674ae344224be8e6640c159c717": {
          "model_module": "@jupyter-widgets/base",
          "model_name": "LayoutModel",
          "state": {
            "_view_name": "LayoutView",
            "grid_template_rows": null,
            "right": null,
            "justify_content": null,
            "_view_module": "@jupyter-widgets/base",
            "overflow": null,
            "_model_module_version": "1.2.0",
            "_view_count": null,
            "flex_flow": null,
            "width": null,
            "min_width": null,
            "border": null,
            "align_items": null,
            "bottom": null,
            "_model_module": "@jupyter-widgets/base",
            "top": null,
            "grid_column": null,
            "overflow_y": null,
            "overflow_x": null,
            "grid_auto_flow": null,
            "grid_area": null,
            "grid_template_columns": null,
            "flex": null,
            "_model_name": "LayoutModel",
            "justify_items": null,
            "grid_row": null,
            "max_height": null,
            "align_content": null,
            "visibility": null,
            "align_self": null,
            "height": null,
            "min_height": null,
            "padding": null,
            "grid_auto_rows": null,
            "grid_gap": null,
            "max_width": null,
            "order": null,
            "_view_module_version": "1.2.0",
            "grid_template_areas": null,
            "object_position": null,
            "object_fit": null,
            "grid_auto_columns": null,
            "margin": null,
            "display": null,
            "left": null
          }
        },
        "323e731652fd4e7b973bb61c714b0731": {
          "model_module": "@jupyter-widgets/base",
          "model_name": "LayoutModel",
          "state": {
            "_view_name": "LayoutView",
            "grid_template_rows": null,
            "right": null,
            "justify_content": null,
            "_view_module": "@jupyter-widgets/base",
            "overflow": null,
            "_model_module_version": "1.2.0",
            "_view_count": null,
            "flex_flow": null,
            "width": null,
            "min_width": null,
            "border": null,
            "align_items": null,
            "bottom": null,
            "_model_module": "@jupyter-widgets/base",
            "top": null,
            "grid_column": null,
            "overflow_y": null,
            "overflow_x": null,
            "grid_auto_flow": null,
            "grid_area": null,
            "grid_template_columns": null,
            "flex": null,
            "_model_name": "LayoutModel",
            "justify_items": null,
            "grid_row": null,
            "max_height": null,
            "align_content": null,
            "visibility": null,
            "align_self": null,
            "height": null,
            "min_height": null,
            "padding": null,
            "grid_auto_rows": null,
            "grid_gap": null,
            "max_width": null,
            "order": null,
            "_view_module_version": "1.2.0",
            "grid_template_areas": null,
            "object_position": null,
            "object_fit": null,
            "grid_auto_columns": null,
            "margin": null,
            "display": null,
            "left": null
          }
        }
      }
    }
  },
  "cells": [
    {
      "cell_type": "markdown",
      "metadata": {
        "id": "EZyiOteN16cD"
      },
      "source": [
        "<img align=\"right\" src=\"https://ds-cs-images.s3.ap-northeast-2.amazonaws.com/Codestates_Fulllogo_Color.png\" width=100>\n",
        "\n",
        "## *DATA SCIENCE / SECTION 2 / SPRINT 2 / NOTE 3*\n",
        "\n",
        "---\n",
        "# Evaluation Metrics for Classification"
      ]
    },
    {
      "cell_type": "markdown",
      "metadata": {
        "id": "KMI2k-oBsS08"
      },
      "source": [
        "- **Confusion matrix** 를 만들고 해석할 수 있습니다.\n",
        "- **정밀도, 재현율** 을 이해하고 사용할 수 있습니다.\n",
        "- **ROC curve, AUC 점수** 를 이해하고 사용할 수 있습니다."
      ]
    },
    {
      "cell_type": "markdown",
      "metadata": {
        "id": "rU7RuVcjWdcp"
      },
      "source": [
        "### Warm up\n",
        "\n",
        "다음 동영상을 시청하고 질문에 답해보세요.\n",
        "- [Introduction to the Confusion Matrix in Classification](https://youtu.be/wpp3VfzgNcI)\n",
        "- [Precision, Recall & F-Measure](https://youtu.be/j-EB6RqqjGI)\n",
        "    - 동영상에 F beta 공식은 잘못 적혀 있습니다 주의하세요. 그리고 b를 키우면 recall의 영향을 더 많이 받습니다.\n",
        "    - Precision, Recall의 차이점이 무엇일까요?\n",
        "    - 암 진단을 위해서는 어떤 지표가 더 중요할까요? 예시를 들어 생각해 보세요!\n"
      ]
    },
    {
      "cell_type": "markdown",
      "metadata": {
        "id": "jwiN13VrPjX8"
      },
      "source": [
        "---"
      ]
    },
    {
      "cell_type": "markdown",
      "metadata": {
        "id": "TVPjTFr6PjX8"
      },
      "source": [
        "#### 계절독감 접종여부를 타겟 데이터로 사용하겠습니다."
      ]
    },
    {
      "cell_type": "code",
      "metadata": {
        "id": "FzZRuN5lPjX9"
      },
      "source": [
        "import pandas as pd\n",
        "import numpy as np"
      ],
      "execution_count": 1,
      "outputs": []
    },
    {
      "cell_type": "code",
      "metadata": {
        "id": "OpFoag9QoTgA"
      },
      "source": [
        "# 이번에는 타겟으로 계절독감백신 접종여부를 사용하겠습니다.\n",
        "\n",
        "target = 'vacc_seas_f'\n",
        "train = pd.merge(pd.read_csv('https://ds-lecture-data.s3.ap-northeast-2.amazonaws.com/vacc_flu/train.csv'), \n",
        "                 pd.read_csv('https://ds-lecture-data.s3.ap-northeast-2.amazonaws.com/vacc_flu/train_labels.csv')[target], left_index=True, right_index=True)\n",
        "# 테스트 데이터 수를 n=14052 로 한정합니다.\n",
        "test = pd.read_csv('https://ds-lecture-data.s3.ap-northeast-2.amazonaws.com/vacc_flu/test.csv').iloc[:14052]\n",
        "sample_submission = pd.read_csv('https://ds-lecture-data.s3.ap-northeast-2.amazonaws.com/vacc_flu/submission.csv')"
      ],
      "execution_count": 2,
      "outputs": []
    },
    {
      "cell_type": "markdown",
      "metadata": {
        "id": "nJkqiBDYPjYA"
      },
      "source": [
        "#### train 데이터를 훈련/검증 세트로 분리합니다."
      ]
    },
    {
      "cell_type": "code",
      "metadata": {
        "id": "pwglHqaNPjYB",
        "outputId": "028f269d-498d-49e7-baea-3c8494f4ff5e",
        "colab": {
          "base_uri": "https://localhost:8080/"
        }
      },
      "source": [
        "from sklearn.model_selection import train_test_split\n",
        "\n",
        "# 검증세트를 테스트세트와 크기와 같도록 만듭니다.\n",
        "train, val = train_test_split(train, test_size=len(test), \n",
        "                              stratify=train[target], random_state=2)\n",
        "\n",
        "\n",
        "train.shape, val.shape, test.shape"
      ],
      "execution_count": 3,
      "outputs": [
        {
          "output_type": "execute_result",
          "data": {
            "text/plain": [
              "((28102, 39), (14052, 39), (14052, 38))"
            ]
          },
          "metadata": {
            "tags": []
          },
          "execution_count": 3
        }
      ]
    },
    {
      "cell_type": "markdown",
      "metadata": {
        "id": "o3_sRW6EPjYE"
      },
      "source": [
        "이전 강의에서와 같이 데이터를 전처리 합니다."
      ]
    },
    {
      "cell_type": "code",
      "metadata": {
        "id": "RCePd6ioPjYE"
      },
      "source": [
        "def engineer(df):\n",
        "    \"\"\"특성을 엔지니어링 하는 함수입니다.\"\"\"\n",
        "        \n",
        "    # 새로운 특성을 생성합니다.\n",
        "    behaviorals = [col for col in df.columns if 'behavioral' in col] \n",
        "    df['behaviorals'] = df[behaviorals].sum(axis=1)\n",
        "    \n",
        "    \n",
        "    # 계절독감(seas)에 대한 모델을 학습할 것이기 때문에 h1n1에 대한 특성을 제거합니다.\n",
        "    dels = [col for col in df.columns if ('employment' in col or 'h1n1' in col)]\n",
        "    df.drop(columns=dels, inplace=True)\n",
        "\n",
        "        \n",
        "    return df\n",
        "\n",
        "\n",
        "train = engineer(train)\n",
        "val = engineer(val)\n",
        "test = engineer(test)"
      ],
      "execution_count": 4,
      "outputs": []
    },
    {
      "cell_type": "markdown",
      "metadata": {
        "id": "ZQAANWiEPjYF"
      },
      "source": [
        "#### 훈련/검증/테스트 데이터를 특성과 타겟으로 분리합니다"
      ]
    },
    {
      "cell_type": "code",
      "metadata": {
        "id": "vGJk40ucPjYF"
      },
      "source": [
        "features = train.drop(columns=[target]).columns\n",
        "\n",
        "X_train = train[features]\n",
        "y_train = train[target]\n",
        "X_val = val[features]\n",
        "y_val = val[target]\n",
        "X_test = test[features]"
      ],
      "execution_count": 5,
      "outputs": []
    },
    {
      "cell_type": "code",
      "metadata": {
        "id": "L1E9iLIQP69e",
        "outputId": "5bb1c72b-eba5-41ca-d71e-b2664d5aeea6",
        "colab": {
          "base_uri": "https://localhost:8080/"
        }
      },
      "source": [
        "!pip install --upgrade category_encoders"
      ],
      "execution_count": 7,
      "outputs": [
        {
          "output_type": "stream",
          "text": [
            "Collecting category_encoders\n",
            "\u001b[?25l  Downloading https://files.pythonhosted.org/packages/44/57/fcef41c248701ee62e8325026b90c432adea35555cbc870aff9cfba23727/category_encoders-2.2.2-py2.py3-none-any.whl (80kB)\n",
            "\r\u001b[K     |████                            | 10kB 19.3MB/s eta 0:00:01\r\u001b[K     |████████▏                       | 20kB 26.5MB/s eta 0:00:01\r\u001b[K     |████████████▏                   | 30kB 24.8MB/s eta 0:00:01\r\u001b[K     |████████████████▎               | 40kB 26.9MB/s eta 0:00:01\r\u001b[K     |████████████████████▎           | 51kB 29.5MB/s eta 0:00:01\r\u001b[K     |████████████████████████▍       | 61kB 31.5MB/s eta 0:00:01\r\u001b[K     |████████████████████████████▍   | 71kB 26.3MB/s eta 0:00:01\r\u001b[K     |████████████████████████████████| 81kB 9.4MB/s \n",
            "\u001b[?25hRequirement already satisfied, skipping upgrade: numpy>=1.14.0 in /usr/local/lib/python3.7/dist-packages (from category_encoders) (1.19.5)\n",
            "Requirement already satisfied, skipping upgrade: scikit-learn>=0.20.0 in /usr/local/lib/python3.7/dist-packages (from category_encoders) (0.22.2.post1)\n",
            "Requirement already satisfied, skipping upgrade: pandas>=0.21.1 in /usr/local/lib/python3.7/dist-packages (from category_encoders) (1.1.5)\n",
            "Requirement already satisfied, skipping upgrade: statsmodels>=0.9.0 in /usr/local/lib/python3.7/dist-packages (from category_encoders) (0.10.2)\n",
            "Requirement already satisfied, skipping upgrade: scipy>=1.0.0 in /usr/local/lib/python3.7/dist-packages (from category_encoders) (1.4.1)\n",
            "Requirement already satisfied, skipping upgrade: patsy>=0.5.1 in /usr/local/lib/python3.7/dist-packages (from category_encoders) (0.5.1)\n",
            "Requirement already satisfied, skipping upgrade: joblib>=0.11 in /usr/local/lib/python3.7/dist-packages (from scikit-learn>=0.20.0->category_encoders) (1.0.1)\n",
            "Requirement already satisfied, skipping upgrade: pytz>=2017.2 in /usr/local/lib/python3.7/dist-packages (from pandas>=0.21.1->category_encoders) (2018.9)\n",
            "Requirement already satisfied, skipping upgrade: python-dateutil>=2.7.3 in /usr/local/lib/python3.7/dist-packages (from pandas>=0.21.1->category_encoders) (2.8.1)\n",
            "Requirement already satisfied, skipping upgrade: six in /usr/local/lib/python3.7/dist-packages (from patsy>=0.5.1->category_encoders) (1.15.0)\n",
            "Installing collected packages: category-encoders\n",
            "Successfully installed category-encoders-2.2.2\n"
          ],
          "name": "stdout"
        }
      ]
    },
    {
      "cell_type": "markdown",
      "metadata": {
        "id": "5Ki2HNAkPjYG"
      },
      "source": [
        "#### 모델을 학습시키겠습니다."
      ]
    },
    {
      "cell_type": "code",
      "metadata": {
        "colab": {
          "base_uri": "https://localhost:8080/"
        },
        "id": "t8Cjxzrwn_iL",
        "outputId": "a28c17c7-faf5-43a5-ffac-fa62185aaafc"
      },
      "source": [
        "from sklearn.pipeline import make_pipeline\n",
        "from category_encoders import OrdinalEncoder\n",
        "from sklearn.impute import SimpleImputer\n",
        "from sklearn.ensemble import RandomForestClassifier\n",
        "from sklearn.metrics import accuracy_score\n",
        "\n",
        "# 파이프라인을 만들어 봅시다.\n",
        "pipe = make_pipeline(\n",
        "    OrdinalEncoder(), \n",
        "    SimpleImputer(), \n",
        "    RandomForestClassifier(n_estimators=100, random_state=2, n_jobs=-1)\n",
        ")\n",
        "\n",
        "\n",
        "pipe.fit(X_train, y_train)\n",
        "y_pred = pipe.predict(X_val)\n",
        "print('검증 정확도: ', accuracy_score(y_val, y_pred))"
      ],
      "execution_count": 8,
      "outputs": [
        {
          "output_type": "stream",
          "text": [
            "/usr/local/lib/python3.7/dist-packages/statsmodels/tools/_testing.py:19: FutureWarning: pandas.util.testing is deprecated. Use the functions in the public API at pandas.testing instead.\n",
            "  import pandas.util.testing as tm\n"
          ],
          "name": "stderr"
        },
        {
          "output_type": "stream",
          "text": [
            "검증 정확도:  0.7548391688015941\n"
          ],
          "name": "stdout"
        }
      ]
    },
    {
      "cell_type": "markdown",
      "metadata": {
        "id": "EfhziD2Wn_iO"
      },
      "source": [
        "## 분류 모델의 성능 평가 지표를 보여주는 Confusion matrix 에 관해 살펴봅시다."
      ]
    },
    {
      "cell_type": "markdown",
      "metadata": {
        "id": "GWyLpBPbPjYH"
      },
      "source": [
        "#### sklearn.metrics.plot_confusion_matrix를 사용해 봅시다."
      ]
    },
    {
      "cell_type": "code",
      "metadata": {
        "id": "2JnensaSPjYI",
        "outputId": "d631c900-c8bd-4c79-f896-ca302525c05e",
        "colab": {
          "base_uri": "https://localhost:8080/",
          "height": 297
        }
      },
      "source": [
        "from sklearn.metrics import plot_confusion_matrix\n",
        "import matplotlib.pyplot as plt\n",
        "\n",
        "fig, ax = plt.subplots()\n",
        "pcm = plot_confusion_matrix(pipe, X_val, y_val,\n",
        "                            cmap=plt.cm.Blues,\n",
        "                            ax=ax);\n",
        "plt.title(f'Confusion matrix, n = {len(y_val)}', fontsize=15)\n",
        "plt.show()"
      ],
      "execution_count": 9,
      "outputs": [
        {
          "output_type": "display_data",
          "data": {
            "image/png": "[encoded data removed]",
            "text/plain": [
              "<Figure size 432x288 with 2 Axes>"
            ]
          },
          "metadata": {
            "tags": [],
            "needs_background": "light"
          }
        }
      ]
    },
    {
      "cell_type": "markdown",
      "metadata": {
        "id": "PdQ55MM0PjYI"
      },
      "source": [
        "#### plot_confusion_matrix 에서 테이블 데이터만 가져와 총 정확도(accuracy)를 구해봅시다."
      ]
    },
    {
      "cell_type": "code",
      "metadata": {
        "id": "eNGOh6XFPjYJ",
        "outputId": "b4545729-e36c-4e44-f9a6-5121ee208209",
        "colab": {
          "base_uri": "https://localhost:8080/"
        }
      },
      "source": [
        "cm = pcm.confusion_matrix\n",
        "cm"
      ],
      "execution_count": 10,
      "outputs": [
        {
          "output_type": "execute_result",
          "data": {
            "text/plain": [
              "array([[6165, 1515],\n",
              "       [1930, 4442]])"
            ]
          },
          "metadata": {
            "tags": []
          },
          "execution_count": 10
        }
      ]
    },
    {
      "cell_type": "markdown",
      "metadata": {
        "id": "GZQX7qXgPjYJ"
      },
      "source": [
        "- True Positive(TP) 백신을 맞은 사람을 잘 예측한 경우"
      ]
    },
    {
      "cell_type": "code",
      "metadata": {
        "id": "UOZ88I8XPjYK",
        "outputId": "274ee2bb-23ef-4068-b47c-a0afd0e4eaff",
        "colab": {
          "base_uri": "https://localhost:8080/"
        }
      },
      "source": [
        "# 예측:functional, 실제:functional\n",
        "cm[1][1]"
      ],
      "execution_count": 11,
      "outputs": [
        {
          "output_type": "execute_result",
          "data": {
            "text/plain": [
              "4442"
            ]
          },
          "metadata": {
            "tags": []
          },
          "execution_count": 11
        }
      ]
    },
    {
      "cell_type": "markdown",
      "metadata": {
        "id": "fP6FGBGUn_iQ"
      },
      "source": [
        "- 정확하게 맞춘 예측은 모두 몇 가지인가요? (TP + TN)"
      ]
    },
    {
      "cell_type": "code",
      "metadata": {
        "colab": {
          "base_uri": "https://localhost:8080/"
        },
        "id": "wRSaYRPWn_iR",
        "outputId": "b4036c80-9bcd-4842-bf7a-f6d4b634af46"
      },
      "source": [
        "correct_predictions = np.diag(cm).sum()\n",
        "correct_predictions"
      ],
      "execution_count": 12,
      "outputs": [
        {
          "output_type": "execute_result",
          "data": {
            "text/plain": [
              "10607"
            ]
          },
          "metadata": {
            "tags": []
          },
          "execution_count": 12
        }
      ]
    },
    {
      "cell_type": "markdown",
      "metadata": {
        "id": "-q-3R7Ean_iT"
      },
      "source": [
        "- 총 예측한 수는 어떻게 되나요?"
      ]
    },
    {
      "cell_type": "code",
      "metadata": {
        "colab": {
          "base_uri": "https://localhost:8080/"
        },
        "id": "vLAQL05fn_iT",
        "outputId": "7c26ca0f-df25-4aa7-ac7d-e49e1f9d816b"
      },
      "source": [
        "total_predictions = cm.sum()\n",
        "total_predictions"
      ],
      "execution_count": 13,
      "outputs": [
        {
          "output_type": "execute_result",
          "data": {
            "text/plain": [
              "14052"
            ]
          },
          "metadata": {
            "tags": []
          },
          "execution_count": 13
        }
      ]
    },
    {
      "cell_type": "markdown",
      "metadata": {
        "id": "K1yQ_jYPn_iV"
      },
      "source": [
        "- 분류 정확도(classification accuracy)를 계산해 보세요"
      ]
    },
    {
      "cell_type": "code",
      "metadata": {
        "colab": {
          "base_uri": "https://localhost:8080/"
        },
        "id": "fskAC6SYn_iW",
        "outputId": "1dab05cd-7c6e-4c94-e2ce-14ffb5613a1a"
      },
      "source": [
        "correct_predictions/total_predictions"
      ],
      "execution_count": 14,
      "outputs": [
        {
          "output_type": "execute_result",
          "data": {
            "text/plain": [
              "0.7548391688015941"
            ]
          },
          "metadata": {
            "tags": []
          },
          "execution_count": 14
        }
      ]
    },
    {
      "cell_type": "markdown",
      "metadata": {
        "id": "BsJRpf5FPjYN"
      },
      "source": [
        "`accuracy_score(y_val, y_pred)`로 계산한 `검증 정확도`와 같은 값이 나오네요."
      ]
    },
    {
      "cell_type": "code",
      "metadata": {
        "id": "Z-FJlsHmPjYN",
        "outputId": "26b35c4a-d09f-4ecd-f73e-434d5cc744bf",
        "colab": {
          "base_uri": "https://localhost:8080/"
        }
      },
      "source": [
        "print('검증 정확도: ', accuracy_score(y_val, y_pred))"
      ],
      "execution_count": 15,
      "outputs": [
        {
          "output_type": "stream",
          "text": [
            "검증 정확도:  0.7548391688015941\n"
          ],
          "name": "stdout"
        }
      ]
    },
    {
      "cell_type": "markdown",
      "metadata": {
        "id": "EqFgEm3tn_iY"
      },
      "source": [
        "#### 분류기의 정확한 성능을 판단하기 위해서는 정확도 외에 다른 평가지표를 같이 사용해야 합니다.\n",
        "\n",
        "특히 **정밀도(precision)**, **재현율(recall)** 을 살펴보아야 합니다.\n",
        "\n",
        "[Scikit-Learn User Guide — Classification Report](https://scikit-learn.org/stable/modules/model_evaluation.html#classification-report)\n",
        "\n",
        "- 정확도(Accuracy)는 전체 범주를 모두 바르게 맞춘 경우를 전체 수로 나눈 값입니다: $\\large \\frac{TP + TN}{Total}$\n",
        "\n",
        "- 정밀도(Precision)는 **Positive로 예측**한 경우 중 올바르게 Positive를 맞춘 비율입니다: $\\large \\frac{TP}{TP + FP}$\n",
        "\n",
        "- 재현율(Recall, Sensitivity)은 **실제 Positive**인 것 중 올바르게 Positive를 맞춘 것의 비율 입니다: $\\large \\frac{TP}{TP + FN}$\n",
        "\n",
        "- F1점수(F1 score)는 정밀도와 재현율의 조화평균(harmonic mean)입니다:  $ 2\\cdot\\large\\frac{precision\\cdot recall}{precision + recall}$"
      ]
    },
    {
      "cell_type": "markdown",
      "metadata": {
        "id": "2RJ8uqEAPjYO"
      },
      "source": [
        "<img src=\"https://i.imgur.com/4tes8Au.png\" />"
      ]
    },
    {
      "cell_type": "markdown",
      "metadata": {
        "id": "Z1U7HdC6n_ia"
      },
      "source": [
        "#### 다루는 문제에 따라 정밀도와 재현율 중 어느 평가지표를 우선시 해야하는지 판단해야 합니다.\n",
        "- 병원에서 초기 암진단을 하는 경우?\n",
        "- 넷플릭스에서 영화추천을 해주는 경우?\n",
        "\n"
      ]
    },
    {
      "cell_type": "markdown",
      "metadata": {
        "id": "b-7QKsogPjYQ"
      },
      "source": [
        "sklearn.metrics.classification_report 를 사용하면 정밀도, 재현율을 확인할 수 있습니다."
      ]
    },
    {
      "cell_type": "code",
      "metadata": {
        "id": "EvIcMTHiPjYT",
        "outputId": "98b61dad-6f7a-4a73-8ba2-7ba648986a76",
        "colab": {
          "base_uri": "https://localhost:8080/"
        }
      },
      "source": [
        "from sklearn.metrics import classification_report\n",
        "print(classification_report(y_val, y_pred))"
      ],
      "execution_count": 16,
      "outputs": [
        {
          "output_type": "stream",
          "text": [
            "              precision    recall  f1-score   support\n",
            "\n",
            "           0       0.76      0.80      0.78      7680\n",
            "           1       0.75      0.70      0.72      6372\n",
            "\n",
            "    accuracy                           0.75     14052\n",
            "   macro avg       0.75      0.75      0.75     14052\n",
            "weighted avg       0.75      0.75      0.75     14052\n",
            "\n"
          ],
          "name": "stdout"
        }
      ]
    },
    {
      "cell_type": "markdown",
      "metadata": {
        "id": "50R-Xhwdn_ie"
      },
      "source": [
        "#### 이제 정밀도과 재현율을 직접 계산해 봅시다. 참고를 위해 confusion_matrix를 다시 불러오겠습니다."
      ]
    },
    {
      "cell_type": "code",
      "metadata": {
        "id": "Q3kMcpKcPjYV",
        "outputId": "495ffebe-4458-45f1-818b-7bb26720d2e6",
        "colab": {
          "base_uri": "https://localhost:8080/",
          "height": 297
        }
      },
      "source": [
        "fig, ax = plt.subplots()\n",
        "pcm = plot_confusion_matrix(pipe, X_val, y_val,\n",
        "                            cmap=plt.cm.Blues,\n",
        "                            ax=ax);\n",
        "plt.title(f'Confusion matrix, n = {len(y_val)}', fontsize=15)\n",
        "plt.show()"
      ],
      "execution_count": 17,
      "outputs": [
        {
          "output_type": "display_data",
          "data": {
            "image/png": "[encoded data removed]",
            "text/plain": [
              "<Figure size 432x288 with 2 Axes>"
            ]
          },
          "metadata": {
            "tags": [],
            "needs_background": "light"
          }
        }
      ]
    },
    {
      "cell_type": "markdown",
      "metadata": {
        "id": "eGGv2DfzPjYW"
      },
      "source": [
        "#### 백신접종을 Positive라고 할 때 TP, TN, FP, FN 를 정의합시다."
      ]
    },
    {
      "cell_type": "code",
      "metadata": {
        "id": "ZEFV-dmPPjYW"
      },
      "source": [
        "tp = 4442\n",
        "tn = 6165\n",
        "fp = 1515\n",
        "fn = 1930\n",
        "total = tp + tn + fp + fn"
      ],
      "execution_count": 18,
      "outputs": []
    },
    {
      "cell_type": "markdown",
      "metadata": {
        "id": "iY2rfzA4n_ih"
      },
      "source": [
        "#### 백신 접종을 올바르게 예측한 경우는?"
      ]
    },
    {
      "cell_type": "code",
      "metadata": {
        "colab": {
          "base_uri": "https://localhost:8080/"
        },
        "id": "O-anLkCin_ii",
        "outputId": "893b1157-1040-49e8-f0ee-72a30ce97b3d"
      },
      "source": [
        "tp"
      ],
      "execution_count": 19,
      "outputs": [
        {
          "output_type": "execute_result",
          "data": {
            "text/plain": [
              "4442"
            ]
          },
          "metadata": {
            "tags": []
          },
          "execution_count": 19
        }
      ]
    },
    {
      "cell_type": "markdown",
      "metadata": {
        "id": "pYM6f99cn_ij"
      },
      "source": [
        "#### 백신 접종을 잘못 예측한 경우는?"
      ]
    },
    {
      "cell_type": "code",
      "metadata": {
        "colab": {
          "base_uri": "https://localhost:8080/"
        },
        "id": "_qCiA8j2n_ik",
        "outputId": "ecc3a023-aa77-46f7-99c1-5a4267a74e6d"
      },
      "source": [
        "fp"
      ],
      "execution_count": 20,
      "outputs": [
        {
          "output_type": "execute_result",
          "data": {
            "text/plain": [
              "1515"
            ]
          },
          "metadata": {
            "tags": []
          },
          "execution_count": 20
        }
      ]
    },
    {
      "cell_type": "markdown",
      "metadata": {
        "id": "mXNuZ_Rnn_il"
      },
      "source": [
        "#### 백신 접종에 대해 정밀도를 구해봅시다."
      ]
    },
    {
      "cell_type": "code",
      "metadata": {
        "colab": {
          "base_uri": "https://localhost:8080/"
        },
        "id": "X1f7VsyXn_im",
        "outputId": "ca223c18-e121-4be6-f7d3-2fa7e6a30442"
      },
      "source": [
        "positives = tp + fp\n",
        "tp/positives"
      ],
      "execution_count": 21,
      "outputs": [
        {
          "output_type": "execute_result",
          "data": {
            "text/plain": [
              "0.7456773543730065"
            ]
          },
          "metadata": {
            "tags": []
          },
          "execution_count": 21
        }
      ]
    },
    {
      "cell_type": "markdown",
      "metadata": {
        "id": "ci4QguAkn_in"
      },
      "source": [
        "#### 실제 백신 접종한 경우는 얼마나 됩니까?"
      ]
    },
    {
      "cell_type": "code",
      "metadata": {
        "colab": {
          "base_uri": "https://localhost:8080/"
        },
        "id": "FlqxNhlYn_io",
        "outputId": "07850d26-0160-4947-b003-09a6b9e146e1"
      },
      "source": [
        "real_positives = tp + fn\n",
        "real_positives"
      ],
      "execution_count": 22,
      "outputs": [
        {
          "output_type": "execute_result",
          "data": {
            "text/plain": [
              "6372"
            ]
          },
          "metadata": {
            "tags": []
          },
          "execution_count": 22
        }
      ]
    },
    {
      "cell_type": "markdown",
      "metadata": {
        "id": "9IY-vC-hn_iq"
      },
      "source": [
        "#### 백신 접종에 대해 재현율을 구해봅시다."
      ]
    },
    {
      "cell_type": "code",
      "metadata": {
        "colab": {
          "base_uri": "https://localhost:8080/"
        },
        "id": "4U3v8lPP4KbP",
        "outputId": "2256bfab-2331-4af4-c8b9-5cdde521f67a"
      },
      "source": [
        "tp / real_positives"
      ],
      "execution_count": 23,
      "outputs": [
        {
          "output_type": "execute_result",
          "data": {
            "text/plain": [
              "0.697112366603892"
            ]
          },
          "metadata": {
            "tags": []
          },
          "execution_count": 23
        }
      ]
    },
    {
      "cell_type": "markdown",
      "metadata": {
        "id": "ObVED_ugn_is"
      },
      "source": [
        "## 정밀도, 재현율, 임계값(thresholds), 예측확률간 관계를 살펴볼 수 있는 간단한 시나리오를 살펴보겠습니다."
      ]
    },
    {
      "cell_type": "markdown",
      "metadata": {
        "id": "kBcQQJ2kn_is"
      },
      "source": [
        "#### 시나리오는 다음과 같습니다.\n",
        "\n",
        "코로나로 인해 전 세계가 몸살을 앓고 있는 시점에, 세계보건기구는 전체 인구의 70%가 코로나 항체를 가지고 있으면 '집단 면역'이 형성돼 코로나 유행을 멈출 수 있다고 보고하였습니다.\n",
        "\n",
        "마침, 용인시 양지면에서는 지역 주민들에게 계절독감에 대한 무료 접종을 준비하고 있었습니다.(코로나가 아닙니다) 계절독감 백신을 주민들에게 효율적으로 접종하기 위한 논의를 하던 중 무료접종에 대한 설계를 잘 하면 주민들 사이에 집단 면역을 생성해 계절독감 free 지역이 될 수 있을것 같다는 의견이 나왔습니다.\n",
        "\n",
        "양지면 인구는 (가상으로)14052명입니다. 이번 겨울 이들 모두 항체가 없다고 가정했을 때 이들 중 70%가 백신을 접종한다면 양지면은 집단면역을 형성할 수 있을것 같습니다!\n"
      ]
    },
    {
      "cell_type": "code",
      "metadata": {
        "colab": {
          "base_uri": "https://localhost:8080/"
        },
        "id": "jEEy86CHn_it",
        "outputId": "647f0214-5077-4e36-8ab1-2d96c271bdbf"
      },
      "source": [
        "# 양지면에서 집단면역을 위한 백신 접종 수\n",
        "herdImmunity = total * 0.7\n",
        "herdImmunity"
      ],
      "execution_count": 24,
      "outputs": [
        {
          "output_type": "execute_result",
          "data": {
            "text/plain": [
              "9836.4"
            ]
          },
          "metadata": {
            "tags": []
          },
          "execution_count": 24
        }
      ]
    },
    {
      "cell_type": "markdown",
      "metadata": {
        "id": "b33oXi_UPjYd"
      },
      "source": [
        "#### 양지면 집단 면역을 위해서는 자율적으로 접종하는 사람들 외에 더 많은 사람이 접종하여야 합니다.\n",
        "다행히 병원에 계절독감 백신은 충분히 유통되어 개인적으로 접종하는 사람들이 꽤 되었습니다(real_positivs = tp + fn)"
      ]
    },
    {
      "cell_type": "code",
      "metadata": {
        "id": "YGeLUW-EPjYe",
        "outputId": "726d2b18-18eb-4abc-8c64-72efe064884b",
        "colab": {
          "base_uri": "https://localhost:8080/"
        }
      },
      "source": [
        "# 집단면역을 위해 추가 접종이 필요한 인원\n",
        "herdImmunity - real_positives"
      ],
      "execution_count": 25,
      "outputs": [
        {
          "output_type": "execute_result",
          "data": {
            "text/plain": [
              "3464.3999999999996"
            ]
          },
          "metadata": {
            "tags": []
          },
          "execution_count": 25
        }
      ]
    },
    {
      "cell_type": "markdown",
      "metadata": {
        "id": "3az2llAAn_iu"
      },
      "source": [
        "양지면에서는 무료백신 예산이 한정되어 있어 4500여명에게만 무료 백신을 미리 접종할 수 있다고 합니다.(무료백신에 지원에 대한 사회적 불평등과 여러 복잡한 상황에 대한 이슈는 뒤로합시다..)\n",
        "\n",
        "어떻게 하면 개인적으로 백신을 접종하지 않을 사람들 중에 4500명을 선택(예측)하여 양지면에 최대한 집단면역을 실현할 수 있을까요? 이를 위해 양지면 데이터과학자들이 모여 예측 모델을 만들었습니다.\n",
        "\n",
        "다행히 양지면에는 그동안 축적해온 주민들의 여러 상황과 건강에 대한 정보, 의견 등 설문조사한 데이터와 그에 따른 접종 여부를 확인할 수 있는 데이터가 존재합니다!(사실은 미국 NHFS 데이터를 빌려서 쓰겠습니다) 이 데이터를 활용해 모델을 만들고 가장 적절하게 무료 접종 대상을 찾아내야 합니다.\n",
        "\n",
        "백신을 모든 주민들에게 접종하면 좋겠지만.. 우선 확보한 무료 백신을 앞으로 백신을 받을 가능성이 없어 보이는 사람들에게 우선 접종하고, 어차피 기존에 백신을 맞을 사람들은 본인이 접종하도록 유도해야 합니다. 무료백신을 효율적으로 사용하지 못하면 집단면역은 어려워질 수 있습니다.\n",
        "\n"
      ]
    },
    {
      "cell_type": "markdown",
      "metadata": {
        "id": "Ggtgv_CbPjYf"
      },
      "source": [
        "#### 우선 무작위로 무료백신을 접종한다고 하면 지역주민 들이 집단 면역을 형성할까요?"
      ]
    },
    {
      "cell_type": "code",
      "metadata": {
        "id": "Dz-2m8opUXGp",
        "outputId": "0361becc-f156-48d9-8bce-9b544bd314f6",
        "colab": {
          "base_uri": "https://localhost:8080/"
        }
      },
      "source": [
        "y_train.value_counts(normalize=True)"
      ],
      "execution_count": 57,
      "outputs": [
        {
          "output_type": "execute_result",
          "data": {
            "text/plain": [
              "0    0.546545\n",
              "1    0.453455\n",
              "Name: vacc_seas_f, dtype: float64"
            ]
          },
          "metadata": {
            "tags": []
          },
          "execution_count": 57
        }
      ]
    },
    {
      "cell_type": "code",
      "metadata": {
        "colab": {
          "base_uri": "https://localhost:8080/"
        },
        "id": "JliDXTp5n_iy",
        "outputId": "1a9fb6d9-a312-4498-ef18-f2e76a6a7e64"
      },
      "source": [
        "true_ratio = y_train.value_counts(normalize=True)[1]\n",
        "true_ratio"
      ],
      "execution_count": 26,
      "outputs": [
        {
          "output_type": "execute_result",
          "data": {
            "text/plain": [
              "0.4534552700875383"
            ]
          },
          "metadata": {
            "tags": []
          },
          "execution_count": 26
        }
      ]
    },
    {
      "cell_type": "code",
      "metadata": {
        "id": "86XSWM4tPjYh",
        "outputId": "6b37abd3-4fdc-44a2-9796-6251d2fad420",
        "colab": {
          "base_uri": "https://localhost:8080/"
        }
      },
      "source": [
        "public_vacc = 4500\n",
        "overlap = public_vacc * true_ratio\n",
        "overlap"
      ],
      "execution_count": 27,
      "outputs": [
        {
          "output_type": "execute_result",
          "data": {
            "text/plain": [
              "2040.5487153939223"
            ]
          },
          "metadata": {
            "tags": []
          },
          "execution_count": 27
        }
      ]
    },
    {
      "cell_type": "markdown",
      "metadata": {
        "id": "OGjXFds1PjYi"
      },
      "source": [
        "만약 무작위로 4500명을 주사한다면 자력으로 백신을 맞을 수 있는 사람도 무료로 맞추게 되어(overlap) 집단면역에 이르기까지 1000여명(lack)이 부족하게 됩니다.\n",
        "\n"
      ]
    },
    {
      "cell_type": "code",
      "metadata": {
        "id": "FqfJNzzKPjYi",
        "outputId": "decbaef5-7701-4fcb-d835-bdcbac8625b1",
        "colab": {
          "base_uri": "https://localhost:8080/"
        }
      },
      "source": [
        "lack = herdImmunity - (public_vacc + real_positives - overlap) # herdImmunity: 양지면에 집단 면역을 형성하기 위해 필요한 인원의 수 \n",
        "                                                               # public_vacc: 무료 백신의 수\n",
        "                                                               # real_positives: 실제 백신을 접종한 사람\n",
        "                                                               # overlap: 백신을 자력으로 맞을 수 있는 사람이 무료로도 받을 수 있다고 중복되는 수\n",
        "print(lack)"
      ],
      "execution_count": 59,
      "outputs": [
        {
          "output_type": "stream",
          "text": [
            "1004.9487153939226\n"
          ],
          "name": "stdout"
        }
      ]
    },
    {
      "cell_type": "markdown",
      "metadata": {
        "id": "rXkfXDDZn_jF"
      },
      "source": [
        "#### 최대한 백신을 맞지 않을 사람을 골라 백신을 맞추어 주기 위해 임계값을 조정해 보겠습니다\n",
        "양지면 데이터과학자들이 만든 모델은 각 예측 범주에 대한 확률값을 제공합니다. 즉 예측 범주와 함께 범주의 확률값을 함께 제공합니다.\n",
        "\n",
        "여기서 주의할 사항이 있습니다. 예를 들어 접종한다고 예측 결과가 나와도 다 같은 예측이 아닙니다. 접종에 대한 확률이 51% 이거나 99%이거나 모두 접종으로 예측하지만 51%인 경우는 틀릴 확률도 49%나 됩니다.\n",
        "이 확률값을 사용해서 더 정밀하게 백신접종이 필요한 사람들을 타켓팅 해 봅시다.\n"
      ]
    },
    {
      "cell_type": "code",
      "metadata": {
        "id": "0lzzKNCvPjYj",
        "outputId": "e4bf4e09-78a2-475e-e99f-22142fc0ecf8",
        "colab": {
          "base_uri": "https://localhost:8080/"
        }
      },
      "source": [
        "pipe.classes_"
      ],
      "execution_count": 29,
      "outputs": [
        {
          "output_type": "execute_result",
          "data": {
            "text/plain": [
              "array([0, 1])"
            ]
          },
          "metadata": {
            "tags": []
          },
          "execution_count": 29
        }
      ]
    },
    {
      "cell_type": "code",
      "metadata": {
        "id": "w9Av4aTqPjYj",
        "outputId": "911a5a7c-e201-4b0e-d425-0897e86698d1",
        "colab": {
          "base_uri": "https://localhost:8080/"
        }
      },
      "source": [
        "pipe.predict(X_val)"
      ],
      "execution_count": 30,
      "outputs": [
        {
          "output_type": "execute_result",
          "data": {
            "text/plain": [
              "array([1, 0, 0, ..., 1, 1, 0])"
            ]
          },
          "metadata": {
            "tags": []
          },
          "execution_count": 30
        }
      ]
    },
    {
      "cell_type": "code",
      "metadata": {
        "colab": {
          "base_uri": "https://localhost:8080/"
        },
        "id": "jwfe7j7W_jTp",
        "outputId": "f689e09f-f2b3-4d7e-f81c-8da814db75e7"
      },
      "source": [
        "pipe.predict_proba(X_val) # array의 값이 해당 관측값 0일때의 확률과 1일때의 확률을 나타낸 것이다."
      ],
      "execution_count": 69,
      "outputs": [
        {
          "output_type": "execute_result",
          "data": {
            "text/plain": [
              "array([[0.46      , 0.54      ],\n",
              "       [0.85      , 0.15      ],\n",
              "       [0.78      , 0.22      ],\n",
              "       ...,\n",
              "       [0.14      , 0.86      ],\n",
              "       [0.38459524, 0.61540476],\n",
              "       [0.92      , 0.08      ]])"
            ]
          },
          "metadata": {
            "tags": []
          },
          "execution_count": 69
        }
      ]
    },
    {
      "cell_type": "code",
      "metadata": {
        "colab": {
          "base_uri": "https://localhost:8080/"
        },
        "id": "SjOhH0BMB55A",
        "outputId": "5f8997a7-9265-4033-d77e-075d1cba017f"
      },
      "source": [
        "# 백신접종 확률\n",
        "y_pred_proba = pipe.predict_proba(X_val)[:, 1]  # 1로 예측되는 것의 확률 \n",
        "y_pred_proba"
      ],
      "execution_count": 32,
      "outputs": [
        {
          "output_type": "execute_result",
          "data": {
            "text/plain": [
              "array([0.54      , 0.15      , 0.22      , ..., 0.86      , 0.61540476,\n",
              "       0.08      ])"
            ]
          },
          "metadata": {
            "tags": []
          },
          "execution_count": 32
        }
      ]
    },
    {
      "cell_type": "code",
      "metadata": {
        "id": "qxh17-BpPjYk",
        "outputId": "6ef0cb7a-8208-42ee-fa50-064fb493afa4",
        "colab": {
          "base_uri": "https://localhost:8080/",
          "height": 369
        }
      },
      "source": [
        "import seaborn as sns\n",
        "sns.displot(y_pred_proba); # displot이라는 것은 해당되는 x 값에 몇 개가 있는지 막대 그래프로 보여준다."
      ],
      "execution_count": 33,
      "outputs": [
        {
          "output_type": "display_data",
          "data": {
            "image/png": "[encoded data removed]",
            "text/plain": [
              "<Figure size 360x360 with 1 Axes>"
            ]
          },
          "metadata": {
            "tags": [],
            "needs_background": "light"
          }
        }
      ]
    },
    {
      "cell_type": "code",
      "metadata": {
        "id": "_UqowkGcb8Rt",
        "outputId": "d777b422-d128-4eff-b230-97f0f8bd635a",
        "colab": {
          "base_uri": "https://localhost:8080/",
          "height": 265
        }
      },
      "source": [
        "sns.histplot(y_pred_proba);   "
      ],
      "execution_count": 87,
      "outputs": [
        {
          "output_type": "display_data",
          "data": {
            "image/png": "[encoded data removed]",
            "text/plain": [
              "<Figure size 432x288 with 1 Axes>"
            ]
          },
          "metadata": {
            "tags": [],
            "needs_background": "light"
          }
        }
      ]
    },
    {
      "cell_type": "markdown",
      "metadata": {
        "id": "eD6pRFKOn_jH"
      },
      "source": [
        "#### 임계값을 히스토그램에 표시해 봅시다\n",
        "지금은 임계값 0.5를 기준으로 확률이 백신 접종 여부를 분류하고 있습니다."
      ]
    },
    {
      "cell_type": "code",
      "metadata": {
        "id": "S0U8nXjlPjYn",
        "outputId": "3692e486-6fd7-4a10-df2a-0e41e7b318ed",
        "colab": {
          "base_uri": "https://localhost:8080/",
          "height": 317
        }
      },
      "source": [
        "# Randomforestclassifier 기본 임계값은 0.5입니다.\n",
        "threshold = 0.5\n",
        "y_pred_proba = pipe.predict_proba(X_val)[:, 1]\n",
        "y_pred = y_pred_proba > threshold\n",
        "\n",
        "ax = sns.histplot(y_pred_proba)\n",
        "ax.axvline(threshold, color='red')\n",
        "\n",
        "pd.Series(y_pred).value_counts()"
      ],
      "execution_count": 86,
      "outputs": [
        {
          "output_type": "execute_result",
          "data": {
            "text/plain": [
              "False    8095\n",
              "True     5957\n",
              "dtype: int64"
            ]
          },
          "metadata": {
            "tags": []
          },
          "execution_count": 86
        },
        {
          "output_type": "display_data",
          "data": {
            "image/png": "[encoded data removed]",
            "text/plain": [
              "<Figure size 432x288 with 1 Axes>"
            ]
          },
          "metadata": {
            "tags": [],
            "needs_background": "light"
          }
        }
      ]
    },
    {
      "cell_type": "markdown",
      "metadata": {
        "id": "NtgObxgrPjYo"
      },
      "source": [
        "#### 임계값를 바꾸어 가며 정밀도, 재현율의 변화를 관찰해 보세요.\n",
        "임계값을 낮추어 백신을 접종하지 않을 확률이 높은 사람들을 더 정확하게 구하는 것이 도움이 될 것 같습니다.\n",
        "\n",
        "임계값을 낮추면 정밀도는 올라가지만 재현율은 떨어질 것입니다."
      ]
    },
    {
      "cell_type": "code",
      "metadata": {
        "id": "dm5jxaJ1PjYo",
        "outputId": "db6dd3fa-eb2f-440b-9248-42cea1eb5810",
        "colab": {
          "base_uri": "https://localhost:8080/",
          "height": 470,
          "referenced_widgets": [
            "c2fb3de74fbd411d822c36039921beac",
            "b45f2782c08644afbdfbd8eec56382e8",
            "c9801836c8734cbe9d0486c8625002b6",
            "46f1579d302146f7bb6bb9b1fa665642",
            "5eeb5cebb2a34462a4761cebe46ddaad",
            "0d0bc674ae344224be8e6640c159c717",
            "323e731652fd4e7b973bb61c714b0731"
          ]
        }
      },
      "source": [
        "from ipywidgets import interact, fixed\n",
        "\n",
        "def explore_threshold(y_true, y_pred_proba, threshold=0.5):\n",
        "    y_pred = y_pred_proba >= threshold\n",
        "    vc = pd.Series(y_pred).value_counts()\n",
        "    ax = sns.histplot(y_pred_proba, kde=True)\n",
        "    ax.axvline(threshold, color='red')\n",
        "    ax.set_title(f'# of target, 1={vc[1]}, 0={vc[0]}')\n",
        "    plt.show()\n",
        "    print(classification_report(y_true, y_pred))\n",
        "\n",
        "    \n",
        "interact(explore_threshold, \n",
        "    y_true=fixed(y_val), \n",
        "    y_pred_proba=fixed(y_pred_proba), \n",
        "    threshold=(0, 1, 0.01));"
      ],
      "execution_count": 35,
      "outputs": [
        {
          "output_type": "display_data",
          "data": {
            "application/vnd.jupyter.widget-view+json": {
              "model_id": "c2fb3de74fbd411d822c36039921beac",
              "version_minor": 0,
              "version_major": 2
            },
            "text/plain": [
              "interactive(children=(FloatSlider(value=0.5, description='threshold', max=1.0, step=0.01), Output()), _dom_cla…"
            ]
          },
          "metadata": {
            "tags": []
          }
        }
      ]
    },
    {
      "cell_type": "markdown",
      "metadata": {
        "id": "HMK6wpubPjYp"
      },
      "source": [
        "#### 예측확률을 이용해 더 정확하게 구분해 봅시다.\n",
        "실제 타겟 값과 예측확률을 데이터프레임으로 만들어 같이 확인해 보겠습니다."
      ]
    },
    {
      "cell_type": "code",
      "metadata": {
        "id": "LHZwE4_JPjYp",
        "outputId": "546aea45-3ce1-46b5-eb19-8a6ad5a9f00c",
        "colab": {
          "base_uri": "https://localhost:8080/",
          "height": 415
        }
      },
      "source": [
        "pred_proba = pd.DataFrame({\n",
        "    'y_val': y_val,\n",
        "    'pred_proba': y_pred_proba})\n",
        "pred_proba"
      ],
      "execution_count": 36,
      "outputs": [
        {
          "output_type": "execute_result",
          "data": {
            "text/html": [
              "<div>\n",
              "<style scoped>\n",
              "    .dataframe tbody tr th:only-of-type {\n",
              "        vertical-align: middle;\n",
              "    }\n",
              "\n",
              "    .dataframe tbody tr th {\n",
              "        vertical-align: top;\n",
              "    }\n",
              "\n",
              "    .dataframe thead th {\n",
              "        text-align: right;\n",
              "    }\n",
              "</style>\n",
              "<table border=\"1\" class=\"dataframe\">\n",
              "  <thead>\n",
              "    <tr style=\"text-align: right;\">\n",
              "      <th></th>\n",
              "      <th>y_val</th>\n",
              "      <th>pred_proba</th>\n",
              "    </tr>\n",
              "  </thead>\n",
              "  <tbody>\n",
              "    <tr>\n",
              "      <th>10296</th>\n",
              "      <td>0</td>\n",
              "      <td>0.540000</td>\n",
              "    </tr>\n",
              "    <tr>\n",
              "      <th>3515</th>\n",
              "      <td>0</td>\n",
              "      <td>0.150000</td>\n",
              "    </tr>\n",
              "    <tr>\n",
              "      <th>13103</th>\n",
              "      <td>0</td>\n",
              "      <td>0.220000</td>\n",
              "    </tr>\n",
              "    <tr>\n",
              "      <th>31432</th>\n",
              "      <td>1</td>\n",
              "      <td>1.000000</td>\n",
              "    </tr>\n",
              "    <tr>\n",
              "      <th>38296</th>\n",
              "      <td>1</td>\n",
              "      <td>0.060000</td>\n",
              "    </tr>\n",
              "    <tr>\n",
              "      <th>...</th>\n",
              "      <td>...</td>\n",
              "      <td>...</td>\n",
              "    </tr>\n",
              "    <tr>\n",
              "      <th>6815</th>\n",
              "      <td>0</td>\n",
              "      <td>0.180000</td>\n",
              "    </tr>\n",
              "    <tr>\n",
              "      <th>34682</th>\n",
              "      <td>1</td>\n",
              "      <td>0.900000</td>\n",
              "    </tr>\n",
              "    <tr>\n",
              "      <th>21444</th>\n",
              "      <td>1</td>\n",
              "      <td>0.860000</td>\n",
              "    </tr>\n",
              "    <tr>\n",
              "      <th>19491</th>\n",
              "      <td>1</td>\n",
              "      <td>0.615405</td>\n",
              "    </tr>\n",
              "    <tr>\n",
              "      <th>25220</th>\n",
              "      <td>0</td>\n",
              "      <td>0.080000</td>\n",
              "    </tr>\n",
              "  </tbody>\n",
              "</table>\n",
              "<p>14052 rows × 2 columns</p>\n",
              "</div>"
            ],
            "text/plain": [
              "       y_val  pred_proba\n",
              "10296      0    0.540000\n",
              "3515       0    0.150000\n",
              "13103      0    0.220000\n",
              "31432      1    1.000000\n",
              "38296      1    0.060000\n",
              "...      ...         ...\n",
              "6815       0    0.180000\n",
              "34682      1    0.900000\n",
              "21444      1    0.860000\n",
              "19491      1    0.615405\n",
              "25220      0    0.080000\n",
              "\n",
              "[14052 rows x 2 columns]"
            ]
          },
          "metadata": {
            "tags": []
          },
          "execution_count": 36
        }
      ]
    },
    {
      "cell_type": "markdown",
      "metadata": {
        "id": "FT4JG_WGPjYq"
      },
      "source": [
        "우선 백신 접종 확률이 낮은 순서(비접종 확률이 높은 순서)로 정렬해 보겠습니다."
      ]
    },
    {
      "cell_type": "code",
      "metadata": {
        "id": "1gWxvcpzPjYq",
        "outputId": "85df6f8d-c865-4f7c-aaa8-0c7065090eea",
        "colab": {
          "base_uri": "https://localhost:8080/",
          "height": 415
        }
      },
      "source": [
        "top = pred_proba.sort_values(by='pred_proba', ascending=True)[:4500]\n",
        "top"
      ],
      "execution_count": 37,
      "outputs": [
        {
          "output_type": "execute_result",
          "data": {
            "text/html": [
              "<div>\n",
              "<style scoped>\n",
              "    .dataframe tbody tr th:only-of-type {\n",
              "        vertical-align: middle;\n",
              "    }\n",
              "\n",
              "    .dataframe tbody tr th {\n",
              "        vertical-align: top;\n",
              "    }\n",
              "\n",
              "    .dataframe thead th {\n",
              "        text-align: right;\n",
              "    }\n",
              "</style>\n",
              "<table border=\"1\" class=\"dataframe\">\n",
              "  <thead>\n",
              "    <tr style=\"text-align: right;\">\n",
              "      <th></th>\n",
              "      <th>y_val</th>\n",
              "      <th>pred_proba</th>\n",
              "    </tr>\n",
              "  </thead>\n",
              "  <tbody>\n",
              "    <tr>\n",
              "      <th>10271</th>\n",
              "      <td>0</td>\n",
              "      <td>0.00</td>\n",
              "    </tr>\n",
              "    <tr>\n",
              "      <th>25027</th>\n",
              "      <td>0</td>\n",
              "      <td>0.00</td>\n",
              "    </tr>\n",
              "    <tr>\n",
              "      <th>37061</th>\n",
              "      <td>0</td>\n",
              "      <td>0.00</td>\n",
              "    </tr>\n",
              "    <tr>\n",
              "      <th>12209</th>\n",
              "      <td>0</td>\n",
              "      <td>0.00</td>\n",
              "    </tr>\n",
              "    <tr>\n",
              "      <th>4718</th>\n",
              "      <td>0</td>\n",
              "      <td>0.00</td>\n",
              "    </tr>\n",
              "    <tr>\n",
              "      <th>...</th>\n",
              "      <td>...</td>\n",
              "      <td>...</td>\n",
              "    </tr>\n",
              "    <tr>\n",
              "      <th>32901</th>\n",
              "      <td>0</td>\n",
              "      <td>0.27</td>\n",
              "    </tr>\n",
              "    <tr>\n",
              "      <th>39458</th>\n",
              "      <td>0</td>\n",
              "      <td>0.27</td>\n",
              "    </tr>\n",
              "    <tr>\n",
              "      <th>28620</th>\n",
              "      <td>0</td>\n",
              "      <td>0.27</td>\n",
              "    </tr>\n",
              "    <tr>\n",
              "      <th>34079</th>\n",
              "      <td>0</td>\n",
              "      <td>0.27</td>\n",
              "    </tr>\n",
              "    <tr>\n",
              "      <th>18289</th>\n",
              "      <td>0</td>\n",
              "      <td>0.27</td>\n",
              "    </tr>\n",
              "  </tbody>\n",
              "</table>\n",
              "<p>4500 rows × 2 columns</p>\n",
              "</div>"
            ],
            "text/plain": [
              "       y_val  pred_proba\n",
              "10271      0        0.00\n",
              "25027      0        0.00\n",
              "37061      0        0.00\n",
              "12209      0        0.00\n",
              "4718       0        0.00\n",
              "...      ...         ...\n",
              "32901      0        0.27\n",
              "39458      0        0.27\n",
              "28620      0        0.27\n",
              "34079      0        0.27\n",
              "18289      0        0.27\n",
              "\n",
              "[4500 rows x 2 columns]"
            ]
          },
          "metadata": {
            "tags": []
          },
          "execution_count": 37
        }
      ]
    },
    {
      "cell_type": "markdown",
      "metadata": {
        "id": "rx3YTGzAPjYq"
      },
      "source": [
        "#### 여기서 일부 주민은 접종 확률이 낮음에도 접종한 사람들 입니다. (False Negative)"
      ]
    },
    {
      "cell_type": "code",
      "metadata": {
        "id": "OoVl3uPKPjYr",
        "outputId": "a4a5621b-405d-4b40-c3b0-f9c07f1e976f",
        "colab": {
          "base_uri": "https://localhost:8080/"
        }
      },
      "source": [
        "vc = top['y_val'].value_counts()\n",
        "vc"
      ],
      "execution_count": 38,
      "outputs": [
        {
          "output_type": "execute_result",
          "data": {
            "text/plain": [
              "0    3850\n",
              "1     650\n",
              "Name: y_val, dtype: int64"
            ]
          },
          "metadata": {
            "tags": []
          },
          "execution_count": 38
        }
      ]
    },
    {
      "cell_type": "markdown",
      "metadata": {
        "id": "1HtEEG7YPjYr"
      },
      "source": [
        "이렇게 접종을 하지 않았을 3850명에게 백신을 접종할 수 있게 되어 집단 면역이 가능한 항체 보유 비율을 맞출 수 있게 될 겁니다!"
      ]
    },
    {
      "cell_type": "code",
      "metadata": {
        "id": "sLu6moABPjYs",
        "outputId": "df0a451e-8f13-41c7-84fe-9b1f25bdbd92",
        "colab": {
          "base_uri": "https://localhost:8080/"
        }
      },
      "source": [
        "final = real_positives + vc[0]\n",
        "final"
      ],
      "execution_count": 39,
      "outputs": [
        {
          "output_type": "execute_result",
          "data": {
            "text/plain": [
              "10222"
            ]
          },
          "metadata": {
            "tags": []
          },
          "execution_count": 39
        }
      ]
    },
    {
      "cell_type": "code",
      "metadata": {
        "id": "rLcXOw5PPjYs",
        "outputId": "8690bbaf-7efd-4b10-affe-0e4d92311399",
        "colab": {
          "base_uri": "https://localhost:8080/"
        }
      },
      "source": [
        "herdImmunity"
      ],
      "execution_count": 40,
      "outputs": [
        {
          "output_type": "execute_result",
          "data": {
            "text/plain": [
              "9836.4"
            ]
          },
          "metadata": {
            "tags": []
          },
          "execution_count": 40
        }
      ]
    },
    {
      "cell_type": "code",
      "metadata": {
        "id": "svkcubbsPjYs",
        "outputId": "ae53297e-ce40-4b4b-dc06-c44a8b73a583",
        "colab": {
          "base_uri": "https://localhost:8080/"
        }
      },
      "source": [
        "final > herdImmunity"
      ],
      "execution_count": 41,
      "outputs": [
        {
          "output_type": "execute_result",
          "data": {
            "text/plain": [
              "True"
            ]
          },
          "metadata": {
            "tags": []
          },
          "execution_count": 41
        }
      ]
    },
    {
      "cell_type": "markdown",
      "metadata": {
        "id": "rZnzI6ClPjYt"
      },
      "source": [
        "#### 만약 예측확률을 사용하지 않고 임계값 0.5 이하에서 무작위로 접종하였다면 집단면역기준에 부합할 수 있을까요?"
      ]
    },
    {
      "cell_type": "code",
      "metadata": {
        "id": "tI4k9tcXPjYt",
        "outputId": "31e96995-89f8-4a96-f9ac-9423f947a6b5",
        "colab": {
          "base_uri": "https://localhost:8080/"
        }
      },
      "source": [
        "vc_rand = pred_proba[pred_proba['pred_proba'] < 0.5].sample(4500, random_state=2)['y_val'].value_counts()\n",
        "vc_rand"
      ],
      "execution_count": 42,
      "outputs": [
        {
          "output_type": "execute_result",
          "data": {
            "text/plain": [
              "0    3455\n",
              "1    1045\n",
              "Name: y_val, dtype: int64"
            ]
          },
          "metadata": {
            "tags": []
          },
          "execution_count": 42
        }
      ]
    },
    {
      "cell_type": "code",
      "metadata": {
        "id": "SSHhjutwPjYu",
        "outputId": "722f7565-f712-4dd4-a68b-1506eb5d731d",
        "colab": {
          "base_uri": "https://localhost:8080/"
        }
      },
      "source": [
        "final_rand = real_positives + vc_rand[0]\n",
        "final_rand"
      ],
      "execution_count": 43,
      "outputs": [
        {
          "output_type": "execute_result",
          "data": {
            "text/plain": [
              "9827"
            ]
          },
          "metadata": {
            "tags": []
          },
          "execution_count": 43
        }
      ]
    },
    {
      "cell_type": "code",
      "metadata": {
        "id": "Cud3dIAFPjYu",
        "outputId": "dc535023-d363-4678-f26f-8ecfa625151d",
        "colab": {
          "base_uri": "https://localhost:8080/"
        }
      },
      "source": [
        "final_rand > herdImmunity"
      ],
      "execution_count": 44,
      "outputs": [
        {
          "output_type": "execute_result",
          "data": {
            "text/plain": [
              "False"
            ]
          },
          "metadata": {
            "tags": []
          },
          "execution_count": 44
        }
      ]
    },
    {
      "cell_type": "markdown",
      "metadata": {
        "id": "u8DARucdPjYv"
      },
      "source": [
        "#### 안타깝게도 집단면역기준에 약간 다다르지 못하게 됩니다!"
      ]
    },
    {
      "cell_type": "markdown",
      "metadata": {
        "id": "PUgerWe4PjYv"
      },
      "source": [
        "예측확률과 임계값을 잘 활용하면 필요한 범주의 정밀도나 재현율을 조정하여 최소한의 백신접종으로 최대한의 결과를 거둘 수 있을것이라 예상됩니다.\n",
        "\n",
        "이렇듯 분류문제에서 임계값을 잘 설정한다면 보다 효율적으로 문제를 해결할 수 있을텐데,\n",
        "\n",
        "- 모든 임계값을 한 눈에 보고 모델을 평가할 수 있는 방법이 있을까요?\n",
        "\n",
        "**ROC curve를 사용하면 됩니다!**"
      ]
    },
    {
      "cell_type": "markdown",
      "metadata": {
        "id": "Qn0lAYK_PjYv"
      },
      "source": [
        "## ROC, AUC (Receiver Operating Characteristic, Area Under the Curve)\n",
        "ROC curve, AUC를 사용하면 분류문제에서 여러 임계값 설정에 대한 모델의 성능을 구할 수 있게 됩니다. ROC curve는 여러 임계값에 대해 TPR(True Positive Rate, recall)과 FPR(False Positive Rate) 그래프를 보여줍니다.\n",
        "\n",
        "- [Receiver operating characteristic](https://en.wikipedia.org/wiki/Receiver_operating_characteristic)\n",
        "\n",
        "**Recall(재현율) = Sensitivity** = ${\\displaystyle \\mathrm {TPR} ={\\frac {\\mathrm {TP} }{\\mathrm {P} }}={\\frac {\\mathrm {TP} }{\\mathrm {TP} +\\mathrm {FN} }}=1-\\mathrm {FNR} }$\n",
        "\n",
        "**Fall-out(위양성률)** = ${\\displaystyle \\mathrm {FPR} ={\\frac {\\mathrm {FP} }{\\mathrm {N} }}={\\frac {\\mathrm {FP} }{\\mathrm {FP} +\\mathrm {TN} }}=1-\\mathrm {TNR(Specificity)} }$\n",
        "\n",
        "- 재현율을 높이기 위해서는 Positive로 판단하는 임계값을 계속 낮추어 모두 Positive로 판단하게 만들면 됩니다. 하지만 이렇게 하면 동시에 Negative이지만 Positive로 판단하는 위양성률도 같이 높아집니다.\n",
        "\n",
        "- 재현율은 최대화 하고 위양성률은 최소화 하는 임계값이 최적의 임계값입니다.\n",
        "\n",
        "- **AUC** 는 **ROC curve의 아래 면적**을 말합니다.\n",
        "\n",
        "- 아래 링크에서 두 클래스의 분포와 임계값을 변형시키며 ROC curve의 변화를 살펴 보세요\n",
        "\n",
        "[Understanding ROC curve](http://www.navan.name/roc/)"
      ]
    },
    {
      "cell_type": "markdown",
      "metadata": {
        "id": "Uoe431v9PjYx"
      },
      "source": [
        "사이킷런 roc_curve는 임계값에 따른 TPR, FPR 수치를 자동으로 계산해 줍니다."
      ]
    },
    {
      "cell_type": "code",
      "metadata": {
        "id": "IBLUFBCNPjYy",
        "outputId": "fd384804-03be-4c19-8262-7fc0e81bb176",
        "colab": {
          "base_uri": "https://localhost:8080/",
          "height": 417
        }
      },
      "source": [
        "from sklearn.metrics import roc_curve\n",
        "\n",
        "# roc_curve(타겟값, prob of 1)\n",
        "fpr, tpr, thresholds = roc_curve(y_val, y_pred_proba)\n",
        "\n",
        "roc = pd.DataFrame({\n",
        "    'FPR(Fall-out)': fpr, \n",
        "    'TPRate(Recall)': tpr, \n",
        "    'Threshold': thresholds\n",
        "})\n",
        "roc"
      ],
      "execution_count": 45,
      "outputs": [
        {
          "output_type": "execute_result",
          "data": {
            "text/html": [
              "<div>\n",
              "<style scoped>\n",
              "    .dataframe tbody tr th:only-of-type {\n",
              "        vertical-align: middle;\n",
              "    }\n",
              "\n",
              "    .dataframe tbody tr th {\n",
              "        vertical-align: top;\n",
              "    }\n",
              "\n",
              "    .dataframe thead th {\n",
              "        text-align: right;\n",
              "    }\n",
              "</style>\n",
              "<table border=\"1\" class=\"dataframe\">\n",
              "  <thead>\n",
              "    <tr style=\"text-align: right;\">\n",
              "      <th></th>\n",
              "      <th>FPR(Fall-out)</th>\n",
              "      <th>TPRate(Recall)</th>\n",
              "      <th>Threshold</th>\n",
              "    </tr>\n",
              "  </thead>\n",
              "  <tbody>\n",
              "    <tr>\n",
              "      <th>0</th>\n",
              "      <td>0.000000</td>\n",
              "      <td>0.000000</td>\n",
              "      <td>2.0000</td>\n",
              "    </tr>\n",
              "    <tr>\n",
              "      <th>1</th>\n",
              "      <td>0.000130</td>\n",
              "      <td>0.003766</td>\n",
              "      <td>1.0000</td>\n",
              "    </tr>\n",
              "    <tr>\n",
              "      <th>2</th>\n",
              "      <td>0.000391</td>\n",
              "      <td>0.009416</td>\n",
              "      <td>0.9900</td>\n",
              "    </tr>\n",
              "    <tr>\n",
              "      <th>3</th>\n",
              "      <td>0.000391</td>\n",
              "      <td>0.009730</td>\n",
              "      <td>0.9850</td>\n",
              "    </tr>\n",
              "    <tr>\n",
              "      <th>4</th>\n",
              "      <td>0.001042</td>\n",
              "      <td>0.016478</td>\n",
              "      <td>0.9800</td>\n",
              "    </tr>\n",
              "    <tr>\n",
              "      <th>...</th>\n",
              "      <td>...</td>\n",
              "      <td>...</td>\n",
              "      <td>...</td>\n",
              "    </tr>\n",
              "    <tr>\n",
              "      <th>526</th>\n",
              "      <td>0.995182</td>\n",
              "      <td>0.999215</td>\n",
              "      <td>0.0200</td>\n",
              "    </tr>\n",
              "    <tr>\n",
              "      <th>527</th>\n",
              "      <td>0.995313</td>\n",
              "      <td>0.999215</td>\n",
              "      <td>0.0140</td>\n",
              "    </tr>\n",
              "    <tr>\n",
              "      <th>528</th>\n",
              "      <td>0.995703</td>\n",
              "      <td>0.999215</td>\n",
              "      <td>0.0125</td>\n",
              "    </tr>\n",
              "    <tr>\n",
              "      <th>529</th>\n",
              "      <td>0.999089</td>\n",
              "      <td>1.000000</td>\n",
              "      <td>0.0100</td>\n",
              "    </tr>\n",
              "    <tr>\n",
              "      <th>530</th>\n",
              "      <td>1.000000</td>\n",
              "      <td>1.000000</td>\n",
              "      <td>0.0000</td>\n",
              "    </tr>\n",
              "  </tbody>\n",
              "</table>\n",
              "<p>531 rows × 3 columns</p>\n",
              "</div>"
            ],
            "text/plain": [
              "     FPR(Fall-out)  TPRate(Recall)  Threshold\n",
              "0         0.000000        0.000000     2.0000\n",
              "1         0.000130        0.003766     1.0000\n",
              "2         0.000391        0.009416     0.9900\n",
              "3         0.000391        0.009730     0.9850\n",
              "4         0.001042        0.016478     0.9800\n",
              "..             ...             ...        ...\n",
              "526       0.995182        0.999215     0.0200\n",
              "527       0.995313        0.999215     0.0140\n",
              "528       0.995703        0.999215     0.0125\n",
              "529       0.999089        1.000000     0.0100\n",
              "530       1.000000        1.000000     0.0000\n",
              "\n",
              "[531 rows x 3 columns]"
            ]
          },
          "metadata": {
            "tags": []
          },
          "execution_count": 45
        }
      ]
    },
    {
      "cell_type": "markdown",
      "metadata": {
        "id": "f3ynK73UPjYy"
      },
      "source": [
        "이제 ROC curve를 그려 봅시다"
      ]
    },
    {
      "cell_type": "code",
      "metadata": {
        "id": "ikS7SH3QPjYz",
        "outputId": "f8cb0e77-847b-4e2f-fb13-f04dc1a5b4b3",
        "colab": {
          "base_uri": "https://localhost:8080/",
          "height": 295
        }
      },
      "source": [
        "plt.scatter(fpr, tpr)\n",
        "plt.title('ROC curve')\n",
        "plt.xlabel('FPR(Fall-out)')\n",
        "plt.ylabel('TPR(Recall)');"
      ],
      "execution_count": 46,
      "outputs": [
        {
          "output_type": "display_data",
          "data": {
            "image/png": "[encoded data removed]",
            "text/plain": [
              "<Figure size 432x288 with 1 Axes>"
            ]
          },
          "metadata": {
            "tags": [],
            "needs_background": "light"
          }
        }
      ]
    },
    {
      "cell_type": "markdown",
      "metadata": {
        "id": "xE6d4q_3PjY0"
      },
      "source": [
        "최적의 threshold를 찾아 볼까요?"
      ]
    },
    {
      "cell_type": "code",
      "metadata": {
        "id": "lPMASU6sPjY0",
        "outputId": "b0a10bd3-55e7-4020-cc3f-be3a1af0d08f",
        "colab": {
          "base_uri": "https://localhost:8080/"
        }
      },
      "source": [
        "# threshold 최대값의 인덱스, np.argmax()\n",
        "optimal_idx = np.argmax(tpr - fpr)\n",
        "optimal_threshold = thresholds[optimal_idx]\n",
        "\n",
        "print('idx:', optimal_idx, ', threshold:', optimal_threshold)"
      ],
      "execution_count": 47,
      "outputs": [
        {
          "output_type": "stream",
          "text": [
            "idx: 256 , threshold: 0.4633333333333334\n"
          ],
          "name": "stdout"
        }
      ]
    },
    {
      "cell_type": "code",
      "metadata": {
        "id": "j2yB9Pc4PjY0",
        "outputId": "7aec2243-cb0e-4218-e1fd-92c14724ad62",
        "colab": {
          "base_uri": "https://localhost:8080/",
          "height": 265
        }
      },
      "source": [
        "plt.plot(tpr-fpr);"
      ],
      "execution_count": 48,
      "outputs": [
        {
          "output_type": "display_data",
          "data": {
            "image/png": "[encoded data removed]",
            "text/plain": [
              "<Figure size 432x288 with 1 Axes>"
            ]
          },
          "metadata": {
            "tags": [],
            "needs_background": "light"
          }
        }
      ]
    },
    {
      "cell_type": "code",
      "metadata": {
        "id": "AbhqDbYjPjY1",
        "outputId": "5e523398-48b2-414c-8fa0-db8ee5d520fe",
        "colab": {
          "base_uri": "https://localhost:8080/"
        }
      },
      "source": [
        "y_pred_optimal = y_pred_proba >= optimal_threshold\n",
        "print(classification_report(y_val, y_pred_optimal))"
      ],
      "execution_count": 49,
      "outputs": [
        {
          "output_type": "stream",
          "text": [
            "              precision    recall  f1-score   support\n",
            "\n",
            "           0       0.78      0.77      0.77      7680\n",
            "           1       0.73      0.74      0.73      6372\n",
            "\n",
            "    accuracy                           0.75     14052\n",
            "   macro avg       0.75      0.75      0.75     14052\n",
            "weighted avg       0.75      0.75      0.75     14052\n",
            "\n"
          ],
          "name": "stdout"
        }
      ]
    },
    {
      "cell_type": "code",
      "metadata": {
        "id": "TTjflBswPjY1",
        "outputId": "b8907176-b507-42c1-efc5-38512efda94f",
        "colab": {
          "base_uri": "https://localhost:8080/"
        }
      },
      "source": [
        "y_pred_optimal"
      ],
      "execution_count": 50,
      "outputs": [
        {
          "output_type": "execute_result",
          "data": {
            "text/plain": [
              "array([ True, False, False, ...,  True,  True, False])"
            ]
          },
          "metadata": {
            "tags": []
          },
          "execution_count": 50
        }
      ]
    },
    {
      "cell_type": "markdown",
      "metadata": {
        "id": "P0g4UpKOPjY2"
      },
      "source": [
        "threshold 0.5 와 비교해 보겠습니다."
      ]
    },
    {
      "cell_type": "code",
      "metadata": {
        "id": "ah67Vwv0PjY2",
        "outputId": "027625ba-4a28-4a3e-ea0f-e5dadb76d086",
        "colab": {
          "base_uri": "https://localhost:8080/"
        }
      },
      "source": [
        "y_pred_05 = y_pred_proba >= 0.5\n",
        "print(classification_report(y_val, y_pred_05))"
      ],
      "execution_count": 51,
      "outputs": [
        {
          "output_type": "stream",
          "text": [
            "              precision    recall  f1-score   support\n",
            "\n",
            "           0       0.77      0.80      0.78      7680\n",
            "           1       0.74      0.71      0.72      6372\n",
            "\n",
            "    accuracy                           0.76     14052\n",
            "   macro avg       0.75      0.75      0.75     14052\n",
            "weighted avg       0.75      0.76      0.75     14052\n",
            "\n"
          ],
          "name": "stdout"
        }
      ]
    },
    {
      "cell_type": "markdown",
      "metadata": {
        "id": "N8ce6OPaPjY3"
      },
      "source": [
        "이번에는 AUC점수를 계산해 보겠습니다. AUC값은 높을 수록 좋겠지요!"
      ]
    },
    {
      "cell_type": "code",
      "metadata": {
        "id": "1IwJ5mK4PjY3",
        "outputId": "07776c6c-fe83-483b-ad9f-a5537d6bfd4f",
        "colab": {
          "base_uri": "https://localhost:8080/"
        }
      },
      "source": [
        "from sklearn.metrics import roc_auc_score\n",
        "auc_score = roc_auc_score(y_val, y_pred_proba)\n",
        "auc_score"
      ],
      "execution_count": 52,
      "outputs": [
        {
          "output_type": "execute_result",
          "data": {
            "text/plain": [
              "0.8187195322308538"
            ]
          },
          "metadata": {
            "tags": []
          },
          "execution_count": 52
        }
      ]
    },
    {
      "cell_type": "markdown",
      "metadata": {
        "id": "Vz92crCkPjY4"
      },
      "source": [
        "ROC curve는 이진분류문제에서 사용할 수 있습니다. 다중분류문제에서는 각 클래스를 이진클래스 분류문제로 변환(One Vs All)하여 구할 수 있습니다.\n",
        "- 3-class(A, B, C) 문제 -> A vs (B,C), B vs (A,C), C vs (A,B) 로 나누어 수행\n"
      ]
    },
    {
      "cell_type": "markdown",
      "metadata": {
        "id": "Nev3-mF-PjY4"
      },
      "source": [
        "분류문제에서 모델을 올바르게 평가하기 위해서는 정확도 외에도 **정밀도, 재현율** 을 잘 이해하고 사용해야 한다는 것을 알았습니다. 특히 각 범주를 예측하는 기준이 되는 임계값의 위치에 따라 정밀도나 재현율이 달라지기 때문에 문제의 상황에 따라 적절한 임계값을 선택할 필요성이 있습니다. 이진 분류문제에서는 ROC curve와 AUC 점수를 잘 활용하면 좋은 결과를 만들어낼 수 있을 것 입니다.\n"
      ]
    },
    {
      "cell_type": "markdown",
      "metadata": {
        "id": "6kQvcyo0PjY5"
      },
      "source": [
        "## 참고자료\n",
        "- [Making sense of the confusion matrix\n",
        "](https://youtu.be/8Oog7TXHvFY)\n",
        "- [Machine Learning tips and tricks cheatsheet](https://stanford.edu/~shervine/teaching/cs-229/cheatsheet-machine-learning-tips-and-tricks)\n",
        "- [Understanding AUC - ROC Curve](https://towardsdatascience.com/understanding-auc-roc-curve-68b2303cc9c5#:~:text=for%20multiclass%20model%3F-,What%20is%20AUC%20%2D%20ROC%20Curve%3F,capable%20of%20distinguishing%20between%20classes.)\n",
        "- [ROC curves and Area Under the Curve explained](https://www.dataschool.io/roc-curves-and-auc-explained/)\n",
        "- [3.3.2.14. Receiver operating characteristic (ROC)](https://scikit-learn.org/stable/modules/model_evaluation.html#receiver-operating-characteristic-roc)\n",
        "- [sklearn.metrics.roc_curve](https://scikit-learn.org/stable/modules/generated/sklearn.metrics.roc_curve.html)\n",
        "- [sklearn.metrics.roc_auc_score](https://scikit-learn.org/stable/modules/generated/sklearn.metrics.roc_auc_score.html)"
      ]
    }
  ]
}